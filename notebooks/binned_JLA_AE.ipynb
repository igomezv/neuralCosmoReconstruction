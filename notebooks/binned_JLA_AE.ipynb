{
 "cells": [
  {
   "cell_type": "code",
   "execution_count": 396,
   "metadata": {},
   "outputs": [],
   "source": [
    "import numpy as np\n",
    "import tensorflow as tf\n",
    "import pandas as pd\n",
    "from sklearn.preprocessing import StandardScaler, MinMaxScaler\n",
    "from matplotlib import pyplot as plt\n",
    "import seaborn as sns\n",
    "import scipy as sp\n",
    "from tensorflow.keras.models import Model\n",
    "from tensorflow.keras.layers import Input,Conv2D,MaxPooling2D,UpSampling2D, Dense\n",
    "from tensorflow.keras.callbacks import TensorBoard\n",
    "from tensorflow.keras import regularizers\n",
    "from tensorflow.keras import layers\n",
    "from scipy.misc import derivative\n",
    "import scipy.integrate as intg\n",
    "from astroNN.nn.layers import MCDropout\n",
    "from scipy import spatial\n",
    "\n",
    "import scipy as sp"
   ]
  },
  {
   "cell_type": "markdown",
   "metadata": {},
   "source": [
    "### In this notebook, we use a compressed version of JLA compilation\n",
    "#### First, we need to read the data. In this case, we use the covariance matrix of systematic errors "
   ]
  },
  {
   "cell_type": "code",
   "execution_count": 453,
   "metadata": {},
   "outputs": [
    {
     "name": "stdout",
     "output_type": "stream",
     "text": [
      "-0.01084098704 0.02815552265 0.00039265133851975654\n",
      "(31,) (31,) (31, 31)\n"
     ]
    }
   ],
   "source": [
    "\n",
    "syscov = np.loadtxt('../data/cov_jla_binned_distances_31nodes_v1.txt',skiprows=1).reshape((31,31))\n",
    "file = '../data/jla_binned_distances_31nodes_v1.txt'\n",
    "\n",
    "# syscov = np.loadtxt('data/jla_v0_covmatrix.dat',skiprows=1).reshape((740,740))\n",
    "print(np.min(syscov), np.max(syscov), np.mean(syscov))\n",
    "nsize = len(syscov)\n",
    "\n",
    "\n",
    "data = np.loadtxt(file, skiprows=3)\n",
    "z_redshift = data[:, 0]\n",
    "dist = data[:,1]\n",
    "errors = np.diag(syscov).reshape(nsize,)\n",
    "errors_logs = np.where(errors!= 0, np.log(errors), 0)\n",
    "\n",
    "print(np.shape(data[:,1]), np.shape(errors), np.shape(syscov))"
   ]
  },
  {
   "cell_type": "code",
   "execution_count": 398,
   "metadata": {},
   "outputs": [],
   "source": [
    "scalercov = StandardScaler()\n",
    "scalercov.fit(syscov)\n",
    "syscov_sc = scalercov.transform(syscov)\n",
    "\n",
    "scalerdist = StandardScaler()\n",
    "scalerdist.fit(data[:,1].reshape(-1,1))\n",
    "dist_sc = scalerdist.transform(dist.reshape(nsize,1))\n",
    "\n",
    "scalererr = StandardScaler()\n",
    "scalererr.fit(errors.reshape(-1,1))\n",
    "errors_sc = scalererr.transform(errors.reshape(nsize,1))"
   ]
  },
  {
   "cell_type": "code",
   "execution_count": 399,
   "metadata": {},
   "outputs": [],
   "source": [
    "import math\n",
    "\n",
    "def orderMag(number):\n",
    "    if number == 0.0:\n",
    "        return 0.0\n",
    "    else:\n",
    "        return math.floor(math.log(np.abs(number), 10))\n",
    "\n",
    "def matrixMag(matrix):\n",
    "    magMatrix = np.zeros((nsize, nsize))\n",
    "    for row in range(nsize):\n",
    "        for col in range(nsize):\n",
    "            magMatrix[row, col] = 10**orderMag(matrix[row, col])\n",
    "    return magMatrix\n",
    "            \n",
    "            "
   ]
  },
  {
   "cell_type": "code",
   "execution_count": 400,
   "metadata": {},
   "outputs": [],
   "source": [
    "def matrixGenerator(omatrix, nmatrix, freq_original=100, noise_factor=0.5):\n",
    "    nsize = len(omatrix)\n",
    "    matrixset = np.zeros((nmatrix, nsize, nsize))\n",
    "    for it in range(nmatrix):\n",
    "#         perm = np.random.permutation(nsize)\n",
    "#         P = np.eye(nsize)[perm]\n",
    "        print(\"Generating matrix {}\".format(it), end='\\r')\n",
    "#         if it % freq_original ==0:\n",
    "\n",
    "#         else:\n",
    "#             m = P@omatrix@P.T\n",
    "       \n",
    "        mag = matrixMag(omatrix)\n",
    "#         m = symmetrical(m) \n",
    "        m = omatrix + np.multiply(noise_factor*np.random.rand(nsize,nsize), mag)\n",
    "#         m = symmetrical(m) \n",
    "        \n",
    "#         D, P = sp.linalg.eigh(m)\n",
    "#         D = np.diag(D)\n",
    "        \n",
    "        matrixset[it, :, :] = m\n",
    "        \n",
    "    return matrixset"
   ]
  },
  {
   "cell_type": "markdown",
   "metadata": {},
   "source": [
    "### Generate a data set with covariance matrix from the original plus gaussian noise"
   ]
  },
  {
   "cell_type": "code",
   "execution_count": 331,
   "metadata": {},
   "outputs": [
    {
     "name": "stdout",
     "output_type": "stream",
     "text": [
      "Generating matrix 999\r"
     ]
    }
   ],
   "source": [
    "numMatrix = 1000\n",
    "# covset, D = matrixGenerator3(syscov, numMatrix)\n",
    "covset = matrixGenerator(syscov, numMatrix, noise_factor=0.5)\n",
    "covset_noise = matrixGenerator(syscov, numMatrix, noise_factor=10)"
   ]
  },
  {
   "cell_type": "code",
   "execution_count": 332,
   "metadata": {},
   "outputs": [
    {
     "name": "stdout",
     "output_type": "stream",
     "text": [
      "(1000, 31, 31)\n"
     ]
    },
    {
     "data": {
      "image/png": "[encoded data removed]",
      "text/plain": [
       "<Figure size 432x288 with 2 Axes>"
      ]
     },
     "metadata": {
      "needs_background": "light"
     },
     "output_type": "display_data"
    }
   ],
   "source": [
    "print(np.shape(covset))\n",
    "split = 0.8\n",
    "ntrain = int(split * numMatrix)\n",
    "indx = [ntrain]\n",
    "covset_train, covset_test = np.split(covset, indx, axis=0)\n",
    "covset_noise_train, covset_noise_test = np.split(covset_noise, indx, axis=0)\n",
    "\n",
    "sns.heatmap(covset_noise_test[0,:,:], \n",
    "        fmt='g', xticklabels=False, yticklabels=False, \n",
    "        cmap = 'inferno', cbar=True,\n",
    "        robust=False)\n",
    "\n",
    "covset_train = covset_train.reshape((len(covset_train), np.prod(covset_train.shape[1:])))\n",
    "covset_test = covset_test.reshape((len(covset_test), np.prod(covset_test.shape[1:])))\n",
    "covset_noise_train = covset_noise_train.reshape((len(covset_noise_train), np.prod(covset_noise_train.shape[1:])))\n",
    "covset_noise_test = covset_noise_test.reshape((len(covset_noise_test), np.prod(covset_noise_test.shape[1:])))\n",
    "\n"
   ]
  },
  {
   "cell_type": "code",
   "execution_count": 341,
   "metadata": {},
   "outputs": [
    {
     "name": "stdout",
     "output_type": "stream",
     "text": [
      "Model: \"model_119\"\n",
      "_________________________________________________________________\n",
      "Layer (type)                 Output Shape              Param #   \n",
      "=================================================================\n",
      "input_87 (InputLayer)        [(None, 961)]             0         \n",
      "_________________________________________________________________\n",
      "dense_264 (Dense)            (None, 500)               481000    \n",
      "_________________________________________________________________\n",
      "dense_265 (Dense)            (None, 100)               50100     \n",
      "_________________________________________________________________\n",
      "dense_266 (Dense)            (None, 50)                5050      \n",
      "_________________________________________________________________\n",
      "dense_267 (Dense)            (None, 31)                1581      \n",
      "_________________________________________________________________\n",
      "dropout_120 (Dropout)        (None, 31)                0         \n",
      "_________________________________________________________________\n",
      "dense_268 (Dense)            (None, 50)                1600      \n",
      "_________________________________________________________________\n",
      "dense_269 (Dense)            (None, 100)               5100      \n",
      "_________________________________________________________________\n",
      "dense_270 (Dense)            (None, 500)               50500     \n",
      "_________________________________________________________________\n",
      "dense_271 (Dense)            (None, 961)               481461    \n",
      "=================================================================\n",
      "Total params: 1,076,392\n",
      "Trainable params: 1,076,392\n",
      "Non-trainable params: 0\n",
      "_________________________________________________________________\n"
     ]
    }
   ],
   "source": [
    "# input_cov = Input(shape=(31, 31, 1))\n",
    "\n",
    "# This is the size of our encoded representations\n",
    "encoding_dim = 31 \n",
    "\n",
    "# This is our input image\n",
    "input_img = tf.keras.Input(shape=(31*31,))\n",
    "# begin encoder\n",
    "x = layers.Dense(500, activation='relu')(input_img)\n",
    "# x = layers.Dropout(0.2)(x)\n",
    "x = layers.Dense(100, activation='relu')(x)\n",
    "# x = layers.Dropout(0.2)(x)\n",
    "x = layers.Dense(50, activation='relu')(x)\n",
    "# x = layers.Dropout(0.2)(x)\n",
    "encoded = layers.Dense(encoding_dim, activation='relu')(x)\n",
    "x = layers.Dropout(0.2)(encoded)\n",
    "#begin decoder\n",
    "x = layers.Dense(50, activation='relu')(x)\n",
    "# x = layers.Dropout(0.2)(x)\n",
    "x = layers.Dense(100, activation='relu')(x)\n",
    "# x = layers.Dropout(0.2)(x)\n",
    "x = layers.Dense(500, activation='relu')(x)\n",
    "# x = layers.Dropout(0.2)(x)\n",
    "decoded = layers.Dense(31*31, activation='linear')(x)\n",
    "\n",
    "\n",
    "# This model maps an input to its reconstruction\n",
    "autoencoder = tf.keras.Model(input_img, decoded)\n",
    "autoencoder.compile(optimizer='adam', loss='mean_squared_error')\n",
    "autoencoder.summary()"
   ]
  },
  {
   "cell_type": "code",
   "execution_count": 342,
   "metadata": {},
   "outputs": [],
   "source": [
    "encoder = tf.keras.Model(input_img, encoded)\n",
    "# This is our encoded (32-dimensional) input\n",
    "encoded_input = tf.keras.Input(shape=(encoding_dim,))\n",
    "\n",
    "# decoder_layer1 = autoencoder.layers[-7]\n",
    "# decoder_layer2 = autoencoder.layers[-6]\n",
    "decoder_layer1 = autoencoder.layers[-5]\n",
    "decoder_layer2 = autoencoder.layers[-4]\n",
    "decoder_layer3 = autoencoder.layers[-3]\n",
    "decoder_layer4 = autoencoder.layers[-2]\n",
    "decoder_layer5 = autoencoder.layers[-1]\n",
    "\n",
    "# create the decoder model\n",
    "decoder = Model(encoded_input, \n",
    "                decoder_layer5(\n",
    "                    decoder_layer4(decoder_layer3(\n",
    "                        decoder_layer2(decoder_layer1(encoded_input))))))"
   ]
  },
  {
   "cell_type": "code",
   "execution_count": 343,
   "metadata": {},
   "outputs": [
    {
     "name": "stdout",
     "output_type": "stream",
     "text": [
      "Epoch 1/100\n",
      "25/25 [==============================] - 0s 9ms/step - loss: 1.5116e-06 - val_loss: 1.1543e-07\n",
      "Epoch 2/100\n",
      "25/25 [==============================] - 0s 6ms/step - loss: 5.8175e-08 - val_loss: 1.8487e-08\n",
      "Epoch 3/100\n",
      "25/25 [==============================] - 0s 6ms/step - loss: 1.8169e-08 - val_loss: 1.5360e-08\n",
      "Epoch 4/100\n",
      "25/25 [==============================] - 0s 6ms/step - loss: 1.4647e-08 - val_loss: 1.4638e-08\n",
      "Epoch 5/100\n",
      "25/25 [==============================] - 0s 6ms/step - loss: 1.4527e-08 - val_loss: 1.4792e-08\n",
      "Epoch 6/100\n",
      "25/25 [==============================] - 0s 6ms/step - loss: 1.4444e-08 - val_loss: 1.4934e-08\n",
      "Epoch 7/100\n",
      "25/25 [==============================] - 0s 6ms/step - loss: 1.4242e-08 - val_loss: 1.4729e-08\n",
      "Epoch 8/100\n",
      "25/25 [==============================] - 0s 6ms/step - loss: 1.4700e-08 - val_loss: 1.4764e-08\n",
      "Epoch 9/100\n",
      "25/25 [==============================] - 0s 6ms/step - loss: 1.4671e-08 - val_loss: 1.4784e-08\n",
      "Epoch 10/100\n",
      "25/25 [==============================] - 0s 6ms/step - loss: 1.4347e-08 - val_loss: 1.4786e-08\n",
      "Epoch 11/100\n",
      "25/25 [==============================] - 0s 6ms/step - loss: 1.4650e-08 - val_loss: 1.5143e-08\n",
      "Epoch 12/100\n",
      "25/25 [==============================] - 0s 6ms/step - loss: 1.4762e-08 - val_loss: 1.4877e-08\n",
      "Epoch 13/100\n",
      "25/25 [==============================] - 0s 6ms/step - loss: 1.4788e-08 - val_loss: 1.4900e-08\n",
      "Epoch 14/100\n",
      "25/25 [==============================] - 0s 6ms/step - loss: 1.4566e-08 - val_loss: 1.4915e-08\n",
      "Epoch 15/100\n",
      "25/25 [==============================] - 0s 6ms/step - loss: 1.4914e-08 - val_loss: 1.5299e-08\n",
      "Epoch 16/100\n",
      "25/25 [==============================] - 0s 6ms/step - loss: 1.4785e-08 - val_loss: 1.5057e-08\n",
      "Epoch 17/100\n",
      "25/25 [==============================] - 0s 6ms/step - loss: 1.4511e-08 - val_loss: 1.5103e-08\n",
      "Epoch 18/100\n",
      "25/25 [==============================] - 0s 6ms/step - loss: 1.4422e-08 - val_loss: 1.5091e-08\n",
      "Epoch 19/100\n",
      "25/25 [==============================] - 0s 6ms/step - loss: 1.4737e-08 - val_loss: 1.5399e-08\n",
      "Epoch 20/100\n",
      "25/25 [==============================] - 0s 6ms/step - loss: 1.4668e-08 - val_loss: 1.5420e-08\n",
      "Epoch 21/100\n",
      "25/25 [==============================] - 0s 6ms/step - loss: 1.4884e-08 - val_loss: 1.5219e-08\n",
      "Epoch 22/100\n",
      "25/25 [==============================] - 0s 6ms/step - loss: 1.4974e-08 - val_loss: 1.4917e-08\n",
      "Epoch 23/100\n",
      "25/25 [==============================] - 0s 6ms/step - loss: 1.4971e-08 - val_loss: 1.5506e-08\n",
      "Epoch 24/100\n",
      "25/25 [==============================] - 0s 6ms/step - loss: 1.4551e-08 - val_loss: 1.5243e-08\n",
      "Epoch 25/100\n",
      "25/25 [==============================] - 0s 6ms/step - loss: 1.4969e-08 - val_loss: 1.5496e-08\n",
      "Epoch 26/100\n",
      "25/25 [==============================] - 0s 5ms/step - loss: 1.5020e-08 - val_loss: 1.4977e-08\n",
      "Epoch 27/100\n",
      "25/25 [==============================] - 0s 6ms/step - loss: 1.4818e-08 - val_loss: 1.5282e-08\n",
      "Epoch 28/100\n",
      "25/25 [==============================] - 0s 6ms/step - loss: 1.5063e-08 - val_loss: 1.5503e-08\n",
      "Epoch 29/100\n",
      "25/25 [==============================] - 0s 6ms/step - loss: 1.4857e-08 - val_loss: 1.5287e-08\n",
      "Epoch 30/100\n",
      "25/25 [==============================] - 0s 6ms/step - loss: 1.4882e-08 - val_loss: 1.5485e-08\n",
      "Epoch 31/100\n",
      "25/25 [==============================] - 0s 6ms/step - loss: 1.5052e-08 - val_loss: 1.5741e-08\n",
      "Epoch 32/100\n",
      "25/25 [==============================] - 0s 6ms/step - loss: 1.4533e-08 - val_loss: 1.5506e-08\n",
      "Epoch 33/100\n",
      "25/25 [==============================] - 0s 6ms/step - loss: 1.5287e-08 - val_loss: 1.5473e-08\n",
      "Epoch 34/100\n",
      "25/25 [==============================] - 0s 6ms/step - loss: 1.5130e-08 - val_loss: 1.5382e-08\n",
      "Epoch 35/100\n",
      "25/25 [==============================] - 0s 6ms/step - loss: 1.5305e-08 - val_loss: 1.5512e-08\n",
      "Epoch 36/100\n",
      "25/25 [==============================] - 0s 6ms/step - loss: 1.5213e-08 - val_loss: 1.5546e-08\n",
      "Epoch 37/100\n",
      "25/25 [==============================] - 0s 6ms/step - loss: 1.5119e-08 - val_loss: 1.5145e-08\n",
      "Epoch 38/100\n",
      "25/25 [==============================] - 0s 6ms/step - loss: 1.5033e-08 - val_loss: 1.5177e-08\n",
      "Epoch 39/100\n",
      "25/25 [==============================] - 0s 6ms/step - loss: 1.5365e-08 - val_loss: 1.5261e-08\n",
      "Epoch 40/100\n",
      "25/25 [==============================] - 0s 6ms/step - loss: 1.5432e-08 - val_loss: 1.5167e-08\n",
      "Epoch 41/100\n",
      "25/25 [==============================] - 0s 6ms/step - loss: 1.4802e-08 - val_loss: 1.5537e-08\n",
      "Epoch 42/100\n",
      "25/25 [==============================] - 0s 6ms/step - loss: 1.5002e-08 - val_loss: 1.5675e-08\n",
      "Epoch 43/100\n",
      "25/25 [==============================] - 0s 6ms/step - loss: 1.5553e-08 - val_loss: 1.6176e-08\n",
      "Epoch 44/100\n",
      "25/25 [==============================] - 0s 6ms/step - loss: 1.5404e-08 - val_loss: 1.5436e-08\n",
      "Epoch 45/100\n",
      "25/25 [==============================] - 0s 6ms/step - loss: 1.5101e-08 - val_loss: 1.5773e-08\n",
      "Epoch 46/100\n",
      "25/25 [==============================] - 0s 6ms/step - loss: 1.5776e-08 - val_loss: 1.5482e-08\n",
      "Epoch 47/100\n",
      "25/25 [==============================] - 0s 6ms/step - loss: 1.5117e-08 - val_loss: 1.5372e-08\n",
      "Epoch 48/100\n",
      "25/25 [==============================] - 0s 6ms/step - loss: 1.5126e-08 - val_loss: 1.5577e-08\n",
      "Epoch 49/100\n",
      "25/25 [==============================] - 0s 6ms/step - loss: 1.5234e-08 - val_loss: 1.5790e-08\n",
      "Epoch 50/100\n",
      "25/25 [==============================] - 0s 6ms/step - loss: 1.5028e-08 - val_loss: 1.5577e-08\n",
      "Epoch 51/100\n",
      "25/25 [==============================] - 0s 6ms/step - loss: 1.5171e-08 - val_loss: 1.5623e-08\n",
      "Epoch 52/100\n",
      "25/25 [==============================] - 0s 6ms/step - loss: 1.5334e-08 - val_loss: 1.5202e-08\n",
      "Epoch 53/100\n",
      "25/25 [==============================] - 0s 6ms/step - loss: 1.5108e-08 - val_loss: 1.5734e-08\n",
      "Epoch 54/100\n",
      "25/25 [==============================] - 0s 5ms/step - loss: 1.5295e-08 - val_loss: 1.5646e-08\n",
      "Epoch 55/100\n",
      "25/25 [==============================] - 0s 5ms/step - loss: 1.5478e-08 - val_loss: 1.5398e-08\n",
      "Epoch 56/100\n",
      "25/25 [==============================] - 0s 5ms/step - loss: 1.5295e-08 - val_loss: 1.5616e-08\n",
      "Epoch 57/100\n",
      "25/25 [==============================] - 0s 5ms/step - loss: 1.5307e-08 - val_loss: 1.6445e-08\n",
      "Epoch 58/100\n",
      "25/25 [==============================] - 0s 6ms/step - loss: 1.5516e-08 - val_loss: 1.5926e-08\n",
      "Epoch 59/100\n",
      "25/25 [==============================] - 0s 5ms/step - loss: 1.5389e-08 - val_loss: 1.5548e-08\n",
      "Epoch 60/100\n",
      "25/25 [==============================] - 0s 5ms/step - loss: 1.5279e-08 - val_loss: 1.6052e-08\n",
      "Epoch 61/100\n",
      "25/25 [==============================] - 0s 5ms/step - loss: 1.5941e-08 - val_loss: 1.5757e-08\n",
      "Epoch 62/100\n",
      "25/25 [==============================] - 0s 5ms/step - loss: 1.5428e-08 - val_loss: 1.6413e-08\n",
      "Epoch 63/100\n",
      "25/25 [==============================] - 0s 5ms/step - loss: 1.5512e-08 - val_loss: 1.5457e-08\n",
      "Epoch 64/100\n",
      "25/25 [==============================] - 0s 5ms/step - loss: 1.5752e-08 - val_loss: 1.6129e-08\n",
      "Epoch 65/100\n",
      "25/25 [==============================] - 0s 5ms/step - loss: 1.5389e-08 - val_loss: 1.5868e-08\n",
      "Epoch 66/100\n",
      "25/25 [==============================] - 0s 5ms/step - loss: 1.5359e-08 - val_loss: 1.5565e-08\n",
      "Epoch 67/100\n",
      "25/25 [==============================] - 0s 5ms/step - loss: 1.5200e-08 - val_loss: 1.5762e-08\n",
      "Epoch 68/100\n",
      "25/25 [==============================] - 0s 5ms/step - loss: 1.5513e-08 - val_loss: 1.5540e-08\n",
      "Epoch 69/100\n",
      "25/25 [==============================] - 0s 5ms/step - loss: 1.5291e-08 - val_loss: 1.6022e-08\n",
      "Epoch 70/100\n",
      "25/25 [==============================] - 0s 5ms/step - loss: 1.5412e-08 - val_loss: 1.5889e-08\n",
      "Epoch 71/100\n",
      "25/25 [==============================] - 0s 5ms/step - loss: 1.5962e-08 - val_loss: 1.6045e-08\n",
      "Epoch 72/100\n",
      "25/25 [==============================] - 0s 5ms/step - loss: 1.5558e-08 - val_loss: 1.5458e-08\n",
      "Epoch 73/100\n",
      "25/25 [==============================] - 0s 6ms/step - loss: 1.5871e-08 - val_loss: 1.5502e-08\n",
      "Epoch 74/100\n",
      "25/25 [==============================] - 0s 6ms/step - loss: 1.5536e-08 - val_loss: 1.6141e-08\n",
      "Epoch 75/100\n",
      "25/25 [==============================] - 0s 5ms/step - loss: 1.5621e-08 - val_loss: 1.5307e-08\n",
      "Epoch 76/100\n",
      "25/25 [==============================] - 0s 5ms/step - loss: 1.5265e-08 - val_loss: 1.6242e-08\n"
     ]
    },
    {
     "name": "stdout",
     "output_type": "stream",
     "text": [
      "Epoch 77/100\n",
      "25/25 [==============================] - 0s 5ms/step - loss: 1.5418e-08 - val_loss: 1.5694e-08\n",
      "Epoch 78/100\n",
      "25/25 [==============================] - 0s 5ms/step - loss: 1.5570e-08 - val_loss: 1.5778e-08\n",
      "Epoch 79/100\n",
      "25/25 [==============================] - 0s 5ms/step - loss: 1.5387e-08 - val_loss: 1.5932e-08\n",
      "Epoch 80/100\n",
      "25/25 [==============================] - 0s 5ms/step - loss: 1.5492e-08 - val_loss: 1.6727e-08\n",
      "Epoch 81/100\n",
      "25/25 [==============================] - 0s 5ms/step - loss: 1.6165e-08 - val_loss: 1.5812e-08\n",
      "Epoch 82/100\n",
      "25/25 [==============================] - 0s 5ms/step - loss: 1.5642e-08 - val_loss: 1.5866e-08\n",
      "Epoch 83/100\n",
      "25/25 [==============================] - 0s 5ms/step - loss: 1.5623e-08 - val_loss: 1.5924e-08\n",
      "Epoch 84/100\n",
      "25/25 [==============================] - 0s 6ms/step - loss: 1.5729e-08 - val_loss: 1.5612e-08\n",
      "Epoch 85/100\n",
      "25/25 [==============================] - 0s 5ms/step - loss: 1.5753e-08 - val_loss: 1.5781e-08\n",
      "Epoch 86/100\n",
      "25/25 [==============================] - 0s 5ms/step - loss: 1.5497e-08 - val_loss: 1.5984e-08\n",
      "Epoch 87/100\n",
      "25/25 [==============================] - 0s 5ms/step - loss: 1.5673e-08 - val_loss: 1.6245e-08\n",
      "Epoch 88/100\n",
      "25/25 [==============================] - 0s 5ms/step - loss: 1.5746e-08 - val_loss: 1.5482e-08\n",
      "Epoch 89/100\n",
      "25/25 [==============================] - 0s 5ms/step - loss: 1.5739e-08 - val_loss: 1.6443e-08\n",
      "Epoch 90/100\n",
      "25/25 [==============================] - 0s 5ms/step - loss: 1.5713e-08 - val_loss: 1.6201e-08\n",
      "Epoch 91/100\n",
      "25/25 [==============================] - 0s 5ms/step - loss: 1.5686e-08 - val_loss: 1.6604e-08\n",
      "Epoch 92/100\n",
      "25/25 [==============================] - 0s 5ms/step - loss: 1.6051e-08 - val_loss: 1.5921e-08\n",
      "Epoch 93/100\n",
      "25/25 [==============================] - 0s 5ms/step - loss: 1.5815e-08 - val_loss: 1.5709e-08\n",
      "Epoch 94/100\n",
      "25/25 [==============================] - 0s 5ms/step - loss: 1.5592e-08 - val_loss: 1.5724e-08\n",
      "Epoch 95/100\n",
      "25/25 [==============================] - 0s 5ms/step - loss: 1.5710e-08 - val_loss: 1.6079e-08\n",
      "Epoch 96/100\n",
      "25/25 [==============================] - 0s 5ms/step - loss: 1.5282e-08 - val_loss: 1.5885e-08\n",
      "Epoch 97/100\n",
      "25/25 [==============================] - 0s 5ms/step - loss: 1.5824e-08 - val_loss: 1.5811e-08\n",
      "Epoch 98/100\n",
      "25/25 [==============================] - 0s 5ms/step - loss: 1.5610e-08 - val_loss: 1.6024e-08\n",
      "Epoch 99/100\n",
      "25/25 [==============================] - 0s 5ms/step - loss: 1.5687e-08 - val_loss: 1.6036e-08\n",
      "Epoch 100/100\n",
      "25/25 [==============================] - 0s 5ms/step - loss: 1.5883e-08 - val_loss: 1.5843e-08\n"
     ]
    }
   ],
   "source": [
    "callbacks = [tf.keras.callbacks.EarlyStopping(monitor='val_loss', mode='min',\n",
    "                                   min_delta=0,\n",
    "                                   patience=10, \n",
    "                                   restore_best_weights=True)]\n",
    "\n",
    "autoencoder_train = autoencoder.fit(covset_noise_train, covset_train,\n",
    "                epochs=100,\n",
    "                batch_size=32,\n",
    "#                 shuffle=True,\n",
    "                validation_data=(covset_noise_test, covset_test))\n",
    "#                 callbacks=callbacks)\n",
    "#                 callbacks=[TensorBoard(log_dir='/tmp/autoencoder')])"
   ]
  },
  {
   "cell_type": "code",
   "execution_count": 344,
   "metadata": {},
   "outputs": [
    {
     "data": {
      "text/plain": [
       "(array([-1.e-07,  0.e+00,  1.e-07,  2.e-07,  3.e-07,  4.e-07,  5.e-07,\n",
       "         6.e-07,  7.e-07,  8.e-07]),\n",
       " [Text(0, 0, ''),\n",
       "  Text(0, 0, ''),\n",
       "  Text(0, 0, ''),\n",
       "  Text(0, 0, ''),\n",
       "  Text(0, 0, ''),\n",
       "  Text(0, 0, ''),\n",
       "  Text(0, 0, ''),\n",
       "  Text(0, 0, ''),\n",
       "  Text(0, 0, ''),\n",
       "  Text(0, 0, '')])"
      ]
     },
     "execution_count": 344,
     "metadata": {},
     "output_type": "execute_result"
    },
    {
     "data": {
      "image/png": "[encoded data removed]",
      "text/plain": [
       "<Figure size 700x400 with 1 Axes>"
      ]
     },
     "metadata": {
      "needs_background": "light"
     },
     "output_type": "display_data"
    }
   ],
   "source": [
    "plt.figure(figsize=(7, 4), dpi=100)\n",
    "\n",
    "plt.plot(autoencoder_train.history['loss'], color='r', )\n",
    "plt.plot(autoencoder_train.history['val_loss'], color='g')\n",
    "\n",
    "plt.ylabel('MSE', fontsize=11)\n",
    "plt.xlabel('Epoch', fontsize=11)\n",
    "plt.legend(['training set', 'validation set'], loc='upper right', fontsize=15)\n",
    "plt.xticks(fontsize=10)\n",
    "plt.yticks(fontsize=10)\n",
    "# plt.title('Autoencoder', fontsize=8)\n",
    "# plt.savefig('loss_binned_JLA_.png')"
   ]
  },
  {
   "cell_type": "code",
   "execution_count": 345,
   "metadata": {},
   "outputs": [
    {
     "name": "stdout",
     "output_type": "stream",
     "text": [
      "1.4637500100889154e-08 1.4390210800740988e-08\n"
     ]
    }
   ],
   "source": [
    "unet = np.sqrt(np.min(autoencoder_train.history['val_loss']))\n",
    "print(unet**2, np.min(autoencoder_train.history['loss']))"
   ]
  },
  {
   "cell_type": "code",
   "execution_count": 346,
   "metadata": {},
   "outputs": [
    {
     "name": "stdout",
     "output_type": "stream",
     "text": [
      "(200, 31)\n"
     ]
    }
   ],
   "source": [
    "encoded_imgs = encoder.predict(covset_test)\n",
    "decoded_imgs = decoder.predict(encoded_imgs)\n",
    "print(np.shape(encoded_imgs))\n",
    "df = pd.DataFrame(encoded_imgs)\n",
    "# np.min(encoded_imgs)"
   ]
  },
  {
   "cell_type": "code",
   "execution_count": 401,
   "metadata": {},
   "outputs": [
    {
     "name": "stdout",
     "output_type": "stream",
     "text": [
      "(200, 961)\n"
     ]
    },
    {
     "data": {
      "text/plain": [
       "<AxesSubplot:>"
      ]
     },
     "execution_count": 401,
     "metadata": {},
     "output_type": "execute_result"
    },
    {
     "data": {
      "image/png": "[encoded data removed]",
      "text/plain": [
       "<Figure size 432x288 with 2 Axes>"
      ]
     },
     "metadata": {
      "needs_background": "light"
     },
     "output_type": "display_data"
    }
   ],
   "source": [
    "print(np.shape(decoded_imgs))\n",
    "# m = decoded_imgs[0].reshape(31,31)@D@decoded_imgs[0].reshape(31,31).T\n",
    "# m = scalercov.inverse_transform(m)\n",
    "\n",
    "sns.heatmap(decoded_imgs[0].reshape(31,31), \n",
    "            fmt='g', xticklabels=False, yticklabels=False, \n",
    "            cmap = 'inferno', \n",
    "            robust=False)\n",
    "# plt.savefig(\"decoded_img22.png\")\n",
    "# this cov matrix work well within Bayesian inference\n",
    "# np.savetxt(\"test.dat\", decoded_imgs[0].reshape(31,31), delimiter= \" \", header=\"#fake COV\")\n"
   ]
  },
  {
   "cell_type": "code",
   "execution_count": 348,
   "metadata": {},
   "outputs": [
    {
     "data": {
      "image/png": "[encoded data removed]",
      "text/plain": [
       "<Figure size 1440x288 with 20 Axes>"
      ]
     },
     "metadata": {},
     "output_type": "display_data"
    }
   ],
   "source": [
    "n = 10  # How many digits we will display\n",
    "plt.figure(figsize=(20, 4))\n",
    "for i in range(n):\n",
    "    # Display original\n",
    "    ax = plt.subplot(2, n, i + 1)\n",
    "   \n",
    "    sns.heatmap(covset_test[i].reshape(31, 31), cbar=False, fmt='g', xticklabels=False, yticklabels=False, \n",
    "                cmap = 'inferno')\n",
    "    # Display reconstruction\n",
    "    ax = plt.subplot(2, n, i + 1 + n)\n",
    "    sns.heatmap(decoded_imgs[i].reshape(31, 31), cbar=False, fmt='g', xticklabels=False, yticklabels=False, \n",
    "                cmap = 'inferno')\n",
    "# plt.savefig('predicted_covs_binned_jla.png', dpi=200)"
   ]
  },
  {
   "cell_type": "code",
   "execution_count": 349,
   "metadata": {},
   "outputs": [],
   "source": [
    "file2 = '/home/cosmocicatais/Documents/github/neuralCosmoReconstruction/data/jla_binned_distances_31nodes_v1.txt'\n",
    "data = pd.read_csv(file2, names=['z', '$D_L$'], sep = \" \", skiprows=3)\n",
    "z = data.values[:,0]\n",
    "dl = data.values[:,1:]"
   ]
  },
  {
   "cell_type": "code",
   "execution_count": 354,
   "metadata": {},
   "outputs": [],
   "source": [
    "testmatrix = np.zeros((31,31))\n",
    "err = np.random.rand() \n",
    "for row in range(nsize):\n",
    "    for col in range(nsize):\n",
    "        if row == col:\n",
    "            testmatrix[row, col] = syscov[row, col]\n",
    "        else:\n",
    "            testmatrix[row, col] = syscov[row, col] + err*orderMag(syscov[row, col])\n",
    "\n",
    "clean_img = autoencoder.predict(testmatrix.reshape(-1, 31*31,))\n"
   ]
  },
  {
   "cell_type": "code",
   "execution_count": 355,
   "metadata": {},
   "outputs": [
    {
     "data": {
      "text/plain": [
       "<AxesSubplot:>"
      ]
     },
     "execution_count": 355,
     "metadata": {},
     "output_type": "execute_result"
    },
    {
     "data": {
      "image/png": "[encoded data removed]",
      "text/plain": [
       "<Figure size 432x288 with 2 Axes>"
      ]
     },
     "metadata": {
      "needs_background": "light"
     },
     "output_type": "display_data"
    }
   ],
   "source": [
    "# m = clean_img[0].reshape(31,31)@D@clean_img[0].reshape(31,31).T\n",
    "m = clean_img[0].reshape(31,31)\n",
    "sns.heatmap(m, \n",
    "            fmt='g', xticklabels=False, yticklabels=False, \n",
    "            cmap = 'inferno', \n",
    "            robust=False)\n"
   ]
  },
  {
   "cell_type": "code",
   "execution_count": 510,
   "metadata": {},
   "outputs": [],
   "source": [
    "np.savetxt(\"fake_binned_JLA_COVdecodedTEST1.dat\", clean_img.reshape(31,31), delimiter= \" \", header=\"#fake COV\")"
   ]
  },
  {
   "cell_type": "code",
   "execution_count": 357,
   "metadata": {},
   "outputs": [],
   "source": [
    "autoencoder.save('../models/autoencoderJLA.h5')\n",
    "decoder.save('../models/decoderJLA.h5')\n",
    "encoder.save('../models/encoderJLA.h5')"
   ]
  },
  {
   "cell_type": "markdown",
   "metadata": {},
   "source": [
    "# Loading ffnn model"
   ]
  },
  {
   "cell_type": "code",
   "execution_count": 549,
   "metadata": {},
   "outputs": [
    {
     "data": {
      "text/plain": [
       "array([0.01840386, 0.02016542, 0.02223728, 0.02467412, 0.02754021,\n",
       "       0.03091119, 0.03487598, 0.03953919, 0.04502385, 0.05147467,\n",
       "       0.05906183, 0.06798552, 0.07848116, 0.09082567, 0.10534473,\n",
       "       0.12242141, 0.14250623, 0.16612912, 0.1939133 , 0.22659183,\n",
       "       0.26502686, 0.31023243, 0.36340122, 0.425936  , 0.49948662,\n",
       "       0.58599359, 0.68773925, 0.80740798, 0.94815703, 1.1136998 ,\n",
       "       1.30840386])"
      ]
     },
     "execution_count": 549,
     "metadata": {},
     "output_type": "execute_result"
    }
   ],
   "source": [
    "# ranz = np.random.uniform(0, 1.3, (nsize,))\n",
    "# ranz = np.linspace(0.01, 1.3, 31)\n",
    "ranz = z_redshift + 0.001*np.random.rand()\n",
    "ranz"
   ]
  },
  {
   "cell_type": "code",
   "execution_count": 557,
   "metadata": {},
   "outputs": [],
   "source": [
    "# ffnn = tf.keras.models.load_model('../models/FFNN_JLA.h5')\n",
    "# ffnn_do = tf.keras.models.load_model('..models/FFNN_JLA_DO.h5', custom_objects={'MCDropout': MCDropout})\n",
    "\n",
    "\n",
    "# index = np.argsort(ranz)\n",
    "# ranz = ranz[index]\n",
    "# # ranz= z\n",
    "\n",
    "# pred_random = ffnn.predict(np.log(ranz))\n",
    "# pred_dl = pred_random[:,0].reshape(-1,1)\n",
    "\n",
    "# # pred_dl_sc = scalerdist.transform(pred_dl)\n",
    "# pred_dl_sc = pred_dl.reshape(31,)[index]\n",
    "# pred_err = np.exp(pred_random[:,1][index].reshape(-1,1))\n",
    "# dlfake = scalerdist.inverse_transform(pred_dl.reshape(31,)[index])\n",
    "\n",
    "# fake_data = np.stack((ranz[index], dlfake[index]), axis=1)\n",
    "\n",
    "# np.savetxt(\"fake_binned_JLA2TEST3new.dat\",  fake_data, delimiter= \" \", header=\"#fake data\\n# z\\n# mu\", fmt='%1.9f')"
   ]
  },
  {
   "cell_type": "code",
   "execution_count": 559,
   "metadata": {},
   "outputs": [
    {
     "data": {
      "text/plain": [
       "<matplotlib.legend.Legend at 0x7f51640bdb50>"
      ]
     },
     "execution_count": 559,
     "metadata": {},
     "output_type": "execute_result"
    },
    {
     "data": {
      "image/png": "[encoded data removed]",
      "text/plain": [
       "<Figure size 500x300 with 1 Axes>"
      ]
     },
     "metadata": {
      "needs_background": "light"
     },
     "output_type": "display_data"
    }
   ],
   "source": [
    "data = np.loadtxt(\"fake_binned_JLA2TEST3new.dat\")\n",
    "ranz = data[:,0]\n",
    "dlfake = data[:,1]\n",
    "plt.figure(figsize=(5, 3), dpi=100)\n",
    "\n",
    "plt.scatter(z, dl, c='g', label='Observations')\n",
    "plt.scatter(ranz, dlfake, c='r', label='Synthetic data', marker='*')\n",
    "\n",
    "plt.ylabel(\"$D_L(z)$\")\n",
    "# plt.xlim(-0.1, np.max(z)+0.2)\n",
    "plt.tight_layout()\n",
    "plt.legend()\n",
    "# plt.savefig('rec_jla_ffnn.png')"
   ]
  },
  {
   "cell_type": "code",
   "execution_count": 552,
   "metadata": {},
   "outputs": [
    {
     "data": {
      "text/plain": [
       "(29.523144028776333, 327)"
      ]
     },
     "execution_count": 552,
     "metadata": {},
     "output_type": "execute_result"
    }
   ],
   "source": [
    "diagmat_err = np.zeros((31,31))\n",
    "for row in range(nsize):\n",
    "    for col in range(nsize):\n",
    "        if row == col:\n",
    "            diagmat_err[row, col] = pred_err[row]\n",
    "\n",
    "diagmat_err = scalercov.transform(diagmat_err)\n",
    "diagmat_err = np.diag(diagmat_err)\n",
    "\n",
    "diags = [np.diag(matrix) for matrix in covset_noise]\n",
    "tree = spatial.KDTree(diags)\n",
    "distance, index = tree.query(diagmat_err)\n",
    "distance, index "
   ]
  },
  {
   "cell_type": "code",
   "execution_count": 553,
   "metadata": {},
   "outputs": [],
   "source": [
    "diagmat_err = np.zeros((31,31))\n",
    "for row in range(nsize):\n",
    "    for col in range(nsize):\n",
    "        if row == col:\n",
    "            diagmat_err[row, col] = pred_err[row]\n",
    "        else:\n",
    "            diagmat_err[row, col] = covset_noise[index, row, col]"
   ]
  },
  {
   "cell_type": "code",
   "execution_count": 554,
   "metadata": {},
   "outputs": [
    {
     "data": {
      "text/plain": [
       "Text(0.5, 1.0, 'nearest covset_test matrix DECODED')"
      ]
     },
     "execution_count": 554,
     "metadata": {},
     "output_type": "execute_result"
    },
    {
     "data": {
      "image/png": "[encoded data removed]",
      "text/plain": [
       "<Figure size 432x288 with 2 Axes>"
      ]
     },
     "metadata": {
      "needs_background": "light"
     },
     "output_type": "display_data"
    }
   ],
   "source": [
    "# cod = encoder.predict(covset[index,:,:].reshape(-1,31*31))\n",
    "cod = encoder.predict(diagmat_err.reshape(-1,31*31))\n",
    "covpred = decoder.predict(cod)\n",
    "\n",
    "sns.heatmap(covpred.reshape(31,31), \n",
    "# sns.heatmap(covset_noise[index].reshape(31,31), \n",
    "            fmt='g', xticklabels=False, yticklabels=False, \n",
    "            cmap = 'inferno', \n",
    "            robust=False)\n",
    "plt.title('nearest covset_test matrix DECODED')"
   ]
  },
  {
   "cell_type": "code",
   "execution_count": 556,
   "metadata": {},
   "outputs": [],
   "source": [
    "np.savetxt(\"fake_binned_JLA_COVdecodedTEST3vae_new.dat\", covpred.reshape(31,31), delimiter= \" \", header=\"#fake COV\")\n",
    "# np.savetxt(\"fake_binned_JLA_COVdecodedTEST3ae.dat\", covset[index,:,:].reshape(31,31), delimiter= \" \", header=\"#fake COV\")"
   ]
  },
  {
   "cell_type": "code",
   "execution_count": null,
   "metadata": {},
   "outputs": [],
   "source": []
  },
  {
   "cell_type": "code",
   "execution_count": null,
   "metadata": {},
   "outputs": [],
   "source": []
  }
 ],
 "metadata": {
  "kernelspec": {
   "display_name": "Python 3",
   "language": "python",
   "name": "python3"
  },
  "language_info": {
   "codemirror_mode": {
    "name": "ipython",
    "version": 3
   },
   "file_extension": ".py",
   "mimetype": "text/x-python",
   "name": "python",
   "nbconvert_exporter": "python",
   "pygments_lexer": "ipython3",
   "version": "3.8.5"
  }
 },
 "nbformat": 4,
 "nbformat_minor": 2
}
