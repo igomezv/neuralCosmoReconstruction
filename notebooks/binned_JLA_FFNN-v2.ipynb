{
 "cells": [
  {
   "cell_type": "code",
   "execution_count": 1,
   "metadata": {},
   "outputs": [],
   "source": [
    "import numpy as np\n",
    "import tensorflow as tf\n",
    "import pandas as pd\n",
    "from sklearn.preprocessing import StandardScaler, MinMaxScaler\n",
    "from matplotlib import pyplot as plt\n",
    "import seaborn as sns\n",
    "import scipy as sp\n",
    "from tensorflow.keras.models import Model\n",
    "from tensorflow.keras.layers import Input,Conv2D,MaxPooling2D,UpSampling2D, Dense\n",
    "from tensorflow.keras.callbacks import TensorBoard\n",
    "from tensorflow.keras import regularizers\n",
    "from tensorflow.keras import layers\n",
    "from scipy.misc import derivative\n",
    "import scipy.integrate as intg\n",
    "import scipy as sp"
   ]
  },
  {
   "cell_type": "markdown",
   "metadata": {},
   "source": [
    "### Now we train another neural network for z and $D_L(z)$"
   ]
  },
  {
   "cell_type": "code",
   "execution_count": 2,
   "metadata": {},
   "outputs": [
    {
     "data": {
      "text/plain": [
       "(31, 31)"
      ]
     },
     "execution_count": 2,
     "metadata": {},
     "output_type": "execute_result"
    }
   ],
   "source": [
    "file = '../data/jla_binned_distances_31nodes_v1.txt'\n",
    "\n",
    "# filefull = '/home/cosmocicatais/Documents/github/neuralCosmoReconstruction/data/jla_lcparams.txt'\n",
    "syscov = np.loadtxt('../data/cov_jla_binned_distances_31nodes_v1.txt',skiprows=1).reshape((31,31))\n",
    "# syscov = np.loadtxt('../data/jla_v0_covmatrix.dat',skiprows=1).reshape((740,740))\n",
    "# data = pd.read_csv(file2, names=['z', '$D_L$'], sep = \" \", skiprows=3)\n",
    "# data = np.loadtxt(file, usecols=[1,4], skiprows=1)\n",
    "data = np.loadtxt(file, skiprows=3)\n",
    "nsize = len(syscov)\n",
    "# print(data.head(31))\n",
    "# data.head(31) \n",
    "# plt.savefig(\"DistbinnedJLA.png\")\n",
    "np.shape(syscov)\n",
    "\n",
    "errors = np.diag(syscov).reshape(nsize,1)\n",
    "errors = np.where(errors!= 0, np.log(errors), 0)\n",
    "np.shape(errors)\n",
    "len(data), len(errors)"
   ]
  },
  {
   "cell_type": "code",
   "execution_count": 3,
   "metadata": {},
   "outputs": [
    {
     "data": {
      "text/plain": [
       "(31, 31, 31)"
      ]
     },
     "execution_count": 3,
     "metadata": {},
     "output_type": "execute_result"
    }
   ],
   "source": [
    "# shuffle = [x for x in range(len(data)) if x%2 == 0]\n",
    "# comp = [x for x in range(len(data)) if x%2 ==1]\n",
    "# shuffle.extend(comp)\n",
    "\n",
    "shuffle = [0,30,1,2,3,4,5,6,7,8,28,26,24,22,20,9,10,12,14,16,18,29,27,25,23,21,19,17,15,13,11]\n",
    "data = data[shuffle]\n",
    "\n",
    "errors= errors[shuffle]\n",
    "len(data), len(errors), len(shuffle)"
   ]
  },
  {
   "cell_type": "code",
   "execution_count": 4,
   "metadata": {},
   "outputs": [
    {
     "data": {
      "text/plain": [
       "((31,), (31,), (31, 1), 31)"
      ]
     },
     "execution_count": 4,
     "metadata": {},
     "output_type": "execute_result"
    }
   ],
   "source": [
    "dl = data[:,1]\n",
    "z = data[:,0]\n",
    "np.shape(z), np.shape(dl), np.shape(errors), len(data)"
   ]
  },
  {
   "cell_type": "code",
   "execution_count": 5,
   "metadata": {},
   "outputs": [],
   "source": [
    "split = 0.8\n",
    "ntrain = int(split * len(z))\n",
    "indx = [ntrain]\n",
    "\n",
    "zz = np.log10(z)\n",
    "# scalerz = MinMaxScaler(feature_range=(-1,1))\n",
    "# scalerz.fit(z.reshape(-1, 1))\n",
    "# zz = scalerz.transform(z.reshape((-1,1)))\n",
    "# zz=z\n",
    "\n",
    "scalerdl = StandardScaler()\n",
    "# scalerdl = MinMaxScaler(feature_range=(0,1))\n",
    "scalerdl.fit(dl.reshape(-1, 1))\n",
    "dll = scalerdl.transform(dl.reshape((-1,1)))\n",
    "# dll = dl.reshape(nsize, 1)\n",
    "# scalererr = StandardScaler()\n",
    "# scalererr.fit(errors.reshape(-1, 1))\n",
    "# errscl = scalererr.transform(errors.reshape((-1,1)))\n",
    "\n",
    "z_train, z_test = np.split(zz, indx)\n",
    "y = dll\n",
    "# y = np.concatenate((dll, errors), axis=1)\n",
    "y_train, y_test = np.split(y, indx)\n",
    "# dll"
   ]
  },
  {
   "cell_type": "code",
   "execution_count": 6,
   "metadata": {},
   "outputs": [
    {
     "name": "stdout",
     "output_type": "stream",
     "text": [
      "Model: \"model\"\n",
      "_________________________________________________________________\n",
      "Layer (type)                 Output Shape              Param #   \n",
      "=================================================================\n",
      "input_1 (InputLayer)         [(None, 1)]               0         \n",
      "_________________________________________________________________\n",
      "dense (Dense)                (None, 100)               200       \n",
      "_________________________________________________________________\n",
      "dense_1 (Dense)              (None, 1)                 101       \n",
      "=================================================================\n",
      "Total params: 301\n",
      "Trainable params: 301\n",
      "Non-trainable params: 0\n",
      "_________________________________________________________________\n"
     ]
    }
   ],
   "source": [
    "def model(input_z):\n",
    "    efirst = Dense(100,activation='relu', input_shape=(1,))(input_z)\n",
    "#     x = Dense(100, activation='relu')(efirst)\n",
    "\n",
    "\n",
    "    elast = Dense(1,activation='linear')(efirst)\n",
    "    return elast\n",
    "\n",
    "batch_size = 1\n",
    "epochs = 150\n",
    "# epochs = 500\n",
    "input_z = Input(shape = (1,))\n",
    "neural_model = Model(input_z, model(input_z))\n",
    "neural_model.compile(loss='mean_squared_error', optimizer = \"adam\")\n",
    "neural_model.summary()\n"
   ]
  },
  {
   "cell_type": "code",
   "execution_count": 7,
   "metadata": {},
   "outputs": [
    {
     "name": "stdout",
     "output_type": "stream",
     "text": [
      "Epoch 1/150\n",
      "24/24 [==============================] - 0s 10ms/step - loss: 0.9502 - val_loss: 0.3371\n",
      "Epoch 2/150\n",
      "24/24 [==============================] - 0s 1ms/step - loss: 0.6958 - val_loss: 0.3572\n",
      "Epoch 3/150\n",
      "24/24 [==============================] - 0s 1ms/step - loss: 0.5684 - val_loss: 0.3552\n",
      "Epoch 4/150\n",
      "24/24 [==============================] - 0s 1ms/step - loss: 0.6705 - val_loss: 0.3162\n",
      "Epoch 5/150\n",
      "24/24 [==============================] - 0s 1ms/step - loss: 0.4723 - val_loss: 0.2666\n",
      "Epoch 6/150\n",
      "24/24 [==============================] - 0s 1ms/step - loss: 0.5013 - val_loss: 0.2179\n",
      "Epoch 7/150\n",
      "24/24 [==============================] - 0s 1ms/step - loss: 0.3316 - val_loss: 0.1564\n",
      "Epoch 8/150\n",
      "24/24 [==============================] - 0s 1ms/step - loss: 0.3964 - val_loss: 0.1056\n",
      "Epoch 9/150\n",
      "24/24 [==============================] - 0s 1ms/step - loss: 0.2337 - val_loss: 0.0615\n",
      "Epoch 10/150\n",
      "24/24 [==============================] - 0s 1ms/step - loss: 0.1095 - val_loss: 0.0259\n",
      "Epoch 11/150\n",
      "24/24 [==============================] - 0s 1ms/step - loss: 0.1052 - val_loss: 0.0145\n",
      "Epoch 12/150\n",
      "24/24 [==============================] - 0s 1ms/step - loss: 0.0461 - val_loss: 0.0037\n",
      "Epoch 13/150\n",
      "24/24 [==============================] - 0s 1ms/step - loss: 0.0102 - val_loss: 0.0011\n",
      "Epoch 14/150\n",
      "24/24 [==============================] - 0s 1ms/step - loss: 0.0204 - val_loss: 2.7754e-04\n",
      "Epoch 15/150\n",
      "24/24 [==============================] - 0s 1ms/step - loss: 0.0148 - val_loss: 7.4833e-04\n",
      "Epoch 16/150\n",
      "24/24 [==============================] - 0s 1ms/step - loss: 0.0103 - val_loss: 0.0012\n",
      "Epoch 17/150\n",
      "24/24 [==============================] - 0s 1ms/step - loss: 0.0093 - val_loss: 0.0016\n",
      "Epoch 18/150\n",
      "24/24 [==============================] - 0s 1ms/step - loss: 0.0042 - val_loss: 0.0016\n",
      "Epoch 19/150\n",
      "24/24 [==============================] - 0s 1ms/step - loss: 0.0104 - val_loss: 0.0013\n",
      "Epoch 20/150\n",
      "24/24 [==============================] - 0s 1ms/step - loss: 0.0055 - val_loss: 0.0014\n",
      "Epoch 21/150\n",
      "24/24 [==============================] - 0s 1ms/step - loss: 0.0026 - val_loss: 9.6191e-04\n",
      "Epoch 22/150\n",
      "24/24 [==============================] - 0s 1ms/step - loss: 0.0046 - val_loss: 8.7127e-04\n",
      "Epoch 23/150\n",
      "24/24 [==============================] - 0s 1ms/step - loss: 0.0031 - val_loss: 0.0010\n",
      "Epoch 24/150\n",
      "24/24 [==============================] - 0s 1ms/step - loss: 0.0018 - val_loss: 6.9835e-04\n",
      "Epoch 25/150\n",
      "24/24 [==============================] - 0s 1ms/step - loss: 0.0041 - val_loss: 7.4988e-04\n",
      "Epoch 26/150\n",
      "24/24 [==============================] - 0s 1ms/step - loss: 0.0019 - val_loss: 5.6726e-04\n",
      "Epoch 27/150\n",
      "24/24 [==============================] - 0s 1ms/step - loss: 0.0014 - val_loss: 5.0721e-04\n",
      "Epoch 28/150\n",
      "24/24 [==============================] - 0s 1ms/step - loss: 0.0028 - val_loss: 4.1952e-04\n",
      "Epoch 29/150\n",
      "24/24 [==============================] - 0s 1ms/step - loss: 0.0036 - val_loss: 3.3193e-04\n",
      "Epoch 30/150\n",
      "24/24 [==============================] - 0s 1ms/step - loss: 0.0018 - val_loss: 3.0323e-04\n",
      "Epoch 31/150\n",
      "24/24 [==============================] - 0s 1ms/step - loss: 0.0037 - val_loss: 5.6013e-04\n",
      "Epoch 32/150\n",
      "24/24 [==============================] - 0s 1ms/step - loss: 0.0021 - val_loss: 4.2066e-04\n",
      "Epoch 33/150\n",
      "24/24 [==============================] - 0s 1ms/step - loss: 0.0034 - val_loss: 2.5663e-04\n",
      "Epoch 34/150\n",
      "24/24 [==============================] - 0s 1ms/step - loss: 0.0021 - val_loss: 1.6913e-04\n",
      "Epoch 35/150\n",
      "24/24 [==============================] - 0s 1ms/step - loss: 0.0024 - val_loss: 1.6407e-04\n",
      "Epoch 36/150\n",
      "24/24 [==============================] - 0s 1ms/step - loss: 0.0029 - val_loss: 3.9676e-04\n",
      "Epoch 37/150\n",
      "24/24 [==============================] - 0s 1ms/step - loss: 0.0018 - val_loss: 4.7305e-04\n",
      "Epoch 38/150\n",
      "24/24 [==============================] - 0s 1ms/step - loss: 0.0028 - val_loss: 3.8644e-04\n",
      "Epoch 39/150\n",
      "24/24 [==============================] - 0s 1ms/step - loss: 0.0040 - val_loss: 4.1313e-04\n",
      "Epoch 40/150\n",
      "24/24 [==============================] - 0s 1ms/step - loss: 0.0020 - val_loss: 8.9995e-05\n",
      "Epoch 41/150\n",
      "24/24 [==============================] - 0s 1ms/step - loss: 0.0017 - val_loss: 1.1022e-04\n",
      "Epoch 42/150\n",
      "24/24 [==============================] - 0s 1ms/step - loss: 0.0034 - val_loss: 6.7996e-05\n",
      "Epoch 43/150\n",
      "24/24 [==============================] - 0s 1ms/step - loss: 0.0019 - val_loss: 6.2693e-04\n",
      "Epoch 44/150\n",
      "24/24 [==============================] - 0s 1ms/step - loss: 0.0017 - val_loss: 1.8918e-04\n",
      "Epoch 45/150\n",
      "24/24 [==============================] - 0s 1ms/step - loss: 0.0014 - val_loss: 2.3367e-04\n",
      "Epoch 46/150\n",
      "24/24 [==============================] - 0s 1ms/step - loss: 0.0014 - val_loss: 1.0367e-04\n",
      "Epoch 47/150\n",
      "24/24 [==============================] - 0s 1ms/step - loss: 0.0016 - val_loss: 2.2316e-04\n",
      "Epoch 48/150\n",
      "24/24 [==============================] - 0s 1ms/step - loss: 0.0017 - val_loss: 1.6839e-04\n",
      "Epoch 49/150\n",
      "24/24 [==============================] - 0s 1ms/step - loss: 0.0018 - val_loss: 2.2289e-04\n",
      "Epoch 50/150\n",
      "24/24 [==============================] - 0s 1ms/step - loss: 0.0015 - val_loss: 2.0465e-04\n",
      "Epoch 51/150\n",
      "24/24 [==============================] - 0s 1ms/step - loss: 0.0031 - val_loss: 1.3080e-04\n",
      "Epoch 52/150\n",
      "24/24 [==============================] - 0s 1ms/step - loss: 0.0019 - val_loss: 2.3735e-04\n",
      "Epoch 53/150\n",
      "24/24 [==============================] - 0s 1ms/step - loss: 0.0017 - val_loss: 8.2732e-05\n",
      "Epoch 54/150\n",
      "24/24 [==============================] - 0s 1ms/step - loss: 0.0018 - val_loss: 8.5657e-05\n",
      "Epoch 55/150\n",
      "24/24 [==============================] - 0s 1ms/step - loss: 0.0014 - val_loss: 1.4890e-04\n",
      "Epoch 56/150\n",
      "24/24 [==============================] - 0s 1ms/step - loss: 0.0021 - val_loss: 0.0010\n",
      "Epoch 57/150\n",
      "24/24 [==============================] - 0s 1ms/step - loss: 0.0032 - val_loss: 7.6329e-04\n",
      "Epoch 58/150\n",
      "24/24 [==============================] - 0s 1ms/step - loss: 0.0022 - val_loss: 0.0015\n",
      "Epoch 59/150\n",
      "24/24 [==============================] - 0s 1ms/step - loss: 0.0019 - val_loss: 1.0131e-04\n",
      "Epoch 60/150\n",
      "24/24 [==============================] - 0s 1ms/step - loss: 0.0020 - val_loss: 0.0013\n",
      "Epoch 61/150\n",
      "24/24 [==============================] - 0s 1ms/step - loss: 0.0018 - val_loss: 0.0017\n",
      "Epoch 62/150\n",
      "24/24 [==============================] - 0s 1ms/step - loss: 0.0025 - val_loss: 2.0839e-04\n",
      "Epoch 63/150\n",
      "24/24 [==============================] - 0s 1ms/step - loss: 0.0023 - val_loss: 0.0013\n",
      "Epoch 64/150\n",
      "24/24 [==============================] - 0s 1ms/step - loss: 0.0036 - val_loss: 1.5436e-04\n",
      "Epoch 65/150\n",
      "24/24 [==============================] - 0s 1ms/step - loss: 0.0021 - val_loss: 1.6270e-04\n",
      "Epoch 66/150\n",
      "24/24 [==============================] - 0s 1ms/step - loss: 0.0013 - val_loss: 2.8598e-04\n",
      "Epoch 67/150\n",
      "24/24 [==============================] - 0s 1ms/step - loss: 0.0024 - val_loss: 1.4255e-04\n",
      "Epoch 68/150\n",
      "24/24 [==============================] - 0s 1ms/step - loss: 0.0019 - val_loss: 1.7584e-04\n",
      "Epoch 69/150\n",
      "24/24 [==============================] - 0s 1ms/step - loss: 0.0028 - val_loss: 4.8013e-04\n",
      "Epoch 70/150\n",
      "24/24 [==============================] - 0s 1ms/step - loss: 0.0013 - val_loss: 1.8960e-04\n",
      "Epoch 71/150\n",
      "24/24 [==============================] - 0s 1ms/step - loss: 0.0014 - val_loss: 1.7755e-04\n",
      "Epoch 72/150\n",
      "24/24 [==============================] - 0s 1ms/step - loss: 0.0031 - val_loss: 4.0245e-04\n",
      "Epoch 73/150\n",
      "24/24 [==============================] - 0s 1ms/step - loss: 0.0015 - val_loss: 2.2422e-04\n",
      "Epoch 74/150\n",
      "24/24 [==============================] - 0s 1ms/step - loss: 0.0019 - val_loss: 3.6102e-04\n",
      "Epoch 75/150\n",
      "24/24 [==============================] - 0s 1ms/step - loss: 0.0014 - val_loss: 1.8110e-04\n",
      "Epoch 76/150\n",
      "24/24 [==============================] - 0s 1ms/step - loss: 0.0019 - val_loss: 4.8159e-04\n",
      "Epoch 77/150\n",
      "24/24 [==============================] - 0s 1ms/step - loss: 0.0014 - val_loss: 4.3381e-04\n",
      "Epoch 78/150\n",
      "24/24 [==============================] - 0s 1ms/step - loss: 0.0016 - val_loss: 1.7918e-04\n",
      "Epoch 79/150\n",
      "24/24 [==============================] - 0s 1ms/step - loss: 0.0023 - val_loss: 1.9457e-04\n",
      "Epoch 80/150\n",
      "24/24 [==============================] - 0s 1ms/step - loss: 0.0015 - val_loss: 1.7697e-04\n"
     ]
    },
    {
     "name": "stdout",
     "output_type": "stream",
     "text": [
      "Epoch 81/150\n",
      "24/24 [==============================] - 0s 1ms/step - loss: 0.0015 - val_loss: 9.3126e-04\n",
      "Epoch 82/150\n",
      "24/24 [==============================] - 0s 1ms/step - loss: 0.0014 - val_loss: 1.8753e-04\n",
      "Epoch 83/150\n",
      "24/24 [==============================] - 0s 1ms/step - loss: 8.5965e-04 - val_loss: 4.6007e-04\n",
      "Epoch 84/150\n",
      "24/24 [==============================] - 0s 1ms/step - loss: 0.0014 - val_loss: 0.0012\n",
      "Epoch 85/150\n",
      "24/24 [==============================] - 0s 1ms/step - loss: 0.0010 - val_loss: 2.2159e-04\n",
      "Epoch 86/150\n",
      "24/24 [==============================] - 0s 1ms/step - loss: 0.0017 - val_loss: 2.5081e-04\n",
      "Epoch 87/150\n",
      "24/24 [==============================] - 0s 1ms/step - loss: 0.0014 - val_loss: 1.7979e-04\n",
      "Epoch 88/150\n",
      "24/24 [==============================] - 0s 1ms/step - loss: 7.0824e-04 - val_loss: 2.9167e-04\n",
      "Epoch 89/150\n",
      "24/24 [==============================] - 0s 1ms/step - loss: 0.0020 - val_loss: 2.6639e-04\n",
      "Epoch 90/150\n",
      "24/24 [==============================] - 0s 1ms/step - loss: 0.0012 - val_loss: 3.0215e-04\n",
      "Epoch 91/150\n",
      "24/24 [==============================] - 0s 1ms/step - loss: 0.0015 - val_loss: 1.9943e-04\n",
      "Epoch 92/150\n",
      "24/24 [==============================] - 0s 1ms/step - loss: 0.0011 - val_loss: 2.5538e-04\n",
      "Epoch 93/150\n",
      "24/24 [==============================] - 0s 1ms/step - loss: 8.1055e-04 - val_loss: 2.4733e-04\n",
      "Epoch 94/150\n",
      "24/24 [==============================] - 0s 1ms/step - loss: 8.3584e-04 - val_loss: 4.6206e-04\n",
      "Epoch 95/150\n",
      "24/24 [==============================] - 0s 1ms/step - loss: 8.9617e-04 - val_loss: 1.9264e-04\n",
      "Epoch 96/150\n",
      "24/24 [==============================] - 0s 1ms/step - loss: 0.0013 - val_loss: 2.0701e-04\n",
      "Epoch 97/150\n",
      "24/24 [==============================] - 0s 1ms/step - loss: 6.4852e-04 - val_loss: 1.8725e-04\n",
      "Epoch 98/150\n",
      "24/24 [==============================] - 0s 1ms/step - loss: 5.6184e-04 - val_loss: 2.0755e-04\n",
      "Epoch 99/150\n",
      "24/24 [==============================] - 0s 1ms/step - loss: 0.0015 - val_loss: 2.4572e-04\n",
      "Epoch 100/150\n",
      "24/24 [==============================] - 0s 1ms/step - loss: 9.5154e-04 - val_loss: 6.8049e-04\n",
      "Epoch 101/150\n",
      "24/24 [==============================] - 0s 1ms/step - loss: 9.3451e-04 - val_loss: 2.0452e-04\n",
      "Epoch 102/150\n",
      "24/24 [==============================] - 0s 1ms/step - loss: 0.0011 - val_loss: 1.9685e-04\n",
      "Epoch 103/150\n",
      "24/24 [==============================] - 0s 1ms/step - loss: 0.0013 - val_loss: 4.5469e-04\n",
      "Epoch 104/150\n",
      "24/24 [==============================] - 0s 1ms/step - loss: 0.0020 - val_loss: 2.9526e-04\n",
      "Epoch 105/150\n",
      "24/24 [==============================] - 0s 1ms/step - loss: 7.0658e-04 - val_loss: 2.1810e-04\n",
      "Epoch 106/150\n",
      "24/24 [==============================] - 0s 1ms/step - loss: 0.0014 - val_loss: 6.0884e-04\n",
      "Epoch 107/150\n",
      "24/24 [==============================] - 0s 1ms/step - loss: 8.6928e-04 - val_loss: 9.1975e-04\n",
      "Epoch 108/150\n",
      "24/24 [==============================] - 0s 1ms/step - loss: 0.0010 - val_loss: 0.0013\n",
      "Epoch 109/150\n",
      "24/24 [==============================] - 0s 1ms/step - loss: 0.0018 - val_loss: 1.9171e-04\n",
      "Epoch 110/150\n",
      "24/24 [==============================] - 0s 1ms/step - loss: 5.1508e-04 - val_loss: 2.9830e-04\n",
      "Epoch 111/150\n",
      "24/24 [==============================] - 0s 1ms/step - loss: 0.0016 - val_loss: 0.0012\n",
      "Epoch 112/150\n",
      "24/24 [==============================] - 0s 1ms/step - loss: 0.0013 - val_loss: 9.8772e-04\n",
      "Epoch 113/150\n",
      "24/24 [==============================] - 0s 1ms/step - loss: 0.0029 - val_loss: 2.0324e-04\n",
      "Epoch 114/150\n",
      "24/24 [==============================] - 0s 1ms/step - loss: 0.0012 - val_loss: 3.1550e-04\n",
      "Epoch 115/150\n",
      "24/24 [==============================] - 0s 1ms/step - loss: 7.0318e-04 - val_loss: 6.4408e-04\n",
      "Epoch 116/150\n",
      "24/24 [==============================] - 0s 1ms/step - loss: 0.0025 - val_loss: 1.8611e-04\n",
      "Epoch 117/150\n",
      "24/24 [==============================] - 0s 1ms/step - loss: 9.4039e-04 - val_loss: 8.6460e-04\n",
      "Epoch 118/150\n",
      "24/24 [==============================] - 0s 1ms/step - loss: 0.0017 - val_loss: 2.0956e-04\n",
      "Epoch 119/150\n",
      "24/24 [==============================] - 0s 1ms/step - loss: 0.0016 - val_loss: 2.2343e-04\n",
      "Epoch 120/150\n",
      "24/24 [==============================] - 0s 1ms/step - loss: 0.0023 - val_loss: 3.0097e-04\n",
      "Epoch 121/150\n",
      "24/24 [==============================] - 0s 1ms/step - loss: 8.7185e-04 - val_loss: 2.1305e-04\n",
      "Epoch 122/150\n",
      "24/24 [==============================] - 0s 1ms/step - loss: 0.0011 - val_loss: 2.3077e-04\n",
      "Epoch 123/150\n",
      "24/24 [==============================] - 0s 1ms/step - loss: 6.7313e-04 - val_loss: 6.4985e-04\n",
      "Epoch 124/150\n",
      "24/24 [==============================] - 0s 1ms/step - loss: 0.0015 - val_loss: 5.7101e-04\n",
      "Epoch 125/150\n",
      "24/24 [==============================] - 0s 1ms/step - loss: 5.8394e-04 - val_loss: 3.3649e-04\n",
      "Epoch 126/150\n",
      "24/24 [==============================] - 0s 1ms/step - loss: 0.0041 - val_loss: 4.9701e-04\n",
      "Epoch 127/150\n",
      "24/24 [==============================] - 0s 1ms/step - loss: 0.0012 - val_loss: 1.8560e-04\n",
      "Epoch 128/150\n",
      "24/24 [==============================] - 0s 1ms/step - loss: 0.0013 - val_loss: 2.7152e-04\n",
      "Epoch 129/150\n",
      "24/24 [==============================] - 0s 1ms/step - loss: 0.0022 - val_loss: 3.0814e-04\n",
      "Epoch 130/150\n",
      "24/24 [==============================] - 0s 1ms/step - loss: 0.0020 - val_loss: 4.2129e-04\n",
      "Epoch 131/150\n",
      "24/24 [==============================] - 0s 1ms/step - loss: 0.0010 - val_loss: 2.5788e-04\n",
      "Epoch 132/150\n",
      "24/24 [==============================] - 0s 1ms/step - loss: 6.3487e-04 - val_loss: 2.6926e-04\n",
      "Epoch 133/150\n",
      "24/24 [==============================] - 0s 1ms/step - loss: 0.0011 - val_loss: 0.0015\n",
      "Epoch 134/150\n",
      "24/24 [==============================] - 0s 1ms/step - loss: 0.0024 - val_loss: 9.9156e-04\n",
      "Epoch 135/150\n",
      "24/24 [==============================] - 0s 1ms/step - loss: 0.0019 - val_loss: 5.4851e-04\n",
      "Epoch 136/150\n",
      "24/24 [==============================] - 0s 1ms/step - loss: 0.0014 - val_loss: 3.7386e-04\n",
      "Epoch 137/150\n",
      "24/24 [==============================] - 0s 1ms/step - loss: 5.9869e-04 - val_loss: 3.9259e-04\n",
      "Epoch 138/150\n",
      "24/24 [==============================] - 0s 1ms/step - loss: 0.0024 - val_loss: 8.4576e-04\n",
      "Epoch 139/150\n",
      "24/24 [==============================] - 0s 1ms/step - loss: 0.0019 - val_loss: 6.1043e-04\n",
      "Epoch 140/150\n",
      "24/24 [==============================] - 0s 1ms/step - loss: 0.0017 - val_loss: 2.0231e-04\n",
      "Epoch 141/150\n",
      "24/24 [==============================] - 0s 1ms/step - loss: 0.0017 - val_loss: 2.0945e-04\n",
      "Epoch 142/150\n",
      "24/24 [==============================] - 0s 1ms/step - loss: 9.3398e-04 - val_loss: 0.0011\n",
      "Epoch 143/150\n",
      "24/24 [==============================] - 0s 1ms/step - loss: 0.0022 - val_loss: 2.1130e-04\n",
      "Epoch 144/150\n",
      "24/24 [==============================] - 0s 1ms/step - loss: 0.0014 - val_loss: 3.2068e-04\n",
      "Epoch 145/150\n",
      "24/24 [==============================] - 0s 1ms/step - loss: 6.2992e-04 - val_loss: 2.0401e-04\n",
      "Epoch 146/150\n",
      "24/24 [==============================] - 0s 1ms/step - loss: 7.6950e-04 - val_loss: 2.4793e-04\n",
      "Epoch 147/150\n",
      "24/24 [==============================] - 0s 1ms/step - loss: 0.0026 - val_loss: 4.1679e-04\n",
      "Epoch 148/150\n",
      "24/24 [==============================] - 0s 1ms/step - loss: 0.0015 - val_loss: 3.4832e-04\n",
      "Epoch 149/150\n",
      "24/24 [==============================] - 0s 1ms/step - loss: 9.0933e-04 - val_loss: 9.5603e-04\n",
      "Epoch 150/150\n",
      "24/24 [==============================] - 0s 1ms/step - loss: 0.0011 - val_loss: 2.7524e-04\n"
     ]
    }
   ],
   "source": [
    "model_train = neural_model.fit(z_train, y_train, batch_size=batch_size,\n",
    "                                    epochs=epochs,verbose=1,\n",
    "                                    validation_data=(z_test, y_test))\n",
    "#                                     callbacks=callbacks)"
   ]
  },
  {
   "cell_type": "code",
   "execution_count": 8,
   "metadata": {},
   "outputs": [
    {
     "data": {
      "image/png": "[encoded data removed]",
      "text/plain": [
       "<Figure size 432x288 with 1 Axes>"
      ]
     },
     "metadata": {
      "needs_background": "light"
     },
     "output_type": "display_data"
    }
   ],
   "source": [
    "# plt.figure(figsize=(4, 3), dpi=100)\n",
    "# plt.figure(figsize=(7, 4), dpi=100)\n",
    "\n",
    "plt.plot(model_train.history['loss'], color='r', )\n",
    "plt.plot(model_train.history['val_loss'], color='g')\n",
    "plt.ylabel('MSE', fontsize=11)\n",
    "plt.xlabel('Epoch', fontsize=11)\n",
    "plt.legend(['training set', 'validation set'], loc='upper right', fontsize=12)\n",
    "plt.xticks(fontsize=10)\n",
    "plt.yticks(fontsize=10)\n",
    "plt.yscale('log')\n",
    "# plt.hlines(0.1, 0, 100)\n",
    "# plt.text(160, 500, '300 epochs', fontsize=12)\n",
    "# plt.title('FFNN', fontsize=8)\n",
    "# plt.savefig(\"loss_dlbinnedJla_.png\")"
   ]
  },
  {
   "cell_type": "code",
   "execution_count": 9,
   "metadata": {},
   "outputs": [
    {
     "data": {
      "text/plain": [
       "(0.0012002467410638928, 0.0002752354776021093, 0.0009560268372297287)"
      ]
     },
     "execution_count": 9,
     "metadata": {},
     "output_type": "execute_result"
    }
   ],
   "source": [
    "unet = np.sqrt(np.min(model_train.history['val_loss']))\n",
    "model_train.history['loss'][-1], model_train.history['val_loss'][-1], model_train.history['val_loss'][-2]"
   ]
  },
  {
   "cell_type": "code",
   "execution_count": null,
   "metadata": {},
   "outputs": [],
   "source": []
  },
  {
   "cell_type": "code",
   "execution_count": 10,
   "metadata": {},
   "outputs": [],
   "source": [
    "# ranz = np.linspace(np.min(z), np.max(z), 31)\n",
    "ranz = z\n",
    "\n",
    "# # ranz = np.arange(0.0, 1.5, 0.01)\n",
    "# ranzz = scalerz.transform(ranz.reshape((-1,1)))\n",
    "\n",
    "# ranzinv = scalerz.transform(ranz.reshape(-1,1))\n",
    "# pred_random = neural_model.predict(ranz)\n",
    "\n",
    "pred_random = neural_model.predict(zz)\n",
    "# pred_random\n",
    "dlfake  = scalerdl.inverse_transform(pred_random[:,0].reshape(-1,1)).reshape(nsize,)\n",
    "# dlfake = pred_random.reshape(31,)\n",
    "# errfake = pred_random[:,1]                                     \n",
    "# dlfake = pred_random[:,0]"
   ]
  },
  {
   "cell_type": "code",
   "execution_count": 11,
   "metadata": {},
   "outputs": [
    {
     "data": {
      "text/plain": [
       "((31,), (31,), 31)"
      ]
     },
     "execution_count": 11,
     "metadata": {},
     "output_type": "execute_result"
    }
   ],
   "source": [
    "np.shape(z), np.shape(dlfake), len(z)"
   ]
  },
  {
   "cell_type": "code",
   "execution_count": 12,
   "metadata": {},
   "outputs": [],
   "source": [
    "index = np.argsort(ranz)\n",
    "ranz = ranz[index]\n",
    "\n",
    "# dlfake = dlfake.reshape(31,)[index]\n",
    "\n",
    "# fake_data = np.stack((z, dlfake[index]), axis=1)\n",
    "fake_data = np.stack((ranz, dlfake[index]), axis=1)"
   ]
  },
  {
   "cell_type": "code",
   "execution_count": 13,
   "metadata": {},
   "outputs": [
    {
     "data": {
      "text/plain": [
       "<matplotlib.legend.Legend at 0x7f7cb05359a0>"
      ]
     },
     "execution_count": 13,
     "metadata": {},
     "output_type": "execute_result"
    },
    {
     "data": {
      "image/png": "[encoded data removed]",
      "text/plain": [
       "<Figure size 1000x700 with 1 Axes>"
      ]
     },
     "metadata": {
      "needs_background": "light"
     },
     "output_type": "display_data"
    }
   ],
   "source": [
    "plt.figure(figsize=(10, 7), dpi=100)\n",
    "\n",
    "plt.scatter(z, dl, c='g', label='Observations')\n",
    "plt.scatter(z, dlfake, c='r', label='Synthetic data', marker='*')\n",
    "\n",
    "plt.ylabel(\"$D_L(z)$\")\n",
    "plt.xscale('log')\n",
    "# plt.xlim(-0.1, np.max(z)+0.2)\n",
    "plt.tight_layout()\n",
    "plt.legend()\n",
    "# plt.savefig('rec_jla_ffnn.png')"
   ]
  },
  {
   "cell_type": "code",
   "execution_count": 14,
   "metadata": {},
   "outputs": [],
   "source": [
    "# np.savetxt(\"fake_binned_JLA.dat\",  fake_data, delimiter= \" \", header=\"#fake data\\n# z\\n# mu\", fmt='%1.9f')"
   ]
  },
  {
   "cell_type": "code",
   "execution_count": 15,
   "metadata": {},
   "outputs": [],
   "source": [
    "neural_model.save('../models/FFNN_JLA2.h5')"
   ]
  },
  {
   "cell_type": "code",
   "execution_count": 16,
   "metadata": {},
   "outputs": [],
   "source": [
    "# plt.scatter(z, np.exp(errors), c='g', label='Real errors')\n",
    "# plt.scatter(z, np.exp(errfake), c='r', label='synthetic errors')\n",
    "# plt.legend()\n",
    "# Revisar negativos y usar log. "
   ]
  }
 ],
 "metadata": {
  "kernelspec": {
   "display_name": "Python 3",
   "language": "python",
   "name": "python3"
  },
  "language_info": {
   "codemirror_mode": {
    "name": "ipython",
    "version": 3
   },
   "file_extension": ".py",
   "mimetype": "text/x-python",
   "name": "python",
   "nbconvert_exporter": "python",
   "pygments_lexer": "ipython3",
   "version": "3.8.5"
  }
 },
 "nbformat": 4,
 "nbformat_minor": 2
}
