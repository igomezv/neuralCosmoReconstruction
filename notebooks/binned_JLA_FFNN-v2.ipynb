{
 "cells": [
  {
   "cell_type": "code",
   "execution_count": 1,
   "metadata": {},
   "outputs": [],
   "source": [
    "import numpy as np\n",
    "import tensorflow as tf\n",
    "import pandas as pd\n",
    "from sklearn.preprocessing import StandardScaler, MinMaxScaler\n",
    "from matplotlib import pyplot as plt\n",
    "import seaborn as sns\n",
    "import scipy as sp\n",
    "from tensorflow.keras.models import Model\n",
    "from tensorflow.keras.layers import Input,Conv2D,MaxPooling2D,UpSampling2D, Dense\n",
    "from tensorflow.keras.callbacks import TensorBoard\n",
    "from tensorflow.keras import regularizers\n",
    "from tensorflow.keras import layers\n",
    "from scipy.misc import derivative\n",
    "import scipy.integrate as intg\n",
    "import scipy as sp"
   ]
  },
  {
   "cell_type": "markdown",
   "metadata": {},
   "source": [
    "### Now we train another neural network for z and $D_L(z)$"
   ]
  },
  {
   "cell_type": "code",
   "execution_count": 2,
   "metadata": {},
   "outputs": [
    {
     "data": {
      "text/plain": [
       "(31, 31)"
      ]
     },
     "execution_count": 2,
     "metadata": {},
     "output_type": "execute_result"
    }
   ],
   "source": [
    "file = '../data/jla_binned_distances_31nodes_v1.txt'\n",
    "\n",
    "# filefull = '/home/cosmocicatais/Documents/github/neuralCosmoReconstruction/data/jla_lcparams.txt'\n",
    "syscov = np.loadtxt('../data/cov_jla_binned_distances_31nodes_v1.txt',skiprows=1).reshape((31,31))\n",
    "# syscov = np.loadtxt('../data/jla_v0_covmatrix.dat',skiprows=1).reshape((740,740))\n",
    "# data = pd.read_csv(file2, names=['z', '$D_L$'], sep = \" \", skiprows=3)\n",
    "# data = np.loadtxt(file, usecols=[1,4], skiprows=1)\n",
    "data = np.loadtxt(file, skiprows=3)\n",
    "nsize = len(syscov)\n",
    "# print(data.head(31))\n",
    "# data.head(31) \n",
    "# plt.savefig(\"DistbinnedJLA.png\")\n",
    "np.shape(syscov)\n",
    "\n",
    "errors = np.diag(syscov).reshape(nsize,1)\n",
    "errors = np.where(errors!= 0, np.log(errors), 0)\n",
    "np.shape(errors)\n",
    "len(data), len(errors)"
   ]
  },
  {
   "cell_type": "code",
   "execution_count": 3,
   "metadata": {},
   "outputs": [
    {
     "data": {
      "text/plain": [
       "(31, 31, 31)"
      ]
     },
     "execution_count": 3,
     "metadata": {},
     "output_type": "execute_result"
    }
   ],
   "source": [
    "# shuffle = [x for x in range(len(data)) if x%2 == 0]\n",
    "# comp = [x for x in range(len(data)) if x%2 ==1]\n",
    "# shuffle.extend(comp)\n",
    "\n",
    "shuffle = [0,1,2,3,4,5,6,7,8,30,28,26,24,22,20,9,10,12,14,16,18,29,27,25,23,21,19,17,15,13,11]\n",
    "data = data[shuffle]\n",
    "\n",
    "errors= errors[shuffle]\n",
    "len(data), len(errors), len(shuffle)"
   ]
  },
  {
   "cell_type": "code",
   "execution_count": 4,
   "metadata": {},
   "outputs": [
    {
     "data": {
      "text/plain": [
       "((31,), (31,), (31, 1), 31)"
      ]
     },
     "execution_count": 4,
     "metadata": {},
     "output_type": "execute_result"
    }
   ],
   "source": [
    "dl = data[:,1]\n",
    "z = data[:,0]\n",
    "np.shape(z), np.shape(dl), np.shape(errors), len(data)"
   ]
  },
  {
   "cell_type": "code",
   "execution_count": 5,
   "metadata": {},
   "outputs": [
    {
     "data": {
      "text/plain": [
       "array([[-1.67821359, -3.84986434],\n",
       "       [-1.41094551, -3.57001176],\n",
       "       [-1.42159523, -5.08934053],\n",
       "       [-1.34173509, -5.25237116],\n",
       "       [-1.20454158, -4.91939864],\n",
       "       [-1.10470264, -5.76034487],\n",
       "       [-1.01425612, -5.59152573],\n",
       "       [-0.87084359, -5.73770796],\n",
       "       [-0.77802341, -5.73659415],\n",
       "       [ 1.7504707 , -3.95445991],\n",
       "       [ 1.50510788, -5.41127798],\n",
       "       [ 1.23936363, -5.53630612],\n",
       "       [ 1.0020969 , -6.46943751],\n",
       "       [ 0.7680736 , -6.7879013 ],\n",
       "       [ 0.52064013, -6.90163   ],\n",
       "       [-0.67263688, -5.17672268],\n",
       "       [-0.61007798, -4.75243442],\n",
       "       [-0.38500516, -5.43986085],\n",
       "       [-0.1472154 , -5.6290339 ],\n",
       "       [ 0.08812327, -6.50827487],\n",
       "       [ 0.297373  , -6.875292  ],\n",
       "       [ 1.66155245, -3.73378125],\n",
       "       [ 1.36977962, -5.81575656],\n",
       "       [ 1.1134935 , -6.65151475],\n",
       "       [ 0.87482466, -6.36312856],\n",
       "       [ 0.61896267, -6.4749882 ],\n",
       "       [ 0.40264632, -6.82482173],\n",
       "       [ 0.16715278, -6.72268898],\n",
       "       [-0.04332179, -6.5703467 ],\n",
       "       [-0.23291465, -5.81359532],\n",
       "       [-0.4636325 , -5.55836679]])"
      ]
     },
     "execution_count": 5,
     "metadata": {},
     "output_type": "execute_result"
    }
   ],
   "source": [
    "split = 0.8\n",
    "ntrain = int(split * len(z))\n",
    "indx = [ntrain]\n",
    "\n",
    "zz = np.log(z)\n",
    "# scalerz = StandardScaler()\n",
    "# scalerz.fit(z.reshape(-1, 1))\n",
    "# zz = scalerz.transform(z.reshape((-1,1)))\n",
    "\n",
    "scalerdl = StandardScaler()\n",
    "scalerdl.fit(dl.reshape(-1, 1))\n",
    "dll = scalerdl.transform(dl.reshape((-1,1)))\n",
    "# dll = dl.reshape(nsize, 1)\n",
    "# scalererr = StandardScaler()\n",
    "# scalererr.fit(errors.reshape(-1, 1))\n",
    "# errscl = scalererr.transform(errors.reshape((-1,1)))\n",
    "\n",
    "z_train, z_test = np.split(zz, indx)\n",
    "y = np.concatenate((dll, errors), axis=1)\n",
    "y_train, y_test = np.split(y, indx)\n",
    "y"
   ]
  },
  {
   "cell_type": "code",
   "execution_count": null,
   "metadata": {},
   "outputs": [],
   "source": []
  },
  {
   "cell_type": "code",
   "execution_count": 6,
   "metadata": {},
   "outputs": [
    {
     "name": "stdout",
     "output_type": "stream",
     "text": [
      "Model: \"model\"\n",
      "_________________________________________________________________\n",
      "Layer (type)                 Output Shape              Param #   \n",
      "=================================================================\n",
      "input_1 (InputLayer)         [(None, 1)]               0         \n",
      "_________________________________________________________________\n",
      "dense (Dense)                (None, 50)                100       \n",
      "_________________________________________________________________\n",
      "dense_1 (Dense)              (None, 100)               5100      \n",
      "_________________________________________________________________\n",
      "dense_2 (Dense)              (None, 2)                 202       \n",
      "=================================================================\n",
      "Total params: 5,402\n",
      "Trainable params: 5,402\n",
      "Non-trainable params: 0\n",
      "_________________________________________________________________\n"
     ]
    }
   ],
   "source": [
    "def model(input_z):\n",
    "    efirst = Dense(50, activation='relu', input_shape=(1,))(input_z)\n",
    "    x = Dense(100, activation='relu')(efirst)\n",
    "#     x = Dense(50, activation='relu')(x)\n",
    "#     x = Dense(50, activation='relu')(x)\n",
    "#     x = Dense(50, activation='relu')(x)\n",
    "#     x = Dense(50, activation='relu')(x)\n",
    "#     x = Dense(50, activation='relu')(x)\n",
    "#     x = Dense(50, activation='relu')(x)\n",
    "#     x = Dense(100, activation='relu')(x)\n",
    "#     x = Dense(0, activation='relu')(x)\n",
    "#     x = Dense(10, activation='relu')(x)\n",
    "    elast = Dense(2,activation='linear')(x)\n",
    "    return elast\n",
    "\n",
    "batch_size = 1\n",
    "epochs = 100\n",
    "# epochs = 500\n",
    "input_z = Input(shape = (1,))\n",
    "neural_model = Model(input_z, model(input_z))\n",
    "neural_model.compile(loss='mean_squared_error', optimizer = \"adam\")\n",
    "neural_model.summary()\n"
   ]
  },
  {
   "cell_type": "code",
   "execution_count": 7,
   "metadata": {},
   "outputs": [
    {
     "name": "stdout",
     "output_type": "stream",
     "text": [
      "Epoch 1/100\n",
      "24/24 [==============================] - 0s 10ms/step - loss: 14.3063 - val_loss: 13.5891\n",
      "Epoch 2/100\n",
      "24/24 [==============================] - 0s 1ms/step - loss: 10.3285 - val_loss: 7.7912\n",
      "Epoch 3/100\n",
      "24/24 [==============================] - 0s 1ms/step - loss: 5.9951 - val_loss: 5.2460\n",
      "Epoch 4/100\n",
      "24/24 [==============================] - 0s 1ms/step - loss: 3.3642 - val_loss: 4.8778\n",
      "Epoch 5/100\n",
      "24/24 [==============================] - 0s 1ms/step - loss: 4.6336 - val_loss: 4.2706\n",
      "Epoch 6/100\n",
      "24/24 [==============================] - 0s 1ms/step - loss: 4.8644 - val_loss: 4.5498\n",
      "Epoch 7/100\n",
      "24/24 [==============================] - 0s 1ms/step - loss: 3.1694 - val_loss: 3.9489\n",
      "Epoch 8/100\n",
      "24/24 [==============================] - 0s 1ms/step - loss: 3.2130 - val_loss: 3.4460\n",
      "Epoch 9/100\n",
      "24/24 [==============================] - 0s 1ms/step - loss: 2.7270 - val_loss: 2.8346\n",
      "Epoch 10/100\n",
      "24/24 [==============================] - 0s 1ms/step - loss: 1.7945 - val_loss: 1.9917\n",
      "Epoch 11/100\n",
      "24/24 [==============================] - 0s 1ms/step - loss: 1.4702 - val_loss: 1.5662\n",
      "Epoch 12/100\n",
      "24/24 [==============================] - 0s 1ms/step - loss: 1.3014 - val_loss: 1.2080\n",
      "Epoch 13/100\n",
      "24/24 [==============================] - 0s 1ms/step - loss: 0.6196 - val_loss: 0.8769\n",
      "Epoch 14/100\n",
      "24/24 [==============================] - 0s 1ms/step - loss: 0.6053 - val_loss: 0.5702\n",
      "Epoch 15/100\n",
      "24/24 [==============================] - 0s 1ms/step - loss: 0.7753 - val_loss: 0.7353\n",
      "Epoch 16/100\n",
      "24/24 [==============================] - 0s 1ms/step - loss: 0.6101 - val_loss: 0.4228\n",
      "Epoch 17/100\n",
      "24/24 [==============================] - 0s 1ms/step - loss: 0.3676 - val_loss: 0.5217\n",
      "Epoch 18/100\n",
      "24/24 [==============================] - 0s 1ms/step - loss: 0.3581 - val_loss: 0.3290\n",
      "Epoch 19/100\n",
      "24/24 [==============================] - 0s 1ms/step - loss: 0.4073 - val_loss: 0.3378\n",
      "Epoch 20/100\n",
      "24/24 [==============================] - 0s 1ms/step - loss: 0.3449 - val_loss: 0.4650\n",
      "Epoch 21/100\n",
      "24/24 [==============================] - 0s 1ms/step - loss: 0.3168 - val_loss: 0.3033\n",
      "Epoch 22/100\n",
      "24/24 [==============================] - 0s 1ms/step - loss: 0.2601 - val_loss: 0.2063\n",
      "Epoch 23/100\n",
      "24/24 [==============================] - 0s 1ms/step - loss: 0.2374 - val_loss: 0.1888\n",
      "Epoch 24/100\n",
      "24/24 [==============================] - 0s 1ms/step - loss: 0.2287 - val_loss: 0.2241\n",
      "Epoch 25/100\n",
      "24/24 [==============================] - 0s 1ms/step - loss: 0.1223 - val_loss: 0.1548\n",
      "Epoch 26/100\n",
      "24/24 [==============================] - 0s 1ms/step - loss: 0.1928 - val_loss: 0.2052\n",
      "Epoch 27/100\n",
      "24/24 [==============================] - 0s 1ms/step - loss: 0.1640 - val_loss: 0.2001\n",
      "Epoch 28/100\n",
      "24/24 [==============================] - 0s 1ms/step - loss: 0.1546 - val_loss: 0.0928\n",
      "Epoch 29/100\n",
      "24/24 [==============================] - 0s 1ms/step - loss: 0.1453 - val_loss: 0.0601\n",
      "Epoch 30/100\n",
      "24/24 [==============================] - 0s 1ms/step - loss: 0.1020 - val_loss: 0.1897\n",
      "Epoch 31/100\n",
      "24/24 [==============================] - 0s 1ms/step - loss: 0.1847 - val_loss: 0.0508\n",
      "Epoch 32/100\n",
      "24/24 [==============================] - 0s 1ms/step - loss: 0.0921 - val_loss: 0.1998\n",
      "Epoch 33/100\n",
      "24/24 [==============================] - 0s 1ms/step - loss: 0.1496 - val_loss: 0.0609\n",
      "Epoch 34/100\n",
      "24/24 [==============================] - 0s 1ms/step - loss: 0.1076 - val_loss: 0.0617\n",
      "Epoch 35/100\n",
      "24/24 [==============================] - 0s 1ms/step - loss: 0.2872 - val_loss: 0.0546\n",
      "Epoch 36/100\n",
      "24/24 [==============================] - 0s 1ms/step - loss: 0.1308 - val_loss: 0.1123\n",
      "Epoch 37/100\n",
      "24/24 [==============================] - 0s 1ms/step - loss: 0.1460 - val_loss: 0.0554\n",
      "Epoch 38/100\n",
      "24/24 [==============================] - 0s 1ms/step - loss: 0.1123 - val_loss: 0.0441\n",
      "Epoch 39/100\n",
      "24/24 [==============================] - 0s 1ms/step - loss: 0.1795 - val_loss: 0.0542\n",
      "Epoch 40/100\n",
      "24/24 [==============================] - 0s 1ms/step - loss: 0.1917 - val_loss: 0.0483\n",
      "Epoch 41/100\n",
      "24/24 [==============================] - 0s 1ms/step - loss: 0.1519 - val_loss: 0.0484\n",
      "Epoch 42/100\n",
      "24/24 [==============================] - 0s 1ms/step - loss: 0.1094 - val_loss: 0.0467\n",
      "Epoch 43/100\n",
      "24/24 [==============================] - 0s 1ms/step - loss: 0.2355 - val_loss: 0.1114\n",
      "Epoch 44/100\n",
      "24/24 [==============================] - 0s 1ms/step - loss: 0.1613 - val_loss: 0.1028\n",
      "Epoch 45/100\n",
      "24/24 [==============================] - 0s 1ms/step - loss: 0.1345 - val_loss: 0.0443\n",
      "Epoch 46/100\n",
      "24/24 [==============================] - 0s 1ms/step - loss: 0.1543 - val_loss: 0.0433\n",
      "Epoch 47/100\n",
      "24/24 [==============================] - 0s 1ms/step - loss: 0.0988 - val_loss: 0.0879\n",
      "Epoch 48/100\n",
      "24/24 [==============================] - 0s 1ms/step - loss: 0.2650 - val_loss: 0.0636\n",
      "Epoch 49/100\n",
      "24/24 [==============================] - 0s 1ms/step - loss: 0.1034 - val_loss: 0.0413\n",
      "Epoch 50/100\n",
      "24/24 [==============================] - 0s 1ms/step - loss: 0.1536 - val_loss: 0.0580\n",
      "Epoch 51/100\n",
      "24/24 [==============================] - 0s 1ms/step - loss: 0.0775 - val_loss: 0.0724\n",
      "Epoch 52/100\n",
      "24/24 [==============================] - 0s 1ms/step - loss: 0.1646 - val_loss: 0.0718\n",
      "Epoch 53/100\n",
      "24/24 [==============================] - 0s 1ms/step - loss: 0.1197 - val_loss: 0.0374\n",
      "Epoch 54/100\n",
      "24/24 [==============================] - 0s 1ms/step - loss: 0.1794 - val_loss: 0.0436\n",
      "Epoch 55/100\n",
      "24/24 [==============================] - 0s 1ms/step - loss: 0.1040 - val_loss: 0.1162\n",
      "Epoch 56/100\n",
      "24/24 [==============================] - 0s 1ms/step - loss: 0.1712 - val_loss: 0.0631\n",
      "Epoch 57/100\n",
      "24/24 [==============================] - 0s 1ms/step - loss: 0.1941 - val_loss: 0.0478\n",
      "Epoch 58/100\n",
      "24/24 [==============================] - 0s 1ms/step - loss: 0.0955 - val_loss: 0.0445\n",
      "Epoch 59/100\n",
      "24/24 [==============================] - 0s 1ms/step - loss: 0.1105 - val_loss: 0.0420\n",
      "Epoch 60/100\n",
      "24/24 [==============================] - 0s 1ms/step - loss: 0.1604 - val_loss: 0.1114\n",
      "Epoch 61/100\n",
      "24/24 [==============================] - 0s 1ms/step - loss: 0.3046 - val_loss: 0.0473\n",
      "Epoch 62/100\n",
      "24/24 [==============================] - 0s 1ms/step - loss: 0.1161 - val_loss: 0.0493\n",
      "Epoch 63/100\n",
      "24/24 [==============================] - 0s 1ms/step - loss: 0.1428 - val_loss: 0.0760\n",
      "Epoch 64/100\n",
      "24/24 [==============================] - 0s 1ms/step - loss: 0.1776 - val_loss: 0.0513\n",
      "Epoch 65/100\n",
      "24/24 [==============================] - 0s 1ms/step - loss: 0.0984 - val_loss: 0.0529\n",
      "Epoch 66/100\n",
      "24/24 [==============================] - 0s 1ms/step - loss: 0.1524 - val_loss: 0.0432\n",
      "Epoch 67/100\n",
      "24/24 [==============================] - 0s 1ms/step - loss: 0.1267 - val_loss: 0.1146\n",
      "Epoch 68/100\n",
      "24/24 [==============================] - 0s 1ms/step - loss: 0.2854 - val_loss: 0.0368\n",
      "Epoch 69/100\n",
      "24/24 [==============================] - 0s 1ms/step - loss: 0.1208 - val_loss: 0.1659\n",
      "Epoch 70/100\n",
      "24/24 [==============================] - 0s 1ms/step - loss: 0.3330 - val_loss: 0.0359\n",
      "Epoch 71/100\n",
      "24/24 [==============================] - 0s 1ms/step - loss: 0.1349 - val_loss: 0.0722\n",
      "Epoch 72/100\n",
      "24/24 [==============================] - 0s 1ms/step - loss: 0.1203 - val_loss: 0.0667\n",
      "Epoch 73/100\n",
      "24/24 [==============================] - 0s 1ms/step - loss: 0.1389 - val_loss: 0.0420\n",
      "Epoch 74/100\n",
      "24/24 [==============================] - 0s 1ms/step - loss: 0.1149 - val_loss: 0.0472\n",
      "Epoch 75/100\n",
      "24/24 [==============================] - 0s 1ms/step - loss: 0.0880 - val_loss: 0.0419\n",
      "Epoch 76/100\n",
      "24/24 [==============================] - 0s 1ms/step - loss: 0.1346 - val_loss: 0.0651\n",
      "Epoch 77/100\n",
      "24/24 [==============================] - 0s 1ms/step - loss: 0.1199 - val_loss: 0.0761\n",
      "Epoch 78/100\n",
      "24/24 [==============================] - 0s 1ms/step - loss: 0.1636 - val_loss: 0.0394\n",
      "Epoch 79/100\n",
      "24/24 [==============================] - 0s 1ms/step - loss: 0.1833 - val_loss: 0.0383\n",
      "Epoch 80/100\n",
      "24/24 [==============================] - 0s 1ms/step - loss: 0.1643 - val_loss: 0.0423\n",
      "Epoch 81/100\n",
      "24/24 [==============================] - 0s 1ms/step - loss: 0.1299 - val_loss: 0.0386\n",
      "Epoch 82/100\n",
      "24/24 [==============================] - 0s 1ms/step - loss: 0.1372 - val_loss: 0.0424\n"
     ]
    },
    {
     "name": "stdout",
     "output_type": "stream",
     "text": [
      "Epoch 83/100\n",
      "24/24 [==============================] - 0s 1ms/step - loss: 0.1237 - val_loss: 0.0379\n",
      "Epoch 84/100\n",
      "24/24 [==============================] - 0s 1ms/step - loss: 0.1501 - val_loss: 0.0611\n",
      "Epoch 85/100\n",
      "24/24 [==============================] - 0s 1ms/step - loss: 0.2080 - val_loss: 0.0738\n",
      "Epoch 86/100\n",
      "24/24 [==============================] - 0s 1ms/step - loss: 0.1609 - val_loss: 0.0354\n",
      "Epoch 87/100\n",
      "24/24 [==============================] - ETA: 0s - loss: 0.198 - 0s 1ms/step - loss: 0.1154 - val_loss: 0.0340\n",
      "Epoch 88/100\n",
      "24/24 [==============================] - 0s 1ms/step - loss: 0.0904 - val_loss: 0.0427\n",
      "Epoch 89/100\n",
      "24/24 [==============================] - ETA: 0s - loss: 0.256 - 0s 1ms/step - loss: 0.1177 - val_loss: 0.0456\n",
      "Epoch 90/100\n",
      "24/24 [==============================] - 0s 1ms/step - loss: 0.2252 - val_loss: 0.0786\n",
      "Epoch 91/100\n",
      "24/24 [==============================] - 0s 1ms/step - loss: 0.0781 - val_loss: 0.1215\n",
      "Epoch 92/100\n",
      "24/24 [==============================] - 0s 1ms/step - loss: 0.2012 - val_loss: 0.0386\n",
      "Epoch 93/100\n",
      "24/24 [==============================] - 0s 1ms/step - loss: 0.0985 - val_loss: 0.0416\n",
      "Epoch 94/100\n",
      "24/24 [==============================] - 0s 1ms/step - loss: 0.0964 - val_loss: 0.0449\n",
      "Epoch 95/100\n",
      "24/24 [==============================] - 0s 1ms/step - loss: 0.1140 - val_loss: 0.0452\n",
      "Epoch 96/100\n",
      "24/24 [==============================] - 0s 1ms/step - loss: 0.1451 - val_loss: 0.0407\n",
      "Epoch 97/100\n",
      "24/24 [==============================] - 0s 1ms/step - loss: 0.1292 - val_loss: 0.0438\n",
      "Epoch 98/100\n",
      "24/24 [==============================] - 0s 1ms/step - loss: 0.1332 - val_loss: 0.0449\n",
      "Epoch 99/100\n",
      "24/24 [==============================] - 0s 1ms/step - loss: 0.1183 - val_loss: 0.0334\n",
      "Epoch 100/100\n",
      "24/24 [==============================] - 0s 1ms/step - loss: 0.1316 - val_loss: 0.0384\n"
     ]
    }
   ],
   "source": [
    "model_train = neural_model.fit(z_train, y_train, batch_size=batch_size,\n",
    "                                    epochs=epochs,verbose=1,\n",
    "                                    validation_data=(z_test, y_test))\n",
    "#                                     callbacks=callbacks)"
   ]
  },
  {
   "cell_type": "code",
   "execution_count": 8,
   "metadata": {},
   "outputs": [
    {
     "data": {
      "text/plain": [
       "(array([-2.,  0.,  2.,  4.,  6.,  8., 10., 12., 14., 16.]),\n",
       " [Text(0, 0, ''),\n",
       "  Text(0, 0, ''),\n",
       "  Text(0, 0, ''),\n",
       "  Text(0, 0, ''),\n",
       "  Text(0, 0, ''),\n",
       "  Text(0, 0, ''),\n",
       "  Text(0, 0, ''),\n",
       "  Text(0, 0, ''),\n",
       "  Text(0, 0, ''),\n",
       "  Text(0, 0, '')])"
      ]
     },
     "execution_count": 8,
     "metadata": {},
     "output_type": "execute_result"
    },
    {
     "data": {
      "image/png": "[encoded data removed]",
      "text/plain": [
       "<Figure size 700x400 with 1 Axes>"
      ]
     },
     "metadata": {
      "needs_background": "light"
     },
     "output_type": "display_data"
    }
   ],
   "source": [
    "# plt.figure(figsize=(4, 3), dpi=100)\n",
    "plt.figure(figsize=(7, 4), dpi=100)\n",
    "\n",
    "plt.plot(model_train.history['loss'], color='r', )\n",
    "plt.plot(model_train.history['val_loss'], color='g')\n",
    "plt.ylabel('MSE', fontsize=11)\n",
    "plt.xlabel('Epoch', fontsize=11)\n",
    "plt.legend(['training set', 'validation set'], loc='upper right', fontsize=12)\n",
    "plt.xticks(fontsize=10)\n",
    "plt.yticks(fontsize=10)\n",
    "# plt.text(160, 500, '300 epochs', fontsize=12)\n",
    "# plt.title('FFNN', fontsize=8)\n",
    "# plt.savefig(\"loss_dlbinnedJla_.png\")"
   ]
  },
  {
   "cell_type": "code",
   "execution_count": 9,
   "metadata": {},
   "outputs": [
    {
     "data": {
      "text/plain": [
       "(0.13596270978450775, 0.038419730961322784, 0.033384058624506)"
      ]
     },
     "execution_count": 9,
     "metadata": {},
     "output_type": "execute_result"
    }
   ],
   "source": [
    "unet = np.sqrt(np.min(model_train.history['val_loss']))\n",
    "model_train.history['loss'][-1], model_train.history['val_loss'][-1], model_train.history['val_loss'][-2]"
   ]
  },
  {
   "cell_type": "code",
   "execution_count": null,
   "metadata": {},
   "outputs": [],
   "source": []
  },
  {
   "cell_type": "code",
   "execution_count": 21,
   "metadata": {},
   "outputs": [],
   "source": [
    "# ranz = np.linspace(np.min(z), np.max(z), 31)\n",
    "ranz = z\n",
    "\n",
    "# # ranz = np.arange(0.0, 1.5, 0.01)\n",
    "# ranzz = scalerz.transform(ranz.reshape((-1,1)))\n",
    "\n",
    "# ranzinv = scalerz.transform(ranz.reshape(-1,1))\n",
    "# pred_random = neural_model.predict(ranz)\n",
    "\n",
    "pred_random = neural_model.predict(zz)\n",
    "# pred_random\n",
    "dlfake  = scalerdl.inverse_transform(pred_random[:,0].reshape(-1,1)).reshape(nsize,)\n",
    "# dlfake = pred_random[:,0]\n",
    "errfake = pred_random[:,1]                                     \n",
    "# dlfake = pred_random[:,0]"
   ]
  },
  {
   "cell_type": "code",
   "execution_count": 22,
   "metadata": {},
   "outputs": [
    {
     "data": {
      "text/plain": [
       "((31,), (31,), 31)"
      ]
     },
     "execution_count": 22,
     "metadata": {},
     "output_type": "execute_result"
    }
   ],
   "source": [
    "np.shape(z), np.shape(dlfake), len(z)"
   ]
  },
  {
   "cell_type": "code",
   "execution_count": 23,
   "metadata": {},
   "outputs": [],
   "source": [
    "index = np.argsort(ranz)\n",
    "ranz = ranz[index]\n",
    "\n",
    "# dlfake = dlfake.reshape(31,)[index]\n",
    "\n",
    "# fake_data = np.stack((z, dlfake[index]), axis=1)\n",
    "fake_data = np.stack((ranz, dlfake[index]), axis=1)"
   ]
  },
  {
   "cell_type": "code",
   "execution_count": 24,
   "metadata": {},
   "outputs": [
    {
     "data": {
      "text/plain": [
       "<matplotlib.legend.Legend at 0x7fc4f00de490>"
      ]
     },
     "execution_count": 24,
     "metadata": {},
     "output_type": "execute_result"
    },
    {
     "data": {
      "image/png": "[encoded data removed]",
      "text/plain": [
       "<Figure size 1000x700 with 1 Axes>"
      ]
     },
     "metadata": {
      "needs_background": "light"
     },
     "output_type": "display_data"
    }
   ],
   "source": [
    "plt.figure(figsize=(10, 7), dpi=100)\n",
    "\n",
    "plt.scatter(z, dl, c='g', label='Observations')\n",
    "plt.scatter(z, dlfake, c='r', label='Synthetic data', marker='*')\n",
    "\n",
    "plt.ylabel(\"$D_L(z)$\")\n",
    "# plt.xlim(-0.1, np.max(z)+0.2)\n",
    "plt.tight_layout()\n",
    "plt.legend()\n",
    "# plt.savefig('rec_jla_ffnn.png')"
   ]
  },
  {
   "cell_type": "code",
   "execution_count": 25,
   "metadata": {},
   "outputs": [],
   "source": [
    "np.savetxt(\"fake_binned_JLA2TEST3.dat\",  fake_data, delimiter= \" \", header=\"#fake data\\n# z\\n# mu\", fmt='%1.9f')"
   ]
  },
  {
   "cell_type": "code",
   "execution_count": 26,
   "metadata": {},
   "outputs": [],
   "source": [
    "neural_model.save('../models/FFNN_JLA.h5')"
   ]
  },
  {
   "cell_type": "code",
   "execution_count": 27,
   "metadata": {},
   "outputs": [
    {
     "data": {
      "text/plain": [
       "<matplotlib.legend.Legend at 0x7fc4f877e9d0>"
      ]
     },
     "execution_count": 27,
     "metadata": {},
     "output_type": "execute_result"
    },
    {
     "data": {
      "image/png": "[encoded data removed]",
      "text/plain": [
       "<Figure size 432x288 with 1 Axes>"
      ]
     },
     "metadata": {
      "needs_background": "light"
     },
     "output_type": "display_data"
    }
   ],
   "source": [
    "plt.scatter(z, np.exp(errors), c='g', label='Real errors')\n",
    "plt.scatter(z, np.exp(errfake), c='r', label='synthetic errors')\n",
    "plt.legend()\n",
    "# Revisar negativos y usar log. "
   ]
  },
  {
   "cell_type": "code",
   "execution_count": 28,
   "metadata": {},
   "outputs": [
    {
     "data": {
      "text/plain": [
       "array([0.01      , 0.01176156, 0.01383342, 0.01627025, 0.01913635,\n",
       "       0.02250733, 0.02647212, 0.03113533, 0.03661999, 1.3       ,\n",
       "       0.93975316, 0.67933539, 0.49108275, 0.35499736, 0.25662299,\n",
       "       0.04307081, 0.05065797, 0.0700773 , 0.09694087, 0.13410237,\n",
       "       0.18550944, 1.10529594, 0.79900412, 0.57758973, 0.41753213,\n",
       "       0.30182857, 0.21818796, 0.15772525, 0.11401754, 0.08242181,\n",
       "       0.05958165])"
      ]
     },
     "execution_count": 28,
     "metadata": {},
     "output_type": "execute_result"
    }
   ],
   "source": [
    "z"
   ]
  },
  {
   "cell_type": "code",
   "execution_count": null,
   "metadata": {},
   "outputs": [],
   "source": []
  },
  {
   "cell_type": "code",
   "execution_count": null,
   "metadata": {},
   "outputs": [],
   "source": []
  },
  {
   "cell_type": "code",
   "execution_count": null,
   "metadata": {},
   "outputs": [],
   "source": []
  }
 ],
 "metadata": {
  "kernelspec": {
   "display_name": "Python 3",
   "language": "python",
   "name": "python3"
  },
  "language_info": {
   "codemirror_mode": {
    "name": "ipython",
    "version": 3
   },
   "file_extension": ".py",
   "mimetype": "text/x-python",
   "name": "python",
   "nbconvert_exporter": "python",
   "pygments_lexer": "ipython3",
   "version": "3.8.5"
  }
 },
 "nbformat": 4,
 "nbformat_minor": 2
}
