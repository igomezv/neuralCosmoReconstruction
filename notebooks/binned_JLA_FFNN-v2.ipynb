{
 "cells": [
  {
   "cell_type": "code",
   "execution_count": 1,
   "metadata": {},
   "outputs": [],
   "source": [
    "import numpy as np\n",
    "import tensorflow as tf\n",
    "import pandas as pd\n",
    "from sklearn.preprocessing import StandardScaler, MinMaxScaler\n",
    "from matplotlib import pyplot as plt\n",
    "import seaborn as sns\n",
    "import scipy as sp\n",
    "from tensorflow.keras.models import Model\n",
    "from tensorflow.keras.layers import Input,Conv2D,MaxPooling2D,UpSampling2D, Dense\n",
    "from tensorflow.keras.callbacks import TensorBoard\n",
    "from tensorflow.keras import regularizers\n",
    "from tensorflow.keras import layers\n",
    "from scipy.misc import derivative\n",
    "import scipy.integrate as intg\n",
    "import scipy as sp"
   ]
  },
  {
   "cell_type": "markdown",
   "metadata": {},
   "source": [
    "### Now we train another neural network for z and $D_L(z)$"
   ]
  },
  {
   "cell_type": "code",
   "execution_count": 2,
   "metadata": {},
   "outputs": [
    {
     "data": {
      "text/plain": [
       "(31, 31)"
      ]
     },
     "execution_count": 2,
     "metadata": {},
     "output_type": "execute_result"
    }
   ],
   "source": [
    "file = '../data/jla_binned_distances_31nodes_v1.txt'\n",
    "\n",
    "# filefull = '/home/cosmocicatais/Documents/github/neuralCosmoReconstruction/data/jla_lcparams.txt'\n",
    "syscov = np.loadtxt('../data/cov_jla_binned_distances_31nodes_v1.txt',skiprows=1).reshape((31,31))\n",
    "# syscov = np.loadtxt('../data/jla_v0_covmatrix.dat',skiprows=1).reshape((740,740))\n",
    "# data = pd.read_csv(file2, names=['z', '$D_L$'], sep = \" \", skiprows=3)\n",
    "# data = np.loadtxt(file, usecols=[1,4], skiprows=1)\n",
    "data = np.loadtxt(file, skiprows=3)\n",
    "nsize = len(syscov)\n",
    "# print(data.head(31))\n",
    "# data.head(31) \n",
    "# plt.savefig(\"DistbinnedJLA.png\")\n",
    "np.shape(syscov)\n",
    "\n",
    "errors = np.diag(syscov).reshape(nsize,1)\n",
    "errors = np.where(errors!= 0, np.log(errors), 0)\n",
    "np.shape(errors)\n",
    "len(data), len(errors)"
   ]
  },
  {
   "cell_type": "code",
   "execution_count": 3,
   "metadata": {},
   "outputs": [
    {
     "data": {
      "text/plain": [
       "(31, 31, 31)"
      ]
     },
     "execution_count": 3,
     "metadata": {},
     "output_type": "execute_result"
    }
   ],
   "source": [
    "# shuffle = [x for x in range(len(data)) if x%2 == 0]\n",
    "# comp = [x for x in range(len(data)) if x%2 ==1]\n",
    "# shuffle.extend(comp)\n",
    "\n",
    "shuffle = [0,30,1,2,3,4,5,6,7,8,28,26,24,22,20,9,10,12,14,16,18,29,27,25,23,21,19,17,15,13,11]\n",
    "data = data[shuffle]\n",
    "\n",
    "errors= errors[shuffle]\n",
    "len(data), len(errors), len(shuffle)"
   ]
  },
  {
   "cell_type": "code",
   "execution_count": 4,
   "metadata": {},
   "outputs": [
    {
     "data": {
      "text/plain": [
       "((31,), (31,), (31, 1), 31)"
      ]
     },
     "execution_count": 4,
     "metadata": {},
     "output_type": "execute_result"
    }
   ],
   "source": [
    "dl = data[:,1]\n",
    "z = data[:,0]\n",
    "np.shape(z), np.shape(dl), np.shape(errors), len(data)"
   ]
  },
  {
   "cell_type": "code",
   "execution_count": 5,
   "metadata": {},
   "outputs": [],
   "source": [
    "split = 0.8\n",
    "ntrain = int(split * len(z))\n",
    "indx = [ntrain]\n",
    "\n",
    "zz = np.log10(z)\n",
    "# scalerz = MinMaxScaler(feature_range=(-1,1))\n",
    "# scalerz.fit(z.reshape(-1, 1))\n",
    "# zz = scalerz.transform(z.reshape((-1,1)))\n",
    "# zz=z\n",
    "\n",
    "scalerdl = StandardScaler()\n",
    "# scalerdl = MinMaxScaler(feature_range=(0,1))\n",
    "scalerdl.fit(dl.reshape(-1, 1))\n",
    "dll = scalerdl.transform(dl.reshape((-1,1)))\n",
    "# dll = dl.reshape(nsize, 1)\n",
    "# scalererr = StandardScaler()\n",
    "# scalererr.fit(errors.reshape(-1, 1))\n",
    "# errscl = scalererr.transform(errors.reshape((-1,1)))\n",
    "\n",
    "z_train, z_test = np.split(zz, indx)\n",
    "y = dll\n",
    "# y = np.concatenate((dll, errors), axis=1)\n",
    "y_train, y_test = np.split(y, indx)\n",
    "# dll"
   ]
  },
  {
   "cell_type": "code",
   "execution_count": 6,
   "metadata": {},
   "outputs": [
    {
     "name": "stdout",
     "output_type": "stream",
     "text": [
      "Model: \"model\"\n",
      "_________________________________________________________________\n",
      "Layer (type)                 Output Shape              Param #   \n",
      "=================================================================\n",
      "input_1 (InputLayer)         [(None, 1)]               0         \n",
      "_________________________________________________________________\n",
      "dense (Dense)                (None, 100)               200       \n",
      "_________________________________________________________________\n",
      "dense_1 (Dense)              (None, 100)               10100     \n",
      "_________________________________________________________________\n",
      "dense_2 (Dense)              (None, 150)               15150     \n",
      "_________________________________________________________________\n",
      "dense_3 (Dense)              (None, 1)                 151       \n",
      "=================================================================\n",
      "Total params: 25,601\n",
      "Trainable params: 25,601\n",
      "Non-trainable params: 0\n",
      "_________________________________________________________________\n"
     ]
    }
   ],
   "source": [
    "def model(input_z):\n",
    "    efirst = Dense(100,activation='relu', input_shape=(1,))(input_z)\n",
    "    x = Dense(100, activation='relu')(efirst)\n",
    "    x = Dense(150, activation='relu')(x)\n",
    "\n",
    "    elast = Dense(1,activation='linear')(x)\n",
    "    return elast\n",
    "\n",
    "batch_size = 1\n",
    "epochs = 200\n",
    "# epochs = 500\n",
    "input_z = Input(shape = (1,))\n",
    "neural_model = Model(input_z, model(input_z))\n",
    "neural_model.compile(loss='mean_squared_error', optimizer = \"adam\")\n",
    "neural_model.summary()\n"
   ]
  },
  {
   "cell_type": "code",
   "execution_count": 7,
   "metadata": {},
   "outputs": [
    {
     "name": "stdout",
     "output_type": "stream",
     "text": [
      "Epoch 1/200\n",
      "24/24 [==============================] - 0s 11ms/step - loss: 0.8592 - val_loss: 0.4392\n",
      "Epoch 2/200\n",
      "24/24 [==============================] - 0s 1ms/step - loss: 0.6436 - val_loss: 0.3068\n",
      "Epoch 3/200\n",
      "24/24 [==============================] - 0s 1ms/step - loss: 0.4875 - val_loss: 0.1754\n",
      "Epoch 4/200\n",
      "24/24 [==============================] - 0s 1ms/step - loss: 0.2606 - val_loss: 0.0382\n",
      "Epoch 5/200\n",
      "24/24 [==============================] - 0s 1ms/step - loss: 0.0129 - val_loss: 0.0057\n",
      "Epoch 6/200\n",
      "24/24 [==============================] - 0s 1ms/step - loss: 0.0048 - val_loss: 0.0021\n",
      "Epoch 7/200\n",
      "24/24 [==============================] - 0s 1ms/step - loss: 0.0027 - val_loss: 6.6821e-04\n",
      "Epoch 8/200\n",
      "24/24 [==============================] - 0s 1ms/step - loss: 0.0013 - val_loss: 0.0010\n",
      "Epoch 9/200\n",
      "24/24 [==============================] - 0s 1ms/step - loss: 0.0022 - val_loss: 0.0016\n",
      "Epoch 10/200\n",
      "24/24 [==============================] - 0s 1ms/step - loss: 0.0098 - val_loss: 0.0030\n",
      "Epoch 11/200\n",
      "24/24 [==============================] - 0s 1ms/step - loss: 0.0020 - val_loss: 0.0034\n",
      "Epoch 12/200\n",
      "24/24 [==============================] - 0s 1ms/step - loss: 0.0060 - val_loss: 0.0011\n",
      "Epoch 13/200\n",
      "24/24 [==============================] - 0s 1ms/step - loss: 0.0018 - val_loss: 0.0015\n",
      "Epoch 14/200\n",
      "24/24 [==============================] - 0s 1ms/step - loss: 0.0014 - val_loss: 9.7139e-04\n",
      "Epoch 15/200\n",
      "24/24 [==============================] - 0s 1ms/step - loss: 0.0030 - val_loss: 0.0013\n",
      "Epoch 16/200\n",
      "24/24 [==============================] - 0s 1ms/step - loss: 0.0030 - val_loss: 0.0026\n",
      "Epoch 17/200\n",
      "24/24 [==============================] - 0s 1ms/step - loss: 0.0031 - val_loss: 6.9973e-04\n",
      "Epoch 18/200\n",
      "24/24 [==============================] - 0s 1ms/step - loss: 0.0026 - val_loss: 0.0016\n",
      "Epoch 19/200\n",
      "24/24 [==============================] - 0s 1ms/step - loss: 0.0067 - val_loss: 5.3884e-04\n",
      "Epoch 20/200\n",
      "24/24 [==============================] - 0s 1ms/step - loss: 0.0094 - val_loss: 0.0010\n",
      "Epoch 21/200\n",
      "24/24 [==============================] - 0s 2ms/step - loss: 0.0037 - val_loss: 0.0048\n",
      "Epoch 22/200\n",
      "24/24 [==============================] - 0s 2ms/step - loss: 0.0031 - val_loss: 0.0026\n",
      "Epoch 23/200\n",
      "24/24 [==============================] - 0s 1ms/step - loss: 0.0026 - val_loss: 0.0026\n",
      "Epoch 24/200\n",
      "24/24 [==============================] - 0s 1ms/step - loss: 0.0018 - val_loss: 0.0014\n",
      "Epoch 25/200\n",
      "24/24 [==============================] - 0s 1ms/step - loss: 0.0017 - val_loss: 0.0045\n",
      "Epoch 26/200\n",
      "24/24 [==============================] - 0s 1ms/step - loss: 0.0013 - val_loss: 2.3920e-04\n",
      "Epoch 27/200\n",
      "24/24 [==============================] - 0s 1ms/step - loss: 0.0038 - val_loss: 4.6599e-04\n",
      "Epoch 28/200\n",
      "24/24 [==============================] - 0s 1ms/step - loss: 0.0015 - val_loss: 0.0039\n",
      "Epoch 29/200\n",
      "24/24 [==============================] - 0s 1ms/step - loss: 0.0034 - val_loss: 0.0031\n",
      "Epoch 30/200\n",
      "24/24 [==============================] - 0s 1ms/step - loss: 0.0019 - val_loss: 0.0010\n",
      "Epoch 31/200\n",
      "24/24 [==============================] - 0s 1ms/step - loss: 0.0055 - val_loss: 0.0012\n",
      "Epoch 32/200\n",
      "24/24 [==============================] - 0s 1ms/step - loss: 0.0090 - val_loss: 0.0066\n",
      "Epoch 33/200\n",
      "24/24 [==============================] - 0s 1ms/step - loss: 0.0044 - val_loss: 0.0584\n",
      "Epoch 34/200\n",
      "24/24 [==============================] - 0s 1ms/step - loss: 0.0367 - val_loss: 0.0012\n",
      "Epoch 35/200\n",
      "24/24 [==============================] - 0s 1ms/step - loss: 0.0037 - val_loss: 0.0029\n",
      "Epoch 36/200\n",
      "24/24 [==============================] - 0s 1ms/step - loss: 0.0044 - val_loss: 0.0013\n",
      "Epoch 37/200\n",
      "24/24 [==============================] - 0s 1ms/step - loss: 0.0023 - val_loss: 0.0015\n",
      "Epoch 38/200\n",
      "24/24 [==============================] - 0s 1ms/step - loss: 0.0010 - val_loss: 0.0021\n",
      "Epoch 39/200\n",
      "24/24 [==============================] - 0s 1ms/step - loss: 0.0011 - val_loss: 7.2711e-04\n",
      "Epoch 40/200\n",
      "24/24 [==============================] - 0s 1ms/step - loss: 0.0014 - val_loss: 0.0014\n",
      "Epoch 41/200\n",
      "24/24 [==============================] - 0s 1ms/step - loss: 0.0037 - val_loss: 0.0025\n",
      "Epoch 42/200\n",
      "24/24 [==============================] - 0s 1ms/step - loss: 0.0032 - val_loss: 0.0192\n",
      "Epoch 43/200\n",
      "24/24 [==============================] - 0s 1ms/step - loss: 0.0150 - val_loss: 0.0100\n",
      "Epoch 44/200\n",
      "24/24 [==============================] - 0s 1ms/step - loss: 0.0136 - val_loss: 0.0020\n",
      "Epoch 45/200\n",
      "24/24 [==============================] - 0s 1ms/step - loss: 0.0044 - val_loss: 0.0021\n",
      "Epoch 46/200\n",
      "24/24 [==============================] - 0s 1ms/step - loss: 0.0031 - val_loss: 0.0021\n",
      "Epoch 47/200\n",
      "24/24 [==============================] - 0s 1ms/step - loss: 0.0058 - val_loss: 0.0016\n",
      "Epoch 48/200\n",
      "24/24 [==============================] - 0s 1ms/step - loss: 0.0034 - val_loss: 0.0018\n",
      "Epoch 49/200\n",
      "24/24 [==============================] - 0s 1ms/step - loss: 0.0039 - val_loss: 0.0014\n",
      "Epoch 50/200\n",
      "24/24 [==============================] - 0s 1ms/step - loss: 0.0023 - val_loss: 4.1530e-04\n",
      "Epoch 51/200\n",
      "24/24 [==============================] - 0s 1ms/step - loss: 0.0015 - val_loss: 6.7035e-04\n",
      "Epoch 52/200\n",
      "24/24 [==============================] - 0s 1ms/step - loss: 0.0025 - val_loss: 0.0014\n",
      "Epoch 53/200\n",
      "24/24 [==============================] - 0s 1ms/step - loss: 0.0024 - val_loss: 0.0063\n",
      "Epoch 54/200\n",
      "24/24 [==============================] - 0s 1ms/step - loss: 0.0047 - val_loss: 0.0027\n",
      "Epoch 55/200\n",
      "24/24 [==============================] - 0s 1ms/step - loss: 0.0039 - val_loss: 7.3288e-04\n",
      "Epoch 56/200\n",
      "24/24 [==============================] - 0s 1ms/step - loss: 0.0012 - val_loss: 0.0010\n",
      "Epoch 57/200\n",
      "24/24 [==============================] - 0s 1ms/step - loss: 4.9679e-04 - val_loss: 4.7726e-04\n",
      "Epoch 58/200\n",
      "24/24 [==============================] - 0s 1ms/step - loss: 0.0016 - val_loss: 0.0239\n",
      "Epoch 59/200\n",
      "24/24 [==============================] - 0s 1ms/step - loss: 0.0287 - val_loss: 0.0205\n",
      "Epoch 60/200\n",
      "24/24 [==============================] - 0s 1ms/step - loss: 0.0146 - val_loss: 0.0080\n",
      "Epoch 61/200\n",
      "24/24 [==============================] - 0s 1ms/step - loss: 0.0061 - val_loss: 0.0014\n",
      "Epoch 62/200\n",
      "24/24 [==============================] - 0s 1ms/step - loss: 0.0031 - val_loss: 0.0017\n",
      "Epoch 63/200\n",
      "24/24 [==============================] - 0s 1ms/step - loss: 0.0046 - val_loss: 0.0088\n",
      "Epoch 64/200\n",
      "24/24 [==============================] - 0s 1ms/step - loss: 0.0053 - val_loss: 0.0022\n",
      "Epoch 65/200\n",
      "24/24 [==============================] - 0s 1ms/step - loss: 0.0032 - val_loss: 0.0020\n",
      "Epoch 66/200\n",
      "24/24 [==============================] - 0s 1ms/step - loss: 0.0030 - val_loss: 0.0039\n",
      "Epoch 67/200\n",
      "24/24 [==============================] - 0s 1ms/step - loss: 0.0015 - val_loss: 0.0017\n",
      "Epoch 68/200\n",
      "24/24 [==============================] - 0s 1ms/step - loss: 0.0029 - val_loss: 0.0013\n",
      "Epoch 69/200\n",
      "24/24 [==============================] - 0s 1ms/step - loss: 0.0054 - val_loss: 0.0168\n",
      "Epoch 70/200\n",
      "24/24 [==============================] - 0s 1ms/step - loss: 0.0148 - val_loss: 0.0035\n",
      "Epoch 71/200\n",
      "24/24 [==============================] - 0s 1ms/step - loss: 0.0043 - val_loss: 0.0039\n",
      "Epoch 72/200\n",
      "24/24 [==============================] - 0s 1ms/step - loss: 0.0043 - val_loss: 0.0071\n",
      "Epoch 73/200\n",
      "24/24 [==============================] - 0s 1ms/step - loss: 0.0084 - val_loss: 4.9388e-04\n",
      "Epoch 74/200\n",
      "24/24 [==============================] - 0s 1ms/step - loss: 0.0032 - val_loss: 0.0011\n",
      "Epoch 75/200\n",
      "24/24 [==============================] - 0s 1ms/step - loss: 0.0071 - val_loss: 0.0022\n",
      "Epoch 76/200\n",
      "24/24 [==============================] - 0s 1ms/step - loss: 0.0019 - val_loss: 0.0024\n",
      "Epoch 77/200\n",
      "24/24 [==============================] - 0s 1ms/step - loss: 0.0032 - val_loss: 0.0017\n",
      "Epoch 78/200\n",
      "24/24 [==============================] - 0s 1ms/step - loss: 0.0045 - val_loss: 0.0029\n",
      "Epoch 79/200\n",
      "24/24 [==============================] - 0s 1ms/step - loss: 0.0029 - val_loss: 0.0049\n",
      "Epoch 80/200\n",
      "24/24 [==============================] - 0s 1ms/step - loss: 0.0103 - val_loss: 0.0012\n",
      "Epoch 81/200\n",
      "24/24 [==============================] - 0s 1ms/step - loss: 0.0018 - val_loss: 5.3756e-04\n",
      "Epoch 82/200\n"
     ]
    },
    {
     "name": "stdout",
     "output_type": "stream",
     "text": [
      "24/24 [==============================] - 0s 1ms/step - loss: 0.0026 - val_loss: 8.1680e-04\n",
      "Epoch 83/200\n",
      "24/24 [==============================] - 0s 1ms/step - loss: 0.0020 - val_loss: 0.0018\n",
      "Epoch 84/200\n",
      "24/24 [==============================] - 0s 1ms/step - loss: 0.0017 - val_loss: 4.9477e-04\n",
      "Epoch 85/200\n",
      "24/24 [==============================] - 0s 1ms/step - loss: 0.0010 - val_loss: 9.4524e-04\n",
      "Epoch 86/200\n",
      "24/24 [==============================] - 0s 1ms/step - loss: 0.0037 - val_loss: 9.6554e-04\n",
      "Epoch 87/200\n",
      "24/24 [==============================] - 0s 1ms/step - loss: 8.4288e-04 - val_loss: 7.4790e-04\n",
      "Epoch 88/200\n",
      "24/24 [==============================] - 0s 1ms/step - loss: 0.0030 - val_loss: 3.7406e-04\n",
      "Epoch 89/200\n",
      "24/24 [==============================] - 0s 1ms/step - loss: 0.0060 - val_loss: 0.0026\n",
      "Epoch 90/200\n",
      "24/24 [==============================] - 0s 1ms/step - loss: 0.0076 - val_loss: 0.0052\n",
      "Epoch 91/200\n",
      "24/24 [==============================] - 0s 1ms/step - loss: 0.0041 - val_loss: 4.2280e-04\n",
      "Epoch 92/200\n",
      "24/24 [==============================] - 0s 1ms/step - loss: 8.9123e-04 - val_loss: 0.0028\n",
      "Epoch 93/200\n",
      "24/24 [==============================] - 0s 1ms/step - loss: 0.0046 - val_loss: 8.6086e-04\n",
      "Epoch 94/200\n",
      "24/24 [==============================] - 0s 1ms/step - loss: 0.0047 - val_loss: 0.0035\n",
      "Epoch 95/200\n",
      "24/24 [==============================] - 0s 1ms/step - loss: 0.0019 - val_loss: 0.0024\n",
      "Epoch 96/200\n",
      "24/24 [==============================] - 0s 1ms/step - loss: 0.0037 - val_loss: 0.0027\n",
      "Epoch 97/200\n",
      "24/24 [==============================] - 0s 1ms/step - loss: 0.0025 - val_loss: 0.0040\n",
      "Epoch 98/200\n",
      "24/24 [==============================] - 0s 1ms/step - loss: 0.0061 - val_loss: 0.0094\n",
      "Epoch 99/200\n",
      "24/24 [==============================] - 0s 1ms/step - loss: 0.0054 - val_loss: 0.0020\n",
      "Epoch 100/200\n",
      "24/24 [==============================] - 0s 1ms/step - loss: 0.0025 - val_loss: 0.0021\n",
      "Epoch 101/200\n",
      "24/24 [==============================] - 0s 1ms/step - loss: 0.0029 - val_loss: 0.0017\n",
      "Epoch 102/200\n",
      "24/24 [==============================] - 0s 1ms/step - loss: 0.0033 - val_loss: 0.0022\n",
      "Epoch 103/200\n",
      "24/24 [==============================] - 0s 1ms/step - loss: 0.0114 - val_loss: 0.0020\n",
      "Epoch 104/200\n",
      "24/24 [==============================] - 0s 1ms/step - loss: 0.0021 - val_loss: 4.5276e-04\n",
      "Epoch 105/200\n",
      "24/24 [==============================] - 0s 1ms/step - loss: 0.0038 - val_loss: 0.0034\n",
      "Epoch 106/200\n",
      "24/24 [==============================] - 0s 1ms/step - loss: 0.0073 - val_loss: 9.1940e-04\n",
      "Epoch 107/200\n",
      "24/24 [==============================] - 0s 1ms/step - loss: 0.0068 - val_loss: 0.0029\n",
      "Epoch 108/200\n",
      "24/24 [==============================] - 0s 1ms/step - loss: 0.0300 - val_loss: 0.0013\n",
      "Epoch 109/200\n",
      "24/24 [==============================] - 0s 1ms/step - loss: 0.0046 - val_loss: 0.0038\n",
      "Epoch 110/200\n",
      "24/24 [==============================] - 0s 1ms/step - loss: 0.0096 - val_loss: 0.0099\n",
      "Epoch 111/200\n",
      "24/24 [==============================] - 0s 1ms/step - loss: 0.0047 - val_loss: 8.2771e-04\n",
      "Epoch 112/200\n",
      "24/24 [==============================] - 0s 1ms/step - loss: 0.0020 - val_loss: 9.3384e-04\n",
      "Epoch 113/200\n",
      "24/24 [==============================] - 0s 1ms/step - loss: 0.0034 - val_loss: 8.9614e-04\n",
      "Epoch 114/200\n",
      "24/24 [==============================] - 0s 1ms/step - loss: 0.0056 - val_loss: 2.6091e-04\n",
      "Epoch 115/200\n",
      "24/24 [==============================] - 0s 1ms/step - loss: 0.0025 - val_loss: 7.5676e-04\n",
      "Epoch 116/200\n",
      "24/24 [==============================] - 0s 1ms/step - loss: 0.0013 - val_loss: 0.0040\n",
      "Epoch 117/200\n",
      "24/24 [==============================] - 0s 1ms/step - loss: 0.0041 - val_loss: 0.0015\n",
      "Epoch 118/200\n",
      "24/24 [==============================] - 0s 1ms/step - loss: 0.0015 - val_loss: 0.0015\n",
      "Epoch 119/200\n",
      "24/24 [==============================] - 0s 1ms/step - loss: 0.0024 - val_loss: 9.6908e-04\n",
      "Epoch 120/200\n",
      "24/24 [==============================] - 0s 1ms/step - loss: 0.0060 - val_loss: 0.0032\n",
      "Epoch 121/200\n",
      "24/24 [==============================] - 0s 1ms/step - loss: 0.0149 - val_loss: 0.0048\n",
      "Epoch 122/200\n",
      "24/24 [==============================] - 0s 1ms/step - loss: 0.0069 - val_loss: 8.3411e-04\n",
      "Epoch 123/200\n",
      "24/24 [==============================] - 0s 1ms/step - loss: 0.0028 - val_loss: 0.0068\n",
      "Epoch 124/200\n",
      "24/24 [==============================] - 0s 1ms/step - loss: 0.0026 - val_loss: 7.9323e-04\n",
      "Epoch 125/200\n",
      "24/24 [==============================] - 0s 1ms/step - loss: 0.0029 - val_loss: 0.0012\n",
      "Epoch 126/200\n",
      "24/24 [==============================] - 0s 1ms/step - loss: 0.0038 - val_loss: 0.0012\n",
      "Epoch 127/200\n",
      "24/24 [==============================] - 0s 1ms/step - loss: 0.0019 - val_loss: 0.0027\n",
      "Epoch 128/200\n",
      "24/24 [==============================] - 0s 1ms/step - loss: 0.0073 - val_loss: 0.0058\n",
      "Epoch 129/200\n",
      "24/24 [==============================] - 0s 1ms/step - loss: 0.0038 - val_loss: 3.5832e-04\n",
      "Epoch 130/200\n",
      "24/24 [==============================] - 0s 1ms/step - loss: 0.0011 - val_loss: 0.0040\n",
      "Epoch 131/200\n",
      "24/24 [==============================] - 0s 1ms/step - loss: 0.0027 - val_loss: 0.0013\n",
      "Epoch 132/200\n",
      "24/24 [==============================] - 0s 1ms/step - loss: 0.0018 - val_loss: 0.0028\n",
      "Epoch 133/200\n",
      "24/24 [==============================] - 0s 1ms/step - loss: 0.0048 - val_loss: 0.0056\n",
      "Epoch 134/200\n",
      "24/24 [==============================] - 0s 1ms/step - loss: 0.0025 - val_loss: 0.0034\n",
      "Epoch 135/200\n",
      "24/24 [==============================] - 0s 1ms/step - loss: 0.0039 - val_loss: 0.0017\n",
      "Epoch 136/200\n",
      "24/24 [==============================] - 0s 1ms/step - loss: 0.0029 - val_loss: 0.0015\n",
      "Epoch 137/200\n",
      "24/24 [==============================] - 0s 1ms/step - loss: 0.0032 - val_loss: 0.0045\n",
      "Epoch 138/200\n",
      "24/24 [==============================] - 0s 1ms/step - loss: 0.0062 - val_loss: 0.0073\n",
      "Epoch 139/200\n",
      "24/24 [==============================] - 0s 1ms/step - loss: 0.0043 - val_loss: 8.5245e-04\n",
      "Epoch 140/200\n",
      "24/24 [==============================] - 0s 1ms/step - loss: 0.0037 - val_loss: 5.1952e-04\n",
      "Epoch 141/200\n",
      "24/24 [==============================] - 0s 1ms/step - loss: 8.1100e-04 - val_loss: 6.0190e-04\n",
      "Epoch 142/200\n",
      "24/24 [==============================] - 0s 1ms/step - loss: 0.0026 - val_loss: 0.0011\n",
      "Epoch 143/200\n",
      "24/24 [==============================] - 0s 1ms/step - loss: 0.0028 - val_loss: 0.0027\n",
      "Epoch 144/200\n",
      "24/24 [==============================] - 0s 1ms/step - loss: 0.0048 - val_loss: 0.0028\n",
      "Epoch 145/200\n",
      "24/24 [==============================] - 0s 1ms/step - loss: 0.0032 - val_loss: 0.0013\n",
      "Epoch 146/200\n",
      "24/24 [==============================] - 0s 1ms/step - loss: 0.0010 - val_loss: 0.0016\n",
      "Epoch 147/200\n",
      "24/24 [==============================] - 0s 1ms/step - loss: 0.0012 - val_loss: 9.7274e-04\n",
      "Epoch 148/200\n",
      "24/24 [==============================] - 0s 1ms/step - loss: 0.0052 - val_loss: 0.0012\n",
      "Epoch 149/200\n",
      "24/24 [==============================] - 0s 1ms/step - loss: 0.0018 - val_loss: 0.0015\n",
      "Epoch 150/200\n",
      "24/24 [==============================] - 0s 1ms/step - loss: 0.0023 - val_loss: 0.0018\n",
      "Epoch 151/200\n",
      "24/24 [==============================] - 0s 1ms/step - loss: 0.0010 - val_loss: 0.0020\n",
      "Epoch 152/200\n",
      "24/24 [==============================] - 0s 1ms/step - loss: 0.0036 - val_loss: 8.3166e-04\n",
      "Epoch 153/200\n",
      "24/24 [==============================] - 0s 1ms/step - loss: 0.0080 - val_loss: 0.0089\n",
      "Epoch 154/200\n",
      "24/24 [==============================] - 0s 1ms/step - loss: 0.0050 - val_loss: 5.4224e-04\n",
      "Epoch 155/200\n",
      "24/24 [==============================] - 0s 1ms/step - loss: 0.0015 - val_loss: 0.0018\n",
      "Epoch 156/200\n",
      "24/24 [==============================] - 0s 1ms/step - loss: 0.0024 - val_loss: 6.2184e-04\n",
      "Epoch 157/200\n",
      "24/24 [==============================] - 0s 1ms/step - loss: 0.0029 - val_loss: 5.3860e-04\n",
      "Epoch 158/200\n",
      "24/24 [==============================] - 0s 1ms/step - loss: 0.0031 - val_loss: 0.0011\n",
      "Epoch 159/200\n",
      "24/24 [==============================] - 0s 1ms/step - loss: 0.0050 - val_loss: 5.8060e-04\n",
      "Epoch 160/200\n",
      "24/24 [==============================] - 0s 1ms/step - loss: 0.0022 - val_loss: 0.0045\n",
      "Epoch 161/200\n",
      "24/24 [==============================] - 0s 1ms/step - loss: 0.0034 - val_loss: 0.0017\n",
      "Epoch 162/200\n"
     ]
    },
    {
     "name": "stdout",
     "output_type": "stream",
     "text": [
      "24/24 [==============================] - 0s 1ms/step - loss: 0.0016 - val_loss: 6.0263e-04\n",
      "Epoch 163/200\n",
      "24/24 [==============================] - 0s 1ms/step - loss: 0.0019 - val_loss: 9.3396e-04\n",
      "Epoch 164/200\n",
      "24/24 [==============================] - 0s 1ms/step - loss: 9.3250e-04 - val_loss: 0.0021\n",
      "Epoch 165/200\n",
      "24/24 [==============================] - 0s 1ms/step - loss: 0.0010 - val_loss: 0.0011\n",
      "Epoch 166/200\n",
      "24/24 [==============================] - 0s 1ms/step - loss: 0.0018 - val_loss: 4.8567e-04\n",
      "Epoch 167/200\n",
      "24/24 [==============================] - 0s 1ms/step - loss: 0.0037 - val_loss: 0.0010\n",
      "Epoch 168/200\n",
      "24/24 [==============================] - 0s 1ms/step - loss: 0.0046 - val_loss: 0.0015\n",
      "Epoch 169/200\n",
      "24/24 [==============================] - 0s 1ms/step - loss: 8.0519e-04 - val_loss: 0.0025\n",
      "Epoch 170/200\n",
      "24/24 [==============================] - 0s 1ms/step - loss: 0.0025 - val_loss: 0.0015\n",
      "Epoch 171/200\n",
      "24/24 [==============================] - 0s 1ms/step - loss: 7.5244e-04 - val_loss: 5.6882e-04\n",
      "Epoch 172/200\n",
      "24/24 [==============================] - 0s 1ms/step - loss: 0.0016 - val_loss: 0.0012\n",
      "Epoch 173/200\n",
      "24/24 [==============================] - 0s 1ms/step - loss: 0.0021 - val_loss: 9.1976e-04\n",
      "Epoch 174/200\n",
      "24/24 [==============================] - 0s 1ms/step - loss: 0.0024 - val_loss: 0.0023\n",
      "Epoch 175/200\n",
      "24/24 [==============================] - 0s 1ms/step - loss: 0.0075 - val_loss: 0.0048\n",
      "Epoch 176/200\n",
      "24/24 [==============================] - 0s 1ms/step - loss: 0.0077 - val_loss: 0.0015\n",
      "Epoch 177/200\n",
      "24/24 [==============================] - 0s 1ms/step - loss: 0.0034 - val_loss: 0.0010\n",
      "Epoch 178/200\n",
      "24/24 [==============================] - 0s 1ms/step - loss: 0.0014 - val_loss: 0.0014\n",
      "Epoch 179/200\n",
      "24/24 [==============================] - 0s 1ms/step - loss: 0.0015 - val_loss: 0.0035\n",
      "Epoch 180/200\n",
      "24/24 [==============================] - 0s 1ms/step - loss: 0.0026 - val_loss: 0.0011\n",
      "Epoch 181/200\n",
      "24/24 [==============================] - 0s 1ms/step - loss: 0.0013 - val_loss: 0.0030\n",
      "Epoch 182/200\n",
      "24/24 [==============================] - 0s 1ms/step - loss: 0.0020 - val_loss: 0.0019\n",
      "Epoch 183/200\n",
      "24/24 [==============================] - 0s 1ms/step - loss: 0.0025 - val_loss: 6.1481e-04\n",
      "Epoch 184/200\n",
      "24/24 [==============================] - 0s 1ms/step - loss: 0.0034 - val_loss: 0.0015\n",
      "Epoch 185/200\n",
      "24/24 [==============================] - 0s 1ms/step - loss: 0.0011 - val_loss: 0.0026\n",
      "Epoch 186/200\n",
      "24/24 [==============================] - 0s 1ms/step - loss: 0.0014 - val_loss: 0.0010\n",
      "Epoch 187/200\n",
      "24/24 [==============================] - 0s 1ms/step - loss: 7.7227e-04 - val_loss: 0.0011\n",
      "Epoch 188/200\n",
      "24/24 [==============================] - 0s 1ms/step - loss: 0.0016 - val_loss: 6.8106e-04\n",
      "Epoch 189/200\n",
      "24/24 [==============================] - 0s 1ms/step - loss: 0.0042 - val_loss: 7.2470e-04\n",
      "Epoch 190/200\n",
      "24/24 [==============================] - 0s 1ms/step - loss: 0.0032 - val_loss: 7.4625e-04\n",
      "Epoch 191/200\n",
      "24/24 [==============================] - 0s 1ms/step - loss: 0.0015 - val_loss: 7.4751e-04\n",
      "Epoch 192/200\n",
      "24/24 [==============================] - 0s 1ms/step - loss: 0.0023 - val_loss: 0.0012\n",
      "Epoch 193/200\n",
      "24/24 [==============================] - 0s 1ms/step - loss: 0.0012 - val_loss: 0.0027\n",
      "Epoch 194/200\n",
      "24/24 [==============================] - 0s 1ms/step - loss: 0.0016 - val_loss: 0.0013\n",
      "Epoch 195/200\n",
      "24/24 [==============================] - 0s 1ms/step - loss: 0.0034 - val_loss: 8.4235e-04\n",
      "Epoch 196/200\n",
      "24/24 [==============================] - 0s 1ms/step - loss: 5.1758e-04 - val_loss: 5.4731e-04\n",
      "Epoch 197/200\n",
      "24/24 [==============================] - 0s 1ms/step - loss: 0.0027 - val_loss: 0.0059\n",
      "Epoch 198/200\n",
      "24/24 [==============================] - 0s 1ms/step - loss: 0.0055 - val_loss: 0.0024\n",
      "Epoch 199/200\n",
      "24/24 [==============================] - 0s 2ms/step - loss: 0.0029 - val_loss: 0.0010\n",
      "Epoch 200/200\n",
      "24/24 [==============================] - 0s 1ms/step - loss: 0.0010 - val_loss: 5.7034e-04\n"
     ]
    }
   ],
   "source": [
    "model_train = neural_model.fit(z_train, y_train, batch_size=batch_size,\n",
    "                                    epochs=epochs,verbose=1,\n",
    "                                    validation_data=(z_test, y_test))\n",
    "#                                     callbacks=callbacks)"
   ]
  },
  {
   "cell_type": "code",
   "execution_count": 8,
   "metadata": {},
   "outputs": [
    {
     "data": {
      "text/plain": [
       "(array([-0.2,  0. ,  0.2,  0.4,  0.6,  0.8,  1. ]),\n",
       " [Text(0, 0, ''),\n",
       "  Text(0, 0, ''),\n",
       "  Text(0, 0, ''),\n",
       "  Text(0, 0, ''),\n",
       "  Text(0, 0, ''),\n",
       "  Text(0, 0, ''),\n",
       "  Text(0, 0, '')])"
      ]
     },
     "execution_count": 8,
     "metadata": {},
     "output_type": "execute_result"
    },
    {
     "data": {
      "image/png": "[encoded data removed]",
      "text/plain": [
       "<Figure size 432x288 with 1 Axes>"
      ]
     },
     "metadata": {
      "needs_background": "light"
     },
     "output_type": "display_data"
    }
   ],
   "source": [
    "# plt.figure(figsize=(4, 3), dpi=100)\n",
    "# plt.figure(figsize=(7, 4), dpi=100)\n",
    "\n",
    "plt.plot(model_train.history['loss'], color='r', )\n",
    "plt.plot(model_train.history['val_loss'], color='g')\n",
    "plt.ylabel('MSE', fontsize=11)\n",
    "plt.xlabel('Epoch', fontsize=11)\n",
    "plt.legend(['training set', 'validation set'], loc='upper right', fontsize=12)\n",
    "plt.xticks(fontsize=10)\n",
    "plt.yticks(fontsize=10)\n",
    "# plt.yscale('log')\n",
    "# plt.hlines(0.1, 0, 100)\n",
    "# plt.text(160, 500, '300 epochs', fontsize=12)\n",
    "# plt.title('FFNN', fontsize=8)\n",
    "# plt.savefig(\"loss_dlbinnedJla_.png\")"
   ]
  },
  {
   "cell_type": "code",
   "execution_count": 9,
   "metadata": {},
   "outputs": [
    {
     "data": {
      "text/plain": [
       "(0.0013265396701171994, 0.0005703362403437495, 0.00103238713927567)"
      ]
     },
     "execution_count": 9,
     "metadata": {},
     "output_type": "execute_result"
    }
   ],
   "source": [
    "unet = np.sqrt(np.min(model_train.history['val_loss']))\n",
    "model_train.history['loss'][-1], model_train.history['val_loss'][-1], model_train.history['val_loss'][-2]"
   ]
  },
  {
   "cell_type": "code",
   "execution_count": null,
   "metadata": {},
   "outputs": [],
   "source": []
  },
  {
   "cell_type": "code",
   "execution_count": 10,
   "metadata": {},
   "outputs": [],
   "source": [
    "# ranz = np.linspace(np.min(z), np.max(z), 31)\n",
    "ranz = z\n",
    "\n",
    "# # ranz = np.arange(0.0, 1.5, 0.01)\n",
    "# ranzz = scalerz.transform(ranz.reshape((-1,1)))\n",
    "\n",
    "# ranzinv = scalerz.transform(ranz.reshape(-1,1))\n",
    "# pred_random = neural_model.predict(ranz)\n",
    "\n",
    "pred_random = neural_model.predict(zz)\n",
    "# pred_random\n",
    "dlfake  = scalerdl.inverse_transform(pred_random[:,0].reshape(-1,1)).reshape(nsize,)\n",
    "# dlfake = pred_random.reshape(31,)\n",
    "# errfake = pred_random[:,1]                                     \n",
    "# dlfake = pred_random[:,0]"
   ]
  },
  {
   "cell_type": "code",
   "execution_count": 11,
   "metadata": {},
   "outputs": [
    {
     "data": {
      "text/plain": [
       "((31,), (31,), 31)"
      ]
     },
     "execution_count": 11,
     "metadata": {},
     "output_type": "execute_result"
    }
   ],
   "source": [
    "np.shape(z), np.shape(dlfake), len(z)"
   ]
  },
  {
   "cell_type": "code",
   "execution_count": 12,
   "metadata": {},
   "outputs": [],
   "source": [
    "index = np.argsort(ranz)\n",
    "ranz = ranz[index]\n",
    "\n",
    "# dlfake = dlfake.reshape(31,)[index]\n",
    "\n",
    "# fake_data = np.stack((z, dlfake[index]), axis=1)\n",
    "fake_data = np.stack((ranz, dlfake[index]), axis=1)"
   ]
  },
  {
   "cell_type": "code",
   "execution_count": 13,
   "metadata": {},
   "outputs": [
    {
     "data": {
      "text/plain": [
       "<matplotlib.legend.Legend at 0x7f2c0877ebe0>"
      ]
     },
     "execution_count": 13,
     "metadata": {},
     "output_type": "execute_result"
    },
    {
     "data": {
      "image/png": "[encoded data removed]",
      "text/plain": [
       "<Figure size 1000x700 with 1 Axes>"
      ]
     },
     "metadata": {
      "needs_background": "light"
     },
     "output_type": "display_data"
    }
   ],
   "source": [
    "plt.figure(figsize=(10, 7), dpi=100)\n",
    "\n",
    "plt.scatter(z, dl, c='g', label='Observations')\n",
    "plt.scatter(z, dlfake, c='r', label='Synthetic data', marker='*')\n",
    "\n",
    "plt.ylabel(\"$D_L(z)$\")\n",
    "plt.xscale('log')\n",
    "# plt.xlim(-0.1, np.max(z)+0.2)\n",
    "plt.tight_layout()\n",
    "plt.legend()\n",
    "# plt.savefig('rec_jla_ffnn.png')"
   ]
  },
  {
   "cell_type": "code",
   "execution_count": 14,
   "metadata": {},
   "outputs": [],
   "source": [
    "# np.savetxt(\"fake_binned_JLA.dat\",  fake_data, delimiter= \" \", header=\"#fake data\\n# z\\n# mu\", fmt='%1.9f')"
   ]
  },
  {
   "cell_type": "code",
   "execution_count": 15,
   "metadata": {},
   "outputs": [],
   "source": [
    "# neural_model.save('../models/FFNN_JLA.h5')"
   ]
  },
  {
   "cell_type": "code",
   "execution_count": 16,
   "metadata": {},
   "outputs": [],
   "source": [
    "# plt.scatter(z, np.exp(errors), c='g', label='Real errors')\n",
    "# plt.scatter(z, np.exp(errfake), c='r', label='synthetic errors')\n",
    "# plt.legend()\n",
    "# Revisar negativos y usar log. "
   ]
  },
  {
   "cell_type": "code",
   "execution_count": null,
   "metadata": {},
   "outputs": [],
   "source": []
  },
  {
   "cell_type": "code",
   "execution_count": null,
   "metadata": {},
   "outputs": [],
   "source": []
  },
  {
   "cell_type": "code",
   "execution_count": null,
   "metadata": {},
   "outputs": [],
   "source": []
  }
 ],
 "metadata": {
  "kernelspec": {
   "display_name": "Python 3",
   "language": "python",
   "name": "python3"
  },
  "language_info": {
   "codemirror_mode": {
    "name": "ipython",
    "version": 3
   },
   "file_extension": ".py",
   "mimetype": "text/x-python",
   "name": "python",
   "nbconvert_exporter": "python",
   "pygments_lexer": "ipython3",
   "version": "3.8.5"
  }
 },
 "nbformat": 4,
 "nbformat_minor": 2
}
