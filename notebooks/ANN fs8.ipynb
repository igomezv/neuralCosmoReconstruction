{
 "cells": [
  {
   "cell_type": "code",
   "execution_count": 1,
   "metadata": {},
   "outputs": [],
   "source": [
    "import os\n",
    "os.environ[\"CUDA_DEVICE_ORDER\"]=\"PCI_BUS_ID\"\n",
    "os.environ[\"CUDA_VISIBLE_DEVICES\"]=\"1\" #model will be trained on GPU 1"
   ]
  },
  {
   "cell_type": "code",
   "execution_count": 2,
   "metadata": {},
   "outputs": [],
   "source": [
    "import tensorflow.keras\n",
    "import tensorflow as tf\n",
    "from matplotlib import pyplot as plt\n",
    "import numpy as np\n",
    "import gzip\n",
    "%matplotlib inline\n",
    "from tensorflow.keras.layers import Input,Conv2D,MaxPooling2D,UpSampling2D, Dense\n",
    "from tensorflow.keras.models import Model\n",
    "from tensorflow.keras.optimizers import RMSprop\n",
    "import pandas as pd\n",
    "from sklearn.preprocessing import StandardScaler, MinMaxScaler\n",
    "from tensorflow.keras.optimizers import Adam\n",
    "from tensorflow.keras.initializers import Constant, RandomNormal\n",
    "import seaborn as sns\n",
    "from scipy.misc import derivative\n",
    "import scipy.integrate as intg\n"
   ]
  },
  {
   "cell_type": "code",
   "execution_count": 3,
   "metadata": {},
   "outputs": [
    {
     "data": {
      "text/html": [
       "<div>\n",
       "<style scoped>\n",
       "    .dataframe tbody tr th:only-of-type {\n",
       "        vertical-align: middle;\n",
       "    }\n",
       "\n",
       "    .dataframe tbody tr th {\n",
       "        vertical-align: top;\n",
       "    }\n",
       "\n",
       "    .dataframe thead th {\n",
       "        text-align: right;\n",
       "    }\n",
       "</style>\n",
       "<table border=\"1\" class=\"dataframe\">\n",
       "  <thead>\n",
       "    <tr style=\"text-align: right;\">\n",
       "      <th></th>\n",
       "      <th>z</th>\n",
       "      <th>$f\\sigma_8$</th>\n",
       "      <th>err</th>\n",
       "    </tr>\n",
       "  </thead>\n",
       "  <tbody>\n",
       "    <tr>\n",
       "      <th>0</th>\n",
       "      <td>0.020</td>\n",
       "      <td>0.4280</td>\n",
       "      <td>0.0465</td>\n",
       "    </tr>\n",
       "    <tr>\n",
       "      <th>1</th>\n",
       "      <td>0.020</td>\n",
       "      <td>0.3980</td>\n",
       "      <td>0.0650</td>\n",
       "    </tr>\n",
       "    <tr>\n",
       "      <th>2</th>\n",
       "      <td>0.020</td>\n",
       "      <td>0.3140</td>\n",
       "      <td>0.0480</td>\n",
       "    </tr>\n",
       "    <tr>\n",
       "      <th>3</th>\n",
       "      <td>0.100</td>\n",
       "      <td>0.3700</td>\n",
       "      <td>0.1300</td>\n",
       "    </tr>\n",
       "    <tr>\n",
       "      <th>4</th>\n",
       "      <td>0.150</td>\n",
       "      <td>0.4900</td>\n",
       "      <td>0.1450</td>\n",
       "    </tr>\n",
       "    <tr>\n",
       "      <th>5</th>\n",
       "      <td>0.170</td>\n",
       "      <td>0.5100</td>\n",
       "      <td>0.0600</td>\n",
       "    </tr>\n",
       "    <tr>\n",
       "      <th>6</th>\n",
       "      <td>0.180</td>\n",
       "      <td>0.3600</td>\n",
       "      <td>0.0900</td>\n",
       "    </tr>\n",
       "    <tr>\n",
       "      <th>7</th>\n",
       "      <td>0.380</td>\n",
       "      <td>0.4400</td>\n",
       "      <td>0.0600</td>\n",
       "    </tr>\n",
       "    <tr>\n",
       "      <th>8</th>\n",
       "      <td>0.250</td>\n",
       "      <td>0.3512</td>\n",
       "      <td>0.0583</td>\n",
       "    </tr>\n",
       "    <tr>\n",
       "      <th>9</th>\n",
       "      <td>0.370</td>\n",
       "      <td>0.4602</td>\n",
       "      <td>0.0378</td>\n",
       "    </tr>\n",
       "    <tr>\n",
       "      <th>10</th>\n",
       "      <td>0.320</td>\n",
       "      <td>0.3840</td>\n",
       "      <td>0.0950</td>\n",
       "    </tr>\n",
       "    <tr>\n",
       "      <th>11</th>\n",
       "      <td>0.590</td>\n",
       "      <td>0.4880</td>\n",
       "      <td>0.0600</td>\n",
       "    </tr>\n",
       "    <tr>\n",
       "      <th>12</th>\n",
       "      <td>0.440</td>\n",
       "      <td>0.4130</td>\n",
       "      <td>0.0800</td>\n",
       "    </tr>\n",
       "    <tr>\n",
       "      <th>13</th>\n",
       "      <td>0.600</td>\n",
       "      <td>0.3900</td>\n",
       "      <td>0.0630</td>\n",
       "    </tr>\n",
       "    <tr>\n",
       "      <th>14</th>\n",
       "      <td>0.730</td>\n",
       "      <td>0.4370</td>\n",
       "      <td>0.0720</td>\n",
       "    </tr>\n",
       "    <tr>\n",
       "      <th>15</th>\n",
       "      <td>0.600</td>\n",
       "      <td>0.5500</td>\n",
       "      <td>0.1200</td>\n",
       "    </tr>\n",
       "    <tr>\n",
       "      <th>16</th>\n",
       "      <td>0.860</td>\n",
       "      <td>0.4000</td>\n",
       "      <td>0.1100</td>\n",
       "    </tr>\n",
       "    <tr>\n",
       "      <th>17</th>\n",
       "      <td>1.400</td>\n",
       "      <td>0.4820</td>\n",
       "      <td>0.1160</td>\n",
       "    </tr>\n",
       "    <tr>\n",
       "      <th>18</th>\n",
       "      <td>0.978</td>\n",
       "      <td>0.3790</td>\n",
       "      <td>0.1760</td>\n",
       "    </tr>\n",
       "    <tr>\n",
       "      <th>19</th>\n",
       "      <td>1.230</td>\n",
       "      <td>0.3850</td>\n",
       "      <td>0.0990</td>\n",
       "    </tr>\n",
       "    <tr>\n",
       "      <th>20</th>\n",
       "      <td>1.526</td>\n",
       "      <td>0.3420</td>\n",
       "      <td>0.0700</td>\n",
       "    </tr>\n",
       "    <tr>\n",
       "      <th>21</th>\n",
       "      <td>1.944</td>\n",
       "      <td>0.3640</td>\n",
       "      <td>0.1060</td>\n",
       "    </tr>\n",
       "  </tbody>\n",
       "</table>\n",
       "</div>"
      ],
      "text/plain": [
       "        z  $f\\sigma_8$     err\n",
       "0   0.020       0.4280  0.0465\n",
       "1   0.020       0.3980  0.0650\n",
       "2   0.020       0.3140  0.0480\n",
       "3   0.100       0.3700  0.1300\n",
       "4   0.150       0.4900  0.1450\n",
       "5   0.170       0.5100  0.0600\n",
       "6   0.180       0.3600  0.0900\n",
       "7   0.380       0.4400  0.0600\n",
       "8   0.250       0.3512  0.0583\n",
       "9   0.370       0.4602  0.0378\n",
       "10  0.320       0.3840  0.0950\n",
       "11  0.590       0.4880  0.0600\n",
       "12  0.440       0.4130  0.0800\n",
       "13  0.600       0.3900  0.0630\n",
       "14  0.730       0.4370  0.0720\n",
       "15  0.600       0.5500  0.1200\n",
       "16  0.860       0.4000  0.1100\n",
       "17  1.400       0.4820  0.1160\n",
       "18  0.978       0.3790  0.1760\n",
       "19  1.230       0.3850  0.0990\n",
       "20  1.526       0.3420  0.0700\n",
       "21  1.944       0.3640  0.1060"
      ]
     },
     "execution_count": 3,
     "metadata": {},
     "output_type": "execute_result"
    }
   ],
   "source": [
    "file = '../data/fs8Diagram.txt'\n",
    "data = pd.read_csv(file, names=['z', '$f\\sigma_8$', 'err', '$\\Omega_ref$'], sep = \"\\t\", skiprows=3)\n",
    "data = data[['z', '$f\\sigma_8$', 'err']]\n",
    "# data.describe()\n",
    "data"
   ]
  },
  {
   "cell_type": "code",
   "execution_count": 4,
   "metadata": {},
   "outputs": [
    {
     "data": {
      "text/plain": [
       "<seaborn.axisgrid.PairGrid at 0x7f4cb5d4fd30>"
      ]
     },
     "execution_count": 4,
     "metadata": {},
     "output_type": "execute_result"
    },
    {
     "data": {
      "image/png": "[encoded data removed]",
      "text/plain": [
       "<Figure size 540x540 with 12 Axes>"
      ]
     },
     "metadata": {
      "needs_background": "light"
     },
     "output_type": "display_data"
    }
   ],
   "source": [
    "sns.pairplot(data, diag_kind=\"kde\")\n",
    "# plt.savefig(\"Distfs8.png\")"
   ]
  },
  {
   "cell_type": "code",
   "execution_count": 5,
   "metadata": {},
   "outputs": [],
   "source": [
    "# a= np.array([12,4,2,7,14,11,20,16,9,19,5,17,1,15,10,8,18,21,0,13,3,6])\n",
    "# a = np.array([21,1,3,10,12,17,8,4,7,16, 2,11,19,13,18,5,9,20,15,14,6,0])\n",
    "shuffle = [x for x in range(len(data.values)) if x%2 ==1]\n",
    "even = [x for x in range(len(data.values)) if x%2 ==0]\n",
    "shuffle.extend(even)\n",
    "# randomize = np.random.permutation(len(data.values))\n",
    "data = data.values[shuffle]\n",
    "# array([17, 10,  1, 19, 12,  8, 14, 18,  4,  3,  6,  9, 21, 16,  2, 15,  0,\n",
    "#        20,  7,  5, 11, 13])\n",
    "# array([ 1, 15, 12, 20, 21,  3, 18, 13,  7, 19,  9,  8, 14,  6, 11,  4,  0,\n",
    "#         5,  2, 10, 16, 17])"
   ]
  },
  {
   "cell_type": "markdown",
   "metadata": {},
   "source": [
    "Read the data for cosmic chronometers"
   ]
  },
  {
   "cell_type": "code",
   "execution_count": 6,
   "metadata": {},
   "outputs": [],
   "source": [
    "z = data[:,0]\n",
    "y = data[:,1:]\n",
    "# print(randomize)"
   ]
  },
  {
   "cell_type": "code",
   "execution_count": 7,
   "metadata": {},
   "outputs": [],
   "source": [
    "scalerz = StandardScaler()\n",
    "# scalerz = MinMaxScaler(feature_range=(-1,1))\n",
    "# fit scaler on data\n",
    "scalerz.fit(z.reshape(-1,1))\n",
    "# apply transform\n",
    "z = scalerz.transform(z.reshape(-1,1))\n",
    "\n",
    "# scalery = MinMaxScaler(feature_range=(0,1))\n",
    "# scalery = StandardScaler()\n",
    "# scalery.fit(y)\n",
    "# y = scalery.transform(y)"
   ]
  },
  {
   "cell_type": "code",
   "execution_count": 8,
   "metadata": {},
   "outputs": [],
   "source": [
    "split = 0.8\n",
    "ntrain = int(split * len(z))\n",
    "indx = [ntrain]\n",
    "z_train, z_test = np.split(z, indx)\n",
    "y_train, y_test = np.split(y, indx)"
   ]
  },
  {
   "cell_type": "code",
   "execution_count": 9,
   "metadata": {},
   "outputs": [],
   "source": [
    "callbacks = [tf.keras.callbacks.EarlyStopping(monitor='val_loss', mode='min',\n",
    "                                   min_delta=0.001,\n",
    "                                   patience=50,\n",
    "                                   restore_best_weights=True)]\n",
    "#                      tf.keras.callbacks.ReduceLROnPlateau(patience=10)]\n",
    "# initializer = Constant(value=0.01)\n",
    "# initializer = RandomNormal()"
   ]
  },
  {
   "cell_type": "code",
   "execution_count": 10,
   "metadata": {},
   "outputs": [
    {
     "name": "stdout",
     "output_type": "stream",
     "text": [
      "Model: \"functional_1\"\n",
      "_________________________________________________________________\n",
      "Layer (type)                 Output Shape              Param #   \n",
      "=================================================================\n",
      "input_1 (InputLayer)         [(None, 1)]               0         \n",
      "_________________________________________________________________\n",
      "dense (Dense)                (None, 100)               200       \n",
      "_________________________________________________________________\n",
      "dense_1 (Dense)              (None, 50)                5050      \n",
      "_________________________________________________________________\n",
      "dense_2 (Dense)              (None, 50)                2550      \n",
      "_________________________________________________________________\n",
      "dense_3 (Dense)              (None, 2)                 102       \n",
      "=================================================================\n",
      "Total params: 7,902\n",
      "Trainable params: 7,902\n",
      "Non-trainable params: 0\n",
      "_________________________________________________________________\n"
     ]
    }
   ],
   "source": [
    "def model(input_z):\n",
    "    efirst = Dense(100, activation='relu', input_shape=(1,))(input_z)\n",
    "    ehidden = Dense(50, activation='relu')(efirst)\n",
    "    ehidden2 = Dense(50, activation='relu')(ehidden)\n",
    "    elast = Dense(2, activation='relu')(ehidden2)\n",
    "    return elast\n",
    "\n",
    "\n",
    "input_z = Input(shape = (1,))\n",
    "neural_model = Model(input_z, model(input_z))\n",
    "neural_model.compile(loss='mean_squared_error', optimizer = \"adam\")\n",
    "neural_model.summary()"
   ]
  },
  {
   "cell_type": "code",
   "execution_count": 11,
   "metadata": {},
   "outputs": [],
   "source": [
    "# batch_size = 4\n",
    "batch_size = 4\n",
    "input_z = Input(shape = (1,))\n",
    "epochs = 100"
   ]
  },
  {
   "cell_type": "code",
   "execution_count": 12,
   "metadata": {},
   "outputs": [
    {
     "name": "stdout",
     "output_type": "stream",
     "text": [
      "Epoch 1/100\n",
      "5/5 [==============================] - 0s 19ms/step - loss: 0.0925 - val_loss: 0.0802\n",
      "Epoch 2/100\n",
      "5/5 [==============================] - 0s 3ms/step - loss: 0.0917 - val_loss: 0.0799\n",
      "Epoch 3/100\n",
      "5/5 [==============================] - 0s 3ms/step - loss: 0.0916 - val_loss: 0.0795\n",
      "Epoch 4/100\n",
      "5/5 [==============================] - 0s 3ms/step - loss: 0.0914 - val_loss: 0.0792\n",
      "Epoch 5/100\n",
      "5/5 [==============================] - 0s 3ms/step - loss: 0.0914 - val_loss: 0.0791\n",
      "Epoch 6/100\n",
      "5/5 [==============================] - 0s 3ms/step - loss: 0.0913 - val_loss: 0.0792\n",
      "Epoch 7/100\n",
      "5/5 [==============================] - 0s 3ms/step - loss: 0.0913 - val_loss: 0.0791\n",
      "Epoch 8/100\n",
      "5/5 [==============================] - 0s 4ms/step - loss: 0.0915 - val_loss: 0.0791\n",
      "Epoch 9/100\n",
      "5/5 [==============================] - 0s 3ms/step - loss: 0.0913 - val_loss: 0.0792\n",
      "Epoch 10/100\n",
      "5/5 [==============================] - 0s 3ms/step - loss: 0.0914 - val_loss: 0.0792\n",
      "Epoch 11/100\n",
      "5/5 [==============================] - 0s 3ms/step - loss: 0.0914 - val_loss: 0.0791\n",
      "Epoch 12/100\n",
      "5/5 [==============================] - 0s 3ms/step - loss: 0.0914 - val_loss: 0.0790\n",
      "Epoch 13/100\n",
      "5/5 [==============================] - 0s 3ms/step - loss: 0.0913 - val_loss: 0.0794\n",
      "Epoch 14/100\n",
      "5/5 [==============================] - 0s 3ms/step - loss: 0.0917 - val_loss: 0.0790\n",
      "Epoch 15/100\n",
      "5/5 [==============================] - 0s 4ms/step - loss: 0.0914 - val_loss: 0.0793\n",
      "Epoch 16/100\n",
      "5/5 [==============================] - 0s 3ms/step - loss: 0.0915 - val_loss: 0.0790\n",
      "Epoch 17/100\n",
      "5/5 [==============================] - 0s 3ms/step - loss: 0.0913 - val_loss: 0.0792\n",
      "Epoch 18/100\n",
      "5/5 [==============================] - 0s 3ms/step - loss: 0.0914 - val_loss: 0.0791\n",
      "Epoch 19/100\n",
      "5/5 [==============================] - 0s 3ms/step - loss: 0.0914 - val_loss: 0.0790\n",
      "Epoch 20/100\n",
      "5/5 [==============================] - 0s 3ms/step - loss: 0.0913 - val_loss: 0.0791\n",
      "Epoch 21/100\n",
      "5/5 [==============================] - 0s 3ms/step - loss: 0.0915 - val_loss: 0.0790\n",
      "Epoch 22/100\n",
      "5/5 [==============================] - 0s 3ms/step - loss: 0.0913 - val_loss: 0.0788\n",
      "Epoch 23/100\n",
      "5/5 [==============================] - 0s 3ms/step - loss: 0.0837 - val_loss: 0.0642\n",
      "Epoch 24/100\n",
      "5/5 [==============================] - 0s 3ms/step - loss: 0.0483 - val_loss: 0.0268\n",
      "Epoch 25/100\n",
      "5/5 [==============================] - 0s 3ms/step - loss: 0.0187 - val_loss: 0.0084\n",
      "Epoch 26/100\n",
      "5/5 [==============================] - 0s 3ms/step - loss: 0.0112 - val_loss: 0.0048\n",
      "Epoch 27/100\n",
      "5/5 [==============================] - 0s 3ms/step - loss: 0.0097 - val_loss: 0.0042\n",
      "Epoch 28/100\n",
      "5/5 [==============================] - 0s 3ms/step - loss: 0.0071 - val_loss: 0.0024\n",
      "Epoch 29/100\n",
      "5/5 [==============================] - 0s 3ms/step - loss: 0.0054 - val_loss: 0.0026\n",
      "Epoch 30/100\n",
      "5/5 [==============================] - 0s 3ms/step - loss: 0.0041 - val_loss: 0.0020\n",
      "Epoch 31/100\n",
      "5/5 [==============================] - 0s 3ms/step - loss: 0.0032 - val_loss: 7.8810e-04\n",
      "Epoch 32/100\n",
      "5/5 [==============================] - 0s 3ms/step - loss: 0.0029 - val_loss: 0.0012\n",
      "Epoch 33/100\n",
      "5/5 [==============================] - 0s 3ms/step - loss: 0.0024 - val_loss: 0.0032\n",
      "Epoch 34/100\n",
      "5/5 [==============================] - 0s 3ms/step - loss: 0.0027 - val_loss: 0.0022\n",
      "Epoch 35/100\n",
      "5/5 [==============================] - 0s 3ms/step - loss: 0.0023 - val_loss: 0.0015\n",
      "Epoch 36/100\n",
      "5/5 [==============================] - 0s 3ms/step - loss: 0.0023 - val_loss: 0.0015\n",
      "Epoch 37/100\n",
      "5/5 [==============================] - 0s 3ms/step - loss: 0.0022 - val_loss: 0.0017\n",
      "Epoch 38/100\n",
      "5/5 [==============================] - 0s 3ms/step - loss: 0.0021 - val_loss: 0.0020\n",
      "Epoch 39/100\n",
      "5/5 [==============================] - 0s 3ms/step - loss: 0.0021 - val_loss: 0.0018\n",
      "Epoch 40/100\n",
      "5/5 [==============================] - 0s 3ms/step - loss: 0.0022 - val_loss: 0.0017\n",
      "Epoch 41/100\n",
      "5/5 [==============================] - 0s 3ms/step - loss: 0.0022 - val_loss: 0.0022\n",
      "Epoch 42/100\n",
      "5/5 [==============================] - 0s 3ms/step - loss: 0.0021 - val_loss: 0.0025\n",
      "Epoch 43/100\n",
      "5/5 [==============================] - 0s 3ms/step - loss: 0.0024 - val_loss: 0.0029\n",
      "Epoch 44/100\n",
      "5/5 [==============================] - 0s 3ms/step - loss: 0.0023 - val_loss: 0.0041\n",
      "Epoch 45/100\n",
      "5/5 [==============================] - 0s 3ms/step - loss: 0.0023 - val_loss: 0.0023\n",
      "Epoch 46/100\n",
      "5/5 [==============================] - 0s 3ms/step - loss: 0.0023 - val_loss: 0.0020\n",
      "Epoch 47/100\n",
      "5/5 [==============================] - 0s 3ms/step - loss: 0.0023 - val_loss: 0.0025\n",
      "Epoch 48/100\n",
      "5/5 [==============================] - 0s 3ms/step - loss: 0.0024 - val_loss: 0.0018\n",
      "Epoch 49/100\n",
      "5/5 [==============================] - 0s 3ms/step - loss: 0.0023 - val_loss: 0.0055\n",
      "Epoch 50/100\n",
      "5/5 [==============================] - 0s 4ms/step - loss: 0.0029 - val_loss: 0.0043\n",
      "Epoch 51/100\n",
      "5/5 [==============================] - 0s 4ms/step - loss: 0.0025 - val_loss: 0.0013\n",
      "Epoch 52/100\n",
      "5/5 [==============================] - 0s 3ms/step - loss: 0.0028 - val_loss: 0.0011\n",
      "Epoch 53/100\n",
      "5/5 [==============================] - 0s 3ms/step - loss: 0.0020 - val_loss: 0.0024\n",
      "Epoch 54/100\n",
      "5/5 [==============================] - 0s 3ms/step - loss: 0.0034 - val_loss: 0.0040\n",
      "Epoch 55/100\n",
      "5/5 [==============================] - 0s 3ms/step - loss: 0.0024 - val_loss: 0.0022\n",
      "Epoch 56/100\n",
      "5/5 [==============================] - 0s 3ms/step - loss: 0.0029 - val_loss: 0.0017\n",
      "Epoch 57/100\n",
      "5/5 [==============================] - 0s 4ms/step - loss: 0.0030 - val_loss: 0.0025\n",
      "Epoch 58/100\n",
      "5/5 [==============================] - 0s 4ms/step - loss: 0.0022 - val_loss: 0.0027\n",
      "Epoch 59/100\n",
      "5/5 [==============================] - 0s 3ms/step - loss: 0.0021 - val_loss: 0.0017\n",
      "Epoch 60/100\n",
      "5/5 [==============================] - 0s 3ms/step - loss: 0.0022 - val_loss: 0.0014\n",
      "Epoch 61/100\n",
      "5/5 [==============================] - 0s 3ms/step - loss: 0.0022 - val_loss: 0.0017\n",
      "Epoch 62/100\n",
      "5/5 [==============================] - 0s 3ms/step - loss: 0.0021 - val_loss: 0.0024\n",
      "Epoch 63/100\n",
      "5/5 [==============================] - 0s 3ms/step - loss: 0.0022 - val_loss: 0.0023\n",
      "Epoch 64/100\n",
      "5/5 [==============================] - 0s 3ms/step - loss: 0.0021 - val_loss: 0.0025\n",
      "Epoch 65/100\n",
      "5/5 [==============================] - 0s 3ms/step - loss: 0.0021 - val_loss: 0.0024\n",
      "Epoch 66/100\n",
      "5/5 [==============================] - 0s 3ms/step - loss: 0.0023 - val_loss: 0.0023\n",
      "Epoch 67/100\n",
      "5/5 [==============================] - 0s 3ms/step - loss: 0.0024 - val_loss: 0.0022\n",
      "Epoch 68/100\n",
      "5/5 [==============================] - 0s 3ms/step - loss: 0.0023 - val_loss: 0.0017\n",
      "Epoch 69/100\n",
      "5/5 [==============================] - 0s 3ms/step - loss: 0.0022 - val_loss: 0.0025\n",
      "Epoch 70/100\n",
      "5/5 [==============================] - 0s 3ms/step - loss: 0.0022 - val_loss: 0.0028\n",
      "Epoch 71/100\n",
      "5/5 [==============================] - 0s 3ms/step - loss: 0.0021 - val_loss: 0.0024\n",
      "Epoch 72/100\n",
      "5/5 [==============================] - 0s 3ms/step - loss: 0.0021 - val_loss: 0.0027\n",
      "Epoch 73/100\n",
      "5/5 [==============================] - 0s 3ms/step - loss: 0.0023 - val_loss: 0.0038\n",
      "Epoch 74/100\n",
      "5/5 [==============================] - 0s 3ms/step - loss: 0.0022 - val_loss: 0.0028\n",
      "Epoch 75/100\n",
      "5/5 [==============================] - 0s 3ms/step - loss: 0.0020 - val_loss: 0.0022\n",
      "Epoch 76/100\n",
      "5/5 [==============================] - 0s 3ms/step - loss: 0.0021 - val_loss: 0.0019\n",
      "Epoch 77/100\n",
      "5/5 [==============================] - 0s 3ms/step - loss: 0.0021 - val_loss: 0.0024\n",
      "Epoch 78/100\n",
      "5/5 [==============================] - 0s 3ms/step - loss: 0.0021 - val_loss: 0.0022\n",
      "Epoch 79/100\n",
      "5/5 [==============================] - 0s 3ms/step - loss: 0.0022 - val_loss: 0.0016\n",
      "Epoch 80/100\n",
      "5/5 [==============================] - 0s 3ms/step - loss: 0.0022 - val_loss: 0.0026\n",
      "Epoch 81/100\n",
      "5/5 [==============================] - 0s 3ms/step - loss: 0.0021 - val_loss: 0.0026\n",
      "Epoch 82/100\n",
      "5/5 [==============================] - 0s 3ms/step - loss: 0.0020 - val_loss: 0.0021\n",
      "Epoch 83/100\n",
      "5/5 [==============================] - 0s 3ms/step - loss: 0.0025 - val_loss: 0.0013\n",
      "Epoch 84/100\n"
     ]
    },
    {
     "name": "stdout",
     "output_type": "stream",
     "text": [
      "5/5 [==============================] - 0s 3ms/step - loss: 0.0022 - val_loss: 0.0022\n",
      "Epoch 85/100\n",
      "5/5 [==============================] - 0s 4ms/step - loss: 0.0021 - val_loss: 0.0055\n",
      "Epoch 86/100\n",
      "5/5 [==============================] - 0s 3ms/step - loss: 0.0024 - val_loss: 0.0039\n",
      "Epoch 87/100\n",
      "5/5 [==============================] - 0s 3ms/step - loss: 0.0024 - val_loss: 0.0018\n",
      "Epoch 88/100\n",
      "5/5 [==============================] - 0s 4ms/step - loss: 0.0023 - val_loss: 0.0017\n",
      "Epoch 89/100\n",
      "5/5 [==============================] - 0s 3ms/step - loss: 0.0020 - val_loss: 0.0025\n",
      "Epoch 90/100\n",
      "5/5 [==============================] - 0s 3ms/step - loss: 0.0024 - val_loss: 0.0055\n",
      "Epoch 91/100\n",
      "5/5 [==============================] - 0s 3ms/step - loss: 0.0026 - val_loss: 0.0039\n",
      "Epoch 92/100\n",
      "5/5 [==============================] - 0s 3ms/step - loss: 0.0021 - val_loss: 0.0026\n",
      "Epoch 93/100\n",
      "5/5 [==============================] - 0s 3ms/step - loss: 0.0020 - val_loss: 0.0021\n",
      "Epoch 94/100\n",
      "5/5 [==============================] - 0s 3ms/step - loss: 0.0020 - val_loss: 0.0019\n",
      "Epoch 95/100\n",
      "5/5 [==============================] - 0s 3ms/step - loss: 0.0021 - val_loss: 0.0024\n",
      "Epoch 96/100\n",
      "5/5 [==============================] - 0s 3ms/step - loss: 0.0021 - val_loss: 0.0031\n",
      "Epoch 97/100\n",
      "5/5 [==============================] - 0s 3ms/step - loss: 0.0021 - val_loss: 0.0029\n",
      "Epoch 98/100\n",
      "5/5 [==============================] - 0s 3ms/step - loss: 0.0022 - val_loss: 0.0021\n",
      "Epoch 99/100\n",
      "5/5 [==============================] - 0s 3ms/step - loss: 0.0023 - val_loss: 0.0021\n",
      "Epoch 100/100\n",
      "5/5 [==============================] - 0s 3ms/step - loss: 0.0021 - val_loss: 0.0028\n"
     ]
    }
   ],
   "source": [
    "model_train = neural_model.fit(z_train, y_train, batch_size=batch_size,\n",
    "                                    epochs=epochs,verbose=1,\n",
    "                                    validation_data=(z_test, y_test))"
   ]
  },
  {
   "cell_type": "code",
   "execution_count": 31,
   "metadata": {},
   "outputs": [
    {
     "data": {
      "text/plain": [
       "<matplotlib.legend.Legend at 0x7f4c90772eb8>"
      ]
     },
     "execution_count": 31,
     "metadata": {},
     "output_type": "execute_result"
    },
    {
     "data": {
      "image/png": "[encoded data removed]",
      "text/plain": [
       "<Figure size 432x288 with 1 Axes>"
      ]
     },
     "metadata": {
      "needs_background": "light"
     },
     "output_type": "display_data"
    }
   ],
   "source": [
    "plt.plot(model_train.history['loss'], color='r', )\n",
    "plt.plot(model_train.history['val_loss'], color='g')\n",
    "plt.ylabel('MSE')\n",
    "plt.xlabel('Epoch')\n",
    "# plt.xscale('log')\n",
    "plt.xlim(0)\n",
    "plt.legend(['train', 'val'], loc='upper left')\n",
    "# plt.savefig(\"loss_fs8.png\", dpi=200)\n",
    "# plt.savefig(\"loss_epochs_fs8_1000.png\", dpi=200)\n"
   ]
  },
  {
   "cell_type": "code",
   "execution_count": 14,
   "metadata": {},
   "outputs": [
    {
     "data": {
      "text/plain": [
       "(0.0007881031488068401, 0.0020000021904706955)"
      ]
     },
     "execution_count": 14,
     "metadata": {},
     "output_type": "execute_result"
    }
   ],
   "source": [
    "#uncer net\n",
    "unet = np.sqrt(np.min(model_train.history['val_loss']))\n",
    "unet**2, np.min(model_train.history['loss'])\n",
    "# 0.0008741355268284677, 0.0022569920402020216) 20 ep\n",
    "# (0.0009615894523449242, 0.001980467466637492) 100\n",
    "# (0.0008648062357679009, 0.0017015849007293582) 500 ep\n"
   ]
  },
  {
   "cell_type": "code",
   "execution_count": 15,
   "metadata": {},
   "outputs": [
    {
     "data": {
      "text/plain": [
       "array([[0.45428208, 0.06548477],\n",
       "       [0.48118964, 0.09480427],\n",
       "       [0.46756375, 0.09662739],\n",
       "       [0.45866677, 0.1032099 ],\n",
       "       [0.41909373, 0.10931371]], dtype=float32)"
      ]
     },
     "execution_count": 15,
     "metadata": {},
     "output_type": "execute_result"
    }
   ],
   "source": [
    "pred = neural_model.predict(z_test)\n",
    "pred"
   ]
  },
  {
   "cell_type": "code",
   "execution_count": 16,
   "metadata": {},
   "outputs": [],
   "source": [
    "#zor and yor are the original velues for z and [Hz, err]\n",
    "zor = scalerz.inverse_transform(z.reshape(-1,1))\n",
    "# yor = scalery.inverse_transform(y)"
   ]
  },
  {
   "cell_type": "code",
   "execution_count": 17,
   "metadata": {},
   "outputs": [],
   "source": [
    "ranz = np.random.uniform(0, 2, size=10000)\n",
    "r = scalerz.transform(ranz.reshape(-1, 1))\n",
    "pred_random = neural_model.predict(r)\n",
    "rr = scalerz.inverse_transform(r.reshape(-1,1))\n",
    "# predy = scalery.inverse_transform(pred_random)\n"
   ]
  },
  {
   "cell_type": "code",
   "execution_count": 32,
   "metadata": {},
   "outputs": [
    {
     "data": {
      "image/png": "[encoded data removed]",
      "text/plain": [
       "<Figure size 432x288 with 1 Axes>"
      ]
     },
     "metadata": {
      "needs_background": "light"
     },
     "output_type": "display_data"
    }
   ],
   "source": [
    "# plt.errorbar(zor, yor[:,0], yor[:,1], fmt='g.', markersize=15, label='Observations', alpha=0.5)\n",
    "# plt.errorbar(rr, predy[:,0], predy[:,1], fmt='r.', markersize=5, label='Synthetic', alpha=0.01)\n",
    "plt.errorbar(zor, y[:,0], y[:,1], fmt='g.', markersize=15, label='Observations', alpha=0.5)\n",
    "plt.errorbar(rr, pred_random[:,0], pred_random[:,1], fmt='r.', markersize=5, label='Synthetic', alpha=0.01)\n",
    "plt.xlabel(\"Redshift z\")\n",
    "plt.ylabel(\"$f\\sigma_8(z)$\")\n",
    "plt.xlim(0, 2)\n",
    "plt.tight_layout()\n",
    "# plt.legend()\n",
    "# plt.savefig(\"synthetic_fs8_100.png\")"
   ]
  },
  {
   "cell_type": "code",
   "execution_count": 19,
   "metadata": {},
   "outputs": [],
   "source": [
    "# Cosmological constants\n",
    "Om = 0.27\n",
    "# variance network\n",
    "s8 = 0.8"
   ]
  },
  {
   "cell_type": "code",
   "execution_count": 20,
   "metadata": {},
   "outputs": [],
   "source": [
    "def Ezlcdm(a):\n",
    "    return np.sqrt(Om*(1/a)**3 + 1 - Om)\n",
    "\n",
    "\n",
    "# returns the growth factor as a function of redshift\n",
    "def GrowthIntegrand_a(a):\n",
    "    return 1./(self.RHSquared_a(a)*a*a)**(1.5)\n",
    "\n",
    "\n",
    "def growth(z):\n",
    "    # Equation 7.77 from Doddie\n",
    "    af = 1/(1.+z)\n",
    "    r = intg.quad(GrowthIntegrand_a, 1e-7, af)\n",
    "    gr = sp.sqrt(Ezlcdm(af))*r[0]  # assume precision is ok\n",
    "    # If we have Omega_m, let's normalize that way\n",
    "    gr *= 5/2.*Om\n",
    "    return gr\n",
    "\n",
    "\n",
    "def fs8(z):\n",
    "    return -s8*(1+z)*derivative(growth, z, dx=1e-6)/growth(0)"
   ]
  },
  {
   "cell_type": "code",
   "execution_count": 21,
   "metadata": {},
   "outputs": [],
   "source": [
    "# z = np.linspace(0, 2, 10000)\n",
    "# plt.errorbar(zor, y[:,0], y[:,1], fmt='g.', markersize=10, label='Observations')\n",
    "# plt.errorbar(rr, pred_random[:,0], pred_random[:,1], fmt='r.', markersize=4., label='Synthetic data with errors', alpha=0.01)\n",
    "\n",
    "# plt.plot(z, fs8(z), label='$\\Lambda CDM$', c='b')\n",
    "# plt.xlabel(\"Redshift z\")\n",
    "# plt.ylabel(\"$f\\sigma_8(z)$\")\n",
    "# plt.xlim(0, 2)\n",
    "# plt.tight_layout()\n",
    "# plt.legend()\n",
    "\n",
    "# plt.savefig(\"Syntheticfs8.png\",dpi=800)"
   ]
  },
  {
   "cell_type": "code",
   "execution_count": 22,
   "metadata": {},
   "outputs": [
    {
     "data": {
      "text/plain": [
       "((10000, 2), (10000, 1))"
      ]
     },
     "execution_count": 22,
     "metadata": {},
     "output_type": "execute_result"
    }
   ],
   "source": [
    "pred_random.shape, r.shape"
   ]
  },
  {
   "cell_type": "code",
   "execution_count": 23,
   "metadata": {},
   "outputs": [],
   "source": [
    "# randomselection = np.random.randint(0,1000,50)\n",
    "randomselection = np.random.randint(0,1000,50)\n",
    "\n",
    "rr_reduced = rr[randomselection,:]\n",
    "# predy_reduced = predy[randomselection,:]\n",
    "predy_reduced = pred_random[randomselection,:]"
   ]
  },
  {
   "cell_type": "code",
   "execution_count": 24,
   "metadata": {},
   "outputs": [],
   "source": [
    "mookHz = np.concatenate((rr_reduced.reshape(-1,1), predy_reduced), axis=1)\n",
    "\n",
    "\n",
    "# np.savetxt(\"annfs850.dat\",mookHz, delimiter=\" \")"
   ]
  },
  {
   "cell_type": "code",
   "execution_count": 25,
   "metadata": {},
   "outputs": [
    {
     "data": {
      "text/plain": [
       "array([[0.59022878, 0.47936779, 0.0843597 ],\n",
       "       [1.76133966, 0.40115085, 0.10933723],\n",
       "       [1.44994659, 0.42429253, 0.10890422],\n",
       "       [1.4968225 , 0.4211334 , 0.10914366],\n",
       "       [0.81567841, 0.47160995, 0.0943806 ],\n",
       "       [1.7656695 , 0.40082037, 0.10933714],\n",
       "       [1.05189399, 0.45325443, 0.10587419],\n",
       "       [0.09263535, 0.39331415, 0.08036946],\n",
       "       [0.8809215 , 0.46589139, 0.09791937],\n",
       "       [1.19899293, 0.4411377 , 0.10791776],\n",
       "       [0.428881  , 0.45267865, 0.06496224],\n",
       "       [0.68525235, 0.48686835, 0.09536473],\n",
       "       [0.35964712, 0.43454596, 0.06886118],\n",
       "       [1.27710288, 0.43575615, 0.10818757],\n",
       "       [0.84141342, 0.46927053, 0.09539125],\n",
       "       [1.19899293, 0.4411377 , 0.10791776],\n",
       "       [0.17082836, 0.4005439 , 0.08375172],\n",
       "       [0.0753782 , 0.39188859, 0.0786522 ],\n",
       "       [1.14123472, 0.44558367, 0.10781076],\n",
       "       [0.48134211, 0.46183315, 0.0689455 ],\n",
       "       [1.52670729, 0.41904292, 0.10931768],\n",
       "       [1.43917663, 0.42500684, 0.10885976],\n",
       "       [1.76848247, 0.40060565, 0.10933714],\n",
       "       [1.56213288, 0.41635677, 0.10933992],\n",
       "       [1.84548412, 0.39472795, 0.10933614],\n",
       "       [1.10152648, 0.44903979, 0.10736182],\n",
       "       [0.63561145, 0.48754123, 0.09105728],\n",
       "       [1.8925163 , 0.39113787, 0.10933549],\n",
       "       [0.42800362, 0.45254448, 0.06492092],\n",
       "       [0.97177379, 0.45914599, 0.10292961],\n",
       "       [1.22658711, 0.43914849, 0.10797465],\n",
       "       [1.58583279, 0.41454771, 0.10933959],\n",
       "       [0.27000684, 0.40900782, 0.07968817],\n",
       "       [1.38136912, 0.42884079, 0.10862101],\n",
       "       [1.75037813, 0.40198752, 0.10933737],\n",
       "       [1.33966428, 0.4316068 , 0.10844874],\n",
       "       [1.50703619, 0.42043534, 0.10920467],\n",
       "       [0.83307858, 0.47003123, 0.09492217],\n",
       "       [0.20705973, 0.40318546, 0.08312356],\n",
       "       [0.94503493, 0.46114662, 0.10165538],\n",
       "       [1.49867399, 0.42100683, 0.10915472],\n",
       "       [1.30622931, 0.43382427, 0.10831063],\n",
       "       [1.34723324, 0.43110475, 0.10847998],\n",
       "       [0.32102188, 0.42152122, 0.07373028],\n",
       "       [1.14107402, 0.44559774, 0.10781048],\n",
       "       [1.14107402, 0.44559774, 0.10781048],\n",
       "       [0.13773587, 0.39754349, 0.08391991],\n",
       "       [0.71299015, 0.48319927, 0.09532917],\n",
       "       [1.91405135, 0.38949403, 0.10933519],\n",
       "       [0.49488012, 0.46396449, 0.07081477]])"
      ]
     },
     "execution_count": 25,
     "metadata": {},
     "output_type": "execute_result"
    }
   ],
   "source": [
    "mookHz"
   ]
  },
  {
   "cell_type": "code",
   "execution_count": 26,
   "metadata": {},
   "outputs": [
    {
     "data": {
      "text/plain": [
       "array([0.0843597 , 0.10933723, 0.10890422, 0.10914366, 0.0943806 ,\n",
       "       0.10933714, 0.10587419, 0.08036946, 0.09791937, 0.10791776,\n",
       "       0.06496224, 0.09536473, 0.06886118, 0.10818757, 0.09539125,\n",
       "       0.10791776, 0.08375172, 0.0786522 , 0.10781076, 0.0689455 ,\n",
       "       0.10931768, 0.10885976, 0.10933714, 0.10933992, 0.10933614,\n",
       "       0.10736182, 0.09105728, 0.10933549, 0.06492092, 0.10292961,\n",
       "       0.10797465, 0.10933959, 0.07968817, 0.10862101, 0.10933737,\n",
       "       0.10844874, 0.10920467, 0.09492217, 0.08312356, 0.10165538,\n",
       "       0.10915472, 0.10831063, 0.10847998, 0.07373028, 0.10781048,\n",
       "       0.10781048, 0.08391991, 0.09532917, 0.10933519, 0.07081477],\n",
       "      dtype=float32)"
      ]
     },
     "execution_count": 26,
     "metadata": {},
     "output_type": "execute_result"
    }
   ],
   "source": [
    "predy_reduced[:,1]"
   ]
  },
  {
   "cell_type": "code",
   "execution_count": 27,
   "metadata": {},
   "outputs": [
    {
     "data": {
      "text/plain": [
       "array([0.00711656, 0.01195463, 0.01186013, 0.01191234, 0.0089077 ,\n",
       "       0.01195461, 0.01120934, 0.00645925, 0.0095882 , 0.01164624,\n",
       "       0.00422009, 0.00909443, 0.00474186, 0.01170455, 0.00909949,\n",
       "       0.01164624, 0.00701435, 0.00618617, 0.01162316, 0.00475348,\n",
       "       0.01195036, 0.01185045, 0.01195461, 0.01195522, 0.01195439,\n",
       "       0.01152656, 0.00829143, 0.01195425, 0.00421473, 0.0105945 ,\n",
       "       0.01165853, 0.01195515, 0.0063502 , 0.01179852, 0.01195466,\n",
       "       0.01176113, 0.01192566, 0.00901022, 0.00690953, 0.01033382,\n",
       "       0.01191475, 0.01173119, 0.01176791, 0.00543615, 0.0116231 ,\n",
       "       0.0116231 , 0.00704255, 0.00908765, 0.01195418, 0.00501473],\n",
       "      dtype=float32)"
      ]
     },
     "execution_count": 27,
     "metadata": {},
     "output_type": "execute_result"
    }
   ],
   "source": [
    "error  = predy_reduced[:,1]**2\n",
    "error"
   ]
  },
  {
   "cell_type": "code",
   "execution_count": 28,
   "metadata": {},
   "outputs": [
    {
     "data": {
      "text/plain": [
       "(50, 50)"
      ]
     },
     "execution_count": 28,
     "metadata": {},
     "output_type": "execute_result"
    }
   ],
   "source": [
    "diagcov = np.diag(error) #inverso\n",
    "# np.savetxt(\"annfs8_cov50.dat\", diagcov, delimiter= \" \", header=\"#50 50\")\n",
    "np.shape(diagcov)"
   ]
  },
  {
   "cell_type": "code",
   "execution_count": 29,
   "metadata": {},
   "outputs": [
    {
     "data": {
      "text/plain": [
       "<seaborn.axisgrid.PairGrid at 0x7f4ca81cd710>"
      ]
     },
     "execution_count": 29,
     "metadata": {},
     "output_type": "execute_result"
    },
    {
     "data": {
      "image/png": "[encoded data removed]",
      "text/plain": [
       "<Figure size 540x540 with 12 Axes>"
      ]
     },
     "metadata": {
      "needs_background": "light"
     },
     "output_type": "display_data"
    }
   ],
   "source": [
    "dfMook = pd.DataFrame(mookHz, columns=['z', '$f\\sigma_8', 'err'])\n",
    "sns.pairplot(dfMook, diag_kind=\"kde\")\n",
    "# plt.savefig(\"dist50fs8fake.png\")"
   ]
  },
  {
   "cell_type": "code",
   "execution_count": null,
   "metadata": {},
   "outputs": [],
   "source": []
  },
  {
   "cell_type": "code",
   "execution_count": null,
   "metadata": {},
   "outputs": [],
   "source": []
  }
 ],
 "metadata": {
  "kernelspec": {
   "display_name": "Python 3",
   "language": "python",
   "name": "python3"
  },
  "language_info": {
   "codemirror_mode": {
    "name": "ipython",
    "version": 3
   },
   "file_extension": ".py",
   "mimetype": "text/x-python",
   "name": "python",
   "nbconvert_exporter": "python",
   "pygments_lexer": "ipython3",
   "version": "3.6.9"
  }
 },
 "nbformat": 4,
 "nbformat_minor": 2
}
