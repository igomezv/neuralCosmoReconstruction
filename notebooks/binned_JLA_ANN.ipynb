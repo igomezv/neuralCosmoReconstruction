{
 "cells": [
  {
   "cell_type": "code",
   "execution_count": 1,
   "metadata": {},
   "outputs": [],
   "source": [
    "import numpy as np\n",
    "import tensorflow as tf\n",
    "import pandas as pd\n",
    "from sklearn.preprocessing import StandardScaler, MinMaxScaler\n",
    "from matplotlib import pyplot as plt\n",
    "import seaborn as sns\n",
    "import scipy as sp\n",
    "from tensorflow.keras.models import Model\n",
    "from tensorflow.keras.layers import Input,Conv2D,MaxPooling2D,UpSampling2D, Dense\n",
    "from tensorflow.keras.callbacks import TensorBoard\n",
    "from tensorflow.keras import regularizers\n",
    "from tensorflow.keras import layers"
   ]
  },
  {
   "cell_type": "markdown",
   "metadata": {},
   "source": [
    "### In this notebook, we use a compressed version of JLA compilation\n",
    "#### First, we need to read the data. In this case, we use the covariance matrix of systematic errors "
   ]
  },
  {
   "cell_type": "code",
   "execution_count": 2,
   "metadata": {},
   "outputs": [],
   "source": [
    "syscov = np.loadtxt('https://raw.githubusercontent.com/igomezv/neuralCosmoReconstruction/master/data/cov_jla_binned_distances_31nodes_v1.txt?token=AGNUJUJSMOYE4Q2IXMWP26K7SC47M',skiprows=1).reshape((31,31))\n",
    "# syscov = np.loadtxt('data/jla_v0_covmatrix.dat',skiprows=1).reshape((740,740))"
   ]
  },
  {
   "cell_type": "markdown",
   "metadata": {},
   "source": [
    "### Verify that there ar not complex numbers and that the matrix is symmetrical"
   ]
  },
  {
   "cell_type": "code",
   "execution_count": 3,
   "metadata": {},
   "outputs": [
    {
     "data": {
      "text/plain": [
       "0"
      ]
     },
     "execution_count": 3,
     "metadata": {},
     "output_type": "execute_result"
    }
   ],
   "source": [
    "count = 0\n",
    "\n",
    "for i in range(len(syscov)):\n",
    "    for j in range(len(syscov)):\n",
    "        if np.iscomplex(syscov[i,j]):\n",
    "            print(\"COMPLEX\")\n",
    "        if syscov[i,j] != syscov[j,i]:\n",
    "#             print(i,j)\n",
    "#             print(syscov[i,j], syscov[j,i]) \n",
    "            count+=1\n",
    "            syscov[j,i] = syscov[i, j]\n",
    "\n",
    "count"
   ]
  },
  {
   "cell_type": "markdown",
   "metadata": {},
   "source": [
    "### Visualization of the covariance matrix:"
   ]
  },
  {
   "cell_type": "code",
   "execution_count": 4,
   "metadata": {},
   "outputs": [
    {
     "data": {
      "text/plain": [
       "<matplotlib.image.AxesImage at 0x7fb64cfd0358>"
      ]
     },
     "execution_count": 4,
     "metadata": {},
     "output_type": "execute_result"
    },
    {
     "data": {
      "image/png": "[encoded data removed]",
      "text/plain": [
       "<Figure size 432x288 with 1 Axes>"
      ]
     },
     "metadata": {
      "needs_background": "light"
     },
     "output_type": "display_data"
    }
   ],
   "source": [
    "plt.imshow(syscov)\n"
   ]
  },
  {
   "cell_type": "code",
   "execution_count": 5,
   "metadata": {},
   "outputs": [
    {
     "data": {
      "text/plain": [
       "<matplotlib.axes._subplots.AxesSubplot at 0x7fb64cf42eb8>"
      ]
     },
     "execution_count": 5,
     "metadata": {},
     "output_type": "execute_result"
    },
    {
     "data": {
      "image/png": "[encoded data removed]",
      "text/plain": [
       "<Figure size 432x288 with 2 Axes>"
      ]
     },
     "metadata": {
      "needs_background": "light"
     },
     "output_type": "display_data"
    }
   ],
   "source": [
    "sns.heatmap(pd.DataFrame(syscov), annot=False, fmt='g', xticklabels=False, yticklabels=False, \n",
    "            cmap = 'inferno')\n"
   ]
  },
  {
   "cell_type": "code",
   "execution_count": 6,
   "metadata": {},
   "outputs": [
    {
     "data": {
      "text/plain": [
       "(-0.01084098704, 0.02815552265)"
      ]
     },
     "execution_count": 6,
     "metadata": {},
     "output_type": "execute_result"
    }
   ],
   "source": [
    "np.min(syscov), np.max(syscov) #checking non-negatives in the diagonal"
   ]
  },
  {
   "cell_type": "markdown",
   "metadata": {},
   "source": [
    "### Generate a data set with covariance matrix from the original plus gaussian noise"
   ]
  },
  {
   "cell_type": "code",
   "execution_count": 7,
   "metadata": {},
   "outputs": [
    {
     "name": "stdout",
     "output_type": "stream",
     "text": [
      "\r",
      " Generating 1 matrix \r",
      " Generating 2 matrix \r",
      " Generating 3 matrix \r",
      " Generating 4 matrix \r",
      " Generating 5 matrix \r",
      " Generating 6 matrix \r",
      " Generating 7 matrix \r",
      " Generating 8 matrix \r",
      " Generating 9 matrix \r",
      " Generating 10 matrix \r",
      " Generating 11 matrix \r",
      " Generating 12 matrix \r",
      " Generating 13 matrix \r",
      " Generating 14 matrix \r",
      " Generating 15 matrix \r",
      " Generating 16 matrix \r",
      " Generating 17 matrix \r",
      " Generating 18 matrix \r",
      " Generating 19 matrix \r",
      " Generating 20 matrix \r",
      " Generating 21 matrix \r",
      " Generating 22 matrix \r",
      " Generating 23 matrix \r",
      " Generating 24 matrix \r",
      " Generating 25 matrix \r",
      " Generating 26 matrix \r",
      " Generating 27 matrix \r",
      " Generating 28 matrix \r",
      " Generating 29 matrix \r",
      " Generating 30 matrix \r",
      " Generating 31 matrix \r",
      " Generating 32 matrix \r",
      " Generating 33 matrix \r",
      " Generating 34 matrix \r",
      " Generating 35 matrix \r",
      " Generating 36 matrix \r",
      " Generating 37 matrix \r",
      " Generating 38 matrix \r",
      " Generating 39 matrix \r",
      " Generating 40 matrix \r",
      " Generating 41 matrix \r",
      " Generating 42 matrix \r",
      " Generating 43 matrix \r",
      " Generating 44 matrix \r",
      " Generating 45 matrix \r",
      " Generating 46 matrix \r",
      " Generating 47 matrix \r",
      " Generating 48 matrix \r",
      " Generating 49 matrix \r",
      " Generating 50 matrix \r",
      " Generating 51 matrix \r",
      " Generating 52 matrix \r",
      " Generating 53 matrix \r",
      " Generating 54 matrix \r",
      " Generating 55 matrix \r",
      " Generating 56 matrix \r",
      " Generating 57 matrix \r",
      " Generating 58 matrix \r",
      " Generating 59 matrix \r",
      " Generating 60 matrix \r",
      " Generating 61 matrix \r",
      " Generating 62 matrix \r",
      " Generating 63 matrix \r",
      " Generating 64 matrix \r",
      " Generating 65 matrix \r",
      " Generating 66 matrix \r",
      " Generating 67 matrix \r",
      " Generating 68 matrix \r",
      " Generating 69 matrix \r",
      " Generating 70 matrix \r",
      " Generating 71 matrix \r",
      " Generating 72 matrix \r",
      " Generating 73 matrix \r",
      " Generating 74 matrix \r",
      " Generating 75 matrix \r",
      " Generating 76 matrix \r",
      " Generating 77 matrix \r",
      " Generating 78 matrix \r",
      " Generating 79 matrix \r",
      " Generating 80 matrix \r",
      " Generating 81 matrix \r",
      " Generating 82 matrix \r",
      " Generating 83 matrix \r",
      " Generating 84 matrix \r",
      " Generating 85 matrix \r",
      " Generating 86 matrix \r",
      " Generating 87 matrix \r",
      " Generating 88 matrix \r",
      " Generating 89 matrix \r",
      " Generating 90 matrix \r",
      " Generating 91 matrix \r",
      " Generating 92 matrix \r",
      " Generating 93 matrix \r",
      " Generating 94 matrix \r",
      " Generating 95 matrix \r",
      " Generating 96 matrix \r",
      " Generating 97 matrix \r",
      " Generating 98 matrix \r",
      " Generating 99 matrix \r",
      " Generating 100 matrix "
     ]
    }
   ],
   "source": [
    "numMatrix = 100\n",
    "noise_factor = 1e-2\n",
    "covset = np.zeros((numMatrix, 31, 31))\n",
    "for i in range(numMatrix): \n",
    "    print(\"\\r Generating {} matrix\".format(i+1), end=\" \")\n",
    "    covset[i] = syscov  + noise_factor * np.random.normal(loc=0.0, scale=0.01, size=syscov.shape) \n",
    "#     fig = plt.figure(figsize=(6,6))\n",
    "#     sns.heatmap(pd.DataFrame(pset[i]*maxval), \n",
    "#             fmt='g', xticklabels=False, yticklabels=False, \n",
    "#             cmap = 'inferno', cbar=False,\n",
    "#             robust=False)\n",
    "#     fig.savefig('image/covMatrix_{}.png'.format(i), dpi=300, )\n",
    "#     plt.clf()"
   ]
  },
  {
   "cell_type": "code",
   "execution_count": 8,
   "metadata": {},
   "outputs": [
    {
     "data": {
      "text/plain": [
       "<matplotlib.axes._subplots.AxesSubplot at 0x7fb64ca3f6d8>"
      ]
     },
     "execution_count": 8,
     "metadata": {},
     "output_type": "execute_result"
    },
    {
     "data": {
      "image/png": "[encoded data removed]",
      "text/plain": [
       "<Figure size 432x288 with 2 Axes>"
      ]
     },
     "metadata": {
      "needs_background": "light"
     },
     "output_type": "display_data"
    }
   ],
   "source": [
    "sns.heatmap(pd.DataFrame(covset[i]), \n",
    "        fmt='g', xticklabels=False, yticklabels=False, \n",
    "        cmap = 'inferno', cbar=True,\n",
    "        robust=False)"
   ]
  },
  {
   "cell_type": "code",
   "execution_count": 9,
   "metadata": {},
   "outputs": [
    {
     "name": "stdout",
     "output_type": "stream",
     "text": [
      "(100, 31, 31)\n"
     ]
    }
   ],
   "source": [
    "print(np.shape(covset))"
   ]
  },
  {
   "cell_type": "code",
   "execution_count": 10,
   "metadata": {},
   "outputs": [
    {
     "name": "stdout",
     "output_type": "stream",
     "text": [
      "(100, 31, 31)\n"
     ]
    },
    {
     "data": {
      "image/png": "[encoded data removed]",
      "text/plain": [
       "<Figure size 432x288 with 2 Axes>"
      ]
     },
     "metadata": {
      "needs_background": "light"
     },
     "output_type": "display_data"
    }
   ],
   "source": [
    "print(np.shape(covset))\n",
    "split = 0.8\n",
    "ntrain = int(split * numMatrix)\n",
    "indx = [ntrain]\n",
    "covset_train, covset_test = np.split(covset, indx, axis=0)\n",
    "\n",
    "sns.heatmap(pd.DataFrame(covset_test[0]), \n",
    "        fmt='g', xticklabels=False, yticklabels=False, \n",
    "        cmap = 'inferno', cbar=True,\n",
    "        robust=False)\n",
    "covset_train = covset_train.reshape((len(covset_train), np.prod(covset_train.shape[1:])))\n",
    "covset_test = covset_test.reshape((len(covset_test), np.prod(covset_test.shape[1:])))\n"
   ]
  },
  {
   "cell_type": "code",
   "execution_count": 11,
   "metadata": {},
   "outputs": [
    {
     "name": "stdout",
     "output_type": "stream",
     "text": [
      "Model: \"functional_1\"\n",
      "_________________________________________________________________\n",
      "Layer (type)                 Output Shape              Param #   \n",
      "=================================================================\n",
      "input_1 (InputLayer)         [(None, 961)]             0         \n",
      "_________________________________________________________________\n",
      "dense (Dense)                (None, 100)               96200     \n",
      "_________________________________________________________________\n",
      "dense_1 (Dense)              (None, 31)                3131      \n",
      "_________________________________________________________________\n",
      "dense_3 (Dense)              (None, 961)               30752     \n",
      "=================================================================\n",
      "Total params: 130,083\n",
      "Trainable params: 130,083\n",
      "Non-trainable params: 0\n",
      "_________________________________________________________________\n"
     ]
    }
   ],
   "source": [
    "# input_cov = Input(shape=(31, 31, 1))\n",
    "\n",
    "# This is the size of our encoded representations\n",
    "encoding_dim = 31  \n",
    "\n",
    "# This is our input image\n",
    "input_img = tf.keras.Input(shape=(31*31,))\n",
    "# \"encoded\" is the encoded representation of the input\n",
    "x = layers.Dense(100, activation='tanh')(input_img)\n",
    "# x = layers.Dense(200, activation='relu')(x)\n",
    "# x = layers.Dense(100, activation='relu')(x)\n",
    "encoded = layers.Dense(encoding_dim, activation='tanh')(x)\n",
    "# \"decoded\" is the lossy reconstruction of the input\n",
    "# x = layers.Dense(100, activation='relu')(input_img)\n",
    "# x = layers.Dense(200, activation='relu')(x)\n",
    "x = layers.Dense(100, activation='tanh')(input_img)\n",
    "decoded = layers.Dense(31*31, activation='linear')(encoded)\n",
    "\n",
    "# This model maps an input to its reconstruction\n",
    "autoencoder = tf.keras.Model(input_img, decoded)\n",
    "autoencoder.compile(optimizer='adam', loss='mean_squared_error')\n",
    "autoencoder.summary()"
   ]
  },
  {
   "cell_type": "code",
   "execution_count": 12,
   "metadata": {},
   "outputs": [],
   "source": [
    "encoder = tf.keras.Model(input_img, encoded)\n",
    "# This is our encoded (32-dimensional) input\n",
    "encoded_input = tf.keras.Input(shape=(encoding_dim,))\n",
    "# Retrieve the last layer of the autoencoder model\n",
    "decoder_layer = autoencoder.layers[-1]\n",
    "# Create the decoder model\n",
    "decoder = tf.keras.Model(encoded_input, decoder_layer(encoded_input))"
   ]
  },
  {
   "cell_type": "code",
   "execution_count": 13,
   "metadata": {},
   "outputs": [
    {
     "name": "stdout",
     "output_type": "stream",
     "text": [
      "Epoch 1/100\n",
      "3/3 [==============================] - 0s 41ms/step - loss: 2.9971e-06 - val_loss: 2.1211e-06\n",
      "Epoch 2/100\n",
      "3/3 [==============================] - 0s 8ms/step - loss: 1.8489e-06 - val_loss: 1.2925e-06\n",
      "Epoch 3/100\n",
      "3/3 [==============================] - 0s 6ms/step - loss: 1.1709e-06 - val_loss: 7.9820e-07\n",
      "Epoch 4/100\n",
      "3/3 [==============================] - 0s 9ms/step - loss: 6.8168e-07 - val_loss: 4.4683e-07\n",
      "Epoch 5/100\n",
      "3/3 [==============================] - 0s 6ms/step - loss: 3.9739e-07 - val_loss: 2.3678e-07\n",
      "Epoch 6/100\n",
      "3/3 [==============================] - 0s 7ms/step - loss: 1.9398e-07 - val_loss: 1.2920e-07\n",
      "Epoch 7/100\n",
      "3/3 [==============================] - 0s 7ms/step - loss: 1.1775e-07 - val_loss: 7.5246e-08\n",
      "Epoch 8/100\n",
      "3/3 [==============================] - 0s 6ms/step - loss: 7.2414e-08 - val_loss: 7.7936e-08\n",
      "Epoch 9/100\n",
      "3/3 [==============================] - 0s 7ms/step - loss: 7.7028e-08 - val_loss: 7.0115e-08\n",
      "Epoch 10/100\n",
      "3/3 [==============================] - 0s 7ms/step - loss: 7.1905e-08 - val_loss: 7.8640e-08\n",
      "Epoch 11/100\n",
      "3/3 [==============================] - 0s 9ms/step - loss: 7.4965e-08 - val_loss: 6.8909e-08\n",
      "Epoch 12/100\n",
      "3/3 [==============================] - 0s 9ms/step - loss: 6.7613e-08 - val_loss: 5.9975e-08\n",
      "Epoch 13/100\n",
      "3/3 [==============================] - 0s 8ms/step - loss: 5.4172e-08 - val_loss: 4.5932e-08\n",
      "Epoch 14/100\n",
      "3/3 [==============================] - 0s 9ms/step - loss: 4.2131e-08 - val_loss: 3.2636e-08\n",
      "Epoch 15/100\n",
      "3/3 [==============================] - 0s 10ms/step - loss: 3.0405e-08 - val_loss: 2.5545e-08\n",
      "Epoch 16/100\n",
      "3/3 [==============================] - 0s 11ms/step - loss: 2.3640e-08 - val_loss: 1.9740e-08\n",
      "Epoch 17/100\n",
      "3/3 [==============================] - 0s 10ms/step - loss: 1.9068e-08 - val_loss: 1.6785e-08\n",
      "Epoch 18/100\n",
      "3/3 [==============================] - 0s 10ms/step - loss: 1.6670e-08 - val_loss: 1.6169e-08\n",
      "Epoch 19/100\n",
      "3/3 [==============================] - 0s 10ms/step - loss: 1.6005e-08 - val_loss: 1.5286e-08\n",
      "Epoch 20/100\n",
      "3/3 [==============================] - 0s 10ms/step - loss: 1.5432e-08 - val_loss: 1.5179e-08\n",
      "Epoch 21/100\n",
      "3/3 [==============================] - 0s 11ms/step - loss: 1.5091e-08 - val_loss: 1.5100e-08\n",
      "Epoch 22/100\n",
      "3/3 [==============================] - 0s 10ms/step - loss: 1.4881e-08 - val_loss: 1.4367e-08\n",
      "Epoch 23/100\n",
      "3/3 [==============================] - 0s 8ms/step - loss: 1.4341e-08 - val_loss: 1.3661e-08\n",
      "Epoch 24/100\n",
      "3/3 [==============================] - 0s 8ms/step - loss: 1.3640e-08 - val_loss: 1.3185e-08\n",
      "Epoch 25/100\n",
      "3/3 [==============================] - 0s 9ms/step - loss: 1.3008e-08 - val_loss: 1.2743e-08\n",
      "Epoch 26/100\n",
      "3/3 [==============================] - 0s 8ms/step - loss: 1.2649e-08 - val_loss: 1.2568e-08\n",
      "Epoch 27/100\n",
      "3/3 [==============================] - 0s 11ms/step - loss: 1.2542e-08 - val_loss: 1.2576e-08\n",
      "Epoch 28/100\n",
      "3/3 [==============================] - 0s 10ms/step - loss: 1.2611e-08 - val_loss: 1.2591e-08\n",
      "Epoch 29/100\n",
      "3/3 [==============================] - 0s 12ms/step - loss: 1.2667e-08 - val_loss: 1.2767e-08\n",
      "Epoch 30/100\n",
      "3/3 [==============================] - 0s 10ms/step - loss: 1.2729e-08 - val_loss: 1.2334e-08\n",
      "Epoch 31/100\n",
      "3/3 [==============================] - 0s 11ms/step - loss: 1.2554e-08 - val_loss: 1.2246e-08\n",
      "Epoch 32/100\n",
      "3/3 [==============================] - 0s 11ms/step - loss: 1.2525e-08 - val_loss: 1.2991e-08\n",
      "Epoch 33/100\n",
      "3/3 [==============================] - 0s 8ms/step - loss: 1.2602e-08 - val_loss: 1.2356e-08\n",
      "Epoch 34/100\n",
      "3/3 [==============================] - 0s 7ms/step - loss: 1.2452e-08 - val_loss: 1.2286e-08\n",
      "Epoch 35/100\n",
      "3/3 [==============================] - 0s 8ms/step - loss: 1.2522e-08 - val_loss: 1.2374e-08\n",
      "Epoch 36/100\n",
      "3/3 [==============================] - 0s 8ms/step - loss: 1.2632e-08 - val_loss: 1.2651e-08\n",
      "Epoch 37/100\n",
      "3/3 [==============================] - 0s 8ms/step - loss: 1.2663e-08 - val_loss: 1.2505e-08\n",
      "Epoch 38/100\n",
      "3/3 [==============================] - 0s 9ms/step - loss: 1.2570e-08 - val_loss: 1.2221e-08\n",
      "Epoch 39/100\n",
      "3/3 [==============================] - 0s 8ms/step - loss: 1.2366e-08 - val_loss: 1.2560e-08\n",
      "Epoch 40/100\n",
      "3/3 [==============================] - 0s 8ms/step - loss: 1.2494e-08 - val_loss: 1.2145e-08\n",
      "Epoch 41/100\n",
      "3/3 [==============================] - 0s 8ms/step - loss: 1.2450e-08 - val_loss: 1.2367e-08\n",
      "Epoch 42/100\n",
      "3/3 [==============================] - 0s 9ms/step - loss: 1.2340e-08 - val_loss: 1.2306e-08\n",
      "Epoch 43/100\n",
      "3/3 [==============================] - 0s 8ms/step - loss: 1.2428e-08 - val_loss: 1.2427e-08\n",
      "Epoch 44/100\n",
      "3/3 [==============================] - 0s 8ms/step - loss: 1.2589e-08 - val_loss: 1.3006e-08\n",
      "Epoch 45/100\n",
      "3/3 [==============================] - 0s 9ms/step - loss: 1.2946e-08 - val_loss: 1.2795e-08\n",
      "Epoch 46/100\n",
      "3/3 [==============================] - 0s 9ms/step - loss: 1.2914e-08 - val_loss: 1.3239e-08\n",
      "Epoch 47/100\n",
      "3/3 [==============================] - 0s 10ms/step - loss: 1.2778e-08 - val_loss: 1.2588e-08\n",
      "Epoch 48/100\n",
      "3/3 [==============================] - 0s 8ms/step - loss: 1.2787e-08 - val_loss: 1.2165e-08\n",
      "Epoch 49/100\n",
      "3/3 [==============================] - 0s 11ms/step - loss: 1.2634e-08 - val_loss: 1.2672e-08\n",
      "Epoch 50/100\n",
      "3/3 [==============================] - 0s 11ms/step - loss: 1.2507e-08 - val_loss: 1.2475e-08\n"
     ]
    }
   ],
   "source": [
    "callbacks = [tf.keras.callbacks.EarlyStopping(monitor='val_loss', mode='min',\n",
    "                                   min_delta=0,\n",
    "                                   patience=10, \n",
    "                                   restore_best_weights=True)]\n",
    "\n",
    "autoencoder_train = autoencoder.fit(covset_train, covset_train,\n",
    "                epochs=100,\n",
    "                batch_size=32,\n",
    "                shuffle=True,\n",
    "                validation_data=(covset_test, covset_test),\n",
    "                callbacks=callbacks)\n",
    "#                 callbacks=[TensorBoard(log_dir='/tmp/autoencoder')])"
   ]
  },
  {
   "cell_type": "code",
   "execution_count": 14,
   "metadata": {},
   "outputs": [
    {
     "data": {
      "text/plain": [
       "<matplotlib.legend.Legend at 0x7fb640314668>"
      ]
     },
     "execution_count": 14,
     "metadata": {},
     "output_type": "execute_result"
    },
    {
     "data": {
      "image/png": "[encoded data removed]",
      "text/plain": [
       "<Figure size 432x288 with 1 Axes>"
      ]
     },
     "metadata": {
      "needs_background": "light"
     },
     "output_type": "display_data"
    }
   ],
   "source": [
    "plt.plot(autoencoder_train.history['loss'], color='r', )\n",
    "plt.plot(autoencoder_train.history['val_loss'], color='g')\n",
    "# plt.title('model loss function')\n",
    "plt.ylabel('MSE')\n",
    "plt.xlabel('Epochs')\n",
    "plt.legend(['train', 'val'], loc='upper left')\n",
    "# plt.savefig('loss_100ep_mse.png')"
   ]
  },
  {
   "cell_type": "code",
   "execution_count": 15,
   "metadata": {},
   "outputs": [
    {
     "name": "stdout",
     "output_type": "stream",
     "text": [
      "(20, 31)\n"
     ]
    },
    {
     "data": {
      "text/plain": [
       "-0.019683067"
      ]
     },
     "execution_count": 15,
     "metadata": {},
     "output_type": "execute_result"
    }
   ],
   "source": [
    "encoded_imgs = encoder.predict(covset_test)\n",
    "decoded_imgs = decoder.predict(encoded_imgs)\n",
    "print(np.shape(encoded_imgs))\n",
    "df = pd.DataFrame(encoded_imgs)\n",
    "np.min(encoded_imgs)"
   ]
  },
  {
   "cell_type": "code",
   "execution_count": 16,
   "metadata": {},
   "outputs": [
    {
     "name": "stdout",
     "output_type": "stream",
     "text": [
      "(20, 961)\n",
      "266.6666666666667\n"
     ]
    },
    {
     "data": {
      "text/plain": [
       "<matplotlib.axes._subplots.AxesSubplot at 0x7fb64028b588>"
      ]
     },
     "execution_count": 16,
     "metadata": {},
     "output_type": "execute_result"
    },
    {
     "data": {
      "image/png": "[encoded data removed]",
      "text/plain": [
       "<Figure size 432x288 with 2 Axes>"
      ]
     },
     "metadata": {
      "needs_background": "light"
     },
     "output_type": "display_data"
    }
   ],
   "source": [
    "print(np.shape(decoded_imgs))\n",
    "cte = 0.032/0.00012\n",
    "print(cte)\n",
    "\n",
    "sns.heatmap(pd.DataFrame(decoded_imgs[0].reshape(31,31)), \n",
    "            fmt='g', xticklabels=False, yticklabels=False, \n",
    "            cmap = 'inferno', \n",
    "            robust=False)\n",
    "# plt.savefig(\"decoded_img22.png\")"
   ]
  },
  {
   "cell_type": "code",
   "execution_count": 17,
   "metadata": {},
   "outputs": [
    {
     "name": "stdout",
     "output_type": "stream",
     "text": [
      "(20, 961)\n"
     ]
    }
   ],
   "source": [
    "print(np.shape(decoded_imgs))"
   ]
  },
  {
   "cell_type": "code",
   "execution_count": 18,
   "metadata": {},
   "outputs": [
    {
     "data": {
      "image/png": "[encoded data removed]",
      "text/plain": [
       "<Figure size 1440x288 with 20 Axes>"
      ]
     },
     "metadata": {
      "needs_background": "light"
     },
     "output_type": "display_data"
    }
   ],
   "source": [
    "n = 10  # How many digits we will display\n",
    "plt.figure(figsize=(20, 4))\n",
    "for i in range(n):\n",
    "    # Display original\n",
    "    ax = plt.subplot(2, n, i + 1)\n",
    "    plt.imshow(covset_test[i].reshape(31, 31))\n",
    "#     plt.gray()\n",
    "    ax.get_xaxis().set_visible(False)\n",
    "    ax.get_yaxis().set_visible(False)\n",
    "\n",
    "    # Display reconstruction\n",
    "    ax = plt.subplot(2, n, i + 1 + n)\n",
    "    plt.imshow(decoded_imgs[i].reshape(31, 31))\n",
    "#     plt.gray()\n",
    "    ax.get_xaxis().set_visible(False)\n",
    "    ax.get_yaxis().set_visible(False)\n",
    "plt.show()"
   ]
  },
  {
   "cell_type": "code",
   "execution_count": 19,
   "metadata": {},
   "outputs": [
    {
     "data": {
      "image/png": "[encoded data removed]",
      "text/plain": [
       "<Figure size 1440x288 with 20 Axes>"
      ]
     },
     "metadata": {},
     "output_type": "display_data"
    }
   ],
   "source": [
    "n = 10  # How many digits we will display\n",
    "plt.figure(figsize=(20, 4))\n",
    "for i in range(n):\n",
    "    # Display original\n",
    "    ax = plt.subplot(2, n, i + 1)\n",
    "    sns.heatmap(covset_test[i].reshape(31, 31), cbar=False, fmt='g', xticklabels=False, yticklabels=False, \n",
    "                cmap = 'inferno')\n",
    "    # Display reconstruction\n",
    "    ax = plt.subplot(2, n, i + 1 + n)\n",
    "    sns.heatmap(decoded_imgs[i].reshape(31, 31), cbar=False, fmt='g', xticklabels=False, yticklabels=False, \n",
    "                cmap = 'inferno')\n"
   ]
  },
  {
   "cell_type": "code",
   "execution_count": null,
   "metadata": {},
   "outputs": [],
   "source": []
  },
  {
   "cell_type": "code",
   "execution_count": null,
   "metadata": {},
   "outputs": [],
   "source": []
  }
 ],
 "metadata": {
  "kernelspec": {
   "display_name": "Python 3",
   "language": "python",
   "name": "python3"
  },
  "language_info": {
   "codemirror_mode": {
    "name": "ipython",
    "version": 3
   },
   "file_extension": ".py",
   "mimetype": "text/x-python",
   "name": "python",
   "nbconvert_exporter": "python",
   "pygments_lexer": "ipython3",
   "version": "3.6.9"
  }
 },
 "nbformat": 4,
 "nbformat_minor": 2
}
