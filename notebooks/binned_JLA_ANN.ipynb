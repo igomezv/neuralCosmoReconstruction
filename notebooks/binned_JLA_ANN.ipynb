{
 "cells": [
  {
   "cell_type": "code",
   "execution_count": 1,
   "metadata": {},
   "outputs": [],
   "source": [
    "import numpy as np\n",
    "import tensorflow as tf\n",
    "import pandas as pd\n",
    "from sklearn.preprocessing import StandardScaler, MinMaxScaler\n",
    "from matplotlib import pyplot as plt\n",
    "import seaborn as sns\n",
    "import scipy as sp\n",
    "from tensorflow.keras.models import Model\n",
    "from tensorflow.keras.layers import Input,Conv2D,MaxPooling2D,UpSampling2D, Dense\n",
    "from tensorflow.keras.callbacks import TensorBoard\n",
    "from tensorflow.keras import regularizers\n",
    "from tensorflow.keras import layers"
   ]
  },
  {
   "cell_type": "markdown",
   "metadata": {},
   "source": [
    "### In this notebook, we use a compressed version of JLA compilation\n",
    "#### First, we need to read the data. In this case, we use the covariance matrix of systematic errors "
   ]
  },
  {
   "cell_type": "code",
   "execution_count": 2,
   "metadata": {},
   "outputs": [],
   "source": [
    "syscov = np.loadtxt('/home/isidro/Documents/gitHub/misRepos/neuralCosmoReconstruction/data/cov_jla_binned_distances_31nodes_v1.txt',skiprows=1).reshape((31,31))\n",
    "# syscov = np.loadtxt('data/jla_v0_covmatrix.dat',skiprows=1).reshape((740,740))"
   ]
  },
  {
   "cell_type": "markdown",
   "metadata": {},
   "source": [
    "### Verify that there ar not complex numbers and that the matrix is symmetrical"
   ]
  },
  {
   "cell_type": "code",
   "execution_count": 3,
   "metadata": {},
   "outputs": [
    {
     "data": {
      "text/plain": [
       "0"
      ]
     },
     "execution_count": 3,
     "metadata": {},
     "output_type": "execute_result"
    }
   ],
   "source": [
    "count = 0\n",
    "\n",
    "for i in range(len(syscov)):\n",
    "    for j in range(len(syscov)):\n",
    "        if np.iscomplex(syscov[i,j]):\n",
    "            print(\"COMPLEX\")\n",
    "        if syscov[i,j] != syscov[j,i]:\n",
    "#             print(i,j)\n",
    "#             print(syscov[i,j], syscov[j,i]) \n",
    "            count+=1\n",
    "            syscov[j,i] = syscov[i, j]\n",
    "\n",
    "count"
   ]
  },
  {
   "cell_type": "markdown",
   "metadata": {},
   "source": [
    "### Visualization of the covariance matrix:"
   ]
  },
  {
   "cell_type": "code",
   "execution_count": 4,
   "metadata": {},
   "outputs": [
    {
     "data": {
      "text/plain": [
       "<matplotlib.image.AxesImage at 0x7f591deb6320>"
      ]
     },
     "execution_count": 4,
     "metadata": {},
     "output_type": "execute_result"
    },
    {
     "data": {
      "image/png": "[encoded data removed]",
      "text/plain": [
       "<Figure size 432x288 with 1 Axes>"
      ]
     },
     "metadata": {
      "needs_background": "light"
     },
     "output_type": "display_data"
    }
   ],
   "source": [
    "plt.imshow(syscov)"
   ]
  },
  {
   "cell_type": "code",
   "execution_count": 5,
   "metadata": {},
   "outputs": [
    {
     "data": {
      "image/png": "[encoded data removed]",
      "text/plain": [
       "<Figure size 432x288 with 2 Axes>"
      ]
     },
     "metadata": {
      "needs_background": "light"
     },
     "output_type": "display_data"
    }
   ],
   "source": [
    "sns.heatmap(pd.DataFrame(syscov), annot=False, fmt='g', xticklabels=False, yticklabels=False, \n",
    "            cmap = 'inferno')\n",
    "plt.savefig(\"original_cov_binned_JLA.png\", dpi=200)"
   ]
  },
  {
   "cell_type": "code",
   "execution_count": 6,
   "metadata": {},
   "outputs": [
    {
     "data": {
      "text/plain": [
       "(1.695011341e-07, 0.02815552265)"
      ]
     },
     "execution_count": 6,
     "metadata": {},
     "output_type": "execute_result"
    }
   ],
   "source": [
    "np.min(np.abs(syscov)), np.max(np.abs(syscov)) #checking non-negatives in the diagonal"
   ]
  },
  {
   "cell_type": "markdown",
   "metadata": {},
   "source": [
    "### Generate a data set with covariance matrix from the original plus gaussian noise"
   ]
  },
  {
   "cell_type": "code",
   "execution_count": 7,
   "metadata": {},
   "outputs": [
    {
     "name": "stdout",
     "output_type": "stream",
     "text": [
      " Generating 1000 matrix "
     ]
    }
   ],
   "source": [
    "numMatrix = 1000\n",
    "covset = np.zeros((numMatrix, 31, 31))\n",
    "covset_noise = np.zeros((numMatrix, 31, 31))\n",
    "\n",
    "for i in range(numMatrix): \n",
    "    print(\"\\r Generating {} matrix\".format(i+1), end=\" \")\n",
    "    err = np.random.normal() \n",
    "#     val, vec = np.linalg.eigh(syscov)\n",
    "#     D = np.diag(val)    \n",
    "#     covset[i] = (vec+0.0001*err) @ (D) @ (vec+0.0001*err).T\n",
    "    err = np.random.normal(size=syscov.shape) \n",
    "    covset[i] = syscov + 0.001*err\n",
    "    covset_noise[i] = syscov + 0.05*err"
   ]
  },
  {
   "cell_type": "code",
   "execution_count": 8,
   "metadata": {},
   "outputs": [
    {
     "data": {
      "text/plain": [
       "<matplotlib.axes._subplots.AxesSubplot at 0x7f591defd0f0>"
      ]
     },
     "execution_count": 8,
     "metadata": {},
     "output_type": "execute_result"
    },
    {
     "data": {
      "image/png": "[encoded data removed]",
      "text/plain": [
       "<Figure size 432x288 with 2 Axes>"
      ]
     },
     "metadata": {
      "needs_background": "light"
     },
     "output_type": "display_data"
    }
   ],
   "source": [
    "val, vec = np.linalg.eigh(syscov)\n",
    "D = np.diag(val)\n",
    "new = (vec+0.1) @ (D) @ (vec+0.1).T\n",
    "sns.heatmap(pd.DataFrame(syscov), \n",
    "        fmt='g', xticklabels=False, yticklabels=False, \n",
    "        cmap = 'inferno', cbar=True,\n",
    "        robust=False)"
   ]
  },
  {
   "cell_type": "code",
   "execution_count": 53,
   "metadata": {},
   "outputs": [
    {
     "data": {
      "text/plain": [
       "<matplotlib.axes._subplots.AxesSubplot at 0x7f59040714e0>"
      ]
     },
     "execution_count": 53,
     "metadata": {},
     "output_type": "execute_result"
    },
    {
     "data": {
      "image/png": "[encoded data removed]",
      "text/plain": [
       "<Figure size 432x288 with 2 Axes>"
      ]
     },
     "metadata": {
      "needs_background": "light"
     },
     "output_type": "display_data"
    }
   ],
   "source": [
    "sns.heatmap(pd.DataFrame(covset_noise[100]), \n",
    "        fmt='g', xticklabels=False, yticklabels=False, \n",
    "        cmap = 'inferno', cbar=True,\n",
    "        robust=False)"
   ]
  },
  {
   "cell_type": "code",
   "execution_count": 10,
   "metadata": {},
   "outputs": [
    {
     "name": "stdout",
     "output_type": "stream",
     "text": [
      "(1000, 31, 31)\n"
     ]
    }
   ],
   "source": [
    "print(np.shape(covset))"
   ]
  },
  {
   "cell_type": "code",
   "execution_count": 11,
   "metadata": {},
   "outputs": [
    {
     "name": "stdout",
     "output_type": "stream",
     "text": [
      "(1000, 31, 31)\n"
     ]
    },
    {
     "data": {
      "image/png": "[encoded data removed]",
      "text/plain": [
       "<Figure size 432x288 with 2 Axes>"
      ]
     },
     "metadata": {
      "needs_background": "light"
     },
     "output_type": "display_data"
    }
   ],
   "source": [
    "print(np.shape(covset))\n",
    "split = 0.8\n",
    "ntrain = int(split * numMatrix)\n",
    "indx = [ntrain]\n",
    "covset_train, covset_test = np.split(covset, indx, axis=0)\n",
    "covset_noise_train, covset_noise_test = np.split(covset_noise, indx, axis=0)\n",
    "\n",
    "sns.heatmap(pd.DataFrame(covset_test[0]), \n",
    "        fmt='g', xticklabels=False, yticklabels=False, \n",
    "        cmap = 'inferno', cbar=True,\n",
    "        robust=False)\n",
    "\n",
    "covset_train = covset_train.reshape((len(covset_train), np.prod(covset_train.shape[1:])))\n",
    "covset_test = covset_test.reshape((len(covset_test), np.prod(covset_test.shape[1:])))\n",
    "covset_noise_train = covset_noise_train.reshape((len(covset_noise_train), np.prod(covset_noise_train.shape[1:])))\n",
    "covset_noise_test = covset_noise_test.reshape((len(covset_noise_test), np.prod(covset_noise_test.shape[1:])))\n",
    "\n"
   ]
  },
  {
   "cell_type": "code",
   "execution_count": 12,
   "metadata": {},
   "outputs": [
    {
     "name": "stdout",
     "output_type": "stream",
     "text": [
      "Model: \"functional_1\"\n",
      "_________________________________________________________________\n",
      "Layer (type)                 Output Shape              Param #   \n",
      "=================================================================\n",
      "input_1 (InputLayer)         [(None, 961)]             0         \n",
      "_________________________________________________________________\n",
      "dense (Dense)                (None, 300)               288600    \n",
      "_________________________________________________________________\n",
      "dense_1 (Dense)              (None, 200)               60200     \n",
      "_________________________________________________________________\n",
      "dense_2 (Dense)              (None, 31)                6231      \n",
      "_________________________________________________________________\n",
      "dense_3 (Dense)              (None, 200)               6400      \n",
      "_________________________________________________________________\n",
      "dense_4 (Dense)              (None, 300)               60300     \n",
      "_________________________________________________________________\n",
      "dense_5 (Dense)              (None, 961)               289261    \n",
      "=================================================================\n",
      "Total params: 710,992\n",
      "Trainable params: 710,992\n",
      "Non-trainable params: 0\n",
      "_________________________________________________________________\n"
     ]
    }
   ],
   "source": [
    "# input_cov = Input(shape=(31, 31, 1))\n",
    "\n",
    "# This is the size of our encoded representations\n",
    "encoding_dim = 31  \n",
    "\n",
    "# This is our input image\n",
    "input_img = tf.keras.Input(shape=(31*31,))\n",
    "# begin encoder\n",
    "x = layers.Dense(300, activation='tanh')(input_img)\n",
    "x = layers.Dense(200, activation='tanh')(x)\n",
    "encoded = layers.Dense(encoding_dim, activation='tanh')(x)\n",
    "\n",
    "#begin decoder\n",
    "x = layers.Dense(200, activation='tanh')(encoded)\n",
    "x = layers.Dense(300, activation='tanh')(x)\n",
    "decoded = layers.Dense(31*31, activation='linear')(x)\n",
    "\n",
    "# This model maps an input to its reconstruction\n",
    "autoencoder = tf.keras.Model(input_img, decoded)\n",
    "autoencoder.compile(optimizer='adam', loss='mean_squared_error')\n",
    "autoencoder.summary()"
   ]
  },
  {
   "cell_type": "code",
   "execution_count": 13,
   "metadata": {},
   "outputs": [],
   "source": [
    "encoder = tf.keras.Model(input_img, encoded)\n",
    "# This is our encoded (32-dimensional) input\n",
    "encoded_input = tf.keras.Input(shape=(encoding_dim,))\n",
    "\n",
    "decoder_layer1 = autoencoder.layers[-3]\n",
    "decoder_layer2 = autoencoder.layers[-2]\n",
    "decoder_layer3 = autoencoder.layers[-1]\n",
    "\n",
    "# create the decoder model\n",
    "decoder = Model(encoded_input, \n",
    "                decoder_layer3(decoder_layer2(decoder_layer1(encoded_input))))"
   ]
  },
  {
   "cell_type": "code",
   "execution_count": 14,
   "metadata": {},
   "outputs": [
    {
     "name": "stdout",
     "output_type": "stream",
     "text": [
      "Epoch 1/300\n",
      "50/50 [==============================] - 0s 9ms/step - loss: 1.8165e-04 - val_loss: 2.0530e-05\n",
      "Epoch 2/300\n",
      "50/50 [==============================] - 0s 5ms/step - loss: 7.5602e-06 - val_loss: 7.4065e-06\n",
      "Epoch 3/300\n",
      "50/50 [==============================] - 0s 6ms/step - loss: 3.1411e-06 - val_loss: 4.3587e-06\n",
      "Epoch 4/300\n",
      "50/50 [==============================] - 0s 6ms/step - loss: 1.7819e-06 - val_loss: 2.8578e-06\n",
      "Epoch 5/300\n",
      "50/50 [==============================] - 0s 5ms/step - loss: 1.1369e-06 - val_loss: 2.0144e-06\n",
      "Epoch 6/300\n",
      "50/50 [==============================] - 0s 5ms/step - loss: 7.7421e-07 - val_loss: 1.5019e-06\n",
      "Epoch 7/300\n",
      "50/50 [==============================] - 0s 5ms/step - loss: 5.5711e-07 - val_loss: 1.1439e-06\n",
      "Epoch 8/300\n",
      "50/50 [==============================] - 0s 5ms/step - loss: 4.1282e-07 - val_loss: 9.0379e-07\n",
      "Epoch 9/300\n",
      "50/50 [==============================] - 0s 5ms/step - loss: 3.1881e-07 - val_loss: 7.2981e-07\n",
      "Epoch 10/300\n",
      "50/50 [==============================] - 0s 5ms/step - loss: 2.5160e-07 - val_loss: 6.0046e-07\n",
      "Epoch 11/300\n",
      "50/50 [==============================] - 0s 5ms/step - loss: 2.0506e-07 - val_loss: 5.0717e-07\n",
      "Epoch 12/300\n",
      "50/50 [==============================] - 0s 5ms/step - loss: 1.6820e-07 - val_loss: 4.2543e-07\n",
      "Epoch 13/300\n",
      "50/50 [==============================] - 0s 5ms/step - loss: 1.4059e-07 - val_loss: 3.6678e-07\n",
      "Epoch 14/300\n",
      "50/50 [==============================] - 0s 5ms/step - loss: 1.1919e-07 - val_loss: 3.1758e-07\n",
      "Epoch 15/300\n",
      "50/50 [==============================] - 0s 5ms/step - loss: 1.0291e-07 - val_loss: 2.7935e-07\n",
      "Epoch 16/300\n",
      "50/50 [==============================] - 0s 5ms/step - loss: 8.9377e-08 - val_loss: 2.4800e-07\n",
      "Epoch 17/300\n",
      "50/50 [==============================] - 0s 6ms/step - loss: 7.8455e-08 - val_loss: 2.1694e-07\n",
      "Epoch 18/300\n",
      "50/50 [==============================] - 0s 6ms/step - loss: 6.9867e-08 - val_loss: 1.9667e-07\n",
      "Epoch 19/300\n",
      "50/50 [==============================] - 0s 5ms/step - loss: 6.2557e-08 - val_loss: 1.7666e-07\n",
      "Epoch 20/300\n",
      "50/50 [==============================] - 0s 6ms/step - loss: 5.5680e-08 - val_loss: 1.5990e-07\n",
      "Epoch 21/300\n",
      "50/50 [==============================] - 0s 6ms/step - loss: 5.0870e-08 - val_loss: 1.4578e-07\n",
      "Epoch 22/300\n",
      "50/50 [==============================] - 0s 6ms/step - loss: 4.6053e-08 - val_loss: 1.3364e-07\n",
      "Epoch 23/300\n",
      "50/50 [==============================] - 0s 5ms/step - loss: 4.2193e-08 - val_loss: 1.2158e-07\n",
      "Epoch 24/300\n",
      "50/50 [==============================] - 0s 5ms/step - loss: 3.9148e-08 - val_loss: 1.1238e-07\n",
      "Epoch 25/300\n",
      "50/50 [==============================] - 0s 6ms/step - loss: 3.6450e-08 - val_loss: 1.0378e-07\n",
      "Epoch 26/300\n",
      "50/50 [==============================] - 0s 5ms/step - loss: 3.3957e-08 - val_loss: 9.6647e-08\n",
      "Epoch 27/300\n",
      "50/50 [==============================] - 0s 6ms/step - loss: 3.2094e-08 - val_loss: 9.0526e-08\n",
      "Epoch 28/300\n",
      "50/50 [==============================] - 0s 5ms/step - loss: 3.0296e-08 - val_loss: 8.4964e-08\n",
      "Epoch 29/300\n",
      "50/50 [==============================] - 0s 5ms/step - loss: 2.8498e-08 - val_loss: 7.9314e-08\n",
      "Epoch 30/300\n",
      "50/50 [==============================] - 0s 5ms/step - loss: 2.7053e-08 - val_loss: 7.5167e-08\n",
      "Epoch 31/300\n",
      "50/50 [==============================] - 0s 5ms/step - loss: 2.6208e-08 - val_loss: 7.0540e-08\n",
      "Epoch 32/300\n",
      "50/50 [==============================] - 0s 5ms/step - loss: 2.4913e-08 - val_loss: 6.7123e-08\n",
      "Epoch 33/300\n",
      "50/50 [==============================] - 0s 6ms/step - loss: 2.4012e-08 - val_loss: 6.2981e-08\n",
      "Epoch 34/300\n",
      "50/50 [==============================] - 0s 5ms/step - loss: 2.2941e-08 - val_loss: 6.0509e-08\n",
      "Epoch 35/300\n",
      "50/50 [==============================] - 0s 5ms/step - loss: 2.2096e-08 - val_loss: 5.7149e-08\n",
      "Epoch 36/300\n",
      "50/50 [==============================] - 0s 7ms/step - loss: 2.1452e-08 - val_loss: 5.5150e-08\n",
      "Epoch 37/300\n",
      "50/50 [==============================] - 0s 6ms/step - loss: 2.0739e-08 - val_loss: 5.3199e-08\n",
      "Epoch 38/300\n",
      "50/50 [==============================] - 0s 5ms/step - loss: 2.0438e-08 - val_loss: 5.0351e-08\n",
      "Epoch 39/300\n",
      "50/50 [==============================] - 0s 5ms/step - loss: 1.9856e-08 - val_loss: 4.8498e-08\n",
      "Epoch 40/300\n",
      "50/50 [==============================] - 0s 7ms/step - loss: 1.9694e-08 - val_loss: 4.6848e-08\n",
      "Epoch 41/300\n",
      "50/50 [==============================] - 0s 7ms/step - loss: 1.9174e-08 - val_loss: 4.5112e-08\n",
      "Epoch 42/300\n",
      "50/50 [==============================] - 0s 6ms/step - loss: 1.8710e-08 - val_loss: 4.3648e-08\n",
      "Epoch 43/300\n",
      "50/50 [==============================] - 0s 6ms/step - loss: 1.8057e-08 - val_loss: 4.1849e-08\n",
      "Epoch 44/300\n",
      "50/50 [==============================] - 0s 6ms/step - loss: 1.7836e-08 - val_loss: 4.0485e-08\n",
      "Epoch 45/300\n",
      "50/50 [==============================] - 0s 6ms/step - loss: 1.7537e-08 - val_loss: 3.9450e-08\n",
      "Epoch 46/300\n",
      "50/50 [==============================] - 0s 7ms/step - loss: 1.7513e-08 - val_loss: 3.7980e-08\n",
      "Epoch 47/300\n",
      "50/50 [==============================] - 0s 7ms/step - loss: 1.7128e-08 - val_loss: 3.7443e-08\n",
      "Epoch 48/300\n",
      "50/50 [==============================] - 0s 6ms/step - loss: 1.6889e-08 - val_loss: 3.5978e-08\n",
      "Epoch 49/300\n",
      "50/50 [==============================] - 0s 7ms/step - loss: 1.6672e-08 - val_loss: 3.5344e-08\n",
      "Epoch 50/300\n",
      "50/50 [==============================] - 0s 7ms/step - loss: 1.6621e-08 - val_loss: 3.4255e-08\n",
      "Epoch 51/300\n",
      "50/50 [==============================] - 0s 7ms/step - loss: 1.6557e-08 - val_loss: 3.3496e-08\n",
      "Epoch 52/300\n",
      "50/50 [==============================] - 0s 7ms/step - loss: 1.6318e-08 - val_loss: 3.3204e-08\n",
      "Epoch 53/300\n",
      "50/50 [==============================] - 0s 6ms/step - loss: 1.6293e-08 - val_loss: 3.2034e-08\n",
      "Epoch 54/300\n",
      "50/50 [==============================] - 0s 9ms/step - loss: 1.6146e-08 - val_loss: 3.1097e-08\n",
      "Epoch 55/300\n",
      "50/50 [==============================] - 0s 7ms/step - loss: 1.5909e-08 - val_loss: 3.0663e-08\n",
      "Epoch 56/300\n",
      "50/50 [==============================] - 0s 6ms/step - loss: 1.6029e-08 - val_loss: 3.0357e-08\n",
      "Epoch 57/300\n",
      "50/50 [==============================] - 0s 6ms/step - loss: 1.5662e-08 - val_loss: 2.9969e-08\n",
      "Epoch 58/300\n",
      "50/50 [==============================] - 0s 6ms/step - loss: 1.5488e-08 - val_loss: 2.9187e-08\n",
      "Epoch 59/300\n",
      "50/50 [==============================] - 0s 6ms/step - loss: 1.5329e-08 - val_loss: 2.8332e-08\n",
      "Epoch 60/300\n",
      "50/50 [==============================] - 0s 6ms/step - loss: 1.5432e-08 - val_loss: 2.8232e-08\n",
      "Epoch 61/300\n",
      "50/50 [==============================] - 0s 6ms/step - loss: 1.5583e-08 - val_loss: 2.8045e-08\n",
      "Epoch 62/300\n",
      "50/50 [==============================] - 0s 5ms/step - loss: 1.5970e-08 - val_loss: 2.7976e-08\n",
      "Epoch 63/300\n",
      "50/50 [==============================] - 0s 6ms/step - loss: 1.5624e-08 - val_loss: 2.7248e-08\n",
      "Epoch 64/300\n",
      "50/50 [==============================] - 0s 6ms/step - loss: 1.5492e-08 - val_loss: 2.7020e-08\n",
      "Epoch 65/300\n",
      "50/50 [==============================] - 0s 6ms/step - loss: 1.6060e-08 - val_loss: 2.6665e-08\n",
      "Epoch 66/300\n",
      "50/50 [==============================] - 0s 5ms/step - loss: 1.5646e-08 - val_loss: 2.7441e-08\n",
      "Epoch 67/300\n",
      "50/50 [==============================] - 0s 5ms/step - loss: 1.5736e-08 - val_loss: 2.5847e-08\n",
      "Epoch 68/300\n",
      "50/50 [==============================] - 0s 7ms/step - loss: 1.5747e-08 - val_loss: 2.5257e-08\n",
      "Epoch 69/300\n",
      "50/50 [==============================] - 0s 5ms/step - loss: 1.5408e-08 - val_loss: 2.5715e-08\n",
      "Epoch 70/300\n",
      "50/50 [==============================] - 0s 5ms/step - loss: 1.5893e-08 - val_loss: 2.6106e-08\n",
      "Epoch 71/300\n",
      "50/50 [==============================] - 0s 6ms/step - loss: 1.5659e-08 - val_loss: 2.4743e-08\n",
      "Epoch 72/300\n",
      "50/50 [==============================] - 0s 5ms/step - loss: 1.5377e-08 - val_loss: 2.4690e-08\n",
      "Epoch 73/300\n",
      "50/50 [==============================] - 0s 6ms/step - loss: 1.5741e-08 - val_loss: 2.4923e-08\n",
      "Epoch 74/300\n",
      "50/50 [==============================] - 0s 5ms/step - loss: 1.6663e-08 - val_loss: 2.6397e-08\n",
      "Epoch 75/300\n",
      "50/50 [==============================] - 0s 7ms/step - loss: 1.6456e-08 - val_loss: 2.4025e-08\n",
      "Epoch 76/300\n",
      "50/50 [==============================] - 0s 5ms/step - loss: 1.6110e-08 - val_loss: 2.4577e-08\n"
     ]
    },
    {
     "name": "stdout",
     "output_type": "stream",
     "text": [
      "Epoch 77/300\n",
      "50/50 [==============================] - 0s 6ms/step - loss: 1.6407e-08 - val_loss: 2.4067e-08\n",
      "Epoch 78/300\n",
      "50/50 [==============================] - 0s 6ms/step - loss: 1.6411e-08 - val_loss: 2.4990e-08\n",
      "Epoch 79/300\n",
      "50/50 [==============================] - 0s 6ms/step - loss: 1.6538e-08 - val_loss: 2.4556e-08\n",
      "Epoch 80/300\n",
      "50/50 [==============================] - 0s 6ms/step - loss: 1.6495e-08 - val_loss: 2.4116e-08\n",
      "Epoch 81/300\n",
      "50/50 [==============================] - 0s 5ms/step - loss: 1.8070e-08 - val_loss: 2.6525e-08\n",
      "Epoch 82/300\n",
      "50/50 [==============================] - 0s 6ms/step - loss: 1.8228e-08 - val_loss: 2.4715e-08\n",
      "Epoch 83/300\n",
      "50/50 [==============================] - 0s 5ms/step - loss: 1.6986e-08 - val_loss: 2.5184e-08\n",
      "Epoch 84/300\n",
      "50/50 [==============================] - 0s 6ms/step - loss: 1.8737e-08 - val_loss: 2.8429e-08\n",
      "Epoch 85/300\n",
      "50/50 [==============================] - 0s 6ms/step - loss: 2.2764e-08 - val_loss: 2.7822e-08\n"
     ]
    }
   ],
   "source": [
    "callbacks = [tf.keras.callbacks.EarlyStopping(monitor='val_loss', mode='min',\n",
    "                                   min_delta=0,\n",
    "                                   patience=10, \n",
    "                                   restore_best_weights=True)]\n",
    "\n",
    "autoencoder_train = autoencoder.fit(covset_noise_train, covset_train,\n",
    "                epochs=300,\n",
    "                batch_size=16,\n",
    "                shuffle=True,\n",
    "                validation_data=(covset_noise_test, covset_test),\n",
    "                callbacks=callbacks)\n",
    "#                 callbacks=[TensorBoard(log_dir='/tmp/autoencoder')])"
   ]
  },
  {
   "cell_type": "code",
   "execution_count": 15,
   "metadata": {},
   "outputs": [
    {
     "data": {
      "image/png": "[encoded data removed]",
      "text/plain": [
       "<Figure size 432x288 with 1 Axes>"
      ]
     },
     "metadata": {
      "needs_background": "light"
     },
     "output_type": "display_data"
    }
   ],
   "source": [
    "plt.plot(autoencoder_train.history['loss'], color='r', )\n",
    "plt.plot(autoencoder_train.history['val_loss'], color='g')\n",
    "# plt.title('model loss function')\n",
    "plt.ylabel('MSE')\n",
    "plt.xlabel('Epochs')\n",
    "plt.legend(['train', 'val'], loc='upper left')\n",
    "plt.savefig('loss_binned_JLA.png', dpi=200)"
   ]
  },
  {
   "cell_type": "code",
   "execution_count": 16,
   "metadata": {},
   "outputs": [
    {
     "name": "stdout",
     "output_type": "stream",
     "text": [
      "2.4024949141221444e-08 1.532933779913037e-08\n"
     ]
    }
   ],
   "source": [
    "unet = np.sqrt(np.min(autoencoder_train.history['val_loss']))\n",
    "print(unet**2, np.min(autoencoder_train.history['loss']))"
   ]
  },
  {
   "cell_type": "code",
   "execution_count": 17,
   "metadata": {},
   "outputs": [
    {
     "name": "stdout",
     "output_type": "stream",
     "text": [
      "(200, 31)\n"
     ]
    },
    {
     "data": {
      "text/plain": [
       "-0.009198273"
      ]
     },
     "execution_count": 17,
     "metadata": {},
     "output_type": "execute_result"
    }
   ],
   "source": [
    "encoded_imgs = encoder.predict(covset_test)\n",
    "decoded_imgs = decoder.predict(encoded_imgs)\n",
    "print(np.shape(encoded_imgs))\n",
    "df = pd.DataFrame(encoded_imgs)\n",
    "np.min(encoded_imgs)"
   ]
  },
  {
   "cell_type": "code",
   "execution_count": 18,
   "metadata": {},
   "outputs": [
    {
     "name": "stdout",
     "output_type": "stream",
     "text": [
      "(200, 961)\n"
     ]
    },
    {
     "data": {
      "text/plain": [
       "<matplotlib.axes._subplots.AxesSubplot at 0x7f590c20fb70>"
      ]
     },
     "execution_count": 18,
     "metadata": {},
     "output_type": "execute_result"
    },
    {
     "data": {
      "image/png": "[encoded data removed]",
      "text/plain": [
       "<Figure size 432x288 with 2 Axes>"
      ]
     },
     "metadata": {
      "needs_background": "light"
     },
     "output_type": "display_data"
    }
   ],
   "source": [
    "print(np.shape(decoded_imgs))\n",
    "\n",
    "sns.heatmap(pd.DataFrame(decoded_imgs[0].reshape(31,31)), \n",
    "            fmt='g', xticklabels=False, yticklabels=False, \n",
    "            cmap = 'inferno', \n",
    "            robust=False)\n",
    "# plt.savefig(\"decoded_img22.png\")\n",
    "# this cov matrix work well within Bayesian inference\n",
    "# np.savetxt(\"test.dat\", decoded_imgs[0].reshape(31,31), delimiter= \" \", header=\"#fake COV\")\n"
   ]
  },
  {
   "cell_type": "code",
   "execution_count": 19,
   "metadata": {},
   "outputs": [
    {
     "name": "stdout",
     "output_type": "stream",
     "text": [
      "(200, 961)\n"
     ]
    }
   ],
   "source": [
    "print(np.shape(decoded_imgs))"
   ]
  },
  {
   "cell_type": "code",
   "execution_count": 20,
   "metadata": {},
   "outputs": [
    {
     "data": {
      "image/png": "[encoded data removed]",
      "text/plain": [
       "<Figure size 1440x288 with 20 Axes>"
      ]
     },
     "metadata": {
      "needs_background": "light"
     },
     "output_type": "display_data"
    }
   ],
   "source": [
    "n = 10  # How many digits we will display\n",
    "plt.figure(figsize=(20, 4))\n",
    "for i in range(n):\n",
    "    # Display original\n",
    "    ax = plt.subplot(2, n, i + 1)\n",
    "    plt.imshow(covset_test[i].reshape(31, 31))\n",
    "#     plt.gray()\n",
    "    ax.get_xaxis().set_visible(False)\n",
    "    ax.get_yaxis().set_visible(False)\n",
    "\n",
    "    # Display reconstruction\n",
    "    ax = plt.subplot(2, n, i + 1 + n)\n",
    "    plt.imshow(decoded_imgs[i].reshape(31, 31))\n",
    "#     plt.gray()\n",
    "    ax.get_xaxis().set_visible(False)\n",
    "    ax.get_yaxis().set_visible(False)\n",
    "plt.show()"
   ]
  },
  {
   "cell_type": "code",
   "execution_count": 21,
   "metadata": {},
   "outputs": [
    {
     "data": {
      "image/png": "[encoded data removed]",
      "text/plain": [
       "<Figure size 1440x288 with 20 Axes>"
      ]
     },
     "metadata": {},
     "output_type": "display_data"
    }
   ],
   "source": [
    "n = 10  # How many digits we will display\n",
    "plt.figure(figsize=(20, 4))\n",
    "for i in range(n):\n",
    "    # Display original\n",
    "    ax = plt.subplot(2, n, i + 1)\n",
    "    sns.heatmap(covset_test[i].reshape(31, 31), cbar=False, fmt='g', xticklabels=False, yticklabels=False, \n",
    "                cmap = 'inferno')\n",
    "    # Display reconstruction\n",
    "    ax = plt.subplot(2, n, i + 1 + n)\n",
    "    sns.heatmap(decoded_imgs[i].reshape(31, 31), cbar=False, fmt='g', xticklabels=False, yticklabels=False, \n",
    "                cmap = 'inferno')\n",
    "plt.savefig('predicted_covs_binned_jla.png', dpi=200)"
   ]
  },
  {
   "cell_type": "markdown",
   "metadata": {},
   "source": [
    "### Now we train another neural network for z and $D_L(z)$"
   ]
  },
  {
   "cell_type": "code",
   "execution_count": 22,
   "metadata": {},
   "outputs": [
    {
     "name": "stdout",
     "output_type": "stream",
     "text": [
      "           z      $D_L$\n",
      "0   0.010000  32.953887\n",
      "1   0.011762  33.879003\n",
      "2   0.013833  33.842141\n",
      "3   0.016270  34.118567\n",
      "4   0.019136  34.593446\n",
      "5   0.022507  34.939027\n",
      "6   0.026472  35.252096\n",
      "7   0.031135  35.748502\n",
      "8   0.036620  36.069788\n",
      "9   0.043071  36.434570\n",
      "10  0.050658  36.651111\n",
      "11  0.059582  37.158014\n",
      "12  0.070077  37.430173\n",
      "13  0.082422  37.956616\n",
      "14  0.096941  38.253254\n",
      "15  0.114018  38.612869\n",
      "16  0.134102  39.067851\n",
      "17  0.157725  39.341402\n",
      "18  0.185509  39.792144\n",
      "19  0.218188  40.156535\n",
      "20  0.256623  40.564956\n",
      "21  0.301829  40.905288\n",
      "22  0.354997  41.421417\n",
      "23  0.417532  41.790923\n",
      "24  0.491083  42.231461\n",
      "25  0.577590  42.617047\n",
      "26  0.679335  43.052731\n",
      "27  0.799004  43.504151\n",
      "28  0.939753  43.972573\n",
      "29  1.105296  44.514088\n",
      "30  1.300000  44.821867\n"
     ]
    },
    {
     "data": {
      "image/png": "[encoded data removed]",
      "text/plain": [
       "<Figure size 360x360 with 6 Axes>"
      ]
     },
     "metadata": {
      "needs_background": "light"
     },
     "output_type": "display_data"
    }
   ],
   "source": [
    "file2 = '/home/isidro/Documents/gitHub/misRepos/neuralCosmoReconstruction/data/jla_binned_distances_31nodes_v1.txt'\n",
    "data = pd.read_csv(file2, names=['z', '$D_L$'], sep = \" \", skiprows=3)\n",
    "print(data.head(31))\n",
    "sns.pairplot(data, diag_kind=\"kde\")\n",
    "plt.savefig(\"DistbinnedJLA.png\")"
   ]
  },
  {
   "cell_type": "code",
   "execution_count": 23,
   "metadata": {},
   "outputs": [],
   "source": [
    "shuffle = [x for x in range(len(data.values)) if x%2 ==1]\n",
    "comp = [x for x in range(len(data.values)) if x%2 ==0]\n",
    "shuffle.extend(comp)\n",
    "\n",
    "data = data.values[shuffle]"
   ]
  },
  {
   "cell_type": "code",
   "execution_count": 24,
   "metadata": {},
   "outputs": [],
   "source": [
    "z = data[:,0]\n",
    "dl = data[:,1:]"
   ]
  },
  {
   "cell_type": "code",
   "execution_count": 25,
   "metadata": {},
   "outputs": [],
   "source": [
    "# scalerz = StandardScaler()\n",
    "# # scalerz = MinMaxScaler(feature_range=(-1,1))\n",
    "# # fit scaler on data\n",
    "# scalerz.fit(z.reshape(-1,1))\n",
    "# # apply transform\n",
    "# z = scalerz.transform(z.reshape(-1,1))"
   ]
  },
  {
   "cell_type": "code",
   "execution_count": 26,
   "metadata": {},
   "outputs": [],
   "source": [
    "split = 0.8\n",
    "ntrain = int(split * len(z))\n",
    "indx = [ntrain]\n",
    "z_train, z_test = np.split(z, indx)\n",
    "dl_train, dl_test = np.split(dl, indx)"
   ]
  },
  {
   "cell_type": "code",
   "execution_count": 27,
   "metadata": {},
   "outputs": [],
   "source": [
    "callbacks = [tf.keras.callbacks.EarlyStopping(monitor='val_loss', mode='min',\n",
    "                                   min_delta=0.,\n",
    "                                   patience=200,\n",
    "                                   restore_best_weights=True)]"
   ]
  },
  {
   "cell_type": "code",
   "execution_count": 28,
   "metadata": {},
   "outputs": [
    {
     "name": "stdout",
     "output_type": "stream",
     "text": [
      "Model: \"functional_7\"\n",
      "_________________________________________________________________\n",
      "Layer (type)                 Output Shape              Param #   \n",
      "=================================================================\n",
      "input_3 (InputLayer)         [(None, 1)]               0         \n",
      "_________________________________________________________________\n",
      "dense_6 (Dense)              (None, 50)                100       \n",
      "_________________________________________________________________\n",
      "dense_7 (Dense)              (None, 200)               10200     \n",
      "_________________________________________________________________\n",
      "dense_8 (Dense)              (None, 200)               40200     \n",
      "_________________________________________________________________\n",
      "dense_9 (Dense)              (None, 200)               40200     \n",
      "_________________________________________________________________\n",
      "dense_10 (Dense)             (None, 200)               40200     \n",
      "_________________________________________________________________\n",
      "dense_11 (Dense)             (None, 200)               40200     \n",
      "_________________________________________________________________\n",
      "dense_12 (Dense)             (None, 200)               40200     \n",
      "_________________________________________________________________\n",
      "dense_13 (Dense)             (None, 1)                 201       \n",
      "=================================================================\n",
      "Total params: 211,501\n",
      "Trainable params: 211,501\n",
      "Non-trainable params: 0\n",
      "_________________________________________________________________\n"
     ]
    }
   ],
   "source": [
    "def model(input_z):\n",
    "    efirst = Dense(50, activation='relu', input_shape=(1,))(input_z)\n",
    "    x = Dense(200, activation='relu')(efirst)\n",
    "    x = Dense(200, activation='relu')(x)\n",
    "    x = Dense(200, activation='relu')(x)\n",
    "    x = Dense(200, activation='relu')(x)\n",
    "    x = Dense(200, activation='relu')(x)\n",
    "    x = Dense(200, activation='relu')(x)\n",
    "\n",
    "    elast = Dense(1, activation='linear')(x)\n",
    "    return elast\n",
    "\n",
    "batch_size = 1\n",
    "epochs = 200\n",
    "input_z = Input(shape = (1,))\n",
    "neural_model = Model(input_z, model(input_z))\n",
    "neural_model.compile(loss='mean_squared_error', optimizer = \"adam\")\n",
    "neural_model.summary()"
   ]
  },
  {
   "cell_type": "code",
   "execution_count": null,
   "metadata": {},
   "outputs": [],
   "source": []
  },
  {
   "cell_type": "code",
   "execution_count": 29,
   "metadata": {},
   "outputs": [
    {
     "name": "stdout",
     "output_type": "stream",
     "text": [
      "Epoch 1/200\n",
      "24/24 [==============================] - 0s 10ms/step - loss: 1162.4491 - val_loss: 639.7657\n",
      "Epoch 2/200\n",
      "24/24 [==============================] - 0s 3ms/step - loss: 434.7238 - val_loss: 434.7319\n",
      "Epoch 3/200\n",
      "24/24 [==============================] - 0s 3ms/step - loss: 434.3437 - val_loss: 509.7554\n",
      "Epoch 4/200\n",
      "24/24 [==============================] - 0s 3ms/step - loss: 178.0203 - val_loss: 79.5617\n",
      "Epoch 5/200\n",
      "24/24 [==============================] - 0s 3ms/step - loss: 36.6762 - val_loss: 49.8795\n",
      "Epoch 6/200\n",
      "24/24 [==============================] - 0s 4ms/step - loss: 37.2659 - val_loss: 155.6541\n",
      "Epoch 7/200\n",
      "24/24 [==============================] - 0s 6ms/step - loss: 20.4864 - val_loss: 41.1528\n",
      "Epoch 8/200\n",
      "24/24 [==============================] - 0s 3ms/step - loss: 11.6206 - val_loss: 57.6971\n",
      "Epoch 9/200\n",
      "24/24 [==============================] - 0s 3ms/step - loss: 9.9858 - val_loss: 14.1456\n",
      "Epoch 10/200\n",
      "24/24 [==============================] - 0s 4ms/step - loss: 3.4417 - val_loss: 10.3451\n",
      "Epoch 11/200\n",
      "24/24 [==============================] - 0s 3ms/step - loss: 4.0149 - val_loss: 7.6388\n",
      "Epoch 12/200\n",
      "24/24 [==============================] - 0s 5ms/step - loss: 3.6158 - val_loss: 6.5196\n",
      "Epoch 13/200\n",
      "24/24 [==============================] - 0s 4ms/step - loss: 3.1355 - val_loss: 7.1115\n",
      "Epoch 14/200\n",
      "24/24 [==============================] - 0s 4ms/step - loss: 2.9298 - val_loss: 5.4749\n",
      "Epoch 15/200\n",
      "24/24 [==============================] - 0s 4ms/step - loss: 2.7967 - val_loss: 4.2030\n",
      "Epoch 16/200\n",
      "24/24 [==============================] - 0s 3ms/step - loss: 3.3284 - val_loss: 4.6808\n",
      "Epoch 17/200\n",
      "24/24 [==============================] - 0s 3ms/step - loss: 2.2793 - val_loss: 3.8653\n",
      "Epoch 18/200\n",
      "24/24 [==============================] - 0s 3ms/step - loss: 2.3100 - val_loss: 3.9467\n",
      "Epoch 19/200\n",
      "24/24 [==============================] - 0s 4ms/step - loss: 2.3552 - val_loss: 3.5420\n",
      "Epoch 20/200\n",
      "24/24 [==============================] - 0s 4ms/step - loss: 2.8090 - val_loss: 5.8188\n",
      "Epoch 21/200\n",
      "24/24 [==============================] - 0s 4ms/step - loss: 3.0084 - val_loss: 4.3341\n",
      "Epoch 22/200\n",
      "24/24 [==============================] - 0s 4ms/step - loss: 2.7893 - val_loss: 3.4954\n",
      "Epoch 23/200\n",
      "24/24 [==============================] - 0s 4ms/step - loss: 2.2042 - val_loss: 3.3650\n",
      "Epoch 24/200\n",
      "24/24 [==============================] - 0s 4ms/step - loss: 2.2643 - val_loss: 3.7451\n",
      "Epoch 25/200\n",
      "24/24 [==============================] - 0s 3ms/step - loss: 2.8078 - val_loss: 3.5738\n",
      "Epoch 26/200\n",
      "24/24 [==============================] - 0s 3ms/step - loss: 3.1616 - val_loss: 4.1534\n",
      "Epoch 27/200\n",
      "24/24 [==============================] - 0s 5ms/step - loss: 3.0123 - val_loss: 3.8321\n",
      "Epoch 28/200\n",
      "24/24 [==============================] - 0s 5ms/step - loss: 2.4460 - val_loss: 3.0287\n",
      "Epoch 29/200\n",
      "24/24 [==============================] - 0s 3ms/step - loss: 2.7143 - val_loss: 5.5822\n",
      "Epoch 30/200\n",
      "24/24 [==============================] - 0s 4ms/step - loss: 3.2751 - val_loss: 3.1550\n",
      "Epoch 31/200\n",
      "24/24 [==============================] - 0s 4ms/step - loss: 3.2833 - val_loss: 8.9085\n",
      "Epoch 32/200\n",
      "24/24 [==============================] - 0s 4ms/step - loss: 3.3246 - val_loss: 4.8335\n",
      "Epoch 33/200\n",
      "24/24 [==============================] - 0s 3ms/step - loss: 2.9622 - val_loss: 3.1870\n",
      "Epoch 34/200\n",
      "24/24 [==============================] - 0s 5ms/step - loss: 2.8363 - val_loss: 5.4873\n",
      "Epoch 35/200\n",
      "24/24 [==============================] - 0s 4ms/step - loss: 3.5804 - val_loss: 2.6714\n",
      "Epoch 36/200\n",
      "24/24 [==============================] - 0s 4ms/step - loss: 2.4291 - val_loss: 5.3910\n",
      "Epoch 37/200\n",
      "24/24 [==============================] - 0s 4ms/step - loss: 2.4669 - val_loss: 9.4654\n",
      "Epoch 38/200\n",
      "24/24 [==============================] - 0s 4ms/step - loss: 5.5040 - val_loss: 4.0043\n",
      "Epoch 39/200\n",
      "24/24 [==============================] - 0s 5ms/step - loss: 2.8727 - val_loss: 3.7397\n",
      "Epoch 40/200\n",
      "24/24 [==============================] - 0s 5ms/step - loss: 1.7843 - val_loss: 3.8586\n",
      "Epoch 41/200\n",
      "24/24 [==============================] - 0s 5ms/step - loss: 2.3497 - val_loss: 3.3300\n",
      "Epoch 42/200\n",
      "24/24 [==============================] - 0s 3ms/step - loss: 2.2927 - val_loss: 3.8778\n",
      "Epoch 43/200\n",
      "24/24 [==============================] - 0s 3ms/step - loss: 2.2569 - val_loss: 1.4090\n",
      "Epoch 44/200\n",
      "24/24 [==============================] - 0s 3ms/step - loss: 1.8770 - val_loss: 2.1086\n",
      "Epoch 45/200\n",
      "24/24 [==============================] - 0s 3ms/step - loss: 1.9446 - val_loss: 1.9867\n",
      "Epoch 46/200\n",
      "24/24 [==============================] - 0s 3ms/step - loss: 2.5518 - val_loss: 3.8636\n",
      "Epoch 47/200\n",
      "24/24 [==============================] - 0s 4ms/step - loss: 2.1168 - val_loss: 1.4825\n",
      "Epoch 48/200\n",
      "24/24 [==============================] - 0s 3ms/step - loss: 1.7314 - val_loss: 1.5457\n",
      "Epoch 49/200\n",
      "24/24 [==============================] - 0s 3ms/step - loss: 1.7949 - val_loss: 2.9817\n",
      "Epoch 50/200\n",
      "24/24 [==============================] - 0s 3ms/step - loss: 1.9476 - val_loss: 1.9404\n",
      "Epoch 51/200\n",
      "24/24 [==============================] - 0s 3ms/step - loss: 1.4389 - val_loss: 6.2065\n",
      "Epoch 52/200\n",
      "24/24 [==============================] - 0s 3ms/step - loss: 2.1622 - val_loss: 2.7205\n",
      "Epoch 53/200\n",
      "24/24 [==============================] - 0s 3ms/step - loss: 2.0155 - val_loss: 4.1235\n",
      "Epoch 54/200\n",
      "24/24 [==============================] - 0s 3ms/step - loss: 2.5300 - val_loss: 5.7167\n",
      "Epoch 55/200\n",
      "24/24 [==============================] - 0s 3ms/step - loss: 3.0407 - val_loss: 0.8417\n",
      "Epoch 56/200\n",
      "24/24 [==============================] - 0s 3ms/step - loss: 2.4576 - val_loss: 1.2831\n",
      "Epoch 57/200\n",
      "24/24 [==============================] - 0s 3ms/step - loss: 1.4089 - val_loss: 1.6363\n",
      "Epoch 58/200\n",
      "24/24 [==============================] - 0s 3ms/step - loss: 2.1209 - val_loss: 2.9861\n",
      "Epoch 59/200\n",
      "24/24 [==============================] - 0s 3ms/step - loss: 1.7556 - val_loss: 6.0513\n",
      "Epoch 60/200\n",
      "24/24 [==============================] - 0s 3ms/step - loss: 2.1708 - val_loss: 3.1937\n",
      "Epoch 61/200\n",
      "24/24 [==============================] - 0s 4ms/step - loss: 2.0185 - val_loss: 1.8069\n",
      "Epoch 62/200\n",
      "24/24 [==============================] - 0s 4ms/step - loss: 1.7147 - val_loss: 1.0377\n",
      "Epoch 63/200\n",
      "24/24 [==============================] - 0s 4ms/step - loss: 1.3678 - val_loss: 2.5491\n",
      "Epoch 64/200\n",
      "24/24 [==============================] - 0s 4ms/step - loss: 1.7488 - val_loss: 1.8782\n",
      "Epoch 65/200\n",
      "24/24 [==============================] - 0s 4ms/step - loss: 2.1577 - val_loss: 0.3969\n",
      "Epoch 66/200\n",
      "24/24 [==============================] - 0s 4ms/step - loss: 1.5795 - val_loss: 0.9025\n",
      "Epoch 67/200\n",
      "24/24 [==============================] - 0s 3ms/step - loss: 1.6494 - val_loss: 1.6899\n",
      "Epoch 68/200\n",
      "24/24 [==============================] - 0s 3ms/step - loss: 1.7758 - val_loss: 0.4261\n",
      "Epoch 69/200\n",
      "24/24 [==============================] - 0s 3ms/step - loss: 1.8060 - val_loss: 0.4043\n",
      "Epoch 70/200\n",
      "24/24 [==============================] - 0s 3ms/step - loss: 2.5438 - val_loss: 0.6019\n",
      "Epoch 71/200\n",
      "24/24 [==============================] - 0s 3ms/step - loss: 2.5754 - val_loss: 2.2875\n",
      "Epoch 72/200\n",
      "24/24 [==============================] - 0s 3ms/step - loss: 3.2016 - val_loss: 3.1134\n",
      "Epoch 73/200\n",
      "24/24 [==============================] - 0s 3ms/step - loss: 1.9151 - val_loss: 1.0320\n",
      "Epoch 74/200\n",
      "24/24 [==============================] - 0s 4ms/step - loss: 1.2851 - val_loss: 0.5450\n",
      "Epoch 75/200\n",
      "24/24 [==============================] - 0s 4ms/step - loss: 1.1008 - val_loss: 0.6194\n",
      "Epoch 76/200\n",
      "24/24 [==============================] - 0s 4ms/step - loss: 1.2924 - val_loss: 1.1169\n",
      "Epoch 77/200\n",
      "24/24 [==============================] - 0s 4ms/step - loss: 2.1242 - val_loss: 0.8728\n",
      "Epoch 78/200\n",
      "24/24 [==============================] - 0s 5ms/step - loss: 1.8773 - val_loss: 0.6458\n",
      "Epoch 79/200\n",
      "24/24 [==============================] - 0s 4ms/step - loss: 1.8496 - val_loss: 3.4664\n",
      "Epoch 80/200\n",
      "24/24 [==============================] - 0s 3ms/step - loss: 3.8053 - val_loss: 1.3735\n",
      "Epoch 81/200\n",
      "24/24 [==============================] - 0s 3ms/step - loss: 1.8952 - val_loss: 2.5893\n",
      "Epoch 82/200\n"
     ]
    },
    {
     "name": "stdout",
     "output_type": "stream",
     "text": [
      "24/24 [==============================] - 0s 3ms/step - loss: 2.1714 - val_loss: 0.4129\n",
      "Epoch 83/200\n",
      "24/24 [==============================] - 0s 4ms/step - loss: 1.1245 - val_loss: 1.0852\n",
      "Epoch 84/200\n",
      "24/24 [==============================] - 0s 4ms/step - loss: 2.0730 - val_loss: 1.7256\n",
      "Epoch 85/200\n",
      "24/24 [==============================] - 0s 4ms/step - loss: 1.6807 - val_loss: 0.5721\n",
      "Epoch 86/200\n",
      "24/24 [==============================] - 0s 4ms/step - loss: 1.8387 - val_loss: 2.7775\n",
      "Epoch 87/200\n",
      "24/24 [==============================] - 0s 3ms/step - loss: 1.8841 - val_loss: 5.1909\n",
      "Epoch 88/200\n",
      "24/24 [==============================] - 0s 3ms/step - loss: 3.4445 - val_loss: 6.8936\n",
      "Epoch 89/200\n",
      "24/24 [==============================] - 0s 3ms/step - loss: 2.7277 - val_loss: 0.9883\n",
      "Epoch 90/200\n",
      "24/24 [==============================] - 0s 3ms/step - loss: 1.7262 - val_loss: 9.7685\n",
      "Epoch 91/200\n",
      "24/24 [==============================] - 0s 3ms/step - loss: 1.3579 - val_loss: 0.9738\n",
      "Epoch 92/200\n",
      "24/24 [==============================] - 0s 3ms/step - loss: 0.8683 - val_loss: 2.4211\n",
      "Epoch 93/200\n",
      "24/24 [==============================] - 0s 3ms/step - loss: 1.7979 - val_loss: 7.2568\n",
      "Epoch 94/200\n",
      "24/24 [==============================] - 0s 3ms/step - loss: 2.1422 - val_loss: 2.8257\n",
      "Epoch 95/200\n",
      "24/24 [==============================] - 0s 3ms/step - loss: 3.4698 - val_loss: 6.7540\n",
      "Epoch 96/200\n",
      "24/24 [==============================] - 0s 3ms/step - loss: 1.5247 - val_loss: 0.9763\n",
      "Epoch 97/200\n",
      "24/24 [==============================] - 0s 3ms/step - loss: 2.0108 - val_loss: 1.1304\n",
      "Epoch 98/200\n",
      "24/24 [==============================] - 0s 3ms/step - loss: 1.4320 - val_loss: 0.3494\n",
      "Epoch 99/200\n",
      "24/24 [==============================] - 0s 4ms/step - loss: 3.1656 - val_loss: 2.2057\n",
      "Epoch 100/200\n",
      "24/24 [==============================] - 0s 4ms/step - loss: 5.2508 - val_loss: 12.5617\n",
      "Epoch 101/200\n",
      "24/24 [==============================] - 0s 4ms/step - loss: 4.4093 - val_loss: 0.2336\n",
      "Epoch 102/200\n",
      "24/24 [==============================] - 0s 4ms/step - loss: 2.9733 - val_loss: 4.4886\n",
      "Epoch 103/200\n",
      "24/24 [==============================] - 0s 3ms/step - loss: 2.8072 - val_loss: 2.1366\n",
      "Epoch 104/200\n",
      "24/24 [==============================] - 0s 3ms/step - loss: 4.3819 - val_loss: 6.0208\n",
      "Epoch 105/200\n",
      "24/24 [==============================] - 0s 3ms/step - loss: 2.0471 - val_loss: 0.8271\n",
      "Epoch 106/200\n",
      "24/24 [==============================] - 0s 3ms/step - loss: 1.7972 - val_loss: 4.8033\n",
      "Epoch 107/200\n",
      "24/24 [==============================] - 0s 3ms/step - loss: 2.0232 - val_loss: 1.3921\n",
      "Epoch 108/200\n",
      "24/24 [==============================] - 0s 3ms/step - loss: 1.3363 - val_loss: 0.7942\n",
      "Epoch 109/200\n",
      "24/24 [==============================] - 0s 3ms/step - loss: 0.9570 - val_loss: 0.5528\n",
      "Epoch 110/200\n",
      "24/24 [==============================] - 0s 3ms/step - loss: 1.8066 - val_loss: 3.5237\n",
      "Epoch 111/200\n",
      "24/24 [==============================] - 0s 3ms/step - loss: 4.7577 - val_loss: 4.9378\n",
      "Epoch 112/200\n",
      "24/24 [==============================] - 0s 3ms/step - loss: 3.8711 - val_loss: 5.8246\n",
      "Epoch 113/200\n",
      "24/24 [==============================] - 0s 3ms/step - loss: 1.9946 - val_loss: 0.6379\n",
      "Epoch 114/200\n",
      "24/24 [==============================] - 0s 3ms/step - loss: 1.2238 - val_loss: 0.7021\n",
      "Epoch 115/200\n",
      "24/24 [==============================] - 0s 3ms/step - loss: 2.5139 - val_loss: 6.0392\n",
      "Epoch 116/200\n",
      "24/24 [==============================] - 0s 3ms/step - loss: 2.5658 - val_loss: 1.1686\n",
      "Epoch 117/200\n",
      "24/24 [==============================] - 0s 2ms/step - loss: 1.2796 - val_loss: 2.4457\n",
      "Epoch 118/200\n",
      "24/24 [==============================] - 0s 3ms/step - loss: 1.5031 - val_loss: 4.8344\n",
      "Epoch 119/200\n",
      "24/24 [==============================] - 0s 3ms/step - loss: 1.8745 - val_loss: 7.4721\n",
      "Epoch 120/200\n",
      "24/24 [==============================] - 0s 3ms/step - loss: 1.7831 - val_loss: 10.4532\n",
      "Epoch 121/200\n",
      "24/24 [==============================] - 0s 3ms/step - loss: 2.7969 - val_loss: 11.0514\n",
      "Epoch 122/200\n",
      "24/24 [==============================] - 0s 3ms/step - loss: 4.4565 - val_loss: 1.5838\n",
      "Epoch 123/200\n",
      "24/24 [==============================] - 0s 3ms/step - loss: 2.0856 - val_loss: 3.7707\n",
      "Epoch 124/200\n",
      "24/24 [==============================] - 0s 3ms/step - loss: 4.0470 - val_loss: 4.1044\n",
      "Epoch 125/200\n",
      "24/24 [==============================] - 0s 3ms/step - loss: 6.8951 - val_loss: 34.2171\n",
      "Epoch 126/200\n",
      "24/24 [==============================] - 0s 3ms/step - loss: 6.5875 - val_loss: 8.2777\n",
      "Epoch 127/200\n",
      "24/24 [==============================] - 0s 3ms/step - loss: 1.8226 - val_loss: 4.6714\n",
      "Epoch 128/200\n",
      "24/24 [==============================] - 0s 3ms/step - loss: 0.9916 - val_loss: 4.5298\n",
      "Epoch 129/200\n",
      "24/24 [==============================] - 0s 2ms/step - loss: 1.3800 - val_loss: 0.8487\n",
      "Epoch 130/200\n",
      "24/24 [==============================] - 0s 3ms/step - loss: 0.9308 - val_loss: 0.1064\n",
      "Epoch 131/200\n",
      "24/24 [==============================] - 0s 3ms/step - loss: 1.9571 - val_loss: 7.9195\n",
      "Epoch 132/200\n",
      "24/24 [==============================] - 0s 3ms/step - loss: 1.7265 - val_loss: 10.7517\n",
      "Epoch 133/200\n",
      "24/24 [==============================] - 0s 3ms/step - loss: 8.4173 - val_loss: 14.0680\n",
      "Epoch 134/200\n",
      "24/24 [==============================] - 0s 3ms/step - loss: 3.1997 - val_loss: 0.8583\n",
      "Epoch 135/200\n",
      "24/24 [==============================] - 0s 3ms/step - loss: 1.9223 - val_loss: 4.8342\n",
      "Epoch 136/200\n",
      "24/24 [==============================] - 0s 3ms/step - loss: 3.0490 - val_loss: 2.5040\n",
      "Epoch 137/200\n",
      "24/24 [==============================] - 0s 3ms/step - loss: 0.9840 - val_loss: 4.5627\n",
      "Epoch 138/200\n",
      "24/24 [==============================] - 0s 3ms/step - loss: 2.4626 - val_loss: 2.0799\n",
      "Epoch 139/200\n",
      "24/24 [==============================] - 0s 3ms/step - loss: 1.0914 - val_loss: 1.1326\n",
      "Epoch 140/200\n",
      "24/24 [==============================] - 0s 3ms/step - loss: 1.1967 - val_loss: 1.1604\n",
      "Epoch 141/200\n",
      "24/24 [==============================] - 0s 3ms/step - loss: 1.2109 - val_loss: 0.3527\n",
      "Epoch 142/200\n",
      "24/24 [==============================] - 0s 3ms/step - loss: 1.3278 - val_loss: 0.3820\n",
      "Epoch 143/200\n",
      "24/24 [==============================] - 0s 4ms/step - loss: 0.6929 - val_loss: 1.6177\n",
      "Epoch 144/200\n",
      "24/24 [==============================] - 0s 4ms/step - loss: 0.9743 - val_loss: 0.7823\n",
      "Epoch 145/200\n",
      "24/24 [==============================] - 0s 4ms/step - loss: 1.8208 - val_loss: 0.4104\n",
      "Epoch 146/200\n",
      "24/24 [==============================] - 0s 5ms/step - loss: 0.8840 - val_loss: 1.7593\n",
      "Epoch 147/200\n",
      "24/24 [==============================] - 0s 4ms/step - loss: 1.0771 - val_loss: 0.1859\n",
      "Epoch 148/200\n",
      "24/24 [==============================] - 0s 4ms/step - loss: 0.8535 - val_loss: 1.4995\n",
      "Epoch 149/200\n",
      "24/24 [==============================] - 0s 3ms/step - loss: 0.8181 - val_loss: 0.1329\n",
      "Epoch 150/200\n",
      "24/24 [==============================] - 0s 3ms/step - loss: 1.9293 - val_loss: 0.1950\n",
      "Epoch 151/200\n",
      "24/24 [==============================] - 0s 3ms/step - loss: 1.7820 - val_loss: 3.6200\n",
      "Epoch 152/200\n",
      "24/24 [==============================] - 0s 4ms/step - loss: 1.6123 - val_loss: 0.7300\n",
      "Epoch 153/200\n",
      "24/24 [==============================] - 0s 4ms/step - loss: 0.7751 - val_loss: 1.7300\n",
      "Epoch 154/200\n",
      "24/24 [==============================] - 0s 4ms/step - loss: 3.1598 - val_loss: 0.4248\n",
      "Epoch 155/200\n",
      "24/24 [==============================] - 0s 3ms/step - loss: 1.5686 - val_loss: 0.6177\n",
      "Epoch 156/200\n",
      "24/24 [==============================] - 0s 3ms/step - loss: 5.0426 - val_loss: 1.4767\n",
      "Epoch 157/200\n",
      "24/24 [==============================] - 0s 3ms/step - loss: 3.3486 - val_loss: 0.2024\n",
      "Epoch 158/200\n",
      "24/24 [==============================] - 0s 3ms/step - loss: 4.2673 - val_loss: 2.8726\n",
      "Epoch 159/200\n",
      "24/24 [==============================] - 0s 3ms/step - loss: 2.3768 - val_loss: 1.7542\n",
      "Epoch 160/200\n",
      "24/24 [==============================] - 0s 4ms/step - loss: 4.0951 - val_loss: 15.5555\n",
      "Epoch 161/200\n",
      "24/24 [==============================] - 0s 4ms/step - loss: 2.7050 - val_loss: 0.7517\n",
      "Epoch 162/200\n",
      "24/24 [==============================] - 0s 3ms/step - loss: 0.7308 - val_loss: 1.3543\n",
      "Epoch 163/200\n"
     ]
    },
    {
     "name": "stdout",
     "output_type": "stream",
     "text": [
      "24/24 [==============================] - 0s 3ms/step - loss: 0.9937 - val_loss: 0.2807\n",
      "Epoch 164/200\n",
      "24/24 [==============================] - 0s 3ms/step - loss: 1.8862 - val_loss: 2.0404\n",
      "Epoch 165/200\n",
      "24/24 [==============================] - 0s 3ms/step - loss: 2.2549 - val_loss: 1.1693\n",
      "Epoch 166/200\n",
      "24/24 [==============================] - 0s 3ms/step - loss: 1.1921 - val_loss: 2.0256\n",
      "Epoch 167/200\n",
      "24/24 [==============================] - 0s 3ms/step - loss: 2.3313 - val_loss: 0.6128\n",
      "Epoch 168/200\n",
      "24/24 [==============================] - 0s 3ms/step - loss: 2.4863 - val_loss: 1.1753\n",
      "Epoch 169/200\n",
      "24/24 [==============================] - 0s 4ms/step - loss: 4.6298 - val_loss: 3.2783\n",
      "Epoch 170/200\n",
      "24/24 [==============================] - 0s 4ms/step - loss: 2.7898 - val_loss: 0.5218\n",
      "Epoch 171/200\n",
      "24/24 [==============================] - 0s 3ms/step - loss: 0.9337 - val_loss: 1.3651\n",
      "Epoch 172/200\n",
      "24/24 [==============================] - 0s 3ms/step - loss: 1.2663 - val_loss: 0.3219\n",
      "Epoch 173/200\n",
      "24/24 [==============================] - 0s 3ms/step - loss: 1.4162 - val_loss: 0.2448\n",
      "Epoch 174/200\n",
      "24/24 [==============================] - 0s 3ms/step - loss: 0.7620 - val_loss: 1.0456\n",
      "Epoch 175/200\n",
      "24/24 [==============================] - 0s 3ms/step - loss: 0.7582 - val_loss: 1.6774\n",
      "Epoch 176/200\n",
      "24/24 [==============================] - 0s 3ms/step - loss: 0.9442 - val_loss: 0.1773\n",
      "Epoch 177/200\n",
      "24/24 [==============================] - 0s 3ms/step - loss: 1.3666 - val_loss: 4.0365\n",
      "Epoch 178/200\n",
      "24/24 [==============================] - 0s 2ms/step - loss: 2.5176 - val_loss: 2.3799\n",
      "Epoch 179/200\n",
      "24/24 [==============================] - 0s 3ms/step - loss: 3.2449 - val_loss: 18.2881\n",
      "Epoch 180/200\n",
      "24/24 [==============================] - 0s 3ms/step - loss: 1.7133 - val_loss: 0.2230\n",
      "Epoch 181/200\n",
      "24/24 [==============================] - 0s 3ms/step - loss: 1.4216 - val_loss: 1.4037\n",
      "Epoch 182/200\n",
      "24/24 [==============================] - 0s 3ms/step - loss: 2.1276 - val_loss: 4.1324\n",
      "Epoch 183/200\n",
      "24/24 [==============================] - 0s 3ms/step - loss: 0.8644 - val_loss: 0.2368\n",
      "Epoch 184/200\n",
      "24/24 [==============================] - 0s 3ms/step - loss: 1.1794 - val_loss: 0.7141\n",
      "Epoch 185/200\n",
      "24/24 [==============================] - 0s 3ms/step - loss: 1.3004 - val_loss: 0.8365\n",
      "Epoch 186/200\n",
      "24/24 [==============================] - 0s 3ms/step - loss: 1.1424 - val_loss: 0.7362\n",
      "Epoch 187/200\n",
      "24/24 [==============================] - 0s 3ms/step - loss: 1.9883 - val_loss: 2.6670\n",
      "Epoch 188/200\n",
      "24/24 [==============================] - 0s 3ms/step - loss: 1.3299 - val_loss: 0.6268\n",
      "Epoch 189/200\n",
      "24/24 [==============================] - 0s 3ms/step - loss: 1.2302 - val_loss: 2.8087\n",
      "Epoch 190/200\n",
      "24/24 [==============================] - 0s 2ms/step - loss: 1.8497 - val_loss: 9.3584\n",
      "Epoch 191/200\n",
      "24/24 [==============================] - 0s 3ms/step - loss: 4.7734 - val_loss: 4.2261\n",
      "Epoch 192/200\n",
      "24/24 [==============================] - 0s 3ms/step - loss: 5.0182 - val_loss: 2.6584\n",
      "Epoch 193/200\n",
      "24/24 [==============================] - 0s 3ms/step - loss: 3.7280 - val_loss: 1.1008\n",
      "Epoch 194/200\n",
      "24/24 [==============================] - 0s 4ms/step - loss: 5.7514 - val_loss: 0.1889\n",
      "Epoch 195/200\n",
      "24/24 [==============================] - 0s 3ms/step - loss: 3.6251 - val_loss: 5.7153\n",
      "Epoch 196/200\n",
      "24/24 [==============================] - 0s 3ms/step - loss: 2.8852 - val_loss: 1.0913\n",
      "Epoch 197/200\n",
      "24/24 [==============================] - 0s 3ms/step - loss: 0.8136 - val_loss: 2.0353\n",
      "Epoch 198/200\n",
      "24/24 [==============================] - 0s 3ms/step - loss: 4.1801 - val_loss: 0.4843\n",
      "Epoch 199/200\n",
      "24/24 [==============================] - 0s 2ms/step - loss: 2.5650 - val_loss: 0.1907\n",
      "Epoch 200/200\n",
      "24/24 [==============================] - 0s 2ms/step - loss: 1.0603 - val_loss: 2.1549\n"
     ]
    }
   ],
   "source": [
    "model_train = neural_model.fit(z_train, dl_train, batch_size=batch_size,\n",
    "                                    epochs=epochs,verbose=1,\n",
    "                                    validation_data=(z_test, dl_test),\n",
    "                                    callbacks=callbacks)"
   ]
  },
  {
   "cell_type": "code",
   "execution_count": 30,
   "metadata": {},
   "outputs": [
    {
     "data": {
      "image/png": "[encoded data removed]",
      "text/plain": [
       "<Figure size 432x288 with 1 Axes>"
      ]
     },
     "metadata": {
      "needs_background": "light"
     },
     "output_type": "display_data"
    }
   ],
   "source": [
    "plt.plot(model_train.history['loss'], color='r', )\n",
    "plt.plot(model_train.history['val_loss'], color='g')\n",
    "plt.ylabel('MSE')\n",
    "plt.xlabel('Epoch')\n",
    "plt.legend(['train', 'val'], loc='upper left')\n",
    "plt.savefig(\"loss_dlbinnedJla.png\", dpi=200)"
   ]
  },
  {
   "cell_type": "code",
   "execution_count": 31,
   "metadata": {},
   "outputs": [
    {
     "data": {
      "text/plain": [
       "(0.1063835620880127, 0.6928620934486389)"
      ]
     },
     "execution_count": 31,
     "metadata": {},
     "output_type": "execute_result"
    }
   ],
   "source": [
    "unet = np.sqrt(np.min(model_train.history['val_loss']))\n",
    "unet**2, np.min(model_train.history['loss'])"
   ]
  },
  {
   "cell_type": "code",
   "execution_count": 32,
   "metadata": {},
   "outputs": [
    {
     "data": {
      "text/plain": [
       "array([[38.530434],\n",
       "       [39.769123],\n",
       "       [40.11396 ],\n",
       "       [40.59124 ],\n",
       "       [41.25162 ],\n",
       "       [42.164974],\n",
       "       [43.42614 ]], dtype=float32)"
      ]
     },
     "execution_count": 32,
     "metadata": {},
     "output_type": "execute_result"
    }
   ],
   "source": [
    "pred = neural_model.predict(z_test)\n",
    "pred"
   ]
  },
  {
   "cell_type": "code",
   "execution_count": 33,
   "metadata": {},
   "outputs": [
    {
     "data": {
      "text/plain": [
       "array([[33.69909 ],\n",
       "       [35.116276],\n",
       "       [36.533463],\n",
       "       [37.65043 ],\n",
       "       [38.46403 ],\n",
       "       [39.277634],\n",
       "       [39.809006],\n",
       "       [39.959736],\n",
       "       [40.110466],\n",
       "       [40.261208],\n",
       "       [40.412045],\n",
       "       [40.56289 ],\n",
       "       [40.71373 ],\n",
       "       [40.86457 ],\n",
       "       [41.01541 ],\n",
       "       [41.166256],\n",
       "       [41.317093],\n",
       "       [41.467937],\n",
       "       [41.618774],\n",
       "       [41.76962 ],\n",
       "       [41.920395],\n",
       "       [42.071167],\n",
       "       [42.22194 ],\n",
       "       [42.372707],\n",
       "       [42.523483],\n",
       "       [42.674255],\n",
       "       [42.825012],\n",
       "       [42.97568 ],\n",
       "       [43.12624 ],\n",
       "       [43.276794],\n",
       "       [43.42614 ]], dtype=float32)"
      ]
     },
     "execution_count": 33,
     "metadata": {},
     "output_type": "execute_result"
    }
   ],
   "source": [
    "# ranz = np.random.uniform(0, np.max(z), size=31)\n",
    "ranz = np.linspace(np.min(z), np.max(z),31)\n",
    "\n",
    "# ranzinv = scalerz.transform(ranz.reshape(-1,1))\n",
    "\n",
    "pred_random = neural_model.predict(ranz)\n",
    "pred_random"
   ]
  },
  {
   "cell_type": "code",
   "execution_count": 34,
   "metadata": {},
   "outputs": [],
   "source": [
    "# recover z\n",
    "# z = scalerz.inverse_transform(z)"
   ]
  },
  {
   "cell_type": "markdown",
   "metadata": {},
   "source": [
    "### Now we use randz (fake z) as inpute of the decoder neural netkork. But it is worth to make a mapping\n",
    "\n",
    "$z_{original} \\rightarrow encoded_{vals} \\implies z_{original} \\alpha =  encoded_{vals} \\implies \\alpha = \\frac{encoded}{z_{original}}$\n",
    "\n",
    "So, for fake z:\n",
    "\n",
    "$encoded_{fake} = \\alpha z_{fake}$\n",
    "\n"
   ]
  },
  {
   "cell_type": "code",
   "execution_count": 35,
   "metadata": {},
   "outputs": [],
   "source": [
    "fake_encoded = np.zeros((1, 31))"
   ]
  },
  {
   "cell_type": "code",
   "execution_count": 36,
   "metadata": {},
   "outputs": [
    {
     "name": "stdout",
     "output_type": "stream",
     "text": [
      "(1, 31)\n",
      "(31,)\n",
      "(200, 31)\n"
     ]
    }
   ],
   "source": [
    "print(np.shape(fake_encoded))\n",
    "avg_encoded = np.mean(encoded_imgs, axis=0)\n",
    "print(np.shape(avg_encoded))\n",
    "print(np.shape(encoded_imgs))\n"
   ]
  },
  {
   "cell_type": "code",
   "execution_count": 37,
   "metadata": {},
   "outputs": [],
   "source": [
    "for i, avg in enumerate(avg_encoded):\n",
    "    alpha = avg/z[i]\n",
    "    fake_encoded[0, i] = alpha * ranz[i]"
   ]
  },
  {
   "cell_type": "code",
   "execution_count": 38,
   "metadata": {},
   "outputs": [
    {
     "data": {
      "text/plain": [
       "(1, 961)"
      ]
     },
     "execution_count": 38,
     "metadata": {},
     "output_type": "execute_result"
    }
   ],
   "source": [
    "decoded_fake = decoder.predict(fake_encoded)\n",
    "np.shape(decoded_fake)"
   ]
  },
  {
   "cell_type": "code",
   "execution_count": 39,
   "metadata": {},
   "outputs": [
    {
     "data": {
      "text/plain": [
       "array([ 2.18475051e-02, -1.08336387e-02,  1.71343773e-03, -9.98639734e-06,\n",
       "        8.32795864e-04,  7.29655439e-04,  6.11660827e-04,  8.94819677e-04,\n",
       "        8.01267568e-04, -2.37044878e-06,  9.28890426e-04, -3.79753183e-05,\n",
       "        3.10395495e-04,  4.16769995e-04,  3.68216773e-04,  4.93101194e-04,\n",
       "        3.44090047e-04,  1.95315341e-04,  4.51866392e-04, -1.38759002e-04,\n",
       "       -3.24578723e-05,  1.95146335e-04, -1.02353457e-04,  1.62918121e-04,\n",
       "       -3.66718159e-05,  6.20905194e-04, -1.69133840e-04,  9.04047629e-05,\n",
       "       -5.62444155e-04,  4.16760449e-05, -1.75783091e-04, -1.08777918e-02,\n",
       "        2.79748254e-02, -2.39117723e-03,  1.99114531e-03, -1.50955311e-04,\n",
       "        2.21257622e-04,  8.79555591e-05,  6.23011438e-04,  7.80234695e-05,\n",
       "        2.30346486e-04,  4.87314363e-04,  3.69764806e-04,  2.31723534e-05,\n",
       "        2.74415594e-04,  4.92545951e-04, -5.59870386e-05,  3.34262149e-04,\n",
       "        5.01418544e-04,  3.31807038e-04,  5.71443466e-04,  1.03026920e-04,\n",
       "       -1.11377201e-04, -1.22985803e-05,  5.31281927e-04,  1.41997472e-04,\n",
       "        2.71765806e-04,  4.03082231e-05, -9.74132636e-05, -5.20864269e-05,\n",
       "       -2.59362714e-04,  3.64133128e-04,  2.15601921e-03, -1.61045813e-03,\n",
       "        6.36635907e-03, -1.47381483e-03,  1.57741108e-03,  4.86461271e-04,\n",
       "        7.57256697e-04,  5.60612651e-04,  6.16029662e-04,  4.22369980e-04,\n",
       "        9.85718565e-04,  3.37499689e-04,  3.40023078e-04,  3.20722553e-04,\n",
       "        4.17620526e-04,  7.56342662e-04,  4.96886496e-04,  7.79111753e-04,\n",
       "        8.79187079e-04,  2.97498773e-04,  6.78163196e-04,  3.39073187e-04,\n",
       "        6.41068560e-04,  3.59842670e-04,  3.66750173e-04, -4.11811634e-04,\n",
       "        1.56453490e-04, -3.31833842e-04, -5.77765895e-05,  9.36839569e-05,\n",
       "        1.00587844e-04,  4.22873389e-04,  1.38426665e-03, -1.39249896e-03,\n",
       "        4.89480095e-03, -5.59943030e-04,  5.24316856e-04,  6.86539337e-04,\n",
       "        3.98283300e-04,  4.65099351e-04,  5.00804337e-04,  7.95762637e-04,\n",
       "        2.46413430e-04,  6.73701288e-04,  7.18300813e-04,  1.40712131e-04,\n",
       "        2.35828571e-04,  3.58347956e-04,  4.99414571e-04,  4.03690297e-04,\n",
       "       -1.97692425e-05,  4.82318923e-04,  7.46500795e-04,  2.52782425e-04,\n",
       "        2.97766586e-04,  2.24913820e-04,  1.06915286e-05, -1.26952888e-04,\n",
       "       -2.43867980e-05, -2.13370658e-05,  1.82414660e-04,  2.98416824e-04,\n",
       "        7.55942659e-04,  4.96427674e-05,  1.48551131e-03, -6.88129454e-04,\n",
       "        7.63766374e-03, -4.48156963e-04,  9.35263117e-04,  4.27871157e-04,\n",
       "        6.55253709e-04,  5.08815516e-04,  8.24691029e-04,  2.51386489e-04,\n",
       "        6.12708100e-04,  3.15122918e-04,  3.77854856e-04,  2.58061656e-04,\n",
       "        6.26412453e-04,  3.36165191e-04,  4.98903915e-04,  5.79919200e-04,\n",
       "        2.52188765e-04,  4.53629706e-04, -4.46368358e-05,  2.59502500e-04,\n",
       "       -2.56594387e-04,  1.86304329e-04,  1.07280968e-04,  1.24048180e-04,\n",
       "       -2.31940649e-05, -2.05739518e-04,  3.78996046e-05,  4.33145557e-04,\n",
       "        4.28442843e-04,  5.55714651e-04,  8.38444568e-04, -6.34528347e-04,\n",
       "        3.41764232e-03, -9.08970833e-05,  1.05774612e-03,  6.19350234e-04,\n",
       "        5.79180778e-04,  3.45622539e-04,  2.72378122e-04,  6.38417201e-04,\n",
       "        4.37681971e-04,  2.85299029e-06,  2.88305077e-04,  4.17307601e-04,\n",
       "        2.13997671e-04,  3.77734192e-04,  4.48203064e-05,  3.20841908e-04,\n",
       "        1.28638931e-07,  1.59191171e-04, -2.43233517e-05,  3.46152257e-04,\n",
       "        3.70805559e-04, -1.47510495e-04,  9.85158840e-05, -3.55287513e-04,\n",
       "        1.14524155e-05, -1.08524750e-04,  5.68328775e-04,  2.93782214e-05,\n",
       "        4.11861547e-04,  4.68479120e-04,  7.09777290e-04, -8.04091105e-05,\n",
       "        3.48771294e-03, -6.92073372e-05,  7.06940307e-04,  2.22390518e-05,\n",
       "        6.21884712e-04,  4.81267809e-04,  8.80765612e-04,  1.07365544e-04,\n",
       "        1.01478254e-04,  5.06455777e-04,  2.62100250e-04,  3.68921814e-04,\n",
       "        4.48264764e-04,  4.25689854e-04, -5.65426890e-05,  3.70146648e-04,\n",
       "        1.20223704e-04,  1.99802336e-04,  1.04097388e-04, -4.43528188e-05,\n",
       "       -3.80184676e-04,  2.23878655e-04, -3.86030995e-04, -2.95352715e-04,\n",
       "        2.86559283e-04,  1.09258108e-03, -3.39569611e-04,  9.15780081e-04,\n",
       "        7.07663945e-04,  6.41945866e-04,  1.00575597e-03, -2.47530465e-04,\n",
       "        3.35264951e-03,  7.75277149e-05,  1.00959005e-04,  5.12480794e-04,\n",
       "        3.94858420e-04,  7.02304067e-04,  2.08238489e-04,  1.80340896e-04,\n",
       "       -1.69822073e-04, -4.43272642e-04,  1.02820777e-04, -1.08140521e-04,\n",
       "        5.30611142e-04,  8.75059050e-05,  3.90335801e-04,  1.58443232e-04,\n",
       "        3.03724228e-05,  1.46702980e-04,  3.59892903e-04,  5.58823085e-05,\n",
       "       -1.61181160e-05,  3.68434994e-04,  2.82320456e-04,  1.68445753e-04,\n",
       "        8.37463303e-04,  6.03372348e-04,  7.62691721e-04,  4.41823213e-04,\n",
       "        4.87756915e-04,  4.23522724e-04,  1.04266603e-03, -7.17013609e-06,\n",
       "        3.79999238e-03, -5.14919637e-04,  7.37030758e-04,  3.72227863e-04,\n",
       "        3.53052834e-04,  2.53388396e-04,  3.84634826e-04, -9.57824523e-06,\n",
       "        2.74730963e-04,  4.99604037e-04, -1.57724426e-04,  4.93656960e-04,\n",
       "        1.41150958e-04,  2.56823259e-04, -2.65177921e-04,  6.98560383e-04,\n",
       "        2.16048036e-04,  4.30334767e-04,  4.55989648e-05,  2.23629875e-04,\n",
       "        1.35173352e-04,  2.07324047e-05, -2.38573994e-05, -7.04919221e-05,\n",
       "        4.51217988e-04,  5.08237572e-05,  1.05605948e-04,  6.69347006e-04,\n",
       "        2.83891801e-04,  1.53593312e-04,  6.61512080e-04, -6.57134224e-04,\n",
       "        5.10579161e-03, -1.91478874e-03,  6.53647003e-04,  4.45155660e-04,\n",
       "        4.59314324e-05,  6.53119525e-04, -7.90522899e-05,  5.35333354e-04,\n",
       "        3.80139099e-04,  5.80683467e-04,  2.54280487e-04,  3.62752122e-04,\n",
       "        1.83433425e-04,  2.63716676e-04,  1.52047083e-04,  3.89499590e-04,\n",
       "       -2.23680399e-06,  2.78983614e-04,  1.14680501e-04,  2.11252773e-04,\n",
       "       -1.91375264e-04,  1.85685349e-04,  7.31693697e-04,  2.31854268e-04,\n",
       "        6.45156601e-04,  9.71311005e-04,  5.38229884e-04,  1.82856340e-04,\n",
       "        5.91815275e-04,  4.21525794e-04,  8.26594245e-04, -1.80555903e-03,\n",
       "        8.37378949e-03, -1.74799562e-03,  1.04189082e-03,  1.54644251e-04,\n",
       "        1.99732720e-04,  1.51106273e-04,  5.21658047e-04,  1.52148772e-04,\n",
       "        4.62755910e-04,  3.31165269e-04, -2.10106897e-04,  6.06258051e-04,\n",
       "       -5.04915952e-05,  1.95937668e-04,  2.61432724e-04,  2.50968151e-05,\n",
       "        7.10000168e-05, -4.21528239e-06,  3.14395409e-04,  1.94182852e-04,\n",
       "       -8.93244287e-05, -2.46521842e-04,  4.79844632e-04,  3.77988559e-04,\n",
       "        8.57169507e-05,  5.51873352e-04,  3.18052393e-04,  1.04318606e-04,\n",
       "        2.05777294e-04,  5.22172893e-04,  5.08108351e-04, -1.64856797e-03,\n",
       "        3.99776921e-03, -1.06867438e-03,  4.62270575e-04,  4.73026012e-04,\n",
       "        4.89904254e-04,  2.57900800e-04,  2.80697306e-04,  8.41305591e-05,\n",
       "        1.08134060e-04,  1.01503247e-05,  2.36638763e-04, -2.28606514e-04,\n",
       "       -4.87942016e-04, -4.88117803e-06, -2.58628745e-04, -2.07689300e-05,\n",
       "       -2.03572024e-04,  3.54023883e-04, -2.68453907e-04,  2.30580306e-04,\n",
       "        3.10445525e-04,  1.29022723e-04,  7.49868806e-04,  7.14553287e-04,\n",
       "        2.53431062e-04,  7.84740259e-04,  5.81505301e-04,  6.47075882e-04,\n",
       "        1.99726259e-04, -3.79918492e-05,  7.77705689e-04, -7.52830878e-04,\n",
       "        4.27671801e-03, -2.92857672e-04,  5.12211700e-04,  1.34712347e-04,\n",
       "        3.35936667e-04,  2.77397165e-04,  3.47856840e-04,  6.40986109e-05,\n",
       "        1.15779141e-04,  1.45997474e-04,  2.34866980e-04,  4.00640769e-04,\n",
       "       -5.97006292e-05,  6.39025820e-05,  1.18982513e-04,  1.20614335e-04,\n",
       "       -1.57915929e-05,  1.03355953e-04,  3.10121919e-04,  4.16617229e-04,\n",
       "        2.77296524e-04,  5.64511458e-04,  3.68316221e-04,  3.42291140e-04,\n",
       "        4.56313544e-04,  4.39272088e-04, -2.88260693e-04,  6.31449744e-04,\n",
       "        4.06449544e-04,  1.79436480e-04,  3.85818828e-04, -6.81194477e-04,\n",
       "        3.23436060e-03, -4.14633891e-04,  4.52075386e-04,  5.09065809e-04,\n",
       "        2.18453410e-04,  5.77793806e-04,  3.96001327e-04,  7.18815776e-04,\n",
       "        2.70691467e-04,  4.81062336e-04,  3.43579915e-04, -5.93008590e-05,\n",
       "        1.08418782e-04, -2.76291190e-04, -3.11434560e-05,  3.59350233e-05,\n",
       "       -8.62429442e-05,  3.90383240e-04, -1.86415273e-04,  6.14998105e-04,\n",
       "        2.62752263e-04,  4.20993543e-04,  3.55911790e-04,  4.11203713e-04,\n",
       "        3.06332338e-04,  4.43217927e-04,  1.02334050e-03,  3.67802393e-04,\n",
       "        2.53943726e-04,  3.28004244e-04,  6.24504755e-04, -2.42124661e-04,\n",
       "        3.55629646e-03, -4.83536016e-04,  5.84806316e-04,  3.20687250e-04,\n",
       "        2.33445258e-04,  2.75117694e-04,  6.43884763e-04,  6.55688928e-05,\n",
       "        3.53229843e-04,  9.56341610e-05,  9.27726505e-05, -1.42490258e-04,\n",
       "        1.26692525e-04,  3.07479990e-04,  2.44435971e-04,  2.24166724e-04,\n",
       "        2.43982533e-04,  6.32866169e-04,  2.41722271e-04,  7.01292302e-05,\n",
       "        1.35577429e-04,  2.45571602e-04,  5.53229416e-04,  8.16218089e-04,\n",
       "        3.70289781e-04,  1.40766846e-04,  4.82603675e-04,  1.09785935e-04,\n",
       "        3.18093575e-04,  4.12912748e-04,  1.49257015e-04, -7.97414104e-05,\n",
       "        1.46007922e-03,  2.48217140e-04,  5.14648389e-04,  2.85189832e-04,\n",
       "        1.99963572e-04,  8.81182496e-05,  2.25202704e-04,  1.35367911e-04,\n",
       "        5.94228157e-04, -1.00491685e-04,  2.67326424e-04, -1.81280775e-05,\n",
       "       -3.99000710e-05,  2.35280022e-04, -1.22968399e-04,  1.96767855e-04,\n",
       "        6.76825643e-04,  2.46317708e-04,  2.46480486e-04,  6.89743028e-04,\n",
       "        4.69181337e-04,  2.24849500e-04,  3.87440086e-05,  2.05761520e-04,\n",
       "        1.16069627e-04,  2.21447670e-04,  6.46733679e-05,  4.02420235e-04,\n",
       "        4.13069938e-04,  4.72779648e-04,  7.53616914e-04, -6.67654094e-05,\n",
       "        1.50850578e-03,  3.87003907e-04,  4.13888483e-04,  3.00449203e-04,\n",
       "        3.34070879e-04,  7.57423404e-04, -8.85553891e-06,  4.51494590e-04,\n",
       "        4.26172046e-05,  8.97551654e-05,  2.36036576e-04,  3.59929618e-05,\n",
       "        3.67594999e-04,  2.65862356e-04,  3.06595961e-04, -7.91111961e-05,\n",
       "        4.72328276e-04,  2.42407958e-04,  6.30256138e-04, -1.54672947e-04,\n",
       "        1.32489629e-04,  5.13595238e-04,  2.83198198e-04,  2.92488228e-04,\n",
       "       -4.33170935e-05,  5.29287441e-04,  3.75744363e-04,  6.26781723e-04,\n",
       "        1.99722999e-04,  4.62897122e-04,  2.53808423e-04,  2.92819459e-04,\n",
       "        1.46136421e-03,  2.04548007e-04,  2.49774312e-04,  1.58178533e-04,\n",
       "        9.62495455e-04,  4.51535947e-04,  1.09938555e-04,  7.34416302e-04,\n",
       "       -4.02909936e-05,  3.18161270e-04,  2.03315401e-04,  1.17010146e-04,\n",
       "        2.33672326e-05,  3.31681949e-04, -1.39630109e-04,  5.54161612e-04,\n",
       "        5.49273565e-04,  5.55705978e-04,  1.81368319e-04,  1.18149328e-04,\n",
       "        2.07529229e-04,  2.20334739e-04,  4.80374089e-04,  4.09678905e-05,\n",
       "        1.68466926e-04,  2.33140308e-04, -7.30548054e-05,  4.18976531e-04,\n",
       "        5.47555974e-04, -2.40596419e-05,  5.54565049e-04,  3.23615619e-04,\n",
       "        1.33694033e-03,  3.05425812e-04,  2.57782347e-04,  3.26369132e-04,\n",
       "        5.62812202e-05,  4.61651653e-04,  4.19292308e-04, -7.37400260e-05,\n",
       "       -1.02566963e-04, -8.68545612e-05,  6.71175716e-04,  3.84893152e-04,\n",
       "        8.25182302e-04,  2.90587312e-04,  7.81753450e-04,  1.39758602e-04,\n",
       "       -4.28206695e-05,  8.05207528e-05,  3.13348515e-04,  1.68567014e-04,\n",
       "        4.56513866e-04,  4.91108513e-04,  3.38382903e-04,  2.24234740e-04,\n",
       "        1.70553802e-04,  2.79760454e-04, -3.15606594e-05, -2.02571973e-05,\n",
       "        4.84502263e-04,  7.03372818e-04,  4.06203500e-04,  6.14232267e-04,\n",
       "        1.17480464e-03,  3.24349152e-04,  1.17035757e-04,  3.98948148e-04,\n",
       "       -2.39380461e-05,  1.46993931e-04,  7.09760934e-05, -1.01245241e-04,\n",
       "        2.28234479e-04,  3.15631041e-07, -1.20266341e-05, -1.05753425e-04,\n",
       "       -2.63161550e-04,  4.61939955e-04,  3.17118218e-04,  2.09355901e-04,\n",
       "        3.64168838e-04,  2.47633259e-04,  1.68970466e-04,  1.80298695e-04,\n",
       "        1.66484446e-04,  6.01709122e-04,  1.85609504e-04, -2.66626303e-05,\n",
       "        2.30614096e-04,  1.63615041e-04,  3.72400857e-04,  5.57437306e-05,\n",
       "        6.34468859e-04,  7.80356349e-05,  3.87846085e-04,  6.80785975e-04,\n",
       "        1.08315912e-03,  2.22796341e-04,  8.47927004e-04,  6.81368168e-04,\n",
       "       -1.02332124e-04, -9.30125607e-05,  2.65978742e-05,  8.87011702e-05,\n",
       "        2.64095375e-04,  2.93161109e-04,  1.79432915e-04,  9.88604734e-05,\n",
       "        5.04723459e-04,  8.49342905e-05,  4.80283867e-04,  4.67369042e-04,\n",
       "        6.06863818e-04,  2.79524713e-04,  1.01794663e-04,  2.72338395e-04,\n",
       "        4.21759090e-04,  4.46999096e-04,  2.42441369e-04,  2.99139763e-04,\n",
       "        1.90843406e-04,  2.96531420e-04,  2.81142653e-04,  5.68767311e-04,\n",
       "        7.90461781e-05,  6.03430788e-04,  3.10859410e-04, -1.57944858e-04,\n",
       "        1.55770360e-03,  5.62437344e-06,  5.18549350e-04,  2.44811585e-04,\n",
       "        3.31387564e-04,  2.14984175e-04,  2.71708355e-04,  3.82628525e-04,\n",
       "        1.93045082e-04,  3.88635963e-04,  1.43051031e-04,  5.79516171e-04,\n",
       "        1.34293805e-05,  2.53955397e-04,  8.16106767e-05,  2.79363885e-04,\n",
       "        3.34928074e-04, -3.81503851e-05,  4.81816125e-04, -7.95784144e-05,\n",
       "        5.77093917e-04, -4.81199881e-04,  3.02664354e-04,  4.59920848e-05,\n",
       "        4.43426485e-04,  3.06795118e-05,  6.00359112e-04,  3.94402508e-04,\n",
       "        2.63459515e-04,  5.18004934e-04,  5.36278414e-04, -1.76691668e-04,\n",
       "        1.17299776e-03, -1.55074449e-04,  2.21646900e-04, -8.60064756e-06,\n",
       "        3.55239208e-05,  5.48216340e-05,  8.08829209e-04,  2.58400803e-04,\n",
       "        2.52362050e-04, -3.88792250e-06,  4.42801509e-04,  4.42802033e-04,\n",
       "        6.37571065e-05,  1.78658112e-04,  3.03923152e-04,  5.23417548e-04,\n",
       "        5.40836307e-04,  3.92005895e-04,  8.38635315e-05,  1.97900808e-04,\n",
       "        1.25108520e-04,  2.61808920e-04,  3.86250234e-04,  7.52712833e-04,\n",
       "       -4.62903117e-05,  4.16411320e-04,  2.76270148e-04,  5.06496872e-04,\n",
       "        4.88989637e-04, -1.10279114e-04,  9.49998503e-04,  2.74318969e-04,\n",
       "        1.84518110e-03,  1.99528382e-04,  3.58232355e-04,  2.79292726e-04,\n",
       "        1.87970800e-04,  2.99499196e-04,  2.25678625e-04,  4.69023362e-05,\n",
       "       -1.79509108e-04,  1.12855196e-04,  1.54808979e-04,  7.46497681e-05,\n",
       "        4.41234442e-04, -7.43987039e-06, -3.08762537e-05, -2.08023092e-04,\n",
       "       -4.47477214e-06,  3.29619157e-04, -2.16674991e-04, -5.48127573e-05,\n",
       "        3.47579655e-04,  3.27063026e-04, -3.20487627e-04,  4.93906671e-04,\n",
       "       -2.80956854e-04,  4.95733111e-05, -3.71831411e-04,  2.69133947e-04,\n",
       "       -2.06970901e-04,  1.74554341e-04,  1.79931521e-04, -5.30125108e-05,\n",
       "        1.76566641e-03,  2.19162641e-04,  9.17055528e-04,  4.16015566e-04,\n",
       "        2.37989647e-04,  3.40162253e-04,  1.90666411e-04,  2.06432480e-04,\n",
       "        5.34865248e-05,  2.26805045e-04,  2.29522178e-04,  3.09315627e-04,\n",
       "        4.23262536e-04, -3.22209846e-04,  2.14910193e-04,  2.70367251e-04,\n",
       "       -4.17571282e-05, -5.34536201e-04,  2.63260910e-04,  1.06333886e-04,\n",
       "        3.37192439e-04,  2.79507367e-05,  2.46805139e-05,  4.85898810e-04,\n",
       "        9.70494875e-05,  7.62627460e-05,  5.06020733e-04,  4.51556552e-04,\n",
       "        4.73142951e-04, -1.20715005e-04,  5.73485566e-04, -1.03584724e-04,\n",
       "        1.42206380e-03,  2.07216945e-04,  6.27369736e-04,  2.77431798e-04,\n",
       "        3.69620509e-04,  3.05951078e-04,  2.10802886e-04, -1.25640945e-04,\n",
       "        1.22152618e-04,  5.71452256e-06, -2.57146196e-04,  1.17444608e-04,\n",
       "        6.15719589e-04,  4.01211291e-04, -4.26514889e-05,  1.91567262e-04,\n",
       "       -6.17635087e-05,  5.37070213e-04,  6.41247025e-05, -3.59359547e-06,\n",
       "       -4.26999410e-04, -1.85192155e-04, -1.48983207e-04,  5.01075992e-05,\n",
       "       -3.12360586e-04,  1.70986023e-04, -1.31631154e-04,  6.04466186e-04,\n",
       "       -1.27807725e-05,  2.66656134e-04,  1.03610638e-03,  2.06878292e-04,\n",
       "        3.82746803e-03,  4.33004403e-04,  1.05119520e-03,  5.01055853e-04,\n",
       "        1.04632971e-04, -3.78690427e-04,  2.97260849e-05,  6.17064128e-04,\n",
       "        5.00957394e-05,  3.31723015e-04,  2.10536062e-04,  1.36626157e-04,\n",
       "       -3.56014934e-05,  3.15874466e-04, -8.00180715e-07,  1.03800441e-04,\n",
       "       -2.11230232e-04,  1.98467169e-05,  1.05743442e-04,  1.46950304e-04,\n",
       "        1.25652412e-04, -2.76289065e-05,  3.83596576e-04, -2.75914557e-04,\n",
       "        1.45734986e-04,  2.67759082e-04,  1.72599175e-04,  2.60818284e-04,\n",
       "       -4.11462795e-04,  2.34839099e-04,  4.06115199e-04,  3.91910202e-04,\n",
       "        2.95874267e-03,  4.33928566e-04,  9.02330503e-04,  9.97990719e-06,\n",
       "       -1.33485883e-04,  1.44447578e-04, -8.63328460e-05,  2.54363171e-04,\n",
       "        1.06846564e-04,  2.11859413e-04,  4.53011540e-04, -4.09065105e-04,\n",
       "        3.67471366e-05,  3.89363442e-04, -5.45875810e-05, -9.53096896e-05,\n",
       "        1.63319753e-04, -1.81738811e-04,  6.47303881e-04,  1.74785149e-04,\n",
       "       -1.07634485e-04, -9.90845729e-06,  5.51170087e-05,  1.03579514e-04,\n",
       "        2.04398442e-04,  2.81154847e-04, -1.33464753e-04,  2.17490422e-04,\n",
       "        4.88349469e-04,  1.41111115e-04,  1.85190863e-03,  3.09829484e-04,\n",
       "        4.48240759e-03, -1.76739739e-03,  5.33275888e-04, -1.61726377e-04,\n",
       "        1.82822056e-04, -4.98900423e-04,  5.76719700e-04, -3.37879872e-04,\n",
       "        3.21084925e-04, -1.36317423e-04, -2.35460408e-04,  8.24156450e-05,\n",
       "        4.18181298e-05, -2.79916567e-04, -2.10262951e-05,  5.21610840e-04,\n",
       "        2.08689249e-04,  9.71430563e-05,  3.04989400e-04, -3.02806060e-04,\n",
       "        4.15139773e-04,  1.78644550e-05, -9.84262442e-06,  2.29162164e-04,\n",
       "        7.12240289e-05, -9.86246159e-05,  2.60670204e-05,  5.86057431e-04,\n",
       "        5.52597339e-04,  2.86189024e-04,  1.04319677e-03, -1.63497042e-03,\n",
       "        2.36237757e-02, -1.92296901e-03,  2.08847167e-04,  9.27468645e-04,\n",
       "        3.73657502e-04,  9.01713502e-05, -1.25872204e-04,  2.13089224e-04,\n",
       "       -1.66972619e-04, -4.21031145e-05,  8.17613909e-05,  4.09562490e-04,\n",
       "        4.10538400e-04,  2.50441371e-04,  2.46788317e-04,  4.74427012e-04,\n",
       "        1.95064582e-04,  4.43699770e-04,  2.43677408e-04,  2.56211788e-04,\n",
       "        1.59147487e-04, -1.18671014e-04,  5.06095705e-04,  1.96894340e-04,\n",
       "       -6.23700907e-06, -1.18496231e-04,  4.89668222e-04,  5.58869913e-04,\n",
       "        1.87643687e-04,  2.04977579e-04,  6.64355757e-04, -1.88515813e-03,\n",
       "        1.90802887e-02], dtype=float32)"
      ]
     },
     "execution_count": 39,
     "metadata": {},
     "output_type": "execute_result"
    }
   ],
   "source": [
    "decoded_fake[0, :]"
   ]
  },
  {
   "cell_type": "code",
   "execution_count": 40,
   "metadata": {},
   "outputs": [
    {
     "data": {
      "text/plain": [
       "1.2863893e-07"
      ]
     },
     "execution_count": 40,
     "metadata": {},
     "output_type": "execute_result"
    },
    {
     "data": {
      "image/png": "[encoded data removed]",
      "text/plain": [
       "<Figure size 432x288 with 2 Axes>"
      ]
     },
     "metadata": {
      "needs_background": "light"
     },
     "output_type": "display_data"
    }
   ],
   "source": [
    "sns.heatmap(pd.DataFrame(decoded_fake[0, :].reshape(31,31)), \n",
    "            fmt='g', xticklabels=False, yticklabels=False, \n",
    "            cmap = 'inferno', \n",
    "            robust=False)\n",
    "\n",
    "clean_img = autoencoder.predict(decoded_fake[0, :].reshape(1,-1))\n",
    "plt.savefig('fake_cov_jla.png', dpi=200)\n",
    "np.min(np.abs(decoded_fake[0, :]))"
   ]
  },
  {
   "cell_type": "code",
   "execution_count": 41,
   "metadata": {},
   "outputs": [
    {
     "name": "stdout",
     "output_type": "stream",
     "text": [
      "-0.01084098704 0.02815552265 0.00039265133851975654\n",
      "-0.010877792 0.027974825 0.00038507715\n",
      "-0.010845263 0.028159365 0.00038538207\n"
     ]
    },
    {
     "data": {
      "image/png": "[encoded data removed]",
      "text/plain": [
       "<Figure size 432x288 with 2 Axes>"
      ]
     },
     "metadata": {
      "needs_background": "light"
     },
     "output_type": "display_data"
    }
   ],
   "source": [
    "clean_img = autoencoder.predict(decoded_fake[0, :].reshape(1,-1))\n",
    "sns.heatmap(pd.DataFrame(clean_img[0, :].reshape(31,31)), \n",
    "            fmt='g', xticklabels=False, yticklabels=False, \n",
    "            cmap = 'inferno', \n",
    "            robust=False)\n",
    "plt.savefig('fake_cov_clean_jla.png', dpi=200)\n",
    "np.min(np.abs(clean_img[0, :]))\n",
    "\n",
    "print(np.min(syscov), np.max(syscov), np.mean(syscov)) #checking non-negatives in the diagonal\n",
    "print(np.min(decoded_fake[0,:]), np.max(decoded_fake[0,:]), np.mean(decoded_fake[0,:])) #checking non-negatives in the diagonal\n",
    "print(np.min(clean_img[0,:]), np.max(clean_img[0,:]), np.mean(clean_img[0,:])) #checking non-negatives in the diagonal\n",
    "\n"
   ]
  },
  {
   "cell_type": "code",
   "execution_count": 42,
   "metadata": {},
   "outputs": [],
   "source": [
    "np.savetxt(\"fake_binned_JLA_COVdecoded.dat\", decoded_fake[0, :].reshape(31,31), delimiter= \" \", header=\"#fake COV\")\n",
    "np.savetxt(\"fake_binned_JLA_COVclean.dat\", clean_img[0, :].reshape(31,31), delimiter= \" \", header=\"#fake COV\")"
   ]
  },
  {
   "cell_type": "code",
   "execution_count": 43,
   "metadata": {},
   "outputs": [
    {
     "name": "stdout",
     "output_type": "stream",
     "text": [
      "0 1 -0.010833639 -0.010877792\n",
      "0 2 0.0017134377 0.0021560192\n",
      "0 3 -9.986397e-06 0.0004228734\n",
      "0 4 0.00083279586 0.00075594266\n",
      "0 5 0.00072965544 0.00043314556\n",
      "0 6 0.0006116608 0.0005683288\n",
      "0 7 0.0008948197 0.0010925811\n",
      "0 8 0.00080126757 0.0008374633\n",
      "0 9 -2.3704488e-06 -7.049192e-05\n",
      "0 10 0.0009288904 0.0007316937\n",
      "0 11 -3.797532e-05 -0.00024652184\n",
      "0 12 0.0003103955 0.00031044552\n",
      "0 13 0.00041677 0.00041661723\n",
      "0 14 0.00036821677 -0.00018641527\n",
      "0 15 0.0004931012 0.00063286617\n",
      "0 16 0.00034409005 0.00067682564\n",
      "0 17 0.00019531534 -7.9111196e-05\n",
      "0 18 0.0004518664 -0.00013963011\n",
      "0 19 -0.000138759 0.0002905873\n",
      "0 20 -3.2457872e-05 -0.00026316155\n",
      "0 21 0.00019514633 9.886047e-05\n",
      "0 22 -0.00010235346 0.00014305103\n",
      "0 23 0.00016291812 -3.8879225e-06\n",
      "0 24 -3.6671816e-05 -0.00017950911\n",
      "0 25 0.0006209052 0.00020643248\n",
      "0 26 -0.00016913384 0.00021080289\n",
      "0 27 9.040476e-05 -0.00037869043\n",
      "0 28 -0.00056244415 -0.00013348588\n",
      "0 29 4.1676045e-05 -0.00016172638\n",
      "0 30 -0.00017578309 0.00020884717\n",
      "1 2 -0.0023911772 -0.0016104581\n",
      "1 3 0.0019911453 0.0013842667\n",
      "1 4 -0.00015095531 4.9642767e-05\n",
      "1 5 0.00022125762 0.00042844284\n",
      "1 6 8.795556e-05 2.9378221e-05\n",
      "1 7 0.00062301144 -0.0003395696\n",
      "1 8 7.802347e-05 0.00060337235\n",
      "1 9 0.00023034649 0.000451218\n",
      "1 10 0.00048731436 0.00023185427\n",
      "1 11 0.0003697648 0.00047984463\n",
      "1 12 2.3172353e-05 0.00012902272\n",
      "1 13 0.0002744156 0.00027729652\n",
      "1 14 0.00049254595 0.0006149981\n",
      "1 15 -5.598704e-05 0.00024172227\n",
      "1 16 0.00033426215 0.0002463177\n",
      "1 17 0.00050141854 0.00047232828\n",
      "1 18 0.00033180704 0.0005541616\n",
      "1 19 0.00057144347 0.00078175345\n",
      "1 20 0.00010302692 0.00046193996\n",
      "1 21 -0.0001113772 0.00050472346\n",
      "1 22 -1.229858e-05 0.00057951617\n",
      "1 23 0.0005312819 0.0004428015\n",
      "1 24 0.00014199747 0.000112855196\n",
      "1 25 0.0002717658 5.3486525e-05\n",
      "1 26 4.0308223e-05 -0.00012564095\n",
      "1 27 -9.741326e-05 2.9726085e-05\n",
      "1 28 -5.2086427e-05 0.00014444758\n",
      "1 29 -0.0002593627 0.00018282206\n",
      "1 30 0.00036413313 0.00092746865\n",
      "2 3 -0.0014738148 -0.001392499\n",
      "2 4 0.0015774111 0.0014855113\n",
      "2 5 0.00048646127 0.00055571465\n",
      "2 6 0.0007572567 0.00041186155\n",
      "2 7 0.00056061265 0.0009157801\n",
      "2 8 0.00061602966 0.0007626917\n",
      "2 9 0.00042236998 5.0823757e-05\n",
      "2 10 0.0009857186 0.0006451566\n",
      "2 11 0.0003374997 0.00037798856\n",
      "2 12 0.00034002308 0.0007498688\n",
      "2 13 0.00032072255 0.00056451146\n",
      "2 14 0.00041762053 0.00026275226\n",
      "2 15 0.00075634266 7.012923e-05\n",
      "2 16 0.0004968865 0.0002464805\n",
      "2 17 0.00077911175 0.00024240796\n",
      "2 18 0.0008791871 0.00054927357\n",
      "2 19 0.00029749877 0.0001397586\n",
      "2 20 0.0006781632 0.00031711822\n",
      "2 21 0.0003390732 8.493429e-05\n",
      "2 22 0.00064106856 1.34293805e-05\n",
      "2 23 0.00035984267 0.00044280203\n",
      "2 24 0.00036675017 0.00015480898\n",
      "2 25 -0.00041181163 0.00022680504\n",
      "2 26 0.00015645349 0.00012215262\n",
      "2 27 -0.00033183384 0.0006170641\n",
      "2 28 -5.777659e-05 -8.6332846e-05\n",
      "2 29 9.368396e-05 -0.0004989004\n",
      "2 30 0.000100587844 0.0003736575\n",
      "3 4 -0.00055994303 -0.00068812945\n",
      "3 5 0.00052431686 0.00083844457\n",
      "3 6 0.00068653934 0.00046847912\n",
      "3 7 0.0003982833 0.00070766394\n",
      "3 8 0.00046509935 0.0004418232\n",
      "3 9 0.00050080434 0.00010560595\n",
      "3 10 0.00079576264 0.000971311\n",
      "3 11 0.00024641343 8.571695e-05\n",
      "3 12 0.0006737013 0.0007145533\n",
      "3 13 0.0007183008 0.00036831622\n",
      "3 14 0.00014071213 0.00042099354\n",
      "3 15 0.00023582857 0.00013557743\n",
      "3 16 0.00035834796 0.000689743\n",
      "3 17 0.0004994146 0.00063025614\n",
      "3 18 0.0004036903 0.000555706\n",
      "3 19 -1.9769242e-05 -4.282067e-05\n",
      "3 20 0.00048231892 0.0002093559\n",
      "3 21 0.0007465008 0.00048028387\n",
      "3 22 0.00025278243 0.0002539554\n",
      "3 23 0.0002977666 6.375711e-05\n",
      "3 24 0.00022491382 7.464977e-05\n",
      "3 25 1.0691529e-05 0.00022952218\n",
      "3 26 -0.00012695289 5.7145226e-06\n",
      "3 27 -2.4386798e-05 5.009574e-05\n",
      "3 28 -2.1337066e-05 0.00025436317\n",
      "3 29 0.00018241466 0.0005767197\n",
      "3 30 0.00029841682 9.017135e-05\n",
      "4 5 -0.00044815696 -0.00063452835\n",
      "4 6 0.0009352631 0.0007097773\n",
      "4 7 0.00042787116 0.00064194587\n",
      "4 8 0.0006552537 0.00048775692\n",
      "4 9 0.0005088155 0.000669347\n",
      "4 10 0.00082469103 0.0005382299\n",
      "4 11 0.0002513865 0.00055187335\n",
      "4 12 0.0006127081 0.00025343106\n",
      "4 13 0.00031512292 0.00034229114\n",
      "4 14 0.00037785486 0.0003559118\n",
      "4 15 0.00025806166 0.0002455716\n",
      "4 16 0.00062641245 0.00046918134\n",
      "4 17 0.0003361652 -0.00015467295\n",
      "4 18 0.0004989039 0.00018136832\n",
      "4 19 0.0005799192 8.052075e-05\n",
      "4 20 0.00025218877 0.00036416884\n",
      "4 21 0.0004536297 0.00046736904\n",
      "4 22 -4.4636836e-05 8.161068e-05\n",
      "4 23 0.0002595025 0.00017865811\n",
      "4 24 -0.0002565944 0.00044123444\n",
      "4 25 0.00018630433 0.00030931563\n",
      "4 26 0.00010728097 -0.0002571462\n",
      "4 27 0.00012404818 0.00033172301\n",
      "4 28 -2.3194065e-05 0.000106846564\n",
      "4 29 -0.00020573952 -0.00033787987\n",
      "4 30 3.7899605e-05 -0.0001258722\n",
      "5 6 -9.089708e-05 -8.040911e-05\n",
      "5 7 0.0010577461 0.001005756\n",
      "5 8 0.00061935023 0.00042352272\n",
      "5 9 0.0005791808 0.0002838918\n",
      "5 10 0.00034562254 0.00018285634\n",
      "5 11 0.00027237812 0.0003180524\n",
      "5 12 0.0006384172 0.00078474026\n",
      "5 13 0.00043768197 0.00045631354\n",
      "5 14 2.8529903e-06 0.0004112037\n",
      "5 15 0.00028830508 0.0005532294\n",
      "5 16 0.0004173076 0.0002248495\n",
      "5 17 0.00021399767 0.00013248963\n",
      "5 18 0.0003777342 0.00011814933\n",
      "5 19 4.4820306e-05 0.00031334852\n",
      "5 20 0.0003208419 0.00024763326\n",
      "5 21 1.2863893e-07 0.0006068638\n",
      "5 22 0.00015919117 0.00027936389\n",
      "5 23 -2.4323352e-05 0.00030392315\n",
      "5 24 0.00034615226 -7.4398704e-06\n",
      "5 25 0.00037080556 0.00042326254\n",
      "5 26 -0.0001475105 0.00011744461\n",
      "5 27 9.8515884e-05 0.00021053606\n",
      "5 28 -0.0003552875 0.00021185941\n",
      "5 29 1.14524155e-05 0.00032108492\n",
      "5 30 -0.00010852475 0.00021308922\n",
      "6 7 -6.920734e-05 -0.00024753046\n",
      "6 8 0.0007069403 0.001042666\n",
      "6 9 2.2239052e-05 0.00015359331\n",
      "6 10 0.0006218847 0.0005918153\n",
      "6 11 0.0004812678 0.000104318606\n",
      "6 12 0.0008807656 0.0005815053\n",
      "6 13 0.000107365544 0.0004392721\n",
      "6 14 0.000101478254 0.00030633234\n",
      "6 15 0.0005064558 0.0008162181\n",
      "6 16 0.00026210025 3.874401e-05\n",
      "6 17 0.0003689218 0.00051359524\n",
      "6 18 0.00044826476 0.00020752923\n",
      "6 19 0.00042568985 0.00016856701\n",
      "6 20 -5.654269e-05 0.00016897047\n",
      "6 21 0.00037014665 0.0002795247\n",
      "6 22 0.0001202237 0.00033492807\n",
      "6 23 0.00019980234 0.00052341755\n",
      "6 24 0.00010409739 -3.0876254e-05\n",
      "6 25 -4.435282e-05 -0.00032220985\n",
      "6 26 -0.00038018468 0.0006157196\n",
      "6 27 0.00022387865 0.00013662616\n",
      "6 28 -0.000386031 0.00045301154\n",
      "6 29 -0.00029535271 -0.00013631742\n",
      "6 30 0.00028655928 -0.00016697262\n",
      "7 8 7.7527715e-05 -7.170136e-06\n",
      "7 9 0.000100959005 0.0006615121\n",
      "7 10 0.0005124808 0.0004215258\n",
      "7 11 0.00039485842 0.0002057773\n",
      "7 12 0.00070230407 0.0006470759\n",
      "7 13 0.00020823849 -0.0002882607\n",
      "7 14 0.0001803409 0.00044321793\n",
      "7 15 -0.00016982207 0.00037028978\n",
      "7 16 -0.00044327264 0.00020576152\n",
      "7 17 0.00010282078 0.0002831982\n",
      "7 18 -0.00010814052 0.00022033474\n",
      "7 19 0.00053061114 0.00045651387\n",
      "7 20 8.7505905e-05 0.0001802987\n",
      "7 21 0.0003903358 0.00010179466\n",
      "7 22 0.00015844323 -3.8150385e-05\n",
      "7 23 3.0372423e-05 0.0005408363\n",
      "7 24 0.00014670298 -0.00020802309\n",
      "7 25 0.0003598929 0.0002149102\n",
      "7 26 5.588231e-05 0.0004012113\n",
      "7 27 -1.6118116e-05 -3.5601493e-05\n",
      "7 28 0.000368435 -0.0004090651\n",
      "7 29 0.00028232046 -0.00023546041\n",
      "7 30 0.00016844575 -4.2103115e-05\n",
      "8 9 -0.00051491964 -0.0006571342\n",
      "8 10 0.00073703076 0.00082659425\n",
      "8 11 0.00037222786 0.0005221729\n",
      "8 12 0.00035305283 0.00019972626\n",
      "8 13 0.0002533884 0.00063144974\n",
      "8 14 0.00038463483 0.0010233405\n",
      "8 15 -9.578245e-06 0.00014076685\n",
      "8 16 0.00027473096 0.00011606963\n",
      "8 17 0.00049960404 0.00029248823\n",
      "8 18 -0.00015772443 0.0004803741\n",
      "8 19 0.00049365696 0.0004911085\n",
      "8 20 0.00014115096 0.00016648445\n",
      "8 21 0.00025682326 0.0002723384\n",
      "8 22 -0.00026517792 0.00048181613\n",
      "8 23 0.0006985604 0.0003920059\n",
      "8 24 0.00021604804 -4.474772e-06\n",
      "8 25 0.00043033477 0.00027036725\n",
      "8 26 4.5598965e-05 -4.265149e-05\n",
      "8 27 0.00022362988 0.00031587447\n",
      "8 28 0.00013517335 3.6747137e-05\n",
      "8 29 2.0732405e-05 8.2415645e-05\n",
      "8 30 -2.38574e-05 8.176139e-05\n",
      "9 10 -0.0019147887 -0.001805559\n",
      "9 11 0.000653647 0.00050810835\n",
      "9 12 0.00044515566 -3.799185e-05\n",
      "9 13 4.5931432e-05 0.00040644954\n",
      "9 14 0.0006531195 0.0003678024\n",
      "9 15 -7.905229e-05 0.00048260367\n",
      "9 16 0.00053533335 0.00022144767\n",
      "9 17 0.0003801391 -4.3317094e-05\n",
      "9 18 0.00058068347 4.096789e-05\n",
      "9 19 0.0002542805 0.0003383829\n",
      "9 20 0.00036275212 0.0006017091\n",
      "9 21 0.00018343343 0.0004217591\n",
      "9 22 0.00026371668 -7.9578414e-05\n",
      "9 23 0.00015204708 8.386353e-05\n",
      "9 24 0.0003894996 0.00032961916\n",
      "9 25 -2.236804e-06 -4.175713e-05\n",
      "9 26 0.0002789836 0.00019156726\n",
      "9 27 0.0001146805 -8.001807e-07\n",
      "9 28 0.00021125277 0.00038936344\n",
      "9 29 -0.00019137526 4.181813e-05\n",
      "9 30 0.00018568535 0.0004095625\n",
      "10 11 -0.0017479956 -0.001648568\n",
      "10 12 0.0010418908 0.0007777057\n",
      "10 13 0.00015464425 0.00017943648\n",
      "10 14 0.00019973272 0.00025394373\n",
      "10 15 0.00015110627 0.000109785935\n",
      "10 16 0.00052165805 6.467337e-05\n",
      "10 17 0.00015214877 0.00052928744\n",
      "10 18 0.0004627559 0.00016846693\n",
      "10 19 0.00033116527 0.00022423474\n",
      "10 20 -0.0002101069 0.0001856095\n",
      "10 21 0.00060625805 0.0004469991\n",
      "10 22 -5.0491595e-05 0.0005770939\n",
      "10 23 0.00019593767 0.00019790081\n",
      "10 24 0.00026143272 -0.00021667499\n",
      "10 25 2.5096815e-05 -0.0005345362\n",
      "10 26 7.100002e-05 -6.176351e-05\n",
      "10 27 -4.2152824e-06 0.00010380044\n",
      "10 28 0.0003143954 -5.458758e-05\n",
      "10 29 0.00019418285 -0.00027991657\n",
      "10 30 -8.932443e-05 0.0004105384\n",
      "11 12 -0.0010686744 -0.0007528309\n",
      "11 13 0.00046227057 0.00038581883\n",
      "11 14 0.000473026 0.00032800424\n",
      "11 15 0.00048990425 0.00031809357\n",
      "11 16 0.0002579008 0.00040242024\n",
      "11 17 0.0002806973 0.00037574436\n",
      "11 18 8.413056e-05 0.00023314031\n",
      "11 19 0.00010813406 0.0001705538\n",
      "11 20 1.0150325e-05 -2.666263e-05\n",
      "11 21 0.00023663876 0.00024244137\n",
      "11 22 -0.00022860651 -0.00048119988\n",
      "11 23 -0.00048794202 0.00012510852\n",
      "11 24 -4.881178e-06 -5.4812757e-05\n",
      "11 25 -0.00025862874 0.0002632609\n",
      "11 26 -2.076893e-05 0.0005370702\n",
      "11 27 -0.00020357202 -0.00021123023\n",
      "11 28 0.00035402388 -9.530969e-05\n",
      "11 29 -0.0002684539 -2.1026295e-05\n",
      "11 30 0.0002305803 0.00025044137\n",
      "12 13 -0.00029285767 -0.0006811945\n",
      "12 14 0.0005122117 0.00062450476\n",
      "12 15 0.00013471235 0.00041291275\n",
      "12 16 0.00033593667 0.00041306994\n",
      "12 17 0.00027739716 0.0006267817\n",
      "12 18 0.00034785684 -7.3054805e-05\n",
      "12 19 6.409861e-05 0.00027976045\n",
      "12 20 0.00011577914 0.0002306141\n",
      "12 21 0.00014599747 0.00029913976\n",
      "12 22 0.00023486698 0.00030266435\n",
      "12 23 0.00040064077 0.00026180892\n",
      "12 24 -5.970063e-05 0.00034757965\n",
      "12 25 6.390258e-05 0.000106333886\n",
      "12 26 0.00011898251 6.41247e-05\n",
      "12 27 0.000120614335 1.9846717e-05\n",
      "12 28 -1.5791593e-05 0.00016331975\n",
      "12 29 0.00010335595 0.00052161084\n",
      "12 30 0.00031012192 0.00024678832\n",
      "13 14 -0.0004146339 -0.00024212466\n",
      "13 15 0.0004520754 0.00014925702\n",
      "13 16 0.0005090658 0.00047277965\n",
      "13 17 0.00021845341 0.000199723\n",
      "13 18 0.0005777938 0.00041897653\n",
      "13 19 0.00039600133 -3.156066e-05\n",
      "13 20 0.0007188158 0.00016361504\n",
      "13 21 0.00027069147 0.0001908434\n",
      "13 22 0.00048106234 4.5992085e-05\n",
      "13 23 0.00034357992 0.00038625023\n",
      "13 24 -5.930086e-05 0.00032706303\n",
      "13 25 0.00010841878 0.00033719244\n",
      "13 26 -0.0002762912 -3.5935955e-06\n",
      "13 27 -3.1143456e-05 0.00010574344\n",
      "13 28 3.5935023e-05 -0.00018173881\n",
      "13 29 -8.6242944e-05 0.00020868925\n",
      "13 30 0.00039038324 0.000474427\n",
      "14 15 -0.00048353602 -7.974141e-05\n",
      "14 16 0.0005848063 0.0007536169\n",
      "14 17 0.00032068725 0.00046289712\n",
      "14 18 0.00023344526 0.000547556\n",
      "14 19 0.0002751177 -2.0257197e-05\n",
      "14 20 0.00064388476 0.00037240086\n",
      "14 21 6.556889e-05 0.00029653142\n",
      "14 22 0.00035322984 0.00044342648\n",
      "14 23 9.563416e-05 0.00075271283\n",
      "14 24 9.277265e-05 -0.00032048763\n",
      "14 25 -0.00014249026 2.7950737e-05\n",
      "14 26 0.00012669252 -0.0004269994\n",
      "14 27 0.00030748 0.0001469503\n",
      "14 28 0.00024443597 0.0006473039\n",
      "14 29 0.00022416672 9.7143056e-05\n",
      "14 30 0.00024398253 0.00019506458\n",
      "15 16 0.00024821714 -6.676541e-05\n",
      "15 17 0.0005146484 0.00025380842\n",
      "15 18 0.00028518983 -2.4059642e-05\n",
      "15 19 0.00019996357 0.00048450226\n",
      "15 20 8.811825e-05 5.574373e-05\n",
      "15 21 0.0002252027 0.00028114265\n",
      "15 22 0.00013536791 3.0679512e-05\n",
      "15 23 0.00059422816 -4.629031e-05\n",
      "15 24 -0.000100491685 0.0004939067\n",
      "15 25 0.00026732642 2.4680514e-05\n",
      "15 26 -1.8128077e-05 -0.00018519216\n",
      "15 27 -3.990007e-05 0.00012565241\n",
      "15 28 0.00023528002 0.00017478515\n",
      "15 29 -0.0001229684 0.0003049894\n",
      "15 30 0.00019676785 0.00044369977\n",
      "16 17 0.0003870039 0.00029281946\n",
      "16 18 0.00041388848 0.00055456505\n",
      "16 19 0.0003004492 0.0007033728\n",
      "16 20 0.00033407088 0.00063446886\n",
      "16 21 0.0007574234 0.0005687673\n",
      "16 22 -8.855539e-06 0.0006003591\n",
      "16 23 0.0004514946 0.00041641132\n",
      "16 24 4.2617205e-05 -0.00028095685\n",
      "16 25 8.9755165e-05 0.0004858988\n",
      "16 26 0.00023603658 -0.0001489832\n",
      "16 27 3.599296e-05 -2.7628907e-05\n",
      "16 28 0.000367595 -0.000107634485\n",
      "16 29 0.00026586236 -0.00030280606\n",
      "16 30 0.00030659596 0.00024367741\n",
      "17 18 0.000204548 0.00032361562\n",
      "17 19 0.0002497743 0.0004062035\n",
      "17 20 0.00015817853 7.8035635e-05\n",
      "17 21 0.00096249545 7.904618e-05\n",
      "17 22 0.00045153595 0.0003944025\n",
      "17 23 0.000109938555 0.00027627015\n",
      "17 24 0.0007344163 4.957331e-05\n",
      "17 25 -4.0290994e-05 9.704949e-05\n",
      "17 26 0.00031816127 5.01076e-05\n",
      "17 27 0.0002033154 0.00038359658\n",
      "17 28 0.000117010146 -9.908457e-06\n",
      "17 29 2.3367233e-05 0.00041513977\n",
      "17 30 0.00033168195 0.0002562118\n",
      "18 19 0.0003054258 0.00061423227\n",
      "18 20 0.00025778235 0.00038784608\n",
      "18 21 0.00032636913 0.0006034308\n",
      "18 22 5.628122e-05 0.00026345951\n",
      "18 23 0.00046165165 0.0005064969\n",
      "18 24 0.0004192923 -0.0003718314\n",
      "18 25 -7.3740026e-05 7.6262746e-05\n",
      "18 26 -0.00010256696 -0.0003123606\n",
      "18 27 -8.685456e-05 -0.00027591456\n",
      "18 28 0.0006711757 5.511701e-05\n",
      "18 29 0.00038489315 1.7864455e-05\n",
      "18 30 0.0008251823 0.00015914749\n",
      "19 20 0.00032434915 0.000680786\n",
      "19 21 0.00011703576 0.0003108594\n",
      "19 22 0.00039894815 0.00051800493\n",
      "19 23 -2.3938046e-05 0.00048898964\n",
      "19 24 0.00014699393 0.00026913395\n",
      "19 25 7.097609e-05 0.00050602073\n",
      "19 26 -0.00010124524 0.00017098602\n",
      "19 27 0.00022823448 0.00014573499\n",
      "19 28 3.1563104e-07 0.000103579514\n",
      "19 29 -1.2026634e-05 -9.842624e-06\n",
      "19 30 -0.000105753425 -0.000118671014\n",
      "20 21 0.00022279634 -0.00015794486\n",
      "20 22 0.000847927 0.0005362784\n",
      "20 23 0.00068136817 -0.000110279114\n",
      "20 24 -0.000102332124 -0.0002069709\n",
      "20 25 -9.301256e-05 0.00045155655\n",
      "20 26 2.6597874e-05 -0.00013163115\n",
      "20 27 8.870117e-05 0.00026775908\n",
      "20 28 0.00026409538 0.00020439844\n",
      "20 29 0.0002931611 0.00022916216\n",
      "20 30 0.00017943291 0.0005060957\n",
      "21 22 5.6243734e-06 -0.00017669167\n",
      "21 23 0.00051854935 0.0009499985\n",
      "21 24 0.00024481158 0.00017455434\n",
      "21 25 0.00033138756 0.00047314295\n",
      "21 26 0.00021498417 0.0006044662\n",
      "21 27 0.00027170836 0.00017259918\n",
      "21 28 0.00038262852 0.00028115485\n",
      "21 29 0.00019304508 7.122403e-05\n",
      "21 30 0.00038863596 0.00019689434\n",
      "22 23 -0.00015507445 0.00027431897\n",
      "22 24 0.0002216469 0.00017993152\n",
      "22 25 -8.600648e-06 -0.000120715005\n",
      "22 26 3.552392e-05 -1.27807725e-05\n",
      "22 27 5.4821634e-05 0.00026081828\n",
      "22 28 0.0008088292 -0.00013346475\n",
      "22 29 0.0002584008 -9.8624616e-05\n",
      "22 30 0.00025236205 -6.237009e-06\n",
      "23 24 0.00019952838 -5.301251e-05\n",
      "23 25 0.00035823236 0.00057348557\n",
      "23 26 0.00027929273 0.00026665613\n",
      "23 27 0.0001879708 -0.0004114628\n",
      "23 28 0.0002994992 0.00021749042\n",
      "23 29 0.00022567862 2.606702e-05\n",
      "23 30 4.6902336e-05 -0.00011849623\n",
      "24 25 0.00021916264 -0.00010358472\n",
      "24 26 0.0009170555 0.0010361064\n",
      "24 27 0.00041601557 0.0002348391\n",
      "24 28 0.00023798965 0.00048834947\n",
      "24 29 0.00034016225 0.00058605743\n",
      "24 30 0.00019066641 0.0004896682\n"
     ]
    },
    {
     "name": "stdout",
     "output_type": "stream",
     "text": [
      "25 26 0.00020721694 0.00020687829\n",
      "25 27 0.00062736974 0.0004061152\n",
      "25 28 0.0002774318 0.00014111112\n",
      "25 29 0.0003696205 0.00055259734\n",
      "25 30 0.00030595108 0.0005588699\n",
      "26 27 0.0004330044 0.0003919102\n",
      "26 28 0.0010511952 0.0018519086\n",
      "26 29 0.00050105585 0.00028618902\n",
      "26 30 0.00010463297 0.00018764369\n",
      "27 28 0.00043392857 0.00030982948\n",
      "27 29 0.0009023305 0.0010431968\n",
      "27 30 9.979907e-06 0.00020497758\n",
      "28 29 -0.0017673974 -0.0016349704\n",
      "28 30 0.0005332759 0.00066435576\n",
      "29 30 -0.001922969 -0.0018851581\n"
     ]
    },
    {
     "data": {
      "text/plain": [
       "465"
      ]
     },
     "execution_count": 43,
     "metadata": {},
     "output_type": "execute_result"
    }
   ],
   "source": [
    "count = 0\n",
    "new_cov =decoded_fake[0, :].reshape(31,31)\n",
    "\n",
    "for i in range(len(new_cov)):\n",
    "    for j in range(len(new_cov)):\n",
    "        if np.iscomplex(new_cov[i,j]):\n",
    "            print(\"COMPLEX\")\n",
    "        if new_cov[i,j] != new_cov[j,i]:\n",
    "            print(i,j, end=' ')\n",
    "            print(new_cov[i,j], new_cov[j,i]) \n",
    "            count+=1\n",
    "            new_cov[j,i] = new_cov[i, j]\n",
    "\n",
    "count"
   ]
  },
  {
   "cell_type": "code",
   "execution_count": 44,
   "metadata": {},
   "outputs": [],
   "source": [
    "np.savetxt(\"fake_binned_JLA_COVdecodedsim.dat\", new_cov, delimiter= \" \", header=\"#fake COV\")"
   ]
  },
  {
   "cell_type": "code",
   "execution_count": 45,
   "metadata": {},
   "outputs": [
    {
     "data": {
      "text/plain": [
       "<matplotlib.axes._subplots.AxesSubplot at 0x7f58e43b5588>"
      ]
     },
     "execution_count": 45,
     "metadata": {},
     "output_type": "execute_result"
    },
    {
     "data": {
      "image/png": "[encoded data removed]",
      "text/plain": [
       "<Figure size 432x288 with 2 Axes>"
      ]
     },
     "metadata": {
      "needs_background": "light"
     },
     "output_type": "display_data"
    }
   ],
   "source": [
    "sns.heatmap(pd.DataFrame(new_cov), fmt='g', xticklabels=False, yticklabels=False, \n",
    "            cmap = 'inferno', \n",
    "            robust=False)"
   ]
  },
  {
   "cell_type": "code",
   "execution_count": 46,
   "metadata": {},
   "outputs": [
    {
     "data": {
      "text/plain": [
       "array([[1.00000000e-02, 3.36990891e+01],\n",
       "       [5.30000000e-02, 3.51162758e+01],\n",
       "       [9.60000000e-02, 3.65334625e+01],\n",
       "       [1.39000000e-01, 3.76504288e+01],\n",
       "       [1.82000000e-01, 3.84640312e+01],\n",
       "       [2.25000000e-01, 3.92776337e+01],\n",
       "       [2.68000000e-01, 3.98090057e+01],\n",
       "       [3.11000000e-01, 3.99597359e+01],\n",
       "       [3.54000000e-01, 4.01104660e+01],\n",
       "       [3.97000000e-01, 4.02612076e+01],\n",
       "       [4.40000000e-01, 4.04120445e+01],\n",
       "       [4.83000000e-01, 4.05628891e+01],\n",
       "       [5.26000000e-01, 4.07137299e+01],\n",
       "       [5.69000000e-01, 4.08645706e+01],\n",
       "       [6.12000000e-01, 4.10154114e+01],\n",
       "       [6.55000000e-01, 4.11662560e+01],\n",
       "       [6.98000000e-01, 4.13170929e+01],\n",
       "       [7.41000000e-01, 4.14679375e+01],\n",
       "       [7.84000000e-01, 4.16187744e+01],\n",
       "       [8.27000000e-01, 4.17696190e+01],\n",
       "       [8.70000000e-01, 4.19203949e+01],\n",
       "       [9.13000000e-01, 4.20711670e+01],\n",
       "       [9.56000000e-01, 4.22219391e+01],\n",
       "       [9.99000000e-01, 4.23727074e+01],\n",
       "       [1.04200000e+00, 4.25234833e+01],\n",
       "       [1.08500000e+00, 4.26742554e+01],\n",
       "       [1.12800000e+00, 4.28250122e+01],\n",
       "       [1.17100000e+00, 4.29756813e+01],\n",
       "       [1.21400000e+00, 4.31262398e+01],\n",
       "       [1.25700000e+00, 4.32767944e+01],\n",
       "       [1.30000000e+00, 4.34261398e+01]])"
      ]
     },
     "execution_count": 46,
     "metadata": {},
     "output_type": "execute_result"
    }
   ],
   "source": [
    "fake_data = np.concatenate((ranz.reshape(-1,1), pred_random), axis=1)\n",
    "\n",
    "\n",
    "np.savetxt(\"fake_binned_JLA.dat\",  fake_data, delimiter= \" \", header=\"#fake data\\n# z\\n# mu\")\n",
    "fake_data\n"
   ]
  },
  {
   "cell_type": "code",
   "execution_count": 47,
   "metadata": {},
   "outputs": [],
   "source": [
    "errors = np.sqrt(np.abs(np.diagonal(syscov)))\n",
    "fakeerrors = np.sqrt(np.abs(np.diagonal(clean_img.reshape(31,31))))"
   ]
  },
  {
   "cell_type": "code",
   "execution_count": 48,
   "metadata": {},
   "outputs": [
    {
     "data": {
      "text/plain": [
       "<matplotlib.collections.PathCollection at 0x7f59041cec50>"
      ]
     },
     "execution_count": 48,
     "metadata": {},
     "output_type": "execute_result"
    },
    {
     "data": {
      "image/png": "[encoded data removed]",
      "text/plain": [
       "<Figure size 432x288 with 1 Axes>"
      ]
     },
     "metadata": {
      "needs_background": "light"
     },
     "output_type": "display_data"
    }
   ],
   "source": [
    "plt.scatter(ranz, pred_random)"
   ]
  },
  {
   "cell_type": "code",
   "execution_count": 49,
   "metadata": {},
   "outputs": [
    {
     "data": {
      "image/png": "[encoded data removed]",
      "text/plain": [
       "<Figure size 432x288 with 1 Axes>"
      ]
     },
     "metadata": {
      "needs_background": "light"
     },
     "output_type": "display_data"
    }
   ],
   "source": [
    "plt.errorbar(z, dl, yerr=errors, fmt='g.', markersize=10, label='Observations')\n",
    "plt.errorbar(ranz, pred_random, \n",
    "             yerr=fakeerrors, fmt='r.', markersize=10., label='Synthetic data with errors')\n",
    "\n",
    "# plt.plot(z, Hlcdm(z), label='$\\Lambda CDM$ $H_0 = 73.24$', c='k')\n",
    "# plt.plot(z, Hlcdm(z, H0=67.4), label='$\\Lambda CDM$ $H_0 = 67.4$', c='b')\n",
    "plt.xlabel(\"Redshift z\")\n",
    "plt.ylabel(\"$D_L(z)$\")\n",
    "plt.xlim(0, np.max(z))\n",
    "plt.tight_layout()\n",
    "plt.legend()\n",
    "plt.savefig('fake_vs_binned_jla.png', dpi=200)"
   ]
  },
  {
   "cell_type": "code",
   "execution_count": 50,
   "metadata": {},
   "outputs": [
    {
     "data": {
      "image/png": "[encoded data removed]",
      "text/plain": [
       "<Figure size 360x360 with 6 Axes>"
      ]
     },
     "metadata": {
      "needs_background": "light"
     },
     "output_type": "display_data"
    }
   ],
   "source": [
    "fake_datadf = pd.DataFrame(fake_data, columns=['z', '$D_L$'])\n",
    "sns.pairplot(fake_datadf, diag_kind=\"kde\")\n",
    "plt.savefig('fake_binned_jla.png')"
   ]
  },
  {
   "cell_type": "code",
   "execution_count": null,
   "metadata": {},
   "outputs": [],
   "source": []
  },
  {
   "cell_type": "code",
   "execution_count": null,
   "metadata": {},
   "outputs": [],
   "source": []
  }
 ],
 "metadata": {
  "kernelspec": {
   "display_name": "Python 3",
   "language": "python",
   "name": "python3"
  },
  "language_info": {
   "codemirror_mode": {
    "name": "ipython",
    "version": 3
   },
   "file_extension": ".py",
   "mimetype": "text/x-python",
   "name": "python",
   "nbconvert_exporter": "python",
   "pygments_lexer": "ipython3",
   "version": "3.6.9"
  }
 },
 "nbformat": 4,
 "nbformat_minor": 2
}
