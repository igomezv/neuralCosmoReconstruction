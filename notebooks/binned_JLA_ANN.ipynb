{
 "cells": [
  {
   "cell_type": "code",
   "execution_count": 1,
   "metadata": {},
   "outputs": [],
   "source": [
    "import numpy as np\n",
    "import tensorflow as tf\n",
    "import pandas as pd\n",
    "from sklearn.preprocessing import StandardScaler, MinMaxScaler\n",
    "from matplotlib import pyplot as plt\n",
    "import seaborn as sns\n",
    "import scipy as sp\n",
    "from tensorflow.keras.models import Model\n",
    "from tensorflow.keras.layers import Input,Conv2D,MaxPooling2D,UpSampling2D, Dense\n",
    "from tensorflow.keras.callbacks import TensorBoard\n",
    "from tensorflow.keras import regularizers\n",
    "from tensorflow.keras import layers"
   ]
  },
  {
   "cell_type": "markdown",
   "metadata": {},
   "source": [
    "### In this notebook, we use a compressed version of JLA compilation\n",
    "#### First, we need to read the data. In this case, we use the covariance matrix of systematic errors "
   ]
  },
  {
   "cell_type": "code",
   "execution_count": 2,
   "metadata": {},
   "outputs": [],
   "source": [
    "syscov = np.loadtxt('/home/isidro/Documents/gitHub/misRepos/neuralCosmoReconstruction/data/cov_jla_binned_distances_31nodes_v1.txt',skiprows=1).reshape((31,31))\n",
    "# syscov = np.loadtxt('data/jla_v0_covmatrix.dat',skiprows=1).reshape((740,740))"
   ]
  },
  {
   "cell_type": "markdown",
   "metadata": {},
   "source": [
    "### Verify that there ar not complex numbers and that the matrix is symmetrical"
   ]
  },
  {
   "cell_type": "code",
   "execution_count": 3,
   "metadata": {},
   "outputs": [
    {
     "data": {
      "text/plain": [
       "0"
      ]
     },
     "execution_count": 3,
     "metadata": {},
     "output_type": "execute_result"
    }
   ],
   "source": [
    "count = 0\n",
    "\n",
    "for i in range(len(syscov)):\n",
    "    for j in range(len(syscov)):\n",
    "        if np.iscomplex(syscov[i,j]):\n",
    "            print(\"COMPLEX\")\n",
    "        if syscov[i,j] != syscov[j,i]:\n",
    "#             print(i,j)\n",
    "#             print(syscov[i,j], syscov[j,i]) \n",
    "            count+=1\n",
    "            syscov[j,i] = syscov[i, j]\n",
    "\n",
    "count"
   ]
  },
  {
   "cell_type": "markdown",
   "metadata": {},
   "source": [
    "### Visualization of the covariance matrix:"
   ]
  },
  {
   "cell_type": "code",
   "execution_count": 4,
   "metadata": {},
   "outputs": [
    {
     "data": {
      "text/plain": [
       "<matplotlib.image.AxesImage at 0x7fd9fad10400>"
      ]
     },
     "execution_count": 4,
     "metadata": {},
     "output_type": "execute_result"
    },
    {
     "data": {
      "image/png": "[encoded data removed]",
      "text/plain": [
       "<Figure size 432x288 with 1 Axes>"
      ]
     },
     "metadata": {
      "needs_background": "light"
     },
     "output_type": "display_data"
    }
   ],
   "source": [
    "plt.imshow(syscov)"
   ]
  },
  {
   "cell_type": "code",
   "execution_count": 5,
   "metadata": {},
   "outputs": [
    {
     "data": {
      "image/png": "[encoded data removed]",
      "text/plain": [
       "<Figure size 432x288 with 2 Axes>"
      ]
     },
     "metadata": {
      "needs_background": "light"
     },
     "output_type": "display_data"
    }
   ],
   "source": [
    "sns.heatmap(pd.DataFrame(syscov), annot=False, fmt='g', xticklabels=False, yticklabels=False, \n",
    "            cmap = 'inferno')\n",
    "plt.savefig(\"original_cov_binned_JLA.png\", dpi=200)"
   ]
  },
  {
   "cell_type": "code",
   "execution_count": 6,
   "metadata": {},
   "outputs": [
    {
     "data": {
      "text/plain": [
       "(1.695011341e-07, 0.02815552265)"
      ]
     },
     "execution_count": 6,
     "metadata": {},
     "output_type": "execute_result"
    }
   ],
   "source": [
    "np.min(np.abs(syscov)), np.max(np.abs(syscov)) #checking non-negatives in the diagonal"
   ]
  },
  {
   "cell_type": "markdown",
   "metadata": {},
   "source": [
    "### Generate a data set with covariance matrix from the original plus gaussian noise"
   ]
  },
  {
   "cell_type": "code",
   "execution_count": 7,
   "metadata": {},
   "outputs": [
    {
     "name": "stdout",
     "output_type": "stream",
     "text": [
      "\r",
      " Generating 1 matrix \r",
      " Generating 2 matrix \r",
      " Generating 3 matrix \r",
      " Generating 4 matrix \r",
      " Generating 5 matrix \r",
      " Generating 6 matrix \r",
      " Generating 7 matrix \r",
      " Generating 8 matrix \r",
      " Generating 9 matrix \r",
      " Generating 10 matrix \r",
      " Generating 11 matrix \r",
      " Generating 12 matrix \r",
      " Generating 13 matrix \r",
      " Generating 14 matrix \r",
      " Generating 15 matrix \r",
      " Generating 16 matrix \r",
      " Generating 17 matrix \r",
      " Generating 18 matrix \r",
      " Generating 19 matrix \r",
      " Generating 20 matrix \r",
      " Generating 21 matrix \r",
      " Generating 22 matrix \r",
      " Generating 23 matrix \r",
      " Generating 24 matrix \r",
      " Generating 25 matrix \r",
      " Generating 26 matrix \r",
      " Generating 27 matrix \r",
      " Generating 28 matrix \r",
      " Generating 29 matrix \r",
      " Generating 30 matrix \r",
      " Generating 31 matrix \r",
      " Generating 32 matrix \r",
      " Generating 33 matrix \r",
      " Generating 34 matrix \r",
      " Generating 35 matrix \r",
      " Generating 36 matrix \r",
      " Generating 37 matrix \r",
      " Generating 38 matrix \r",
      " Generating 39 matrix \r",
      " Generating 40 matrix \r",
      " Generating 41 matrix \r",
      " Generating 42 matrix \r",
      " Generating 43 matrix \r",
      " Generating 44 matrix \r",
      " Generating 45 matrix \r",
      " Generating 46 matrix \r",
      " Generating 47 matrix \r",
      " Generating 48 matrix \r",
      " Generating 49 matrix \r",
      " Generating 50 matrix \r",
      " Generating 51 matrix \r",
      " Generating 52 matrix \r",
      " Generating 53 matrix \r",
      " Generating 54 matrix \r",
      " Generating 55 matrix \r",
      " Generating 56 matrix \r",
      " Generating 57 matrix \r",
      " Generating 58 matrix \r",
      " Generating 59 matrix \r",
      " Generating 60 matrix \r",
      " Generating 61 matrix \r",
      " Generating 62 matrix \r",
      " Generating 63 matrix \r",
      " Generating 64 matrix \r",
      " Generating 65 matrix \r",
      " Generating 66 matrix \r",
      " Generating 67 matrix \r",
      " Generating 68 matrix \r",
      " Generating 69 matrix \r",
      " Generating 70 matrix \r",
      " Generating 71 matrix \r",
      " Generating 72 matrix \r",
      " Generating 73 matrix \r",
      " Generating 74 matrix \r",
      " Generating 75 matrix \r",
      " Generating 76 matrix \r",
      " Generating 77 matrix \r",
      " Generating 78 matrix \r",
      " Generating 79 matrix \r",
      " Generating 80 matrix \r",
      " Generating 81 matrix \r",
      " Generating 82 matrix \r",
      " Generating 83 matrix \r",
      " Generating 84 matrix \r",
      " Generating 85 matrix \r",
      " Generating 86 matrix \r",
      " Generating 87 matrix \r",
      " Generating 88 matrix \r",
      " Generating 89 matrix \r",
      " Generating 90 matrix \r",
      " Generating 91 matrix \r",
      " Generating 92 matrix \r",
      " Generating 93 matrix \r",
      " Generating 94 matrix \r",
      " Generating 95 matrix \r",
      " Generating 96 matrix \r",
      " Generating 97 matrix \r",
      " Generating 98 matrix \r",
      " Generating 99 matrix \r",
      " Generating 100 matrix \r",
      " Generating 101 matrix \r",
      " Generating 102 matrix \r",
      " Generating 103 matrix \r",
      " Generating 104 matrix \r",
      " Generating 105 matrix \r",
      " Generating 106 matrix \r",
      " Generating 107 matrix \r",
      " Generating 108 matrix \r",
      " Generating 109 matrix \r",
      " Generating 110 matrix \r",
      " Generating 111 matrix \r",
      " Generating 112 matrix \r",
      " Generating 113 matrix \r",
      " Generating 114 matrix \r",
      " Generating 115 matrix \r",
      " Generating 116 matrix \r",
      " Generating 117 matrix \r",
      " Generating 118 matrix \r",
      " Generating 119 matrix \r",
      " Generating 120 matrix \r",
      " Generating 121 matrix \r",
      " Generating 122 matrix \r",
      " Generating 123 matrix \r",
      " Generating 124 matrix \r",
      " Generating 125 matrix \r",
      " Generating 126 matrix \r",
      " Generating 127 matrix \r",
      " Generating 128 matrix \r",
      " Generating 129 matrix \r",
      " Generating 130 matrix \r",
      " Generating 131 matrix \r",
      " Generating 132 matrix \r",
      " Generating 133 matrix \r",
      " Generating 134 matrix \r",
      " Generating 135 matrix \r",
      " Generating 136 matrix \r",
      " Generating 137 matrix \r",
      " Generating 138 matrix \r",
      " Generating 139 matrix \r",
      " Generating 140 matrix \r",
      " Generating 141 matrix \r",
      " Generating 142 matrix \r",
      " Generating 143 matrix \r",
      " Generating 144 matrix \r",
      " Generating 145 matrix \r",
      " Generating 146 matrix \r",
      " Generating 147 matrix \r",
      " Generating 148 matrix \r",
      " Generating 149 matrix \r",
      " Generating 150 matrix \r",
      " Generating 151 matrix \r",
      " Generating 152 matrix \r",
      " Generating 153 matrix \r",
      " Generating 154 matrix \r",
      " Generating 155 matrix \r",
      " Generating 156 matrix \r",
      " Generating 157 matrix \r",
      " Generating 158 matrix \r",
      " Generating 159 matrix \r",
      " Generating 160 matrix \r",
      " Generating 161 matrix \r",
      " Generating 162 matrix \r",
      " Generating 163 matrix \r",
      " Generating 164 matrix \r",
      " Generating 165 matrix \r",
      " Generating 166 matrix \r",
      " Generating 167 matrix \r",
      " Generating 168 matrix \r",
      " Generating 169 matrix \r",
      " Generating 170 matrix \r",
      " Generating 171 matrix \r",
      " Generating 172 matrix \r",
      " Generating 173 matrix \r",
      " Generating 174 matrix \r",
      " Generating 175 matrix \r",
      " Generating 176 matrix \r",
      " Generating 177 matrix \r",
      " Generating 178 matrix \r",
      " Generating 179 matrix \r",
      " Generating 180 matrix \r",
      " Generating 181 matrix \r",
      " Generating 182 matrix \r",
      " Generating 183 matrix \r",
      " Generating 184 matrix \r",
      " Generating 185 matrix \r",
      " Generating 186 matrix \r",
      " Generating 187 matrix \r",
      " Generating 188 matrix \r",
      " Generating 189 matrix \r",
      " Generating 190 matrix \r",
      " Generating 191 matrix \r",
      " Generating 192 matrix \r",
      " Generating 193 matrix \r",
      " Generating 194 matrix \r",
      " Generating 195 matrix \r",
      " Generating 196 matrix \r",
      " Generating 197 matrix \r",
      " Generating 198 matrix \r",
      " Generating 199 matrix \r",
      " Generating 200 matrix \r",
      " Generating 201 matrix \r",
      " Generating 202 matrix \r",
      " Generating 203 matrix \r",
      " Generating 204 matrix \r",
      " Generating 205 matrix \r",
      " Generating 206 matrix \r",
      " Generating 207 matrix \r",
      " Generating 208 matrix \r",
      " Generating 209 matrix \r",
      " Generating 210 matrix \r",
      " Generating 211 matrix \r",
      " Generating 212 matrix \r",
      " Generating 213 matrix \r",
      " Generating 214 matrix \r",
      " Generating 215 matrix \r",
      " Generating 216 matrix \r",
      " Generating 217 matrix \r",
      " Generating 218 matrix \r",
      " Generating 219 matrix \r",
      " Generating 220 matrix \r",
      " Generating 221 matrix \r",
      " Generating 222 matrix \r",
      " Generating 223 matrix \r",
      " Generating 224 matrix \r",
      " Generating 225 matrix \r",
      " Generating 226 matrix \r",
      " Generating 227 matrix \r",
      " Generating 228 matrix \r",
      " Generating 229 matrix \r",
      " Generating 230 matrix \r",
      " Generating 231 matrix \r",
      " Generating 232 matrix \r",
      " Generating 233 matrix \r",
      " Generating 234 matrix \r",
      " Generating 235 matrix \r",
      " Generating 236 matrix \r",
      " Generating 237 matrix \r",
      " Generating 238 matrix \r",
      " Generating 239 matrix \r",
      " Generating 240 matrix \r",
      " Generating 241 matrix \r",
      " Generating 242 matrix \r",
      " Generating 243 matrix \r",
      " Generating 244 matrix \r",
      " Generating 245 matrix \r",
      " Generating 246 matrix \r",
      " Generating 247 matrix \r",
      " Generating 248 matrix \r",
      " Generating 249 matrix \r",
      " Generating 250 matrix \r",
      " Generating 251 matrix \r",
      " Generating 252 matrix \r",
      " Generating 253 matrix \r",
      " Generating 254 matrix \r",
      " Generating 255 matrix \r",
      " Generating 256 matrix \r",
      " Generating 257 matrix \r",
      " Generating 258 matrix \r",
      " Generating 259 matrix \r",
      " Generating 260 matrix \r",
      " Generating 261 matrix \r",
      " Generating 262 matrix \r",
      " Generating 263 matrix \r",
      " Generating 264 matrix \r",
      " Generating 265 matrix \r",
      " Generating 266 matrix \r",
      " Generating 267 matrix \r",
      " Generating 268 matrix \r",
      " Generating 269 matrix \r",
      " Generating 270 matrix \r",
      " Generating 271 matrix \r",
      " Generating 272 matrix \r",
      " Generating 273 matrix \r",
      " Generating 274 matrix \r",
      " Generating 275 matrix \r",
      " Generating 276 matrix \r",
      " Generating 277 matrix \r",
      " Generating 278 matrix \r",
      " Generating 279 matrix \r",
      " Generating 280 matrix \r",
      " Generating 281 matrix \r",
      " Generating 282 matrix \r",
      " Generating 283 matrix \r",
      " Generating 284 matrix \r",
      " Generating 285 matrix \r",
      " Generating 286 matrix \r",
      " Generating 287 matrix \r",
      " Generating 288 matrix \r",
      " Generating 289 matrix \r",
      " Generating 290 matrix \r",
      " Generating 291 matrix \r",
      " Generating 292 matrix \r",
      " Generating 293 matrix \r",
      " Generating 294 matrix \r",
      " Generating 295 matrix \r",
      " Generating 296 matrix \r",
      " Generating 297 matrix \r",
      " Generating 298 matrix \r",
      " Generating 299 matrix \r",
      " Generating 300 matrix \r",
      " Generating 301 matrix \r",
      " Generating 302 matrix \r",
      " Generating 303 matrix \r",
      " Generating 304 matrix \r",
      " Generating 305 matrix \r",
      " Generating 306 matrix \r",
      " Generating 307 matrix \r",
      " Generating 308 matrix \r",
      " Generating 309 matrix \r",
      " Generating 310 matrix \r",
      " Generating 311 matrix \r",
      " Generating 312 matrix \r",
      " Generating 313 matrix \r",
      " Generating 314 matrix \r",
      " Generating 315 matrix \r",
      " Generating 316 matrix \r",
      " Generating 317 matrix \r",
      " Generating 318 matrix \r",
      " Generating 319 matrix \r",
      " Generating 320 matrix \r",
      " Generating 321 matrix \r",
      " Generating 322 matrix \r",
      " Generating 323 matrix \r",
      " Generating 324 matrix \r",
      " Generating 325 matrix \r",
      " Generating 326 matrix \r",
      " Generating 327 matrix \r",
      " Generating 328 matrix \r",
      " Generating 329 matrix \r",
      " Generating 330 matrix \r",
      " Generating 331 matrix \r",
      " Generating 332 matrix \r",
      " Generating 333 matrix \r",
      " Generating 334 matrix \r",
      " Generating 335 matrix \r",
      " Generating 336 matrix \r",
      " Generating 337 matrix \r",
      " Generating 338 matrix \r",
      " Generating 339 matrix \r",
      " Generating 340 matrix \r",
      " Generating 341 matrix \r",
      " Generating 342 matrix \r",
      " Generating 343 matrix \r",
      " Generating 344 matrix \r",
      " Generating 345 matrix \r",
      " Generating 346 matrix \r",
      " Generating 347 matrix \r",
      " Generating 348 matrix \r",
      " Generating 349 matrix \r",
      " Generating 350 matrix \r",
      " Generating 351 matrix \r",
      " Generating 352 matrix \r",
      " Generating 353 matrix \r",
      " Generating 354 matrix \r",
      " Generating 355 matrix \r",
      " Generating 356 matrix \r",
      " Generating 357 matrix \r",
      " Generating 358 matrix \r",
      " Generating 359 matrix \r",
      " Generating 360 matrix \r",
      " Generating 361 matrix \r",
      " Generating 362 matrix \r",
      " Generating 363 matrix \r",
      " Generating 364 matrix \r",
      " Generating 365 matrix \r",
      " Generating 366 matrix \r",
      " Generating 367 matrix \r",
      " Generating 368 matrix \r",
      " Generating 369 matrix \r",
      " Generating 370 matrix \r",
      " Generating 371 matrix \r",
      " Generating 372 matrix \r",
      " Generating 373 matrix \r",
      " Generating 374 matrix \r",
      " Generating 375 matrix \r",
      " Generating 376 matrix \r",
      " Generating 377 matrix \r",
      " Generating 378 matrix \r",
      " Generating 379 matrix \r",
      " Generating 380 matrix \r",
      " Generating 381 matrix \r",
      " Generating 382 matrix \r",
      " Generating 383 matrix \r",
      " Generating 384 matrix \r",
      " Generating 385 matrix \r",
      " Generating 386 matrix \r",
      " Generating 387 matrix \r",
      " Generating 388 matrix \r",
      " Generating 389 matrix \r",
      " Generating 390 matrix \r",
      " Generating 391 matrix \r",
      " Generating 392 matrix \r",
      " Generating 393 matrix \r",
      " Generating 394 matrix \r",
      " Generating 395 matrix \r",
      " Generating 396 matrix \r",
      " Generating 397 matrix \r",
      " Generating 398 matrix \r",
      " Generating 399 matrix \r",
      " Generating 400 matrix \r",
      " Generating 401 matrix \r",
      " Generating 402 matrix \r",
      " Generating 403 matrix \r",
      " Generating 404 matrix \r",
      " Generating 405 matrix \r",
      " Generating 406 matrix \r",
      " Generating 407 matrix \r",
      " Generating 408 matrix \r",
      " Generating 409 matrix \r",
      " Generating 410 matrix \r",
      " Generating 411 matrix \r",
      " Generating 412 matrix \r",
      " Generating 413 matrix \r",
      " Generating 414 matrix \r",
      " Generating 415 matrix \r",
      " Generating 416 matrix \r",
      " Generating 417 matrix \r",
      " Generating 418 matrix \r",
      " Generating 419 matrix \r",
      " Generating 420 matrix \r",
      " Generating 421 matrix \r",
      " Generating 422 matrix \r",
      " Generating 423 matrix \r",
      " Generating 424 matrix \r",
      " Generating 425 matrix \r",
      " Generating 426 matrix \r",
      " Generating 427 matrix \r",
      " Generating 428 matrix \r",
      " Generating 429 matrix \r",
      " Generating 430 matrix \r",
      " Generating 431 matrix \r",
      " Generating 432 matrix \r",
      " Generating 433 matrix \r",
      " Generating 434 matrix \r",
      " Generating 435 matrix \r",
      " Generating 436 matrix \r",
      " Generating 437 matrix \r",
      " Generating 438 matrix \r",
      " Generating 439 matrix \r",
      " Generating 440 matrix \r",
      " Generating 441 matrix \r",
      " Generating 442 matrix \r",
      " Generating 443 matrix \r",
      " Generating 444 matrix \r",
      " Generating 445 matrix \r",
      " Generating 446 matrix \r",
      " Generating 447 matrix \r",
      " Generating 448 matrix \r",
      " Generating 449 matrix \r",
      " Generating 450 matrix \r",
      " Generating 451 matrix \r",
      " Generating 452 matrix \r",
      " Generating 453 matrix \r",
      " Generating 454 matrix \r",
      " Generating 455 matrix \r",
      " Generating 456 matrix \r",
      " Generating 457 matrix \r",
      " Generating 458 matrix \r",
      " Generating 459 matrix \r",
      " Generating 460 matrix \r",
      " Generating 461 matrix \r",
      " Generating 462 matrix \r",
      " Generating 463 matrix \r",
      " Generating 464 matrix \r",
      " Generating 465 matrix \r",
      " Generating 466 matrix \r",
      " Generating 467 matrix \r",
      " Generating 468 matrix \r",
      " Generating 469 matrix \r",
      " Generating 470 matrix \r",
      " Generating 471 matrix \r",
      " Generating 472 matrix \r",
      " Generating 473 matrix \r",
      " Generating 474 matrix \r",
      " Generating 475 matrix \r",
      " Generating 476 matrix \r",
      " Generating 477 matrix \r",
      " Generating 478 matrix \r",
      " Generating 479 matrix \r",
      " Generating 480 matrix \r",
      " Generating 481 matrix \r",
      " Generating 482 matrix \r",
      " Generating 483 matrix \r",
      " Generating 484 matrix \r",
      " Generating 485 matrix \r",
      " Generating 486 matrix \r",
      " Generating 487 matrix \r",
      " Generating 488 matrix \r",
      " Generating 489 matrix \r",
      " Generating 490 matrix \r",
      " Generating 491 matrix \r",
      " Generating 492 matrix \r",
      " Generating 493 matrix \r",
      " Generating 494 matrix \r",
      " Generating 495 matrix \r",
      " Generating 496 matrix \r",
      " Generating 497 matrix \r",
      " Generating 498 matrix \r",
      " Generating 499 matrix \r",
      " Generating 500 matrix \r",
      " Generating 501 matrix \r",
      " Generating 502 matrix \r",
      " Generating 503 matrix \r",
      " Generating 504 matrix \r",
      " Generating 505 matrix \r",
      " Generating 506 matrix \r",
      " Generating 507 matrix \r",
      " Generating 508 matrix \r",
      " Generating 509 matrix \r",
      " Generating 510 matrix \r",
      " Generating 511 matrix \r",
      " Generating 512 matrix \r",
      " Generating 513 matrix \r",
      " Generating 514 matrix \r",
      " Generating 515 matrix \r",
      " Generating 516 matrix \r",
      " Generating 517 matrix \r",
      " Generating 518 matrix \r",
      " Generating 519 matrix \r",
      " Generating 520 matrix \r",
      " Generating 521 matrix \r",
      " Generating 522 matrix \r",
      " Generating 523 matrix \r",
      " Generating 524 matrix \r",
      " Generating 525 matrix \r",
      " Generating 526 matrix \r",
      " Generating 527 matrix \r",
      " Generating 528 matrix \r",
      " Generating 529 matrix \r",
      " Generating 530 matrix \r",
      " Generating 531 matrix \r",
      " Generating 532 matrix \r",
      " Generating 533 matrix \r",
      " Generating 534 matrix \r",
      " Generating 535 matrix \r",
      " Generating 536 matrix \r",
      " Generating 537 matrix \r",
      " Generating 538 matrix \r",
      " Generating 539 matrix \r",
      " Generating 540 matrix \r",
      " Generating 541 matrix \r",
      " Generating 542 matrix \r",
      " Generating 543 matrix \r",
      " Generating 544 matrix \r",
      " Generating 545 matrix \r",
      " Generating 546 matrix \r",
      " Generating 547 matrix \r",
      " Generating 548 matrix \r",
      " Generating 549 matrix \r",
      " Generating 550 matrix \r",
      " Generating 551 matrix \r",
      " Generating 552 matrix \r",
      " Generating 553 matrix \r",
      " Generating 554 matrix \r",
      " Generating 555 matrix \r",
      " Generating 556 matrix \r",
      " Generating 557 matrix \r",
      " Generating 558 matrix \r",
      " Generating 559 matrix \r",
      " Generating 560 matrix \r",
      " Generating 561 matrix \r",
      " Generating 562 matrix \r",
      " Generating 563 matrix \r",
      " Generating 564 matrix \r",
      " Generating 565 matrix \r",
      " Generating 566 matrix \r",
      " Generating 567 matrix \r",
      " Generating 568 matrix \r",
      " Generating 569 matrix \r",
      " Generating 570 matrix \r",
      " Generating 571 matrix \r",
      " Generating 572 matrix \r",
      " Generating 573 matrix \r",
      " Generating 574 matrix \r",
      " Generating 575 matrix \r",
      " Generating 576 matrix \r",
      " Generating 577 matrix \r",
      " Generating 578 matrix \r",
      " Generating 579 matrix \r",
      " Generating 580 matrix \r",
      " Generating 581 matrix \r",
      " Generating 582 matrix \r",
      " Generating 583 matrix \r",
      " Generating 584 matrix \r",
      " Generating 585 matrix \r",
      " Generating 586 matrix \r",
      " Generating 587 matrix \r",
      " Generating 588 matrix \r",
      " Generating 589 matrix \r",
      " Generating 590 matrix \r",
      " Generating 591 matrix \r",
      " Generating 592 matrix \r",
      " Generating 593 matrix \r",
      " Generating 594 matrix \r",
      " Generating 595 matrix \r",
      " Generating 596 matrix \r",
      " Generating 597 matrix \r",
      " Generating 598 matrix \r",
      " Generating 599 matrix \r",
      " Generating 600 matrix \r",
      " Generating 601 matrix \r",
      " Generating 602 matrix \r",
      " Generating 603 matrix \r",
      " Generating 604 matrix \r",
      " Generating 605 matrix \r",
      " Generating 606 matrix \r",
      " Generating 607 matrix \r",
      " Generating 608 matrix \r",
      " Generating 609 matrix \r",
      " Generating 610 matrix \r",
      " Generating 611 matrix \r",
      " Generating 612 matrix \r",
      " Generating 613 matrix \r",
      " Generating 614 matrix \r",
      " Generating 615 matrix \r",
      " Generating 616 matrix \r",
      " Generating 617 matrix \r",
      " Generating 618 matrix \r",
      " Generating 619 matrix \r",
      " Generating 620 matrix \r",
      " Generating 621 matrix \r",
      " Generating 622 matrix \r",
      " Generating 623 matrix \r",
      " Generating 624 matrix \r",
      " Generating 625 matrix \r",
      " Generating 626 matrix \r",
      " Generating 627 matrix \r",
      " Generating 628 matrix \r",
      " Generating 629 matrix \r",
      " Generating 630 matrix \r",
      " Generating 631 matrix \r",
      " Generating 632 matrix \r",
      " Generating 633 matrix \r",
      " Generating 634 matrix \r",
      " Generating 635 matrix \r",
      " Generating 636 matrix \r",
      " Generating 637 matrix \r",
      " Generating 638 matrix \r",
      " Generating 639 matrix \r",
      " Generating 640 matrix \r",
      " Generating 641 matrix \r",
      " Generating 642 matrix \r",
      " Generating 643 matrix \r",
      " Generating 644 matrix \r",
      " Generating 645 matrix \r",
      " Generating 646 matrix \r",
      " Generating 647 matrix \r",
      " Generating 648 matrix \r",
      " Generating 649 matrix \r",
      " Generating 650 matrix \r",
      " Generating 651 matrix \r",
      " Generating 652 matrix \r",
      " Generating 653 matrix \r",
      " Generating 654 matrix \r",
      " Generating 655 matrix \r",
      " Generating 656 matrix \r",
      " Generating 657 matrix \r",
      " Generating 658 matrix \r",
      " Generating 659 matrix \r",
      " Generating 660 matrix \r",
      " Generating 661 matrix \r",
      " Generating 662 matrix \r",
      " Generating 663 matrix \r",
      " Generating 664 matrix \r",
      " Generating 665 matrix \r",
      " Generating 666 matrix \r",
      " Generating 667 matrix \r",
      " Generating 668 matrix \r",
      " Generating 669 matrix \r",
      " Generating 670 matrix \r",
      " Generating 671 matrix \r",
      " Generating 672 matrix \r",
      " Generating 673 matrix \r",
      " Generating 674 matrix \r",
      " Generating 675 matrix \r",
      " Generating 676 matrix \r",
      " Generating 677 matrix \r",
      " Generating 678 matrix \r",
      " Generating 679 matrix \r",
      " Generating 680 matrix \r",
      " Generating 681 matrix \r",
      " Generating 682 matrix \r",
      " Generating 683 matrix \r",
      " Generating 684 matrix \r",
      " Generating 685 matrix \r",
      " Generating 686 matrix \r",
      " Generating 687 matrix \r",
      " Generating 688 matrix \r",
      " Generating 689 matrix \r",
      " Generating 690 matrix \r",
      " Generating 691 matrix \r",
      " Generating 692 matrix \r",
      " Generating 693 matrix \r",
      " Generating 694 matrix \r",
      " Generating 695 matrix \r",
      " Generating 696 matrix \r",
      " Generating 697 matrix \r",
      " Generating 698 matrix \r",
      " Generating 699 matrix \r",
      " Generating 700 matrix \r",
      " Generating 701 matrix \r",
      " Generating 702 matrix \r",
      " Generating 703 matrix \r",
      " Generating 704 matrix \r",
      " Generating 705 matrix \r",
      " Generating 706 matrix \r",
      " Generating 707 matrix \r",
      " Generating 708 matrix \r",
      " Generating 709 matrix \r",
      " Generating 710 matrix \r",
      " Generating 711 matrix \r",
      " Generating 712 matrix \r",
      " Generating 713 matrix \r",
      " Generating 714 matrix \r",
      " Generating 715 matrix \r",
      " Generating 716 matrix \r",
      " Generating 717 matrix \r",
      " Generating 718 matrix \r",
      " Generating 719 matrix \r",
      " Generating 720 matrix \r",
      " Generating 721 matrix \r",
      " Generating 722 matrix \r",
      " Generating 723 matrix \r",
      " Generating 724 matrix \r",
      " Generating 725 matrix \r",
      " Generating 726 matrix \r",
      " Generating 727 matrix \r",
      " Generating 728 matrix \r",
      " Generating 729 matrix \r",
      " Generating 730 matrix \r",
      " Generating 731 matrix \r",
      " Generating 732 matrix \r",
      " Generating 733 matrix \r",
      " Generating 734 matrix \r",
      " Generating 735 matrix \r",
      " Generating 736 matrix \r",
      " Generating 737 matrix \r",
      " Generating 738 matrix \r",
      " Generating 739 matrix \r",
      " Generating 740 matrix \r",
      " Generating 741 matrix \r",
      " Generating 742 matrix \r",
      " Generating 743 matrix \r",
      " Generating 744 matrix \r",
      " Generating 745 matrix \r",
      " Generating 746 matrix \r",
      " Generating 747 matrix \r",
      " Generating 748 matrix \r",
      " Generating 749 matrix \r",
      " Generating 750 matrix \r",
      " Generating 751 matrix \r",
      " Generating 752 matrix \r",
      " Generating 753 matrix \r",
      " Generating 754 matrix \r",
      " Generating 755 matrix \r",
      " Generating 756 matrix \r",
      " Generating 757 matrix \r",
      " Generating 758 matrix \r",
      " Generating 759 matrix \r",
      " Generating 760 matrix \r",
      " Generating 761 matrix \r",
      " Generating 762 matrix \r",
      " Generating 763 matrix \r",
      " Generating 764 matrix \r",
      " Generating 765 matrix \r",
      " Generating 766 matrix \r",
      " Generating 767 matrix \r",
      " Generating 768 matrix \r",
      " Generating 769 matrix \r",
      " Generating 770 matrix \r",
      " Generating 771 matrix \r",
      " Generating 772 matrix \r",
      " Generating 773 matrix \r",
      " Generating 774 matrix \r",
      " Generating 775 matrix \r",
      " Generating 776 matrix \r",
      " Generating 777 matrix \r",
      " Generating 778 matrix \r",
      " Generating 779 matrix \r",
      " Generating 780 matrix \r",
      " Generating 781 matrix \r",
      " Generating 782 matrix \r",
      " Generating 783 matrix \r",
      " Generating 784 matrix \r",
      " Generating 785 matrix \r",
      " Generating 786 matrix \r",
      " Generating 787 matrix \r",
      " Generating 788 matrix \r",
      " Generating 789 matrix \r",
      " Generating 790 matrix \r",
      " Generating 791 matrix \r",
      " Generating 792 matrix \r",
      " Generating 793 matrix \r",
      " Generating 794 matrix \r",
      " Generating 795 matrix \r",
      " Generating 796 matrix \r",
      " Generating 797 matrix \r",
      " Generating 798 matrix \r",
      " Generating 799 matrix \r",
      " Generating 800 matrix \r",
      " Generating 801 matrix \r",
      " Generating 802 matrix \r",
      " Generating 803 matrix \r",
      " Generating 804 matrix \r",
      " Generating 805 matrix \r",
      " Generating 806 matrix \r",
      " Generating 807 matrix \r",
      " Generating 808 matrix \r",
      " Generating 809 matrix \r",
      " Generating 810 matrix \r",
      " Generating 811 matrix \r",
      " Generating 812 matrix \r",
      " Generating 813 matrix \r",
      " Generating 814 matrix \r",
      " Generating 815 matrix \r",
      " Generating 816 matrix \r",
      " Generating 817 matrix \r",
      " Generating 818 matrix \r",
      " Generating 819 matrix \r",
      " Generating 820 matrix \r",
      " Generating 821 matrix \r",
      " Generating 822 matrix \r",
      " Generating 823 matrix \r",
      " Generating 824 matrix \r",
      " Generating 825 matrix \r",
      " Generating 826 matrix \r",
      " Generating 827 matrix \r",
      " Generating 828 matrix \r",
      " Generating 829 matrix \r",
      " Generating 830 matrix \r",
      " Generating 831 matrix \r",
      " Generating 832 matrix \r",
      " Generating 833 matrix \r",
      " Generating 834 matrix \r",
      " Generating 835 matrix \r",
      " Generating 836 matrix \r",
      " Generating 837 matrix \r",
      " Generating 838 matrix \r",
      " Generating 839 matrix \r",
      " Generating 840 matrix \r",
      " Generating 841 matrix \r",
      " Generating 842 matrix \r",
      " Generating 843 matrix \r",
      " Generating 844 matrix \r",
      " Generating 845 matrix \r",
      " Generating 846 matrix \r",
      " Generating 847 matrix \r",
      " Generating 848 matrix \r",
      " Generating 849 matrix \r",
      " Generating 850 matrix \r",
      " Generating 851 matrix \r",
      " Generating 852 matrix \r",
      " Generating 853 matrix \r",
      " Generating 854 matrix \r",
      " Generating 855 matrix \r",
      " Generating 856 matrix \r",
      " Generating 857 matrix \r",
      " Generating 858 matrix \r",
      " Generating 859 matrix \r",
      " Generating 860 matrix \r",
      " Generating 861 matrix \r",
      " Generating 862 matrix \r",
      " Generating 863 matrix \r",
      " Generating 864 matrix \r",
      " Generating 865 matrix \r",
      " Generating 866 matrix \r",
      " Generating 867 matrix \r",
      " Generating 868 matrix \r",
      " Generating 869 matrix \r",
      " Generating 870 matrix \r",
      " Generating 871 matrix \r",
      " Generating 872 matrix \r",
      " Generating 873 matrix \r",
      " Generating 874 matrix \r",
      " Generating 875 matrix \r",
      " Generating 876 matrix \r",
      " Generating 877 matrix \r",
      " Generating 878 matrix \r",
      " Generating 879 matrix \r",
      " Generating 880 matrix \r",
      " Generating 881 matrix \r",
      " Generating 882 matrix \r",
      " Generating 883 matrix \r",
      " Generating 884 matrix \r",
      " Generating 885 matrix \r",
      " Generating 886 matrix \r",
      " Generating 887 matrix \r",
      " Generating 888 matrix \r",
      " Generating 889 matrix \r",
      " Generating 890 matrix \r",
      " Generating 891 matrix \r",
      " Generating 892 matrix \r",
      " Generating 893 matrix \r",
      " Generating 894 matrix \r",
      " Generating 895 matrix \r",
      " Generating 896 matrix \r",
      " Generating 897 matrix \r",
      " Generating 898 matrix \r",
      " Generating 899 matrix \r",
      " Generating 900 matrix \r",
      " Generating 901 matrix \r",
      " Generating 902 matrix \r",
      " Generating 903 matrix \r",
      " Generating 904 matrix \r",
      " Generating 905 matrix \r",
      " Generating 906 matrix \r",
      " Generating 907 matrix \r",
      " Generating 908 matrix \r",
      " Generating 909 matrix \r",
      " Generating 910 matrix \r",
      " Generating 911 matrix \r",
      " Generating 912 matrix \r",
      " Generating 913 matrix \r",
      " Generating 914 matrix \r",
      " Generating 915 matrix \r",
      " Generating 916 matrix \r",
      " Generating 917 matrix \r",
      " Generating 918 matrix \r",
      " Generating 919 matrix \r",
      " Generating 920 matrix \r",
      " Generating 921 matrix \r",
      " Generating 922 matrix \r",
      " Generating 923 matrix \r",
      " Generating 924 matrix \r",
      " Generating 925 matrix \r",
      " Generating 926 matrix \r",
      " Generating 927 matrix \r",
      " Generating 928 matrix \r",
      " Generating 929 matrix \r",
      " Generating 930 matrix \r",
      " Generating 931 matrix \r",
      " Generating 932 matrix \r",
      " Generating 933 matrix \r",
      " Generating 934 matrix \r",
      " Generating 935 matrix \r",
      " Generating 936 matrix \r",
      " Generating 937 matrix \r",
      " Generating 938 matrix \r",
      " Generating 939 matrix \r",
      " Generating 940 matrix \r",
      " Generating 941 matrix \r",
      " Generating 942 matrix \r",
      " Generating 943 matrix \r",
      " Generating 944 matrix \r",
      " Generating 945 matrix \r",
      " Generating 946 matrix \r",
      " Generating 947 matrix \r",
      " Generating 948 matrix \r",
      " Generating 949 matrix \r",
      " Generating 950 matrix \r",
      " Generating 951 matrix \r",
      " Generating 952 matrix \r",
      " Generating 953 matrix \r",
      " Generating 954 matrix \r",
      " Generating 955 matrix \r",
      " Generating 956 matrix \r",
      " Generating 957 matrix \r",
      " Generating 958 matrix \r",
      " Generating 959 matrix \r",
      " Generating 960 matrix \r",
      " Generating 961 matrix \r",
      " Generating 962 matrix \r",
      " Generating 963 matrix \r",
      " Generating 964 matrix \r",
      " Generating 965 matrix \r",
      " Generating 966 matrix \r",
      " Generating 967 matrix \r",
      " Generating 968 matrix \r",
      " Generating 969 matrix \r",
      " Generating 970 matrix \r",
      " Generating 971 matrix \r",
      " Generating 972 matrix \r",
      " Generating 973 matrix \r",
      " Generating 974 matrix \r",
      " Generating 975 matrix \r",
      " Generating 976 matrix \r",
      " Generating 977 matrix \r",
      " Generating 978 matrix \r",
      " Generating 979 matrix \r",
      " Generating 980 matrix \r",
      " Generating 981 matrix \r",
      " Generating 982 matrix \r",
      " Generating 983 matrix \r",
      " Generating 984 matrix \r",
      " Generating 985 matrix \r",
      " Generating 986 matrix \r",
      " Generating 987 matrix \r",
      " Generating 988 matrix \r",
      " Generating 989 matrix \r",
      " Generating 990 matrix \r",
      " Generating 991 matrix \r",
      " Generating 992 matrix \r",
      " Generating 993 matrix \r",
      " Generating 994 matrix \r",
      " Generating 995 matrix \r",
      " Generating 996 matrix \r",
      " Generating 997 matrix \r",
      " Generating 998 matrix \r",
      " Generating 999 matrix \r",
      " Generating 1000 matrix "
     ]
    }
   ],
   "source": [
    "numMatrix = 1000\n",
    "covset = np.zeros((numMatrix, 31, 31))\n",
    "covset_noise = np.zeros((numMatrix, 31, 31))\n",
    "\n",
    "for i in range(numMatrix): \n",
    "    print(\"\\r Generating {} matrix\".format(i+1), end=\" \")\n",
    "    err = np.random.normal() \n",
    "#     val, vec = np.linalg.eigh(syscov)\n",
    "#     D = np.diag(val)    \n",
    "#     covset[i] = (vec+0.0001*err) @ (D) @ (vec+0.0001*err).T\n",
    "    err = np.random.normal(size=syscov.shape) \n",
    "    covset[i] = syscov + 0.001 * err\n",
    "    covset_noise[i] = syscov + 0.05 * err\n",
    "#     covset_noise[i] = syscov + 0.001*err"
   ]
  },
  {
   "cell_type": "code",
   "execution_count": 8,
   "metadata": {},
   "outputs": [
    {
     "data": {
      "text/plain": [
       "<matplotlib.axes._subplots.AxesSubplot at 0x7fd9fadb0438>"
      ]
     },
     "execution_count": 8,
     "metadata": {},
     "output_type": "execute_result"
    },
    {
     "data": {
      "image/png": "[encoded data removed]",
      "text/plain": [
       "<Figure size 432x288 with 2 Axes>"
      ]
     },
     "metadata": {
      "needs_background": "light"
     },
     "output_type": "display_data"
    }
   ],
   "source": [
    "val, vec = np.linalg.eigh(syscov)\n",
    "D = np.diag(val)\n",
    "new = (vec+0.1) @ (D) @ (vec+0.1).T\n",
    "sns.heatmap(pd.DataFrame(syscov), \n",
    "        fmt='g', xticklabels=False, yticklabels=False, \n",
    "        cmap = 'inferno', cbar=True,\n",
    "        robust=False)"
   ]
  },
  {
   "cell_type": "code",
   "execution_count": 9,
   "metadata": {},
   "outputs": [
    {
     "data": {
      "text/plain": [
       "<matplotlib.axes._subplots.AxesSubplot at 0x7fd9fa7f2358>"
      ]
     },
     "execution_count": 9,
     "metadata": {},
     "output_type": "execute_result"
    },
    {
     "data": {
      "image/png": "[encoded data removed]",
      "text/plain": [
       "<Figure size 432x288 with 2 Axes>"
      ]
     },
     "metadata": {
      "needs_background": "light"
     },
     "output_type": "display_data"
    }
   ],
   "source": [
    "sns.heatmap(pd.DataFrame(covset[10]), \n",
    "        fmt='g', xticklabels=False, yticklabels=False, \n",
    "        cmap = 'inferno', cbar=True,\n",
    "        robust=False)"
   ]
  },
  {
   "cell_type": "code",
   "execution_count": 10,
   "metadata": {},
   "outputs": [
    {
     "name": "stdout",
     "output_type": "stream",
     "text": [
      "(1000, 31, 31)\n"
     ]
    }
   ],
   "source": [
    "print(np.shape(covset))"
   ]
  },
  {
   "cell_type": "code",
   "execution_count": 11,
   "metadata": {},
   "outputs": [
    {
     "name": "stdout",
     "output_type": "stream",
     "text": [
      "(1000, 31, 31)\n"
     ]
    },
    {
     "data": {
      "image/png": "[encoded data removed]",
      "text/plain": [
       "<Figure size 432x288 with 2 Axes>"
      ]
     },
     "metadata": {
      "needs_background": "light"
     },
     "output_type": "display_data"
    }
   ],
   "source": [
    "print(np.shape(covset))\n",
    "split = 0.8\n",
    "ntrain = int(split * numMatrix)\n",
    "indx = [ntrain]\n",
    "covset_train, covset_test = np.split(covset, indx, axis=0)\n",
    "covset_noise_train, covset_noise_test = np.split(covset_noise, indx, axis=0)\n",
    "\n",
    "sns.heatmap(pd.DataFrame(covset_test[0]), \n",
    "        fmt='g', xticklabels=False, yticklabels=False, \n",
    "        cmap = 'inferno', cbar=True,\n",
    "        robust=False)\n",
    "\n",
    "covset_train = covset_train.reshape((len(covset_train), np.prod(covset_train.shape[1:])))\n",
    "covset_test = covset_test.reshape((len(covset_test), np.prod(covset_test.shape[1:])))\n",
    "covset_noise_train = covset_noise_train.reshape((len(covset_noise_train), np.prod(covset_noise_train.shape[1:])))\n",
    "covset_noise_test = covset_noise_test.reshape((len(covset_noise_test), np.prod(covset_noise_test.shape[1:])))\n",
    "\n"
   ]
  },
  {
   "cell_type": "code",
   "execution_count": 12,
   "metadata": {},
   "outputs": [
    {
     "name": "stdout",
     "output_type": "stream",
     "text": [
      "Model: \"functional_1\"\n",
      "_________________________________________________________________\n",
      "Layer (type)                 Output Shape              Param #   \n",
      "=================================================================\n",
      "input_1 (InputLayer)         [(None, 961)]             0         \n",
      "_________________________________________________________________\n",
      "dense (Dense)                (None, 100)               96200     \n",
      "_________________________________________________________________\n",
      "dropout (Dropout)            (None, 100)               0         \n",
      "_________________________________________________________________\n",
      "dense_1 (Dense)              (None, 100)               10100     \n",
      "_________________________________________________________________\n",
      "dropout_1 (Dropout)          (None, 100)               0         \n",
      "_________________________________________________________________\n",
      "dense_2 (Dense)              (None, 31)                3131      \n",
      "_________________________________________________________________\n",
      "dropout_2 (Dropout)          (None, 31)                0         \n",
      "_________________________________________________________________\n",
      "dense_3 (Dense)              (None, 100)               3200      \n",
      "_________________________________________________________________\n",
      "dropout_3 (Dropout)          (None, 100)               0         \n",
      "_________________________________________________________________\n",
      "dense_4 (Dense)              (None, 100)               10100     \n",
      "_________________________________________________________________\n",
      "dense_5 (Dense)              (None, 961)               97061     \n",
      "=================================================================\n",
      "Total params: 219,792\n",
      "Trainable params: 219,792\n",
      "Non-trainable params: 0\n",
      "_________________________________________________________________\n"
     ]
    }
   ],
   "source": [
    "# input_cov = Input(shape=(31, 31, 1))\n",
    "\n",
    "# This is the size of our encoded representations\n",
    "encoding_dim = 31  \n",
    "\n",
    "# This is our input image\n",
    "input_img = tf.keras.Input(shape=(31*31,))\n",
    "# begin encoder\n",
    "x = layers.Dense(100, activation='tanh')(input_img)\n",
    "x = layers.Dropout(0.2)(x)\n",
    "x = layers.Dense(100, activation='tanh')(x)\n",
    "x = layers.Dropout(0.2)(x)\n",
    "encoded = layers.Dense(encoding_dim, activation='tanh')(x)\n",
    "x = layers.Dropout(0.2)(encoded)\n",
    "#begin decoder\n",
    "x = layers.Dense(100, activation='tanh')(x)\n",
    "x = layers.Dropout(0.2)(x)\n",
    "x = layers.Dense(100, activation='tanh')(x)\n",
    "# x = layers.Dropout(0.2)\n",
    "decoded = layers.Dense(31*31, activation='linear')(x)\n",
    "\n",
    "\n",
    "# This model maps an input to its reconstruction\n",
    "autoencoder = tf.keras.Model(input_img, decoded)\n",
    "autoencoder.compile(optimizer='adam', loss='mean_squared_error')\n",
    "autoencoder.summary()"
   ]
  },
  {
   "cell_type": "code",
   "execution_count": 13,
   "metadata": {},
   "outputs": [],
   "source": [
    "encoder = tf.keras.Model(input_img, encoded)\n",
    "# This is our encoded (32-dimensional) input\n",
    "encoded_input = tf.keras.Input(shape=(encoding_dim,))\n",
    "\n",
    "decoder_layer1 = autoencoder.layers[-5]\n",
    "decoder_layer2 = autoencoder.layers[-4]\n",
    "decoder_layer3 = autoencoder.layers[-3]\n",
    "decoder_layer4 = autoencoder.layers[-2]\n",
    "decoder_layer5 = autoencoder.layers[-1]\n",
    "\n",
    "# create the decoder model\n",
    "decoder = Model(encoded_input, \n",
    "                decoder_layer5(decoder_layer4(decoder_layer3(decoder_layer2(decoder_layer1(encoded_input))))))"
   ]
  },
  {
   "cell_type": "code",
   "execution_count": 14,
   "metadata": {},
   "outputs": [
    {
     "name": "stdout",
     "output_type": "stream",
     "text": [
      "Epoch 1/300\n",
      "25/25 [==============================] - 0s 6ms/step - loss: 6.9403e-04 - val_loss: 6.5326e-05\n",
      "Epoch 2/300\n",
      "25/25 [==============================] - 0s 2ms/step - loss: 1.3882e-04 - val_loss: 1.9119e-05\n",
      "Epoch 3/300\n",
      "25/25 [==============================] - 0s 2ms/step - loss: 6.8237e-05 - val_loss: 9.7769e-06\n",
      "Epoch 4/300\n",
      "25/25 [==============================] - 0s 2ms/step - loss: 4.4937e-05 - val_loss: 6.4374e-06\n",
      "Epoch 5/300\n",
      "25/25 [==============================] - 0s 2ms/step - loss: 3.2852e-05 - val_loss: 4.5307e-06\n",
      "Epoch 6/300\n",
      "25/25 [==============================] - 0s 2ms/step - loss: 2.5942e-05 - val_loss: 3.5084e-06\n",
      "Epoch 7/300\n",
      "25/25 [==============================] - 0s 2ms/step - loss: 2.1119e-05 - val_loss: 2.9037e-06\n",
      "Epoch 8/300\n",
      "25/25 [==============================] - 0s 2ms/step - loss: 1.7431e-05 - val_loss: 2.4533e-06\n",
      "Epoch 9/300\n",
      "25/25 [==============================] - 0s 2ms/step - loss: 1.4593e-05 - val_loss: 2.0841e-06\n",
      "Epoch 10/300\n",
      "25/25 [==============================] - 0s 2ms/step - loss: 1.2757e-05 - val_loss: 1.8891e-06\n",
      "Epoch 11/300\n",
      "25/25 [==============================] - 0s 2ms/step - loss: 1.0991e-05 - val_loss: 1.7484e-06\n",
      "Epoch 12/300\n",
      "25/25 [==============================] - 0s 2ms/step - loss: 9.7157e-06 - val_loss: 1.6154e-06\n",
      "Epoch 13/300\n",
      "25/25 [==============================] - 0s 2ms/step - loss: 8.7377e-06 - val_loss: 1.4676e-06\n",
      "Epoch 14/300\n",
      "25/25 [==============================] - 0s 2ms/step - loss: 7.8960e-06 - val_loss: 1.4378e-06\n",
      "Epoch 15/300\n",
      "25/25 [==============================] - 0s 2ms/step - loss: 7.0673e-06 - val_loss: 1.3462e-06\n",
      "Epoch 16/300\n",
      "25/25 [==============================] - 0s 2ms/step - loss: 6.6298e-06 - val_loss: 1.3056e-06\n",
      "Epoch 17/300\n",
      "25/25 [==============================] - 0s 2ms/step - loss: 5.8980e-06 - val_loss: 1.2782e-06\n",
      "Epoch 18/300\n",
      "25/25 [==============================] - 0s 2ms/step - loss: 5.6010e-06 - val_loss: 1.2400e-06\n",
      "Epoch 19/300\n",
      "25/25 [==============================] - 0s 2ms/step - loss: 5.0826e-06 - val_loss: 1.2157e-06\n",
      "Epoch 20/300\n",
      "25/25 [==============================] - 0s 2ms/step - loss: 4.7661e-06 - val_loss: 1.1907e-06\n",
      "Epoch 21/300\n",
      "25/25 [==============================] - 0s 2ms/step - loss: 4.4819e-06 - val_loss: 1.1715e-06\n",
      "Epoch 22/300\n",
      "25/25 [==============================] - 0s 2ms/step - loss: 4.1054e-06 - val_loss: 1.1632e-06\n",
      "Epoch 23/300\n",
      "25/25 [==============================] - 0s 2ms/step - loss: 3.9155e-06 - val_loss: 1.1422e-06\n",
      "Epoch 24/300\n",
      "25/25 [==============================] - 0s 2ms/step - loss: 3.7777e-06 - val_loss: 1.1241e-06\n",
      "Epoch 25/300\n",
      "25/25 [==============================] - 0s 2ms/step - loss: 3.6051e-06 - val_loss: 1.1328e-06\n",
      "Epoch 26/300\n",
      "25/25 [==============================] - 0s 2ms/step - loss: 3.3277e-06 - val_loss: 1.1096e-06\n",
      "Epoch 27/300\n",
      "25/25 [==============================] - 0s 2ms/step - loss: 3.2602e-06 - val_loss: 1.1081e-06\n",
      "Epoch 28/300\n",
      "25/25 [==============================] - 0s 2ms/step - loss: 3.1295e-06 - val_loss: 1.0903e-06\n",
      "Epoch 29/300\n",
      "25/25 [==============================] - 0s 2ms/step - loss: 2.9257e-06 - val_loss: 1.0930e-06\n",
      "Epoch 30/300\n",
      "25/25 [==============================] - 0s 2ms/step - loss: 2.8417e-06 - val_loss: 1.0803e-06\n",
      "Epoch 31/300\n",
      "25/25 [==============================] - 0s 2ms/step - loss: 2.7119e-06 - val_loss: 1.0932e-06\n",
      "Epoch 32/300\n",
      "25/25 [==============================] - 0s 2ms/step - loss: 2.6536e-06 - val_loss: 1.0768e-06\n",
      "Epoch 33/300\n",
      "25/25 [==============================] - 0s 2ms/step - loss: 2.5939e-06 - val_loss: 1.0747e-06\n",
      "Epoch 34/300\n",
      "25/25 [==============================] - 0s 2ms/step - loss: 2.4701e-06 - val_loss: 1.0573e-06\n",
      "Epoch 35/300\n",
      "25/25 [==============================] - 0s 2ms/step - loss: 2.3939e-06 - val_loss: 1.0764e-06\n",
      "Epoch 36/300\n",
      "25/25 [==============================] - 0s 2ms/step - loss: 2.2913e-06 - val_loss: 1.0646e-06\n",
      "Epoch 37/300\n",
      "25/25 [==============================] - 0s 2ms/step - loss: 2.2413e-06 - val_loss: 1.0604e-06\n",
      "Epoch 38/300\n",
      "25/25 [==============================] - 0s 2ms/step - loss: 2.1694e-06 - val_loss: 1.0610e-06\n",
      "Epoch 39/300\n",
      "25/25 [==============================] - 0s 2ms/step - loss: 2.0980e-06 - val_loss: 1.0521e-06\n",
      "Epoch 40/300\n",
      "25/25 [==============================] - 0s 2ms/step - loss: 2.0539e-06 - val_loss: 1.0573e-06\n",
      "Epoch 41/300\n",
      "25/25 [==============================] - 0s 2ms/step - loss: 2.0145e-06 - val_loss: 1.0501e-06\n",
      "Epoch 42/300\n",
      "25/25 [==============================] - 0s 2ms/step - loss: 1.9623e-06 - val_loss: 1.0531e-06\n",
      "Epoch 43/300\n",
      "25/25 [==============================] - 0s 2ms/step - loss: 1.9512e-06 - val_loss: 1.0477e-06\n",
      "Epoch 44/300\n",
      "25/25 [==============================] - 0s 2ms/step - loss: 1.8719e-06 - val_loss: 1.0465e-06\n",
      "Epoch 45/300\n",
      "25/25 [==============================] - 0s 2ms/step - loss: 1.8607e-06 - val_loss: 1.0513e-06\n",
      "Epoch 46/300\n",
      "25/25 [==============================] - 0s 2ms/step - loss: 1.8086e-06 - val_loss: 1.0467e-06\n",
      "Epoch 47/300\n",
      "25/25 [==============================] - 0s 2ms/step - loss: 1.7506e-06 - val_loss: 1.0486e-06\n",
      "Epoch 48/300\n",
      "25/25 [==============================] - 0s 2ms/step - loss: 1.7440e-06 - val_loss: 1.0452e-06\n",
      "Epoch 49/300\n",
      "25/25 [==============================] - 0s 2ms/step - loss: 1.7235e-06 - val_loss: 1.0400e-06\n",
      "Epoch 50/300\n",
      "25/25 [==============================] - 0s 2ms/step - loss: 1.6819e-06 - val_loss: 1.0365e-06\n",
      "Epoch 51/300\n",
      "25/25 [==============================] - 0s 2ms/step - loss: 1.6716e-06 - val_loss: 1.0365e-06\n",
      "Epoch 52/300\n",
      "25/25 [==============================] - 0s 2ms/step - loss: 1.6411e-06 - val_loss: 1.0385e-06\n",
      "Epoch 53/300\n",
      "25/25 [==============================] - 0s 2ms/step - loss: 1.6072e-06 - val_loss: 1.0359e-06\n",
      "Epoch 54/300\n",
      "25/25 [==============================] - 0s 2ms/step - loss: 1.5869e-06 - val_loss: 1.0380e-06\n",
      "Epoch 55/300\n",
      "25/25 [==============================] - 0s 2ms/step - loss: 1.5561e-06 - val_loss: 1.0402e-06\n",
      "Epoch 56/300\n",
      "25/25 [==============================] - 0s 2ms/step - loss: 1.5314e-06 - val_loss: 1.0361e-06\n",
      "Epoch 57/300\n",
      "25/25 [==============================] - 0s 2ms/step - loss: 1.5108e-06 - val_loss: 1.0345e-06\n",
      "Epoch 58/300\n",
      "25/25 [==============================] - 0s 2ms/step - loss: 1.4959e-06 - val_loss: 1.0355e-06\n",
      "Epoch 59/300\n",
      "25/25 [==============================] - 0s 2ms/step - loss: 1.4811e-06 - val_loss: 1.0401e-06\n",
      "Epoch 60/300\n",
      "25/25 [==============================] - 0s 2ms/step - loss: 1.4911e-06 - val_loss: 1.0350e-06\n",
      "Epoch 61/300\n",
      "25/25 [==============================] - 0s 2ms/step - loss: 1.4616e-06 - val_loss: 1.0363e-06\n",
      "Epoch 62/300\n",
      "25/25 [==============================] - 0s 2ms/step - loss: 1.4396e-06 - val_loss: 1.0388e-06\n",
      "Epoch 63/300\n",
      "25/25 [==============================] - 0s 2ms/step - loss: 1.4161e-06 - val_loss: 1.0334e-06\n",
      "Epoch 64/300\n",
      "25/25 [==============================] - 0s 2ms/step - loss: 1.4063e-06 - val_loss: 1.0336e-06\n",
      "Epoch 65/300\n",
      "25/25 [==============================] - 0s 2ms/step - loss: 1.3998e-06 - val_loss: 1.0373e-06\n",
      "Epoch 66/300\n",
      "25/25 [==============================] - 0s 2ms/step - loss: 1.3868e-06 - val_loss: 1.0351e-06\n",
      "Epoch 67/300\n",
      "25/25 [==============================] - 0s 2ms/step - loss: 1.3760e-06 - val_loss: 1.0367e-06\n",
      "Epoch 68/300\n",
      "25/25 [==============================] - 0s 2ms/step - loss: 1.3600e-06 - val_loss: 1.0349e-06\n",
      "Epoch 69/300\n",
      "25/25 [==============================] - 0s 2ms/step - loss: 1.3493e-06 - val_loss: 1.0372e-06\n",
      "Epoch 70/300\n",
      "25/25 [==============================] - 0s 2ms/step - loss: 1.3431e-06 - val_loss: 1.0361e-06\n",
      "Epoch 71/300\n",
      "25/25 [==============================] - 0s 2ms/step - loss: 1.3291e-06 - val_loss: 1.0380e-06\n",
      "Epoch 72/300\n",
      "25/25 [==============================] - 0s 2ms/step - loss: 1.3329e-06 - val_loss: 1.0338e-06\n",
      "Epoch 73/300\n",
      "25/25 [==============================] - 0s 2ms/step - loss: 1.3078e-06 - val_loss: 1.0292e-06\n",
      "Epoch 74/300\n",
      "25/25 [==============================] - 0s 2ms/step - loss: 1.3025e-06 - val_loss: 1.0320e-06\n",
      "Epoch 75/300\n",
      "25/25 [==============================] - 0s 2ms/step - loss: 1.2991e-06 - val_loss: 1.0348e-06\n",
      "Epoch 76/300\n",
      "25/25 [==============================] - 0s 2ms/step - loss: 1.2932e-06 - val_loss: 1.0340e-06\n"
     ]
    },
    {
     "name": "stdout",
     "output_type": "stream",
     "text": [
      "Epoch 77/300\n",
      "25/25 [==============================] - 0s 2ms/step - loss: 1.2843e-06 - val_loss: 1.0403e-06\n",
      "Epoch 78/300\n",
      "25/25 [==============================] - 0s 2ms/step - loss: 1.2720e-06 - val_loss: 1.0376e-06\n",
      "Epoch 79/300\n",
      "25/25 [==============================] - 0s 2ms/step - loss: 1.2657e-06 - val_loss: 1.0333e-06\n",
      "Epoch 80/300\n",
      "25/25 [==============================] - 0s 2ms/step - loss: 1.2571e-06 - val_loss: 1.0344e-06\n",
      "Epoch 81/300\n",
      "25/25 [==============================] - 0s 2ms/step - loss: 1.2530e-06 - val_loss: 1.0344e-06\n",
      "Epoch 82/300\n",
      "25/25 [==============================] - 0s 2ms/step - loss: 1.2481e-06 - val_loss: 1.0422e-06\n",
      "Epoch 83/300\n",
      "25/25 [==============================] - 0s 2ms/step - loss: 1.2442e-06 - val_loss: 1.0344e-06\n"
     ]
    }
   ],
   "source": [
    "callbacks = [tf.keras.callbacks.EarlyStopping(monitor='val_loss', mode='min',\n",
    "                                   min_delta=0,\n",
    "                                   patience=10, \n",
    "                                   restore_best_weights=True)]\n",
    "\n",
    "autoencoder_train = autoencoder.fit(covset_noise_train, covset_train,\n",
    "                epochs=300,\n",
    "                batch_size=32,\n",
    "                shuffle=True,\n",
    "                validation_data=(covset_noise_test, covset_test),\n",
    "                callbacks=callbacks)\n",
    "#                 callbacks=[TensorBoard(log_dir='/tmp/autoencoder')])"
   ]
  },
  {
   "cell_type": "code",
   "execution_count": 15,
   "metadata": {},
   "outputs": [
    {
     "data": {
      "image/png": "[encoded data removed]",
      "text/plain": [
       "<Figure size 432x288 with 1 Axes>"
      ]
     },
     "metadata": {
      "needs_background": "light"
     },
     "output_type": "display_data"
    }
   ],
   "source": [
    "plt.plot(autoencoder_train.history['loss'], color='r', )\n",
    "plt.plot(autoencoder_train.history['val_loss'], color='g')\n",
    "# plt.title('model loss function')\n",
    "plt.ylabel('MSE')\n",
    "plt.xlabel('Epochs')\n",
    "plt.legend(['train', 'val'], loc='upper left')\n",
    "plt.savefig('loss_binned_JLA.png', dpi=200)"
   ]
  },
  {
   "cell_type": "code",
   "execution_count": 16,
   "metadata": {},
   "outputs": [
    {
     "name": "stdout",
     "output_type": "stream",
     "text": [
      "1.0292333172401411e-06 1.2442264960554894e-06\n"
     ]
    }
   ],
   "source": [
    "unet = np.sqrt(np.min(autoencoder_train.history['val_loss']))\n",
    "print(unet**2, np.min(autoencoder_train.history['loss']))"
   ]
  },
  {
   "cell_type": "code",
   "execution_count": 17,
   "metadata": {},
   "outputs": [
    {
     "name": "stdout",
     "output_type": "stream",
     "text": [
      "(200, 31)\n"
     ]
    }
   ],
   "source": [
    "encoded_imgs = encoder.predict(covset_test)\n",
    "decoded_imgs = decoder.predict(encoded_imgs)\n",
    "print(np.shape(encoded_imgs))\n",
    "df = pd.DataFrame(encoded_imgs)\n",
    "# np.min(encoded_imgs)"
   ]
  },
  {
   "cell_type": "code",
   "execution_count": 18,
   "metadata": {},
   "outputs": [
    {
     "name": "stdout",
     "output_type": "stream",
     "text": [
      "(200, 961)\n"
     ]
    },
    {
     "data": {
      "text/plain": [
       "<matplotlib.axes._subplots.AxesSubplot at 0x7fd9d879ca20>"
      ]
     },
     "execution_count": 18,
     "metadata": {},
     "output_type": "execute_result"
    },
    {
     "data": {
      "image/png": "[encoded data removed]",
      "text/plain": [
       "<Figure size 432x288 with 2 Axes>"
      ]
     },
     "metadata": {
      "needs_background": "light"
     },
     "output_type": "display_data"
    }
   ],
   "source": [
    "print(np.shape(decoded_imgs))\n",
    "\n",
    "sns.heatmap(pd.DataFrame(decoded_imgs[0].reshape(31,31)), \n",
    "            fmt='g', xticklabels=False, yticklabels=False, \n",
    "            cmap = 'inferno', \n",
    "            robust=False)\n",
    "# plt.savefig(\"decoded_img22.png\")\n",
    "# this cov matrix work well within Bayesian inference\n",
    "# np.savetxt(\"test.dat\", decoded_imgs[0].reshape(31,31), delimiter= \" \", header=\"#fake COV\")\n"
   ]
  },
  {
   "cell_type": "code",
   "execution_count": 19,
   "metadata": {},
   "outputs": [
    {
     "name": "stdout",
     "output_type": "stream",
     "text": [
      "(200, 961)\n"
     ]
    }
   ],
   "source": [
    "print(np.shape(decoded_imgs))"
   ]
  },
  {
   "cell_type": "code",
   "execution_count": 20,
   "metadata": {},
   "outputs": [
    {
     "data": {
      "image/png": "[encoded data removed]",
      "text/plain": [
       "<Figure size 1440x288 with 20 Axes>"
      ]
     },
     "metadata": {
      "needs_background": "light"
     },
     "output_type": "display_data"
    }
   ],
   "source": [
    "n = 10  # How many digits we will display\n",
    "plt.figure(figsize=(20, 4))\n",
    "for i in range(n):\n",
    "    # Display original\n",
    "    ax = plt.subplot(2, n, i + 1)\n",
    "    plt.imshow(covset_test[i].reshape(31, 31))\n",
    "#     plt.gray()\n",
    "    ax.get_xaxis().set_visible(False)\n",
    "    ax.get_yaxis().set_visible(False)\n",
    "\n",
    "    # Display reconstruction\n",
    "    ax = plt.subplot(2, n, i + 1 + n)\n",
    "    plt.imshow(decoded_imgs[i].reshape(31, 31))\n",
    "#     plt.gray()\n",
    "    ax.get_xaxis().set_visible(False)\n",
    "    ax.get_yaxis().set_visible(False)\n",
    "plt.show()"
   ]
  },
  {
   "cell_type": "code",
   "execution_count": 21,
   "metadata": {},
   "outputs": [
    {
     "data": {
      "image/png": "[encoded data removed]",
      "text/plain": [
       "<Figure size 1440x288 with 20 Axes>"
      ]
     },
     "metadata": {},
     "output_type": "display_data"
    }
   ],
   "source": [
    "n = 10  # How many digits we will display\n",
    "plt.figure(figsize=(20, 4))\n",
    "for i in range(n):\n",
    "    # Display original\n",
    "    ax = plt.subplot(2, n, i + 1)\n",
    "    sns.heatmap(covset_test[i].reshape(31, 31), cbar=False, fmt='g', xticklabels=False, yticklabels=False, \n",
    "                cmap = 'inferno')\n",
    "    # Display reconstruction\n",
    "    ax = plt.subplot(2, n, i + 1 + n)\n",
    "    sns.heatmap(decoded_imgs[i].reshape(31, 31), cbar=False, fmt='g', xticklabels=False, yticklabels=False, \n",
    "                cmap = 'inferno')\n",
    "plt.savefig('predicted_covs_binned_jla.png', dpi=200)"
   ]
  },
  {
   "cell_type": "markdown",
   "metadata": {},
   "source": [
    "### Now we train another neural network for z and $D_L(z)$"
   ]
  },
  {
   "cell_type": "code",
   "execution_count": 22,
   "metadata": {},
   "outputs": [
    {
     "data": {
      "image/png": "[encoded data removed]",
      "text/plain": [
       "<Figure size 360x360 with 6 Axes>"
      ]
     },
     "metadata": {
      "needs_background": "light"
     },
     "output_type": "display_data"
    }
   ],
   "source": [
    "file2 = '/home/isidro/Documents/gitHub/misRepos/neuralCosmoReconstruction/data/jla_binned_distances_31nodes_v1.txt'\n",
    "data = pd.read_csv(file2, names=['z', '$D_L$'], sep = \" \", skiprows=3)\n",
    "# print(data.head(31))\n",
    "sns.pairplot(data, diag_kind=\"kde\")\n",
    "plt.savefig(\"DistbinnedJLA.png\")"
   ]
  },
  {
   "cell_type": "code",
   "execution_count": 23,
   "metadata": {},
   "outputs": [],
   "source": [
    "shuffle = [x for x in range(len(data.values)) if x%2 == 0]\n",
    "comp = [x for x in range(len(data.values)) if x%2 ==1]\n",
    "shuffle.extend(comp)\n",
    "\n",
    "data = data.values[shuffle]"
   ]
  },
  {
   "cell_type": "code",
   "execution_count": 24,
   "metadata": {},
   "outputs": [],
   "source": [
    "z = data[:,0]\n",
    "dl = data[:,1:]"
   ]
  },
  {
   "cell_type": "code",
   "execution_count": 25,
   "metadata": {},
   "outputs": [],
   "source": [
    "# scalerz = StandardScaler()\n",
    "# # scalerz = MinMaxScaler(feature_range=(-1,1))\n",
    "# # fit scaler on data\n",
    "# scalerz.fit(z.reshape(-1,1))\n",
    "# # apply transform\n",
    "# z = scalerz.transform(z.reshape(-1,1))"
   ]
  },
  {
   "cell_type": "code",
   "execution_count": 26,
   "metadata": {},
   "outputs": [],
   "source": [
    "split = 0.8\n",
    "ntrain = int(split * len(z))\n",
    "indx = [ntrain]\n",
    "scalerz = StandardScaler()\n",
    "scalerz.fit(z.reshape(-1, 1))\n",
    "zz = scalerz.transform(z.reshape((-1,1)))\n",
    "z_train, z_test = np.split(zz, indx)\n",
    "dl_train, dl_test = np.split(dl, indx)"
   ]
  },
  {
   "cell_type": "code",
   "execution_count": 27,
   "metadata": {},
   "outputs": [],
   "source": [
    "callbacks = [tf.keras.callbacks.EarlyStopping(monitor='val_loss', mode='min',\n",
    "                                   min_delta=0.0,\n",
    "                                   patience=20,\n",
    "                                   restore_best_weights=True)]"
   ]
  },
  {
   "cell_type": "code",
   "execution_count": 28,
   "metadata": {},
   "outputs": [
    {
     "name": "stdout",
     "output_type": "stream",
     "text": [
      "Model: \"functional_7\"\n",
      "_________________________________________________________________\n",
      "Layer (type)                 Output Shape              Param #   \n",
      "=================================================================\n",
      "input_3 (InputLayer)         [(None, 1)]               0         \n",
      "_________________________________________________________________\n",
      "dense_6 (Dense)              (None, 50)                100       \n",
      "_________________________________________________________________\n",
      "dense_7 (Dense)              (None, 50)                2550      \n",
      "_________________________________________________________________\n",
      "dense_8 (Dense)              (None, 50)                2550      \n",
      "_________________________________________________________________\n",
      "dense_9 (Dense)              (None, 30)                1530      \n",
      "_________________________________________________________________\n",
      "dense_10 (Dense)             (None, 1)                 31        \n",
      "=================================================================\n",
      "Total params: 6,761\n",
      "Trainable params: 6,761\n",
      "Non-trainable params: 0\n",
      "_________________________________________________________________\n"
     ]
    }
   ],
   "source": [
    "def model(input_z):\n",
    "    efirst = Dense(50, activation='relu', input_shape=(1,))(input_z)\n",
    "    x = Dense(50, activation='relu')(efirst)\n",
    "    x = Dense(50, activation='relu')(x)\n",
    "    x = Dense(30, activation='relu')(x)\n",
    "\n",
    "    elast = Dense(1, activation='linear')(x)\n",
    "    return elast\n",
    "\n",
    "batch_size = 1\n",
    "epochs = 1000\n",
    "input_z = Input(shape = (1,))\n",
    "neural_model = Model(input_z, model(input_z))\n",
    "neural_model.compile(loss='mean_squared_error', optimizer = \"adam\")\n",
    "neural_model.summary()"
   ]
  },
  {
   "cell_type": "code",
   "execution_count": 29,
   "metadata": {},
   "outputs": [
    {
     "name": "stdout",
     "output_type": "stream",
     "text": [
      "Epoch 1/1000\n",
      "24/24 [==============================] - 0s 3ms/step - loss: 1443.0498 - val_loss: 1743.1469\n",
      "Epoch 2/1000\n",
      "24/24 [==============================] - 0s 1ms/step - loss: 1425.5485 - val_loss: 1718.1754\n",
      "Epoch 3/1000\n",
      "24/24 [==============================] - 0s 1ms/step - loss: 1355.5608 - val_loss: 1626.9679\n",
      "Epoch 4/1000\n",
      "24/24 [==============================] - 0s 988us/step - loss: 1083.0563 - val_loss: 1292.3666\n",
      "Epoch 5/1000\n",
      "24/24 [==============================] - 0s 1ms/step - loss: 440.1106 - val_loss: 562.0248\n",
      "Epoch 6/1000\n",
      "24/24 [==============================] - 0s 1ms/step - loss: 168.7218 - val_loss: 399.7456\n",
      "Epoch 7/1000\n",
      "24/24 [==============================] - 0s 1ms/step - loss: 117.9147 - val_loss: 213.7588\n",
      "Epoch 8/1000\n",
      "24/24 [==============================] - 0s 1ms/step - loss: 78.6704 - val_loss: 152.1035\n",
      "Epoch 9/1000\n",
      "24/24 [==============================] - 0s 1ms/step - loss: 73.5458 - val_loss: 137.7964\n",
      "Epoch 10/1000\n",
      "24/24 [==============================] - 0s 1ms/step - loss: 61.2053 - val_loss: 120.8342\n",
      "Epoch 11/1000\n",
      "24/24 [==============================] - 0s 1ms/step - loss: 55.6316 - val_loss: 110.8285\n",
      "Epoch 12/1000\n",
      "24/24 [==============================] - 0s 1ms/step - loss: 49.1576 - val_loss: 91.8296\n",
      "Epoch 13/1000\n",
      "24/24 [==============================] - 0s 989us/step - loss: 41.6297 - val_loss: 89.1171\n",
      "Epoch 14/1000\n",
      "24/24 [==============================] - 0s 1ms/step - loss: 39.6740 - val_loss: 74.4670\n",
      "Epoch 15/1000\n",
      "24/24 [==============================] - 0s 1ms/step - loss: 35.1641 - val_loss: 60.2244\n",
      "Epoch 16/1000\n",
      "24/24 [==============================] - 0s 984us/step - loss: 36.0788 - val_loss: 61.8144\n",
      "Epoch 17/1000\n",
      "24/24 [==============================] - 0s 1ms/step - loss: 29.0778 - val_loss: 52.4583\n",
      "Epoch 18/1000\n",
      "24/24 [==============================] - 0s 1ms/step - loss: 26.9537 - val_loss: 46.7187\n",
      "Epoch 19/1000\n",
      "24/24 [==============================] - 0s 1ms/step - loss: 26.2285 - val_loss: 38.3278\n",
      "Epoch 20/1000\n",
      "24/24 [==============================] - 0s 1ms/step - loss: 23.0702 - val_loss: 34.1913\n",
      "Epoch 21/1000\n",
      "24/24 [==============================] - 0s 990us/step - loss: 20.2676 - val_loss: 37.2196\n",
      "Epoch 22/1000\n",
      "24/24 [==============================] - 0s 996us/step - loss: 18.3709 - val_loss: 22.9303\n",
      "Epoch 23/1000\n",
      "24/24 [==============================] - 0s 950us/step - loss: 15.5254 - val_loss: 26.0498\n",
      "Epoch 24/1000\n",
      "24/24 [==============================] - 0s 976us/step - loss: 13.8103 - val_loss: 22.4980\n",
      "Epoch 25/1000\n",
      "24/24 [==============================] - 0s 1ms/step - loss: 12.6614 - val_loss: 17.0239\n",
      "Epoch 26/1000\n",
      "24/24 [==============================] - 0s 995us/step - loss: 11.6049 - val_loss: 17.9046\n",
      "Epoch 27/1000\n",
      "24/24 [==============================] - 0s 1ms/step - loss: 10.6164 - val_loss: 15.1471\n",
      "Epoch 28/1000\n",
      "24/24 [==============================] - 0s 1ms/step - loss: 8.3689 - val_loss: 11.3914\n",
      "Epoch 29/1000\n",
      "24/24 [==============================] - 0s 1ms/step - loss: 7.2942 - val_loss: 8.9346\n",
      "Epoch 30/1000\n",
      "24/24 [==============================] - 0s 959us/step - loss: 7.5522 - val_loss: 9.0087\n",
      "Epoch 31/1000\n",
      "24/24 [==============================] - 0s 1ms/step - loss: 5.0958 - val_loss: 5.3688\n",
      "Epoch 32/1000\n",
      "24/24 [==============================] - 0s 1ms/step - loss: 5.1501 - val_loss: 4.5631\n",
      "Epoch 33/1000\n",
      "24/24 [==============================] - 0s 1ms/step - loss: 4.6407 - val_loss: 3.2878\n",
      "Epoch 34/1000\n",
      "24/24 [==============================] - 0s 1ms/step - loss: 3.7627 - val_loss: 2.8872\n",
      "Epoch 35/1000\n",
      "24/24 [==============================] - 0s 1ms/step - loss: 2.7799 - val_loss: 3.2108\n",
      "Epoch 36/1000\n",
      "24/24 [==============================] - 0s 1ms/step - loss: 3.5773 - val_loss: 2.4470\n",
      "Epoch 37/1000\n",
      "24/24 [==============================] - 0s 1ms/step - loss: 2.3636 - val_loss: 1.7233\n",
      "Epoch 38/1000\n",
      "24/24 [==============================] - 0s 1ms/step - loss: 1.8852 - val_loss: 1.3896\n",
      "Epoch 39/1000\n",
      "24/24 [==============================] - 0s 973us/step - loss: 1.4841 - val_loss: 1.4792\n",
      "Epoch 40/1000\n",
      "24/24 [==============================] - 0s 1ms/step - loss: 1.6487 - val_loss: 0.9606\n",
      "Epoch 41/1000\n",
      "24/24 [==============================] - 0s 1ms/step - loss: 1.8974 - val_loss: 1.1667\n",
      "Epoch 42/1000\n",
      "24/24 [==============================] - 0s 1ms/step - loss: 1.5926 - val_loss: 1.2277\n",
      "Epoch 43/1000\n",
      "24/24 [==============================] - 0s 1ms/step - loss: 1.2857 - val_loss: 0.8817\n",
      "Epoch 44/1000\n",
      "24/24 [==============================] - 0s 989us/step - loss: 0.9812 - val_loss: 1.0403\n",
      "Epoch 45/1000\n",
      "24/24 [==============================] - 0s 980us/step - loss: 1.0040 - val_loss: 0.9721\n",
      "Epoch 46/1000\n",
      "24/24 [==============================] - 0s 1ms/step - loss: 1.0157 - val_loss: 0.7680\n",
      "Epoch 47/1000\n",
      "24/24 [==============================] - 0s 953us/step - loss: 1.2245 - val_loss: 0.9384\n",
      "Epoch 48/1000\n",
      "24/24 [==============================] - 0s 953us/step - loss: 1.1639 - val_loss: 0.8788\n",
      "Epoch 49/1000\n",
      "24/24 [==============================] - 0s 968us/step - loss: 0.7226 - val_loss: 0.9652\n",
      "Epoch 50/1000\n",
      "24/24 [==============================] - 0s 966us/step - loss: 0.7929 - val_loss: 0.9394\n",
      "Epoch 51/1000\n",
      "24/24 [==============================] - 0s 1ms/step - loss: 0.9775 - val_loss: 0.8208\n",
      "Epoch 52/1000\n",
      "24/24 [==============================] - 0s 1ms/step - loss: 0.9350 - val_loss: 0.9003\n",
      "Epoch 53/1000\n",
      "24/24 [==============================] - 0s 1ms/step - loss: 0.8736 - val_loss: 0.7150\n",
      "Epoch 54/1000\n",
      "24/24 [==============================] - 0s 978us/step - loss: 0.7019 - val_loss: 0.8928\n",
      "Epoch 55/1000\n",
      "24/24 [==============================] - 0s 1000us/step - loss: 0.8027 - val_loss: 0.6848\n",
      "Epoch 56/1000\n",
      "24/24 [==============================] - 0s 1ms/step - loss: 0.9632 - val_loss: 0.6476\n",
      "Epoch 57/1000\n",
      "24/24 [==============================] - 0s 1ms/step - loss: 0.8178 - val_loss: 0.7488\n",
      "Epoch 58/1000\n",
      "24/24 [==============================] - 0s 977us/step - loss: 0.6122 - val_loss: 0.7175\n",
      "Epoch 59/1000\n",
      "24/24 [==============================] - 0s 1ms/step - loss: 0.7049 - val_loss: 0.4734\n",
      "Epoch 60/1000\n",
      "24/24 [==============================] - 0s 1ms/step - loss: 1.1630 - val_loss: 0.7718\n",
      "Epoch 61/1000\n",
      "24/24 [==============================] - 0s 971us/step - loss: 0.5708 - val_loss: 0.6759\n",
      "Epoch 62/1000\n",
      "24/24 [==============================] - 0s 1ms/step - loss: 0.5512 - val_loss: 0.7307\n",
      "Epoch 63/1000\n",
      "24/24 [==============================] - 0s 990us/step - loss: 0.7156 - val_loss: 0.7160\n",
      "Epoch 64/1000\n",
      "24/24 [==============================] - 0s 1ms/step - loss: 0.6950 - val_loss: 0.4428\n",
      "Epoch 65/1000\n",
      "24/24 [==============================] - 0s 974us/step - loss: 0.5748 - val_loss: 0.6199\n",
      "Epoch 66/1000\n",
      "24/24 [==============================] - 0s 1ms/step - loss: 1.0365 - val_loss: 0.3788\n",
      "Epoch 67/1000\n",
      "24/24 [==============================] - 0s 1ms/step - loss: 0.6759 - val_loss: 0.6085\n",
      "Epoch 68/1000\n",
      "24/24 [==============================] - 0s 1ms/step - loss: 0.4589 - val_loss: 0.5284\n",
      "Epoch 69/1000\n",
      "24/24 [==============================] - 0s 962us/step - loss: 0.7003 - val_loss: 0.5361\n",
      "Epoch 70/1000\n",
      "24/24 [==============================] - 0s 1000us/step - loss: 0.7788 - val_loss: 0.5966\n",
      "Epoch 71/1000\n",
      "24/24 [==============================] - 0s 997us/step - loss: 0.5457 - val_loss: 0.6598\n",
      "Epoch 72/1000\n",
      "24/24 [==============================] - 0s 1ms/step - loss: 0.4874 - val_loss: 0.5058\n",
      "Epoch 73/1000\n",
      "24/24 [==============================] - 0s 1ms/step - loss: 0.4804 - val_loss: 0.4203\n",
      "Epoch 74/1000\n",
      "24/24 [==============================] - 0s 1ms/step - loss: 0.6405 - val_loss: 0.5712\n",
      "Epoch 75/1000\n",
      "24/24 [==============================] - 0s 1ms/step - loss: 0.6047 - val_loss: 0.4340\n",
      "Epoch 76/1000\n",
      "24/24 [==============================] - 0s 998us/step - loss: 0.6585 - val_loss: 0.4202\n",
      "Epoch 77/1000\n",
      "24/24 [==============================] - 0s 966us/step - loss: 0.5191 - val_loss: 0.6124\n",
      "Epoch 78/1000\n",
      "24/24 [==============================] - 0s 1ms/step - loss: 0.4735 - val_loss: 0.3919\n",
      "Epoch 79/1000\n",
      "24/24 [==============================] - 0s 1ms/step - loss: 0.5336 - val_loss: 0.4931\n",
      "Epoch 80/1000\n",
      "24/24 [==============================] - 0s 974us/step - loss: 0.7852 - val_loss: 0.4241\n"
     ]
    },
    {
     "name": "stdout",
     "output_type": "stream",
     "text": [
      "Epoch 81/1000\n",
      "24/24 [==============================] - 0s 1ms/step - loss: 0.4056 - val_loss: 0.5084\n",
      "Epoch 82/1000\n",
      "24/24 [==============================] - 0s 1ms/step - loss: 0.5499 - val_loss: 0.3849\n",
      "Epoch 83/1000\n",
      "24/24 [==============================] - 0s 1ms/step - loss: 0.4198 - val_loss: 0.3456\n",
      "Epoch 84/1000\n",
      "24/24 [==============================] - 0s 1ms/step - loss: 0.4820 - val_loss: 0.6169\n",
      "Epoch 85/1000\n",
      "24/24 [==============================] - 0s 1ms/step - loss: 0.4642 - val_loss: 0.5676\n",
      "Epoch 86/1000\n",
      "24/24 [==============================] - 0s 973us/step - loss: 0.7765 - val_loss: 0.4177\n",
      "Epoch 87/1000\n",
      "24/24 [==============================] - 0s 987us/step - loss: 0.5057 - val_loss: 0.4407\n",
      "Epoch 88/1000\n",
      "24/24 [==============================] - 0s 1ms/step - loss: 0.3834 - val_loss: 0.3519\n",
      "Epoch 89/1000\n",
      "24/24 [==============================] - 0s 982us/step - loss: 0.5227 - val_loss: 0.4889\n",
      "Epoch 90/1000\n",
      "24/24 [==============================] - 0s 1ms/step - loss: 0.6106 - val_loss: 0.6216\n",
      "Epoch 91/1000\n",
      "24/24 [==============================] - 0s 1ms/step - loss: 0.5605 - val_loss: 0.4733\n",
      "Epoch 92/1000\n",
      "24/24 [==============================] - 0s 959us/step - loss: 0.6024 - val_loss: 0.5238\n",
      "Epoch 93/1000\n",
      "24/24 [==============================] - 0s 995us/step - loss: 0.3605 - val_loss: 0.3897\n",
      "Epoch 94/1000\n",
      "24/24 [==============================] - 0s 999us/step - loss: 0.4645 - val_loss: 0.3812\n",
      "Epoch 95/1000\n",
      "24/24 [==============================] - 0s 988us/step - loss: 0.5543 - val_loss: 0.3506\n",
      "Epoch 96/1000\n",
      "24/24 [==============================] - 0s 1ms/step - loss: 0.4570 - val_loss: 0.5759\n",
      "Epoch 97/1000\n",
      "24/24 [==============================] - 0s 996us/step - loss: 0.5103 - val_loss: 0.5610\n",
      "Epoch 98/1000\n",
      "24/24 [==============================] - 0s 983us/step - loss: 0.4169 - val_loss: 0.4214\n",
      "Epoch 99/1000\n",
      "24/24 [==============================] - 0s 1ms/step - loss: 0.4400 - val_loss: 0.3982\n",
      "Epoch 100/1000\n",
      "24/24 [==============================] - 0s 994us/step - loss: 0.4039 - val_loss: 0.5273\n",
      "Epoch 101/1000\n",
      "24/24 [==============================] - 0s 1ms/step - loss: 0.4051 - val_loss: 0.5430\n",
      "Epoch 102/1000\n",
      "24/24 [==============================] - 0s 1ms/step - loss: 0.4061 - val_loss: 0.3048\n",
      "Epoch 103/1000\n",
      "24/24 [==============================] - 0s 1ms/step - loss: 0.6775 - val_loss: 0.4720\n",
      "Epoch 104/1000\n",
      "24/24 [==============================] - 0s 1ms/step - loss: 0.2697 - val_loss: 0.3573\n",
      "Epoch 105/1000\n",
      "24/24 [==============================] - 0s 1ms/step - loss: 0.4530 - val_loss: 0.5689\n",
      "Epoch 106/1000\n",
      "24/24 [==============================] - 0s 1ms/step - loss: 0.5978 - val_loss: 0.4082\n",
      "Epoch 107/1000\n",
      "24/24 [==============================] - 0s 1ms/step - loss: 0.3839 - val_loss: 0.3359\n",
      "Epoch 108/1000\n",
      "24/24 [==============================] - 0s 1ms/step - loss: 0.4112 - val_loss: 0.6055\n",
      "Epoch 109/1000\n",
      "24/24 [==============================] - 0s 1ms/step - loss: 0.4536 - val_loss: 0.6146\n",
      "Epoch 110/1000\n",
      "24/24 [==============================] - 0s 1ms/step - loss: 0.3175 - val_loss: 0.3473\n",
      "Epoch 111/1000\n",
      "24/24 [==============================] - 0s 1ms/step - loss: 0.3497 - val_loss: 0.4282\n",
      "Epoch 112/1000\n",
      "24/24 [==============================] - 0s 1ms/step - loss: 0.4041 - val_loss: 0.3143\n",
      "Epoch 113/1000\n",
      "24/24 [==============================] - 0s 1ms/step - loss: 0.5835 - val_loss: 0.5452\n",
      "Epoch 114/1000\n",
      "24/24 [==============================] - 0s 1ms/step - loss: 0.4889 - val_loss: 0.2016\n",
      "Epoch 115/1000\n",
      "24/24 [==============================] - 0s 1ms/step - loss: 0.3691 - val_loss: 0.5252\n",
      "Epoch 116/1000\n",
      "24/24 [==============================] - 0s 1ms/step - loss: 0.5622 - val_loss: 0.2303\n",
      "Epoch 117/1000\n",
      "24/24 [==============================] - 0s 1ms/step - loss: 0.4231 - val_loss: 0.2954\n",
      "Epoch 118/1000\n",
      "24/24 [==============================] - 0s 1ms/step - loss: 0.3500 - val_loss: 0.2837\n",
      "Epoch 119/1000\n",
      "24/24 [==============================] - 0s 1ms/step - loss: 0.3073 - val_loss: 0.3380\n",
      "Epoch 120/1000\n",
      "24/24 [==============================] - 0s 1ms/step - loss: 0.3281 - val_loss: 0.3964\n",
      "Epoch 121/1000\n",
      "24/24 [==============================] - 0s 1ms/step - loss: 0.2849 - val_loss: 0.3887\n",
      "Epoch 122/1000\n",
      "24/24 [==============================] - 0s 1ms/step - loss: 0.3565 - val_loss: 0.1925\n",
      "Epoch 123/1000\n",
      "24/24 [==============================] - 0s 1ms/step - loss: 0.3284 - val_loss: 0.3770\n",
      "Epoch 124/1000\n",
      "24/24 [==============================] - 0s 1ms/step - loss: 0.2795 - val_loss: 0.3460\n",
      "Epoch 125/1000\n",
      "24/24 [==============================] - 0s 1ms/step - loss: 0.2890 - val_loss: 0.2517\n",
      "Epoch 126/1000\n",
      "24/24 [==============================] - 0s 1ms/step - loss: 0.5237 - val_loss: 0.2620\n",
      "Epoch 127/1000\n",
      "24/24 [==============================] - 0s 1ms/step - loss: 0.5413 - val_loss: 0.3389\n",
      "Epoch 128/1000\n",
      "24/24 [==============================] - 0s 1ms/step - loss: 0.3808 - val_loss: 0.2567\n",
      "Epoch 129/1000\n",
      "24/24 [==============================] - 0s 1ms/step - loss: 0.5598 - val_loss: 0.6692\n",
      "Epoch 130/1000\n",
      "24/24 [==============================] - 0s 1ms/step - loss: 0.3757 - val_loss: 0.4987\n",
      "Epoch 131/1000\n",
      "24/24 [==============================] - 0s 1ms/step - loss: 0.4267 - val_loss: 0.2306\n",
      "Epoch 132/1000\n",
      "24/24 [==============================] - 0s 1ms/step - loss: 0.2221 - val_loss: 0.2237\n",
      "Epoch 133/1000\n",
      "24/24 [==============================] - 0s 1ms/step - loss: 0.3738 - val_loss: 0.2700\n",
      "Epoch 134/1000\n",
      "24/24 [==============================] - 0s 1ms/step - loss: 0.3176 - val_loss: 0.2384\n",
      "Epoch 135/1000\n",
      "24/24 [==============================] - 0s 1ms/step - loss: 0.2747 - val_loss: 0.1974\n",
      "Epoch 136/1000\n",
      "24/24 [==============================] - 0s 1ms/step - loss: 0.2924 - val_loss: 0.2939\n",
      "Epoch 137/1000\n",
      "24/24 [==============================] - 0s 1ms/step - loss: 0.2360 - val_loss: 0.3737\n",
      "Epoch 138/1000\n",
      "24/24 [==============================] - 0s 1ms/step - loss: 0.4885 - val_loss: 0.3352\n",
      "Epoch 139/1000\n",
      "24/24 [==============================] - 0s 1ms/step - loss: 0.3435 - val_loss: 0.2156\n",
      "Epoch 140/1000\n",
      "24/24 [==============================] - 0s 995us/step - loss: 0.4051 - val_loss: 0.1903\n",
      "Epoch 141/1000\n",
      "24/24 [==============================] - 0s 968us/step - loss: 0.4202 - val_loss: 0.5586\n",
      "Epoch 142/1000\n",
      "24/24 [==============================] - 0s 1ms/step - loss: 0.6914 - val_loss: 0.1380\n",
      "Epoch 143/1000\n",
      "24/24 [==============================] - 0s 1ms/step - loss: 0.3847 - val_loss: 0.2971\n",
      "Epoch 144/1000\n",
      "24/24 [==============================] - 0s 1ms/step - loss: 0.4542 - val_loss: 0.4175\n",
      "Epoch 145/1000\n",
      "24/24 [==============================] - 0s 985us/step - loss: 0.2624 - val_loss: 0.2397\n",
      "Epoch 146/1000\n",
      "24/24 [==============================] - 0s 988us/step - loss: 0.4656 - val_loss: 0.2715\n",
      "Epoch 147/1000\n",
      "24/24 [==============================] - 0s 1ms/step - loss: 0.1820 - val_loss: 0.1297\n",
      "Epoch 148/1000\n",
      "24/24 [==============================] - 0s 1ms/step - loss: 0.3424 - val_loss: 0.2718\n",
      "Epoch 149/1000\n",
      "24/24 [==============================] - 0s 1ms/step - loss: 0.2689 - val_loss: 0.2334\n",
      "Epoch 150/1000\n",
      "24/24 [==============================] - 0s 1ms/step - loss: 0.2842 - val_loss: 0.2921\n",
      "Epoch 151/1000\n",
      "24/24 [==============================] - 0s 974us/step - loss: 0.3954 - val_loss: 0.2446\n",
      "Epoch 152/1000\n",
      "24/24 [==============================] - 0s 1ms/step - loss: 0.2194 - val_loss: 0.2497\n",
      "Epoch 153/1000\n",
      "24/24 [==============================] - 0s 1ms/step - loss: 0.2816 - val_loss: 0.1750\n",
      "Epoch 154/1000\n",
      "24/24 [==============================] - 0s 998us/step - loss: 0.1388 - val_loss: 0.3589\n",
      "Epoch 155/1000\n",
      "24/24 [==============================] - 0s 1ms/step - loss: 0.2286 - val_loss: 0.1792\n",
      "Epoch 156/1000\n",
      "24/24 [==============================] - 0s 1ms/step - loss: 0.2448 - val_loss: 0.2193\n",
      "Epoch 157/1000\n",
      "24/24 [==============================] - 0s 1ms/step - loss: 0.3968 - val_loss: 0.7410\n",
      "Epoch 158/1000\n",
      "24/24 [==============================] - 0s 1ms/step - loss: 0.4575 - val_loss: 0.4941\n",
      "Epoch 159/1000\n",
      "24/24 [==============================] - 0s 1ms/step - loss: 0.3894 - val_loss: 0.2774\n",
      "Epoch 160/1000\n",
      "24/24 [==============================] - 0s 1ms/step - loss: 0.2029 - val_loss: 0.5592\n",
      "Epoch 161/1000\n"
     ]
    },
    {
     "name": "stdout",
     "output_type": "stream",
     "text": [
      "24/24 [==============================] - 0s 1ms/step - loss: 0.2564 - val_loss: 0.3884\n",
      "Epoch 162/1000\n",
      "24/24 [==============================] - 0s 1ms/step - loss: 0.3843 - val_loss: 0.4720\n",
      "Epoch 163/1000\n",
      "24/24 [==============================] - 0s 1ms/step - loss: 0.3351 - val_loss: 0.1457\n",
      "Epoch 164/1000\n",
      "24/24 [==============================] - 0s 1ms/step - loss: 0.2200 - val_loss: 0.4819\n",
      "Epoch 165/1000\n",
      "24/24 [==============================] - 0s 1ms/step - loss: 0.3073 - val_loss: 0.4719\n",
      "Epoch 166/1000\n",
      "24/24 [==============================] - 0s 1ms/step - loss: 0.2092 - val_loss: 0.2130\n",
      "Epoch 167/1000\n",
      "24/24 [==============================] - 0s 1ms/step - loss: 0.3362 - val_loss: 0.2265\n"
     ]
    }
   ],
   "source": [
    "model_train = neural_model.fit(z_train, dl_train, batch_size=batch_size,\n",
    "                                    epochs=epochs,verbose=1,\n",
    "                                    validation_data=(z_test, dl_test),\n",
    "                                    callbacks=callbacks)"
   ]
  },
  {
   "cell_type": "code",
   "execution_count": 30,
   "metadata": {},
   "outputs": [
    {
     "data": {
      "image/png": "[encoded data removed]",
      "text/plain": [
       "<Figure size 432x288 with 1 Axes>"
      ]
     },
     "metadata": {
      "needs_background": "light"
     },
     "output_type": "display_data"
    }
   ],
   "source": [
    "plt.plot(model_train.history['loss'], color='r', )\n",
    "plt.plot(model_train.history['val_loss'], color='g')\n",
    "plt.ylabel('MSE')\n",
    "plt.xlabel('Epoch')\n",
    "plt.legend(['train', 'val'], loc='upper left')\n",
    "plt.savefig(\"loss_dlbinnedJla.png\", dpi=200)"
   ]
  },
  {
   "cell_type": "code",
   "execution_count": 31,
   "metadata": {},
   "outputs": [
    {
     "data": {
      "text/plain": [
       "(0.3600966422843696, 0.1388428956270218, 0.12966959178447723)"
      ]
     },
     "execution_count": 31,
     "metadata": {},
     "output_type": "execute_result"
    }
   ],
   "source": [
    "unet = np.sqrt(np.min(model_train.history['val_loss']))\n",
    "unet, np.min(model_train.history['loss']), np.min(model_train.history['val_loss'])"
   ]
  },
  {
   "cell_type": "code",
   "execution_count": 32,
   "metadata": {},
   "outputs": [],
   "source": [
    "# pred = neural_model.predict(z_test)\n",
    "# pred"
   ]
  },
  {
   "cell_type": "code",
   "execution_count": 33,
   "metadata": {},
   "outputs": [],
   "source": [
    "# ranz = np.random.uniform(np.min(z), np.max(z), size=31)\n",
    "ranz = np.linspace(np.min(z), np.max(z), 31)\n",
    "ranzz = scalerz.transform(ranz.reshape((-1,1)))\n",
    "\n",
    "# ranzinv = scalerz.transform(ranz.reshape(-1,1))\n",
    "\n",
    "pred_random = neural_model.predict(ranzz)\n",
    "# pred_random"
   ]
  },
  {
   "cell_type": "code",
   "execution_count": 34,
   "metadata": {},
   "outputs": [],
   "source": [
    "# recover z\n",
    "# z = scalerz.inverse_transform(z)"
   ]
  },
  {
   "cell_type": "markdown",
   "metadata": {},
   "source": [
    "### Now we use randz (fake z) as inpute of the decoder neural netkork. But it is worth to make a mapping\n",
    "\n",
    "$z_{original} \\rightarrow encoded_{vals} \\implies z_{original} \\alpha =  encoded_{vals} \\implies \\alpha = \\frac{encoded}{z_{original}}$\n",
    "\n",
    "So, for fake z:\n",
    "\n",
    "$encoded_{fake} = \\alpha z_{fake}$\n",
    "\n"
   ]
  },
  {
   "cell_type": "code",
   "execution_count": 35,
   "metadata": {},
   "outputs": [],
   "source": [
    "fake_encoded = np.zeros((1, 31))"
   ]
  },
  {
   "cell_type": "code",
   "execution_count": 36,
   "metadata": {},
   "outputs": [
    {
     "name": "stdout",
     "output_type": "stream",
     "text": [
      "(1, 31)\n",
      "(31,)\n",
      "(200, 31)\n"
     ]
    }
   ],
   "source": [
    "print(np.shape(fake_encoded))\n",
    "avg_encoded = np.mean(encoded_imgs, axis=0)\n",
    "print(np.shape(avg_encoded))\n",
    "print(np.shape(encoded_imgs))\n"
   ]
  },
  {
   "cell_type": "code",
   "execution_count": 37,
   "metadata": {},
   "outputs": [],
   "source": [
    "for i, avg in enumerate(avg_encoded):\n",
    "    alpha = avg/zz[i]\n",
    "    fake_encoded[0, i] = alpha * ranzz[i]"
   ]
  },
  {
   "cell_type": "code",
   "execution_count": 38,
   "metadata": {},
   "outputs": [
    {
     "data": {
      "text/plain": [
       "(1, 961)"
      ]
     },
     "execution_count": 38,
     "metadata": {},
     "output_type": "execute_result"
    }
   ],
   "source": [
    "decoded_fake = decoder.predict(fake_encoded)\n",
    "np.shape(decoded_fake)"
   ]
  },
  {
   "cell_type": "code",
   "execution_count": 39,
   "metadata": {},
   "outputs": [],
   "source": [
    "# decoded_fake[0, :]"
   ]
  },
  {
   "cell_type": "code",
   "execution_count": 40,
   "metadata": {},
   "outputs": [
    {
     "data": {
      "text/plain": [
       "2.5769987e-07"
      ]
     },
     "execution_count": 40,
     "metadata": {},
     "output_type": "execute_result"
    },
    {
     "data": {
      "image/png": "[encoded data removed]",
      "text/plain": [
       "<Figure size 432x288 with 2 Axes>"
      ]
     },
     "metadata": {
      "needs_background": "light"
     },
     "output_type": "display_data"
    }
   ],
   "source": [
    "sns.heatmap(pd.DataFrame(decoded_fake[0, :].reshape(31,31)), \n",
    "            fmt='g', xticklabels=False, yticklabels=False, \n",
    "            cmap = 'inferno', \n",
    "            robust=False)\n",
    "\n",
    "clean_img = autoencoder.predict(decoded_fake[0, :].reshape(1,-1))\n",
    "plt.savefig('fake_cov_jla.png', dpi=200)\n",
    "np.min(np.abs(decoded_fake[0, :]))"
   ]
  },
  {
   "cell_type": "code",
   "execution_count": 41,
   "metadata": {},
   "outputs": [
    {
     "name": "stdout",
     "output_type": "stream",
     "text": [
      "-0.01084098704 0.02815552265 0.00039265133851975654\n",
      "-0.01127965 0.02788669 0.00039905828\n",
      "-0.011286785 0.02788388 0.00039894285\n"
     ]
    },
    {
     "data": {
      "image/png": "[encoded data removed]",
      "text/plain": [
       "<Figure size 432x288 with 2 Axes>"
      ]
     },
     "metadata": {
      "needs_background": "light"
     },
     "output_type": "display_data"
    }
   ],
   "source": [
    "clean_img = autoencoder.predict(decoded_fake[0, :].reshape(1,-1))\n",
    "sns.heatmap(pd.DataFrame(clean_img[0, :].reshape(31,31)), \n",
    "            fmt='g', xticklabels=False, yticklabels=False, \n",
    "            cmap = 'inferno', \n",
    "            robust=False)\n",
    "plt.savefig('fake_cov_clean_jla.png', dpi=200)\n",
    "np.min(np.abs(clean_img[0, :]))\n",
    "\n",
    "print(np.min(syscov), np.max(syscov), np.mean(syscov)) #checking non-negatives in the diagonal\n",
    "print(np.min(decoded_fake[0,:]), np.max(decoded_fake[0,:]), np.mean(decoded_fake[0,:])) #checking non-negatives in the diagonal\n",
    "print(np.min(clean_img[0,:]), np.max(clean_img[0,:]), np.mean(clean_img[0,:])) #checking non-negatives in the diagonal\n",
    "\n"
   ]
  },
  {
   "cell_type": "code",
   "execution_count": 42,
   "metadata": {},
   "outputs": [],
   "source": [
    "np.savetxt(\"fake_binned_JLA_COVdecoded.dat\", decoded_fake[0, :].reshape(31,31), delimiter= \" \", header=\"#fake COV\")\n",
    "np.savetxt(\"fake_binned_JLA_COVdecodedclean.dat\", clean_img[0, :].reshape(31,31), delimiter= \" \", header=\"#fake COV\")"
   ]
  },
  {
   "cell_type": "code",
   "execution_count": 43,
   "metadata": {},
   "outputs": [
    {
     "data": {
      "text/plain": [
       "465"
      ]
     },
     "execution_count": 43,
     "metadata": {},
     "output_type": "execute_result"
    }
   ],
   "source": [
    "count = 0\n",
    "new_cov =decoded_fake[0, :].reshape(31,31)\n",
    "\n",
    "for i in range(len(new_cov)):\n",
    "    for j in range(len(new_cov)):\n",
    "        if np.iscomplex(new_cov[i,j]):\n",
    "            print(\"COMPLEX\")\n",
    "        if new_cov[i,j] != new_cov[j,i]:\n",
    "#             print(i,j, end=' ')\n",
    "#             print(new_cov[i,j], new_cov[j,i]) \n",
    "            count+=1\n",
    "            new_cov[j,i] = new_cov[i, j]\n",
    "\n",
    "count"
   ]
  },
  {
   "cell_type": "code",
   "execution_count": 44,
   "metadata": {},
   "outputs": [],
   "source": [
    "np.savetxt(\"fake_binned_JLA_COVdecodedsim.dat\", new_cov, delimiter= \" \", header=\"#fake COV\")"
   ]
  },
  {
   "cell_type": "code",
   "execution_count": 45,
   "metadata": {},
   "outputs": [
    {
     "data": {
      "text/plain": [
       "<matplotlib.axes._subplots.AxesSubplot at 0x7fd9b8267b70>"
      ]
     },
     "execution_count": 45,
     "metadata": {},
     "output_type": "execute_result"
    },
    {
     "data": {
      "image/png": "[encoded data removed]",
      "text/plain": [
       "<Figure size 432x288 with 2 Axes>"
      ]
     },
     "metadata": {
      "needs_background": "light"
     },
     "output_type": "display_data"
    }
   ],
   "source": [
    "sns.heatmap(pd.DataFrame(new_cov), fmt='g', xticklabels=False, yticklabels=False, \n",
    "            cmap = 'inferno', \n",
    "            robust=False)"
   ]
  },
  {
   "cell_type": "code",
   "execution_count": 46,
   "metadata": {},
   "outputs": [],
   "source": [
    "fake_data = np.concatenate((ranz.reshape(-1,1), pred_random), axis=1)\n",
    "np.savetxt(\"fake_binned_JLA.dat\",  fake_data, delimiter= \" \", header=\"#fake data\\n# z\\n# mu\")"
   ]
  },
  {
   "cell_type": "code",
   "execution_count": 47,
   "metadata": {},
   "outputs": [],
   "source": [
    "errors = np.sqrt(np.abs(np.diagonal(syscov)))\n",
    "fakeerrors = np.sqrt(np.abs(np.diagonal(decoded_fake.reshape(31,31))))"
   ]
  },
  {
   "cell_type": "code",
   "execution_count": 48,
   "metadata": {},
   "outputs": [
    {
     "data": {
      "text/plain": [
       "<matplotlib.collections.PathCollection at 0x7fd9d8160b38>"
      ]
     },
     "execution_count": 48,
     "metadata": {},
     "output_type": "execute_result"
    },
    {
     "data": {
      "image/png": "[encoded data removed]",
      "text/plain": [
       "<Figure size 432x288 with 1 Axes>"
      ]
     },
     "metadata": {
      "needs_background": "light"
     },
     "output_type": "display_data"
    }
   ],
   "source": [
    "plt.scatter(ranz, pred_random)"
   ]
  },
  {
   "cell_type": "code",
   "execution_count": 49,
   "metadata": {},
   "outputs": [
    {
     "data": {
      "text/plain": [
       "<matplotlib.legend.Legend at 0x7fd9b856ac50>"
      ]
     },
     "execution_count": 49,
     "metadata": {},
     "output_type": "execute_result"
    },
    {
     "data": {
      "image/png": "[encoded data removed]",
      "text/plain": [
       "<Figure size 432x288 with 1 Axes>"
      ]
     },
     "metadata": {
      "needs_background": "light"
     },
     "output_type": "display_data"
    }
   ],
   "source": [
    "plt.errorbar(z, dl, yerr=errors, fmt='g.', markersize=10, label='Observations')\n",
    "plt.errorbar(ranz, pred_random, \n",
    "             yerr=fakeerrors, fmt='r.', markersize=10., label='Synthetic data with errors')\n",
    "\n",
    "# plt.plot(z, Hlcdm(z), label='$\\Lambda CDM$ $H_0 = 73.24$', c='k')\n",
    "# plt.plot(z, Hlcdm(z, H0=67.4), label='$\\Lambda CDM$ $H_0 = 67.4$', c='b')\n",
    "plt.xlabel(\"Redshift z\")\n",
    "plt.ylabel(\"$D_L(z)$\")\n",
    "plt.xlim(0, np.max(z))\n",
    "plt.tight_layout()\n",
    "plt.legend()\n",
    "# plt.savefig('fake_vs_binned_jla.png', dpi=200)"
   ]
  },
  {
   "cell_type": "code",
   "execution_count": 50,
   "metadata": {},
   "outputs": [
    {
     "data": {
      "text/plain": [
       "<seaborn.axisgrid.PairGrid at 0x7fd9b873c898>"
      ]
     },
     "execution_count": 50,
     "metadata": {},
     "output_type": "execute_result"
    },
    {
     "data": {
      "image/png": "[encoded data removed]",
      "text/plain": [
       "<Figure size 360x360 with 6 Axes>"
      ]
     },
     "metadata": {
      "needs_background": "light"
     },
     "output_type": "display_data"
    }
   ],
   "source": [
    "fake_datadf = pd.DataFrame(fake_data, columns=['z', '$D_L$'])\n",
    "sns.pairplot(fake_datadf, diag_kind=\"kde\")\n",
    "# plt.savefig('fake_binned_jla.png')"
   ]
  },
  {
   "cell_type": "code",
   "execution_count": null,
   "metadata": {},
   "outputs": [],
   "source": []
  },
  {
   "cell_type": "code",
   "execution_count": null,
   "metadata": {},
   "outputs": [],
   "source": []
  },
  {
   "cell_type": "code",
   "execution_count": null,
   "metadata": {},
   "outputs": [],
   "source": []
  }
 ],
 "metadata": {
  "kernelspec": {
   "display_name": "Python 3",
   "language": "python",
   "name": "python3"
  },
  "language_info": {
   "codemirror_mode": {
    "name": "ipython",
    "version": 3
   },
   "file_extension": ".py",
   "mimetype": "text/x-python",
   "name": "python",
   "nbconvert_exporter": "python",
   "pygments_lexer": "ipython3",
   "version": "3.6.9"
  }
 },
 "nbformat": 4,
 "nbformat_minor": 2
}
