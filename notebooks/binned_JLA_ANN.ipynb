{
 "cells": [
  {
   "cell_type": "code",
   "execution_count": 1,
   "metadata": {},
   "outputs": [],
   "source": [
    "import numpy as np\n",
    "import tensorflow as tf\n",
    "import pandas as pd\n",
    "from sklearn.preprocessing import StandardScaler, MinMaxScaler\n",
    "from matplotlib import pyplot as plt\n",
    "import seaborn as sns\n",
    "import scipy as sp\n",
    "from tensorflow.keras.models import Model\n",
    "from tensorflow.keras.layers import Input,Conv2D,MaxPooling2D,UpSampling2D, Dense\n",
    "from tensorflow.keras.callbacks import TensorBoard\n",
    "from tensorflow.keras import regularizers\n",
    "from tensorflow.keras import layers"
   ]
  },
  {
   "cell_type": "markdown",
   "metadata": {},
   "source": [
    "### In this notebook, we use a compressed version of JLA compilation\n",
    "#### First, we need to read the data. In this case, we use the covariance matrix of systematic errors "
   ]
  },
  {
   "cell_type": "code",
   "execution_count": 2,
   "metadata": {},
   "outputs": [],
   "source": [
    "syscov = np.loadtxt('https://raw.githubusercontent.com/igomezv/neuralCosmoReconstruction/master/data/cov_jla_binned_distances_31nodes_v1.txt?token=AGNUJUJSMOYE4Q2IXMWP26K7SC47M',skiprows=1).reshape((31,31))\n",
    "# syscov = np.loadtxt('data/jla_v0_covmatrix.dat',skiprows=1).reshape((740,740))"
   ]
  },
  {
   "cell_type": "markdown",
   "metadata": {},
   "source": [
    "### Verify that there ar not complex numbers and that the matrix is symmetrical"
   ]
  },
  {
   "cell_type": "code",
   "execution_count": 3,
   "metadata": {},
   "outputs": [
    {
     "data": {
      "text/plain": [
       "0"
      ]
     },
     "execution_count": 3,
     "metadata": {},
     "output_type": "execute_result"
    }
   ],
   "source": [
    "count = 0\n",
    "\n",
    "for i in range(len(syscov)):\n",
    "    for j in range(len(syscov)):\n",
    "        if np.iscomplex(syscov[i,j]):\n",
    "            print(\"COMPLEX\")\n",
    "        if syscov[i,j] != syscov[j,i]:\n",
    "#             print(i,j)\n",
    "#             print(syscov[i,j], syscov[j,i]) \n",
    "            count+=1\n",
    "            syscov[j,i] = syscov[i, j]\n",
    "\n",
    "count"
   ]
  },
  {
   "cell_type": "markdown",
   "metadata": {},
   "source": [
    "### Visualization of the covariance matrix:"
   ]
  },
  {
   "cell_type": "code",
   "execution_count": 4,
   "metadata": {},
   "outputs": [
    {
     "data": {
      "text/plain": [
       "<matplotlib.image.AxesImage at 0x7faa766a7358>"
      ]
     },
     "execution_count": 4,
     "metadata": {},
     "output_type": "execute_result"
    },
    {
     "data": {
      "image/png": "[encoded data removed]",
      "text/plain": [
       "<Figure size 432x288 with 1 Axes>"
      ]
     },
     "metadata": {
      "needs_background": "light"
     },
     "output_type": "display_data"
    }
   ],
   "source": [
    "plt.imshow(syscov)\n"
   ]
  },
  {
   "cell_type": "code",
   "execution_count": 5,
   "metadata": {},
   "outputs": [
    {
     "data": {
      "image/png": "[encoded data removed]",
      "text/plain": [
       "<Figure size 432x288 with 2 Axes>"
      ]
     },
     "metadata": {
      "needs_background": "light"
     },
     "output_type": "display_data"
    }
   ],
   "source": [
    "sns.heatmap(pd.DataFrame(syscov), annot=False, fmt='g', xticklabels=False, yticklabels=False, \n",
    "            cmap = 'inferno')\n",
    "plt.savefig(\"original_cov_binned_JLA.png\", dpi=200)"
   ]
  },
  {
   "cell_type": "code",
   "execution_count": 6,
   "metadata": {},
   "outputs": [
    {
     "data": {
      "text/plain": [
       "(-0.01084098704, 0.02815552265)"
      ]
     },
     "execution_count": 6,
     "metadata": {},
     "output_type": "execute_result"
    }
   ],
   "source": [
    "np.min(syscov), np.max(syscov) #checking non-negatives in the diagonal"
   ]
  },
  {
   "cell_type": "markdown",
   "metadata": {},
   "source": [
    "### Generate a data set with covariance matrix from the original plus gaussian noise"
   ]
  },
  {
   "cell_type": "code",
   "execution_count": 7,
   "metadata": {},
   "outputs": [
    {
     "name": "stdout",
     "output_type": "stream",
     "text": [
      "\r",
      " Generating 1 matrix \r",
      " Generating 2 matrix \r",
      " Generating 3 matrix \r",
      " Generating 4 matrix \r",
      " Generating 5 matrix \r",
      " Generating 6 matrix \r",
      " Generating 7 matrix \r",
      " Generating 8 matrix \r",
      " Generating 9 matrix \r",
      " Generating 10 matrix \r",
      " Generating 11 matrix \r",
      " Generating 12 matrix \r",
      " Generating 13 matrix \r",
      " Generating 14 matrix \r",
      " Generating 15 matrix \r",
      " Generating 16 matrix \r",
      " Generating 17 matrix \r",
      " Generating 18 matrix \r",
      " Generating 19 matrix \r",
      " Generating 20 matrix \r",
      " Generating 21 matrix \r",
      " Generating 22 matrix \r",
      " Generating 23 matrix \r",
      " Generating 24 matrix \r",
      " Generating 25 matrix \r",
      " Generating 26 matrix \r",
      " Generating 27 matrix \r",
      " Generating 28 matrix \r",
      " Generating 29 matrix \r",
      " Generating 30 matrix \r",
      " Generating 31 matrix \r",
      " Generating 32 matrix \r",
      " Generating 33 matrix \r",
      " Generating 34 matrix \r",
      " Generating 35 matrix \r",
      " Generating 36 matrix \r",
      " Generating 37 matrix \r",
      " Generating 38 matrix \r",
      " Generating 39 matrix \r",
      " Generating 40 matrix \r",
      " Generating 41 matrix \r",
      " Generating 42 matrix \r",
      " Generating 43 matrix \r",
      " Generating 44 matrix \r",
      " Generating 45 matrix \r",
      " Generating 46 matrix \r",
      " Generating 47 matrix \r",
      " Generating 48 matrix \r",
      " Generating 49 matrix \r",
      " Generating 50 matrix \r",
      " Generating 51 matrix \r",
      " Generating 52 matrix \r",
      " Generating 53 matrix \r",
      " Generating 54 matrix \r",
      " Generating 55 matrix \r",
      " Generating 56 matrix \r",
      " Generating 57 matrix \r",
      " Generating 58 matrix \r",
      " Generating 59 matrix \r",
      " Generating 60 matrix \r",
      " Generating 61 matrix \r",
      " Generating 62 matrix \r",
      " Generating 63 matrix \r",
      " Generating 64 matrix \r",
      " Generating 65 matrix \r",
      " Generating 66 matrix \r",
      " Generating 67 matrix \r",
      " Generating 68 matrix \r",
      " Generating 69 matrix \r",
      " Generating 70 matrix \r",
      " Generating 71 matrix \r",
      " Generating 72 matrix \r",
      " Generating 73 matrix \r",
      " Generating 74 matrix \r",
      " Generating 75 matrix \r",
      " Generating 76 matrix \r",
      " Generating 77 matrix \r",
      " Generating 78 matrix \r",
      " Generating 79 matrix \r",
      " Generating 80 matrix \r",
      " Generating 81 matrix \r",
      " Generating 82 matrix \r",
      " Generating 83 matrix \r",
      " Generating 84 matrix \r",
      " Generating 85 matrix \r",
      " Generating 86 matrix \r",
      " Generating 87 matrix \r",
      " Generating 88 matrix \r",
      " Generating 89 matrix \r",
      " Generating 90 matrix \r",
      " Generating 91 matrix \r",
      " Generating 92 matrix \r",
      " Generating 93 matrix \r",
      " Generating 94 matrix \r",
      " Generating 95 matrix \r",
      " Generating 96 matrix \r",
      " Generating 97 matrix \r",
      " Generating 98 matrix \r",
      " Generating 99 matrix \r",
      " Generating 100 matrix "
     ]
    }
   ],
   "source": [
    "numMatrix = 100\n",
    "noise_factor = 1e-2\n",
    "covset = np.zeros((numMatrix, 31, 31))\n",
    "for i in range(numMatrix): \n",
    "    print(\"\\r Generating {} matrix\".format(i+1), end=\" \")\n",
    "    covset[i] = syscov  + noise_factor * np.random.normal(loc=0.0, scale=0.01, size=syscov.shape) \n",
    "#     fig = plt.figure(figsize=(6,6))\n",
    "#     sns.heatmap(pd.DataFrame(pset[i]*maxval), \n",
    "#             fmt='g', xticklabels=False, yticklabels=False, \n",
    "#             cmap = 'inferno', cbar=False,\n",
    "#             robust=False)\n",
    "#     fig.savefig('image/covMatrix_{}.png'.format(i), dpi=300, )\n",
    "#     plt.clf()"
   ]
  },
  {
   "cell_type": "code",
   "execution_count": 8,
   "metadata": {},
   "outputs": [
    {
     "data": {
      "text/plain": [
       "<matplotlib.axes._subplots.AxesSubplot at 0x7faa76694940>"
      ]
     },
     "execution_count": 8,
     "metadata": {},
     "output_type": "execute_result"
    },
    {
     "data": {
      "image/png": "[encoded data removed]",
      "text/plain": [
       "<Figure size 432x288 with 2 Axes>"
      ]
     },
     "metadata": {
      "needs_background": "light"
     },
     "output_type": "display_data"
    }
   ],
   "source": [
    "sns.heatmap(pd.DataFrame(covset[i]), \n",
    "        fmt='g', xticklabels=False, yticklabels=False, \n",
    "        cmap = 'inferno', cbar=True,\n",
    "        robust=False)"
   ]
  },
  {
   "cell_type": "code",
   "execution_count": 9,
   "metadata": {},
   "outputs": [
    {
     "name": "stdout",
     "output_type": "stream",
     "text": [
      "(100, 31, 31)\n"
     ]
    }
   ],
   "source": [
    "print(np.shape(covset))"
   ]
  },
  {
   "cell_type": "code",
   "execution_count": 10,
   "metadata": {},
   "outputs": [
    {
     "name": "stdout",
     "output_type": "stream",
     "text": [
      "(100, 31, 31)\n"
     ]
    },
    {
     "data": {
      "image/png": "[encoded data removed]",
      "text/plain": [
       "<Figure size 432x288 with 2 Axes>"
      ]
     },
     "metadata": {
      "needs_background": "light"
     },
     "output_type": "display_data"
    }
   ],
   "source": [
    "print(np.shape(covset))\n",
    "split = 0.8\n",
    "ntrain = int(split * numMatrix)\n",
    "indx = [ntrain]\n",
    "covset_train, covset_test = np.split(covset, indx, axis=0)\n",
    "\n",
    "sns.heatmap(pd.DataFrame(covset_test[0]), \n",
    "        fmt='g', xticklabels=False, yticklabels=False, \n",
    "        cmap = 'inferno', cbar=True,\n",
    "        robust=False)\n",
    "covset_train = covset_train.reshape((len(covset_train), np.prod(covset_train.shape[1:])))\n",
    "covset_test = covset_test.reshape((len(covset_test), np.prod(covset_test.shape[1:])))\n"
   ]
  },
  {
   "cell_type": "code",
   "execution_count": 11,
   "metadata": {},
   "outputs": [
    {
     "name": "stdout",
     "output_type": "stream",
     "text": [
      "Model: \"functional_1\"\n",
      "_________________________________________________________________\n",
      "Layer (type)                 Output Shape              Param #   \n",
      "=================================================================\n",
      "input_1 (InputLayer)         [(None, 961)]             0         \n",
      "_________________________________________________________________\n",
      "dense (Dense)                (None, 100)               96200     \n",
      "_________________________________________________________________\n",
      "dense_1 (Dense)              (None, 31)                3131      \n",
      "_________________________________________________________________\n",
      "dense_3 (Dense)              (None, 961)               30752     \n",
      "=================================================================\n",
      "Total params: 130,083\n",
      "Trainable params: 130,083\n",
      "Non-trainable params: 0\n",
      "_________________________________________________________________\n"
     ]
    }
   ],
   "source": [
    "# input_cov = Input(shape=(31, 31, 1))\n",
    "\n",
    "# This is the size of our encoded representations\n",
    "encoding_dim = 31  \n",
    "\n",
    "# This is our input image\n",
    "input_img = tf.keras.Input(shape=(31*31,))\n",
    "# \"encoded\" is the encoded representation of the input\n",
    "x = layers.Dense(100, activation='tanh')(input_img)\n",
    "# x = layers.Dense(200, activation='relu')(x)\n",
    "# x = layers.Dense(100, activation='relu')(x)\n",
    "encoded = layers.Dense(encoding_dim, activation='tanh')(x)\n",
    "# \"decoded\" is the lossy reconstruction of the input\n",
    "# x = layers.Dense(100, activation='relu')(input_img)\n",
    "# x = layers.Dense(200, activation='relu')(x)\n",
    "x = layers.Dense(100, activation='tanh')(input_img)\n",
    "decoded = layers.Dense(31*31, activation='linear')(encoded)\n",
    "\n",
    "# This model maps an input to its reconstruction\n",
    "autoencoder = tf.keras.Model(input_img, decoded)\n",
    "autoencoder.compile(optimizer='adam', loss='mean_squared_error')\n",
    "autoencoder.summary()"
   ]
  },
  {
   "cell_type": "code",
   "execution_count": 12,
   "metadata": {},
   "outputs": [],
   "source": [
    "encoder = tf.keras.Model(input_img, encoded)\n",
    "# This is our encoded (32-dimensional) input\n",
    "encoded_input = tf.keras.Input(shape=(encoding_dim,))\n",
    "# Retrieve the last layer of the autoencoder model\n",
    "decoder_layer = autoencoder.layers[-1]\n",
    "# Create the decoder model\n",
    "decoder = tf.keras.Model(encoded_input, decoder_layer(encoded_input))"
   ]
  },
  {
   "cell_type": "code",
   "execution_count": 13,
   "metadata": {},
   "outputs": [
    {
     "name": "stdout",
     "output_type": "stream",
     "text": [
      "Epoch 1/100\n",
      "3/3 [==============================] - 0s 43ms/step - loss: 3.0619e-06 - val_loss: 2.1965e-06\n",
      "Epoch 2/100\n",
      "3/3 [==============================] - 0s 6ms/step - loss: 1.9167e-06 - val_loss: 1.3710e-06\n",
      "Epoch 3/100\n",
      "3/3 [==============================] - 0s 7ms/step - loss: 1.2305e-06 - val_loss: 8.4373e-07\n",
      "Epoch 4/100\n",
      "3/3 [==============================] - 0s 7ms/step - loss: 7.2894e-07 - val_loss: 4.7740e-07\n",
      "Epoch 5/100\n",
      "3/3 [==============================] - 0s 7ms/step - loss: 4.2037e-07 - val_loss: 2.6052e-07\n",
      "Epoch 6/100\n",
      "3/3 [==============================] - 0s 6ms/step - loss: 2.0962e-07 - val_loss: 1.2207e-07\n",
      "Epoch 7/100\n",
      "3/3 [==============================] - 0s 6ms/step - loss: 1.1173e-07 - val_loss: 7.2868e-08\n",
      "Epoch 8/100\n",
      "3/3 [==============================] - 0s 9ms/step - loss: 6.4233e-08 - val_loss: 6.9335e-08\n",
      "Epoch 9/100\n",
      "3/3 [==============================] - 0s 8ms/step - loss: 7.0538e-08 - val_loss: 6.6212e-08\n",
      "Epoch 10/100\n",
      "3/3 [==============================] - 0s 9ms/step - loss: 6.9767e-08 - val_loss: 8.0436e-08\n",
      "Epoch 11/100\n",
      "3/3 [==============================] - 0s 8ms/step - loss: 7.8863e-08 - val_loss: 7.2902e-08\n",
      "Epoch 12/100\n",
      "3/3 [==============================] - 0s 9ms/step - loss: 7.1713e-08 - val_loss: 6.3466e-08\n",
      "Epoch 13/100\n",
      "3/3 [==============================] - 0s 10ms/step - loss: 5.8593e-08 - val_loss: 4.6453e-08\n",
      "Epoch 14/100\n",
      "3/3 [==============================] - 0s 10ms/step - loss: 4.3448e-08 - val_loss: 3.3650e-08\n",
      "Epoch 15/100\n",
      "3/3 [==============================] - 0s 7ms/step - loss: 3.0826e-08 - val_loss: 2.4443e-08\n",
      "Epoch 16/100\n",
      "3/3 [==============================] - 0s 6ms/step - loss: 2.2969e-08 - val_loss: 1.8576e-08\n",
      "Epoch 17/100\n",
      "3/3 [==============================] - 0s 7ms/step - loss: 1.7904e-08 - val_loss: 1.6824e-08\n",
      "Epoch 18/100\n",
      "3/3 [==============================] - 0s 7ms/step - loss: 1.6527e-08 - val_loss: 1.6098e-08\n",
      "Epoch 19/100\n",
      "3/3 [==============================] - 0s 8ms/step - loss: 1.6027e-08 - val_loss: 1.5391e-08\n",
      "Epoch 20/100\n",
      "3/3 [==============================] - 0s 7ms/step - loss: 1.5539e-08 - val_loss: 1.5207e-08\n",
      "Epoch 21/100\n",
      "3/3 [==============================] - 0s 7ms/step - loss: 1.4964e-08 - val_loss: 1.4515e-08\n",
      "Epoch 22/100\n",
      "3/3 [==============================] - 0s 8ms/step - loss: 1.4400e-08 - val_loss: 1.3874e-08\n",
      "Epoch 23/100\n",
      "3/3 [==============================] - 0s 7ms/step - loss: 1.3744e-08 - val_loss: 1.3446e-08\n",
      "Epoch 24/100\n",
      "3/3 [==============================] - 0s 7ms/step - loss: 1.3370e-08 - val_loss: 1.3104e-08\n",
      "Epoch 25/100\n",
      "3/3 [==============================] - 0s 8ms/step - loss: 1.2954e-08 - val_loss: 1.2595e-08\n",
      "Epoch 26/100\n",
      "3/3 [==============================] - 0s 6ms/step - loss: 1.2634e-08 - val_loss: 1.2476e-08\n",
      "Epoch 27/100\n",
      "3/3 [==============================] - 0s 9ms/step - loss: 1.2309e-08 - val_loss: 1.2154e-08\n",
      "Epoch 28/100\n",
      "3/3 [==============================] - 0s 10ms/step - loss: 1.2223e-08 - val_loss: 1.2577e-08\n",
      "Epoch 29/100\n",
      "3/3 [==============================] - 0s 8ms/step - loss: 1.2376e-08 - val_loss: 1.2464e-08\n",
      "Epoch 30/100\n",
      "3/3 [==============================] - 0s 9ms/step - loss: 1.2481e-08 - val_loss: 1.2818e-08\n",
      "Epoch 31/100\n",
      "3/3 [==============================] - 0s 12ms/step - loss: 1.2535e-08 - val_loss: 1.2572e-08\n",
      "Epoch 32/100\n",
      "3/3 [==============================] - 0s 8ms/step - loss: 1.2598e-08 - val_loss: 1.2595e-08\n",
      "Epoch 33/100\n",
      "3/3 [==============================] - 0s 10ms/step - loss: 1.2442e-08 - val_loss: 1.2517e-08\n",
      "Epoch 34/100\n",
      "3/3 [==============================] - 0s 10ms/step - loss: 1.2429e-08 - val_loss: 1.2298e-08\n",
      "Epoch 35/100\n",
      "3/3 [==============================] - 0s 10ms/step - loss: 1.2276e-08 - val_loss: 1.1992e-08\n",
      "Epoch 36/100\n",
      "3/3 [==============================] - 0s 10ms/step - loss: 1.2247e-08 - val_loss: 1.1924e-08\n",
      "Epoch 37/100\n",
      "3/3 [==============================] - 0s 7ms/step - loss: 1.2209e-08 - val_loss: 1.2434e-08\n",
      "Epoch 38/100\n",
      "3/3 [==============================] - 0s 7ms/step - loss: 1.2305e-08 - val_loss: 1.2207e-08\n",
      "Epoch 39/100\n",
      "3/3 [==============================] - 0s 8ms/step - loss: 1.2297e-08 - val_loss: 1.2413e-08\n",
      "Epoch 40/100\n",
      "3/3 [==============================] - 0s 9ms/step - loss: 1.2319e-08 - val_loss: 1.1938e-08\n",
      "Epoch 41/100\n",
      "3/3 [==============================] - 0s 7ms/step - loss: 1.2182e-08 - val_loss: 1.2339e-08\n",
      "Epoch 42/100\n",
      "3/3 [==============================] - 0s 8ms/step - loss: 1.2315e-08 - val_loss: 1.2119e-08\n",
      "Epoch 43/100\n",
      "3/3 [==============================] - 0s 8ms/step - loss: 1.2303e-08 - val_loss: 1.2608e-08\n",
      "Epoch 44/100\n",
      "3/3 [==============================] - 0s 9ms/step - loss: 1.2404e-08 - val_loss: 1.2191e-08\n",
      "Epoch 45/100\n",
      "3/3 [==============================] - 0s 6ms/step - loss: 1.2383e-08 - val_loss: 1.2745e-08\n",
      "Epoch 46/100\n",
      "3/3 [==============================] - 0s 6ms/step - loss: 1.2612e-08 - val_loss: 1.2588e-08\n"
     ]
    }
   ],
   "source": [
    "callbacks = [tf.keras.callbacks.EarlyStopping(monitor='val_loss', mode='min',\n",
    "                                   min_delta=0,\n",
    "                                   patience=10, \n",
    "                                   restore_best_weights=True)]\n",
    "\n",
    "autoencoder_train = autoencoder.fit(covset_train, covset_train,\n",
    "                epochs=100,\n",
    "                batch_size=32,\n",
    "                shuffle=True,\n",
    "                validation_data=(covset_test, covset_test),\n",
    "                callbacks=callbacks)\n",
    "#                 callbacks=[TensorBoard(log_dir='/tmp/autoencoder')])"
   ]
  },
  {
   "cell_type": "code",
   "execution_count": 14,
   "metadata": {},
   "outputs": [
    {
     "data": {
      "image/png": "[encoded data removed]",
      "text/plain": [
       "<Figure size 432x288 with 1 Axes>"
      ]
     },
     "metadata": {
      "needs_background": "light"
     },
     "output_type": "display_data"
    }
   ],
   "source": [
    "plt.plot(autoencoder_train.history['loss'], color='r', )\n",
    "plt.plot(autoencoder_train.history['val_loss'], color='g')\n",
    "# plt.title('model loss function')\n",
    "plt.ylabel('MSE')\n",
    "plt.xlabel('Epochs')\n",
    "plt.legend(['train', 'val'], loc='upper left')\n",
    "plt.savefig('loss_binned_JLA.png', dpi=200)"
   ]
  },
  {
   "cell_type": "code",
   "execution_count": 15,
   "metadata": {},
   "outputs": [
    {
     "name": "stdout",
     "output_type": "stream",
     "text": [
      "(20, 31)\n"
     ]
    },
    {
     "data": {
      "text/plain": [
       "-0.022306673"
      ]
     },
     "execution_count": 15,
     "metadata": {},
     "output_type": "execute_result"
    }
   ],
   "source": [
    "encoded_imgs = encoder.predict(covset_test)\n",
    "decoded_imgs = decoder.predict(encoded_imgs)\n",
    "print(np.shape(encoded_imgs))\n",
    "df = pd.DataFrame(encoded_imgs)\n",
    "np.min(encoded_imgs)"
   ]
  },
  {
   "cell_type": "code",
   "execution_count": 16,
   "metadata": {},
   "outputs": [
    {
     "name": "stdout",
     "output_type": "stream",
     "text": [
      "(20, 961)\n",
      "266.6666666666667\n"
     ]
    },
    {
     "data": {
      "text/plain": [
       "<matplotlib.axes._subplots.AxesSubplot at 0x7faa681e1c18>"
      ]
     },
     "execution_count": 16,
     "metadata": {},
     "output_type": "execute_result"
    },
    {
     "data": {
      "image/png": "[encoded data removed]",
      "text/plain": [
       "<Figure size 432x288 with 2 Axes>"
      ]
     },
     "metadata": {
      "needs_background": "light"
     },
     "output_type": "display_data"
    }
   ],
   "source": [
    "print(np.shape(decoded_imgs))\n",
    "cte = 0.032/0.00012\n",
    "print(cte)\n",
    "\n",
    "sns.heatmap(pd.DataFrame(decoded_imgs[0].reshape(31,31)), \n",
    "            fmt='g', xticklabels=False, yticklabels=False, \n",
    "            cmap = 'inferno', \n",
    "            robust=False)\n",
    "# plt.savefig(\"decoded_img22.png\")"
   ]
  },
  {
   "cell_type": "code",
   "execution_count": 17,
   "metadata": {},
   "outputs": [
    {
     "name": "stdout",
     "output_type": "stream",
     "text": [
      "(20, 961)\n"
     ]
    }
   ],
   "source": [
    "print(np.shape(decoded_imgs))"
   ]
  },
  {
   "cell_type": "code",
   "execution_count": 18,
   "metadata": {},
   "outputs": [
    {
     "data": {
      "image/png": "[encoded data removed]",
      "text/plain": [
       "<Figure size 1440x288 with 20 Axes>"
      ]
     },
     "metadata": {
      "needs_background": "light"
     },
     "output_type": "display_data"
    }
   ],
   "source": [
    "n = 10  # How many digits we will display\n",
    "plt.figure(figsize=(20, 4))\n",
    "for i in range(n):\n",
    "    # Display original\n",
    "    ax = plt.subplot(2, n, i + 1)\n",
    "    plt.imshow(covset_test[i].reshape(31, 31))\n",
    "#     plt.gray()\n",
    "    ax.get_xaxis().set_visible(False)\n",
    "    ax.get_yaxis().set_visible(False)\n",
    "\n",
    "    # Display reconstruction\n",
    "    ax = plt.subplot(2, n, i + 1 + n)\n",
    "    plt.imshow(decoded_imgs[i].reshape(31, 31))\n",
    "#     plt.gray()\n",
    "    ax.get_xaxis().set_visible(False)\n",
    "    ax.get_yaxis().set_visible(False)\n",
    "plt.show()"
   ]
  },
  {
   "cell_type": "code",
   "execution_count": 19,
   "metadata": {},
   "outputs": [
    {
     "data": {
      "image/png": "[encoded data removed]",
      "text/plain": [
       "<Figure size 1440x288 with 20 Axes>"
      ]
     },
     "metadata": {},
     "output_type": "display_data"
    }
   ],
   "source": [
    "n = 10  # How many digits we will display\n",
    "plt.figure(figsize=(20, 4))\n",
    "for i in range(n):\n",
    "    # Display original\n",
    "    ax = plt.subplot(2, n, i + 1)\n",
    "    sns.heatmap(covset_test[i].reshape(31, 31), cbar=False, fmt='g', xticklabels=False, yticklabels=False, \n",
    "                cmap = 'inferno')\n",
    "    # Display reconstruction\n",
    "    ax = plt.subplot(2, n, i + 1 + n)\n",
    "    sns.heatmap(decoded_imgs[i].reshape(31, 31), cbar=False, fmt='g', xticklabels=False, yticklabels=False, \n",
    "                cmap = 'inferno')\n",
    "plt.savefig('predicted_covs_binned_jla.png', dpi=200)"
   ]
  },
  {
   "cell_type": "markdown",
   "metadata": {},
   "source": [
    "### Now we train another neural network for z and $D_L(z)$"
   ]
  },
  {
   "cell_type": "code",
   "execution_count": 20,
   "metadata": {},
   "outputs": [
    {
     "data": {
      "image/png": "[encoded data removed]",
      "text/plain": [
       "<Figure size 360x360 with 6 Axes>"
      ]
     },
     "metadata": {
      "needs_background": "light"
     },
     "output_type": "display_data"
    }
   ],
   "source": [
    "file2 = '/home/isidro/Documents/gitHub/misRepos/neuralCosmoReconstruction/data/jla_binned_distances_31nodes_v1.txt'\n",
    "data = pd.read_csv(file2, names=['z', '$D_L$'], sep = \" \", skiprows=3)\n",
    "sns.pairplot(data, diag_kind=\"kde\")\n",
    "plt.savefig(\"DistbinnedJLA.png\")"
   ]
  },
  {
   "cell_type": "code",
   "execution_count": 21,
   "metadata": {},
   "outputs": [],
   "source": [
    "shuffle = [x for x in range(len(data.values)) if x%2 ==0]\n",
    "comp = [x for x in range(len(data.values)) if x%2 ==1]\n",
    "shuffle.extend(comp)\n",
    "\n",
    "data = data.values[shuffle]"
   ]
  },
  {
   "cell_type": "code",
   "execution_count": 22,
   "metadata": {},
   "outputs": [],
   "source": [
    "z = data[:,0]\n",
    "dl = data[:,1:]"
   ]
  },
  {
   "cell_type": "code",
   "execution_count": 23,
   "metadata": {},
   "outputs": [],
   "source": [
    "# scalerz = StandardScaler()\n",
    "# # scalerz = MinMaxScaler(feature_range=(-1,1))\n",
    "# # fit scaler on data\n",
    "# scalerz.fit(z.reshape(-1,1))\n",
    "# # apply transform\n",
    "# z = scalerz.transform(z.reshape(-1,1))"
   ]
  },
  {
   "cell_type": "code",
   "execution_count": 24,
   "metadata": {},
   "outputs": [],
   "source": [
    "split = 0.8\n",
    "ntrain = int(split * len(z))\n",
    "indx = [ntrain]\n",
    "z_train, z_test = np.split(z, indx)\n",
    "dl_train, dl_test = np.split(dl, indx)"
   ]
  },
  {
   "cell_type": "code",
   "execution_count": 25,
   "metadata": {},
   "outputs": [],
   "source": [
    "callbacks = [tf.keras.callbacks.EarlyStopping(monitor='val_loss', mode='min',\n",
    "                                   min_delta=0.,\n",
    "                                   patience=20,\n",
    "                                   restore_best_weights=True)]"
   ]
  },
  {
   "cell_type": "code",
   "execution_count": 26,
   "metadata": {},
   "outputs": [
    {
     "name": "stdout",
     "output_type": "stream",
     "text": [
      "Model: \"functional_7\"\n",
      "_________________________________________________________________\n",
      "Layer (type)                 Output Shape              Param #   \n",
      "=================================================================\n",
      "input_3 (InputLayer)         [(None, 1)]               0         \n",
      "_________________________________________________________________\n",
      "dense_4 (Dense)              (None, 200)               400       \n",
      "_________________________________________________________________\n",
      "dense_5 (Dense)              (None, 100)               20100     \n",
      "_________________________________________________________________\n",
      "dense_6 (Dense)              (None, 100)               10100     \n",
      "_________________________________________________________________\n",
      "dense_7 (Dense)              (None, 1)                 101       \n",
      "=================================================================\n",
      "Total params: 30,701\n",
      "Trainable params: 30,701\n",
      "Non-trainable params: 0\n",
      "_________________________________________________________________\n"
     ]
    }
   ],
   "source": [
    "def model(input_z):\n",
    "    efirst = Dense(200, activation='relu', input_shape=(1,))(input_z)\n",
    "    ehidden = Dense(100, activation='relu')(efirst)\n",
    "    ehidden2 = Dense(100, activation='relu')(ehidden)\n",
    "    elast = Dense(1, activation='relu')(ehidden2)\n",
    "    return elast\n",
    "\n",
    "batch_size = 8\n",
    "epochs = 500\n",
    "input_z = Input(shape = (1,))\n",
    "neural_model = Model(input_z, model(input_z))\n",
    "neural_model.compile(loss='mean_squared_error', optimizer = \"adam\")\n",
    "neural_model.summary()"
   ]
  },
  {
   "cell_type": "code",
   "execution_count": null,
   "metadata": {},
   "outputs": [],
   "source": []
  },
  {
   "cell_type": "code",
   "execution_count": 27,
   "metadata": {},
   "outputs": [
    {
     "name": "stdout",
     "output_type": "stream",
     "text": [
      "Epoch 1/500\n",
      "3/3 [==============================] - 0s 26ms/step - loss: 1440.7271 - val_loss: 1735.7274\n",
      "Epoch 2/500\n",
      "3/3 [==============================] - 0s 5ms/step - loss: 1434.0851 - val_loss: 1723.4016\n",
      "Epoch 3/500\n",
      "3/3 [==============================] - 0s 6ms/step - loss: 1426.7440 - val_loss: 1707.9102\n",
      "Epoch 4/500\n",
      "3/3 [==============================] - 0s 5ms/step - loss: 1416.5360 - val_loss: 1688.2809\n",
      "Epoch 5/500\n",
      "3/3 [==============================] - 0s 5ms/step - loss: 1404.1852 - val_loss: 1663.1364\n",
      "Epoch 6/500\n",
      "3/3 [==============================] - 0s 5ms/step - loss: 1388.7261 - val_loss: 1631.4298\n",
      "Epoch 7/500\n",
      "3/3 [==============================] - 0s 5ms/step - loss: 1367.5088 - val_loss: 1591.4014\n",
      "Epoch 8/500\n",
      "3/3 [==============================] - 0s 5ms/step - loss: 1340.3951 - val_loss: 1541.3312\n",
      "Epoch 9/500\n",
      "3/3 [==============================] - 0s 5ms/step - loss: 1305.8165 - val_loss: 1479.8213\n",
      "Epoch 10/500\n",
      "3/3 [==============================] - 0s 5ms/step - loss: 1267.1337 - val_loss: 1404.1370\n",
      "Epoch 11/500\n",
      "3/3 [==============================] - 0s 5ms/step - loss: 1216.0692 - val_loss: 1313.3234\n",
      "Epoch 12/500\n",
      "3/3 [==============================] - 0s 7ms/step - loss: 1154.3575 - val_loss: 1206.2211\n",
      "Epoch 13/500\n",
      "3/3 [==============================] - 0s 5ms/step - loss: 1079.3364 - val_loss: 1082.5662\n",
      "Epoch 14/500\n",
      "3/3 [==============================] - 0s 5ms/step - loss: 987.5012 - val_loss: 943.5189\n",
      "Epoch 15/500\n",
      "3/3 [==============================] - 0s 5ms/step - loss: 888.1339 - val_loss: 789.5890\n",
      "Epoch 16/500\n",
      "3/3 [==============================] - 0s 5ms/step - loss: 774.0307 - val_loss: 627.0650\n",
      "Epoch 17/500\n",
      "3/3 [==============================] - 0s 5ms/step - loss: 654.9769 - val_loss: 463.6707\n",
      "Epoch 18/500\n",
      "3/3 [==============================] - 0s 5ms/step - loss: 529.4597 - val_loss: 314.3647\n",
      "Epoch 19/500\n",
      "3/3 [==============================] - 0s 6ms/step - loss: 401.8406 - val_loss: 196.4661\n",
      "Epoch 20/500\n",
      "3/3 [==============================] - 0s 6ms/step - loss: 299.5497 - val_loss: 127.4979\n",
      "Epoch 21/500\n",
      "3/3 [==============================] - 0s 6ms/step - loss: 225.2638 - val_loss: 121.8919\n",
      "Epoch 22/500\n",
      "3/3 [==============================] - 0s 6ms/step - loss: 156.8489 - val_loss: 163.9319\n",
      "Epoch 23/500\n",
      "3/3 [==============================] - 0s 8ms/step - loss: 155.1445 - val_loss: 232.5759\n",
      "Epoch 24/500\n",
      "3/3 [==============================] - 0s 7ms/step - loss: 162.9284 - val_loss: 291.8210\n",
      "Epoch 25/500\n",
      "3/3 [==============================] - 0s 9ms/step - loss: 156.8959 - val_loss: 285.2141\n",
      "Epoch 26/500\n",
      "3/3 [==============================] - 0s 6ms/step - loss: 148.6454 - val_loss: 245.4109\n",
      "Epoch 27/500\n",
      "3/3 [==============================] - 0s 8ms/step - loss: 129.5857 - val_loss: 207.1762\n",
      "Epoch 28/500\n",
      "3/3 [==============================] - 0s 6ms/step - loss: 112.5499 - val_loss: 171.6300\n",
      "Epoch 29/500\n",
      "3/3 [==============================] - 0s 6ms/step - loss: 104.4525 - val_loss: 137.3599\n",
      "Epoch 30/500\n",
      "3/3 [==============================] - 0s 9ms/step - loss: 93.2532 - val_loss: 115.6384\n",
      "Epoch 31/500\n",
      "3/3 [==============================] - 0s 6ms/step - loss: 91.5758 - val_loss: 97.4470\n",
      "Epoch 32/500\n",
      "3/3 [==============================] - 0s 8ms/step - loss: 84.3151 - val_loss: 88.7240\n",
      "Epoch 33/500\n",
      "3/3 [==============================] - 0s 8ms/step - loss: 82.0753 - val_loss: 81.1045\n",
      "Epoch 34/500\n",
      "3/3 [==============================] - 0s 8ms/step - loss: 76.4626 - val_loss: 79.4050\n",
      "Epoch 35/500\n",
      "3/3 [==============================] - 0s 8ms/step - loss: 71.9519 - val_loss: 76.5827\n",
      "Epoch 36/500\n",
      "3/3 [==============================] - 0s 7ms/step - loss: 66.7261 - val_loss: 76.2658\n",
      "Epoch 37/500\n",
      "3/3 [==============================] - 0s 7ms/step - loss: 62.3023 - val_loss: 75.9210\n",
      "Epoch 38/500\n",
      "3/3 [==============================] - 0s 8ms/step - loss: 58.7209 - val_loss: 78.0128\n",
      "Epoch 39/500\n",
      "3/3 [==============================] - 0s 8ms/step - loss: 55.6895 - val_loss: 77.8644\n",
      "Epoch 40/500\n",
      "3/3 [==============================] - 0s 7ms/step - loss: 52.3877 - val_loss: 77.1001\n",
      "Epoch 41/500\n",
      "3/3 [==============================] - 0s 6ms/step - loss: 49.6861 - val_loss: 71.9693\n",
      "Epoch 42/500\n",
      "3/3 [==============================] - 0s 6ms/step - loss: 46.8817 - val_loss: 65.6739\n",
      "Epoch 43/500\n",
      "3/3 [==============================] - 0s 6ms/step - loss: 43.3690 - val_loss: 61.8072\n",
      "Epoch 44/500\n",
      "3/3 [==============================] - 0s 5ms/step - loss: 41.1156 - val_loss: 58.5627\n",
      "Epoch 45/500\n",
      "3/3 [==============================] - 0s 6ms/step - loss: 39.2494 - val_loss: 53.2879\n",
      "Epoch 46/500\n",
      "3/3 [==============================] - 0s 6ms/step - loss: 37.0029 - val_loss: 48.9113\n",
      "Epoch 47/500\n",
      "3/3 [==============================] - 0s 6ms/step - loss: 34.8873 - val_loss: 45.8877\n",
      "Epoch 48/500\n",
      "3/3 [==============================] - 0s 6ms/step - loss: 32.7302 - val_loss: 44.1448\n",
      "Epoch 49/500\n",
      "3/3 [==============================] - 0s 7ms/step - loss: 30.8727 - val_loss: 42.1036\n",
      "Epoch 50/500\n",
      "3/3 [==============================] - 0s 5ms/step - loss: 29.1511 - val_loss: 40.9113\n",
      "Epoch 51/500\n",
      "3/3 [==============================] - 0s 6ms/step - loss: 27.6938 - val_loss: 38.8005\n",
      "Epoch 52/500\n",
      "3/3 [==============================] - 0s 6ms/step - loss: 26.0728 - val_loss: 37.6945\n",
      "Epoch 53/500\n",
      "3/3 [==============================] - 0s 7ms/step - loss: 25.3938 - val_loss: 34.4149\n",
      "Epoch 54/500\n",
      "3/3 [==============================] - 0s 7ms/step - loss: 23.4233 - val_loss: 33.7453\n",
      "Epoch 55/500\n",
      "3/3 [==============================] - 0s 6ms/step - loss: 22.0474 - val_loss: 31.9543\n",
      "Epoch 56/500\n",
      "3/3 [==============================] - 0s 6ms/step - loss: 20.9113 - val_loss: 29.9348\n",
      "Epoch 57/500\n",
      "3/3 [==============================] - 0s 5ms/step - loss: 19.8797 - val_loss: 27.6204\n",
      "Epoch 58/500\n",
      "3/3 [==============================] - 0s 6ms/step - loss: 18.5440 - val_loss: 26.5883\n",
      "Epoch 59/500\n",
      "3/3 [==============================] - 0s 6ms/step - loss: 17.6748 - val_loss: 24.7711\n",
      "Epoch 60/500\n",
      "3/3 [==============================] - 0s 6ms/step - loss: 16.6749 - val_loss: 23.4353\n",
      "Epoch 61/500\n",
      "3/3 [==============================] - 0s 8ms/step - loss: 15.8025 - val_loss: 22.0846\n",
      "Epoch 62/500\n",
      "3/3 [==============================] - 0s 6ms/step - loss: 14.8343 - val_loss: 21.3442\n",
      "Epoch 63/500\n",
      "3/3 [==============================] - 0s 8ms/step - loss: 14.0399 - val_loss: 20.7157\n",
      "Epoch 64/500\n",
      "3/3 [==============================] - 0s 8ms/step - loss: 13.4220 - val_loss: 19.3827\n",
      "Epoch 65/500\n",
      "3/3 [==============================] - 0s 6ms/step - loss: 12.5536 - val_loss: 18.3850\n",
      "Epoch 66/500\n",
      "3/3 [==============================] - 0s 7ms/step - loss: 12.1286 - val_loss: 17.0485\n",
      "Epoch 67/500\n",
      "3/3 [==============================] - 0s 8ms/step - loss: 11.3765 - val_loss: 16.1115\n",
      "Epoch 68/500\n",
      "3/3 [==============================] - 0s 7ms/step - loss: 10.7174 - val_loss: 15.4530\n",
      "Epoch 69/500\n",
      "3/3 [==============================] - 0s 7ms/step - loss: 10.1494 - val_loss: 14.6564\n",
      "Epoch 70/500\n",
      "3/3 [==============================] - 0s 6ms/step - loss: 9.8453 - val_loss: 13.6562\n",
      "Epoch 71/500\n",
      "3/3 [==============================] - 0s 7ms/step - loss: 9.2442 - val_loss: 12.8712\n",
      "Epoch 72/500\n",
      "3/3 [==============================] - 0s 7ms/step - loss: 8.7156 - val_loss: 12.4533\n",
      "Epoch 73/500\n",
      "3/3 [==============================] - 0s 7ms/step - loss: 8.3603 - val_loss: 11.7091\n",
      "Epoch 74/500\n",
      "3/3 [==============================] - 0s 8ms/step - loss: 7.8806 - val_loss: 11.1143\n",
      "Epoch 75/500\n",
      "3/3 [==============================] - 0s 7ms/step - loss: 7.5799 - val_loss: 10.4800\n",
      "Epoch 76/500\n",
      "3/3 [==============================] - 0s 7ms/step - loss: 7.1570 - val_loss: 9.9849\n",
      "Epoch 77/500\n",
      "3/3 [==============================] - 0s 6ms/step - loss: 6.8121 - val_loss: 9.6624\n",
      "Epoch 78/500\n",
      "3/3 [==============================] - 0s 7ms/step - loss: 6.4914 - val_loss: 9.1718\n",
      "Epoch 79/500\n",
      "3/3 [==============================] - 0s 5ms/step - loss: 6.2403 - val_loss: 8.7068\n",
      "Epoch 80/500\n",
      "3/3 [==============================] - 0s 6ms/step - loss: 6.0330 - val_loss: 8.2128\n",
      "Epoch 81/500\n",
      "3/3 [==============================] - 0s 7ms/step - loss: 5.7271 - val_loss: 7.9006\n",
      "Epoch 82/500\n"
     ]
    },
    {
     "name": "stdout",
     "output_type": "stream",
     "text": [
      "3/3 [==============================] - 0s 6ms/step - loss: 5.4748 - val_loss: 7.5322\n",
      "Epoch 83/500\n",
      "3/3 [==============================] - 0s 6ms/step - loss: 5.4360 - val_loss: 7.1189\n",
      "Epoch 84/500\n",
      "3/3 [==============================] - 0s 6ms/step - loss: 5.0386 - val_loss: 6.8391\n",
      "Epoch 85/500\n",
      "3/3 [==============================] - 0s 6ms/step - loss: 4.9191 - val_loss: 6.5834\n",
      "Epoch 86/500\n",
      "3/3 [==============================] - 0s 6ms/step - loss: 4.7692 - val_loss: 6.2875\n",
      "Epoch 87/500\n",
      "3/3 [==============================] - 0s 5ms/step - loss: 4.5807 - val_loss: 6.0311\n",
      "Epoch 88/500\n",
      "3/3 [==============================] - 0s 5ms/step - loss: 4.3862 - val_loss: 5.8090\n",
      "Epoch 89/500\n",
      "3/3 [==============================] - 0s 6ms/step - loss: 4.2832 - val_loss: 5.5855\n",
      "Epoch 90/500\n",
      "3/3 [==============================] - 0s 6ms/step - loss: 4.1530 - val_loss: 5.3796\n",
      "Epoch 91/500\n",
      "3/3 [==============================] - 0s 6ms/step - loss: 4.0241 - val_loss: 5.1967\n",
      "Epoch 92/500\n",
      "3/3 [==============================] - 0s 5ms/step - loss: 3.9217 - val_loss: 5.0252\n",
      "Epoch 93/500\n",
      "3/3 [==============================] - 0s 5ms/step - loss: 3.8918 - val_loss: 4.8978\n",
      "Epoch 94/500\n",
      "3/3 [==============================] - 0s 5ms/step - loss: 3.7215 - val_loss: 4.7487\n",
      "Epoch 95/500\n",
      "3/3 [==============================] - 0s 5ms/step - loss: 3.7221 - val_loss: 4.6395\n",
      "Epoch 96/500\n",
      "3/3 [==============================] - 0s 5ms/step - loss: 3.5845 - val_loss: 4.4703\n",
      "Epoch 97/500\n",
      "3/3 [==============================] - 0s 6ms/step - loss: 3.4895 - val_loss: 4.3217\n",
      "Epoch 98/500\n",
      "3/3 [==============================] - 0s 7ms/step - loss: 3.4609 - val_loss: 4.2152\n",
      "Epoch 99/500\n",
      "3/3 [==============================] - 0s 6ms/step - loss: 3.4200 - val_loss: 4.1415\n",
      "Epoch 100/500\n",
      "3/3 [==============================] - 0s 6ms/step - loss: 3.3205 - val_loss: 4.0679\n",
      "Epoch 101/500\n",
      "3/3 [==============================] - 0s 7ms/step - loss: 3.2822 - val_loss: 3.9295\n",
      "Epoch 102/500\n",
      "3/3 [==============================] - 0s 6ms/step - loss: 3.2288 - val_loss: 3.8294\n",
      "Epoch 103/500\n",
      "3/3 [==============================] - 0s 8ms/step - loss: 3.2045 - val_loss: 3.7128\n",
      "Epoch 104/500\n",
      "3/3 [==============================] - 0s 7ms/step - loss: 3.1984 - val_loss: 3.7446\n",
      "Epoch 105/500\n",
      "3/3 [==============================] - 0s 8ms/step - loss: 3.1212 - val_loss: 3.6784\n",
      "Epoch 106/500\n",
      "3/3 [==============================] - 0s 7ms/step - loss: 3.0892 - val_loss: 3.7080\n",
      "Epoch 107/500\n",
      "3/3 [==============================] - 0s 5ms/step - loss: 3.0537 - val_loss: 3.6263\n",
      "Epoch 108/500\n",
      "3/3 [==============================] - 0s 6ms/step - loss: 3.0244 - val_loss: 3.5900\n",
      "Epoch 109/500\n",
      "3/3 [==============================] - 0s 6ms/step - loss: 3.0200 - val_loss: 3.4871\n",
      "Epoch 110/500\n",
      "3/3 [==============================] - 0s 6ms/step - loss: 2.9980 - val_loss: 3.5010\n",
      "Epoch 111/500\n",
      "3/3 [==============================] - 0s 6ms/step - loss: 2.9746 - val_loss: 3.4789\n",
      "Epoch 112/500\n",
      "3/3 [==============================] - 0s 6ms/step - loss: 2.9459 - val_loss: 3.4321\n",
      "Epoch 113/500\n",
      "3/3 [==============================] - 0s 9ms/step - loss: 2.9543 - val_loss: 3.3594\n",
      "Epoch 114/500\n",
      "3/3 [==============================] - 0s 6ms/step - loss: 2.9149 - val_loss: 3.4110\n",
      "Epoch 115/500\n",
      "3/3 [==============================] - 0s 7ms/step - loss: 2.9378 - val_loss: 3.4608\n",
      "Epoch 116/500\n",
      "3/3 [==============================] - 0s 5ms/step - loss: 2.9498 - val_loss: 3.5224\n",
      "Epoch 117/500\n",
      "3/3 [==============================] - 0s 5ms/step - loss: 2.9338 - val_loss: 3.4781\n",
      "Epoch 118/500\n",
      "3/3 [==============================] - 0s 7ms/step - loss: 2.8804 - val_loss: 3.3475\n",
      "Epoch 119/500\n",
      "3/3 [==============================] - 0s 6ms/step - loss: 2.8669 - val_loss: 3.2551\n",
      "Epoch 120/500\n",
      "3/3 [==============================] - 0s 5ms/step - loss: 2.8847 - val_loss: 3.0610\n",
      "Epoch 121/500\n",
      "3/3 [==============================] - 0s 5ms/step - loss: 2.8732 - val_loss: 3.0059\n",
      "Epoch 122/500\n",
      "3/3 [==============================] - 0s 5ms/step - loss: 2.8657 - val_loss: 3.0724\n",
      "Epoch 123/500\n",
      "3/3 [==============================] - 0s 5ms/step - loss: 2.8786 - val_loss: 3.2437\n",
      "Epoch 124/500\n",
      "3/3 [==============================] - 0s 5ms/step - loss: 2.8389 - val_loss: 3.3319\n",
      "Epoch 125/500\n",
      "3/3 [==============================] - 0s 5ms/step - loss: 2.8490 - val_loss: 3.2375\n",
      "Epoch 126/500\n",
      "3/3 [==============================] - 0s 5ms/step - loss: 2.8351 - val_loss: 3.2057\n",
      "Epoch 127/500\n",
      "3/3 [==============================] - 0s 6ms/step - loss: 2.8566 - val_loss: 3.1147\n",
      "Epoch 128/500\n",
      "3/3 [==============================] - 0s 5ms/step - loss: 2.8329 - val_loss: 3.2071\n",
      "Epoch 129/500\n",
      "3/3 [==============================] - 0s 5ms/step - loss: 2.8234 - val_loss: 3.2798\n",
      "Epoch 130/500\n",
      "3/3 [==============================] - 0s 5ms/step - loss: 2.8213 - val_loss: 3.2749\n",
      "Epoch 131/500\n",
      "3/3 [==============================] - 0s 5ms/step - loss: 2.8293 - val_loss: 3.3403\n",
      "Epoch 132/500\n",
      "3/3 [==============================] - 0s 5ms/step - loss: 2.8203 - val_loss: 3.2551\n",
      "Epoch 133/500\n",
      "3/3 [==============================] - 0s 5ms/step - loss: 2.8112 - val_loss: 3.1762\n",
      "Epoch 134/500\n",
      "3/3 [==============================] - 0s 5ms/step - loss: 2.8190 - val_loss: 3.2018\n",
      "Epoch 135/500\n",
      "3/3 [==============================] - 0s 5ms/step - loss: 2.8138 - val_loss: 3.1941\n",
      "Epoch 136/500\n",
      "3/3 [==============================] - 0s 5ms/step - loss: 2.8369 - val_loss: 3.0589\n",
      "Epoch 137/500\n",
      "3/3 [==============================] - 0s 5ms/step - loss: 2.8532 - val_loss: 3.2153\n",
      "Epoch 138/500\n",
      "3/3 [==============================] - 0s 4ms/step - loss: 2.8313 - val_loss: 3.0639\n",
      "Epoch 139/500\n",
      "3/3 [==============================] - 0s 5ms/step - loss: 2.8161 - val_loss: 3.0263\n",
      "Epoch 140/500\n",
      "3/3 [==============================] - 0s 5ms/step - loss: 2.8056 - val_loss: 3.0720\n",
      "Epoch 141/500\n",
      "3/3 [==============================] - 0s 5ms/step - loss: 2.8042 - val_loss: 3.1625\n"
     ]
    }
   ],
   "source": [
    "model_train = neural_model.fit(z_train, dl_train, batch_size=batch_size,\n",
    "                                    epochs=epochs,verbose=1,\n",
    "                                    validation_data=(z_test, dl_test),\n",
    "                                    callbacks=callbacks)"
   ]
  },
  {
   "cell_type": "code",
   "execution_count": 28,
   "metadata": {},
   "outputs": [
    {
     "data": {
      "image/png": "[encoded data removed]",
      "text/plain": [
       "<Figure size 432x288 with 1 Axes>"
      ]
     },
     "metadata": {
      "needs_background": "light"
     },
     "output_type": "display_data"
    }
   ],
   "source": [
    "plt.plot(model_train.history['loss'], color='r', )\n",
    "plt.plot(model_train.history['val_loss'], color='g')\n",
    "plt.ylabel('MSE')\n",
    "plt.xlabel('Epoch')\n",
    "plt.legend(['train', 'val'], loc='upper left')\n",
    "plt.savefig(\"loss_dlbinnedJla.png\", dpi=200)"
   ]
  },
  {
   "cell_type": "code",
   "execution_count": 29,
   "metadata": {},
   "outputs": [
    {
     "data": {
      "text/plain": [
       "(3.0059103965759277, 2.8042285442352295)"
      ]
     },
     "execution_count": 29,
     "metadata": {},
     "output_type": "execute_result"
    }
   ],
   "source": [
    "unet = np.sqrt(np.min(model_train.history['val_loss']))\n",
    "unet**2, np.min(model_train.history['loss'])"
   ]
  },
  {
   "cell_type": "code",
   "execution_count": 30,
   "metadata": {},
   "outputs": [
    {
     "data": {
      "text/plain": [
       "array([[37.466118],\n",
       "       [38.047882],\n",
       "       [38.852657],\n",
       "       [39.965942],\n",
       "       [41.505993],\n",
       "       [43.636406],\n",
       "       [46.583504]], dtype=float32)"
      ]
     },
     "execution_count": 30,
     "metadata": {},
     "output_type": "execute_result"
    }
   ],
   "source": [
    "pred = neural_model.predict(z_test)\n",
    "pred"
   ]
  },
  {
   "cell_type": "code",
   "execution_count": 32,
   "metadata": {},
   "outputs": [
    {
     "data": {
      "text/plain": [
       "array([[46.61273 ],\n",
       "       [44.694267],\n",
       "       [41.69317 ],\n",
       "       [46.778687],\n",
       "       [38.083603],\n",
       "       [44.922485],\n",
       "       [48.20012 ],\n",
       "       [46.839725],\n",
       "       [45.466026],\n",
       "       [43.731873],\n",
       "       [37.178146],\n",
       "       [47.23931 ],\n",
       "       [40.821037],\n",
       "       [46.77492 ],\n",
       "       [46.617645],\n",
       "       [40.689117],\n",
       "       [44.52089 ],\n",
       "       [45.103462],\n",
       "       [38.84227 ],\n",
       "       [44.41063 ],\n",
       "       [43.268143],\n",
       "       [42.534138],\n",
       "       [37.83589 ],\n",
       "       [44.84474 ],\n",
       "       [38.078987],\n",
       "       [46.835083],\n",
       "       [48.404003],\n",
       "       [36.096214],\n",
       "       [42.048607],\n",
       "       [47.21009 ],\n",
       "       [41.96167 ]], dtype=float32)"
      ]
     },
     "execution_count": 32,
     "metadata": {},
     "output_type": "execute_result"
    }
   ],
   "source": [
    "ranz = np.random.uniform(0, np.max(z), size=31)\n",
    "pred_random = neural_model.predict(ranz)\n",
    "pred_random"
   ]
  },
  {
   "cell_type": "markdown",
   "metadata": {},
   "source": [
    "### Now we use randz (fake z) as inpute of the decoder neural netkork. But it is worth to make a mapping\n",
    "\n",
    "$z_{original} \\rightarrow encoded_{vals} \\implies z_{original} \\alpha =  encoded_{vals} \\implies \\alpha = \\frac{encoded}{z_{original}}$\n",
    "\n",
    "So, for fake z:\n",
    "\n",
    "$encoded_{fake} = \\alpha z_{fake}$\n",
    "\n"
   ]
  },
  {
   "cell_type": "code",
   "execution_count": 33,
   "metadata": {},
   "outputs": [],
   "source": [
    "fake_encoded = np.zeros((1, 31))"
   ]
  },
  {
   "cell_type": "code",
   "execution_count": 34,
   "metadata": {},
   "outputs": [
    {
     "name": "stdout",
     "output_type": "stream",
     "text": [
      "(1, 31)\n"
     ]
    },
    {
     "data": {
      "text/plain": [
       "(31,)"
      ]
     },
     "execution_count": 34,
     "metadata": {},
     "output_type": "execute_result"
    }
   ],
   "source": [
    "print(np.shape(fake_encoded))\n",
    "avg_encoded = np.mean(encoded_imgs, axis=0)\n",
    "np.shape(avg_encoded)"
   ]
  },
  {
   "cell_type": "code",
   "execution_count": 35,
   "metadata": {},
   "outputs": [],
   "source": [
    "for i, avg in enumerate(avg_encoded):\n",
    "    alpha = avg/z[i]\n",
    "    fake_encoded[0, i] = alpha * z[i]"
   ]
  },
  {
   "cell_type": "code",
   "execution_count": 36,
   "metadata": {},
   "outputs": [
    {
     "data": {
      "text/plain": [
       "(20, 961)"
      ]
     },
     "execution_count": 36,
     "metadata": {},
     "output_type": "execute_result"
    }
   ],
   "source": [
    "decoded_fake = decoder.predict(encoded_imgs)\n",
    "np.shape(decoded_fake)"
   ]
  },
  {
   "cell_type": "code",
   "execution_count": 37,
   "metadata": {},
   "outputs": [
    {
     "data": {
      "text/plain": [
       "array([ 2.12107636e-02, -1.07540814e-02,  1.84462557e-03,  4.69106948e-04,\n",
       "        8.33358616e-04,  6.31073490e-04,  7.66205601e-04,  6.66816952e-04,\n",
       "        5.94222569e-04,  2.56841769e-04,  8.25843425e-04,  1.32811547e-04,\n",
       "        4.86075878e-04,  3.09013296e-04,  2.76189297e-04,  2.59764493e-04,\n",
       "        4.38690651e-04,  2.91921548e-04,  3.54429707e-04,  2.73931655e-04,\n",
       "        2.66953139e-04,  2.13425141e-04,  1.88039616e-04,  2.90312106e-04,\n",
       "        1.73392124e-04,  1.70479645e-04, -5.71836717e-05, -1.06231775e-04,\n",
       "        2.71853060e-06,  1.65328966e-04,  1.97457906e-04, -1.07863853e-02,\n",
       "        2.81828549e-02, -2.25733616e-03,  1.69923459e-03,  6.41467050e-05,\n",
       "        4.22510318e-04,  2.63165159e-04,  2.47296295e-04,  3.67559493e-04,\n",
       "        5.36522828e-04,  2.34052888e-04,  3.41326231e-04,  4.19886666e-04,\n",
       "        4.08391934e-04,  5.15457708e-04,  4.41117911e-04,  4.38966614e-04,\n",
       "        4.36671835e-04,  5.01282455e-04,  4.07980056e-04,  3.76841985e-04,\n",
       "        4.90629580e-04,  2.97226012e-04,  3.84765444e-04,  3.76806711e-05,\n",
       "        1.50108361e-04, -1.63724180e-05,  8.78126593e-05, -3.15908692e-05,\n",
       "        1.75631605e-04,  2.46339070e-04,  1.96022587e-03, -2.24691094e-03,\n",
       "        6.11453829e-03, -1.57871679e-03,  1.40398042e-03,  4.40913020e-04,\n",
       "        7.23084086e-04,  5.57032530e-04,  6.36157056e-04,  4.72755695e-04,\n",
       "        5.78258303e-04,  2.89157790e-04,  5.64720365e-04,  3.46676912e-04,\n",
       "        4.68166720e-04,  3.54846357e-04,  4.95002954e-04,  3.29114031e-04,\n",
       "        3.62020568e-04,  2.95193633e-04,  3.24155437e-04,  3.76938377e-04,\n",
       "        2.57642241e-04,  3.12231597e-04,  1.15312985e-04,  1.57892006e-04,\n",
       "       -5.22122718e-06,  1.86467078e-05, -9.94163565e-05,  3.05147842e-06,\n",
       "        1.73126056e-04,  3.70628433e-04,  1.69002044e-03, -1.56059884e-03,\n",
       "        5.24516497e-03, -6.47185254e-04,  8.32227292e-04,  5.42173628e-04,\n",
       "        6.29789138e-04,  5.47206262e-04,  4.90816543e-04,  6.49932539e-04,\n",
       "        2.61341454e-04,  4.91921557e-04,  3.65977408e-04,  3.22188484e-04,\n",
       "        2.93238438e-04,  3.87313368e-04,  2.51813559e-04,  3.76299024e-04,\n",
       "        3.02413246e-04,  2.80592241e-04,  4.49449522e-04,  2.32000719e-04,\n",
       "        2.53216131e-04,  1.01604484e-04,  1.89349987e-04,  1.63858058e-05,\n",
       "       -1.25963823e-04, -3.00484244e-05,  1.13915885e-04,  2.28774268e-04,\n",
       "        9.57449898e-04, -2.39117071e-05,  1.49123487e-03, -7.38879899e-04,\n",
       "        7.30873970e-03, -4.98348847e-04,  1.00708869e-03,  4.54835361e-04,\n",
       "        6.65989064e-04,  2.83547182e-04,  6.00739033e-04,  1.72367145e-04,\n",
       "        5.22536575e-04,  2.68760865e-04,  3.80438403e-04,  2.68447679e-04,\n",
       "        3.39666032e-04,  3.60686827e-04,  3.02549452e-04,  2.51387013e-04,\n",
       "        2.02573952e-04,  2.97895866e-04,  1.42820645e-04,  2.09941238e-04,\n",
       "        6.99857483e-05,  1.38394535e-04,  7.76622328e-05, -1.26876403e-05,\n",
       "       -8.93734396e-05,  9.69669782e-06,  2.01684656e-04,  6.62531238e-04,\n",
       "        3.71798640e-04,  4.03646904e-04,  7.68575817e-04, -5.83444024e-04,\n",
       "        3.14585655e-03, -2.50893296e-04,  8.32117861e-04,  4.51551052e-04,\n",
       "        3.75033007e-04,  4.39774012e-04,  2.56554136e-04,  5.74075617e-04,\n",
       "        2.10222497e-04,  9.26433131e-05,  2.27257886e-04,  3.75806092e-04,\n",
       "        1.92783191e-04,  3.44564556e-04,  1.72525877e-04,  1.22235913e-04,\n",
       "        2.74794293e-04,  1.01863174e-04,  1.66623853e-04,  4.91841929e-05,\n",
       "        1.94707303e-04, -2.79564410e-05,  6.92415051e-05, -2.18782807e-05,\n",
       "        2.87649746e-05,  3.25957662e-04,  7.95244239e-04,  3.08118149e-04,\n",
       "        8.05627496e-04,  6.13260781e-04,  1.09551055e-03, -2.62927264e-04,\n",
       "        3.76623892e-03, -1.31218694e-05,  6.81041391e-04,  3.54505610e-04,\n",
       "        4.63671517e-04,  2.58793589e-04,  5.59291802e-04,  2.66429735e-04,\n",
       "        3.54554737e-04,  3.30216135e-04,  4.71644918e-04,  3.70562513e-04,\n",
       "        3.48386355e-04,  3.24154098e-04,  3.30182957e-04,  3.72333452e-04,\n",
       "        1.55361136e-04,  2.68587348e-04,  5.53959981e-05,  1.39706070e-04,\n",
       "        3.67206812e-05,  5.91229764e-05,  5.37570450e-05,  4.70089726e-05,\n",
       "        2.13370193e-04,  7.39245443e-04,  1.74843357e-04,  6.60774182e-04,\n",
       "        6.46361150e-04,  5.53061487e-04,  6.89535751e-04, -9.47322551e-05,\n",
       "        3.26807657e-03, -1.27474545e-04,  5.47485368e-04,  4.65943158e-04,\n",
       "        2.09657010e-04,  4.88589518e-04,  2.73952959e-04,  3.12102697e-04,\n",
       "        2.21697497e-04,  2.87031522e-04,  1.86375109e-04,  3.27152666e-04,\n",
       "        1.66011625e-04,  2.13044346e-04,  2.32202932e-04,  1.41704804e-04,\n",
       "        2.52485857e-04,  1.49847474e-04,  1.90017978e-04,  1.01950311e-04,\n",
       "        1.18442695e-04,  1.69841805e-05,  8.61515873e-05,  2.32886756e-04,\n",
       "        4.94178152e-04,  4.47957427e-04,  6.65237429e-04,  5.10519836e-04,\n",
       "        5.74496633e-04,  4.14527487e-04,  6.71132002e-04, -1.10768247e-04,\n",
       "        3.22844880e-03, -4.24626662e-04,  7.70921586e-04,  1.39936805e-04,\n",
       "        5.51333418e-04,  3.35699297e-04,  2.62086745e-04,  2.96638464e-04,\n",
       "        3.33391712e-04,  1.77626265e-04,  2.78449617e-04,  3.14700417e-04,\n",
       "        2.69790762e-04,  3.52602277e-04,  1.08926557e-04,  1.90374791e-04,\n",
       "        1.48122432e-04,  8.09591729e-05,  3.18395905e-07,  4.15679533e-05,\n",
       "        2.49681761e-06,  8.39000568e-05,  1.56232622e-04,  2.43301503e-04,\n",
       "        4.89421887e-04,  4.90595819e-04,  3.84560553e-04,  3.49745271e-04,\n",
       "        3.91622307e-04,  3.44755128e-04,  5.59074513e-04, -5.20866248e-04,\n",
       "        5.58413612e-03, -1.75794750e-03,  7.05863349e-04,  2.79323198e-04,\n",
       "        3.09177500e-04,  3.26103414e-04,  3.11755808e-04,  3.51423048e-04,\n",
       "        3.13459896e-04,  3.58675985e-04,  3.29407281e-04,  3.13084340e-04,\n",
       "        4.23048332e-04,  1.68001512e-04,  2.48561264e-04,  2.59933644e-04,\n",
       "        1.49841420e-04, -1.10337045e-04,  1.58289564e-04,  8.78735445e-05,\n",
       "        1.07023632e-04,  3.21474421e-04,  8.13695835e-04,  2.95761507e-04,\n",
       "        5.96732832e-04,  7.01288343e-04,  6.20368170e-04,  3.87406442e-04,\n",
       "        5.64239628e-04,  4.11661225e-04,  8.50303913e-04, -1.74000463e-03,\n",
       "        8.62975977e-03, -1.59665989e-03,  9.37231118e-04,  8.82877503e-05,\n",
       "        2.70508928e-04,  2.39408211e-04,  2.71316268e-04,  2.26911623e-04,\n",
       "        3.11938231e-04,  2.43050919e-04,  6.72251917e-05,  2.21665949e-04,\n",
       "        1.49262836e-04,  1.91609608e-04,  3.38880345e-05,  6.66070264e-05,\n",
       "       -5.51432604e-05,  1.35843729e-05,  1.98623165e-05,  4.83580516e-05,\n",
       "        8.89929943e-05,  1.00473640e-04,  3.44018452e-04,  2.36418797e-04,\n",
       "        2.48161843e-04,  1.12670648e-04,  1.49702886e-04,  2.31415965e-04,\n",
       "        1.64897530e-04,  8.26949254e-05,  6.85079664e-04, -1.66382710e-03,\n",
       "        3.82662727e-03, -7.92076578e-04,  6.05508452e-04,  2.18724599e-04,\n",
       "        2.38217181e-04,  3.05329217e-04,  3.45841516e-04,  2.64053640e-04,\n",
       "        2.21192371e-04,  2.03988981e-04,  3.04632238e-04,  2.06731260e-04,\n",
       "        2.10405095e-04,  1.30606815e-04,  1.94834545e-04,  9.37583391e-05,\n",
       "        1.72375818e-04,  1.08836044e-04,  1.60580501e-04,  3.16092395e-04,\n",
       "        5.29241865e-04,  4.43556666e-04,  5.28081204e-04,  5.48643526e-04,\n",
       "        4.75744950e-04,  5.39838045e-04,  5.82375214e-04,  5.23505034e-04,\n",
       "        4.52019507e-04,  1.88828795e-04,  9.97378025e-04, -7.47195096e-04,\n",
       "        4.37126961e-03, -6.66517415e-04,  6.61351718e-04,  1.89720071e-04,\n",
       "        3.78130469e-04,  2.12112616e-04,  2.76217237e-04,  2.70829652e-04,\n",
       "        2.02597672e-04,  2.85758637e-04,  1.47358747e-04,  2.40415160e-04,\n",
       "        1.24471961e-04,  3.00000422e-04,  6.13029115e-05,  2.11455626e-04,\n",
       "        1.52859604e-04,  1.02195481e-04,  3.95746203e-04,  3.25701199e-04,\n",
       "        4.55400383e-04,  4.40603209e-04,  3.11705749e-04,  3.12280259e-04,\n",
       "        1.42113655e-04,  4.05864790e-04,  2.23604555e-04,  3.18526872e-04,\n",
       "        4.50646272e-04,  2.01932038e-04,  5.90187556e-04, -6.96495757e-04,\n",
       "        3.06437584e-03, -5.19494992e-04,  4.74777189e-04,  2.91810371e-04,\n",
       "        3.39245773e-04,  3.35840508e-04,  3.64982057e-04,  4.30344837e-04,\n",
       "        3.20732477e-04,  2.73916288e-04,  3.57585493e-04,  1.34877162e-04,\n",
       "        2.89088814e-04, -1.87165570e-05,  1.30058615e-04,  1.32208923e-04,\n",
       "        9.60709294e-05,  2.63892929e-04,  1.66206155e-04,  3.74332769e-04,\n",
       "        3.80015583e-04,  3.39728664e-04,  2.87043105e-04,  2.01089235e-04,\n",
       "        3.27261863e-04,  2.02101917e-04,  3.43857042e-04,  3.11989686e-04,\n",
       "        2.32940540e-04,  2.30576261e-04,  6.76867203e-04, -5.25513198e-04,\n",
       "        3.57430475e-03, -6.44783722e-05,  5.47110918e-04,  4.51788306e-04,\n",
       "        4.59004543e-04,  3.32466094e-04,  4.05263272e-04,  3.25214583e-04,\n",
       "        2.75647559e-04,  2.75012571e-04,  1.46728707e-04,  1.95595203e-04,\n",
       "        5.07177465e-05,  8.47895863e-05,  1.37445400e-04,  8.57980922e-05,\n",
       "        1.95529545e-04,  2.54328363e-04,  3.19472805e-04,  3.59714526e-04,\n",
       "        3.24319350e-04,  3.17771453e-04,  2.88463489e-04,  2.10914877e-04,\n",
       "        2.07200064e-04,  2.98714614e-04,  3.63038387e-04,  2.07556179e-04,\n",
       "        2.81979446e-04,  2.33593863e-04,  5.36435051e-04, -1.62204495e-04,\n",
       "        1.42650190e-03, -3.92607035e-05,  4.74957982e-04,  3.72065027e-04,\n",
       "        3.57771933e-04,  3.16226156e-04,  4.11640853e-04,  3.08521907e-04,\n",
       "        2.67014839e-04,  1.77703245e-04,  1.22538302e-04,  4.61391173e-05,\n",
       "        1.63168879e-05,  9.11039533e-05,  2.50102836e-04,  2.12330138e-04,\n",
       "        3.68895126e-04,  4.44045058e-04,  4.39990108e-04,  4.53092565e-04,\n",
       "        3.83508217e-04,  2.46352283e-04,  3.57395969e-04,  3.19128914e-04,\n",
       "        3.69671616e-04,  2.84870388e-04,  2.89164309e-04,  2.50661047e-04,\n",
       "        4.84272663e-04,  2.92514102e-04,  6.36052806e-04,  9.12784599e-05,\n",
       "        1.45773333e-03,  1.08460401e-04,  4.92939260e-04,  3.92090995e-04,\n",
       "        3.95815587e-04,  3.91469221e-04,  3.32589843e-04,  3.23581742e-04,\n",
       "        2.77746003e-04,  2.00597104e-04, -1.78335467e-05, -4.05472238e-05,\n",
       "        4.23216261e-05,  1.45085214e-04,  2.30454316e-04,  2.77435349e-04,\n",
       "        3.20880208e-04,  3.70249123e-04,  3.30867333e-04,  3.54840886e-04,\n",
       "        2.16759392e-04,  2.74929218e-04,  2.46773649e-04,  2.81601446e-04,\n",
       "        2.31621671e-04,  1.28907617e-04,  3.03798966e-04,  3.17087077e-04,\n",
       "        3.89775494e-04,  3.02392407e-04,  5.31740079e-04,  9.09850933e-05,\n",
       "        1.21710706e-03,  1.97117217e-04,  4.51020838e-04,  3.13983182e-04,\n",
       "        2.94657890e-04,  2.80095090e-04,  2.89882068e-04,  1.18018128e-04,\n",
       "        2.37214277e-04,  8.09346093e-05,  5.14802523e-05,  9.66785010e-05,\n",
       "        1.77848007e-04,  1.94636232e-04,  3.67166009e-04,  4.50242544e-04,\n",
       "        3.67077999e-04,  3.65485903e-04,  4.20802040e-04,  2.86247348e-04,\n",
       "        3.38869868e-04,  2.38924520e-04,  3.16407706e-04,  3.01393913e-04,\n",
       "        2.82598136e-04,  3.19182291e-04,  2.68519041e-04,  3.73445160e-04,\n",
       "        4.18563141e-04,  4.17816045e-04,  4.63593053e-04,  1.96205103e-04,\n",
       "        1.03865995e-03,  1.60986267e-04,  3.06789530e-04,  4.01664875e-04,\n",
       "        2.63176975e-04,  3.10728559e-04,  2.35130370e-04,  2.73428741e-04,\n",
       "        1.15072384e-04,  1.09399145e-04,  9.01164021e-05,  2.46484240e-04,\n",
       "        2.00483250e-04,  3.04826186e-04,  4.90924460e-04,  3.43228166e-04,\n",
       "        3.68530164e-04,  2.58024316e-04,  1.88811449e-04,  2.49659875e-04,\n",
       "        3.16765509e-04,  3.10203759e-04,  2.92823883e-04,  1.72175292e-04,\n",
       "        2.65888899e-04,  3.87493055e-04,  3.83441336e-04,  3.46374873e-04,\n",
       "        3.55280237e-04,  4.15824732e-04,  4.90948092e-04,  2.96458951e-04,\n",
       "        1.12760370e-03,  1.11023197e-04,  4.26964602e-04,  2.63425056e-04,\n",
       "        3.23668122e-04,  1.33210910e-04,  1.67845166e-04, -1.16454488e-04,\n",
       "        3.83099541e-05,  8.61154112e-05,  1.56416208e-04,  1.91285275e-04,\n",
       "        2.15214677e-04,  4.40490898e-04,  2.25705095e-04,  2.84777372e-04,\n",
       "        2.19343463e-04,  2.66310060e-04,  2.66249175e-04,  2.02445954e-04,\n",
       "        2.81747605e-04,  2.94370926e-04,  1.14293420e-04,  2.64762231e-04,\n",
       "        2.19167676e-04,  2.55295745e-04,  3.69400601e-04,  2.78739491e-04,\n",
       "        3.55665456e-04,  3.33972799e-04,  4.53927554e-04,  2.03870834e-04,\n",
       "        1.05235749e-03,  1.28950749e-04,  2.99486564e-04,  2.12620478e-04,\n",
       "        1.91665720e-04,  1.85137818e-04,  6.63208775e-05, -2.87196599e-06,\n",
       "        8.01701099e-05,  9.07839276e-05,  1.59055751e-04,  2.80447071e-04,\n",
       "        4.52901935e-04,  2.37950240e-04,  4.16623312e-04,  3.21607804e-04,\n",
       "        2.76431441e-04,  3.73705290e-04,  2.83151632e-04,  3.23939312e-04,\n",
       "        2.39302288e-04,  2.13213963e-04,  2.67652416e-04,  3.01085063e-04,\n",
       "        4.38009592e-04,  4.31672030e-04,  3.80003126e-04,  3.57125420e-04,\n",
       "        4.68096405e-04,  5.72478515e-04,  4.93584143e-04,  1.49603933e-04,\n",
       "        1.54301757e-03,  1.37634808e-04,  3.70865106e-04,  1.65840960e-04,\n",
       "        2.50061741e-04,  1.27417967e-04,  1.52101216e-04,  2.11235019e-04,\n",
       "        2.78786407e-04,  3.39890452e-04,  1.18457014e-04,  3.14299250e-04,\n",
       "        3.25711677e-04,  1.48368301e-04,  1.53539935e-04,  1.04091770e-04,\n",
       "        1.85825163e-04,  1.75714551e-04,  1.80940842e-04,  2.19985377e-04,\n",
       "        6.30376162e-05,  1.19855395e-04,  2.14473344e-04,  3.94518953e-04,\n",
       "        2.87684059e-04,  2.18028203e-04,  3.05960421e-04,  1.81513722e-04,\n",
       "        3.36667988e-04,  3.16063175e-04,  3.35428631e-04,  9.85516235e-05,\n",
       "        1.11487485e-03,  1.01633021e-04,  1.11456960e-04,  2.26266915e-04,\n",
       "        4.03842423e-05,  1.75070134e-04,  2.57614884e-05,  1.60397962e-04,\n",
       "        1.30018103e-04,  2.42664712e-04,  3.74733092e-04,  3.23371438e-04,\n",
       "        2.43945629e-04,  3.27254122e-04,  2.95715756e-04,  2.59301625e-04,\n",
       "        2.71589262e-04,  2.38906825e-04,  3.24430934e-04,  2.50987505e-04,\n",
       "        1.91976898e-04,  2.59059248e-04,  3.40711791e-04,  2.87196133e-04,\n",
       "        3.31364106e-04,  2.35090731e-04,  4.04994935e-04,  3.32276104e-04,\n",
       "        2.87547009e-04,  3.25191184e-04,  3.42372397e-04,  1.26427738e-04,\n",
       "        1.64686819e-03, -9.34032723e-05,  4.51172236e-04, -9.16989520e-05,\n",
       "        2.58511514e-04,  1.82761520e-04,  1.74406683e-04,  3.14424746e-04,\n",
       "        3.27950111e-05,  1.54081557e-04,  1.07233063e-04,  1.72017142e-04,\n",
       "        1.84381264e-04,  2.19941139e-05,  5.43601345e-05,  1.12927111e-04,\n",
       "        1.73920998e-04,  1.30935339e-04,  4.04423336e-05,  2.42689857e-04,\n",
       "        1.42217847e-04,  2.14868225e-04,  5.18939923e-05,  2.53573759e-04,\n",
       "        1.53264031e-04,  1.47445127e-04,  1.70426560e-04,  1.37374504e-04,\n",
       "        1.61758217e-04,  1.66397076e-04,  1.57668837e-04, -1.31993933e-04,\n",
       "        1.62171433e-03,  5.19980676e-05,  9.13474942e-04,  5.60395420e-04,\n",
       "        6.47922396e-04,  3.83810373e-04,  2.63932045e-04,  1.67121179e-04,\n",
       "        2.45751115e-04,  1.42816920e-04,  9.36549623e-05,  6.37534540e-05,\n",
       "        2.28296092e-04,  1.85500248e-04,  1.06986117e-04,  1.95385364e-04,\n",
       "        1.72988162e-04,  1.19064120e-04,  2.12122482e-04,  2.10125349e-04,\n",
       "        2.05273507e-04,  1.87461963e-04,  1.47198676e-04,  1.98008842e-04,\n",
       "        3.01536056e-04,  2.81737361e-04,  2.69855082e-04,  2.65062787e-04,\n",
       "        2.33090948e-04,  2.44201277e-04,  3.85930995e-04,  2.21070368e-04,\n",
       "        1.26770802e-03,  2.21967930e-04,  5.06613986e-04,  3.85225983e-04,\n",
       "        4.13981848e-04,  4.17271396e-04, -2.09955033e-05, -5.20987669e-05,\n",
       "       -1.08280976e-04, -1.05643179e-04,  1.05410698e-04,  1.47343962e-04,\n",
       "       -1.41398050e-05,  6.89994195e-05, -8.38827400e-05, -2.54297629e-06,\n",
       "       -6.47887500e-05,  2.23126262e-05,  1.00926030e-04,  1.52263092e-05,\n",
       "        7.89102633e-05,  1.35604059e-05,  2.08737329e-05, -2.41561793e-05,\n",
       "        8.47493066e-05, -2.83706468e-05,  5.68863470e-05,  1.70049607e-04,\n",
       "        7.17997900e-05, -2.29669968e-05,  9.09101334e-04,  2.44707509e-04,\n",
       "        3.86345247e-03,  5.20934351e-04,  1.72770070e-03,  6.38837810e-04,\n",
       "        3.56506789e-04, -1.07858796e-04,  7.56485388e-05, -5.68187097e-05,\n",
       "       -4.03975137e-05,  2.80849927e-05,  1.77493785e-05,  8.21660506e-05,\n",
       "        1.49996835e-04,  2.76423525e-05,  1.27101404e-04, -9.33113624e-05,\n",
       "        1.44249221e-04,  1.21954596e-04,  3.76834651e-05,  4.24766913e-05,\n",
       "        9.62911290e-05,  8.96349084e-05,  1.34313479e-04,  6.56676712e-05,\n",
       "        7.31446780e-05,  8.79042782e-05,  7.26364160e-05,  1.08256470e-04,\n",
       "        1.44914491e-04,  4.58884402e-04,  5.79730724e-04,  6.03431603e-04,\n",
       "        3.01749399e-03,  3.26333568e-04,  1.21134345e-03,  2.40412570e-04,\n",
       "        2.38050707e-05, -1.33058056e-05, -8.51484947e-06, -2.84452835e-05,\n",
       "        1.54674053e-05, -5.91470744e-05, -2.50000739e-05,  6.42451923e-05,\n",
       "        4.36478294e-05,  1.27520616e-04,  4.38559800e-05,  1.86006539e-04,\n",
       "        5.37885353e-05,  1.33501540e-04,  1.50454114e-04,  1.01013808e-04,\n",
       "        1.46926846e-04,  1.42853940e-04,  1.26805302e-04, -6.25676475e-05,\n",
       "        7.44146528e-05,  2.07676698e-04,  5.38768945e-05,  1.76173155e-04,\n",
       "        5.84881986e-04,  4.21893375e-04,  1.62587408e-03,  3.75640811e-04,\n",
       "        4.45136009e-03, -1.89956115e-03,  6.83152582e-04,  1.91617059e-04,\n",
       "        3.59837431e-05,  4.42514574e-05,  3.64319421e-05, -5.07007353e-05,\n",
       "       -2.36346004e-05,  1.81110809e-05, -1.17448857e-04, -4.48002247e-05,\n",
       "        1.55309681e-05,  1.30831031e-05,  1.35679496e-04, -1.30238477e-05,\n",
       "        1.89486891e-04,  2.32112594e-04,  1.61489472e-04,  1.04153994e-04,\n",
       "        2.17399094e-04,  1.92512292e-04,  1.04928855e-04,  2.64355884e-04,\n",
       "        2.09514779e-04,  2.14358777e-04,  1.28646614e-04,  4.07676212e-04,\n",
       "        3.38729005e-04,  6.50921545e-04,  1.11295120e-03, -1.86371454e-03,\n",
       "        2.38662846e-02, -1.86815765e-03,  5.98506304e-05,  2.93204328e-04,\n",
       "        1.29145104e-04,  2.50371406e-04,  2.13888183e-04,  3.62403895e-04,\n",
       "        2.59553548e-04,  3.55591881e-04,  2.16268469e-04,  2.52509461e-04,\n",
       "        2.22281087e-04,  1.97710382e-04,  3.60562408e-04,  1.56615744e-04,\n",
       "        1.29061169e-04,  2.00212118e-04,  2.11925595e-04,  2.22397037e-04,\n",
       "        1.32651301e-04,  3.48499336e-04,  1.97695452e-04,  2.64824921e-04,\n",
       "        1.04612205e-04,  3.04667978e-04,  1.85991259e-04,  2.90829048e-04,\n",
       "        2.94576632e-04,  3.46995483e-04,  7.95674045e-04, -1.93128036e-03,\n",
       "        1.92240495e-02], dtype=float32)"
      ]
     },
     "execution_count": 37,
     "metadata": {},
     "output_type": "execute_result"
    }
   ],
   "source": [
    "decoded_fake[0, :]"
   ]
  },
  {
   "cell_type": "code",
   "execution_count": 38,
   "metadata": {},
   "outputs": [
    {
     "data": {
      "text/plain": [
       "<matplotlib.axes._subplots.AxesSubplot at 0x7faa304113c8>"
      ]
     },
     "execution_count": 38,
     "metadata": {},
     "output_type": "execute_result"
    },
    {
     "data": {
      "image/png": "[encoded data removed]",
      "text/plain": [
       "<Figure size 432x288 with 2 Axes>"
      ]
     },
     "metadata": {
      "needs_background": "light"
     },
     "output_type": "display_data"
    }
   ],
   "source": [
    "sns.heatmap(pd.DataFrame(decoded_fake[0, :].reshape(31,31)), \n",
    "            fmt='g', xticklabels=False, yticklabels=False, \n",
    "            cmap = 'inferno', \n",
    "            robust=False)"
   ]
  },
  {
   "cell_type": "code",
   "execution_count": null,
   "metadata": {},
   "outputs": [],
   "source": []
  },
  {
   "cell_type": "code",
   "execution_count": null,
   "metadata": {},
   "outputs": [],
   "source": []
  }
 ],
 "metadata": {
  "kernelspec": {
   "display_name": "Python 3",
   "language": "python",
   "name": "python3"
  },
  "language_info": {
   "codemirror_mode": {
    "name": "ipython",
    "version": 3
   },
   "file_extension": ".py",
   "mimetype": "text/x-python",
   "name": "python",
   "nbconvert_exporter": "python",
   "pygments_lexer": "ipython3",
   "version": "3.6.9"
  }
 },
 "nbformat": 4,
 "nbformat_minor": 2
}
