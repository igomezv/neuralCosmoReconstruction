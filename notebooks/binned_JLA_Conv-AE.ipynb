{
 "cells": [
  {
   "cell_type": "code",
   "execution_count": 1,
   "metadata": {},
   "outputs": [],
   "source": [
    "import numpy as np\n",
    "import tensorflow as tf\n",
    "import pandas as pd\n",
    "from sklearn.preprocessing import StandardScaler, MinMaxScaler\n",
    "from matplotlib import pyplot as plt\n",
    "import seaborn as sns\n",
    "import scipy as sp\n",
    "from tensorflow.keras.models import Model\n",
    "from tensorflow.keras.layers import Input,Conv2D,MaxPooling2D,UpSampling2D, Dense\n",
    "from tensorflow.keras.callbacks import TensorBoard\n",
    "from tensorflow.keras import regularizers\n",
    "from tensorflow.keras import layers\n",
    "from scipy.misc import derivative\n",
    "import scipy.integrate as intg\n",
    "import scipy as sp"
   ]
  },
  {
   "cell_type": "markdown",
   "metadata": {},
   "source": [
    "### In this notebook, we use a compressed version of JLA compilation\n",
    "#### First, we need to read the data. In this case, we use the covariance matrix of systematic errors "
   ]
  },
  {
   "cell_type": "code",
   "execution_count": 2,
   "metadata": {},
   "outputs": [
    {
     "name": "stdout",
     "output_type": "stream",
     "text": [
      "-0.01084098704 0.02815552265 0.00039265133851975654\n",
      "-2.7060759968018644 5.4425630702179895 -1.848446242872269e-17\n"
     ]
    },
    {
     "data": {
      "text/plain": [
       "Text(0.5, 1.0, 'Original matrix')"
      ]
     },
     "execution_count": 2,
     "metadata": {},
     "output_type": "execute_result"
    },
    {
     "data": {
      "image/png": "[encoded data removed]",
      "text/plain": [
       "<Figure size 432x288 with 2 Axes>"
      ]
     },
     "metadata": {
      "needs_background": "light"
     },
     "output_type": "display_data"
    }
   ],
   "source": [
    "syscov = np.loadtxt('../data/cov_jla_binned_distances_31nodes_v1.txt',skiprows=1).reshape((31,31))\n",
    "# syscov = np.loadtxt('data/jla_v0_covmatrix.dat',skiprows=1).reshape((740,740))\n",
    "print(np.min(syscov), np.max(syscov), np.mean(syscov))\n",
    "nsize = len(syscov)\n",
    "scaler_sys = StandardScaler()\n",
    "scaler_sys.fit(syscov)\n",
    "syscov = scaler_sys.transform(syscov)\n",
    "print(np.min(syscov), np.max(syscov), np.mean(syscov))\n",
    "sns.heatmap(pd.DataFrame(scaler_sys.inverse_transform(syscov)), \n",
    "# sns.heatmap(pd.DataFrame(covset_test[0]), \n",
    "        fmt='g', xticklabels=False, yticklabels=False, \n",
    "        cmap = 'inferno', cbar=True,\n",
    "        robust=False)\n",
    "plt.title('Original matrix')"
   ]
  },
  {
   "cell_type": "code",
   "execution_count": 3,
   "metadata": {},
   "outputs": [],
   "source": [
    "def permutMatrix(omatrix, nmatrix):\n",
    "    nsize = len(omatrix)\n",
    "    matrixset = np.zeros((nmatrix, nsize, nsize))\n",
    "    for it in range(nmatrix):\n",
    "        perm = np.random.permutation(nsize)\n",
    "        P = np.eye(nsize)[perm]\n",
    "        p = P@omatrix@P.T\n",
    "        matrixset[it, :, :] = p\n",
    "    return matrixset\n"
   ]
  },
  {
   "cell_type": "code",
   "execution_count": null,
   "metadata": {},
   "outputs": [],
   "source": []
  },
  {
   "cell_type": "code",
   "execution_count": 4,
   "metadata": {},
   "outputs": [],
   "source": [
    "import math\n",
    "\n",
    "def orderMag(number):\n",
    "    if number == 0.0:\n",
    "        return 0.0\n",
    "    else:\n",
    "        return math.floor(math.log(np.abs(number), 10))\n",
    "\n",
    "def matrixMag(matrix):\n",
    "    magMatrix = np.zeros((nsize, nsize))\n",
    "    for row in range(nsize):\n",
    "        for col in range(nsize):\n",
    "            magMatrix[row, col] = orderMag(matrix[row, col])\n",
    "    return magMatrix            "
   ]
  },
  {
   "cell_type": "markdown",
   "metadata": {},
   "source": [
    "### Generate a data set with covariance matrix from the original plus gaussian noise"
   ]
  },
  {
   "cell_type": "code",
   "execution_count": 5,
   "metadata": {},
   "outputs": [],
   "source": [
    "magnitudes = matrixMag(syscov)"
   ]
  },
  {
   "cell_type": "code",
   "execution_count": 6,
   "metadata": {},
   "outputs": [
    {
     "name": "stdout",
     "output_type": "stream",
     "text": [
      "(10000, 31, 31)\n"
     ]
    }
   ],
   "source": [
    "numMatrix = 10000\n",
    "covset = np.zeros((numMatrix, 31, 31))\n",
    "covset_noise = np.zeros((numMatrix, 31, 31))\n",
    "permMatrix = permutMatrix(syscov, numMatrix)\n",
    "print(np.shape(permMatrix))"
   ]
  },
  {
   "cell_type": "code",
   "execution_count": 7,
   "metadata": {},
   "outputs": [
    {
     "name": "stdout",
     "output_type": "stream",
     "text": [
      " Generating 10000 matrix                "
     ]
    }
   ],
   "source": [
    "for i in range(numMatrix): \n",
    "    print(\"\\r Generating {} matrix\".format(i+1), end=\" \")\n",
    "    for row in range(nsize):\n",
    "        for col in range(nsize):\n",
    "            if row == col:\n",
    "                err = np.random.rand()\n",
    "                covset[i, row, col] = permMatrix[i, row, col] + 0.0001*err*magnitudes[row, col]\n",
    "                covset_noise[i, row, col] = permMatrix[i, row, col] + 0.0001*err*magnitudes[row, col]\n",
    "            else:\n",
    "                covset[i, row, col] = permMatrix[i, row, col] + 0.1*np.random.rand()*magnitudes[row, col]\n",
    "                covset_noise[i, row, col] = permMatrix[i, row, col]  + np.random.rand()*magnitudes[row, col]"
   ]
  },
  {
   "cell_type": "code",
   "execution_count": 8,
   "metadata": {},
   "outputs": [
    {
     "name": "stdout",
     "output_type": "stream",
     "text": [
      "(10000, 31, 31)\n"
     ]
    }
   ],
   "source": [
    "print(np.shape(covset))\n",
    "split = 0.8\n",
    "ntrain = int(split * numMatrix)\n",
    "indx = [ntrain]\n",
    "covset_train, covset_test = np.split(covset, indx, axis=0)\n",
    "covset_noise_train, covset_noise_test = np.split(covset_noise, indx, axis=0)"
   ]
  },
  {
   "cell_type": "code",
   "execution_count": 9,
   "metadata": {},
   "outputs": [
    {
     "data": {
      "text/plain": [
       "Text(0.5, 1.0, 'NOISE MATRIX')"
      ]
     },
     "execution_count": 9,
     "metadata": {},
     "output_type": "execute_result"
    },
    {
     "data": {
      "image/png": "[encoded data removed]",
      "text/plain": [
       "<Figure size 432x288 with 2 Axes>"
      ]
     },
     "metadata": {
      "needs_background": "light"
     },
     "output_type": "display_data"
    }
   ],
   "source": [
    "# sns.heatmap(pd.DataFrame(scaler_sys.inverse_transform(covset_noise_test[0])), \n",
    "# sns.heatmap(pd.DataFrame(covset_test[0]), \n",
    "sns.heatmap(pd.DataFrame(scaler_sys.inverse_transform(permMatrix[0, :, :])), \n",
    "        fmt='g', xticklabels=False, yticklabels=False, \n",
    "        cmap = 'inferno', cbar=True,\n",
    "        robust=False)\n",
    "plt.title(\"NOISE MATRIX\")"
   ]
  },
  {
   "cell_type": "code",
   "execution_count": 10,
   "metadata": {},
   "outputs": [
    {
     "data": {
      "text/plain": [
       "Text(0.5, 1.0, 'TEST MATRIX')"
      ]
     },
     "execution_count": 10,
     "metadata": {},
     "output_type": "execute_result"
    },
    {
     "data": {
      "image/png": "[encoded data removed]",
      "text/plain": [
       "<Figure size 432x288 with 2 Axes>"
      ]
     },
     "metadata": {
      "needs_background": "light"
     },
     "output_type": "display_data"
    }
   ],
   "source": [
    "sns.heatmap(pd.DataFrame(scaler_sys.inverse_transform(covset_test[0])), \n",
    "        fmt='g', xticklabels=False, yticklabels=False, \n",
    "        cmap = 'inferno', cbar=True,\n",
    "        robust=False)\n",
    "plt.title(\"TEST MATRIX\")"
   ]
  },
  {
   "cell_type": "code",
   "execution_count": 11,
   "metadata": {},
   "outputs": [
    {
     "name": "stdout",
     "output_type": "stream",
     "text": [
      "Model: \"model\"\n",
      "_________________________________________________________________\n",
      "Layer (type)                 Output Shape              Param #   \n",
      "=================================================================\n",
      "input_1 (InputLayer)         [(None, 31, 31, 1)]       0         \n",
      "_________________________________________________________________\n",
      "zero_padding2d (ZeroPadding2 (None, 40, 40, 1)         0         \n",
      "_________________________________________________________________\n",
      "conv2d (Conv2D)              (None, 40, 40, 32)        832       \n",
      "_________________________________________________________________\n",
      "max_pooling2d (MaxPooling2D) (None, 20, 20, 32)        0         \n",
      "_________________________________________________________________\n",
      "conv2d_1 (Conv2D)            (None, 20, 20, 16)        4624      \n",
      "_________________________________________________________________\n",
      "max_pooling2d_1 (MaxPooling2 (None, 10, 10, 16)        0         \n",
      "_________________________________________________________________\n",
      "conv2d_2 (Conv2D)            (None, 10, 10, 8)         1160      \n",
      "_________________________________________________________________\n",
      "max_pooling2d_2 (MaxPooling2 (None, 5, 5, 8)           0         \n",
      "_________________________________________________________________\n",
      "conv2d_3 (Conv2D)            (None, 5, 5, 8)           584       \n",
      "_________________________________________________________________\n",
      "up_sampling2d (UpSampling2D) (None, 10, 10, 8)         0         \n",
      "_________________________________________________________________\n",
      "conv2d_4 (Conv2D)            (None, 10, 10, 16)        1168      \n",
      "_________________________________________________________________\n",
      "up_sampling2d_1 (UpSampling2 (None, 20, 20, 16)        0         \n",
      "_________________________________________________________________\n",
      "conv2d_5 (Conv2D)            (None, 20, 20, 32)        12832     \n",
      "_________________________________________________________________\n",
      "up_sampling2d_2 (UpSampling2 (None, 40, 40, 32)        0         \n",
      "_________________________________________________________________\n",
      "conv2d_6 (Conv2D)            (None, 40, 40, 1)         801       \n",
      "_________________________________________________________________\n",
      "cropping2d (Cropping2D)      (None, 31, 31, 1)         0         \n",
      "=================================================================\n",
      "Total params: 22,001\n",
      "Trainable params: 22,001\n",
      "Non-trainable params: 0\n",
      "_________________________________________________________________\n"
     ]
    }
   ],
   "source": [
    "input_img = tf.keras.Input(shape=(31, 31, 1))\n",
    "\n",
    "x = layers.ZeroPadding2D(((5,4),(5,4)))(input_img)\n",
    "x = layers.Conv2D(32, (5, 5), activation='relu', padding='same')(x)\n",
    "x = layers.MaxPooling2D((2, 2), padding='same')(x)\n",
    "x = layers.Conv2D(16, (3, 3), activation='relu', padding='same')(x)\n",
    "x = layers.MaxPooling2D((2, 2), padding='same')(x)\n",
    "x = layers.Conv2D(8, (3, 3), activation='relu', padding='same')(x)\n",
    "encoded = layers.MaxPooling2D((2, 2), padding='same')(x)\n",
    "\n",
    "# at this point the representation is (4, 4, 8) i.e. 128-dimensional\n",
    "\n",
    "x = layers.Conv2D(8, (3, 3), activation='relu', padding='same')(encoded)\n",
    "x = layers.UpSampling2D((2, 2))(x)\n",
    "x = layers.Conv2D(16, (3, 3), activation='relu', padding='same')(x)\n",
    "x = layers.UpSampling2D((2, 2))(x)\n",
    "x = layers.Conv2D(32, (5, 5), activation='relu', padding='same')(x)\n",
    "x = layers.UpSampling2D((2, 2))(x)\n",
    "x = layers.Conv2D(1, (5, 5), activation='linear', padding='same')(x)\n",
    "decoded = layers.Cropping2D(cropping=((5, 4), (5, 4)))(x)\n",
    "\n",
    "autoencoder = tf.keras.Model(input_img, decoded)\n",
    "autoencoder.compile(optimizer='adam', loss='mean_squared_error')\n",
    "\n",
    "\n",
    "autoencoder.summary()"
   ]
  },
  {
   "cell_type": "code",
   "execution_count": 12,
   "metadata": {},
   "outputs": [
    {
     "name": "stdout",
     "output_type": "stream",
     "text": [
      "Epoch 1/50\n",
      "63/63 [==============================] - 23s 354ms/step - loss: 0.8544 - val_loss: 0.3257\n",
      "Epoch 2/50\n",
      "63/63 [==============================] - 23s 369ms/step - loss: 0.2980 - val_loss: 0.2603\n",
      "Epoch 3/50\n",
      "63/63 [==============================] - 23s 365ms/step - loss: 0.2578 - val_loss: 0.2449\n",
      "Epoch 4/50\n",
      "63/63 [==============================] - 24s 386ms/step - loss: 0.2439 - val_loss: 0.2621\n",
      "Epoch 5/50\n",
      "63/63 [==============================] - 22s 356ms/step - loss: 0.2406 - val_loss: 0.2299\n",
      "Epoch 6/50\n",
      "63/63 [==============================] - 22s 353ms/step - loss: 0.2334 - val_loss: 0.2326\n",
      "Epoch 7/50\n",
      "63/63 [==============================] - 22s 350ms/step - loss: 0.2292 - val_loss: 0.2268\n",
      "Epoch 8/50\n",
      "63/63 [==============================] - 21s 336ms/step - loss: 0.2259 - val_loss: 0.2237\n",
      "Epoch 9/50\n",
      "63/63 [==============================] - 21s 336ms/step - loss: 0.2269 - val_loss: 0.2221\n",
      "Epoch 10/50\n",
      "63/63 [==============================] - 21s 336ms/step - loss: 0.2230 - val_loss: 0.2279\n",
      "Epoch 11/50\n",
      "63/63 [==============================] - 21s 335ms/step - loss: 0.2235 - val_loss: 0.2205\n",
      "Epoch 12/50\n",
      "63/63 [==============================] - 21s 338ms/step - loss: 0.2233 - val_loss: 0.2241\n",
      "Epoch 13/50\n",
      "63/63 [==============================] - 21s 335ms/step - loss: 0.2215 - val_loss: 0.2296\n",
      "Epoch 14/50\n",
      "63/63 [==============================] - 21s 335ms/step - loss: 0.2221 - val_loss: 0.2201\n",
      "Epoch 15/50\n",
      "63/63 [==============================] - 21s 337ms/step - loss: 0.2200 - val_loss: 0.2200\n",
      "Epoch 16/50\n",
      "63/63 [==============================] - 21s 336ms/step - loss: 0.2189 - val_loss: 0.2177\n",
      "Epoch 17/50\n",
      "63/63 [==============================] - 21s 337ms/step - loss: 0.2188 - val_loss: 0.2210\n",
      "Epoch 18/50\n",
      "63/63 [==============================] - 21s 334ms/step - loss: 0.2188 - val_loss: 0.2160\n",
      "Epoch 19/50\n",
      "63/63 [==============================] - 21s 336ms/step - loss: 0.2198 - val_loss: 0.2152\n",
      "Epoch 20/50\n",
      "63/63 [==============================] - 21s 336ms/step - loss: 0.2177 - val_loss: 0.2148\n",
      "Epoch 21/50\n",
      "63/63 [==============================] - 21s 336ms/step - loss: 0.2165 - val_loss: 0.2178\n",
      "Epoch 22/50\n",
      "63/63 [==============================] - 21s 335ms/step - loss: 0.2166 - val_loss: 0.2131\n",
      "Epoch 23/50\n",
      "63/63 [==============================] - 21s 335ms/step - loss: 0.2228 - val_loss: 0.2136\n",
      "Epoch 24/50\n",
      "63/63 [==============================] - 21s 334ms/step - loss: 0.2145 - val_loss: 0.2125\n",
      "Epoch 25/50\n",
      "63/63 [==============================] - 22s 350ms/step - loss: 0.2168 - val_loss: 0.2123\n",
      "Epoch 26/50\n",
      "63/63 [==============================] - 21s 339ms/step - loss: 0.2133 - val_loss: 0.2128\n",
      "Epoch 27/50\n",
      "63/63 [==============================] - 21s 337ms/step - loss: 0.2136 - val_loss: 0.2176\n",
      "Epoch 28/50\n",
      "63/63 [==============================] - 21s 337ms/step - loss: 0.2174 - val_loss: 0.2151\n",
      "Epoch 29/50\n",
      "63/63 [==============================] - 21s 337ms/step - loss: 0.2133 - val_loss: 0.2167\n",
      "Epoch 30/50\n",
      "63/63 [==============================] - 21s 339ms/step - loss: 0.2138 - val_loss: 0.2147\n",
      "Epoch 31/50\n",
      "63/63 [==============================] - 21s 338ms/step - loss: 0.2124 - val_loss: 0.2121\n",
      "Epoch 32/50\n",
      "63/63 [==============================] - 21s 340ms/step - loss: 0.2131 - val_loss: 0.2179\n",
      "Epoch 33/50\n",
      "63/63 [==============================] - 21s 338ms/step - loss: 0.2135 - val_loss: 0.2101\n",
      "Epoch 34/50\n",
      "63/63 [==============================] - 21s 338ms/step - loss: 0.2188 - val_loss: 0.2097\n",
      "Epoch 35/50\n",
      "63/63 [==============================] - 21s 336ms/step - loss: 0.2105 - val_loss: 0.2102\n",
      "Epoch 36/50\n",
      "63/63 [==============================] - 21s 337ms/step - loss: 0.2115 - val_loss: 0.2082\n",
      "Epoch 37/50\n",
      "63/63 [==============================] - 21s 337ms/step - loss: 0.2096 - val_loss: 0.2141\n",
      "Epoch 38/50\n",
      "63/63 [==============================] - 21s 337ms/step - loss: 0.2108 - val_loss: 0.2079\n",
      "Epoch 39/50\n",
      "63/63 [==============================] - 21s 337ms/step - loss: 0.2126 - val_loss: 0.2074\n",
      "Epoch 40/50\n",
      "63/63 [==============================] - 21s 337ms/step - loss: 0.2108 - val_loss: 0.2091\n",
      "Epoch 41/50\n",
      "63/63 [==============================] - 21s 336ms/step - loss: 0.2088 - val_loss: 0.2085\n",
      "Epoch 42/50\n",
      "63/63 [==============================] - 21s 340ms/step - loss: 0.2093 - val_loss: 0.2087\n",
      "Epoch 43/50\n",
      "63/63 [==============================] - 21s 340ms/step - loss: 0.2091 - val_loss: 0.2129\n",
      "Epoch 44/50\n",
      "63/63 [==============================] - 21s 338ms/step - loss: 0.2092 - val_loss: 0.2147\n",
      "Epoch 45/50\n",
      "63/63 [==============================] - 21s 340ms/step - loss: 0.2103 - val_loss: 0.2073\n",
      "Epoch 46/50\n",
      "63/63 [==============================] - 21s 339ms/step - loss: 0.2081 - val_loss: 0.2067\n",
      "Epoch 47/50\n",
      "63/63 [==============================] - 21s 336ms/step - loss: 0.2167 - val_loss: 0.2066\n",
      "Epoch 48/50\n",
      "63/63 [==============================] - 21s 341ms/step - loss: 0.2080 - val_loss: 0.2171\n",
      "Epoch 49/50\n",
      "63/63 [==============================] - 21s 341ms/step - loss: 0.2111 - val_loss: 0.2091\n",
      "Epoch 50/50\n",
      "63/63 [==============================] - 22s 354ms/step - loss: 0.2112 - val_loss: 0.2084\n"
     ]
    }
   ],
   "source": [
    "autoencoder_train = autoencoder.fit(covset_noise_train, covset_train,\n",
    "                epochs=50,\n",
    "                batch_size=128,\n",
    "#                 shuffle=True,\n",
    "                validation_data=(covset_noise_test, covset_test))"
   ]
  },
  {
   "cell_type": "code",
   "execution_count": 13,
   "metadata": {},
   "outputs": [
    {
     "data": {
      "text/plain": [
       "(array([0.1, 0.2, 0.3, 0.4, 0.5, 0.6, 0.7, 0.8]),\n",
       " [Text(0, 0, ''),\n",
       "  Text(0, 0, ''),\n",
       "  Text(0, 0, ''),\n",
       "  Text(0, 0, ''),\n",
       "  Text(0, 0, ''),\n",
       "  Text(0, 0, ''),\n",
       "  Text(0, 0, ''),\n",
       "  Text(0, 0, '')])"
      ]
     },
     "execution_count": 13,
     "metadata": {},
     "output_type": "execute_result"
    },
    {
     "data": {
      "image/png": "[encoded data removed]",
      "text/plain": [
       "<Figure size 700x400 with 1 Axes>"
      ]
     },
     "metadata": {
      "needs_background": "light"
     },
     "output_type": "display_data"
    }
   ],
   "source": [
    "plt.figure(figsize=(7, 4), dpi=100)\n",
    "\n",
    "plt.plot(autoencoder_train.history['loss'], color='r', )\n",
    "plt.plot(autoencoder_train.history['val_loss'], color='g')\n",
    "\n",
    "plt.ylabel('MSE', fontsize=11)\n",
    "plt.xlabel('Epoch', fontsize=11)\n",
    "plt.legend(['training set', 'validation set'], loc='upper right', fontsize=15)\n",
    "plt.xticks(fontsize=10)\n",
    "plt.yticks(fontsize=10)\n",
    "# plt.title('Autoencoder', fontsize=8)\n",
    "# plt.savefig('loss_binned_JLA_.png')"
   ]
  },
  {
   "cell_type": "code",
   "execution_count": 14,
   "metadata": {},
   "outputs": [
    {
     "name": "stdout",
     "output_type": "stream",
     "text": [
      "0.2065777778625488 0.20809942483901978\n"
     ]
    }
   ],
   "source": [
    "unet = np.sqrt(np.min(autoencoder_train.history['val_loss']))\n",
    "print(unet**2, np.min(autoencoder_train.history['loss']))"
   ]
  },
  {
   "cell_type": "code",
   "execution_count": 15,
   "metadata": {},
   "outputs": [],
   "source": [
    "file2 = '/home/cosmocicatais/Documents/github/neuralCosmoReconstruction/data/jla_binned_distances_31nodes_v1.txt'\n",
    "data = pd.read_csv(file2, names=['z', '$D_L$'], sep = \" \", skiprows=3)\n",
    "z = data.values[:,0]\n",
    "dl = data.values[:,1:]"
   ]
  },
  {
   "cell_type": "code",
   "execution_count": 16,
   "metadata": {},
   "outputs": [
    {
     "data": {
      "text/plain": [
       "Text(0.5, 1.0, 'Test matrix')"
      ]
     },
     "execution_count": 16,
     "metadata": {},
     "output_type": "execute_result"
    },
    {
     "data": {
      "image/png": "[encoded data removed]",
      "text/plain": [
       "<Figure size 432x288 with 2 Axes>"
      ]
     },
     "metadata": {
      "needs_background": "light"
     },
     "output_type": "display_data"
    }
   ],
   "source": [
    "sns.heatmap(pd.DataFrame(scaler_sys.inverse_transform(covset_noise_test[0])), \n",
    "        fmt='g', xticklabels=False, yticklabels=False, \n",
    "        cmap = 'inferno', cbar=True,\n",
    "        robust=False)\n",
    "plt.title('Test matrix')"
   ]
  },
  {
   "cell_type": "code",
   "execution_count": 17,
   "metadata": {},
   "outputs": [
    {
     "name": "stdout",
     "output_type": "stream",
     "text": [
      "(2000, 31, 31)\n"
     ]
    },
    {
     "data": {
      "text/plain": [
       "Text(0.5, 1.0, 'Clean matrix')"
      ]
     },
     "execution_count": 17,
     "metadata": {},
     "output_type": "execute_result"
    },
    {
     "data": {
      "image/png": "[encoded data removed]",
      "text/plain": [
       "<Figure size 432x288 with 2 Axes>"
      ]
     },
     "metadata": {
      "needs_background": "light"
     },
     "output_type": "display_data"
    }
   ],
   "source": [
    "clean_img = autoencoder.predict(covset_noise_test)\n",
    "\n",
    "print(np.shape(covset_noise_test))\n",
    "clean_imgr = scaler_sys.inverse_transform(clean_img[0].reshape(31,31))\n",
    "\n",
    "sns.heatmap(pd.DataFrame(clean_imgr), \n",
    "            fmt='g', xticklabels=False, yticklabels=False, \n",
    "            cmap = 'inferno', \n",
    "            robust=False)\n",
    "plt.title('Clean matrix')"
   ]
  },
  {
   "cell_type": "code",
   "execution_count": 18,
   "metadata": {},
   "outputs": [
    {
     "data": {
      "text/plain": [
       "Text(0.5, 1.0, 'Clean matrix 2')"
      ]
     },
     "execution_count": 18,
     "metadata": {},
     "output_type": "execute_result"
    },
    {
     "data": {
      "image/png": "[encoded data removed]",
      "text/plain": [
       "<Figure size 432x288 with 2 Axes>"
      ]
     },
     "metadata": {
      "needs_background": "light"
     },
     "output_type": "display_data"
    }
   ],
   "source": [
    "clean_img = autoencoder.predict(clean_img)\n",
    "\n",
    "clean_imgr = scaler_sys.inverse_transform(clean_img[0].reshape(31,31))\n",
    "\n",
    "sns.heatmap(pd.DataFrame(clean_imgr), \n",
    "            fmt='g', xticklabels=False, yticklabels=False, \n",
    "            cmap = 'inferno', \n",
    "            robust=False)\n",
    "\n",
    "plt.title('Clean matrix 2')"
   ]
  },
  {
   "cell_type": "code",
   "execution_count": 19,
   "metadata": {},
   "outputs": [
    {
     "data": {
      "text/plain": [
       "Text(0.5, 1.0, 'Filled matrix')"
      ]
     },
     "execution_count": 19,
     "metadata": {},
     "output_type": "execute_result"
    },
    {
     "data": {
      "image/png": "[encoded data removed]",
      "text/plain": [
       "<Figure size 432x288 with 2 Axes>"
      ]
     },
     "metadata": {
      "needs_background": "light"
     },
     "output_type": "display_data"
    }
   ],
   "source": [
    "filled_matrix = np.zeros((nsize, nsize))\n",
    "for row in range(nsize):\n",
    "    for col in range(nsize):\n",
    "        if row == col:\n",
    "#             err = np.random.randn()\n",
    "            filled_matrix[row, col] = syscov[row, col] \n",
    "#     + 0.1*err*magnitudes[row, col]\n",
    "        else:\n",
    "            err = np.random.randn()\n",
    "            filled_matrix[row, col] = err*magnitudes[row, col]\n",
    "np.shape(filled_matrix)     \n",
    "sns.heatmap(pd.DataFrame(scaler_sys.inverse_transform(filled_matrix)), \n",
    "            fmt='g', xticklabels=False, yticklabels=False, \n",
    "            cmap = 'inferno', \n",
    "            robust=False)\n",
    "plt.title('Filled matrix')"
   ]
  },
  {
   "cell_type": "code",
   "execution_count": 20,
   "metadata": {},
   "outputs": [
    {
     "data": {
      "text/plain": [
       "Text(0.5, 1.0, 'Clean matrix')"
      ]
     },
     "execution_count": 20,
     "metadata": {},
     "output_type": "execute_result"
    },
    {
     "data": {
      "image/png": "[encoded data removed]",
      "text/plain": [
       "<Figure size 432x288 with 2 Axes>"
      ]
     },
     "metadata": {
      "needs_background": "light"
     },
     "output_type": "display_data"
    }
   ],
   "source": [
    "# filled_matrix = scaler_sys.transform(filled_matrix).reshape(1,31,31,1)\n",
    "\n",
    "clean_img = autoencoder.predict(filled_matrix.reshape(1,31,31,1))\n",
    "\n",
    "clean_imgr = scaler_sys.inverse_transform(clean_img[0,:,:,0])\n",
    "\n",
    "sns.heatmap(pd.DataFrame(clean_imgr), \n",
    "            fmt='g', xticklabels=False, yticklabels=False, \n",
    "            cmap = 'inferno', \n",
    "            robust=False)\n",
    "\n",
    "plt.title('Clean matrix')"
   ]
  },
  {
   "cell_type": "code",
   "execution_count": 21,
   "metadata": {},
   "outputs": [],
   "source": [
    "np.savetxt(\"fake_binned_JLA_COVdecodedTEST1.dat\", clean_img.reshape(31,31), delimiter= \" \", header=\"#fake COV\")"
   ]
  },
  {
   "cell_type": "code",
   "execution_count": 27,
   "metadata": {},
   "outputs": [],
   "source": [
    "# autoencoder.save('../models/autoencoderCONV_JLA.h5')\n",
    "# decoder.save('../models/decoderJLA.h5')\n",
    "# encoder.save('../models/encoderJLA.h5')"
   ]
  },
  {
   "cell_type": "code",
   "execution_count": null,
   "metadata": {},
   "outputs": [],
   "source": []
  },
  {
   "cell_type": "code",
   "execution_count": null,
   "metadata": {},
   "outputs": [],
   "source": []
  }
 ],
 "metadata": {
  "kernelspec": {
   "display_name": "Python 3",
   "language": "python",
   "name": "python3"
  },
  "language_info": {
   "codemirror_mode": {
    "name": "ipython",
    "version": 3
   },
   "file_extension": ".py",
   "mimetype": "text/x-python",
   "name": "python",
   "nbconvert_exporter": "python",
   "pygments_lexer": "ipython3",
   "version": "3.8.5"
  }
 },
 "nbformat": 4,
 "nbformat_minor": 2
}
