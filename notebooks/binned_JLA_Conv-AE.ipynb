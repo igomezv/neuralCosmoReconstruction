{
 "cells": [
  {
   "cell_type": "code",
   "execution_count": 1,
   "metadata": {},
   "outputs": [],
   "source": [
    "import numpy as np\n",
    "import tensorflow as tf\n",
    "import pandas as pd\n",
    "from sklearn.preprocessing import StandardScaler, MinMaxScaler\n",
    "from matplotlib import pyplot as plt\n",
    "import seaborn as sns\n",
    "import scipy as sp\n",
    "from tensorflow.keras.models import Model\n",
    "from tensorflow.keras.layers import Input,Conv2D,MaxPooling2D,UpSampling2D, Dense\n",
    "from tensorflow.keras.callbacks import TensorBoard\n",
    "from tensorflow.keras import regularizers\n",
    "from tensorflow.keras import layers\n",
    "from scipy.misc import derivative\n",
    "import scipy.integrate as intg\n",
    "import scipy as sp\n",
    "import math\n"
   ]
  },
  {
   "cell_type": "markdown",
   "metadata": {},
   "source": [
    "### In this notebook, we use a compressed version of JLA compilation\n",
    "#### First, we need to read the data. In this case, we use the covariance matrix of systematic errors "
   ]
  },
  {
   "cell_type": "code",
   "execution_count": 2,
   "metadata": {},
   "outputs": [
    {
     "name": "stdout",
     "output_type": "stream",
     "text": [
      "-0.01084098704 0.02815552265 0.00039265133851975654\n",
      "-0.01084098704 0.02815552265 0.00039265133851975654\n"
     ]
    },
    {
     "data": {
      "text/plain": [
       "Text(0.5, 1.0, 'Original matrix')"
      ]
     },
     "execution_count": 2,
     "metadata": {},
     "output_type": "execute_result"
    },
    {
     "data": {
      "image/png": "[encoded data removed]",
      "text/plain": [
       "<Figure size 432x288 with 2 Axes>"
      ]
     },
     "metadata": {
      "needs_background": "light"
     },
     "output_type": "display_data"
    }
   ],
   "source": [
    "syscov = np.loadtxt('../data/cov_jla_binned_distances_31nodes_v1.txt',skiprows=1).reshape((31,31))\n",
    "\n",
    "# syscov = np.loadtxt('data/jla_v0_covmatrix.dat',skiprows=1).reshape((740,740))\n",
    "print(np.min(syscov), np.max(syscov), np.mean(syscov))\n",
    "nsize = len(syscov)\n",
    "\n",
    "# scaler_sys = StandardScaler()\n",
    "# scaler_sys.fit(syscov)\n",
    "# syscov_sc = scaler_sys.transform(syscov)\n",
    "\n",
    "print(np.min(syscov), np.max(syscov), np.mean(syscov))\n",
    "sns.heatmap(pd.DataFrame(syscov), \n",
    "# sns.heatmap(pd.DataFrame(covset_test[0]), \n",
    "        fmt='g', xticklabels=False, yticklabels=False, \n",
    "        cmap = 'inferno', cbar=True,\n",
    "        robust=False)\n",
    "plt.title('Original matrix')"
   ]
  },
  {
   "cell_type": "code",
   "execution_count": 3,
   "metadata": {},
   "outputs": [],
   "source": [
    "scalercov = StandardScaler()\n",
    "scalercov.fit(syscov)\n",
    "syscov_sc = scalercov.transform(syscov)\n"
   ]
  },
  {
   "cell_type": "code",
   "execution_count": 4,
   "metadata": {},
   "outputs": [],
   "source": [
    "# syscov_triang = np.triu(syscov)\n",
    "\n",
    "        \n",
    "\n",
    "# sns.heatmap(scaler_sys.inverse_transform(syscov_triang), \n",
    "#         fmt='g', xticklabels=False, yticklabels=False, \n",
    "#         cmap = 'inferno', cbar=True,\n",
    "#         robust=False)"
   ]
  },
  {
   "cell_type": "code",
   "execution_count": 5,
   "metadata": {},
   "outputs": [],
   "source": [
    "def permutMatrix(omatrix, nmatrix):\n",
    "    nsize = len(omatrix)\n",
    "    matrixset = np.zeros((nmatrix, nsize, nsize))\n",
    "    for it in range(nmatrix):\n",
    "        perm = np.random.permutation(nsize)\n",
    "        P = np.eye(nsize)[perm]\n",
    "        p = P@omatrix@P.T\n",
    "#         p = symmetrical(p)\n",
    "        matrixset[it, :, :] = p\n",
    "    return matrixset\n"
   ]
  },
  {
   "cell_type": "code",
   "execution_count": 6,
   "metadata": {},
   "outputs": [],
   "source": [
    "def symmetrical(matrix):\n",
    "    for i in range(len(matrix)):\n",
    "        for j in range(len(matrix)):\n",
    "    #         if np.iscomplex(syscov[i,j]):\n",
    "    #             print(\"COMPLEX\")\n",
    "            if matrix[i,j] != matrix[j,i]:\n",
    "                    if np.abs(matrix[i, j]) < np.abs(matrix[j,i]):\n",
    "                        matrix[i, j] = matrix[j, i]\n",
    "                    else:\n",
    "                        matrix[j, i] = matrix[i, j]\n",
    "            \n",
    "    return matrix"
   ]
  },
  {
   "cell_type": "code",
   "execution_count": 7,
   "metadata": {},
   "outputs": [],
   "source": [
    "\n",
    "def orderMag(number):\n",
    "    if number == 0.0:\n",
    "        return 0.0\n",
    "    else:\n",
    "        return math.floor(math.log(np.abs(number), 10))\n",
    "\n",
    "def matrixMag(matrix):\n",
    "    magMatrix = np.zeros((nsize, nsize))\n",
    "    for row in range(nsize):\n",
    "        for col in range(nsize):\n",
    "            magMatrix[row, col] = orderMag(matrix[row, col])\n",
    "    return magMatrix            "
   ]
  },
  {
   "cell_type": "markdown",
   "metadata": {},
   "source": [
    "### Generate a data set with covariance matrix from the original plus gaussian noise"
   ]
  },
  {
   "cell_type": "code",
   "execution_count": 8,
   "metadata": {},
   "outputs": [],
   "source": [
    "magnitudes = matrixMag(syscov_sc)"
   ]
  },
  {
   "cell_type": "code",
   "execution_count": 9,
   "metadata": {},
   "outputs": [
    {
     "name": "stdout",
     "output_type": "stream",
     "text": [
      "(5000, 31, 31)\n"
     ]
    }
   ],
   "source": [
    "numMatrix = 5000\n",
    "covset = np.zeros((numMatrix, 31, 31))\n",
    "covset_noise = np.zeros((numMatrix, 31, 31))\n",
    "permMatrix = permutMatrix(syscov_sc, numMatrix)\n",
    "print(np.shape(permMatrix))"
   ]
  },
  {
   "cell_type": "code",
   "execution_count": 10,
   "metadata": {},
   "outputs": [
    {
     "data": {
      "text/plain": [
       "Text(0.5, 1.0, 'PERMUTATED MATRIX')"
      ]
     },
     "execution_count": 10,
     "metadata": {},
     "output_type": "execute_result"
    },
    {
     "data": {
      "image/png": "[encoded data removed]",
      "text/plain": [
       "<Figure size 432x288 with 2 Axes>"
      ]
     },
     "metadata": {
      "needs_background": "light"
     },
     "output_type": "display_data"
    }
   ],
   "source": [
    "# sns.heatmap(pd.DataFrame(permMatrix[99, :, : ]), \n",
    "# sns.heatmap(pd.DataFrame(covset_test[0]), \n",
    "sns.heatmap(pd.DataFrame(scalercov.inverse_transform(permMatrix[0, :, :])), \n",
    "        fmt='g', xticklabels=False, yticklabels=False, \n",
    "        cmap = 'inferno', cbar=True,\n",
    "        robust=False)\n",
    "plt.title(\"PERMUTATED MATRIX\")"
   ]
  },
  {
   "cell_type": "code",
   "execution_count": 11,
   "metadata": {},
   "outputs": [],
   "source": [
    "# syscov_sc"
   ]
  },
  {
   "cell_type": "code",
   "execution_count": 12,
   "metadata": {},
   "outputs": [
    {
     "name": "stdout",
     "output_type": "stream",
     "text": [
      " Generating 5000 matrix      "
     ]
    }
   ],
   "source": [
    "\n",
    "\n",
    "for i in range(numMatrix): \n",
    "    print(\"\\r Generating {} matrix\".format(i+1), end=\" \")\n",
    "    err = np.random.rand()\n",
    "    for row in range(nsize):\n",
    "        for col in range(nsize):\n",
    "            if row == col:\n",
    "                covset[i, row, col] = permMatrix[i, row, col] + 1e-4*err*10**magnitudes[row, col]\n",
    "                covset_noise[i, row, col] = permMatrix[i, row, col] + 1e-4*10**err*magnitudes[row, col]\n",
    "            else:\n",
    "                covset[i, row, col] = permMatrix[i, row, col] + 0.00001*err*10**magnitudes[row, col]\n",
    "                covset_noise[i, row, col] = permMatrix[i, row, col]  + 0.001*err*10**magnitudes[row, col]\n",
    "#                 filled_matrix[row, col] = 0.1*np.random.rand()*10**magnitudes[row, col]\n",
    "\n",
    "\n",
    "            \n",
    "#     covset[i,:,:] = scalercov.transform(covset[i,:,:])\n",
    "#     covset_noise[i,:,:] = scalercov.transform(covset_noise[i,:,:])\n",
    "            \n",
    "\n",
    "# covset = scalercov.transform(covset)\n",
    "# covset_noise = scalercov.transform(covset_noise)"
   ]
  },
  {
   "cell_type": "code",
   "execution_count": 13,
   "metadata": {},
   "outputs": [],
   "source": [
    "# sns.heatmap(pd.DataFrame(covset_log[100]), \n",
    "#         fmt='g', xticklabels=False, yticklabels=False, \n",
    "#         cmap = 'inferno', cbar=True)"
   ]
  },
  {
   "cell_type": "code",
   "execution_count": 14,
   "metadata": {},
   "outputs": [
    {
     "name": "stdout",
     "output_type": "stream",
     "text": [
      "(5000, 31, 31)\n"
     ]
    }
   ],
   "source": [
    "print(np.shape(covset))\n",
    "split = 0.8\n",
    "ntrain = int(split * numMatrix)\n",
    "indx = [ntrain]\n",
    "covset_train, covset_test = np.split(covset, indx, axis=0)\n",
    "covset_noise_train, covset_noise_test = np.split(covset_noise, indx, axis=0)"
   ]
  },
  {
   "cell_type": "code",
   "execution_count": 15,
   "metadata": {},
   "outputs": [
    {
     "data": {
      "text/plain": [
       "Text(0.5, 1.0, 'NOISE MATRIX')"
      ]
     },
     "execution_count": 15,
     "metadata": {},
     "output_type": "execute_result"
    },
    {
     "data": {
      "image/png": "[encoded data removed]",
      "text/plain": [
       "<Figure size 432x288 with 2 Axes>"
      ]
     },
     "metadata": {
      "needs_background": "light"
     },
     "output_type": "display_data"
    }
   ],
   "source": [
    "sns.heatmap(pd.DataFrame(scalercov.inverse_transform(covset_noise_test[0])), \n",
    "# sns.heatmap(pd.DataFrame(covset_noise_test[100]), \n",
    "# sns.heatmap(pd.DataFrame(scaler_sys.inverse_transform(permMatrix[0, :, :])), \n",
    "        fmt='g', xticklabels=False, yticklabels=False, \n",
    "        cmap = 'inferno', cbar=True,\n",
    "        robust=False)\n",
    "plt.title(\"NOISE MATRIX\")"
   ]
  },
  {
   "cell_type": "code",
   "execution_count": 16,
   "metadata": {},
   "outputs": [
    {
     "data": {
      "text/plain": [
       "Text(0.5, 1.0, 'TEST MATRIX')"
      ]
     },
     "execution_count": 16,
     "metadata": {},
     "output_type": "execute_result"
    },
    {
     "data": {
      "image/png": "[encoded data removed]",
      "text/plain": [
       "<Figure size 432x288 with 2 Axes>"
      ]
     },
     "metadata": {
      "needs_background": "light"
     },
     "output_type": "display_data"
    }
   ],
   "source": [
    "sns.heatmap(pd.DataFrame(scalercov.inverse_transform(covset_test[10])), \n",
    "# sns.heatmap(pd.DataFrame(np.exp(covset_test[100])), \n",
    "        fmt='g', xticklabels=False, yticklabels=False, \n",
    "        cmap = 'inferno', cbar=True,\n",
    "        robust=False)\n",
    "plt.title(\"TEST MATRIX\")\n",
    "# np.exp(covset_test[0])"
   ]
  },
  {
   "cell_type": "code",
   "execution_count": 17,
   "metadata": {},
   "outputs": [
    {
     "name": "stdout",
     "output_type": "stream",
     "text": [
      "Model: \"model\"\n",
      "_________________________________________________________________\n",
      "Layer (type)                 Output Shape              Param #   \n",
      "=================================================================\n",
      "input_1 (InputLayer)         [(None, 31, 31, 1)]       0         \n",
      "_________________________________________________________________\n",
      "zero_padding2d (ZeroPadding2 (None, 40, 40, 1)         0         \n",
      "_________________________________________________________________\n",
      "conv2d (Conv2D)              (None, 40, 40, 16)        416       \n",
      "_________________________________________________________________\n",
      "max_pooling2d (MaxPooling2D) (None, 20, 20, 16)        0         \n",
      "_________________________________________________________________\n",
      "conv2d_1 (Conv2D)            (None, 20, 20, 8)         1160      \n",
      "_________________________________________________________________\n",
      "max_pooling2d_1 (MaxPooling2 (None, 10, 10, 8)         0         \n",
      "_________________________________________________________________\n",
      "conv2d_2 (Conv2D)            (None, 10, 10, 4)         292       \n",
      "_________________________________________________________________\n",
      "max_pooling2d_2 (MaxPooling2 (None, 5, 5, 4)           0         \n",
      "_________________________________________________________________\n",
      "conv2d_3 (Conv2D)            (None, 5, 5, 4)           148       \n",
      "_________________________________________________________________\n",
      "up_sampling2d (UpSampling2D) (None, 10, 10, 4)         0         \n",
      "_________________________________________________________________\n",
      "conv2d_4 (Conv2D)            (None, 10, 10, 8)         296       \n",
      "_________________________________________________________________\n",
      "up_sampling2d_1 (UpSampling2 (None, 20, 20, 8)         0         \n",
      "_________________________________________________________________\n",
      "conv2d_5 (Conv2D)            (None, 20, 20, 16)        3216      \n",
      "_________________________________________________________________\n",
      "up_sampling2d_2 (UpSampling2 (None, 40, 40, 16)        0         \n",
      "_________________________________________________________________\n",
      "conv2d_6 (Conv2D)            (None, 40, 40, 1)         401       \n",
      "_________________________________________________________________\n",
      "cropping2d (Cropping2D)      (None, 31, 31, 1)         0         \n",
      "=================================================================\n",
      "Total params: 5,929\n",
      "Trainable params: 5,929\n",
      "Non-trainable params: 0\n",
      "_________________________________________________________________\n"
     ]
    }
   ],
   "source": [
    "input_img = tf.keras.Input(shape=(31, 31, 1))\n",
    "\n",
    "x = layers.ZeroPadding2D(((5,4),(5,4)))(input_img)\n",
    "x = layers.Conv2D(16, (5, 5), activation='relu', padding='same')(x)\n",
    "x = layers.MaxPooling2D((2, 2), padding='same')(x)\n",
    "x = layers.Conv2D(8, (3, 3), activation='relu', padding='same')(x)\n",
    "x = layers.MaxPooling2D((2, 2), padding='same')(x)\n",
    "x = layers.Conv2D(4, (3, 3), activation='relu', padding='same')(x)\n",
    "encoded = layers.MaxPooling2D((2, 2), padding='same')(x)\n",
    "\n",
    "# at this point the representation is (4, 4, 8) i.e. 128-dimensional\n",
    "\n",
    "x = layers.Conv2D(4, (3, 3), activation='relu', padding='same')(encoded)\n",
    "x = layers.UpSampling2D((2, 2))(x)\n",
    "x = layers.Conv2D(8, (3, 3), activation='relu', padding='same')(x)\n",
    "x = layers.UpSampling2D((2, 2))(x)\n",
    "x = layers.Conv2D(16, (5, 5), activation='relu', padding='same')(x)\n",
    "x = layers.UpSampling2D((2, 2))(x)\n",
    "x = layers.Conv2D(1, (5, 5), activation='linear', padding='same')(x)\n",
    "decoded = layers.Cropping2D(cropping=((5, 4), (5, 4)))(x)\n",
    "\n",
    "autoencoder = tf.keras.Model(input_img, decoded)\n",
    "autoencoder.compile(optimizer='adam', loss='mean_squared_error')\n",
    "\n",
    "\n",
    "autoencoder.summary()"
   ]
  },
  {
   "cell_type": "code",
   "execution_count": 18,
   "metadata": {},
   "outputs": [
    {
     "name": "stdout",
     "output_type": "stream",
     "text": [
      "Epoch 1/100\n",
      "8/8 [==============================] - 7s 791ms/step - loss: 1.0023 - val_loss: 0.9811\n",
      "Epoch 2/100\n",
      "8/8 [==============================] - 6s 758ms/step - loss: 0.9739 - val_loss: 0.9430\n",
      "Epoch 3/100\n",
      "8/8 [==============================] - 6s 752ms/step - loss: 0.9281 - val_loss: 0.8902\n",
      "Epoch 4/100\n",
      "8/8 [==============================] - 6s 756ms/step - loss: 0.8799 - val_loss: 0.8486\n",
      "Epoch 5/100\n",
      "8/8 [==============================] - 6s 755ms/step - loss: 0.8379 - val_loss: 0.8053\n",
      "Epoch 6/100\n",
      "8/8 [==============================] - 6s 753ms/step - loss: 0.7930 - val_loss: 0.7522\n",
      "Epoch 7/100\n",
      "8/8 [==============================] - 6s 752ms/step - loss: 0.7353 - val_loss: 0.6810\n",
      "Epoch 8/100\n",
      "8/8 [==============================] - 6s 750ms/step - loss: 0.6607 - val_loss: 0.6044\n",
      "Epoch 9/100\n",
      "8/8 [==============================] - 6s 753ms/step - loss: 0.5856 - val_loss: 0.5383\n",
      "Epoch 10/100\n",
      "8/8 [==============================] - 6s 752ms/step - loss: 0.5234 - val_loss: 0.4823\n",
      "Epoch 11/100\n",
      "8/8 [==============================] - 6s 745ms/step - loss: 0.4685 - val_loss: 0.4275\n",
      "Epoch 12/100\n",
      "8/8 [==============================] - 6s 800ms/step - loss: 0.4181 - val_loss: 0.3872\n",
      "Epoch 13/100\n",
      "8/8 [==============================] - 6s 731ms/step - loss: 0.3774 - val_loss: 0.3430\n",
      "Epoch 14/100\n",
      "8/8 [==============================] - 6s 743ms/step - loss: 0.3405 - val_loss: 0.3205\n",
      "Epoch 15/100\n",
      "8/8 [==============================] - 6s 734ms/step - loss: 0.3180 - val_loss: 0.3097\n",
      "Epoch 16/100\n",
      "8/8 [==============================] - 6s 716ms/step - loss: 0.3050 - val_loss: 0.2965\n",
      "Epoch 17/100\n",
      "8/8 [==============================] - 6s 714ms/step - loss: 0.2935 - val_loss: 0.2867\n",
      "Epoch 18/100\n",
      "8/8 [==============================] - 6s 706ms/step - loss: 0.2854 - val_loss: 0.2818\n",
      "Epoch 19/100\n",
      "8/8 [==============================] - 6s 728ms/step - loss: 0.2798 - val_loss: 0.2812\n",
      "Epoch 20/100\n",
      "8/8 [==============================] - 6s 735ms/step - loss: 0.2795 - val_loss: 0.2748\n",
      "Epoch 21/100\n",
      "8/8 [==============================] - 6s 724ms/step - loss: 0.2729 - val_loss: 0.2721\n",
      "Epoch 22/100\n",
      "8/8 [==============================] - 6s 734ms/step - loss: 0.2706 - val_loss: 0.2667\n",
      "Epoch 23/100\n",
      "8/8 [==============================] - 6s 723ms/step - loss: 0.2683 - val_loss: 0.2678\n",
      "Epoch 24/100\n",
      "8/8 [==============================] - 6s 726ms/step - loss: 0.2656 - val_loss: 0.2628\n",
      "Epoch 25/100\n",
      "8/8 [==============================] - 6s 723ms/step - loss: 0.2630 - val_loss: 0.2623\n",
      "Epoch 26/100\n",
      "8/8 [==============================] - 6s 731ms/step - loss: 0.2607 - val_loss: 0.2595\n",
      "Epoch 27/100\n",
      "8/8 [==============================] - 6s 728ms/step - loss: 0.2590 - val_loss: 0.2581\n",
      "Epoch 28/100\n",
      "8/8 [==============================] - 6s 725ms/step - loss: 0.2580 - val_loss: 0.2617\n",
      "Epoch 29/100\n",
      "8/8 [==============================] - 6s 732ms/step - loss: 0.2593 - val_loss: 0.2575\n",
      "Epoch 30/100\n",
      "8/8 [==============================] - 6s 731ms/step - loss: 0.2554 - val_loss: 0.2560\n",
      "Epoch 31/100\n",
      "8/8 [==============================] - 6s 725ms/step - loss: 0.2548 - val_loss: 0.2518\n",
      "Epoch 32/100\n",
      "8/8 [==============================] - 6s 717ms/step - loss: 0.2521 - val_loss: 0.2564\n",
      "Epoch 33/100\n",
      "8/8 [==============================] - 6s 726ms/step - loss: 0.2544 - val_loss: 0.2529\n",
      "Epoch 34/100\n",
      "8/8 [==============================] - 6s 724ms/step - loss: 0.2513 - val_loss: 0.2505\n",
      "Epoch 35/100\n",
      "8/8 [==============================] - 6s 722ms/step - loss: 0.2499 - val_loss: 0.2477\n",
      "Epoch 36/100\n",
      "8/8 [==============================] - 6s 749ms/step - loss: 0.2483 - val_loss: 0.2543\n",
      "Epoch 37/100\n",
      "8/8 [==============================] - 6s 726ms/step - loss: 0.2522 - val_loss: 0.2503\n",
      "Epoch 38/100\n",
      "8/8 [==============================] - 6s 735ms/step - loss: 0.2481 - val_loss: 0.2459\n",
      "Epoch 39/100\n",
      "8/8 [==============================] - 6s 727ms/step - loss: 0.2460 - val_loss: 0.2448\n",
      "Epoch 40/100\n",
      "8/8 [==============================] - 6s 733ms/step - loss: 0.2447 - val_loss: 0.2457\n",
      "Epoch 41/100\n",
      "8/8 [==============================] - 6s 778ms/step - loss: 0.2454 - val_loss: 0.2461\n",
      "Epoch 42/100\n",
      "8/8 [==============================] - 6s 729ms/step - loss: 0.2448 - val_loss: 0.2431\n",
      "Epoch 43/100\n",
      "8/8 [==============================] - 6s 712ms/step - loss: 0.2449 - val_loss: 0.2527\n",
      "Epoch 44/100\n",
      "8/8 [==============================] - 6s 709ms/step - loss: 0.2474 - val_loss: 0.2423\n",
      "Epoch 45/100\n",
      "8/8 [==============================] - 6s 730ms/step - loss: 0.2432 - val_loss: 0.2436\n",
      "Epoch 46/100\n",
      "8/8 [==============================] - 6s 707ms/step - loss: 0.2420 - val_loss: 0.2420\n",
      "Epoch 47/100\n",
      "8/8 [==============================] - 6s 717ms/step - loss: 0.2409 - val_loss: 0.2414\n",
      "Epoch 48/100\n",
      "8/8 [==============================] - 6s 710ms/step - loss: 0.2413 - val_loss: 0.2401\n",
      "Epoch 49/100\n",
      "8/8 [==============================] - 6s 709ms/step - loss: 0.2395 - val_loss: 0.2392\n",
      "Epoch 50/100\n",
      "8/8 [==============================] - 6s 706ms/step - loss: 0.2400 - val_loss: 0.2653\n",
      "Epoch 51/100\n",
      "8/8 [==============================] - 6s 703ms/step - loss: 0.2584 - val_loss: 0.2492\n",
      "Epoch 52/100\n",
      "8/8 [==============================] - 6s 701ms/step - loss: 0.2447 - val_loss: 0.2411\n",
      "Epoch 53/100\n",
      "8/8 [==============================] - 6s 717ms/step - loss: 0.2400 - val_loss: 0.2382\n",
      "Epoch 54/100\n",
      "8/8 [==============================] - 6s 722ms/step - loss: 0.2384 - val_loss: 0.2381\n",
      "Epoch 55/100\n",
      "8/8 [==============================] - 6s 718ms/step - loss: 0.2377 - val_loss: 0.2372\n",
      "Epoch 56/100\n",
      "8/8 [==============================] - 6s 715ms/step - loss: 0.2367 - val_loss: 0.2366\n",
      "Epoch 57/100\n",
      "8/8 [==============================] - 6s 716ms/step - loss: 0.2362 - val_loss: 0.2362\n",
      "Epoch 58/100\n",
      "8/8 [==============================] - 6s 697ms/step - loss: 0.2363 - val_loss: 0.2421\n",
      "Epoch 59/100\n",
      "8/8 [==============================] - 6s 707ms/step - loss: 0.2401 - val_loss: 0.2383\n",
      "Epoch 60/100\n",
      "8/8 [==============================] - 6s 700ms/step - loss: 0.2367 - val_loss: 0.2363\n",
      "Epoch 61/100\n",
      "8/8 [==============================] - 6s 715ms/step - loss: 0.2354 - val_loss: 0.2366\n",
      "Epoch 62/100\n",
      "8/8 [==============================] - 6s 707ms/step - loss: 0.2359 - val_loss: 0.2348\n",
      "Epoch 63/100\n",
      "8/8 [==============================] - 6s 708ms/step - loss: 0.2343 - val_loss: 0.2342\n",
      "Epoch 64/100\n",
      "8/8 [==============================] - 6s 694ms/step - loss: 0.2339 - val_loss: 0.2378\n",
      "Epoch 65/100\n",
      "8/8 [==============================] - 6s 708ms/step - loss: 0.2516 - val_loss: 0.2586\n",
      "Epoch 66/100\n",
      "8/8 [==============================] - 6s 713ms/step - loss: 0.2478 - val_loss: 0.2406\n",
      "Epoch 67/100\n",
      "8/8 [==============================] - 6s 727ms/step - loss: 0.2394 - val_loss: 0.2361\n",
      "Epoch 68/100\n",
      "8/8 [==============================] - 6s 721ms/step - loss: 0.2359 - val_loss: 0.2355\n",
      "Epoch 69/100\n",
      "8/8 [==============================] - 6s 728ms/step - loss: 0.2345 - val_loss: 0.2335\n",
      "Epoch 70/100\n",
      "8/8 [==============================] - 6s 725ms/step - loss: 0.2334 - val_loss: 0.2332\n",
      "Epoch 71/100\n",
      "8/8 [==============================] - 6s 711ms/step - loss: 0.2328 - val_loss: 0.2328\n",
      "Epoch 72/100\n",
      "8/8 [==============================] - 6s 713ms/step - loss: 0.2323 - val_loss: 0.2324\n",
      "Epoch 73/100\n",
      "8/8 [==============================] - 6s 721ms/step - loss: 0.2320 - val_loss: 0.2320\n",
      "Epoch 74/100\n",
      "8/8 [==============================] - 6s 735ms/step - loss: 0.2316 - val_loss: 0.2317\n",
      "Epoch 75/100\n",
      "8/8 [==============================] - 6s 722ms/step - loss: 0.2314 - val_loss: 0.2314\n",
      "Epoch 76/100\n",
      "8/8 [==============================] - 6s 720ms/step - loss: 0.2312 - val_loss: 0.2350\n",
      "Epoch 77/100\n",
      "8/8 [==============================] - 6s 712ms/step - loss: 0.2378 - val_loss: 0.2358\n",
      "Epoch 78/100\n",
      "8/8 [==============================] - 6s 731ms/step - loss: 0.2348 - val_loss: 0.2316\n",
      "Epoch 79/100\n",
      "8/8 [==============================] - 6s 730ms/step - loss: 0.2319 - val_loss: 0.2320\n",
      "Epoch 80/100\n",
      "8/8 [==============================] - 6s 729ms/step - loss: 0.2315 - val_loss: 0.2314\n",
      "Epoch 81/100\n",
      "8/8 [==============================] - 6s 736ms/step - loss: 0.2306 - val_loss: 0.2306\n",
      "Epoch 82/100\n",
      "8/8 [==============================] - 6s 732ms/step - loss: 0.2305 - val_loss: 0.2307\n",
      "Epoch 83/100\n"
     ]
    },
    {
     "name": "stdout",
     "output_type": "stream",
     "text": [
      "8/8 [==============================] - 6s 731ms/step - loss: 0.2308 - val_loss: 0.2379\n",
      "Epoch 84/100\n",
      "8/8 [==============================] - 6s 715ms/step - loss: 0.2365 - val_loss: 0.2343\n",
      "Epoch 85/100\n",
      "8/8 [==============================] - 6s 721ms/step - loss: 0.2319 - val_loss: 0.2310\n",
      "Epoch 86/100\n",
      "8/8 [==============================] - 6s 728ms/step - loss: 0.2299 - val_loss: 0.2311\n",
      "Epoch 87/100\n",
      "8/8 [==============================] - 6s 728ms/step - loss: 0.2298 - val_loss: 0.2291\n",
      "Epoch 88/100\n",
      "8/8 [==============================] - 6s 743ms/step - loss: 0.2295 - val_loss: 0.2372\n",
      "Epoch 89/100\n",
      "8/8 [==============================] - 6s 752ms/step - loss: 0.2373 - val_loss: 0.2351\n",
      "Epoch 90/100\n",
      "8/8 [==============================] - 6s 745ms/step - loss: 0.2323 - val_loss: 0.2291\n",
      "Epoch 91/100\n",
      "8/8 [==============================] - 6s 733ms/step - loss: 0.2295 - val_loss: 0.2287\n",
      "Epoch 92/100\n",
      "8/8 [==============================] - 6s 730ms/step - loss: 0.2290 - val_loss: 0.2283\n",
      "Epoch 93/100\n",
      "8/8 [==============================] - 6s 736ms/step - loss: 0.2287 - val_loss: 0.2298\n",
      "Epoch 94/100\n",
      "8/8 [==============================] - 6s 753ms/step - loss: 0.2286 - val_loss: 0.2282\n",
      "Epoch 95/100\n",
      "8/8 [==============================] - 6s 748ms/step - loss: 0.2304 - val_loss: 0.2415\n",
      "Epoch 96/100\n",
      "8/8 [==============================] - 6s 741ms/step - loss: 0.2351 - val_loss: 0.2292\n",
      "Epoch 97/100\n",
      "8/8 [==============================] - 6s 728ms/step - loss: 0.2300 - val_loss: 0.2294\n",
      "Epoch 98/100\n",
      "8/8 [==============================] - 6s 730ms/step - loss: 0.2284 - val_loss: 0.2275\n",
      "Epoch 99/100\n",
      "8/8 [==============================] - 6s 752ms/step - loss: 0.2274 - val_loss: 0.2271\n",
      "Epoch 100/100\n",
      "8/8 [==============================] - 6s 755ms/step - loss: 0.2272 - val_loss: 0.2286\n"
     ]
    }
   ],
   "source": [
    "autoencoder_train = autoencoder.fit(covset_noise_train, covset_train,\n",
    "                epochs=100,\n",
    "                batch_size=512,\n",
    "                            \n",
    "#                 shuffle=True,\n",
    "                validation_data=(covset_noise_test, covset_test))"
   ]
  },
  {
   "cell_type": "code",
   "execution_count": 19,
   "metadata": {},
   "outputs": [
    {
     "data": {
      "text/plain": [
       "(array([0.1, 0.2, 0.3, 0.4, 0.5, 0.6, 0.7, 0.8, 0.9, 1. , 1.1]),\n",
       " [Text(0, 0, ''),\n",
       "  Text(0, 0, ''),\n",
       "  Text(0, 0, ''),\n",
       "  Text(0, 0, ''),\n",
       "  Text(0, 0, ''),\n",
       "  Text(0, 0, ''),\n",
       "  Text(0, 0, ''),\n",
       "  Text(0, 0, ''),\n",
       "  Text(0, 0, ''),\n",
       "  Text(0, 0, ''),\n",
       "  Text(0, 0, '')])"
      ]
     },
     "execution_count": 19,
     "metadata": {},
     "output_type": "execute_result"
    },
    {
     "data": {
      "image/png": "[encoded data removed]",
      "text/plain": [
       "<Figure size 700x400 with 1 Axes>"
      ]
     },
     "metadata": {
      "needs_background": "light"
     },
     "output_type": "display_data"
    }
   ],
   "source": [
    "plt.figure(figsize=(7, 4), dpi=100)\n",
    "\n",
    "plt.plot(autoencoder_train.history['loss'], color='r', )\n",
    "plt.plot(autoencoder_train.history['val_loss'], color='g')\n",
    "\n",
    "plt.ylabel('MSE', fontsize=11)\n",
    "plt.xlabel('Epoch', fontsize=11)\n",
    "plt.legend(['training set', 'validation set'], loc='upper right', fontsize=15)\n",
    "plt.xticks(fontsize=10)\n",
    "plt.yticks(fontsize=10)\n",
    "# plt.title('Autoencoder', fontsize=8)\n",
    "# plt.savefig('loss_binned_JLA_.png')"
   ]
  },
  {
   "cell_type": "code",
   "execution_count": 20,
   "metadata": {},
   "outputs": [
    {
     "name": "stdout",
     "output_type": "stream",
     "text": [
      "0.22709468007087708 0.22739370167255402\n"
     ]
    }
   ],
   "source": [
    "unet = np.sqrt(np.min(autoencoder_train.history['val_loss']))\n",
    "print(unet**2, np.min(autoencoder_train.history['loss']))"
   ]
  },
  {
   "cell_type": "code",
   "execution_count": 21,
   "metadata": {},
   "outputs": [],
   "source": [
    "file2 = '/home/cosmocicatais/Documents/github/neuralCosmoReconstruction/data/jla_binned_distances_31nodes_v1.txt'\n",
    "data = pd.read_csv(file2, names=['z', '$D_L$'], sep = \" \", skiprows=3)\n",
    "z = data.values[:,0]\n",
    "dl = data.values[:,1:]"
   ]
  },
  {
   "cell_type": "code",
   "execution_count": 22,
   "metadata": {},
   "outputs": [
    {
     "data": {
      "text/plain": [
       "((31, 31), (31, 31))"
      ]
     },
     "execution_count": 22,
     "metadata": {},
     "output_type": "execute_result"
    }
   ],
   "source": [
    "# sns.heatmap(pd.DataFrame(scaler_sys.inverse_transform(covset_noise_test[0])), \n",
    "#         fmt='g', xticklabels=False, yticklabels=False, \n",
    "#         cmap = 'inferno', cbar=True,\n",
    "#         robust=False)\n",
    "# plt.title('Test noise matrix')\n",
    "np.shape(np.mean(covset_noise_test, axis=0)), np.shape(covset_noise_test[0])"
   ]
  },
  {
   "cell_type": "code",
   "execution_count": 23,
   "metadata": {
    "scrolled": true
   },
   "outputs": [
    {
     "name": "stdout",
     "output_type": "stream",
     "text": [
      "(1000, 31, 31)\n",
      "(1, 31, 31, 1)\n",
      "(31, 31)\n"
     ]
    },
    {
     "data": {
      "image/png": "[encoded data removed]",
      "text/plain": [
       "<Figure size 432x288 with 2 Axes>"
      ]
     },
     "metadata": {
      "needs_background": "light"
     },
     "output_type": "display_data"
    }
   ],
   "source": [
    "print(np.shape(covset_noise_test))\n",
    "clean_img = autoencoder.predict(covset_noise_test[0,:,:].reshape(1,31,31))\n",
    "\n",
    "print(np.shape(clean_img))\n",
    "# clean_imgr = np.exp(clean_img.reshape(31,31))\n",
    "clean_imgr = scalercov.inverse_transform(clean_img.reshape(31,31))\n",
    "# clean_imgr = symmetrical(clean_imgr)\n",
    "print(np.shape(clean_imgr))\n",
    "\n",
    "# clean_imgr = symmetrical(clean_imgr)\n",
    "sns.heatmap(pd.DataFrame(clean_imgr), \n",
    "            fmt='g', xticklabels=False, yticklabels=False, \n",
    "            cmap = 'inferno', \n",
    "            robust=False)\n",
    "plt.title('Clean matrix')\n",
    "\n",
    "np.savetxt(\"fake_binned_JLA_COVdecodedTEST1.dat\", clean_imgr.reshape(31,31), delimiter= \" \", header=\"#fake COV\")\n",
    "# scaler_sys.inverse_transform(clean_img.reshape(31,31))"
   ]
  },
  {
   "cell_type": "code",
   "execution_count": 26,
   "metadata": {},
   "outputs": [
    {
     "data": {
      "text/plain": [
       "Text(0.5, 1.0, 'Filled matrix')"
      ]
     },
     "execution_count": 26,
     "metadata": {},
     "output_type": "execute_result"
    },
    {
     "data": {
      "image/png": "[encoded data removed]",
      "text/plain": [
       "<Figure size 432x288 with 2 Axes>"
      ]
     },
     "metadata": {
      "needs_background": "light"
     },
     "output_type": "display_data"
    }
   ],
   "source": [
    "filled_matrix = np.zeros((nsize, nsize))\n",
    "# err = np.random.randn()\n",
    "for row in range(nsize):\n",
    "    for col in range(nsize):\n",
    "        if row == col:\n",
    "#             err = np.random.randn()\n",
    "            filled_matrix[row, col] = syscov[row, col] \n",
    "#     + 0.1*err*magnitudes[row, col]\n",
    "        else:\n",
    "            filled_matrix[row, col] = 0.1*np.random.rand()*10**magnitudes[row, col] # this work with original syscov\n",
    "#             filled_matrix[row, col] = 0.001*np.random.rand()\n",
    "\n",
    "filled_matrix = scalercov.inverse_transform(filled_matrix)\n",
    "# filled_matrix = symmetrical(filled_matrix)\n",
    "\n",
    "sns.heatmap(pd.DataFrame(filled_matrix), \n",
    "            fmt='g', xticklabels=False, yticklabels=False, \n",
    "            cmap = 'inferno', \n",
    "            robust=False)\n",
    "plt.title('Filled matrix')\n"
   ]
  },
  {
   "cell_type": "code",
   "execution_count": 27,
   "metadata": {},
   "outputs": [
    {
     "data": {
      "text/plain": [
       "Text(0.5, 1.0, 'Reconstructed matrix with conv-AE')"
      ]
     },
     "execution_count": 27,
     "metadata": {},
     "output_type": "execute_result"
    },
    {
     "data": {
      "image/png": "[encoded data removed]",
      "text/plain": [
       "<Figure size 432x288 with 2 Axes>"
      ]
     },
     "metadata": {
      "needs_background": "light"
     },
     "output_type": "display_data"
    }
   ],
   "source": [
    "# filled_matrix = scalercov.transform(filled_matrix).reshape(1,31,31,1)\n",
    "filled_matrix = filled_matrix.reshape(1,31,31,1)\n",
    "\n",
    "clean_img = autoencoder.predict(filled_matrix)\n",
    "\n",
    "# clean_imgr = scaler_sys.inverse_transform(clean_img[0,:,:,0])\n",
    "# clean_imgr = scalercov.inverse_transform(clean_img[0,:,:,0].reshape(31,31))\n",
    "\n",
    "sns.heatmap(pd.DataFrame(clean_imgr), \n",
    "            fmt='g', xticklabels=False, yticklabels=False, \n",
    "            cmap = 'inferno', \n",
    "            robust=False)\n",
    "\n",
    "plt.title('Reconstructed matrix with conv-AE')\n",
    "# plt.savefig('rec_matrix_conv_ae.png')"
   ]
  },
  {
   "cell_type": "code",
   "execution_count": null,
   "metadata": {},
   "outputs": [],
   "source": [
    "# clean_imgr = symmetrical(clean_imgr)"
   ]
  },
  {
   "cell_type": "code",
   "execution_count": 28,
   "metadata": {},
   "outputs": [],
   "source": [
    "np.savetxt(\"fake_binned_JLA_COVdecodedTEST2.dat\", clean_imgr.reshape(31,31), delimiter= \" \", header=\"#fake COV\")"
   ]
  },
  {
   "cell_type": "code",
   "execution_count": 29,
   "metadata": {},
   "outputs": [],
   "source": [
    "autoencoder.save('../models/autoencoderCONV_JLA.h5')\n",
    "# decoder.save('../models/decoderJLA.h5')\n",
    "# encoder.save('../models/encoderJLA.h5')"
   ]
  },
  {
   "cell_type": "code",
   "execution_count": null,
   "metadata": {},
   "outputs": [],
   "source": [
    "# sns.heatmap(pd.DataFrame(clean_imgr), \n",
    "#             fmt='g', xticklabels=False, yticklabels=False, \n",
    "#             cmap = 'inferno', \n",
    "#             robust=False)"
   ]
  },
  {
   "cell_type": "code",
   "execution_count": null,
   "metadata": {},
   "outputs": [],
   "source": []
  },
  {
   "cell_type": "code",
   "execution_count": null,
   "metadata": {},
   "outputs": [],
   "source": []
  }
 ],
 "metadata": {
  "kernelspec": {
   "display_name": "Python 3",
   "language": "python",
   "name": "python3"
  },
  "language_info": {
   "codemirror_mode": {
    "name": "ipython",
    "version": 3
   },
   "file_extension": ".py",
   "mimetype": "text/x-python",
   "name": "python",
   "nbconvert_exporter": "python",
   "pygments_lexer": "ipython3",
   "version": "3.8.5"
  }
 },
 "nbformat": 4,
 "nbformat_minor": 2
}
