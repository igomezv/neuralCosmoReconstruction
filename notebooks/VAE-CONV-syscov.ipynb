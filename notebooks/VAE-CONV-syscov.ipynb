{
 "cells": [
  {
   "cell_type": "code",
   "execution_count": 1,
   "metadata": {},
   "outputs": [],
   "source": [
    "import tensorflow as tf\n",
    "from tensorflow.keras.models import Model\n",
    "from tensorflow.keras import backend as K\n",
    "from tensorflow.keras import layers\n",
    "from tensorflow.keras import backend as keras\n",
    "from tensorflow.keras.callbacks import ModelCheckpoint, EarlyStopping, ReduceLROnPlateau\n",
    "from tensorflow.keras.models import Sequential, save_model, load_model\n",
    "from sklearn.preprocessing import StandardScaler, MinMaxScaler, Normalizer\n",
    "import numpy as np\n",
    "import matplotlib.pyplot as plt\n",
    "import pandas as pd\n",
    "import seaborn as sns\n",
    "import scipy as sp\n",
    "import os\n",
    "from astroNN.nn.layers import MCDropout\n",
    "import math\n"
   ]
  },
  {
   "cell_type": "markdown",
   "metadata": {},
   "source": [
    "Reading JLA covariance matrix and examinate the min, max and mean from it. "
   ]
  },
  {
   "cell_type": "code",
   "execution_count": 2,
   "metadata": {},
   "outputs": [
    {
     "name": "stdout",
     "output_type": "stream",
     "text": [
      "-0.01084098704 0.02815552265 0.00039265133851975654\n",
      "(31,) (31,) (31, 31)\n"
     ]
    }
   ],
   "source": [
    "ffnn = tf.keras.models.load_model('../models/FFNN_JLA2.h5')\n",
    "ffnn_do = tf.keras.models.load_model('..models/FFNN_JLA_DO.h5', custom_objects={'MCDropout': MCDropout})\n",
    "\n",
    "\n",
    "syscov = np.loadtxt('../data/cov_jla_binned_distances_31nodes_v1.txt',skiprows=1).reshape((31,31))\n",
    "file = '../data/jla_binned_distances_31nodes_v1.txt'\n",
    "\n",
    "# syscov = np.loadtxt('data/jla_v0_covmatrix.dat',skiprows=1).reshape((740,740))\n",
    "print(np.min(syscov), np.max(syscov), np.mean(syscov))\n",
    "nsize = len(syscov)\n",
    "\n",
    "# scaler_sys = StandardScaler()\n",
    "# scaler_sys.fit(syscov)\n",
    "# syscov_sc = scaler_sys.transform(syscov)\n",
    "data = np.loadtxt(file, skiprows=3)\n",
    "z_redshift = data[:, 0]\n",
    "errors = np.diag(syscov).reshape(nsize,)\n",
    "errors_logs = np.where(errors!= 0, np.log(errors), 0)\n",
    "\n",
    "print(np.shape(data[:,1]), np.shape(errors), np.shape(syscov))\n"
   ]
  },
  {
   "cell_type": "code",
   "execution_count": 3,
   "metadata": {},
   "outputs": [],
   "source": [
    "scalercov = StandardScaler()\n",
    "scalercov.fit(syscov)\n",
    "syscov_sc = scalercov.transform(syscov)\n",
    "\n",
    "scalerdist = StandardScaler()\n",
    "scalerdist.fit(data[:,1].reshape(-1,1))\n",
    "dist_sc = scalerdist.transform(data[:,1].reshape(nsize,1))\n",
    "\n",
    "scalererr = StandardScaler()\n",
    "scalererr.fit(errors.reshape(-1,1))\n",
    "errors_sc = scalerdist.transform(errors.reshape(nsize,1))"
   ]
  },
  {
   "cell_type": "code",
   "execution_count": 4,
   "metadata": {},
   "outputs": [
    {
     "data": {
      "text/plain": [
       "Text(0.5, 1.0, 'Original matrix scaled and extended')"
      ]
     },
     "execution_count": 4,
     "metadata": {},
     "output_type": "execute_result"
    },
    {
     "data": {
      "image/png": "[encoded data removed]",
      "text/plain": [
       "<Figure size 432x288 with 2 Axes>"
      ]
     },
     "metadata": {
      "needs_background": "light"
     },
     "output_type": "display_data"
    }
   ],
   "source": [
    "sns.heatmap(syscov, \n",
    "# sns.heatmap(pd.DataFrame(covset_test[0]), \n",
    "        fmt='g', xticklabels=False, yticklabels=False, \n",
    "        cmap = 'inferno', cbar=True,\n",
    "        robust=False)\n",
    "plt.title('Original matrix scaled and extended')"
   ]
  },
  {
   "cell_type": "code",
   "execution_count": 5,
   "metadata": {},
   "outputs": [],
   "source": [
    "def permutMatrix(omatrix, nmatrix):\n",
    "    nsize = len(omatrix)\n",
    "    matrixset = np.zeros((nmatrix, nsize, nsize))\n",
    "    for it in range(nmatrix):\n",
    "        perm = np.random.permutation(nsize)\n",
    "        P = np.eye(nsize)[perm]\n",
    "        p = P@omatrix@P.T\n",
    "        p = symmetrical(p)\n",
    "        matrixset[it, :, :nsize] = p\n",
    "        \n",
    "    return matrixset\n"
   ]
  },
  {
   "cell_type": "code",
   "execution_count": 6,
   "metadata": {},
   "outputs": [],
   "source": [
    "def symmetrical(matrix):\n",
    "    for i in range(len(matrix)):\n",
    "        for j in range(len(matrix)):\n",
    "    #         if np.iscomplex(syscov[i,j]):\n",
    "    #             print(\"COMPLEX\")\n",
    "            if matrix[i,j] != matrix[j,i]:\n",
    "                    if np.abs(matrix[i, j]) < np.abs(matrix[j,i]):\n",
    "                        matrix[i, j] = matrix[j, i]\n",
    "                    else:\n",
    "                        matrix[j, i] = matrix[i, j]\n",
    "            \n",
    "    return matrix"
   ]
  },
  {
   "cell_type": "code",
   "execution_count": 7,
   "metadata": {},
   "outputs": [],
   "source": [
    "def orderMag(number):\n",
    "    if number == 0.0:\n",
    "        return 0.0\n",
    "    else:\n",
    "        return math.floor(math.log(np.abs(number), 10))\n",
    "\n",
    "def matrixMag(matrix):\n",
    "    mshape = np.shape(matrix)\n",
    "    magMatrix = np.zeros(mshape)\n",
    "    for row in range(nsize):\n",
    "        for col in range(nsize):\n",
    "            magMatrix[row, col] = orderMag(matrix[row, col])\n",
    "    return magMatrix            "
   ]
  },
  {
   "cell_type": "code",
   "execution_count": 8,
   "metadata": {},
   "outputs": [
    {
     "name": "stdout",
     "output_type": "stream",
     "text": [
      "(10000, 31, 31)\n"
     ]
    }
   ],
   "source": [
    "numMatrix = 10000\n",
    "covset = np.zeros((numMatrix, 31, 31))\n",
    "permMatrix = permutMatrix(syscov_sc, numMatrix)\n",
    "# magnitudes = matrixMag(ext_matrix)\n",
    "print(np.shape(permMatrix))"
   ]
  },
  {
   "cell_type": "code",
   "execution_count": 9,
   "metadata": {},
   "outputs": [
    {
     "data": {
      "text/plain": [
       "Text(0.5, 1.0, 'PERMUTATED MATRIX (SCALED)')"
      ]
     },
     "execution_count": 9,
     "metadata": {},
     "output_type": "execute_result"
    },
    {
     "data": {
      "image/png": "[encoded data removed]",
      "text/plain": [
       "<Figure size 432x288 with 2 Axes>"
      ]
     },
     "metadata": {
      "needs_background": "light"
     },
     "output_type": "display_data"
    }
   ],
   "source": [
    "sns.heatmap(pd.DataFrame(permMatrix[0, :, :]), \n",
    "        fmt='g', xticklabels=False, yticklabels=False, \n",
    "        cmap = 'inferno', cbar=True,\n",
    "        robust=False)\n",
    "plt.title(\"PERMUTATED MATRIX (SCALED)\")\n"
   ]
  },
  {
   "cell_type": "code",
   "execution_count": 10,
   "metadata": {},
   "outputs": [
    {
     "data": {
      "text/plain": [
       "Text(0.5, 1.0, 'PERMUTATED MATRIX')"
      ]
     },
     "execution_count": 10,
     "metadata": {},
     "output_type": "execute_result"
    },
    {
     "data": {
      "image/png": "[encoded data removed]",
      "text/plain": [
       "<Figure size 432x288 with 2 Axes>"
      ]
     },
     "metadata": {
      "needs_background": "light"
     },
     "output_type": "display_data"
    }
   ],
   "source": [
    "sns.heatmap(scalercov.inverse_transform(permMatrix[0, :, :]), \n",
    "        fmt='g', xticklabels=False, yticklabels=False, \n",
    "        cmap = 'inferno', cbar=True,\n",
    "        robust=False)\n",
    "plt.title(\"PERMUTATED MATRIX\")"
   ]
  },
  {
   "cell_type": "code",
   "execution_count": 11,
   "metadata": {},
   "outputs": [
    {
     "name": "stdout",
     "output_type": "stream",
     "text": [
      " Generating 10000 matrix                       "
     ]
    }
   ],
   "source": [
    "for i in range(numMatrix): \n",
    "    print(\"\\r Generating {} matrix\".format(i+1), end=\" \")\n",
    "    for row in range(nsize):\n",
    "        for col in range(nsize):\n",
    "            err = np.random.randn()\n",
    "            if row == col:\n",
    "                covset[i, row, col] = permMatrix[i, row, col] + 1e-3*err*10**orderMag(permMatrix[i, row, col])\n",
    "            else:\n",
    "                covset[i, row, col] = permMatrix[i, row, col] + 1e-3*err*10**orderMag(permMatrix[i, row, col])\n"
   ]
  },
  {
   "cell_type": "code",
   "execution_count": 12,
   "metadata": {},
   "outputs": [
    {
     "name": "stdout",
     "output_type": "stream",
     "text": [
      "(10000, 31, 31)\n"
     ]
    }
   ],
   "source": [
    "print(np.shape(covset))\n",
    "split = 0.8\n",
    "ntrain = int(split * numMatrix)\n",
    "indx = [ntrain]\n",
    "covset_train, covset_test = np.split(covset, indx, axis=0)\n",
    "# covset_noise_train, covset_noise_test = np.split(covset_noise, indx, axis=0)\n",
    "# np.shape(covset_noise_test)"
   ]
  },
  {
   "cell_type": "code",
   "execution_count": 13,
   "metadata": {},
   "outputs": [
    {
     "data": {
      "text/plain": [
       "Text(0.5, 1.0, 'TEST MATRIX')"
      ]
     },
     "execution_count": 13,
     "metadata": {},
     "output_type": "execute_result"
    },
    {
     "data": {
      "image/png": "[encoded data removed]",
      "text/plain": [
       "<Figure size 432x288 with 2 Axes>"
      ]
     },
     "metadata": {
      "needs_background": "light"
     },
     "output_type": "display_data"
    }
   ],
   "source": [
    "sns.heatmap(pd.DataFrame(covset_test[0,:,:]), \n",
    "        fmt='g', xticklabels=False, yticklabels=False, \n",
    "        cmap = 'inferno', cbar=True,\n",
    "        robust=False)\n",
    "plt.title(\"TEST MATRIX\")"
   ]
  },
  {
   "cell_type": "markdown",
   "metadata": {},
   "source": [
    "# Start design of ConVAE"
   ]
  },
  {
   "cell_type": "code",
   "execution_count": 14,
   "metadata": {},
   "outputs": [],
   "source": [
    "# Sampling class from https://github.com/keras-team/keras-io\n",
    "\n",
    "class Sampling(layers.Layer):\n",
    "    \"\"\"Uses (z_mean, z_log_var) to sample z, the vector encoding a digit.\"\"\"\n",
    "\n",
    "    def call(self, inputs):\n",
    "        z_mean, z_log_var = inputs\n",
    "        batch = tf.shape(z_mean)[0]\n",
    "        dim = tf.shape(z_mean)[1]\n",
    "        epsilon = tf.keras.backend.random_normal(shape=(batch, dim))\n",
    "        return z_mean + tf.exp(0.5 * z_log_var) * epsilon"
   ]
  },
  {
   "cell_type": "code",
   "execution_count": 15,
   "metadata": {},
   "outputs": [
    {
     "name": "stdout",
     "output_type": "stream",
     "text": [
      "Model: \"encoder\"\n",
      "__________________________________________________________________________________________________\n",
      "Layer (type)                    Output Shape         Param #     Connected to                     \n",
      "==================================================================================================\n",
      "encoder_input (InputLayer)      [(None, 31, 31, 1)]  0                                            \n",
      "__________________________________________________________________________________________________\n",
      "zero_padding2d (ZeroPadding2D)  (None, 40, 40, 1)    0           encoder_input[0][0]              \n",
      "__________________________________________________________________________________________________\n",
      "conv2d (Conv2D)                 (None, 20, 20, 32)   320         zero_padding2d[0][0]             \n",
      "__________________________________________________________________________________________________\n",
      "max_pooling2d (MaxPooling2D)    (None, 10, 10, 32)   0           conv2d[0][0]                     \n",
      "__________________________________________________________________________________________________\n",
      "conv2d_1 (Conv2D)               (None, 5, 5, 64)     18496       max_pooling2d[0][0]              \n",
      "__________________________________________________________________________________________________\n",
      "max_pooling2d_1 (MaxPooling2D)  (None, 3, 3, 64)     0           conv2d_1[0][0]                   \n",
      "__________________________________________________________________________________________________\n",
      "conv2d_2 (Conv2D)               (None, 3, 3, 64)     36928       max_pooling2d_1[0][0]            \n",
      "__________________________________________________________________________________________________\n",
      "max_pooling2d_2 (MaxPooling2D)  (None, 2, 2, 64)     0           conv2d_2[0][0]                   \n",
      "__________________________________________________________________________________________________\n",
      "flatten (Flatten)               (None, 256)          0           max_pooling2d_2[0][0]            \n",
      "__________________________________________________________________________________________________\n",
      "dense (Dense)                   (None, 100)          25700       flatten[0][0]                    \n",
      "__________________________________________________________________________________________________\n",
      "dense_1 (Dense)                 (None, 50)           5050        dense[0][0]                      \n",
      "__________________________________________________________________________________________________\n",
      "dense_2 (Dense)                 (None, 2)            102         dense_1[0][0]                    \n",
      "__________________________________________________________________________________________________\n",
      "dense_3 (Dense)                 (None, 2)            102         dense_1[0][0]                    \n",
      "__________________________________________________________________________________________________\n",
      "sampling (Sampling)             (None, 2)            0           dense_2[0][0]                    \n",
      "                                                                 dense_3[0][0]                    \n",
      "==================================================================================================\n",
      "Total params: 86,698\n",
      "Trainable params: 86,698\n",
      "Non-trainable params: 0\n",
      "__________________________________________________________________________________________________\n"
     ]
    }
   ],
   "source": [
    "input_shape = (31, 31, 1)\n",
    "latent_dim = 2\n",
    "\n",
    "\n",
    "inputs = tf.keras.Input(shape=input_shape, name='encoder_input')\n",
    "# ((top_pad, bottom_pad), (left_pad, right_pad))\n",
    "x = layers.ZeroPadding2D(((5,4),(5,4)))(inputs)\n",
    "x = layers.Conv2D(32, (3, 3), activation='relu', strides=2, padding='same')(x)\n",
    "x = layers.MaxPooling2D((2, 2), padding='same')(x)\n",
    "x = layers.Conv2D(64, (3, 3), activation='relu', strides=2, padding='same')(x)\n",
    "x = layers.MaxPooling2D((2, 2), padding='same')(x)\n",
    "x = layers.Conv2D(64, (3, 3), activation='relu', padding='same')(x)\n",
    "x = layers.MaxPooling2D((2, 2), padding='same')(x)\n",
    "shape_enc = K.int_shape(x)\n",
    "x = layers.Flatten()(x)\n",
    "x = layers.Dense(100)(x)\n",
    "x = layers.Dense(50)(x)\n",
    "z_mean = layers.Dense(latent_dim)(x)\n",
    "z_log_var = layers.Dense(latent_dim)(x)\n",
    "\n",
    "# use reparameterization trick to push the sampling out as input\n",
    "# note that \"output_shape\" isn't necessary with the TensorFlow backend\n",
    "# z = layers.Lambda(sampling, output_shape=(latent_dim,), name='z')([z_mean, z_log_sigma])\n",
    "z = Sampling()([z_mean, z_log_var])\n",
    "\n",
    "# z = layers.Lambda(sampling)([z_mean, z_log_sigma])\n",
    "encoder = tf.keras.Model(inputs, [z_mean, z_log_var, z], name='encoder')\n",
    "encoder.summary()\n"
   ]
  },
  {
   "cell_type": "code",
   "execution_count": 16,
   "metadata": {},
   "outputs": [
    {
     "name": "stdout",
     "output_type": "stream",
     "text": [
      "Model: \"decoder\"\n",
      "_________________________________________________________________\n",
      "Layer (type)                 Output Shape              Param #   \n",
      "=================================================================\n",
      "z_sampling (InputLayer)      [(None, 2)]               0         \n",
      "_________________________________________________________________\n",
      "dense_4 (Dense)              (None, 256)               768       \n",
      "_________________________________________________________________\n",
      "reshape (Reshape)            (None, 2, 2, 64)          0         \n",
      "_________________________________________________________________\n",
      "dense_5 (Dense)              (None, 2, 2, 50)          3250      \n",
      "_________________________________________________________________\n",
      "dense_6 (Dense)              (None, 2, 2, 100)         5100      \n",
      "_________________________________________________________________\n",
      "conv2d_transpose (Conv2DTran (None, 4, 4, 64)          57664     \n",
      "_________________________________________________________________\n",
      "conv2d_transpose_1 (Conv2DTr (None, 8, 8, 64)          36928     \n",
      "_________________________________________________________________\n",
      "conv2d_transpose_2 (Conv2DTr (None, 16, 16, 32)        18464     \n",
      "_________________________________________________________________\n",
      "conv2d_transpose_3 (Conv2DTr (None, 32, 32, 1)         289       \n",
      "_________________________________________________________________\n",
      "cropping2d (Cropping2D)      (None, 31, 31, 1)         0         \n",
      "=================================================================\n",
      "Total params: 122,463\n",
      "Trainable params: 122,463\n",
      "Non-trainable params: 0\n",
      "_________________________________________________________________\n"
     ]
    }
   ],
   "source": [
    "latent_inputs = tf.keras.Input(shape=(latent_dim,), name='z_sampling')\n",
    "x = layers.Dense(shape_enc[1] * shape_enc[2] * shape_enc[3], activation='relu')(latent_inputs)\n",
    "x = layers.Reshape((shape_enc[1], shape_enc[2], shape_enc[3]))(x)\n",
    "x = layers.Dense(50)(x)\n",
    "x = layers.Dense(100)(x)\n",
    "x = layers.Conv2DTranspose(64, (3,3), activation='relu', strides=2, padding='same')(x)\n",
    "x = layers.Conv2DTranspose(64, (3,3), activation='relu', strides=2, padding='same')(x)\n",
    "x = layers.Conv2DTranspose(32, (3,3), activation='relu', strides=2, padding='same')(x)\n",
    "x = layers.Conv2DTranspose(1, (3,3), activation='linear', strides=2, padding='same')(x)\n",
    "# x = layers.Conv2D(8, (3, 3), activation='relu', padding='same')(x)\n",
    "# x = layers.UpSampling2D((2, 2))(x)\n",
    "# x = layers.Conv2D(16, (3, 3), activation='relu', padding='same')(x)\n",
    "# x = layers.UpSampling2D((2, 2))(x)\n",
    "# x = layers.Conv2D(32, (5, 5), activation='relu', padding='same')(x)\n",
    "# x = layers.UpSampling2D((2, 2))(x)\n",
    "# x = layers.Conv2D(1, (5, 5), activation='linear', padding='same')(x)\n",
    "outputs = layers.Cropping2D(cropping=((1, 0), (1, 0)))(x)\n",
    "\n",
    "# Decoder model\n",
    "decoder = tf.keras.Model(latent_inputs, outputs, name='decoder')\n",
    "decoder.summary()"
   ]
  },
  {
   "cell_type": "code",
   "execution_count": 17,
   "metadata": {},
   "outputs": [
    {
     "name": "stdout",
     "output_type": "stream",
     "text": [
      "Model: \"vae_conv\"\n",
      "_________________________________________________________________\n",
      "Layer (type)                 Output Shape              Param #   \n",
      "=================================================================\n",
      "encoder_input (InputLayer)   [(None, 31, 31, 1)]       0         \n",
      "_________________________________________________________________\n",
      "encoder (Functional)         [(None, 2), (None, 2), (N 86698     \n",
      "_________________________________________________________________\n",
      "decoder (Functional)         (None, 31, 31, 1)         122463    \n",
      "=================================================================\n",
      "Total params: 209,161\n",
      "Trainable params: 209,161\n",
      "Non-trainable params: 0\n",
      "_________________________________________________________________\n"
     ]
    }
   ],
   "source": [
    "# instantiate VAE model\n",
    "outputs = decoder(encoder(inputs)[2])\n",
    "vae = tf.keras.Model(inputs, outputs, name='vae_conv')\n",
    "vae.summary()"
   ]
  },
  {
   "cell_type": "code",
   "execution_count": 18,
   "metadata": {},
   "outputs": [],
   "source": [
    "# VAE class from https://github.com/keras-team/keras-io\n",
    "class VAE(tf.keras.Model):\n",
    "    def __init__(self, encoder, decoder, **kwargs):\n",
    "        super(VAE, self).__init__(**kwargs)\n",
    "        self.encoder = encoder\n",
    "        self.decoder = decoder\n",
    "        self.total_loss_tracker = tf.keras.metrics.Mean(name=\"total_loss\")\n",
    "        self.reconstruction_loss_tracker = tf.keras.metrics.Mean(\n",
    "            name=\"reconstruction_loss\"\n",
    "        )\n",
    "        self.kl_loss_tracker = tf.keras.metrics.Mean(name=\"kl_loss\")\n",
    "\n",
    "    @property\n",
    "    def metrics(self):\n",
    "        return [\n",
    "            self.total_loss_tracker,\n",
    "            self.reconstruction_loss_tracker,\n",
    "            self.kl_loss_tracker,\n",
    "        ]\n",
    "\n",
    "    def train_step(self, data):\n",
    "        with tf.GradientTape() as tape:\n",
    "            z_mean, z_log_var, z = self.encoder(data)\n",
    "            reconstruction = self.decoder(z)\n",
    "            reconstruction_loss = tf.reduce_mean(\n",
    "                tf.reduce_sum(\n",
    "                    tf.keras.losses.binary_crossentropy(data, reconstruction), axis=(1, 2)\n",
    "                )\n",
    "            )\n",
    "            kl_loss = -0.5 * (1 + z_log_var - tf.square(z_mean) - tf.exp(z_log_var))\n",
    "            kl_loss = tf.reduce_mean(tf.reduce_sum(kl_loss, axis=1))\n",
    "            total_loss = reconstruction_loss + kl_loss\n",
    "        grads = tape.gradient(total_loss, self.trainable_weights)\n",
    "        self.optimizer.apply_gradients(zip(grads, self.trainable_weights))\n",
    "        self.total_loss_tracker.update_state(total_loss)\n",
    "        self.reconstruction_loss_tracker.update_state(reconstruction_loss)\n",
    "        self.kl_loss_tracker.update_state(kl_loss)\n",
    "        return {\n",
    "            \"loss\": self.total_loss_tracker.result(),\n",
    "            \"reconstruction_loss\": self.reconstruction_loss_tracker.result(),\n",
    "            \"kl_loss\": self.kl_loss_tracker.result(),\n",
    "        }\n"
   ]
  },
  {
   "cell_type": "code",
   "execution_count": 19,
   "metadata": {},
   "outputs": [],
   "source": [
    "vae = VAE(encoder, decoder)\n",
    "vae.compile(optimizer=tf.keras.optimizers.Adam())\n",
    "\n",
    "covmatrixset = np.concatenate([covset_train, covset_train], axis=0)\n",
    "covmatrixset = np.expand_dims(covmatrixset, -1).astype(\"float32\")\n",
    "\n"
   ]
  },
  {
   "cell_type": "markdown",
   "metadata": {},
   "source": [
    "### TRAINING"
   ]
  },
  {
   "cell_type": "code",
   "execution_count": 20,
   "metadata": {},
   "outputs": [
    {
     "name": "stdout",
     "output_type": "stream",
     "text": [
      "Epoch 1/150\n",
      "125/125 [==============================] - 4s 24ms/step - loss: -1970.4146 - reconstruction_loss: -2782.5930 - kl_loss: 61.6702\n",
      "Epoch 2/150\n",
      "125/125 [==============================] - 3s 25ms/step - loss: -3444.9206 - reconstruction_loss: -3461.2175 - kl_loss: 11.7450\n",
      "Epoch 3/150\n",
      "125/125 [==============================] - 3s 25ms/step - loss: -3453.4080 - reconstruction_loss: -3461.2144 - kl_loss: 10.8161\n",
      "Epoch 4/150\n",
      "125/125 [==============================] - 3s 24ms/step - loss: -3450.7310 - reconstruction_loss: -3461.8320 - kl_loss: 6.5303\n",
      "Epoch 5/150\n",
      "125/125 [==============================] - 3s 23ms/step - loss: -3457.7408 - reconstruction_loss: -3461.6621 - kl_loss: 3.5375\n",
      "Epoch 6/150\n",
      "125/125 [==============================] - 3s 22ms/step - loss: -3458.6409 - reconstruction_loss: -3462.1348 - kl_loss: 6.6701\n",
      "Epoch 7/150\n",
      "125/125 [==============================] - 3s 22ms/step - loss: -3410.5520 - reconstruction_loss: -3461.1841 - kl_loss: 24.2305\n",
      "Epoch 8/150\n",
      "125/125 [==============================] - 3s 22ms/step - loss: -3458.6884 - reconstruction_loss: -3461.9482 - kl_loss: 2.7675\n",
      "Epoch 9/150\n",
      "125/125 [==============================] - 3s 22ms/step - loss: -3459.2000 - reconstruction_loss: -3462.0559 - kl_loss: 2.4842\n",
      "Epoch 10/150\n",
      "125/125 [==============================] - 3s 23ms/step - loss: -3535.9959 - reconstruction_loss: -3575.2849 - kl_loss: 3.9791\n",
      "Epoch 11/150\n",
      "125/125 [==============================] - 3s 23ms/step - loss: -3593.9908 - reconstruction_loss: -3596.5576 - kl_loss: 2.2973\n",
      "Epoch 12/150\n",
      "125/125 [==============================] - 3s 22ms/step - loss: -3594.4820 - reconstruction_loss: -3596.5796 - kl_loss: 1.9132\n",
      "Epoch 13/150\n",
      "125/125 [==============================] - 3s 22ms/step - loss: -3594.8317 - reconstruction_loss: -3596.7202 - kl_loss: 1.7619\n",
      "Epoch 14/150\n",
      "125/125 [==============================] - 3s 22ms/step - loss: -3594.3529 - reconstruction_loss: -3596.2441 - kl_loss: 1.6599\n",
      "Epoch 15/150\n",
      "125/125 [==============================] - 3s 22ms/step - loss: -3595.2767 - reconstruction_loss: -3596.6660 - kl_loss: 1.3902\n",
      "Epoch 16/150\n",
      "125/125 [==============================] - 3s 23ms/step - loss: -3594.6340 - reconstruction_loss: -3596.7554 - kl_loss: 1.4644: 1s - loss: -3594.2966 - reconstruction_loss: -3596.7014 \n",
      "Epoch 17/150\n",
      "125/125 [==============================] - 3s 23ms/step - loss: -3595.2975 - reconstruction_loss: -3596.7419 - kl_loss: 2.1217\n",
      "Epoch 18/150\n",
      "125/125 [==============================] - 3s 23ms/step - loss: -3595.5490 - reconstruction_loss: -3596.6577 - kl_loss: 1.0027\n",
      "Epoch 19/150\n",
      "125/125 [==============================] - 3s 23ms/step - loss: -3595.6132 - reconstruction_loss: -3596.6379 - kl_loss: 0.7878\n",
      "Epoch 20/150\n",
      "125/125 [==============================] - 3s 23ms/step - loss: -3595.8603 - reconstruction_loss: -3596.8733 - kl_loss: 1.6341\n",
      "Epoch 21/150\n",
      "125/125 [==============================] - 3s 23ms/step - loss: -3596.2007 - reconstruction_loss: -3596.8875 - kl_loss: 0.6020\n",
      "Epoch 22/150\n",
      "125/125 [==============================] - 3s 22ms/step - loss: -3596.2168 - reconstruction_loss: -3596.8586 - kl_loss: 0.2343\n",
      "Epoch 23/150\n",
      "125/125 [==============================] - 3s 23ms/step - loss: -3596.7445 - reconstruction_loss: -3596.9182 - kl_loss: 0.0275\n",
      "Epoch 24/150\n",
      "125/125 [==============================] - 3s 22ms/step - loss: -3596.6302 - reconstruction_loss: -3596.8193 - kl_loss: 0.0319\n",
      "Epoch 25/150\n",
      "125/125 [==============================] - 3s 27ms/step - loss: -3597.0928 - reconstruction_loss: -3596.9182 - kl_loss: 0.0151\n",
      "Epoch 26/150\n",
      "125/125 [==============================] - 3s 26ms/step - loss: -3596.9364 - reconstruction_loss: -3596.9194 - kl_loss: 0.0069\n",
      "Epoch 27/150\n",
      "125/125 [==============================] - 3s 24ms/step - loss: -3596.7834 - reconstruction_loss: -3596.9258 - kl_loss: 0.0065\n",
      "Epoch 28/150\n",
      "125/125 [==============================] - 3s 24ms/step - loss: -3597.1106 - reconstruction_loss: -3596.9253 - kl_loss: 0.0059\n",
      "Epoch 29/150\n",
      "125/125 [==============================] - 3s 24ms/step - loss: -3596.8511 - reconstruction_loss: -3596.9255 - kl_loss: 0.0054\n",
      "Epoch 30/150\n",
      "125/125 [==============================] - 3s 24ms/step - loss: -3597.1787 - reconstruction_loss: -3596.9250 - kl_loss: 0.0049\n",
      "Epoch 31/150\n",
      "125/125 [==============================] - 3s 24ms/step - loss: -3596.4599 - reconstruction_loss: -3596.9250 - kl_loss: 0.0046\n",
      "Epoch 32/150\n",
      "125/125 [==============================] - 3s 25ms/step - loss: -3596.5740 - reconstruction_loss: -3596.9253 - kl_loss: 0.0042\n",
      "Epoch 33/150\n",
      "125/125 [==============================] - 3s 25ms/step - loss: -3597.0959 - reconstruction_loss: -3596.9255 - kl_loss: 0.0038\n",
      "Epoch 34/150\n",
      "125/125 [==============================] - 3s 23ms/step - loss: -3597.1420 - reconstruction_loss: -3596.9246 - kl_loss: 0.0035\n",
      "Epoch 35/150\n",
      "125/125 [==============================] - 3s 24ms/step - loss: -3597.2202 - reconstruction_loss: -3596.9246 - kl_loss: 0.0031\n",
      "Epoch 36/150\n",
      "125/125 [==============================] - 3s 25ms/step - loss: -3596.8501 - reconstruction_loss: -3596.9258 - kl_loss: 0.0028\n",
      "Epoch 37/150\n",
      "125/125 [==============================] - 3s 27ms/step - loss: -3596.9037 - reconstruction_loss: -3596.9258 - kl_loss: 0.0025\n",
      "Epoch 38/150\n",
      "125/125 [==============================] - 3s 23ms/step - loss: -3596.6667 - reconstruction_loss: -3596.9255 - kl_loss: 0.0023\n",
      "Epoch 39/150\n",
      "125/125 [==============================] - 3s 23ms/step - loss: -3596.9387 - reconstruction_loss: -3596.9258 - kl_loss: 0.0021\n",
      "Epoch 40/150\n",
      "125/125 [==============================] - 3s 24ms/step - loss: -3596.7513 - reconstruction_loss: -3596.9255 - kl_loss: 0.0019\n",
      "Epoch 41/150\n",
      "125/125 [==============================] - 3s 27ms/step - loss: -3597.0955 - reconstruction_loss: -3596.9243 - kl_loss: 0.0017\n",
      "Epoch 42/150\n",
      "125/125 [==============================] - 4s 29ms/step - loss: -3596.9739 - reconstruction_loss: -3596.9255 - kl_loss: 0.0016\n",
      "Epoch 43/150\n",
      "125/125 [==============================] - 3s 28ms/step - loss: -3596.5475 - reconstruction_loss: -3596.9263 - kl_loss: 0.0015\n",
      "Epoch 44/150\n",
      "125/125 [==============================] - 3s 26ms/step - loss: -3596.9012 - reconstruction_loss: -3596.9248 - kl_loss: 0.0014\n",
      "Epoch 45/150\n",
      "125/125 [==============================] - 3s 26ms/step - loss: -3596.6551 - reconstruction_loss: -3596.9263 - kl_loss: 0.0013\n",
      "Epoch 46/150\n",
      "125/125 [==============================] - 4s 32ms/step - loss: -3596.6979 - reconstruction_loss: -3596.9248 - kl_loss: 0.0012\n",
      "Epoch 47/150\n",
      "125/125 [==============================] - 3s 25ms/step - loss: -3596.9048 - reconstruction_loss: -3596.9258 - kl_loss: 0.0011\n",
      "Epoch 48/150\n",
      "125/125 [==============================] - 3s 24ms/step - loss: -3596.8026 - reconstruction_loss: -3596.9248 - kl_loss: 0.0010\n",
      "Epoch 49/150\n",
      "125/125 [==============================] - 3s 25ms/step - loss: -3596.7422 - reconstruction_loss: -3596.9263 - kl_loss: 9.7671e-04\n",
      "Epoch 50/150\n",
      "125/125 [==============================] - 3s 27ms/step - loss: -3597.0071 - reconstruction_loss: -3596.9246 - kl_loss: 9.1579e-04\n",
      "Epoch 51/150\n",
      "125/125 [==============================] - 4s 30ms/step - loss: -3596.9590 - reconstruction_loss: -3596.9250 - kl_loss: 9.2053e-04\n",
      "Epoch 52/150\n",
      "125/125 [==============================] - 3s 26ms/step - loss: -3596.7626 - reconstruction_loss: -3596.9258 - kl_loss: 8.0784e-04\n",
      "Epoch 53/150\n",
      "125/125 [==============================] - 3s 22ms/step - loss: -3597.1253 - reconstruction_loss: -3596.9250 - kl_loss: 7.5371e-04\n",
      "Epoch 54/150\n",
      "125/125 [==============================] - 3s 23ms/step - loss: -3596.9893 - reconstruction_loss: -3596.9265 - kl_loss: 7.0465e-04\n",
      "Epoch 55/150\n",
      "125/125 [==============================] - 3s 21ms/step - loss: -3596.9717 - reconstruction_loss: -3596.9258 - kl_loss: 6.5681e-04\n",
      "Epoch 56/150\n",
      "125/125 [==============================] - 3s 23ms/step - loss: -3597.1725 - reconstruction_loss: -3596.9253 - kl_loss: 6.1532e-04\n",
      "Epoch 57/150\n",
      "125/125 [==============================] - 3s 23ms/step - loss: -3596.9418 - reconstruction_loss: -3596.9255 - kl_loss: 5.7424e-04\n",
      "Epoch 58/150\n"
     ]
    },
    {
     "name": "stdout",
     "output_type": "stream",
     "text": [
      "125/125 [==============================] - 3s 24ms/step - loss: -3596.9735 - reconstruction_loss: -3596.9248 - kl_loss: 5.3561e-04\n",
      "Epoch 59/150\n",
      "125/125 [==============================] - 3s 22ms/step - loss: -3597.1153 - reconstruction_loss: -3596.9250 - kl_loss: 4.9951e-04\n",
      "Epoch 60/150\n",
      "125/125 [==============================] - 3s 21ms/step - loss: -3596.7289 - reconstruction_loss: -3596.9253 - kl_loss: 4.6818e-04\n",
      "Epoch 61/150\n",
      "125/125 [==============================] - 3s 22ms/step - loss: -3596.9372 - reconstruction_loss: -3596.9246 - kl_loss: 4.3904e-04\n",
      "Epoch 62/150\n",
      "125/125 [==============================] - 3s 22ms/step - loss: -3597.0377 - reconstruction_loss: -3596.9250 - kl_loss: 4.1001e-04\n",
      "Epoch 63/150\n",
      "125/125 [==============================] - 3s 24ms/step - loss: -3596.8711 - reconstruction_loss: -3596.9255 - kl_loss: 3.8460e-04\n",
      "Epoch 64/150\n",
      "125/125 [==============================] - 3s 23ms/step - loss: -3596.9033 - reconstruction_loss: -3596.9258 - kl_loss: 3.6287e-04\n",
      "Epoch 65/150\n",
      "125/125 [==============================] - 3s 24ms/step - loss: -3597.0016 - reconstruction_loss: -3596.9258 - kl_loss: 3.4103e-04\n",
      "Epoch 66/150\n",
      "125/125 [==============================] - 3s 23ms/step - loss: -3596.7211 - reconstruction_loss: -3596.9265 - kl_loss: 3.2078e-04\n",
      "Epoch 67/150\n",
      "125/125 [==============================] - 3s 23ms/step - loss: -3597.0379 - reconstruction_loss: -3596.9255 - kl_loss: 3.0280e-04\n",
      "Epoch 68/150\n",
      "125/125 [==============================] - 3s 23ms/step - loss: -3596.8202 - reconstruction_loss: -3596.9265 - kl_loss: 2.8770e-04\n",
      "Epoch 69/150\n",
      "125/125 [==============================] - 3s 25ms/step - loss: -3597.0200 - reconstruction_loss: -3596.9260 - kl_loss: 2.7238e-04\n",
      "Epoch 70/150\n",
      "125/125 [==============================] - 3s 25ms/step - loss: -3596.4563 - reconstruction_loss: -3596.9258 - kl_loss: 2.5733e-04\n",
      "Epoch 71/150\n",
      "125/125 [==============================] - 3s 21ms/step - loss: -3597.0484 - reconstruction_loss: -3596.9253 - kl_loss: 2.4487e-04\n",
      "Epoch 72/150\n",
      "125/125 [==============================] - 3s 22ms/step - loss: -3596.9554 - reconstruction_loss: -3596.9260 - kl_loss: 2.3046e-04\n",
      "Epoch 73/150\n",
      "125/125 [==============================] - 3s 24ms/step - loss: -3596.9438 - reconstruction_loss: -3596.9258 - kl_loss: 2.1718e-04\n",
      "Epoch 74/150\n",
      "125/125 [==============================] - 3s 22ms/step - loss: -3596.7854 - reconstruction_loss: -3596.9253 - kl_loss: 2.0476e-04\n",
      "Epoch 75/150\n",
      "125/125 [==============================] - 3s 24ms/step - loss: -3596.9959 - reconstruction_loss: -3596.9255 - kl_loss: 1.9267e-04\n",
      "Epoch 76/150\n",
      "125/125 [==============================] - 3s 24ms/step - loss: -3596.9148 - reconstruction_loss: -3596.9253 - kl_loss: 1.8187e-04\n",
      "Epoch 77/150\n",
      "125/125 [==============================] - 3s 25ms/step - loss: -3596.5825 - reconstruction_loss: -3596.9265 - kl_loss: 1.7492e-04\n",
      "Epoch 78/150\n",
      "125/125 [==============================] - 3s 24ms/step - loss: -3596.7167 - reconstruction_loss: -3596.9260 - kl_loss: 1.6205e-04\n",
      "Epoch 79/150\n",
      "125/125 [==============================] - 3s 24ms/step - loss: -3596.9253 - reconstruction_loss: -3596.9250 - kl_loss: 1.5155e-04\n",
      "Epoch 80/150\n",
      "125/125 [==============================] - 3s 24ms/step - loss: -3596.9936 - reconstruction_loss: -3596.9260 - kl_loss: 1.4364e-04\n",
      "Epoch 81/150\n",
      "125/125 [==============================] - 3s 27ms/step - loss: -3597.0867 - reconstruction_loss: -3596.9243 - kl_loss: 1.3421e-04\n",
      "Epoch 82/150\n",
      "125/125 [==============================] - 3s 25ms/step - loss: -3597.0630 - reconstruction_loss: -3596.9253 - kl_loss: 1.2801e-04\n",
      "Epoch 83/150\n",
      "125/125 [==============================] - 3s 25ms/step - loss: -3596.8622 - reconstruction_loss: -3596.9253 - kl_loss: 1.1930e-04\n",
      "Epoch 84/150\n",
      "125/125 [==============================] - 3s 24ms/step - loss: -3596.7426 - reconstruction_loss: -3596.9246 - kl_loss: 1.1260e-04\n",
      "Epoch 85/150\n",
      "125/125 [==============================] - 3s 25ms/step - loss: -3597.1554 - reconstruction_loss: -3596.9260 - kl_loss: 1.0669e-04\n",
      "Epoch 86/150\n",
      "125/125 [==============================] - 3s 25ms/step - loss: -3596.8519 - reconstruction_loss: -3596.9255 - kl_loss: 9.8592e-05\n",
      "Epoch 87/150\n",
      "125/125 [==============================] - 3s 28ms/step - loss: -3596.9770 - reconstruction_loss: -3596.9246 - kl_loss: 9.4566e-05\n",
      "Epoch 88/150\n",
      "125/125 [==============================] - 4s 28ms/step - loss: -3596.7591 - reconstruction_loss: -3596.9248 - kl_loss: 8.8414e-05\n",
      "Epoch 89/150\n",
      "125/125 [==============================] - 3s 27ms/step - loss: -3597.0303 - reconstruction_loss: -3596.9255 - kl_loss: 8.4389e-05\n",
      "Epoch 90/150\n",
      "125/125 [==============================] - 3s 27ms/step - loss: -3597.0445 - reconstruction_loss: -3596.9255 - kl_loss: 7.8944e-05\n",
      "Epoch 91/150\n",
      "125/125 [==============================] - 3s 27ms/step - loss: -3597.0863 - reconstruction_loss: -3596.9263 - kl_loss: 7.4631e-05\n",
      "Epoch 92/150\n",
      "125/125 [==============================] - 4s 28ms/step - loss: -3596.9267 - reconstruction_loss: -3596.9255 - kl_loss: 6.9054e-05\n",
      "Epoch 93/150\n",
      "125/125 [==============================] - 4s 28ms/step - loss: -3596.9599 - reconstruction_loss: -3596.9253 - kl_loss: 6.3976e-05\n",
      "Epoch 94/150\n",
      "125/125 [==============================] - 3s 28ms/step - loss: -3597.0891 - reconstruction_loss: -3596.9255 - kl_loss: 5.9788e-05\n",
      "Epoch 95/150\n",
      "125/125 [==============================] - 3s 27ms/step - loss: -3597.0155 - reconstruction_loss: -3596.9250 - kl_loss: 5.7741e-05\n",
      "Epoch 96/150\n",
      "125/125 [==============================] - 3s 27ms/step - loss: -3596.9488 - reconstruction_loss: -3596.9258 - kl_loss: 5.4306e-05\n",
      "Epoch 97/150\n",
      "125/125 [==============================] - 3s 26ms/step - loss: -3597.1461 - reconstruction_loss: -3596.9255 - kl_loss: 4.9742e-05\n",
      "Epoch 98/150\n",
      "125/125 [==============================] - 3s 27ms/step - loss: -3596.8135 - reconstruction_loss: -3596.9250 - kl_loss: 4.8366e-05\n",
      "Epoch 99/150\n",
      "125/125 [==============================] - 3s 28ms/step - loss: -3597.2372 - reconstruction_loss: -3596.9258 - kl_loss: 4.4949e-05\n",
      "Epoch 100/150\n",
      "125/125 [==============================] - 3s 28ms/step - loss: -3597.2686 - reconstruction_loss: -3596.9253 - kl_loss: 4.1574e-05\n",
      "Epoch 101/150\n",
      "125/125 [==============================] - 3s 27ms/step - loss: -3596.8340 - reconstruction_loss: -3596.9253 - kl_loss: 3.8617e-05\n",
      "Epoch 102/150\n",
      "125/125 [==============================] - 3s 27ms/step - loss: -3596.9514 - reconstruction_loss: -3596.9250 - kl_loss: 3.5583e-05\n",
      "Epoch 103/150\n",
      "125/125 [==============================] - 3s 27ms/step - loss: -3596.7265 - reconstruction_loss: -3596.9255 - kl_loss: 3.4377e-05\n",
      "Epoch 104/150\n",
      "125/125 [==============================] - 3s 27ms/step - loss: -3596.8429 - reconstruction_loss: -3596.9246 - kl_loss: 3.3123e-05\n",
      "Epoch 105/150\n",
      "125/125 [==============================] - 3s 27ms/step - loss: -3596.7506 - reconstruction_loss: -3596.9255 - kl_loss: 2.9186e-05\n",
      "Epoch 106/150\n",
      "125/125 [==============================] - 3s 27ms/step - loss: -3596.8139 - reconstruction_loss: -3596.9258 - kl_loss: 2.7847e-05\n",
      "Epoch 107/150\n",
      "125/125 [==============================] - 3s 27ms/step - loss: -3596.9299 - reconstruction_loss: -3596.9258 - kl_loss: 2.5479e-05\n",
      "Epoch 108/150\n",
      "125/125 [==============================] - 3s 28ms/step - loss: -3596.7385 - reconstruction_loss: -3596.9248 - kl_loss: 3.6484e-04\n",
      "Epoch 109/150\n",
      "125/125 [==============================] - 3s 27ms/step - loss: -3596.7752 - reconstruction_loss: -3596.9250 - kl_loss: 2.9061e-05\n",
      "Epoch 110/150\n",
      "125/125 [==============================] - 3s 28ms/step - loss: -3597.0590 - reconstruction_loss: -3596.9258 - kl_loss: 2.2128e-05\n",
      "Epoch 111/150\n",
      "125/125 [==============================] - 3s 27ms/step - loss: -3597.1193 - reconstruction_loss: -3596.9246 - kl_loss: 1.9742e-05\n",
      "Epoch 112/150\n",
      "125/125 [==============================] - 3s 27ms/step - loss: -3596.6679 - reconstruction_loss: -3596.9253 - kl_loss: 1.8019e-05\n",
      "Epoch 113/150\n",
      "125/125 [==============================] - 3s 28ms/step - loss: -3596.8837 - reconstruction_loss: -3596.9258 - kl_loss: 1.7066e-05\n",
      "Epoch 114/150\n"
     ]
    },
    {
     "name": "stdout",
     "output_type": "stream",
     "text": [
      "125/125 [==============================] - 3s 27ms/step - loss: -3596.9541 - reconstruction_loss: -3596.9253 - kl_loss: 1.5616e-05\n",
      "Epoch 115/150\n",
      "125/125 [==============================] - 4s 28ms/step - loss: -3597.1732 - reconstruction_loss: -3596.9270 - kl_loss: 1.4571e-05\n",
      "Epoch 116/150\n",
      "125/125 [==============================] - 4s 28ms/step - loss: -3597.0564 - reconstruction_loss: -3596.9263 - kl_loss: 1.3635e-05\n",
      "Epoch 117/150\n",
      "125/125 [==============================] - 3s 28ms/step - loss: -3597.0872 - reconstruction_loss: -3596.9255 - kl_loss: 1.3031e-05\n",
      "Epoch 118/150\n",
      "125/125 [==============================] - 3s 28ms/step - loss: -3596.9413 - reconstruction_loss: -3596.9248 - kl_loss: 1.2066e-05\n",
      "Epoch 119/150\n",
      "125/125 [==============================] - 3s 28ms/step - loss: -3596.9355 - reconstruction_loss: -3596.9258 - kl_loss: 1.1383e-05\n",
      "Epoch 120/150\n",
      "125/125 [==============================] - 3s 28ms/step - loss: -3596.7594 - reconstruction_loss: -3596.9260 - kl_loss: 1.0217e-05\n",
      "Epoch 121/150\n",
      "125/125 [==============================] - 3s 23ms/step - loss: -3597.0087 - reconstruction_loss: -3596.9253 - kl_loss: 9.6587e-06\n",
      "Epoch 122/150\n",
      "125/125 [==============================] - 3s 23ms/step - loss: -3596.9983 - reconstruction_loss: -3596.9255 - kl_loss: 8.8759e-06\n",
      "Epoch 123/150\n",
      "125/125 [==============================] - 3s 23ms/step - loss: -3596.6947 - reconstruction_loss: -3596.9250 - kl_loss: 8.2187e-06\n",
      "Epoch 124/150\n",
      "125/125 [==============================] - 3s 23ms/step - loss: -3596.8438 - reconstruction_loss: -3596.9248 - kl_loss: 7.8315e-06\n",
      "Epoch 125/150\n",
      "125/125 [==============================] - 3s 24ms/step - loss: -3597.0377 - reconstruction_loss: -3596.9246 - kl_loss: 7.5157e-06\n",
      "Epoch 126/150\n",
      "125/125 [==============================] - 3s 23ms/step - loss: -3597.0762 - reconstruction_loss: -3596.9258 - kl_loss: 6.9377e-06: 1s - loss: -3597.1210 - reconstruction_loss: -3597.1045 - k\n",
      "Epoch 127/150\n",
      "125/125 [==============================] - 3s 23ms/step - loss: -3596.8299 - reconstruction_loss: -3596.9248 - kl_loss: 6.2804e-06\n",
      "Epoch 128/150\n",
      "125/125 [==============================] - 3s 22ms/step - loss: -3596.7356 - reconstruction_loss: -3596.9255 - kl_loss: 6.1267e-06: 1s - loss: -3596.6930 - reconstruction_loss: -3596.680\n",
      "Epoch 129/150\n",
      "125/125 [==============================] - 3s 22ms/step - loss: -3597.0401 - reconstruction_loss: -3596.9243 - kl_loss: 6.0658e-06\n",
      "Epoch 130/150\n",
      "125/125 [==============================] - 3s 22ms/step - loss: -3596.9633 - reconstruction_loss: -3596.9253 - kl_loss: 6.2836e-06\n",
      "Epoch 131/150\n",
      "125/125 [==============================] - 3s 22ms/step - loss: -3596.7736 - reconstruction_loss: -3596.9253 - kl_loss: 5.3061e-06\n",
      "Epoch 132/150\n",
      "125/125 [==============================] - 3s 26ms/step - loss: -3596.6885 - reconstruction_loss: -3596.9260 - kl_loss: 5.3538e-06\n",
      "Epoch 133/150\n",
      "125/125 [==============================] - 3s 23ms/step - loss: -3596.8874 - reconstruction_loss: -3596.9248 - kl_loss: 4.8174e-06\n",
      "Epoch 134/150\n",
      "125/125 [==============================] - 3s 23ms/step - loss: -3596.9657 - reconstruction_loss: -3596.9246 - kl_loss: 5.5270e-06\n",
      "Epoch 135/150\n",
      "125/125 [==============================] - 3s 26ms/step - loss: -3596.9023 - reconstruction_loss: -3596.9263 - kl_loss: 5.5804e-06\n",
      "Epoch 136/150\n",
      "125/125 [==============================] - 3s 23ms/step - loss: -3596.5341 - reconstruction_loss: -3596.9253 - kl_loss: 4.4142e-06\n",
      "Epoch 137/150\n",
      "125/125 [==============================] - 3s 23ms/step - loss: -3596.8332 - reconstruction_loss: -3596.9253 - kl_loss: 7.7918e-06\n",
      "Epoch 138/150\n",
      "125/125 [==============================] - 3s 23ms/step - loss: -3597.0581 - reconstruction_loss: -3596.9253 - kl_loss: 5.5662e-06\n",
      "Epoch 139/150\n",
      "125/125 [==============================] - 3s 23ms/step - loss: -3597.1269 - reconstruction_loss: -3596.9263 - kl_loss: 5.1914e-06\n",
      "Epoch 140/150\n",
      "125/125 [==============================] - 3s 23ms/step - loss: -3596.9703 - reconstruction_loss: -3596.9253 - kl_loss: 5.1215e-06\n",
      "Epoch 141/150\n",
      "125/125 [==============================] - 3s 23ms/step - loss: -3596.6005 - reconstruction_loss: -3596.9246 - kl_loss: 5.8645e-06\n",
      "Epoch 142/150\n",
      "125/125 [==============================] - 3s 23ms/step - loss: -3597.1489 - reconstruction_loss: -3596.9258 - kl_loss: 5.3095e-06\n",
      "Epoch 143/150\n",
      "125/125 [==============================] - 3s 23ms/step - loss: -3596.9425 - reconstruction_loss: -3596.9248 - kl_loss: 4.5624e-06\n",
      "Epoch 144/150\n",
      "125/125 [==============================] - 3s 23ms/step - loss: -3596.9316 - reconstruction_loss: -3596.9255 - kl_loss: 5.3356e-06\n",
      "Epoch 145/150\n",
      "125/125 [==============================] - 3s 23ms/step - loss: -3596.8551 - reconstruction_loss: -3596.9255 - kl_loss: 5.3126e-06\n",
      "Epoch 146/150\n",
      "125/125 [==============================] - 3s 23ms/step - loss: -3596.9768 - reconstruction_loss: -3596.9253 - kl_loss: 6.2952e-06\n",
      "Epoch 147/150\n",
      "125/125 [==============================] - 3s 24ms/step - loss: -3596.8428 - reconstruction_loss: -3596.9250 - kl_loss: 3.5822e-06\n",
      "Epoch 148/150\n",
      "125/125 [==============================] - 3s 25ms/step - loss: -3596.8748 - reconstruction_loss: -3596.9258 - kl_loss: 5.4179e-06\n",
      "Epoch 149/150\n",
      "125/125 [==============================] - 3s 23ms/step - loss: -3596.5677 - reconstruction_loss: -3596.9260 - kl_loss: 4.8553e-06\n",
      "Epoch 150/150\n",
      "125/125 [==============================] - 3s 23ms/step - loss: -3597.0921 - reconstruction_loss: -3596.9255 - kl_loss: 5.0824e-06\n"
     ]
    }
   ],
   "source": [
    "vae_train = vae.fit(covmatrixset, epochs=150, batch_size=128)            #500            "
   ]
  },
  {
   "cell_type": "code",
   "execution_count": 21,
   "metadata": {},
   "outputs": [
    {
     "data": {
      "text/plain": [
       "(array([-3800., -3600., -3400., -3200., -3000., -2800., -2600.]),\n",
       " [Text(0, 0, ''),\n",
       "  Text(0, 0, ''),\n",
       "  Text(0, 0, ''),\n",
       "  Text(0, 0, ''),\n",
       "  Text(0, 0, ''),\n",
       "  Text(0, 0, ''),\n",
       "  Text(0, 0, '')])"
      ]
     },
     "execution_count": 21,
     "metadata": {},
     "output_type": "execute_result"
    },
    {
     "data": {
      "image/png": "[encoded data removed]",
      "text/plain": [
       "<Figure size 700x400 with 1 Axes>"
      ]
     },
     "metadata": {
      "needs_background": "light"
     },
     "output_type": "display_data"
    }
   ],
   "source": [
    "plt.figure(figsize=(7, 4), dpi=100)\n",
    "\n",
    "plt.plot(vae_train.history['loss'], color='r', )\n",
    "\n",
    "plt.ylabel('MSE', fontsize=11)\n",
    "plt.xlabel('Epoch', fontsize=11)\n",
    "plt.legend(['training set'], loc='upper right', fontsize=15)\n",
    "plt.xticks(fontsize=10)\n",
    "plt.yticks(fontsize=10)"
   ]
  },
  {
   "cell_type": "code",
   "execution_count": 22,
   "metadata": {
    "scrolled": true
   },
   "outputs": [
    {
     "name": "stdout",
     "output_type": "stream",
     "text": [
      "(3, 2000, 2)\n"
     ]
    },
    {
     "data": {
      "image/png": "[encoded data removed]",
      "text/plain": [
       "<Figure size 432x432 with 1 Axes>"
      ]
     },
     "metadata": {
      "needs_background": "light"
     },
     "output_type": "display_data"
    }
   ],
   "source": [
    "x_test_encoded = encoder.predict(covset_test)\n",
    "print(np.shape(x_test_encoded))\n",
    "plt.figure(figsize=(6, 6))\n",
    "plt.scatter(x_test_encoded[ 0], x_test_encoded[1], marker='o', c='blue', alpha=0.2)\n",
    "# plt.colorbar()\n",
    "plt.show()"
   ]
  },
  {
   "cell_type": "code",
   "execution_count": 23,
   "metadata": {},
   "outputs": [
    {
     "name": "stdout",
     "output_type": "stream",
     "text": [
      "(3, 2000, 2) <class 'list'>\n"
     ]
    },
    {
     "data": {
      "text/plain": [
       "array([[-0.00208259,  0.00191977],\n",
       "       [-0.00174155,  0.00225261],\n",
       "       [-0.00129993,  0.00176643],\n",
       "       ...,\n",
       "       [-0.00063094,  0.00334971],\n",
       "       [-0.0013601 ,  0.00139516],\n",
       "       [-0.00079182,  0.00275711]], dtype=float32)"
      ]
     },
     "execution_count": 23,
     "metadata": {},
     "output_type": "execute_result"
    }
   ],
   "source": [
    "print(np.shape(x_test_encoded), type(x_test_encoded))\n",
    "x_test_encoded[:][0][:]"
   ]
  },
  {
   "cell_type": "markdown",
   "metadata": {},
   "source": [
    "## Generate synthetic covariance matrix"
   ]
  },
  {
   "cell_type": "code",
   "execution_count": 24,
   "metadata": {},
   "outputs": [
    {
     "data": {
      "text/plain": [
       "((31, 31), (2000, 31, 31), (31, 31))"
      ]
     },
     "execution_count": 24,
     "metadata": {},
     "output_type": "execute_result"
    }
   ],
   "source": [
    "np.shape(syscov_sc), np.shape(covset_test), np.shape(covset_test[0])"
   ]
  },
  {
   "cell_type": "code",
   "execution_count": 25,
   "metadata": {},
   "outputs": [
    {
     "data": {
      "text/plain": [
       "[array([[-0.00208263,  0.00191981]], dtype=float32),\n",
       " array([[-0.00391978, -0.00455981]], dtype=float32),\n",
       " array([[-0.8944242,  2.0020194]], dtype=float32)]"
      ]
     },
     "execution_count": 25,
     "metadata": {},
     "output_type": "execute_result"
    }
   ],
   "source": [
    "ztest1 = encoder.predict(covset_test[0].reshape((1,31,31)))\n",
    "ztest1"
   ]
  },
  {
   "cell_type": "code",
   "execution_count": 26,
   "metadata": {},
   "outputs": [
    {
     "name": "stdout",
     "output_type": "stream",
     "text": [
      "(1, 31, 31, 1)\n"
     ]
    },
    {
     "data": {
      "text/plain": [
       "<AxesSubplot:>"
      ]
     },
     "execution_count": 26,
     "metadata": {},
     "output_type": "execute_result"
    },
    {
     "data": {
      "image/png": "[encoded data removed]",
      "text/plain": [
       "<Figure size 432x288 with 2 Axes>"
      ]
     },
     "metadata": {
      "needs_background": "light"
     },
     "output_type": "display_data"
    }
   ],
   "source": [
    "pred_matrix = decoder.predict(ztest1[1])\n",
    "print(np.shape(pred_matrix))\n",
    "pred_cov_sc = pred_matrix[0, :, :nsize, 0]\n",
    "pred_cov = scalercov.inverse_transform(pred_cov_sc)\n",
    "\n",
    "sns.heatmap(pd.DataFrame(pred_cov), \n",
    "            fmt='g', xticklabels=False, yticklabels=False, \n",
    "            cmap = 'inferno', \n",
    "            robust=False)"
   ]
  },
  {
   "cell_type": "code",
   "execution_count": 27,
   "metadata": {},
   "outputs": [
    {
     "data": {
      "text/plain": [
       "<seaborn.axisgrid.FacetGrid at 0x7effa86fb4c0>"
      ]
     },
     "execution_count": 27,
     "metadata": {},
     "output_type": "execute_result"
    },
    {
     "data": {
      "image/png": "[encoded data removed]",
      "text/plain": [
       "<Figure size 402.25x360 with 1 Axes>"
      ]
     },
     "metadata": {
      "needs_background": "light"
     },
     "output_type": "display_data"
    }
   ],
   "source": [
    "sns.displot(dist_sc, kind='kde')"
   ]
  },
  {
   "cell_type": "code",
   "execution_count": 65,
   "metadata": {},
   "outputs": [
    {
     "data": {
      "text/plain": [
       "(0.0, 1.0)"
      ]
     },
     "execution_count": 65,
     "metadata": {},
     "output_type": "execute_result"
    }
   ],
   "source": [
    "# zmean = np.mean(dist_sc)\n",
    "# zstd = np.std(dist_sc)\n",
    "zmean = 0.0\n",
    "zstd = 1.0\n",
    "zmean, zstd"
   ]
  },
  {
   "cell_type": "code",
   "execution_count": 66,
   "metadata": {},
   "outputs": [],
   "source": [
    "z_sample = np.array([[zmean, zstd]])\n",
    "pred_matrix = decoder.predict(z_sample)"
   ]
  },
  {
   "cell_type": "code",
   "execution_count": 67,
   "metadata": {},
   "outputs": [
    {
     "data": {
      "text/plain": [
       "<AxesSubplot:>"
      ]
     },
     "execution_count": 67,
     "metadata": {},
     "output_type": "execute_result"
    },
    {
     "data": {
      "image/png": "[encoded data removed]",
      "text/plain": [
       "<Figure size 432x288 with 2 Axes>"
      ]
     },
     "metadata": {
      "needs_background": "light"
     },
     "output_type": "display_data"
    }
   ],
   "source": [
    "pred_cov_sc = pred_matrix[0, :, :nsize, 0]\n",
    "pred_cov = scalercov.inverse_transform(pred_cov_sc)\n",
    "\n",
    "sns.heatmap(pred_cov, \n",
    "            fmt='g', xticklabels=False, yticklabels=False, \n",
    "            cmap = 'inferno', \n",
    "            robust=False)"
   ]
  },
  {
   "cell_type": "code",
   "execution_count": 68,
   "metadata": {},
   "outputs": [],
   "source": [
    "np.savetxt(\"fake_binned_JLA_COVdecodedTEST2vae.dat\", pred_cov, delimiter= \" \", header=\"#fake COV\")"
   ]
  },
  {
   "cell_type": "markdown",
   "metadata": {},
   "source": [
    "# Test with new data"
   ]
  },
  {
   "cell_type": "code",
   "execution_count": 32,
   "metadata": {},
   "outputs": [],
   "source": [
    "ranz = z_redshift\n",
    "\n",
    "index = np.argsort(ranz)\n",
    "\n",
    "pred_random = ffnn.predict(np.log(ranz))\n",
    "# pred_dl = scalerdl.inverse_transform(pred_random[:,0].reshape(-1,1))\n",
    "pred_dl = pred_random[:,0][index].reshape(-1,1)\n",
    "pred_err = np.exp(pred_random[:,1][index].reshape(-1,1))\n",
    "\n",
    "fake_data = np.stack((ranz[index], pred_dl.reshape(31,)[index]), axis=1)\n",
    "\n",
    "np.savetxt(\"fake_binned_JLA2TEST3.dat\",  fake_data, delimiter= \" \", header=\"#fake data\\n# z\\n# mu\", fmt='%1.9f')"
   ]
  },
  {
   "cell_type": "code",
   "execution_count": 72,
   "metadata": {},
   "outputs": [
    {
     "name": "stdout",
     "output_type": "stream",
     "text": [
      "4.226010222766725e-16 1.0000000000000002\n",
      "-0.024898464 1.0072505\n"
     ]
    },
    {
     "data": {
      "text/plain": [
       "(0.024898463860154582, 0.9688524054337267)"
      ]
     },
     "execution_count": 72,
     "metadata": {},
     "output_type": "execute_result"
    }
   ],
   "source": [
    "pred_dl_sc = scalerdist.transform(pred_dl)\n",
    "zmean_real = np.mean(dist_sc)\n",
    "zstd_real = np.std(dist_sc)\n",
    "print(zmean_real, zstd_real)\n",
    "zmean_pred = np.mean(pred_dl_sc)\n",
    "zstd_pred = np.std(pred_dl_sc)\n",
    "print(zmean_pred, zstd_pred)\n",
    "\n",
    "desv_real = zmean_real - zstd_real\n",
    "new_mean = (zmean_pred - zmean_real)/desv_real\n",
    "new_std = desv_real/(zmean_pred - zstd_pred)\n",
    "\n",
    "new_mean, new_std"
   ]
  },
  {
   "cell_type": "code",
   "execution_count": 73,
   "metadata": {},
   "outputs": [],
   "source": [
    "z_sample = np.array([[new_mean, new_std]])\n",
    "newmatrix = decoder.predict(z_sample)"
   ]
  },
  {
   "cell_type": "code",
   "execution_count": 35,
   "metadata": {},
   "outputs": [
    {
     "data": {
      "text/plain": [
       "<AxesSubplot:>"
      ]
     },
     "execution_count": 35,
     "metadata": {},
     "output_type": "execute_result"
    },
    {
     "data": {
      "image/png": "[encoded data removed]",
      "text/plain": [
       "<Figure size 432x288 with 2 Axes>"
      ]
     },
     "metadata": {
      "needs_background": "light"
     },
     "output_type": "display_data"
    }
   ],
   "source": [
    "newmatrixr = scalercov.inverse_transform(newmatrix.reshape(31,31))\n",
    "# # clean_imgr = clean_img[0,:,:,0].reshape(31,31)\n",
    "\n",
    "sns.heatmap(pd.DataFrame(newmatrixr), \n",
    "            fmt='g', xticklabels=False, yticklabels=False, \n",
    "            cmap = 'inferno', \n",
    "            robust=False)"
   ]
  },
  {
   "cell_type": "code",
   "execution_count": 36,
   "metadata": {},
   "outputs": [],
   "source": [
    "np.savetxt(\"fake_binned_JLA_COVdecodedTEST3vae.dat\", newmatrixr, delimiter= \" \", header=\"#fake COV\")"
   ]
  },
  {
   "cell_type": "code",
   "execution_count": 37,
   "metadata": {},
   "outputs": [],
   "source": [
    "# tf.keras.models.save_model(vae, '../models/convae.h5')\n",
    "# tf.keras.models.save_model(encoder, '../models/convae_enc.h5')\n",
    "# tf.keras.models.save_model(decoder, '../models/convae_dec.h5')"
   ]
  },
  {
   "cell_type": "code",
   "execution_count": 39,
   "metadata": {},
   "outputs": [],
   "source": [
    "vae.save_weights('vae_weights', save_format='tf')\n",
    "\n",
    "# loaded_model = ClassifierModel(parameter)\n",
    "# loaded_model.compile(parameters)\n",
    "# loaded_model.train_on_batch(x_train[:1], y_train[:1])\n",
    "# loaded_model.load_weights('model_weights')"
   ]
  },
  {
   "cell_type": "code",
   "execution_count": null,
   "metadata": {},
   "outputs": [],
   "source": []
  }
 ],
 "metadata": {
  "kernelspec": {
   "display_name": "Python 3",
   "language": "python",
   "name": "python3"
  },
  "language_info": {
   "codemirror_mode": {
    "name": "ipython",
    "version": 3
   },
   "file_extension": ".py",
   "mimetype": "text/x-python",
   "name": "python",
   "nbconvert_exporter": "python",
   "pygments_lexer": "ipython3",
   "version": "3.8.5"
  }
 },
 "nbformat": 4,
 "nbformat_minor": 2
}
