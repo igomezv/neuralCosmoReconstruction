{
 "cells": [
  {
   "cell_type": "code",
   "execution_count": 1,
   "metadata": {},
   "outputs": [],
   "source": [
    "import tensorflow as tf\n",
    "from tensorflow.keras.models import Model\n",
    "from tensorflow.keras import backend as K\n",
    "from tensorflow.keras import layers\n",
    "from tensorflow.keras import backend as keras\n",
    "from tensorflow.keras.callbacks import ModelCheckpoint, EarlyStopping, ReduceLROnPlateau\n",
    "from tensorflow.keras.models import Sequential, save_model, load_model\n",
    "from sklearn.preprocessing import StandardScaler, MinMaxScaler, Normalizer\n",
    "import numpy as np\n",
    "import matplotlib.pyplot as plt\n",
    "import pandas as pd\n",
    "import seaborn as sns\n",
    "import scipy as sp\n",
    "import os\n",
    "from astroNN.nn.layers import MCDropout\n",
    "import math\n"
   ]
  },
  {
   "cell_type": "markdown",
   "metadata": {},
   "source": [
    "Reading JLA covariance matrix and examinate the min, max and mean from it. "
   ]
  },
  {
   "cell_type": "code",
   "execution_count": 2,
   "metadata": {},
   "outputs": [
    {
     "name": "stdout",
     "output_type": "stream",
     "text": [
      "-0.01084098704 0.02815552265 0.00039265133851975654\n",
      "(31,) (31,) (31, 31)\n"
     ]
    }
   ],
   "source": [
    "ffnn = tf.keras.models.load_model('../models/FFNN_JLA2.h5')\n",
    "ffnn_do = tf.keras.models.load_model('..models/FFNN_JLA_DO.h5', custom_objects={'MCDropout': MCDropout})\n",
    "\n",
    "\n",
    "syscov = np.loadtxt('../data/cov_jla_binned_distances_31nodes_v1.txt',skiprows=1).reshape((31,31))\n",
    "file = '../data/jla_binned_distances_31nodes_v1.txt'\n",
    "\n",
    "# syscov = np.loadtxt('data/jla_v0_covmatrix.dat',skiprows=1).reshape((740,740))\n",
    "print(np.min(syscov), np.max(syscov), np.mean(syscov))\n",
    "nsize = len(syscov)\n",
    "\n",
    "# scaler_sys = StandardScaler()\n",
    "# scaler_sys.fit(syscov)\n",
    "# syscov_sc = scaler_sys.transform(syscov)\n",
    "data = np.loadtxt(file, skiprows=3)\n",
    "z_redshift = data[:, 0]\n",
    "errors = np.diag(syscov).reshape(nsize,)\n",
    "errors_logs = np.where(errors!= 0, np.log(errors), 0)\n",
    "\n",
    "print(np.shape(data[:,1]), np.shape(errors), np.shape(syscov))\n"
   ]
  },
  {
   "cell_type": "code",
   "execution_count": 3,
   "metadata": {},
   "outputs": [],
   "source": [
    "scalercov = StandardScaler()\n",
    "scalercov.fit(syscov)\n",
    "syscov_sc = scalercov.transform(syscov)\n",
    "\n",
    "scalerdist = StandardScaler()\n",
    "scalerdist.fit(data[:,1].reshape(-1,1))\n",
    "dist_sc = scalerdist.transform(data[:,1].reshape(nsize,1))\n",
    "\n",
    "scalererr = StandardScaler()\n",
    "scalererr.fit(errors.reshape(-1,1))\n",
    "errors_sc = scalerdist.transform(errors.reshape(nsize,1))"
   ]
  },
  {
   "cell_type": "code",
   "execution_count": 4,
   "metadata": {},
   "outputs": [
    {
     "data": {
      "text/plain": [
       "Text(0.5, 1.0, 'Original matrix scaled and extended')"
      ]
     },
     "execution_count": 4,
     "metadata": {},
     "output_type": "execute_result"
    },
    {
     "data": {
      "image/png": "[encoded data removed]",
      "text/plain": [
       "<Figure size 432x288 with 2 Axes>"
      ]
     },
     "metadata": {
      "needs_background": "light"
     },
     "output_type": "display_data"
    }
   ],
   "source": [
    "sns.heatmap(syscov, \n",
    "# sns.heatmap(pd.DataFrame(covset_test[0]), \n",
    "        fmt='g', xticklabels=False, yticklabels=False, \n",
    "        cmap = 'inferno', cbar=True,\n",
    "        robust=False)\n",
    "plt.title('Original matrix scaled and extended')"
   ]
  },
  {
   "cell_type": "code",
   "execution_count": 5,
   "metadata": {},
   "outputs": [],
   "source": [
    "def permutMatrix(omatrix, nmatrix):\n",
    "    nsize = len(omatrix)\n",
    "    matrixset = np.zeros((nmatrix, nsize, nsize))\n",
    "    magnitudes = np.zeros((nmatrix, nsize, nsize))\n",
    "    for it in range(nmatrix):\n",
    "        perm = np.random.permutation(nsize)\n",
    "        P = np.eye(nsize)[perm]\n",
    "        p = P@omatrix@P.T\n",
    "        p = symmetrical(p)\n",
    "        matrixset[it, :, :nsize] = p\n",
    "        magnitudes[it, :, :] = matrixMag(matrixset[it,:,:])\n",
    "        \n",
    "    return matrixset, magnitudes\n"
   ]
  },
  {
   "cell_type": "code",
   "execution_count": 6,
   "metadata": {},
   "outputs": [],
   "source": [
    "def symmetrical(matrix):\n",
    "    for i in range(len(matrix)):\n",
    "        for j in range(len(matrix)):\n",
    "    #         if np.iscomplex(syscov[i,j]):\n",
    "    #             print(\"COMPLEX\")\n",
    "            if matrix[i,j] != matrix[j,i]:\n",
    "                    if np.abs(matrix[i, j]) < np.abs(matrix[j,i]):\n",
    "                        matrix[i, j] = matrix[j, i]\n",
    "                    else:\n",
    "                        matrix[j, i] = matrix[i, j]\n",
    "            \n",
    "    return matrix"
   ]
  },
  {
   "cell_type": "code",
   "execution_count": 7,
   "metadata": {},
   "outputs": [],
   "source": [
    "def orderMag(number):\n",
    "    if number == 0.0:\n",
    "        return 0.0\n",
    "    else:\n",
    "        return math.floor(math.log(np.abs(number), 10))\n",
    "\n",
    "def matrixMag(matrix):\n",
    "    mshape = np.shape(matrix)\n",
    "    magMatrix = np.zeros(mshape)\n",
    "    for row in range(nsize):\n",
    "        for col in range(nsize):\n",
    "            magMatrix[row, col] = orderMag(matrix[row, col])\n",
    "    return magMatrix            "
   ]
  },
  {
   "cell_type": "code",
   "execution_count": 8,
   "metadata": {},
   "outputs": [
    {
     "name": "stdout",
     "output_type": "stream",
     "text": [
      "(5000, 31, 31)\n"
     ]
    }
   ],
   "source": [
    "numMatrix = 5000\n",
    "covset = np.zeros((numMatrix, 31, 31))\n",
    "permMatrix, magnitudes = permutMatrix(syscov_sc, numMatrix)\n",
    "# magnitudes = matrixMag(ext_matrix)\n",
    "print(np.shape(permMatrix))"
   ]
  },
  {
   "cell_type": "code",
   "execution_count": 9,
   "metadata": {},
   "outputs": [
    {
     "data": {
      "text/plain": [
       "Text(0.5, 1.0, 'PERMUTATED MATRIX (SCALED)')"
      ]
     },
     "execution_count": 9,
     "metadata": {},
     "output_type": "execute_result"
    },
    {
     "data": {
      "image/png": "[encoded data removed]",
      "text/plain": [
       "<Figure size 432x288 with 2 Axes>"
      ]
     },
     "metadata": {
      "needs_background": "light"
     },
     "output_type": "display_data"
    }
   ],
   "source": [
    "sns.heatmap(pd.DataFrame(permMatrix[0, :, :]), \n",
    "        fmt='g', xticklabels=False, yticklabels=False, \n",
    "        cmap = 'inferno', cbar=True,\n",
    "        robust=False)\n",
    "plt.title(\"PERMUTATED MATRIX (SCALED)\")\n"
   ]
  },
  {
   "cell_type": "code",
   "execution_count": 10,
   "metadata": {},
   "outputs": [
    {
     "data": {
      "text/plain": [
       "Text(0.5, 1.0, 'PERMUTATED MATRIX')"
      ]
     },
     "execution_count": 10,
     "metadata": {},
     "output_type": "execute_result"
    },
    {
     "data": {
      "image/png": "[encoded data removed]",
      "text/plain": [
       "<Figure size 432x288 with 2 Axes>"
      ]
     },
     "metadata": {
      "needs_background": "light"
     },
     "output_type": "display_data"
    }
   ],
   "source": [
    "sns.heatmap(scalercov.inverse_transform(permMatrix[0, :, :]), \n",
    "        fmt='g', xticklabels=False, yticklabels=False, \n",
    "        cmap = 'inferno', cbar=True,\n",
    "        robust=False)\n",
    "plt.title(\"PERMUTATED MATRIX\")"
   ]
  },
  {
   "cell_type": "code",
   "execution_count": 11,
   "metadata": {},
   "outputs": [
    {
     "name": "stdout",
     "output_type": "stream",
     "text": [
      " Generating 5000 matrix                               "
     ]
    }
   ],
   "source": [
    "for i in range(numMatrix): \n",
    "    print(\"\\r Generating {} matrix\".format(i+1), end=\" \")\n",
    "    for row in range(nsize):\n",
    "        for col in range(nsize):\n",
    "            err = np.random.randn()\n",
    "            if row == col:\n",
    "                covset[i, row, col] = permMatrix[i, row, col] + 1e-3*err*10**magnitudes[i, row, col]\n",
    "            else:\n",
    "                covset[i, row, col] = permMatrix[i, row, col] + 1e-3*err*10**orderMag(permMatrix[i, row, col])\n"
   ]
  },
  {
   "cell_type": "code",
   "execution_count": null,
   "metadata": {},
   "outputs": [],
   "source": []
  },
  {
   "cell_type": "code",
   "execution_count": 12,
   "metadata": {},
   "outputs": [
    {
     "name": "stdout",
     "output_type": "stream",
     "text": [
      "(5000, 31, 31)\n"
     ]
    }
   ],
   "source": [
    "print(np.shape(covset))\n",
    "split = 0.8\n",
    "ntrain = int(split * numMatrix)\n",
    "indx = [ntrain]\n",
    "covset_train, covset_test = np.split(covset, indx, axis=0)\n",
    "# covset_noise_train, covset_noise_test = np.split(covset_noise, indx, axis=0)\n",
    "# np.shape(covset_noise_test)"
   ]
  },
  {
   "cell_type": "code",
   "execution_count": 13,
   "metadata": {},
   "outputs": [
    {
     "data": {
      "text/plain": [
       "Text(0.5, 1.0, 'TEST MATRIX')"
      ]
     },
     "execution_count": 13,
     "metadata": {},
     "output_type": "execute_result"
    },
    {
     "data": {
      "image/png": "[encoded data removed]",
      "text/plain": [
       "<Figure size 432x288 with 2 Axes>"
      ]
     },
     "metadata": {
      "needs_background": "light"
     },
     "output_type": "display_data"
    }
   ],
   "source": [
    "sns.heatmap(pd.DataFrame(covset_test[0,:,:]), \n",
    "        fmt='g', xticklabels=False, yticklabels=False, \n",
    "        cmap = 'inferno', cbar=True,\n",
    "        robust=False)\n",
    "plt.title(\"TEST MATRIX\")"
   ]
  },
  {
   "cell_type": "markdown",
   "metadata": {},
   "source": [
    "# Start design of ConVAE"
   ]
  },
  {
   "cell_type": "code",
   "execution_count": 14,
   "metadata": {},
   "outputs": [],
   "source": [
    "# Sampling class from https://github.com/keras-team/keras-io\n",
    "\n",
    "class Sampling(layers.Layer):\n",
    "    \"\"\"Uses (z_mean, z_log_var) to sample z, the vector encoding a digit.\"\"\"\n",
    "\n",
    "    def call(self, inputs):\n",
    "        z_mean, z_log_var = inputs\n",
    "        batch = tf.shape(z_mean)[0]\n",
    "        dim = tf.shape(z_mean)[1]\n",
    "        epsilon = tf.keras.backend.random_normal(shape=(batch, dim))\n",
    "        return z_mean + tf.exp(0.5 * z_log_var) * epsilon"
   ]
  },
  {
   "cell_type": "code",
   "execution_count": 15,
   "metadata": {},
   "outputs": [
    {
     "name": "stdout",
     "output_type": "stream",
     "text": [
      "Model: \"encoder\"\n",
      "__________________________________________________________________________________________________\n",
      "Layer (type)                    Output Shape         Param #     Connected to                     \n",
      "==================================================================================================\n",
      "encoder_input (InputLayer)      [(None, 31, 31, 1)]  0                                            \n",
      "__________________________________________________________________________________________________\n",
      "zero_padding2d (ZeroPadding2D)  (None, 40, 40, 1)    0           encoder_input[0][0]              \n",
      "__________________________________________________________________________________________________\n",
      "conv2d (Conv2D)                 (None, 20, 20, 32)   320         zero_padding2d[0][0]             \n",
      "__________________________________________________________________________________________________\n",
      "max_pooling2d (MaxPooling2D)    (None, 10, 10, 32)   0           conv2d[0][0]                     \n",
      "__________________________________________________________________________________________________\n",
      "conv2d_1 (Conv2D)               (None, 5, 5, 64)     18496       max_pooling2d[0][0]              \n",
      "__________________________________________________________________________________________________\n",
      "max_pooling2d_1 (MaxPooling2D)  (None, 3, 3, 64)     0           conv2d_1[0][0]                   \n",
      "__________________________________________________________________________________________________\n",
      "conv2d_2 (Conv2D)               (None, 3, 3, 64)     36928       max_pooling2d_1[0][0]            \n",
      "__________________________________________________________________________________________________\n",
      "max_pooling2d_2 (MaxPooling2D)  (None, 2, 2, 64)     0           conv2d_2[0][0]                   \n",
      "__________________________________________________________________________________________________\n",
      "flatten (Flatten)               (None, 256)          0           max_pooling2d_2[0][0]            \n",
      "__________________________________________________________________________________________________\n",
      "dense (Dense)                   (None, 100)          25700       flatten[0][0]                    \n",
      "__________________________________________________________________________________________________\n",
      "dense_1 (Dense)                 (None, 50)           5050        dense[0][0]                      \n",
      "__________________________________________________________________________________________________\n",
      "dense_2 (Dense)                 (None, 2)            102         dense_1[0][0]                    \n",
      "__________________________________________________________________________________________________\n",
      "dense_3 (Dense)                 (None, 2)            102         dense_1[0][0]                    \n",
      "__________________________________________________________________________________________________\n",
      "sampling (Sampling)             (None, 2)            0           dense_2[0][0]                    \n",
      "                                                                 dense_3[0][0]                    \n",
      "==================================================================================================\n",
      "Total params: 86,698\n",
      "Trainable params: 86,698\n",
      "Non-trainable params: 0\n",
      "__________________________________________________________________________________________________\n"
     ]
    }
   ],
   "source": [
    "input_shape = (31, 31, 1)\n",
    "latent_dim = 2\n",
    "\n",
    "\n",
    "inputs = tf.keras.Input(shape=input_shape, name='encoder_input')\n",
    "# ((top_pad, bottom_pad), (left_pad, right_pad))\n",
    "x = layers.ZeroPadding2D(((5,4),(5,4)))(inputs)\n",
    "x = layers.Conv2D(32, (3, 3), activation='relu', strides=2, padding='same')(x)\n",
    "x = layers.MaxPooling2D((2, 2), padding='same')(x)\n",
    "x = layers.Conv2D(64, (3, 3), activation='relu', strides=2, padding='same')(x)\n",
    "x = layers.MaxPooling2D((2, 2), padding='same')(x)\n",
    "x = layers.Conv2D(64, (3, 3), activation='relu', padding='same')(x)\n",
    "x = layers.MaxPooling2D((2, 2), padding='same')(x)\n",
    "shape_enc = K.int_shape(x)\n",
    "x = layers.Flatten()(x)\n",
    "x = layers.Dense(100)(x)\n",
    "x = layers.Dense(50)(x)\n",
    "z_mean = layers.Dense(latent_dim)(x)\n",
    "z_log_var = layers.Dense(latent_dim)(x)\n",
    "\n",
    "# use reparameterization trick to push the sampling out as input\n",
    "# note that \"output_shape\" isn't necessary with the TensorFlow backend\n",
    "# z = layers.Lambda(sampling, output_shape=(latent_dim,), name='z')([z_mean, z_log_sigma])\n",
    "z = Sampling()([z_mean, z_log_var])\n",
    "\n",
    "# z = layers.Lambda(sampling)([z_mean, z_log_sigma])\n",
    "encoder = tf.keras.Model(inputs, [z_mean, z_log_var, z], name='encoder')\n",
    "encoder.summary()\n"
   ]
  },
  {
   "cell_type": "code",
   "execution_count": 16,
   "metadata": {},
   "outputs": [
    {
     "name": "stdout",
     "output_type": "stream",
     "text": [
      "Model: \"decoder\"\n",
      "_________________________________________________________________\n",
      "Layer (type)                 Output Shape              Param #   \n",
      "=================================================================\n",
      "z_sampling (InputLayer)      [(None, 2)]               0         \n",
      "_________________________________________________________________\n",
      "dense_4 (Dense)              (None, 256)               768       \n",
      "_________________________________________________________________\n",
      "reshape (Reshape)            (None, 2, 2, 64)          0         \n",
      "_________________________________________________________________\n",
      "dense_5 (Dense)              (None, 2, 2, 50)          3250      \n",
      "_________________________________________________________________\n",
      "dense_6 (Dense)              (None, 2, 2, 100)         5100      \n",
      "_________________________________________________________________\n",
      "conv2d_transpose (Conv2DTran (None, 4, 4, 64)          57664     \n",
      "_________________________________________________________________\n",
      "conv2d_transpose_1 (Conv2DTr (None, 8, 8, 64)          36928     \n",
      "_________________________________________________________________\n",
      "conv2d_transpose_2 (Conv2DTr (None, 16, 16, 32)        18464     \n",
      "_________________________________________________________________\n",
      "conv2d_transpose_3 (Conv2DTr (None, 32, 32, 1)         289       \n",
      "_________________________________________________________________\n",
      "cropping2d (Cropping2D)      (None, 31, 31, 1)         0         \n",
      "=================================================================\n",
      "Total params: 122,463\n",
      "Trainable params: 122,463\n",
      "Non-trainable params: 0\n",
      "_________________________________________________________________\n"
     ]
    }
   ],
   "source": [
    "latent_inputs = tf.keras.Input(shape=(latent_dim,), name='z_sampling')\n",
    "x = layers.Dense(shape_enc[1] * shape_enc[2] * shape_enc[3], activation='relu')(latent_inputs)\n",
    "x = layers.Reshape((shape_enc[1], shape_enc[2], shape_enc[3]))(x)\n",
    "x = layers.Dense(50)(x)\n",
    "x = layers.Dense(100)(x)\n",
    "x = layers.Conv2DTranspose(64, (3,3), activation='relu', strides=2, padding='same')(x)\n",
    "x = layers.Conv2DTranspose(64, (3,3), activation='relu', strides=2, padding='same')(x)\n",
    "x = layers.Conv2DTranspose(32, (3,3), activation='relu', strides=2, padding='same')(x)\n",
    "x = layers.Conv2DTranspose(1, (3,3), activation='linear', strides=2, padding='same')(x)\n",
    "# x = layers.Conv2D(8, (3, 3), activation='relu', padding='same')(x)\n",
    "# x = layers.UpSampling2D((2, 2))(x)\n",
    "# x = layers.Conv2D(16, (3, 3), activation='relu', padding='same')(x)\n",
    "# x = layers.UpSampling2D((2, 2))(x)\n",
    "# x = layers.Conv2D(32, (5, 5), activation='relu', padding='same')(x)\n",
    "# x = layers.UpSampling2D((2, 2))(x)\n",
    "# x = layers.Conv2D(1, (5, 5), activation='linear', padding='same')(x)\n",
    "outputs = layers.Cropping2D(cropping=((1, 0), (1, 0)))(x)\n",
    "\n",
    "# Decoder model\n",
    "decoder = tf.keras.Model(latent_inputs, outputs, name='decoder')\n",
    "decoder.summary()"
   ]
  },
  {
   "cell_type": "code",
   "execution_count": 17,
   "metadata": {},
   "outputs": [
    {
     "name": "stdout",
     "output_type": "stream",
     "text": [
      "Model: \"vae_conv\"\n",
      "_________________________________________________________________\n",
      "Layer (type)                 Output Shape              Param #   \n",
      "=================================================================\n",
      "encoder_input (InputLayer)   [(None, 31, 31, 1)]       0         \n",
      "_________________________________________________________________\n",
      "encoder (Functional)         [(None, 2), (None, 2), (N 86698     \n",
      "_________________________________________________________________\n",
      "decoder (Functional)         (None, 31, 31, 1)         122463    \n",
      "=================================================================\n",
      "Total params: 209,161\n",
      "Trainable params: 209,161\n",
      "Non-trainable params: 0\n",
      "_________________________________________________________________\n"
     ]
    }
   ],
   "source": [
    "# instantiate VAE model\n",
    "outputs = decoder(encoder(inputs)[2])\n",
    "vae = tf.keras.Model(inputs, outputs, name='vae_conv')\n",
    "vae.summary()"
   ]
  },
  {
   "cell_type": "code",
   "execution_count": 18,
   "metadata": {},
   "outputs": [],
   "source": [
    "# VAE class from https://github.com/keras-team/keras-io\n",
    "class VAE(tf.keras.Model):\n",
    "    def __init__(self, encoder, decoder, **kwargs):\n",
    "        super(VAE, self).__init__(**kwargs)\n",
    "        self.encoder = encoder\n",
    "        self.decoder = decoder\n",
    "        self.total_loss_tracker = tf.keras.metrics.Mean(name=\"total_loss\")\n",
    "        self.reconstruction_loss_tracker = tf.keras.metrics.Mean(\n",
    "            name=\"reconstruction_loss\"\n",
    "        )\n",
    "        self.kl_loss_tracker = tf.keras.metrics.Mean(name=\"kl_loss\")\n",
    "\n",
    "    @property\n",
    "    def metrics(self):\n",
    "        return [\n",
    "            self.total_loss_tracker,\n",
    "            self.reconstruction_loss_tracker,\n",
    "            self.kl_loss_tracker,\n",
    "        ]\n",
    "\n",
    "    def train_step(self, data):\n",
    "        with tf.GradientTape() as tape:\n",
    "            z_mean, z_log_var, z = self.encoder(data)\n",
    "            reconstruction = self.decoder(z)\n",
    "            reconstruction_loss = tf.reduce_mean(\n",
    "                tf.reduce_sum(\n",
    "                    tf.keras.losses.binary_crossentropy(data, reconstruction), axis=(1, 2)\n",
    "                )\n",
    "            )\n",
    "            kl_loss = -0.5 * (1 + z_log_var - tf.square(z_mean) - tf.exp(z_log_var))\n",
    "            kl_loss = tf.reduce_mean(tf.reduce_sum(kl_loss, axis=1))\n",
    "            total_loss = reconstruction_loss + kl_loss\n",
    "        grads = tape.gradient(total_loss, self.trainable_weights)\n",
    "        self.optimizer.apply_gradients(zip(grads, self.trainable_weights))\n",
    "        self.total_loss_tracker.update_state(total_loss)\n",
    "        self.reconstruction_loss_tracker.update_state(reconstruction_loss)\n",
    "        self.kl_loss_tracker.update_state(kl_loss)\n",
    "        return {\n",
    "            \"loss\": self.total_loss_tracker.result(),\n",
    "            \"reconstruction_loss\": self.reconstruction_loss_tracker.result(),\n",
    "            \"kl_loss\": self.kl_loss_tracker.result(),\n",
    "        }\n"
   ]
  },
  {
   "cell_type": "code",
   "execution_count": 19,
   "metadata": {},
   "outputs": [],
   "source": [
    "vae = VAE(encoder, decoder)\n",
    "vae.compile(optimizer=tf.keras.optimizers.Adam())\n",
    "\n",
    "covmatrixset = np.concatenate([covset_train, covset_train], axis=0)\n",
    "covmatrixset = np.expand_dims(covmatrixset, -1).astype(\"float32\")\n",
    "\n"
   ]
  },
  {
   "cell_type": "markdown",
   "metadata": {},
   "source": [
    "### TRAINING"
   ]
  },
  {
   "cell_type": "code",
   "execution_count": 20,
   "metadata": {},
   "outputs": [
    {
     "name": "stdout",
     "output_type": "stream",
     "text": [
      "Epoch 1/100\n",
      "125/125 [==============================] - 2s 14ms/step - loss: -2742.2988 - reconstruction_loss: -3846.8452 - kl_loss: 74.4168\n",
      "Epoch 2/100\n",
      "125/125 [==============================] - 2s 14ms/step - loss: -4654.9214 - reconstruction_loss: -4669.8760 - kl_loss: 10.4056\n",
      "Epoch 3/100\n",
      "125/125 [==============================] - 2s 14ms/step - loss: -4664.1729 - reconstruction_loss: -4671.2046 - kl_loss: 6.7196\n",
      "Epoch 4/100\n",
      "125/125 [==============================] - 2s 13ms/step - loss: -4666.1894 - reconstruction_loss: -4670.8613 - kl_loss: 4.3226\n",
      "Epoch 5/100\n",
      "125/125 [==============================] - 2s 13ms/step - loss: -4666.9707 - reconstruction_loss: -4671.2769 - kl_loss: 4.2844\n",
      "Epoch 6/100\n",
      "125/125 [==============================] - 2s 13ms/step - loss: -4666.7275 - reconstruction_loss: -4670.7090 - kl_loss: 6.7783\n",
      "Epoch 7/100\n",
      "125/125 [==============================] - 2s 13ms/step - loss: -4666.7992 - reconstruction_loss: -4671.0498 - kl_loss: 4.2108\n",
      "Epoch 8/100\n",
      "125/125 [==============================] - 2s 13ms/step - loss: -4667.8355 - reconstruction_loss: -4669.8213 - kl_loss: 2.7633\n",
      "Epoch 9/100\n",
      "125/125 [==============================] - 2s 13ms/step - loss: -4669.1809 - reconstruction_loss: -4671.3213 - kl_loss: 1.8862\n",
      "Epoch 10/100\n",
      "125/125 [==============================] - 2s 13ms/step - loss: -4669.7944 - reconstruction_loss: -4671.3423 - kl_loss: 1.6210\n",
      "Epoch 11/100\n",
      "125/125 [==============================] - 2s 13ms/step - loss: -4669.7875 - reconstruction_loss: -4671.1270 - kl_loss: 1.6746\n",
      "Epoch 12/100\n",
      "125/125 [==============================] - 2s 13ms/step - loss: -4669.3940 - reconstruction_loss: -4670.9302 - kl_loss: 1.5779\n",
      "Epoch 13/100\n",
      "125/125 [==============================] - 2s 13ms/step - loss: -4669.7454 - reconstruction_loss: -4671.6392 - kl_loss: 1.8899\n",
      "Epoch 14/100\n",
      "125/125 [==============================] - 2s 14ms/step - loss: -4670.2953 - reconstruction_loss: -4671.6299 - kl_loss: 1.2358\n",
      "Epoch 15/100\n",
      "125/125 [==============================] - 2s 13ms/step - loss: -4670.4180 - reconstruction_loss: -4671.4971 - kl_loss: 1.1363\n",
      "Epoch 16/100\n",
      "125/125 [==============================] - 2s 13ms/step - loss: -4665.7221 - reconstruction_loss: -4671.1738 - kl_loss: 6.8207\n",
      "Epoch 17/100\n",
      "125/125 [==============================] - 2s 13ms/step - loss: -4669.6280 - reconstruction_loss: -4671.6279 - kl_loss: 1.4775\n",
      "Epoch 18/100\n",
      "125/125 [==============================] - 2s 14ms/step - loss: -4670.8185 - reconstruction_loss: -4671.5767 - kl_loss: 0.8785\n",
      "Epoch 19/100\n",
      "125/125 [==============================] - 2s 14ms/step - loss: -4670.3575 - reconstruction_loss: -4671.6240 - kl_loss: 4.3104\n",
      "Epoch 20/100\n",
      "125/125 [==============================] - 2s 16ms/step - loss: -4639.8365 - reconstruction_loss: -4664.8120 - kl_loss: 7.3125\n",
      "Epoch 21/100\n",
      "125/125 [==============================] - 2s 17ms/step - loss: -4671.7251 - reconstruction_loss: -4671.7817 - kl_loss: 0.0190\n",
      "Epoch 22/100\n",
      "125/125 [==============================] - 2s 15ms/step - loss: -4671.7883 - reconstruction_loss: -4671.7983 - kl_loss: 0.0099\n",
      "Epoch 23/100\n",
      "125/125 [==============================] - 2s 15ms/step - loss: -4671.7867 - reconstruction_loss: -4671.7944 - kl_loss: 0.0129\n",
      "Epoch 24/100\n",
      "125/125 [==============================] - 2s 14ms/step - loss: -4671.7965 - reconstruction_loss: -4671.7993 - kl_loss: 0.0068\n",
      "Epoch 25/100\n",
      "125/125 [==============================] - 2s 14ms/step - loss: -4671.7919 - reconstruction_loss: -4671.7983 - kl_loss: 0.0057\n",
      "Epoch 26/100\n",
      "125/125 [==============================] - 2s 14ms/step - loss: -4671.7915 - reconstruction_loss: -4671.7983 - kl_loss: 0.0050\n",
      "Epoch 27/100\n",
      "125/125 [==============================] - 2s 14ms/step - loss: -4671.7908 - reconstruction_loss: -4671.7969 - kl_loss: 0.0045\n",
      "Epoch 28/100\n",
      "125/125 [==============================] - 2s 15ms/step - loss: -4671.7946 - reconstruction_loss: -4671.7988 - kl_loss: 0.0041\n",
      "Epoch 29/100\n",
      "125/125 [==============================] - 2s 14ms/step - loss: -4671.7945 - reconstruction_loss: -4671.7988 - kl_loss: 0.0038\n",
      "Epoch 30/100\n",
      "125/125 [==============================] - 2s 15ms/step - loss: -4671.7951 - reconstruction_loss: -4671.7993 - kl_loss: 0.0034\n",
      "Epoch 31/100\n",
      "125/125 [==============================] - 2s 15ms/step - loss: -4671.7985 - reconstruction_loss: -4671.7988 - kl_loss: 0.0031\n",
      "Epoch 32/100\n",
      "125/125 [==============================] - 2s 14ms/step - loss: -4671.7970 - reconstruction_loss: -4671.7993 - kl_loss: 0.0029\n",
      "Epoch 33/100\n",
      "125/125 [==============================] - 2s 14ms/step - loss: -4671.7950 - reconstruction_loss: -4671.7988 - kl_loss: 0.0028\n",
      "Epoch 34/100\n",
      "125/125 [==============================] - 2s 14ms/step - loss: -4671.7926 - reconstruction_loss: -4671.7983 - kl_loss: 0.0025\n",
      "Epoch 35/100\n",
      "125/125 [==============================] - 2s 14ms/step - loss: -4671.7953 - reconstruction_loss: -4671.7988 - kl_loss: 0.0024\n",
      "Epoch 36/100\n",
      "125/125 [==============================] - 2s 14ms/step - loss: -4671.7936 - reconstruction_loss: -4671.7993 - kl_loss: 0.0022\n",
      "Epoch 37/100\n",
      "125/125 [==============================] - 2s 14ms/step - loss: -4671.7975 - reconstruction_loss: -4671.7998 - kl_loss: 0.0021\n",
      "Epoch 38/100\n",
      "125/125 [==============================] - 2s 14ms/step - loss: -4671.7986 - reconstruction_loss: -4671.7993 - kl_loss: 0.0020\n",
      "Epoch 39/100\n",
      "125/125 [==============================] - 2s 14ms/step - loss: -4671.7965 - reconstruction_loss: -4671.7983 - kl_loss: 0.0019\n",
      "Epoch 40/100\n",
      "125/125 [==============================] - 2s 14ms/step - loss: -4671.7987 - reconstruction_loss: -4671.7969 - kl_loss: 0.0018\n",
      "Epoch 41/100\n",
      "125/125 [==============================] - 2s 14ms/step - loss: -4671.7993 - reconstruction_loss: -4671.7998 - kl_loss: 0.0017\n",
      "Epoch 42/100\n",
      "125/125 [==============================] - 2s 14ms/step - loss: -4671.7985 - reconstruction_loss: -4671.7988 - kl_loss: 0.0016\n",
      "Epoch 43/100\n",
      "125/125 [==============================] - 2s 14ms/step - loss: -4671.7960 - reconstruction_loss: -4671.7988 - kl_loss: 0.0015\n",
      "Epoch 44/100\n",
      "125/125 [==============================] - 2s 13ms/step - loss: -4671.8019 - reconstruction_loss: -4671.7988 - kl_loss: 0.0014\n",
      "Epoch 45/100\n",
      "125/125 [==============================] - 2s 12ms/step - loss: -4671.7982 - reconstruction_loss: -4671.7988 - kl_loss: 0.0014\n",
      "Epoch 46/100\n",
      "125/125 [==============================] - 2s 13ms/step - loss: -4671.7969 - reconstruction_loss: -4671.7993 - kl_loss: 0.0013\n",
      "Epoch 47/100\n",
      "125/125 [==============================] - 2s 13ms/step - loss: -4671.7998 - reconstruction_loss: -4671.7988 - kl_loss: 0.0012\n",
      "Epoch 48/100\n",
      "125/125 [==============================] - 2s 13ms/step - loss: -4671.7995 - reconstruction_loss: -4671.7988 - kl_loss: 0.0012\n",
      "Epoch 49/100\n",
      "125/125 [==============================] - 2s 13ms/step - loss: -4671.7971 - reconstruction_loss: -4671.7988 - kl_loss: 0.0011\n",
      "Epoch 50/100\n",
      "125/125 [==============================] - 2s 13ms/step - loss: -4671.7980 - reconstruction_loss: -4671.7998 - kl_loss: 0.0011\n",
      "Epoch 51/100\n",
      "125/125 [==============================] - 2s 13ms/step - loss: -4671.7957 - reconstruction_loss: -4671.7998 - kl_loss: 0.0010\n",
      "Epoch 52/100\n",
      "125/125 [==============================] - 2s 13ms/step - loss: -4671.7965 - reconstruction_loss: -4671.7979 - kl_loss: 9.7559e-04\n",
      "Epoch 53/100\n",
      "125/125 [==============================] - 2s 13ms/step - loss: -4671.7980 - reconstruction_loss: -4671.7979 - kl_loss: 9.2688e-04\n",
      "Epoch 54/100\n",
      "125/125 [==============================] - 2s 13ms/step - loss: -4671.7971 - reconstruction_loss: -4671.7988 - kl_loss: 8.8638e-04\n",
      "Epoch 55/100\n",
      "125/125 [==============================] - 2s 13ms/step - loss: -4671.7973 - reconstruction_loss: -4671.8003 - kl_loss: 8.5700e-04\n",
      "Epoch 56/100\n",
      "125/125 [==============================] - 2s 13ms/step - loss: -4671.7981 - reconstruction_loss: -4671.7998 - kl_loss: 8.0773e-04\n",
      "Epoch 57/100\n",
      "125/125 [==============================] - 2s 13ms/step - loss: -4671.7995 - reconstruction_loss: -4671.7979 - kl_loss: 7.8269e-04\n",
      "Epoch 58/100\n",
      "125/125 [==============================] - 2s 13ms/step - loss: -4671.7983 - reconstruction_loss: -4671.7998 - kl_loss: 7.3653e-04\n",
      "Epoch 59/100\n"
     ]
    },
    {
     "name": "stdout",
     "output_type": "stream",
     "text": [
      "125/125 [==============================] - 2s 12ms/step - loss: -4671.8030 - reconstruction_loss: -4671.7988 - kl_loss: 7.0380e-04\n",
      "Epoch 60/100\n",
      "125/125 [==============================] - 2s 12ms/step - loss: -4671.7941 - reconstruction_loss: -4671.7998 - kl_loss: 6.8721e-04\n",
      "Epoch 61/100\n",
      "125/125 [==============================] - 2s 13ms/step - loss: -4671.7988 - reconstruction_loss: -4671.7983 - kl_loss: 6.4011e-04\n",
      "Epoch 62/100\n",
      "125/125 [==============================] - 2s 13ms/step - loss: -4671.7984 - reconstruction_loss: -4671.7993 - kl_loss: 6.2743e-04\n",
      "Epoch 63/100\n",
      "125/125 [==============================] - 2s 13ms/step - loss: -4671.7975 - reconstruction_loss: -4671.7974 - kl_loss: 5.8755e-04\n",
      "Epoch 64/100\n",
      "125/125 [==============================] - 2s 13ms/step - loss: -4671.7976 - reconstruction_loss: -4671.7983 - kl_loss: 5.6189e-04\n",
      "Epoch 65/100\n",
      "125/125 [==============================] - 2s 13ms/step - loss: -4671.8003 - reconstruction_loss: -4671.7988 - kl_loss: 5.4660e-04\n",
      "Epoch 66/100\n",
      "125/125 [==============================] - 2s 13ms/step - loss: -4671.7958 - reconstruction_loss: -4671.7983 - kl_loss: 5.0689e-04\n",
      "Epoch 67/100\n",
      "125/125 [==============================] - 2s 13ms/step - loss: -4671.7996 - reconstruction_loss: -4671.8003 - kl_loss: 4.8616e-04\n",
      "Epoch 68/100\n",
      "125/125 [==============================] - 2s 13ms/step - loss: -4671.7978 - reconstruction_loss: -4671.7983 - kl_loss: 4.5800e-04\n",
      "Epoch 69/100\n",
      "125/125 [==============================] - 2s 13ms/step - loss: -4671.8011 - reconstruction_loss: -4671.7998 - kl_loss: 4.3817e-04\n",
      "Epoch 70/100\n",
      "125/125 [==============================] - 2s 14ms/step - loss: -4671.8010 - reconstruction_loss: -4671.7988 - kl_loss: 4.1990e-04\n",
      "Epoch 71/100\n",
      "125/125 [==============================] - 2s 14ms/step - loss: -4671.7977 - reconstruction_loss: -4671.7988 - kl_loss: 5.2655e-04\n",
      "Epoch 72/100\n",
      "125/125 [==============================] - 2s 13ms/step - loss: -4671.7963 - reconstruction_loss: -4671.7998 - kl_loss: 3.7591e-04\n",
      "Epoch 73/100\n",
      "125/125 [==============================] - 2s 15ms/step - loss: -4671.7971 - reconstruction_loss: -4671.7988 - kl_loss: 3.5553e-04\n",
      "Epoch 74/100\n",
      "125/125 [==============================] - 2s 14ms/step - loss: -4671.7956 - reconstruction_loss: -4671.7983 - kl_loss: 3.2861e-04\n",
      "Epoch 75/100\n",
      "125/125 [==============================] - 2s 12ms/step - loss: -4671.8002 - reconstruction_loss: -4671.7974 - kl_loss: 3.3632e-04\n",
      "Epoch 76/100\n",
      "125/125 [==============================] - 2s 13ms/step - loss: -4671.7975 - reconstruction_loss: -4671.7983 - kl_loss: 3.0006e-04\n",
      "Epoch 77/100\n",
      "125/125 [==============================] - 2s 12ms/step - loss: -4671.7986 - reconstruction_loss: -4671.7988 - kl_loss: 2.7199e-04\n",
      "Epoch 78/100\n",
      "125/125 [==============================] - 2s 13ms/step - loss: -4671.7991 - reconstruction_loss: -4671.7993 - kl_loss: 2.5322e-04\n",
      "Epoch 79/100\n",
      "125/125 [==============================] - 2s 12ms/step - loss: -4671.7975 - reconstruction_loss: -4671.7988 - kl_loss: 2.4325e-04\n",
      "Epoch 80/100\n",
      "125/125 [==============================] - 2s 12ms/step - loss: -4671.7992 - reconstruction_loss: -4671.7974 - kl_loss: 2.3260e-04\n",
      "Epoch 81/100\n",
      "125/125 [==============================] - 2s 13ms/step - loss: -4671.8002 - reconstruction_loss: -4671.7998 - kl_loss: 2.1848e-04\n",
      "Epoch 82/100\n",
      "125/125 [==============================] - 2s 14ms/step - loss: -4671.7987 - reconstruction_loss: -4671.7979 - kl_loss: 2.0353e-04\n",
      "Epoch 83/100\n",
      "125/125 [==============================] - 2s 15ms/step - loss: -4671.7967 - reconstruction_loss: -4671.7988 - kl_loss: 1.8888e-04\n",
      "Epoch 84/100\n",
      "125/125 [==============================] - 2s 14ms/step - loss: -4671.7988 - reconstruction_loss: -4671.7988 - kl_loss: 1.6958e-04\n",
      "Epoch 85/100\n",
      "125/125 [==============================] - 2s 12ms/step - loss: -4671.8009 - reconstruction_loss: -4671.7993 - kl_loss: 1.6454e-04\n",
      "Epoch 86/100\n",
      "125/125 [==============================] - 2s 12ms/step - loss: -4671.7991 - reconstruction_loss: -4671.7988 - kl_loss: 1.5592e-04\n",
      "Epoch 87/100\n",
      "125/125 [==============================] - 2s 12ms/step - loss: -4671.7970 - reconstruction_loss: -4671.7993 - kl_loss: 1.4524e-04\n",
      "Epoch 88/100\n",
      "125/125 [==============================] - 2s 13ms/step - loss: -4671.7970 - reconstruction_loss: -4671.7988 - kl_loss: 1.2457e-04\n",
      "Epoch 89/100\n",
      "125/125 [==============================] - 2s 13ms/step - loss: -4671.8000 - reconstruction_loss: -4671.7993 - kl_loss: 1.1358e-04\n",
      "Epoch 90/100\n",
      "125/125 [==============================] - 2s 13ms/step - loss: -4671.8022 - reconstruction_loss: -4671.8003 - kl_loss: 1.0496e-04\n",
      "Epoch 91/100\n",
      "125/125 [==============================] - 2s 16ms/step - loss: -4671.8004 - reconstruction_loss: -4671.7988 - kl_loss: 9.6840e-05\n",
      "Epoch 92/100\n",
      "125/125 [==============================] - 2s 14ms/step - loss: -4671.7991 - reconstruction_loss: -4671.7988 - kl_loss: 8.8734e-05\n",
      "Epoch 93/100\n",
      "125/125 [==============================] - 2s 13ms/step - loss: -4671.7983 - reconstruction_loss: -4671.7979 - kl_loss: 8.3198e-05\n",
      "Epoch 94/100\n",
      "125/125 [==============================] - 2s 12ms/step - loss: -4671.7972 - reconstruction_loss: -4671.7974 - kl_loss: 7.7494e-05\n",
      "Epoch 95/100\n",
      "125/125 [==============================] - 2s 13ms/step - loss: -4671.7994 - reconstruction_loss: -4671.7988 - kl_loss: 7.5095e-05\n",
      "Epoch 96/100\n",
      "125/125 [==============================] - 2s 13ms/step - loss: -4671.7983 - reconstruction_loss: -4671.7983 - kl_loss: 6.6736e-05\n",
      "Epoch 97/100\n",
      "125/125 [==============================] - 2s 16ms/step - loss: -4671.7981 - reconstruction_loss: -4671.7974 - kl_loss: 6.4895e-05\n",
      "Epoch 98/100\n",
      "125/125 [==============================] - 2s 13ms/step - loss: -4671.7956 - reconstruction_loss: -4671.7988 - kl_loss: 5.7711e-05\n",
      "Epoch 99/100\n",
      "125/125 [==============================] - 2s 12ms/step - loss: -4671.7981 - reconstruction_loss: -4671.7998 - kl_loss: 5.2471e-05\n",
      "Epoch 100/100\n",
      "125/125 [==============================] - 2s 13ms/step - loss: -4671.7985 - reconstruction_loss: -4671.7983 - kl_loss: 6.0564e-05\n"
     ]
    }
   ],
   "source": [
    "vae_train = vae.fit(covmatrixset, epochs=100, batch_size=64)            #500            "
   ]
  },
  {
   "cell_type": "code",
   "execution_count": 21,
   "metadata": {},
   "outputs": [
    {
     "data": {
      "text/plain": [
       "(array([-4800., -4600., -4400., -4200., -4000., -3800., -3600.]),\n",
       " [Text(0, 0, ''),\n",
       "  Text(0, 0, ''),\n",
       "  Text(0, 0, ''),\n",
       "  Text(0, 0, ''),\n",
       "  Text(0, 0, ''),\n",
       "  Text(0, 0, ''),\n",
       "  Text(0, 0, '')])"
      ]
     },
     "execution_count": 21,
     "metadata": {},
     "output_type": "execute_result"
    },
    {
     "data": {
      "image/png": "[encoded data removed]",
      "text/plain": [
       "<Figure size 700x400 with 1 Axes>"
      ]
     },
     "metadata": {
      "needs_background": "light"
     },
     "output_type": "display_data"
    }
   ],
   "source": [
    "plt.figure(figsize=(7, 4), dpi=100)\n",
    "\n",
    "plt.plot(vae_train.history['loss'], color='r', )\n",
    "\n",
    "plt.ylabel('MSE', fontsize=11)\n",
    "plt.xlabel('Epoch', fontsize=11)\n",
    "plt.legend(['training set', 'validation set'], loc='upper right', fontsize=15)\n",
    "plt.xticks(fontsize=10)\n",
    "plt.yticks(fontsize=10)"
   ]
  },
  {
   "cell_type": "code",
   "execution_count": 22,
   "metadata": {},
   "outputs": [
    {
     "data": {
      "image/png": "[encoded data removed]",
      "text/plain": [
       "<Figure size 432x432 with 1 Axes>"
      ]
     },
     "metadata": {
      "needs_background": "light"
     },
     "output_type": "display_data"
    }
   ],
   "source": [
    "x_test_encoded = encoder.predict(covset_test)\n",
    "plt.figure(figsize=(6, 6))\n",
    "plt.scatter(x_test_encoded[ 0], x_test_encoded[1], marker='o', c='blue', alpha=0.2)\n",
    "# plt.colorbar()\n",
    "plt.show()"
   ]
  },
  {
   "cell_type": "markdown",
   "metadata": {},
   "source": [
    "## Generate synthetic covariance matrix"
   ]
  },
  {
   "cell_type": "code",
   "execution_count": 23,
   "metadata": {},
   "outputs": [
    {
     "data": {
      "text/plain": [
       "((31, 31), (1000, 31, 31), (31, 31))"
      ]
     },
     "execution_count": 23,
     "metadata": {},
     "output_type": "execute_result"
    }
   ],
   "source": [
    "np.shape(syscov_sc), np.shape(covset_test), np.shape(covset_test[0])"
   ]
  },
  {
   "cell_type": "code",
   "execution_count": 24,
   "metadata": {},
   "outputs": [
    {
     "data": {
      "text/plain": [
       "[array([[-0.00459184, -0.00069421]], dtype=float32),\n",
       " array([[ 0.00030424, -0.00520792]], dtype=float32),\n",
       " array([[ 0.23340389, -0.8113075 ]], dtype=float32)]"
      ]
     },
     "execution_count": 24,
     "metadata": {},
     "output_type": "execute_result"
    }
   ],
   "source": [
    "ztest1 = encoder.predict(covset_test[0].reshape((1,31,31)))\n",
    "ztest1"
   ]
  },
  {
   "cell_type": "code",
   "execution_count": 25,
   "metadata": {},
   "outputs": [
    {
     "name": "stdout",
     "output_type": "stream",
     "text": [
      "(1, 31, 31, 1)\n"
     ]
    },
    {
     "data": {
      "text/plain": [
       "<AxesSubplot:>"
      ]
     },
     "execution_count": 25,
     "metadata": {},
     "output_type": "execute_result"
    },
    {
     "data": {
      "image/png": "[encoded data removed]",
      "text/plain": [
       "<Figure size 432x288 with 2 Axes>"
      ]
     },
     "metadata": {
      "needs_background": "light"
     },
     "output_type": "display_data"
    }
   ],
   "source": [
    "pred_matrix = decoder.predict(ztest1[1])\n",
    "print(np.shape(pred_matrix))\n",
    "pred_cov_sc = pred_matrix[0, :, :nsize, 0]\n",
    "pred_cov = scalercov.inverse_transform(pred_cov_sc)\n",
    "\n",
    "sns.heatmap(pd.DataFrame(pred_cov), \n",
    "            fmt='g', xticklabels=False, yticklabels=False, \n",
    "            cmap = 'inferno', \n",
    "            robust=False)"
   ]
  },
  {
   "cell_type": "code",
   "execution_count": 26,
   "metadata": {},
   "outputs": [
    {
     "data": {
      "text/plain": [
       "<seaborn.axisgrid.FacetGrid at 0x7fd88c7de430>"
      ]
     },
     "execution_count": 26,
     "metadata": {},
     "output_type": "execute_result"
    },
    {
     "data": {
      "image/png": "[encoded data removed]",
      "text/plain": [
       "<Figure size 402.25x360 with 1 Axes>"
      ]
     },
     "metadata": {
      "needs_background": "light"
     },
     "output_type": "display_data"
    }
   ],
   "source": [
    "sns.displot(dist_sc, kind='kde')"
   ]
  },
  {
   "cell_type": "code",
   "execution_count": 27,
   "metadata": {},
   "outputs": [
    {
     "data": {
      "text/plain": [
       "(4.226010222766725e-16, 1.0000000000000002)"
      ]
     },
     "execution_count": 27,
     "metadata": {},
     "output_type": "execute_result"
    }
   ],
   "source": [
    "zmean = np.mean(dist_sc)\n",
    "zstd = np.std(dist_sc)\n",
    "# zmean = 0.0\n",
    "# zstd = 0.5\n",
    "zmean, zstd"
   ]
  },
  {
   "cell_type": "code",
   "execution_count": 28,
   "metadata": {},
   "outputs": [],
   "source": [
    "z_sample = np.array([[zmean, zstd]])\n",
    "pred_matrix = decoder.predict(z_sample)"
   ]
  },
  {
   "cell_type": "code",
   "execution_count": 29,
   "metadata": {},
   "outputs": [
    {
     "data": {
      "text/plain": [
       "<AxesSubplot:>"
      ]
     },
     "execution_count": 29,
     "metadata": {},
     "output_type": "execute_result"
    },
    {
     "data": {
      "image/png": "[encoded data removed]",
      "text/plain": [
       "<Figure size 432x288 with 2 Axes>"
      ]
     },
     "metadata": {
      "needs_background": "light"
     },
     "output_type": "display_data"
    }
   ],
   "source": [
    "pred_cov_sc = pred_matrix[0, :, :nsize, 0]\n",
    "pred_cov = scalercov.inverse_transform(pred_cov_sc)\n",
    "\n",
    "sns.heatmap(pred_cov, \n",
    "            fmt='g', xticklabels=False, yticklabels=False, \n",
    "            cmap = 'inferno', \n",
    "            robust=False)"
   ]
  },
  {
   "cell_type": "code",
   "execution_count": 30,
   "metadata": {},
   "outputs": [],
   "source": [
    "np.savetxt(\"fake_binned_JLA_COVdecodedTEST2vae.dat\", pred_cov, delimiter= \" \", header=\"#fake COV\")"
   ]
  },
  {
   "cell_type": "markdown",
   "metadata": {},
   "source": [
    "# Test with new data"
   ]
  },
  {
   "cell_type": "code",
   "execution_count": 31,
   "metadata": {},
   "outputs": [],
   "source": [
    "ranz = z_redshift\n",
    "\n",
    "index = np.argsort(ranz)\n",
    "\n",
    "pred_random = ffnn.predict(np.log(ranz))\n",
    "# pred_dl = scalerdl.inverse_transform(pred_random[:,0].reshape(-1,1))\n",
    "pred_dl = pred_random[:,0][index].reshape(-1,1)\n",
    "pred_err = np.exp(pred_random[:,1][index].reshape(-1,1))\n",
    "\n",
    "fake_data = np.stack((ranz[index], pred_dl.reshape(31,)[index]), axis=1)\n",
    "\n",
    "np.savetxt(\"fake_binned_JLA2TEST3.dat\",  fake_data, delimiter= \" \", header=\"#fake data\\n# z\\n# mu\", fmt='%1.9f')"
   ]
  },
  {
   "cell_type": "code",
   "execution_count": 32,
   "metadata": {},
   "outputs": [
    {
     "data": {
      "text/plain": [
       "(-0.024898464, 1.0072505)"
      ]
     },
     "execution_count": 32,
     "metadata": {},
     "output_type": "execute_result"
    }
   ],
   "source": [
    "pred_dl_sc = scalerdist.transform(pred_dl)\n",
    "zmean = np.mean(pred_dl_sc)\n",
    "zstd = np.std(pred_dl_sc)\n",
    "zmean, zstd"
   ]
  },
  {
   "cell_type": "code",
   "execution_count": 33,
   "metadata": {},
   "outputs": [],
   "source": [
    "z_sample = np.array([[zmean, zstd]])\n",
    "newmatrix = decoder.predict(z_sample)"
   ]
  },
  {
   "cell_type": "code",
   "execution_count": 34,
   "metadata": {},
   "outputs": [
    {
     "data": {
      "text/plain": [
       "<AxesSubplot:>"
      ]
     },
     "execution_count": 34,
     "metadata": {},
     "output_type": "execute_result"
    },
    {
     "data": {
      "image/png": "[encoded data removed]",
      "text/plain": [
       "<Figure size 432x288 with 2 Axes>"
      ]
     },
     "metadata": {
      "needs_background": "light"
     },
     "output_type": "display_data"
    }
   ],
   "source": [
    "newmatrixr = scalercov.inverse_transform(newmatrix.reshape(31,31))\n",
    "# # clean_imgr = clean_img[0,:,:,0].reshape(31,31)\n",
    "\n",
    "sns.heatmap(pd.DataFrame(newmatrixr), \n",
    "            fmt='g', xticklabels=False, yticklabels=False, \n",
    "            cmap = 'inferno', \n",
    "            robust=False)"
   ]
  },
  {
   "cell_type": "code",
   "execution_count": 35,
   "metadata": {},
   "outputs": [],
   "source": [
    "np.savetxt(\"fake_binned_JLA_COVdecodedTEST3vae.dat\", newmatrixr, delimiter= \" \", header=\"#fake COV\")"
   ]
  },
  {
   "cell_type": "code",
   "execution_count": null,
   "metadata": {},
   "outputs": [],
   "source": []
  },
  {
   "cell_type": "code",
   "execution_count": null,
   "metadata": {},
   "outputs": [],
   "source": []
  }
 ],
 "metadata": {
  "kernelspec": {
   "display_name": "Python 3",
   "language": "python",
   "name": "python3"
  },
  "language_info": {
   "codemirror_mode": {
    "name": "ipython",
    "version": 3
   },
   "file_extension": ".py",
   "mimetype": "text/x-python",
   "name": "python",
   "nbconvert_exporter": "python",
   "pygments_lexer": "ipython3",
   "version": "3.8.5"
  }
 },
 "nbformat": 4,
 "nbformat_minor": 2
}
