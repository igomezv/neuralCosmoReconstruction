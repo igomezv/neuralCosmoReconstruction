{
 "cells": [
  {
   "cell_type": "code",
   "execution_count": 1,
   "metadata": {},
   "outputs": [],
   "source": [
    "import tensorflow as tf\n",
    "from tensorflow.keras.models import Model\n",
    "from tensorflow.keras import backend as K\n",
    "from tensorflow.keras import layers\n",
    "from tensorflow.keras import backend as keras\n",
    "from tensorflow.keras.callbacks import ModelCheckpoint, EarlyStopping, ReduceLROnPlateau\n",
    "from tensorflow.keras.models import Sequential, save_model, load_model\n",
    "from sklearn.preprocessing import StandardScaler, MinMaxScaler, Normalizer\n",
    "import numpy as np\n",
    "import matplotlib.pyplot as plt\n",
    "import pandas as pd\n",
    "import seaborn as sns\n",
    "import scipy as sp\n",
    "import os\n",
    "from astroNN.nn.layers import MCDropout\n",
    "import math\n",
    "from matplotlib.ticker import FormatStrFormatter"
   ]
  },
  {
   "cell_type": "markdown",
   "metadata": {},
   "source": [
    "Reading JLA covariance matrix and examinate the min, max and mean from it. "
   ]
  },
  {
   "cell_type": "code",
   "execution_count": 2,
   "metadata": {},
   "outputs": [
    {
     "name": "stdout",
     "output_type": "stream",
     "text": [
      "-0.01084098704 0.02815552265 0.00039265133851975654\n",
      "(31,) (31,) (31, 31)\n"
     ]
    }
   ],
   "source": [
    "ffnn = tf.keras.models.load_model('../models/FFNN_JLA.h5')\n",
    "ffnn_do = tf.keras.models.load_model('..models/FFNN_JLA_DO.h5', custom_objects={'MCDropout': MCDropout})\n",
    "\n",
    "\n",
    "syscov = np.loadtxt('../data/cov_jla_binned_distances_31nodes_v1.txt',skiprows=1).reshape((31,31))\n",
    "file = '../data/jla_binned_distances_31nodes_v1.txt'\n",
    "\n",
    "# syscov = np.loadtxt('data/jla_v0_covmatrix.dat',skiprows=1).reshape((740,740))\n",
    "print(np.min(syscov), np.max(syscov), np.mean(syscov))\n",
    "nsize = len(syscov)\n",
    "\n",
    "\n",
    "data = np.loadtxt(file, skiprows=3)\n",
    "z_redshift = data[:, 0]\n",
    "dist = data[:,1]\n",
    "errors = np.diag(syscov).reshape(nsize,)\n",
    "errors_logs = np.where(errors!= 0, np.log(errors), 0)\n",
    "\n",
    "print(np.shape(data[:,1]), np.shape(errors), np.shape(syscov))\n",
    "# z_redshift, dist"
   ]
  },
  {
   "cell_type": "code",
   "execution_count": 3,
   "metadata": {},
   "outputs": [],
   "source": [
    "scalercov = StandardScaler()\n",
    "scalercov.fit(syscov)\n",
    "syscov_sc = scalercov.transform(syscov)\n",
    "\n",
    "scalerdist = StandardScaler()\n",
    "scalerdist.fit(data[:,1].reshape(-1,1))\n",
    "dist_sc = scalerdist.transform(dist.reshape(nsize,1))\n",
    "\n",
    "scalererr = StandardScaler()\n",
    "scalererr.fit(errors.reshape(-1,1))\n",
    "errors_sc = scalererr.transform(errors.reshape(nsize,1))"
   ]
  },
  {
   "cell_type": "code",
   "execution_count": 4,
   "metadata": {},
   "outputs": [
    {
     "data": {
      "text/plain": [
       "Text(0.5, 1.0, 'Original matrix scaled and extended')"
      ]
     },
     "execution_count": 4,
     "metadata": {},
     "output_type": "execute_result"
    },
    {
     "data": {
      "image/png": "[encoded data removed]",
      "text/plain": [
       "<Figure size 432x288 with 2 Axes>"
      ]
     },
     "metadata": {
      "needs_background": "light"
     },
     "output_type": "display_data"
    }
   ],
   "source": [
    "sns.heatmap(syscov, \n",
    "# sns.heatmap(pd.DataFrame(covset_test[0]), \n",
    "        fmt='g', xticklabels=False, yticklabels=False, \n",
    "        cmap = 'inferno', cbar=True,\n",
    "        robust=False)\n",
    "plt.title('Original matrix scaled and extended')"
   ]
  },
  {
   "cell_type": "code",
   "execution_count": 5,
   "metadata": {},
   "outputs": [],
   "source": [
    "def matrixGenerator(omatrix, nmatrix, freq_original=100):\n",
    "    nsize = len(omatrix)\n",
    "    matrixset = np.zeros((nmatrix, nsize, nsize))\n",
    "    for it in range(nmatrix):\n",
    "        perm = np.random.permutation(nsize)\n",
    "        P = np.eye(nsize)[perm]\n",
    "        print(\"Generating matrix {}\".format(it), end='\\r')\n",
    "        if it % freq_original ==0:\n",
    "            m = omatrix\n",
    "        else:\n",
    "            m = P@omatrix@P.T\n",
    "       \n",
    "        mag = matrixMag(omatrix)\n",
    "        \n",
    "        matrixset[it, :, :] = m + np.multiply(0.1*np.random.rand(nsize,nsize), mag)\n",
    "        \n",
    "\n",
    "    return matrixset\n",
    "\n",
    "\n",
    "\n",
    "def matrixGenerator2(omatrix, nmatrix, noisefactor=0.5):\n",
    "    matrixset = np.zeros((nmatrix, nsize, nsize))\n",
    "    for it in range(nmatrix):\n",
    "        print(\"Generating matrix {}\".format(it+1), end='\\r')\n",
    "        mag = matrixMag(omatrix)\n",
    "\n",
    "        matrixset[it, :, :] = omatrix + np.multiply(noisefactor*np.random.rand(nsize,nsize), mag)\n",
    "        \n",
    "    return matrixset\n",
    "        \n",
    "def matrixGenerator3(omatrix, nmatrix, noise_factor=0.05):\n",
    "    D, P = sp.linalg.eigh(syscov)\n",
    "    D = np.diag(D)\n",
    "#     maxval_eigen = np.max(P)\n",
    "    matrixset = np.zeros((nmatrix, nsize, nsize))\n",
    "    for it in range(nmatrix):\n",
    "        print(\"Generating matrix {}\".format(it), end='\\r')\n",
    "        for row in range(nsize):\n",
    "            for col in range(nsize):\n",
    "                el = P[row, col]\n",
    "                matrixset[it, row, col] = np.random.normal(loc=el, scale=0.5*10**orderMag(el))\n",
    "#         matrixset[it, :, :nsize] = P + noise_factor * np.random.normal(loc=0.0, scale=0.01, size=P.shape) \n",
    "        \n",
    "    return matrixset, D\n",
    "    \n"
   ]
  },
  {
   "cell_type": "code",
   "execution_count": 6,
   "metadata": {},
   "outputs": [],
   "source": [
    "def symmetrical(matrix):\n",
    "    for i in range(len(matrix)):\n",
    "        for j in range(len(matrix)):\n",
    "            if matrix[i,j] != matrix[j,i]:\n",
    "                    if np.abs(matrix[i, j]) < np.abs(matrix[j,i]):\n",
    "                        matrix[i, j] = matrix[j, i]\n",
    "                    else:\n",
    "                        matrix[j, i] = matrix[i, j]\n",
    "            \n",
    "    return matrix"
   ]
  },
  {
   "cell_type": "code",
   "execution_count": 7,
   "metadata": {},
   "outputs": [],
   "source": [
    "def orderMag(number):\n",
    "    if number == 0.0:\n",
    "        return 0.0\n",
    "    else:\n",
    "        return math.floor(math.log(np.abs(number), 10))\n",
    "\n",
    "def matrixMag(matrix):\n",
    "    mshape = np.shape(matrix)\n",
    "    magMatrix = np.zeros(mshape)\n",
    "    for row in range(nsize):\n",
    "        for col in range(nsize):\n",
    "            magMatrix[row, col] = 10**orderMag(matrix[row, col])\n",
    "    return magMatrix            "
   ]
  },
  {
   "cell_type": "code",
   "execution_count": 8,
   "metadata": {},
   "outputs": [
    {
     "name": "stdout",
     "output_type": "stream",
     "text": [
      "Generating matrix 1000\r"
     ]
    }
   ],
   "source": [
    "numMatrix = 1000\n",
    "# covset, D = matrixGenerator3(syscov, numMatrix)\n",
    "covset = matrixGenerator2(syscov, numMatrix, noisefactor=2)"
   ]
  },
  {
   "cell_type": "code",
   "execution_count": 9,
   "metadata": {},
   "outputs": [
    {
     "data": {
      "text/plain": [
       "<AxesSubplot:>"
      ]
     },
     "execution_count": 9,
     "metadata": {},
     "output_type": "execute_result"
    },
    {
     "data": {
      "image/png": "[encoded data removed]",
      "text/plain": [
       "<Figure size 432x288 with 2 Axes>"
      ]
     },
     "metadata": {
      "needs_background": "light"
     },
     "output_type": "display_data"
    }
   ],
   "source": [
    "# sns.heatmap(scalercov.inverse_transform(covset[10, :, :]@D@covset[10, :, :].T), \n",
    "# sns.heatmap(covset[1, :, :]@D@covset[1,:,:].T, \n",
    "sns.heatmap(covset[11, :, :],             \n",
    "            fmt='g', xticklabels=False, yticklabels=False, \n",
    "            cmap = 'inferno', cbar=True,\n",
    "            robust=False)\n"
   ]
  },
  {
   "cell_type": "code",
   "execution_count": 10,
   "metadata": {},
   "outputs": [
    {
     "name": "stdout",
     "output_type": "stream",
     "text": [
      "(1000, 31, 31)\n"
     ]
    }
   ],
   "source": [
    "print(np.shape(covset))\n",
    "split = 0.8\n",
    "ntrain = int(split * numMatrix)\n",
    "indx = [ntrain]\n",
    "covset_train, covset_test = np.split(covset, indx, axis=0)\n",
    "# covset_noise_train, covset_noise_test = np.split(covset_noise, indx, axis=0)\n",
    "# np.shape(covset_noise_test)"
   ]
  },
  {
   "cell_type": "code",
   "execution_count": 11,
   "metadata": {},
   "outputs": [
    {
     "data": {
      "text/plain": [
       "Text(0.5, 1.0, 'TEST MATRIX')"
      ]
     },
     "execution_count": 11,
     "metadata": {},
     "output_type": "execute_result"
    },
    {
     "data": {
      "image/png": "[encoded data removed]",
      "text/plain": [
       "<Figure size 432x288 with 2 Axes>"
      ]
     },
     "metadata": {
      "needs_background": "light"
     },
     "output_type": "display_data"
    }
   ],
   "source": [
    "sns.heatmap(covset_test[0,:,:], \n",
    "        fmt='g', xticklabels=False, yticklabels=False, \n",
    "        cmap = 'inferno', cbar=True,\n",
    "        robust=False)\n",
    "plt.title(\"TEST MATRIX\")"
   ]
  },
  {
   "cell_type": "markdown",
   "metadata": {},
   "source": [
    "# Start design of ConVAE"
   ]
  },
  {
   "cell_type": "code",
   "execution_count": 71,
   "metadata": {},
   "outputs": [],
   "source": [
    "# Sampling class from https://github.com/keras-team/keras-io\n",
    "\n",
    "class Sampling(layers.Layer):\n",
    "    \"\"\"Uses (z_mean, z_log_var) to sample z, the vector encoding a digit.\"\"\"\n",
    "    def call(self, inputs):\n",
    "        z_mean, z_log_var = inputs\n",
    "        batch = tf.shape(z_mean)[0]\n",
    "        dim = tf.shape(z_mean)[1]\n",
    "        epsilon = tf.keras.backend.random_normal(shape=(batch, dim))\n",
    "        return z_mean + tf.exp(0.5 * z_log_var) * epsilon"
   ]
  },
  {
   "cell_type": "code",
   "execution_count": 72,
   "metadata": {},
   "outputs": [
    {
     "name": "stdout",
     "output_type": "stream",
     "text": [
      "Model: \"encoder\"\n",
      "__________________________________________________________________________________________________\n",
      "Layer (type)                    Output Shape         Param #     Connected to                     \n",
      "==================================================================================================\n",
      "encoder_input (InputLayer)      [(None, 31, 31, 1)]  0                                            \n",
      "__________________________________________________________________________________________________\n",
      "conv2d_6 (Conv2D)               (None, 16, 16, 32)   320         encoder_input[0][0]              \n",
      "__________________________________________________________________________________________________\n",
      "conv2d_7 (Conv2D)               (None, 8, 8, 64)     18496       conv2d_6[0][0]                   \n",
      "__________________________________________________________________________________________________\n",
      "conv2d_8 (Conv2D)               (None, 8, 8, 64)     36928       conv2d_7[0][0]                   \n",
      "__________________________________________________________________________________________________\n",
      "flatten_2 (Flatten)             (None, 4096)         0           conv2d_8[0][0]                   \n",
      "__________________________________________________________________________________________________\n",
      "dense_6 (Dense)                 (None, 50)           204850      flatten_2[0][0]                  \n",
      "__________________________________________________________________________________________________\n",
      "z_mean (Dense)                  (None, 1)            51          dense_6[0][0]                    \n",
      "__________________________________________________________________________________________________\n",
      "z_log_var (Dense)               (None, 1)            51          dense_6[0][0]                    \n",
      "__________________________________________________________________________________________________\n",
      "sampling_2 (Sampling)           (None, None)         0           z_mean[0][0]                     \n",
      "                                                                 z_log_var[0][0]                  \n",
      "==================================================================================================\n",
      "Total params: 260,696\n",
      "Trainable params: 260,696\n",
      "Non-trainable params: 0\n",
      "__________________________________________________________________________________________________\n"
     ]
    }
   ],
   "source": [
    "input_shape = (31, 31, 1)\n",
    "latent_dim = 1\n",
    "\n",
    "\n",
    "inputs = tf.keras.Input(shape=input_shape, name='encoder_input')\n",
    "# ((top_pad, bottom_pad), (left_pad, right_pad))\n",
    "# x = layers.ZeroPadding2D(((5,4),(5,4)))(inputs)\n",
    "x = layers.Conv2D(32, 3, activation='relu', strides=2, padding='same')(inputs)\n",
    "# x = layers.MaxPooling2D((2, 2), padding='same')(x)\n",
    "x = layers.Conv2D(64, 3, activation='relu', strides=2, padding='same')(x)\n",
    "# x = layers.MaxPooling2D((2, 2), padding='same')(x)\n",
    "x = layers.Conv2D(64, 3, activation='relu', padding='same')(x)\n",
    "# x = layers.MaxPooling2D((2, 2), padding='same')(x)\n",
    "shape_enc = K.int_shape(x)\n",
    "x = layers.Flatten()(x)\n",
    "# x = layers.Dense(500, activation='relu')(x)\n",
    "x = layers.Dense(50, activation='relu')(x)\n",
    "z_mean = layers.Dense(latent_dim, name='z_mean')(x)\n",
    "z_log_var = layers.Dense(latent_dim, name='z_log_var')(x)\n",
    "\n",
    "# use reparameterization trick to push the sampling out as input\n",
    "# note that \"output_shape\" isn't necessary with the TensorFlow backend\n",
    "# z = layers.Lambda(sampling, output_shape=(latent_dim,), name='z')([z_mean, z_log_sigma])\n",
    "z = Sampling()([z_mean, z_log_var])\n",
    "\n",
    "# z = layers.Lambda(sampling)([z_mean, z_log_sigma])\n",
    "encoder = tf.keras.Model(inputs, [z_mean, z_log_var, z], name='encoder')\n",
    "encoder.summary()"
   ]
  },
  {
   "cell_type": "code",
   "execution_count": 47,
   "metadata": {},
   "outputs": [
    {
     "name": "stdout",
     "output_type": "stream",
     "text": [
      "Model: \"decoder\"\n",
      "_________________________________________________________________\n",
      "Layer (type)                 Output Shape              Param #   \n",
      "=================================================================\n",
      "z_sampling (InputLayer)      [(None, 1)]               0         \n",
      "_________________________________________________________________\n",
      "dense_4 (Dense)              (None, 50)                100       \n",
      "_________________________________________________________________\n",
      "dense_5 (Dense)              (None, 4096)              208896    \n",
      "_________________________________________________________________\n",
      "reshape_1 (Reshape)          (None, 8, 8, 64)          0         \n",
      "_________________________________________________________________\n",
      "conv2d_transpose_4 (Conv2DTr (None, 8, 8, 64)          36928     \n",
      "_________________________________________________________________\n",
      "conv2d_transpose_5 (Conv2DTr (None, 8, 8, 64)          36928     \n",
      "_________________________________________________________________\n",
      "conv2d_transpose_6 (Conv2DTr (None, 16, 16, 32)        18464     \n",
      "_________________________________________________________________\n",
      "conv2d_transpose_7 (Conv2DTr (None, 32, 32, 1)         289       \n",
      "_________________________________________________________________\n",
      "cropping2d_1 (Cropping2D)    (None, 31, 31, 1)         0         \n",
      "=================================================================\n",
      "Total params: 301,605\n",
      "Trainable params: 301,605\n",
      "Non-trainable params: 0\n",
      "_________________________________________________________________\n"
     ]
    }
   ],
   "source": [
    "latent_inputs = tf.keras.Input(shape=(latent_dim,), name='z_sampling')\n",
    "x = layers.Dense(50, activation='relu')(latent_inputs)\n",
    "# x = layers.Dense(500, activation='relu')(x)\n",
    "x = layers.Dense(shape_enc[1] * shape_enc[2] * shape_enc[3], activation='relu')(x)\n",
    "x = layers.Reshape((shape_enc[1], shape_enc[2], shape_enc[3]))(x)\n",
    "x = layers.Conv2DTranspose(64, 3, activation='relu', strides=1, padding='same')(x)\n",
    "x = layers.Conv2DTranspose(64, 3, activation='relu', strides=1, padding='same')(x)\n",
    "x = layers.Conv2DTranspose(32, 3, activation='relu', strides=2, padding='same')(x)\n",
    "x= layers.Conv2DTranspose(1, 3, activation='linear', strides=2, padding='same')(x)\n",
    "# outputs = layers.Cropping2D(cropping=((5, 4), (5, 4)))(x)\n",
    "outputs = layers.Cropping2D(cropping=((1, 0), (1, 0)))(x)\n",
    "\n",
    "# Decoder model\n",
    "decoder = tf.keras.Model(latent_inputs, outputs, name='decoder')\n",
    "decoder.summary()\n"
   ]
  },
  {
   "cell_type": "code",
   "execution_count": 48,
   "metadata": {},
   "outputs": [
    {
     "name": "stdout",
     "output_type": "stream",
     "text": [
      "Model: \"vae_conv\"\n",
      "_________________________________________________________________\n",
      "Layer (type)                 Output Shape              Param #   \n",
      "=================================================================\n",
      "encoder_input (InputLayer)   [(None, 31, 31, 1)]       0         \n",
      "_________________________________________________________________\n",
      "encoder (Functional)         [(None, 1), (None, 1), (N 260696    \n",
      "_________________________________________________________________\n",
      "decoder (Functional)         (None, 31, 31, 1)         301605    \n",
      "=================================================================\n",
      "Total params: 562,301\n",
      "Trainable params: 562,301\n",
      "Non-trainable params: 0\n",
      "_________________________________________________________________\n"
     ]
    }
   ],
   "source": [
    "# instantiate VAE model\n",
    "outputs = decoder(encoder(inputs)[2])\n",
    "vae = tf.keras.Model(inputs, outputs, name='vae_conv')\n",
    "vae.summary()"
   ]
  },
  {
   "cell_type": "code",
   "execution_count": 73,
   "metadata": {},
   "outputs": [],
   "source": [
    "# VAE class from https://github.com/keras-team/keras-io\n",
    "class VAE(tf.keras.Model):\n",
    "    def __init__(self, encoder, decoder, **kwargs):\n",
    "        super(VAE, self).__init__(**kwargs)\n",
    "        self.encoder = encoder\n",
    "        self.decoder = decoder\n",
    "        self.total_loss_tracker = tf.keras.metrics.Mean(name=\"total_loss\")\n",
    "        self.reconstruction_loss_tracker = tf.keras.metrics.Mean(\n",
    "            name=\"reconstruction_loss\"\n",
    "        )\n",
    "        self.kl_loss_tracker = tf.keras.metrics.Mean(name=\"kl_loss\")\n",
    "\n",
    "    @property\n",
    "    def metrics(self):\n",
    "        return [\n",
    "            self.total_loss_tracker,\n",
    "            self.reconstruction_loss_tracker,\n",
    "            self.kl_loss_tracker,\n",
    "        ]\n",
    "\n",
    "    def train_step(self, data):\n",
    "        with tf.GradientTape() as tape:\n",
    "            z_mean, z_log_var, z = self.encoder(data)\n",
    "            reconstruction = self.decoder(z)\n",
    "            reconstruction_loss = tf.reduce_mean(\n",
    "                tf.reduce_sum(\n",
    "#                     tf.keras.losses.binary_crossentropy(data, reconstruction), axis=(1, 2)\n",
    "                    tf.keras.losses.mean_squared_error(data, reconstruction), axis=(1, 2)\n",
    "                )\n",
    "            )\n",
    "            kl_loss = -0.5 * (1 + z_log_var - tf.square(z_mean) - tf.exp(z_log_var))\n",
    "            kl_loss = tf.reduce_mean(tf.reduce_sum(kl_loss, axis=1))\n",
    "            total_loss = reconstruction_loss + kl_loss\n",
    "        grads = tape.gradient(total_loss, self.trainable_weights)\n",
    "        self.optimizer.apply_gradients(zip(grads, self.trainable_weights))\n",
    "        self.total_loss_tracker.update_state(total_loss)\n",
    "        self.reconstruction_loss_tracker.update_state(reconstruction_loss)\n",
    "        self.kl_loss_tracker.update_state(kl_loss)\n",
    "        return {\n",
    "            \"loss\": self.total_loss_tracker.result(),\n",
    "            \"reconstruction_loss\": self.reconstruction_loss_tracker.result(),\n",
    "            \"kl_loss\": self.kl_loss_tracker.result(),\n",
    "        }\n"
   ]
  },
  {
   "cell_type": "code",
   "execution_count": 74,
   "metadata": {},
   "outputs": [],
   "source": [
    "vae = VAE(encoder, decoder)\n",
    "vae.compile(optimizer=tf.keras.optimizers.Adam())\n",
    "\n",
    "covmatrixset = np.concatenate([covset_train, covset_train], axis=0)\n",
    "covmatrixset = np.expand_dims(covmatrixset, -1).astype(\"float32\")\n",
    "\n"
   ]
  },
  {
   "cell_type": "markdown",
   "metadata": {},
   "source": [
    "### TRAINING"
   ]
  },
  {
   "cell_type": "code",
   "execution_count": 75,
   "metadata": {},
   "outputs": [
    {
     "name": "stdout",
     "output_type": "stream",
     "text": [
      "Epoch 1/30\n",
      "13/13 - 1s - loss: 5.0863e-04 - reconstruction_loss: 4.8319e-04 - kl_loss: 2.5439e-05\n",
      "Epoch 2/30\n",
      "13/13 - 1s - loss: 2.9952e-04 - reconstruction_loss: 2.9869e-04 - kl_loss: 8.2924e-07\n",
      "Epoch 3/30\n",
      "13/13 - 1s - loss: 2.6082e-04 - reconstruction_loss: 2.6058e-04 - kl_loss: 2.3928e-07\n",
      "Epoch 4/30\n",
      "13/13 - 1s - loss: 2.5188e-04 - reconstruction_loss: 2.5185e-04 - kl_loss: 2.7044e-08\n",
      "Epoch 5/30\n",
      "13/13 - 1s - loss: 2.4922e-04 - reconstruction_loss: 2.4922e-04 - kl_loss: 2.8656e-09\n",
      "Epoch 6/30\n",
      "13/13 - 1s - loss: 2.4571e-04 - reconstruction_loss: 2.4571e-04 - kl_loss: 2.3283e-09\n",
      "Epoch 7/30\n",
      "13/13 - 1s - loss: 2.4534e-04 - reconstruction_loss: 2.4534e-04 - kl_loss: 5.3730e-10\n",
      "Epoch 8/30\n",
      "13/13 - 1s - loss: 2.4549e-04 - reconstruction_loss: 2.4549e-04 - kl_loss: 5.3730e-10\n",
      "Epoch 9/30\n",
      "13/13 - 1s - loss: 2.4650e-04 - reconstruction_loss: 2.4650e-04 - kl_loss: 3.5820e-10\n",
      "Epoch 10/30\n",
      "13/13 - 1s - loss: 2.4357e-04 - reconstruction_loss: 2.4357e-04 - kl_loss: 0.0000e+00\n",
      "Epoch 11/30\n",
      "13/13 - 1s - loss: 2.4363e-04 - reconstruction_loss: 2.4363e-04 - kl_loss: 0.0000e+00\n",
      "Epoch 12/30\n",
      "13/13 - 1s - loss: 2.4329e-04 - reconstruction_loss: 2.4329e-04 - kl_loss: 7.1640e-10\n",
      "Epoch 13/30\n",
      "13/13 - 1s - loss: 2.4270e-04 - reconstruction_loss: 2.4270e-04 - kl_loss: 7.1640e-10\n",
      "Epoch 14/30\n",
      "13/13 - 1s - loss: 2.4159e-04 - reconstruction_loss: 2.4159e-04 - kl_loss: 1.7910e-10\n",
      "Epoch 15/30\n",
      "13/13 - 1s - loss: 2.4032e-04 - reconstruction_loss: 2.4032e-04 - kl_loss: 1.7910e-10\n",
      "Epoch 16/30\n",
      "13/13 - 1s - loss: 2.4016e-04 - reconstruction_loss: 2.4016e-04 - kl_loss: 0.0000e+00\n",
      "Epoch 17/30\n",
      "13/13 - 1s - loss: 2.3968e-04 - reconstruction_loss: 2.3968e-04 - kl_loss: 5.3730e-10\n",
      "Epoch 18/30\n",
      "13/13 - 1s - loss: 2.4026e-04 - reconstruction_loss: 2.4026e-04 - kl_loss: 3.5820e-10\n",
      "Epoch 19/30\n",
      "13/13 - 1s - loss: 2.3862e-04 - reconstruction_loss: 2.3862e-04 - kl_loss: 0.0000e+00\n",
      "Epoch 20/30\n",
      "13/13 - 1s - loss: 2.3987e-04 - reconstruction_loss: 2.3987e-04 - kl_loss: 0.0000e+00\n",
      "Epoch 21/30\n",
      "13/13 - 1s - loss: 2.3770e-04 - reconstruction_loss: 2.3770e-04 - kl_loss: 1.7910e-10\n",
      "Epoch 22/30\n",
      "13/13 - 1s - loss: 2.3808e-04 - reconstruction_loss: 2.3808e-04 - kl_loss: 0.0000e+00\n",
      "Epoch 23/30\n",
      "13/13 - 1s - loss: 2.3582e-04 - reconstruction_loss: 2.3582e-04 - kl_loss: 0.0000e+00\n",
      "Epoch 24/30\n",
      "13/13 - 1s - loss: 2.3669e-04 - reconstruction_loss: 2.3669e-04 - kl_loss: 0.0000e+00\n",
      "Epoch 25/30\n",
      "13/13 - 1s - loss: 2.3656e-04 - reconstruction_loss: 2.3656e-04 - kl_loss: 0.0000e+00\n",
      "Epoch 26/30\n",
      "13/13 - 1s - loss: 2.3634e-04 - reconstruction_loss: 2.3634e-04 - kl_loss: 0.0000e+00\n",
      "Epoch 27/30\n",
      "13/13 - 1s - loss: 2.3833e-04 - reconstruction_loss: 2.3833e-04 - kl_loss: 0.0000e+00\n",
      "Epoch 28/30\n",
      "13/13 - 1s - loss: 2.3588e-04 - reconstruction_loss: 2.3588e-04 - kl_loss: 7.1640e-10\n",
      "Epoch 29/30\n",
      "13/13 - 1s - loss: 2.3482e-04 - reconstruction_loss: 2.3482e-04 - kl_loss: 3.5820e-10\n",
      "Epoch 30/30\n",
      "13/13 - 1s - loss: 2.3542e-04 - reconstruction_loss: 2.3541e-04 - kl_loss: 1.4328e-09\n"
     ]
    }
   ],
   "source": [
    "vae_train = vae.fit(covmatrixset, epochs=30, batch_size=128, verbose=2)                  "
   ]
  },
  {
   "cell_type": "code",
   "execution_count": 76,
   "metadata": {},
   "outputs": [
    {
     "data": {
      "text/plain": [
       "(array([1.e-12, 1.e-11, 1.e-10, 1.e-09, 1.e-08, 1.e-07, 1.e-06, 1.e-05,\n",
       "        1.e-04, 1.e-03]),\n",
       " [Text(0, 0, ''),\n",
       "  Text(0, 0, ''),\n",
       "  Text(0, 0, ''),\n",
       "  Text(0, 0, ''),\n",
       "  Text(0, 0, ''),\n",
       "  Text(0, 0, ''),\n",
       "  Text(0, 0, ''),\n",
       "  Text(0, 0, ''),\n",
       "  Text(0, 0, ''),\n",
       "  Text(0, 0, '')])"
      ]
     },
     "execution_count": 76,
     "metadata": {},
     "output_type": "execute_result"
    },
    {
     "data": {
      "image/png": "[encoded data removed]",
      "text/plain": [
       "<Figure size 700x400 with 1 Axes>"
      ]
     },
     "metadata": {
      "needs_background": "light"
     },
     "output_type": "display_data"
    }
   ],
   "source": [
    "plt.figure(figsize=(7, 4), dpi=100)\n",
    "\n",
    "plt.plot(vae_train.history['kl_loss'], color='r', )\n",
    "\n",
    "plt.yscale(\"log\")\n",
    "plt.ylabel('KL loss function', fontsize=11)\n",
    "plt.xlabel('Epoch', fontsize=11)\n",
    "plt.legend(['training set'], loc='upper right', fontsize=15)\n",
    "plt.xticks(fontsize=10)\n",
    "plt.yticks(fontsize=10)"
   ]
  },
  {
   "cell_type": "code",
   "execution_count": 77,
   "metadata": {},
   "outputs": [
    {
     "data": {
      "text/plain": [
       "(array([0.0002 , 0.00025, 0.0003 , 0.00035, 0.0004 , 0.00045, 0.0005 ,\n",
       "        0.00055]),\n",
       " [Text(0, 0, ''),\n",
       "  Text(0, 0, ''),\n",
       "  Text(0, 0, ''),\n",
       "  Text(0, 0, ''),\n",
       "  Text(0, 0, ''),\n",
       "  Text(0, 0, ''),\n",
       "  Text(0, 0, ''),\n",
       "  Text(0, 0, '')])"
      ]
     },
     "execution_count": 77,
     "metadata": {},
     "output_type": "execute_result"
    },
    {
     "data": {
      "image/png": "[encoded data removed]",
      "text/plain": [
       "<Figure size 700x400 with 1 Axes>"
      ]
     },
     "metadata": {
      "needs_background": "light"
     },
     "output_type": "display_data"
    }
   ],
   "source": [
    "plt.figure(figsize=(7, 4), dpi=100)\n",
    "\n",
    "plt.plot(vae_train.history['loss'], color='r', )\n",
    "\n",
    "plt.ylabel('Loss function', fontsize=11)\n",
    "plt.xlabel('', fontsize=11)\n",
    "plt.legend(['training set'], loc='upper right', fontsize=15)\n",
    "plt.xticks(fontsize=10)\n",
    "plt.yticks(fontsize=10)"
   ]
  },
  {
   "cell_type": "markdown",
   "metadata": {},
   "source": [
    "# Visualize the latent space"
   ]
  },
  {
   "cell_type": "code",
   "execution_count": 78,
   "metadata": {},
   "outputs": [
    {
     "name": "stdout",
     "output_type": "stream",
     "text": [
      "WARNING:tensorflow:5 out of the last 16 calls to <function Model.make_predict_function.<locals>.predict_function at 0x7f7db8140dc0> triggered tf.function retracing. Tracing is expensive and the excessive number of tracings could be due to (1) creating @tf.function repeatedly in a loop, (2) passing tensors with different shapes, (3) passing Python objects instead of tensors. For (1), please define your @tf.function outside of the loop. For (2), @tf.function has experimental_relax_shapes=True option that relaxes argument shapes that can avoid unnecessary retracing. For (3), please refer to https://www.tensorflow.org/guide/function#controlling_retracing and https://www.tensorflow.org/api_docs/python/tf/function for  more details.\n",
      "<class 'list'>\n",
      "(3, 200, 1)\n",
      "(200, 1)\n",
      "(200, 1)\n",
      "(200, 1)\n"
     ]
    }
   ],
   "source": [
    "x_test_encoded = encoder.predict(covset_test)\n",
    "z_mean = x_test_encoded[0]\n",
    "z_std = x_test_encoded[1]\n",
    "z_latent = x_test_encoded[2]\n",
    "\n",
    "print(type(x_test_encoded))\n",
    "print(np.shape(x_test_encoded))\n",
    "print(np.shape(x_test_encoded[0]))\n",
    "print(np.shape(x_test_encoded[1]))\n",
    "print(np.shape(x_test_encoded[2]))"
   ]
  },
  {
   "cell_type": "markdown",
   "metadata": {},
   "source": [
    "## The z_mean and z_std vectors"
   ]
  },
  {
   "cell_type": "code",
   "execution_count": 79,
   "metadata": {
    "scrolled": true
   },
   "outputs": [
    {
     "data": {
      "text/plain": [
       "<Figure size 360x360 with 0 Axes>"
      ]
     },
     "metadata": {},
     "output_type": "display_data"
    },
    {
     "data": {
      "image/png": "[encoded data removed]",
      "text/plain": [
       "<Figure size 432x288 with 1 Axes>"
      ]
     },
     "metadata": {
      "needs_background": "light"
     },
     "output_type": "display_data"
    }
   ],
   "source": [
    "plt.figure(figsize=(5, 5))\n",
    "fig, ax = plt.subplots()\n",
    "\n",
    "ax.xaxis.set_major_formatter(FormatStrFormatter('%g'))\n",
    "\n",
    "plt.scatter(z_mean, z_std, marker='o', c='blue', alpha=0.2)\n",
    "plt.xlabel('$\\mu$')\n",
    "plt.ylabel('$\\sigma$')\n",
    "meanmean = np.mean(z_mean)\n",
    "meanstd = np.mean(z_std)\n",
    "plt.title('Average mean: {:.6f} | Average std: {:.6f}'.format(meanmean, meanstd))\n",
    "xmin = np.min(z_mean)#-0.1*10**orderMag(meanmean)\n",
    "xmax = np.max(z_mean)#+0.1*10**orderMag(meanmean)\n",
    "ymin = np.min(z_std)#-0.1*10**orderMag(meanmean)\n",
    "ymax = np.max(z_std)#+0.1*10**orderMag(meanmean)\n",
    "# ax.xaxis.set_ticks(np.arange(xmin, xmax, 0.000001))\n",
    "\n",
    "plt.xlim(xmin, xmax)\n",
    "plt.ylim(ymin, ymax)\n",
    "# plt.xticks()\n",
    "plt.hlines(meanstd, xmin, xmax, colors='r', linestyles='dotted')\n",
    "plt.vlines(meanmean, ymin, ymax, colors='r', linestyles='dotted')\n",
    "plt.show()"
   ]
  },
  {
   "cell_type": "markdown",
   "metadata": {},
   "source": [
    "## Samples of the latent space"
   ]
  },
  {
   "cell_type": "code",
   "execution_count": 80,
   "metadata": {},
   "outputs": [
    {
     "data": {
      "text/plain": [
       "<seaborn.axisgrid.FacetGrid at 0x7f7db8126d00>"
      ]
     },
     "execution_count": 80,
     "metadata": {},
     "output_type": "execute_result"
    },
    {
     "data": {
      "image/png": "[encoded data removed]",
      "text/plain": [
       "<Figure size 402.25x360 with 1 Axes>"
      ]
     },
     "metadata": {
      "needs_background": "light"
     },
     "output_type": "display_data"
    }
   ],
   "source": [
    "sns.displot(z_latent)"
   ]
  },
  {
   "cell_type": "code",
   "execution_count": 81,
   "metadata": {},
   "outputs": [
    {
     "name": "stdout",
     "output_type": "stream",
     "text": [
      "-2.6689055 2.687726\n"
     ]
    },
    {
     "data": {
      "text/plain": [
       "[<matplotlib.lines.Line2D at 0x7f7dab762cd0>]"
      ]
     },
     "execution_count": 81,
     "metadata": {},
     "output_type": "execute_result"
    },
    {
     "data": {
      "image/png": "[encoded data removed]",
      "text/plain": [
       "<Figure size 432x288 with 1 Axes>"
      ]
     },
     "metadata": {
      "needs_background": "light"
     },
     "output_type": "display_data"
    }
   ],
   "source": [
    "max_latent = np.max(z_latent)\n",
    "min_latent = np.min(z_latent)\n",
    "print(min_latent, max_latent)\n",
    "x = np.linspace(min_latent-0.1, max_latent+0.1, 100)\n",
    "mean_latent, std_latent = np.mean(z_latent), np.std(z_latent)\n",
    "y = sp.stats.norm.pdf(x, mean_latent, std_latent)\n",
    "plt.title('Mean: {:.6f} | St dev: {:.6f}'.format(mean_latent, std_latent))\n",
    "plt.plot(x, y)\n",
    "# plt.show()\n",
    "# dist_sc"
   ]
  },
  {
   "cell_type": "markdown",
   "metadata": {},
   "source": [
    "# Generate synthetic covariance matrices"
   ]
  },
  {
   "cell_type": "markdown",
   "metadata": {},
   "source": [
    "## Test 1: encode and decode a matrix of the test set"
   ]
  },
  {
   "cell_type": "code",
   "execution_count": 82,
   "metadata": {
    "scrolled": true
   },
   "outputs": [
    {
     "name": "stdout",
     "output_type": "stream",
     "text": [
      "(1, 31, 31, 1)\n"
     ]
    },
    {
     "data": {
      "text/plain": [
       "Text(0.5, 1.0, 'arbitrarty covset_test matrix DECODED')"
      ]
     },
     "execution_count": 82,
     "metadata": {},
     "output_type": "execute_result"
    },
    {
     "data": {
      "image/png": "[encoded data removed]",
      "text/plain": [
       "<Figure size 432x288 with 2 Axes>"
      ]
     },
     "metadata": {
      "needs_background": "light"
     },
     "output_type": "display_data"
    }
   ],
   "source": [
    "ztest1 = encoder.predict(covset[11].reshape((1,31,31)))\n",
    "\n",
    "pred_matrix1 = decoder.predict(ztest1[2])\n",
    "print(np.shape(pred_matrix1))\n",
    "# pred_cov = pred_matrix[0, :, :nsize, 0]\n",
    "pred_cov_sc1 = pred_matrix1[0, :, :nsize, 0]\n",
    "pred_cov1 = pred_cov_sc1\n",
    "# pred_cov1 = scalercov.inverse_transform(pred_cov_sc1)\n",
    "\n",
    "sns.heatmap(pred_cov1, \n",
    "            fmt='g', xticklabels=False, yticklabels=False, \n",
    "            cmap = 'inferno', \n",
    "            robust=False)\n",
    "plt.title('arbitrarty covset_test matrix DECODED')"
   ]
  },
  {
   "cell_type": "markdown",
   "metadata": {},
   "source": [
    "## Test 3: Using syscov"
   ]
  },
  {
   "cell_type": "code",
   "execution_count": 59,
   "metadata": {},
   "outputs": [
    {
     "data": {
      "text/plain": [
       "(array([[-0.08666562]], dtype=float32), 0.01587544)"
      ]
     },
     "execution_count": 59,
     "metadata": {},
     "output_type": "execute_result"
    }
   ],
   "source": [
    "ztest2 = encoder.predict(syscov_sc.reshape((1,31,31)))\n",
    "z_mean_syscov, z_std_syscov, z_sample_syscov = ztest2\n",
    "z_sample_syscov, mean_latent"
   ]
  },
  {
   "cell_type": "code",
   "execution_count": 60,
   "metadata": {},
   "outputs": [
    {
     "name": "stdout",
     "output_type": "stream",
     "text": [
      "(1, 31, 31, 1)\n"
     ]
    },
    {
     "data": {
      "text/plain": [
       "Text(0.5, 1.0, 'using syscov')"
      ]
     },
     "execution_count": 60,
     "metadata": {},
     "output_type": "execute_result"
    },
    {
     "data": {
      "image/png": "[encoded data removed]",
      "text/plain": [
       "<Figure size 432x288 with 2 Axes>"
      ]
     },
     "metadata": {
      "needs_background": "light"
     },
     "output_type": "display_data"
    }
   ],
   "source": [
    "# pred_cov = pred_matrix[0, :, :nsize, 0]\n",
    "pred_matrix2 = decoder.predict(ztest2[2])\n",
    "print(np.shape(pred_matrix2))\n",
    "pred_cov_sc2 = pred_matrix2[0, :, :nsize, 0]\n",
    "# pred_cov2 = scalercov.inverse_transform(pred_cov_sc2)\n",
    "pred_cov2 = pred_cov_sc2.reshape(31,31)\n",
    "\n",
    "\n",
    "sns.heatmap(pd.DataFrame(pred_cov2), \n",
    "            fmt='g', xticklabels=False, yticklabels=False, \n",
    "            cmap = 'inferno', \n",
    "            robust=False)\n",
    "\n",
    "plt.title('using syscov')"
   ]
  },
  {
   "cell_type": "code",
   "execution_count": 61,
   "metadata": {},
   "outputs": [],
   "source": [
    "np.savetxt(\"fake_binned_JLA_COVdecodedTESTVAE2\", pred_cov2, delimiter= \" \", header=\"#fake COV\")"
   ]
  },
  {
   "cell_type": "markdown",
   "metadata": {},
   "source": [
    "## Test 3: With diagonal matrix and random noise"
   ]
  },
  {
   "cell_type": "code",
   "execution_count": 62,
   "metadata": {},
   "outputs": [
    {
     "data": {
      "text/plain": [
       "[array([[0.06682233]], dtype=float32),\n",
       " array([[0.11807925]], dtype=float32),\n",
       " array([[0.51691]], dtype=float32)]"
      ]
     },
     "execution_count": 62,
     "metadata": {},
     "output_type": "execute_result"
    }
   ],
   "source": [
    "diagtest = np.diag(syscov_sc)\n",
    "diagmat = np.zeros((31,31))\n",
    "for row in range(nsize):\n",
    "    for col in range(nsize):\n",
    "        if row == col:\n",
    "            diagmat[row, col] = diagtest[row]\n",
    "        else:\n",
    "            diagmat[row, col] = np.random.rand()*10**orderMag(covset[0,:,:][row, col])\n",
    "ztest3 = encoder.predict(diagmat.reshape((1,31,31)))\n",
    "ztest3\n"
   ]
  },
  {
   "cell_type": "code",
   "execution_count": 63,
   "metadata": {},
   "outputs": [
    {
     "name": "stdout",
     "output_type": "stream",
     "text": [
      "(1, 31, 31, 1)\n"
     ]
    },
    {
     "data": {
      "image/png": "[encoded data removed]",
      "text/plain": [
       "<Figure size 432x288 with 2 Axes>"
      ]
     },
     "metadata": {
      "needs_background": "light"
     },
     "output_type": "display_data"
    }
   ],
   "source": [
    "pred_matrix3 = decoder.predict(ztest3[2])\n",
    "print(np.shape(pred_matrix3))\n",
    "# pred_cov = pred_matrix[0, :, :nsize, 0]\n",
    "pred_cov_sc3 = pred_matrix3[0, :, :nsize, 0]\n",
    "pred_cov3 = pred_cov_sc3.reshape(31,31)\n",
    "# pred_cov3 = scalercov.inverse_transform(pred_cov_sc3)\n",
    "\n",
    "sns.heatmap(pd.DataFrame(pred_cov3), \n",
    "            fmt='g', xticklabels=False, yticklabels=False, \n",
    "            cmap = 'inferno', \n",
    "            robust=False)\n",
    "\n",
    "plt.title(\"using diagonal pred error\")\n",
    "\n",
    "np.savetxt(\"fake_binned_JLA_COVdecodedTESTVAE2\", pred_cov3, delimiter= \" \", header=\"#fake COV\")"
   ]
  },
  {
   "cell_type": "markdown",
   "metadata": {},
   "source": [
    "## Test 4: with the most probable sample of the latent space"
   ]
  },
  {
   "cell_type": "code",
   "execution_count": 64,
   "metadata": {},
   "outputs": [
    {
     "data": {
      "text/plain": [
       "<AxesSubplot:>"
      ]
     },
     "execution_count": 64,
     "metadata": {},
     "output_type": "execute_result"
    },
    {
     "data": {
      "image/png": "[encoded data removed]",
      "text/plain": [
       "<Figure size 432x288 with 2 Axes>"
      ]
     },
     "metadata": {
      "needs_background": "light"
     },
     "output_type": "display_data"
    }
   ],
   "source": [
    "matrix4 = decoder.predict(np.array([mean_latent]))\n",
    "# matrix4r = scalercov.inverse_transform(matrix4.reshape(31,31))\n",
    "matrix4r = matrix4.reshape(31,31)\n",
    "# matrix4r = matrix4r@D@matrix4r.T\n",
    "# # clean_imgr = clean_img[0,:,:,0].reshape(31,31)\n",
    "\n",
    "sns.heatmap(pd.DataFrame(matrix4r), \n",
    "            fmt='g', xticklabels=False, yticklabels=False, \n",
    "            cmap = 'inferno', \n",
    "            robust=False)"
   ]
  },
  {
   "cell_type": "markdown",
   "metadata": {},
   "source": [
    "# Test with new data. Distance modulus from another FFNN"
   ]
  },
  {
   "cell_type": "code",
   "execution_count": 65,
   "metadata": {},
   "outputs": [],
   "source": [
    "# ffnn = tf.keras.models.load_model('../models/FFNN_JLA.h5')\n",
    "# ffnn_do = tf.keras.models.load_model('..models/FFNN_JLA_DO.h5', custom_objects={'MCDropout': MCDropout})\n",
    "\n",
    "\n",
    "# # ranz = z_redshift\n",
    "# ranz = z_redshift + 0.001*np.random.randn()\n",
    "\n",
    "# index = np.argsort(ranz)\n",
    "\n",
    "# pred_random = ffnn.predict(np.log(ranz))\n",
    "# pred_dl = pred_random[:,0].reshape(-1,1)\n",
    "\n",
    "# pred_dl_sc = pred_dl.reshape(31,)[index]\n",
    "# pred_err = np.exp(pred_random[:,1][index].reshape(-1,1))\n",
    "# dlfake = scalerdist.inverse_transform(pred_dl_sc)\n",
    "\n",
    "# fake_data = np.stack((ranz[index], dlfake[index]), axis=1)\n",
    "\n",
    "# np.savetxt(\"fake_binned_JLA2TEST3.dat\",  fake_data, delimiter= \" \", header=\"#fake data\\n# z\\n# mu\", fmt='%1.9f')"
   ]
  },
  {
   "cell_type": "code",
   "execution_count": 66,
   "metadata": {},
   "outputs": [
    {
     "data": {
      "text/plain": [
       "array([32.72378921, 33.1379776 , 33.54676056, 33.95006561, 34.34883499,\n",
       "       34.74382019, 35.13565063, 35.52483368, 35.91179657, 36.29689407,\n",
       "       36.68041229, 37.062603  , 37.44367218, 37.82379532, 38.20310974,\n",
       "       38.58174896, 38.95980835, 39.33737946, 39.71453857, 40.09223175,\n",
       "       40.47688293, 40.85940552, 41.29525757, 41.69662476, 42.10967636,\n",
       "       42.50671387, 42.91246033, 43.33065796, 43.92466736, 44.53765869,\n",
       "       44.7822876 ])"
      ]
     },
     "execution_count": 66,
     "metadata": {},
     "output_type": "execute_result"
    },
    {
     "data": {
      "image/png": "[encoded data removed]",
      "text/plain": [
       "<Figure size 500x400 with 1 Axes>"
      ]
     },
     "metadata": {
      "needs_background": "light"
     },
     "output_type": "display_data"
    }
   ],
   "source": [
    "data = np.loadtxt(\"fake_binned_JLA2TEST3new.dat\")\n",
    "ranz = data[:,0]\n",
    "dlfake = data[:,1]\n",
    "plt.figure(figsize=(5,4), dpi=100)\n",
    "# plt.errorbar(ranz, pred_random, yerr=0, fmt='r.', markersize=10.)\n",
    "# plt.scatter(z, dl)\n",
    "plt.scatter(z_redshift, dist,c='g', label='Observations')\n",
    "plt.scatter(ranz, dlfake, c='r', label='Synthetic data', marker='*')\n",
    "\n",
    "\n",
    "# plt.plot(z, Hlcdm(z), label='$\\Lambda CDM$ $H_0 = 73.24$', c='k')\n",
    "# plt.plot(z, Hlcdm(z, H0=67.4), label='$\\Lambda CDM$ $H_0 = 67.4$', c='b')\n",
    "plt.xlabel(\"Redshift z\", fontsize=15)\n",
    "plt.ylabel(\"$\\mu(z)$\", fontsize=15)\n",
    "plt.xticks(fontsize=15)\n",
    "plt.yticks(fontsize=15)\n",
    "plt.tight_layout()\n",
    "dlfake"
   ]
  },
  {
   "cell_type": "code",
   "execution_count": 67,
   "metadata": {},
   "outputs": [
    {
     "data": {
      "text/plain": [
       "(38.762822546580644,\n",
       " array([[-38.68646]], dtype=float32),\n",
       " array([[0.07636327]], dtype=float32))"
      ]
     },
     "execution_count": 67,
     "metadata": {},
     "output_type": "execute_result"
    }
   ],
   "source": [
    "# pred_dl\n",
    "mean_ref = np.mean(dist)\n",
    "std_ref = np.std(dist)\n",
    "mean_pred = np.mean(dlfake)\n",
    "std_pred = np.std(dlfake)\n",
    "delta_mean = z_mean_syscov - mean_ref\n",
    "\n",
    "\n",
    "mean_ref, delta_mean, z_mean_syscov"
   ]
  },
  {
   "cell_type": "markdown",
   "metadata": {},
   "source": [
    "# Mapping in the gaussian of the latent space"
   ]
  },
  {
   "cell_type": "code",
   "execution_count": 68,
   "metadata": {},
   "outputs": [
    {
     "data": {
      "text/plain": [
       "<matplotlib.legend.Legend at 0x7f7dcc033eb0>"
      ]
     },
     "execution_count": 68,
     "metadata": {},
     "output_type": "execute_result"
    },
    {
     "data": {
      "image/png": "[encoded data removed]",
      "text/plain": [
       "<Figure size 432x288 with 1 Axes>"
      ]
     },
     "metadata": {
      "needs_background": "light"
     },
     "output_type": "display_data"
    }
   ],
   "source": [
    "# plt.hist(pred_dl_sc, label='predictions') \n",
    "# plt.hist(dist_sc)#, normed=True)\n",
    "# xmin, xmax = plt.xlim()\n",
    "xmin = np.min(dist)\n",
    "xmax= np.max(dist)\n",
    "x = np.linspace(xmin, xmax, 100)\n",
    "y1 = sp.stats.norm.pdf(x, mean_ref, std_ref)\n",
    "\n",
    "\n",
    "# x = np.linspace(xmin, xmax, 100)\n",
    "y2 = sp.stats.norm.pdf(x, mean_pred, std_pred)\n",
    "plt.plot(x, y1, label='ref')\n",
    "plt.plot(x, y2, label='pred')\n",
    "\n",
    "# plt.show()\n",
    "# dist_sc\n",
    "plt.legend()"
   ]
  },
  {
   "cell_type": "code",
   "execution_count": 69,
   "metadata": {},
   "outputs": [
    {
     "data": {
      "image/png": "[encoded data removed]",
      "text/plain": [
       "<Figure size 432x288 with 2 Axes>"
      ]
     },
     "metadata": {
      "needs_background": "light"
     },
     "output_type": "display_data"
    }
   ],
   "source": [
    "z_sample = np.array([mean_pred+delta_mean])\n",
    "\n",
    "newmatrix = decoder.predict(z_sample)\n",
    "# newmatrixr = scalercov.inverse_transform(newmatrix.reshape(31,31))\n",
    "newmatrixr = newmatrix.reshape(31,31)\n",
    "# newmatrixr = newmatrixr@D@newmatrixr.T\n",
    "# # clean_imgr = clean_img[0,:,:,0].reshape(31,31)\n",
    "\n",
    "sns.heatmap(pd.DataFrame(newmatrixr), \n",
    "            fmt='g', xticklabels=False, yticklabels=False, \n",
    "            cmap = 'inferno', \n",
    "            robust=False)\n",
    "\n",
    "np.savetxt(\"fake_binned_JLA_COVdecodedTEST3vae.dat\", newmatrixr, delimiter= \" \", header=\"#fake COV\")"
   ]
  },
  {
   "cell_type": "code",
   "execution_count": 70,
   "metadata": {},
   "outputs": [
    {
     "ename": "NameError",
     "evalue": "name 'pred_err' is not defined",
     "output_type": "error",
     "traceback": [
      "\u001b[0;31m---------------------------------------------------------------------------\u001b[0m",
      "\u001b[0;31mNameError\u001b[0m                                 Traceback (most recent call last)",
      "\u001b[0;32m<ipython-input-70-21f31f7c5497>\u001b[0m in \u001b[0;36m<module>\u001b[0;34m\u001b[0m\n\u001b[1;32m      3\u001b[0m     \u001b[0;32mfor\u001b[0m \u001b[0mcol\u001b[0m \u001b[0;32min\u001b[0m \u001b[0mrange\u001b[0m\u001b[0;34m(\u001b[0m\u001b[0mnsize\u001b[0m\u001b[0;34m)\u001b[0m\u001b[0;34m:\u001b[0m\u001b[0;34m\u001b[0m\u001b[0;34m\u001b[0m\u001b[0m\n\u001b[1;32m      4\u001b[0m         \u001b[0;32mif\u001b[0m \u001b[0mrow\u001b[0m \u001b[0;34m==\u001b[0m \u001b[0mcol\u001b[0m\u001b[0;34m:\u001b[0m\u001b[0;34m\u001b[0m\u001b[0;34m\u001b[0m\u001b[0m\n\u001b[0;32m----> 5\u001b[0;31m             \u001b[0mdiagerr\u001b[0m\u001b[0;34m[\u001b[0m\u001b[0mrow\u001b[0m\u001b[0;34m,\u001b[0m \u001b[0mcol\u001b[0m\u001b[0;34m]\u001b[0m \u001b[0;34m=\u001b[0m \u001b[0mpred_err\u001b[0m\u001b[0;34m[\u001b[0m\u001b[0mrow\u001b[0m\u001b[0;34m]\u001b[0m\u001b[0;34m\u001b[0m\u001b[0;34m\u001b[0m\u001b[0m\n\u001b[0m\u001b[1;32m      6\u001b[0m         \u001b[0;32melse\u001b[0m\u001b[0;34m:\u001b[0m\u001b[0;34m\u001b[0m\u001b[0;34m\u001b[0m\u001b[0m\n\u001b[1;32m      7\u001b[0m             \u001b[0mdiagerr\u001b[0m\u001b[0;34m[\u001b[0m\u001b[0mrow\u001b[0m\u001b[0;34m,\u001b[0m \u001b[0mcol\u001b[0m\u001b[0;34m]\u001b[0m \u001b[0;34m=\u001b[0m \u001b[0mnp\u001b[0m\u001b[0;34m.\u001b[0m\u001b[0mrandom\u001b[0m\u001b[0;34m.\u001b[0m\u001b[0mrand\u001b[0m\u001b[0;34m(\u001b[0m\u001b[0;34m)\u001b[0m\u001b[0;34m*\u001b[0m\u001b[0;36m10\u001b[0m\u001b[0;34m**\u001b[0m\u001b[0morderMag\u001b[0m\u001b[0;34m(\u001b[0m\u001b[0msyscov\u001b[0m\u001b[0;34m[\u001b[0m\u001b[0mrow\u001b[0m\u001b[0;34m,\u001b[0m \u001b[0mcol\u001b[0m\u001b[0;34m]\u001b[0m\u001b[0;34m)\u001b[0m\u001b[0;34m\u001b[0m\u001b[0;34m\u001b[0m\u001b[0m\n",
      "\u001b[0;31mNameError\u001b[0m: name 'pred_err' is not defined"
     ]
    }
   ],
   "source": [
    "diagerr = np.zeros((31,31))\n",
    "for row in range(nsize):\n",
    "    for col in range(nsize):\n",
    "        if row == col:\n",
    "            diagerr[row, col] = pred_err[row]\n",
    "        else:\n",
    "            diagerr[row, col] = np.random.rand()*10**orderMag(syscov[row, col])\n",
    "\n",
    "diagerr = scalercov.transform(diagerr)            \n",
    "ztest4 = encoder.predict(diagerr.reshape((1,31,31)))\n",
    "ztest4"
   ]
  },
  {
   "cell_type": "code",
   "execution_count": null,
   "metadata": {},
   "outputs": [],
   "source": [
    "# z_sample = np.array([[0.0, 0.004]])\n",
    "newmatrix = decoder.predict(ztest4[2])"
   ]
  },
  {
   "cell_type": "code",
   "execution_count": null,
   "metadata": {},
   "outputs": [],
   "source": [
    "# newmatrixr = scalercov.inverse_transform(newmatrix.reshape(31,31)@D@newmatrix.reshape(31,31).T)\n",
    "newmatrixr = newmatrix.reshape(31,31)\n",
    "\n",
    "sns.heatmap(pd.DataFrame(newmatrixr), \n",
    "            fmt='g', xticklabels=False, yticklabels=False, \n",
    "            cmap = 'inferno', \n",
    "            robust=False)"
   ]
  },
  {
   "cell_type": "code",
   "execution_count": null,
   "metadata": {},
   "outputs": [],
   "source": [
    "# np.savetxt(\"fake_binned_JLA_COVdecodedTEST3vae.dat\", newmatrixr, delimiter= \" \", header=\"#fake COV\")"
   ]
  },
  {
   "cell_type": "code",
   "execution_count": null,
   "metadata": {},
   "outputs": [],
   "source": [
    "# tf.keras.models.save_model(vae, '../models/convae.h5')\n",
    "# tf.keras.models.save_model(encoder, '../models/convae_enc.h5')\n",
    "# tf.keras.models.save_model(decoder, '../models/convae_dec.h5')"
   ]
  },
  {
   "cell_type": "code",
   "execution_count": null,
   "metadata": {},
   "outputs": [],
   "source": [
    "vae.save_weights('vae_weights', save_format='tf')\n",
    "\n",
    "# loaded_model = ClassifierModel(parameter)\n",
    "# loaded_model.compile(parameters)\n",
    "# loaded_model.train_on_batch(x_train[:1], y_train[:1])\n",
    "# loaded_model.load_weights('model_weights')"
   ]
  },
  {
   "cell_type": "markdown",
   "metadata": {},
   "source": [
    "# Nearest matrix"
   ]
  },
  {
   "cell_type": "code",
   "execution_count": null,
   "metadata": {},
   "outputs": [],
   "source": [
    "from scipy import spatial"
   ]
  },
  {
   "cell_type": "code",
   "execution_count": null,
   "metadata": {},
   "outputs": [],
   "source": [
    "diagmat_err = np.zeros((31,31))\n",
    "for row in range(nsize):\n",
    "    for col in range(nsize):\n",
    "        if row == col:\n",
    "            diagmat_err[row, col] = pred_err[row]\n",
    "\n",
    "diagmat_err = scalercov.transform(diagmat_err)\n",
    "diagmat_err = np.diag(diagmat_err)\n",
    "diagmat_err"
   ]
  },
  {
   "cell_type": "code",
   "execution_count": null,
   "metadata": {},
   "outputs": [],
   "source": [
    "diags = [np.diag(matrix) for matrix in covset]\n",
    "tree = spatial.KDTree(diags)\n",
    "distance, index = tree.query(diagmat_err)\n",
    "distance, index "
   ]
  },
  {
   "cell_type": "code",
   "execution_count": null,
   "metadata": {},
   "outputs": [],
   "source": [
    "diagmat_err = np.zeros((31,31))\n",
    "for row in range(nsize):\n",
    "    for col in range(nsize):\n",
    "        if row == col:\n",
    "            diagmat_err[row, col] = pred_err[row]\n",
    "#             diagmat_err[row, col] = syscov[row, col]\n",
    "        else:\n",
    "            diagmat_err[row, col] = covset[index, row, col]"
   ]
  },
  {
   "cell_type": "code",
   "execution_count": null,
   "metadata": {},
   "outputs": [],
   "source": [
    "ztest = encoder.predict(covset[index].reshape((1,31,31)))\n",
    "\n",
    "pred_matrixd = decoder.predict(ztest[2])\n",
    "# pred_cov = pred_matrix[0, :, :nsize, 0]\n",
    "pred_cov_sc = pred_matrixd[0, :, :nsize, 0]\n",
    "\n",
    "pred_cov = pred_cov_sc.reshape(nsize, nsize)\n",
    "# pred_cov = scalercov.inverse_transform(pred_cov_sc)\n",
    "# pred_cov = pred_cov_sc@D@pred_cov_sc.T\n",
    "\n",
    "sns.heatmap(pd.DataFrame(pred_cov), \n",
    "            fmt='g', xticklabels=False, yticklabels=False, \n",
    "            cmap = 'inferno', \n",
    "            robust=False)\n",
    "plt.title('nearest covset_test matrix DECODED')"
   ]
  },
  {
   "cell_type": "code",
   "execution_count": null,
   "metadata": {},
   "outputs": [],
   "source": [
    "np.savetxt(\"fake_binned_JLA_COVdecodedTEST3vae.dat\", pred_cov, delimiter= \" \", header=\"#fake COV\")"
   ]
  },
  {
   "cell_type": "code",
   "execution_count": null,
   "metadata": {},
   "outputs": [],
   "source": []
  }
 ],
 "metadata": {
  "kernelspec": {
   "display_name": "Python 3",
   "language": "python",
   "name": "python3"
  },
  "language_info": {
   "codemirror_mode": {
    "name": "ipython",
    "version": 3
   },
   "file_extension": ".py",
   "mimetype": "text/x-python",
   "name": "python",
   "nbconvert_exporter": "python",
   "pygments_lexer": "ipython3",
   "version": "3.8.5"
  }
 },
 "nbformat": 4,
 "nbformat_minor": 2
}
