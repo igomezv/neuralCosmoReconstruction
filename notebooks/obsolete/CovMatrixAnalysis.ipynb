{
 "cells": [
  {
   "cell_type": "code",
   "execution_count": 1,
   "metadata": {},
   "outputs": [],
   "source": [
    "import numpy as np\n",
    "import tensorflow as tf\n",
    "import pandas as pd\n",
    "from sklearn.preprocessing import StandardScaler, MinMaxScaler\n",
    "from matplotlib import pyplot as plt\n",
    "import seaborn as sns\n",
    "import scipy as sp\n",
    "from tensorflow.keras.models import Model\n",
    "from tensorflow.keras.layers import Input,Conv2D,MaxPooling2D,UpSampling2D, Dense\n",
    "from tensorflow.keras.callbacks import TensorBoard\n",
    "from tensorflow.keras import regularizers"
   ]
  },
  {
   "cell_type": "code",
   "execution_count": 6,
   "metadata": {},
   "outputs": [
    {
     "data": {
      "text/plain": [
       "((1048, 2), (1048, 1048), (15, 2), (15, 15))"
      ]
     },
     "execution_count": 6,
     "metadata": {},
     "output_type": "execute_result"
    }
   ],
   "source": [
    "full_pant = np.loadtxt('../data/pantheon.txt',skiprows=1, usecols=[1,4])\n",
    "full_cov = np.loadtxt('../data/pantheon_errors.txt',skiprows=1).reshape((1048,1048))\n",
    "bin_pant = np.loadtxt('../data/binned_pantheon_15.txt',skiprows=2)\n",
    "bin_cov = np.loadtxt('../data/binned_cov_pantheon_15.txt',skiprows=1).reshape((15,15))\n",
    "\n",
    "np.shape(full_pant), np.shape(full_cov), np.shape(bin_pant), np.shape(bin_cov)"
   ]
  },
  {
   "cell_type": "code",
   "execution_count": 177,
   "metadata": {},
   "outputs": [
    {
     "data": {
      "text/html": [
       "<div>\n",
       "<style scoped>\n",
       "    .dataframe tbody tr th:only-of-type {\n",
       "        vertical-align: middle;\n",
       "    }\n",
       "\n",
       "    .dataframe tbody tr th {\n",
       "        vertical-align: top;\n",
       "    }\n",
       "\n",
       "    .dataframe thead th {\n",
       "        text-align: right;\n",
       "    }\n",
       "</style>\n",
       "<table border=\"1\" class=\"dataframe\">\n",
       "  <thead>\n",
       "    <tr style=\"text-align: right;\">\n",
       "      <th></th>\n",
       "      <th>0</th>\n",
       "      <th>1</th>\n",
       "    </tr>\n",
       "  </thead>\n",
       "  <tbody>\n",
       "    <tr>\n",
       "      <th>0</th>\n",
       "      <td>0.01012</td>\n",
       "      <td>13.90745</td>\n",
       "    </tr>\n",
       "    <tr>\n",
       "      <th>1</th>\n",
       "      <td>0.01038</td>\n",
       "      <td>13.92480</td>\n",
       "    </tr>\n",
       "    <tr>\n",
       "      <th>2</th>\n",
       "      <td>0.01043</td>\n",
       "      <td>13.97910</td>\n",
       "    </tr>\n",
       "    <tr>\n",
       "      <th>3</th>\n",
       "      <td>0.01082</td>\n",
       "      <td>14.00860</td>\n",
       "    </tr>\n",
       "    <tr>\n",
       "      <th>4</th>\n",
       "      <td>0.01209</td>\n",
       "      <td>14.04960</td>\n",
       "    </tr>\n",
       "    <tr>\n",
       "      <th>...</th>\n",
       "      <td>...</td>\n",
       "      <td>...</td>\n",
       "    </tr>\n",
       "    <tr>\n",
       "      <th>1039</th>\n",
       "      <td>1.34000</td>\n",
       "      <td>25.54235</td>\n",
       "    </tr>\n",
       "    <tr>\n",
       "      <th>1040</th>\n",
       "      <td>1.37000</td>\n",
       "      <td>25.60340</td>\n",
       "    </tr>\n",
       "    <tr>\n",
       "      <th>1041</th>\n",
       "      <td>1.39000</td>\n",
       "      <td>25.73935</td>\n",
       "    </tr>\n",
       "    <tr>\n",
       "      <th>1042</th>\n",
       "      <td>1.54000</td>\n",
       "      <td>25.90720</td>\n",
       "    </tr>\n",
       "    <tr>\n",
       "      <th>1043</th>\n",
       "      <td>1.55000</td>\n",
       "      <td>26.00705</td>\n",
       "    </tr>\n",
       "  </tbody>\n",
       "</table>\n",
       "<p>1044 rows × 2 columns</p>\n",
       "</div>"
      ],
      "text/plain": [
       "            0         1\n",
       "0     0.01012  13.90745\n",
       "1     0.01038  13.92480\n",
       "2     0.01043  13.97910\n",
       "3     0.01082  14.00860\n",
       "4     0.01209  14.04960\n",
       "...       ...       ...\n",
       "1039  1.34000  25.54235\n",
       "1040  1.37000  25.60340\n",
       "1041  1.39000  25.73935\n",
       "1042  1.54000  25.90720\n",
       "1043  1.55000  26.00705\n",
       "\n",
       "[1044 rows x 2 columns]"
      ]
     },
     "execution_count": 177,
     "metadata": {},
     "output_type": "execute_result"
    }
   ],
   "source": [
    "pd.DataFrame(np.sort(full_pant, axis=0)).head(1044)\n",
    "# np.min(full_pant[:,0])"
   ]
  },
  {
   "cell_type": "code",
   "execution_count": 103,
   "metadata": {},
   "outputs": [
    {
     "data": {
      "text/html": [
       "<div>\n",
       "<style scoped>\n",
       "    .dataframe tbody tr th:only-of-type {\n",
       "        vertical-align: middle;\n",
       "    }\n",
       "\n",
       "    .dataframe tbody tr th {\n",
       "        vertical-align: top;\n",
       "    }\n",
       "\n",
       "    .dataframe thead th {\n",
       "        text-align: right;\n",
       "    }\n",
       "</style>\n",
       "<table border=\"1\" class=\"dataframe\">\n",
       "  <thead>\n",
       "    <tr style=\"text-align: right;\">\n",
       "      <th></th>\n",
       "      <th>0</th>\n",
       "      <th>1</th>\n",
       "    </tr>\n",
       "  </thead>\n",
       "  <tbody>\n",
       "    <tr>\n",
       "      <th>0</th>\n",
       "      <td>0.014353</td>\n",
       "      <td>14.67655</td>\n",
       "    </tr>\n",
       "    <tr>\n",
       "      <th>1</th>\n",
       "      <td>0.020602</td>\n",
       "      <td>15.43421</td>\n",
       "    </tr>\n",
       "    <tr>\n",
       "      <th>2</th>\n",
       "      <td>0.029571</td>\n",
       "      <td>16.30360</td>\n",
       "    </tr>\n",
       "    <tr>\n",
       "      <th>3</th>\n",
       "      <td>0.042444</td>\n",
       "      <td>17.05419</td>\n",
       "    </tr>\n",
       "    <tr>\n",
       "      <th>4</th>\n",
       "      <td>0.060921</td>\n",
       "      <td>17.86946</td>\n",
       "    </tr>\n",
       "    <tr>\n",
       "      <th>5</th>\n",
       "      <td>0.087442</td>\n",
       "      <td>18.80098</td>\n",
       "    </tr>\n",
       "    <tr>\n",
       "      <th>6</th>\n",
       "      <td>0.125509</td>\n",
       "      <td>19.60783</td>\n",
       "    </tr>\n",
       "    <tr>\n",
       "      <th>7</th>\n",
       "      <td>0.180147</td>\n",
       "      <td>20.44856</td>\n",
       "    </tr>\n",
       "    <tr>\n",
       "      <th>8</th>\n",
       "      <td>0.258571</td>\n",
       "      <td>21.31148</td>\n",
       "    </tr>\n",
       "    <tr>\n",
       "      <th>9</th>\n",
       "      <td>0.371137</td>\n",
       "      <td>22.25380</td>\n",
       "    </tr>\n",
       "    <tr>\n",
       "      <th>10</th>\n",
       "      <td>0.532705</td>\n",
       "      <td>23.18078</td>\n",
       "    </tr>\n",
       "    <tr>\n",
       "      <th>11</th>\n",
       "      <td>0.764611</td>\n",
       "      <td>24.13920</td>\n",
       "    </tr>\n",
       "    <tr>\n",
       "      <th>12</th>\n",
       "      <td>1.097473</td>\n",
       "      <td>25.09810</td>\n",
       "    </tr>\n",
       "    <tr>\n",
       "      <th>13</th>\n",
       "      <td>1.575242</td>\n",
       "      <td>26.05260</td>\n",
       "    </tr>\n",
       "    <tr>\n",
       "      <th>14</th>\n",
       "      <td>2.261000</td>\n",
       "      <td>26.85430</td>\n",
       "    </tr>\n",
       "  </tbody>\n",
       "</table>\n",
       "</div>"
      ],
      "text/plain": [
       "           0         1\n",
       "0   0.014353  14.67655\n",
       "1   0.020602  15.43421\n",
       "2   0.029571  16.30360\n",
       "3   0.042444  17.05419\n",
       "4   0.060921  17.86946\n",
       "5   0.087442  18.80098\n",
       "6   0.125509  19.60783\n",
       "7   0.180147  20.44856\n",
       "8   0.258571  21.31148\n",
       "9   0.371137  22.25380\n",
       "10  0.532705  23.18078\n",
       "11  0.764611  24.13920\n",
       "12  1.097473  25.09810\n",
       "13  1.575242  26.05260\n",
       "14  2.261000  26.85430"
      ]
     },
     "execution_count": 103,
     "metadata": {},
     "output_type": "execute_result"
    }
   ],
   "source": [
    "pd.DataFrame(bin_pant)"
   ]
  },
  {
   "cell_type": "code",
   "execution_count": 104,
   "metadata": {},
   "outputs": [
    {
     "data": {
      "text/plain": [
       "<AxesSubplot:>"
      ]
     },
     "execution_count": 104,
     "metadata": {},
     "output_type": "execute_result"
    },
    {
     "data": {
      "image/png": "[encoded data removed]",
      "text/plain": [
       "<Figure size 432x288 with 2 Axes>"
      ]
     },
     "metadata": {
      "needs_background": "light"
     },
     "output_type": "display_data"
    }
   ],
   "source": [
    "sns.heatmap(pd.DataFrame(bin_cov), annot=False, fmt='g', xticklabels=False, yticklabels=False, \n",
    "            cmap = 'inferno')"
   ]
  },
  {
   "cell_type": "code",
   "execution_count": 185,
   "metadata": {},
   "outputs": [
    {
     "name": "stdout",
     "output_type": "stream",
     "text": [
      "[  2 186  43 198]\n",
      "[491 372 535 379 647]\n",
      "[ 915  895  994 1032]\n",
      "[   2    2   43  186  198  372  379  491  535  647  895  915  994 1032\n",
      " 1047]\n"
     ]
    }
   ],
   "source": [
    "choice1 = np.random.randint(0,200,4)\n",
    "print(choice1)\n",
    "choice2 = np.random.randint(201,800,5)\n",
    "print(choice2)\n",
    "choice3 = np.random.randint(801,1046,4)\n",
    "print(choice3)\n",
    "choice = np.sort(np.concatenate([np.array([2]), choice1, choice2, choice3, np.array([1047])]))\n",
    "# choice = np.array([2, 47, 89, 142, 175, 200, 250, 365, 549,745, 855, 955,1030, 1043, 1047])\n",
    "print(choice)"
   ]
  },
  {
   "cell_type": "code",
   "execution_count": 186,
   "metadata": {},
   "outputs": [
    {
     "data": {
      "text/plain": [
       "array([[ 0.6782 , 24.0377 ],\n",
       "       [ 0.6782 , 24.0377 ],\n",
       "       [ 0.8104 , 24.0795 ],\n",
       "       [ 0.73516, 24.02845],\n",
       "       [ 0.71538, 23.84395],\n",
       "       [ 0.19726, 20.4352 ],\n",
       "       [ 0.20453, 20.66435],\n",
       "       [ 0.2607 , 21.31275],\n",
       "       [ 0.13639, 19.58645],\n",
       "       [ 0.03408, 16.39975],\n",
       "       [ 0.2196 , 20.83145],\n",
       "       [ 0.3666 , 21.88675],\n",
       "       [ 0.3254 , 21.91925],\n",
       "       [ 1.02   , 24.88235],\n",
       "       [ 1.092  , 24.63835]])"
      ]
     },
     "execution_count": 186,
     "metadata": {},
     "output_type": "execute_result"
    }
   ],
   "source": [
    "full_pant[choice]"
   ]
  },
  {
   "cell_type": "code",
   "execution_count": null,
   "metadata": {},
   "outputs": [],
   "source": []
  },
  {
   "cell_type": "code",
   "execution_count": 187,
   "metadata": {},
   "outputs": [
    {
     "data": {
      "text/plain": [
       "(15, 15)"
      ]
     },
     "execution_count": 187,
     "metadata": {},
     "output_type": "execute_result"
    }
   ],
   "source": [
    "cov_mini = np.zeros((15, 15))\n",
    "np.shape(cov_mini)"
   ]
  },
  {
   "cell_type": "code",
   "execution_count": 188,
   "metadata": {},
   "outputs": [],
   "source": [
    "for i, id1 in enumerate(choice):\n",
    "    for j, id2 in enumerate(choice):\n",
    "        cov_mini[i,j] = full_cov[id1, id2]"
   ]
  },
  {
   "cell_type": "code",
   "execution_count": 189,
   "metadata": {},
   "outputs": [
    {
     "data": {
      "text/plain": [
       "(15, 15)"
      ]
     },
     "execution_count": 189,
     "metadata": {},
     "output_type": "execute_result"
    }
   ],
   "source": [
    "np.shape(cov_mini)"
   ]
  },
  {
   "cell_type": "code",
   "execution_count": 190,
   "metadata": {},
   "outputs": [
    {
     "data": {
      "text/plain": [
       "<AxesSubplot:>"
      ]
     },
     "execution_count": 190,
     "metadata": {},
     "output_type": "execute_result"
    },
    {
     "data": {
      "image/png": "[encoded data removed]",
      "text/plain": [
       "<Figure size 432x288 with 2 Axes>"
      ]
     },
     "metadata": {
      "needs_background": "light"
     },
     "output_type": "display_data"
    }
   ],
   "source": [
    "sns.heatmap(pd.DataFrame(cov_mini), annot=False, fmt='g', xticklabels=False, yticklabels=False, \n",
    "            cmap = 'inferno')"
   ]
  },
  {
   "cell_type": "code",
   "execution_count": null,
   "metadata": {},
   "outputs": [],
   "source": []
  },
  {
   "cell_type": "code",
   "execution_count": null,
   "metadata": {},
   "outputs": [],
   "source": []
  }
 ],
 "metadata": {
  "kernelspec": {
   "display_name": "Python 3",
   "language": "python",
   "name": "python3"
  },
  "language_info": {
   "codemirror_mode": {
    "name": "ipython",
    "version": 3
   },
   "file_extension": ".py",
   "mimetype": "text/x-python",
   "name": "python",
   "nbconvert_exporter": "python",
   "pygments_lexer": "ipython3",
   "version": "3.8.5"
  }
 },
 "nbformat": 4,
 "nbformat_minor": 2
}
