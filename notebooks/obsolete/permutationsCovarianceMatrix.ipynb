{
 "cells": [
  {
   "cell_type": "code",
   "execution_count": 1,
   "metadata": {},
   "outputs": [],
   "source": [
    "import numpy as np"
   ]
  },
  {
   "cell_type": "code",
   "execution_count": 2,
   "metadata": {},
   "outputs": [
    {
     "name": "stdout",
     "output_type": "stream",
     "text": [
      "Original covariance matrix\n",
      "[[0.90893157 0.14449112 0.31942154]\n",
      " [0.14449112 3.49366035 0.0463234 ]\n",
      " [0.31942154 0.0463234  7.67769049]]\n"
     ]
    }
   ],
   "source": [
    "N = 3\n",
    "# t_org = np.arange(N)\n",
    "# pi = np.random.permutation(N)\n",
    "fake_measures = np.array([np.random.randn(100)*k for k in range(1, N+1)])\n",
    "covmatrix = np.cov(fake_measures)\n",
    "print(\"Original covariance matrix\", covmatrix, sep=\"\\n\")\n"
   ]
  },
  {
   "cell_type": "code",
   "execution_count": 4,
   "metadata": {},
   "outputs": [
    {
     "name": "stdout",
     "output_type": "stream",
     "text": [
      "[2 1 0]\n",
      "Permutation matrix\n",
      "[[0. 0. 1.]\n",
      " [0. 1. 0.]\n",
      " [1. 0. 0.]]\n"
     ]
    }
   ],
   "source": [
    "#%% Alternative using Permutation matrix\n",
    "p = np.random.permutation(N)\n",
    "P = np.eye(N)[p]\n",
    "print(p)\n",
    "print(\"Permutation matrix\", P, sep=\"\\n\")"
   ]
  },
  {
   "cell_type": "code",
   "execution_count": 6,
   "metadata": {},
   "outputs": [
    {
     "name": "stdout",
     "output_type": "stream",
     "text": [
      "Reconstruction:\n",
      "[[7.67769049 0.0463234  0.31942154]\n",
      " [0.0463234  3.49366035 0.14449112]\n",
      " [0.31942154 0.14449112 0.90893157]]\n"
     ]
    }
   ],
   "source": [
    "p1 = P@covmatrix@P.T\n",
    "print(\"Reconstruction:\", p1, sep=\"\\n\")"
   ]
  },
  {
   "cell_type": "code",
   "execution_count": 8,
   "metadata": {},
   "outputs": [
    {
     "name": "stdout",
     "output_type": "stream",
     "text": [
      "Reconstruction equals original:\n",
      "[[False False  True]\n",
      " [False  True False]\n",
      " [ True False False]]\n"
     ]
    }
   ],
   "source": [
    "print(\"Reconstruction equals original:\", p1 == covmatrix, sep=\"\\n\")"
   ]
  },
  {
   "cell_type": "code",
   "execution_count": 19,
   "metadata": {},
   "outputs": [
    {
     "data": {
      "text/plain": [
       "930.0"
      ]
     },
     "execution_count": 19,
     "metadata": {},
     "output_type": "execute_result"
    }
   ],
   "source": [
    "import scipy.special as sp\n",
    "# a = [0, 1, 0, 2]\n",
    "# perm = np.arange(31)\n",
    "perms = sp.perm(31, 2)\n",
    "perms"
   ]
  },
  {
   "cell_type": "code",
   "execution_count": null,
   "metadata": {},
   "outputs": [],
   "source": []
  }
 ],
 "metadata": {
  "kernelspec": {
   "display_name": "Python 3",
   "language": "python",
   "name": "python3"
  },
  "language_info": {
   "codemirror_mode": {
    "name": "ipython",
    "version": 3
   },
   "file_extension": ".py",
   "mimetype": "text/x-python",
   "name": "python",
   "nbconvert_exporter": "python",
   "pygments_lexer": "ipython3",
   "version": "3.8.5"
  }
 },
 "nbformat": 4,
 "nbformat_minor": 4
}
