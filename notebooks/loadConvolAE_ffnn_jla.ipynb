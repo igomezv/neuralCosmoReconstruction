{
 "cells": [
  {
   "cell_type": "code",
   "execution_count": 1,
   "metadata": {},
   "outputs": [],
   "source": [
    "import tensorflow as tf\n",
    "from matplotlib import pyplot as plt\n",
    "import numpy as np\n",
    "%matplotlib inline\n",
    "from tensorflow.keras.models import Model\n",
    "import pandas as pd\n",
    "from sklearn.preprocessing import StandardScaler, MinMaxScaler\n",
    "from tensorflow.keras.optimizers import Adam\n",
    "from tensorflow.keras.initializers import Constant, RandomNormal\n",
    "import seaborn as sns\n",
    "import matplotlib.pyplot as plt\n",
    "from astroNN.nn.layers import MCDropout\n",
    "from scipy.misc import derivative\n",
    "import scipy.integrate as intg\n",
    "import scipy as sp\n",
    "import math\n"
   ]
  },
  {
   "cell_type": "code",
   "execution_count": 31,
   "metadata": {},
   "outputs": [],
   "source": [
    "ffnn = tf.keras.models.load_model('../models/FFNN_JLA2.h5') \n",
    "autoencoder = tf.keras.models.load_model('../models/autoencoderCONV_JLA.h5')\n",
    "# ffnn_do = tf.keras.models.load_model('..models/FFNN_JLA_DO.h5') \n",
    "ffnn_do = tf.keras.models.load_model('..models/FFNN_JLA_DO.h5', custom_objects={'MCDropout': MCDropout})\n",
    "# autoencoderCONV_JLA.h5"
   ]
  },
  {
   "cell_type": "code",
   "execution_count": 32,
   "metadata": {},
   "outputs": [
    {
     "name": "stdout",
     "output_type": "stream",
     "text": [
      "Model: \"model\"\n",
      "_________________________________________________________________\n",
      "Layer (type)                 Output Shape              Param #   \n",
      "=================================================================\n",
      "input_1 (InputLayer)         [(None, 1)]               0         \n",
      "_________________________________________________________________\n",
      "dense (Dense)                (None, 200)               400       \n",
      "_________________________________________________________________\n",
      "MCDropout_1 (MCDropout)      (None, 200)               0         \n",
      "_________________________________________________________________\n",
      "dense_1 (Dense)              (None, 50)                10050     \n",
      "_________________________________________________________________\n",
      "MCDropout_2 (MCDropout)      (None, 50)                0         \n",
      "_________________________________________________________________\n",
      "dense_2 (Dense)              (None, 200)               10200     \n",
      "_________________________________________________________________\n",
      "MCDropout_3 (MCDropout)      (None, 200)               0         \n",
      "_________________________________________________________________\n",
      "dense_3 (Dense)              (None, 2)                 402       \n",
      "=================================================================\n",
      "Total params: 21,052\n",
      "Trainable params: 21,052\n",
      "Non-trainable params: 0\n",
      "_________________________________________________________________\n"
     ]
    }
   ],
   "source": [
    "ffnn_do.summary()"
   ]
  },
  {
   "cell_type": "code",
   "execution_count": 3,
   "metadata": {},
   "outputs": [],
   "source": [
    "\n",
    "def orderMag(number):\n",
    "    if number == 0.0:\n",
    "        return 0.0\n",
    "    else:\n",
    "        return math.floor(math.log(np.abs(number), 10))\n",
    "\n",
    "def matrixMag(matrix):\n",
    "    magMatrix = np.zeros((nsize, nsize))\n",
    "    for row in range(nsize):\n",
    "        for col in range(nsize):\n",
    "            magMatrix[row, col] = orderMag(matrix[row, col])\n",
    "    return magMatrix          \n",
    "\n"
   ]
  },
  {
   "cell_type": "code",
   "execution_count": 4,
   "metadata": {},
   "outputs": [],
   "source": [
    "file = '../data/jla_binned_distances_31nodes_v1.txt'\n",
    "syscov = np.loadtxt('../data/cov_jla_binned_distances_31nodes_v1.txt',skiprows=1).reshape((31,31))\n",
    "\n",
    "\n",
    "data = pd.read_csv(file, names=['z', '$D_L$'], sep = \" \", skiprows=3)\n",
    "\n",
    "z = data.values[:,0]\n",
    "dl = data.values[:,1]\n",
    "\n",
    "\n",
    "scalerdl = StandardScaler()\n",
    "scalerdl.fit(dl.reshape(-1, 1))\n",
    "\n",
    "\n",
    "nsize = len(syscov)\n",
    "scaler_sys = StandardScaler()\n",
    "scaler_sys.fit(syscov)\n",
    "syscov = scaler_sys.transform(syscov)\n",
    "\n",
    "magnitudes = matrixMag(syscov)"
   ]
  },
  {
   "cell_type": "code",
   "execution_count": 5,
   "metadata": {},
   "outputs": [],
   "source": [
    "# using original values\n",
    "ranz = z\n",
    "# \n",
    "# ranz = np.linspace(0.1, 1.3, 31)\n",
    "index = np.argsort(ranz)\n",
    "\n",
    "pred_random = ffnn.predict(np.log(ranz))\n",
    "# pred_dl = scalerdl.inverse_transform(pred_random[:,0].reshape(-1,1))\n",
    "pred_dl = pred_random[:,0]\n",
    "pred_err = np.exp(pred_random[:,1][index].reshape(-1,1))\n",
    "# dlfake = scalerdl.inverse_transform(pred_random.reshape(-1,1))"
   ]
  },
  {
   "cell_type": "code",
   "execution_count": 6,
   "metadata": {},
   "outputs": [
    {
     "data": {
      "text/plain": [
       "((31, 2), (31,), (31, 1))"
      ]
     },
     "execution_count": 6,
     "metadata": {},
     "output_type": "execute_result"
    }
   ],
   "source": [
    "np.shape(pred_random), np.shape(pred_dl), np.shape(pred_err)"
   ]
  },
  {
   "cell_type": "code",
   "execution_count": 7,
   "metadata": {},
   "outputs": [],
   "source": [
    "fake_data = np.stack((ranz[index], pred_dl.reshape(31,)[index]), axis=1)\n",
    "\n",
    "np.savetxt(\"fake_binned_JLA2TEST1.dat\",  fake_data, delimiter= \" \", header=\"#fake data\\n# z\\n# mu\", fmt='%1.9f')\n",
    "\n"
   ]
  },
  {
   "cell_type": "code",
   "execution_count": 8,
   "metadata": {},
   "outputs": [],
   "source": [
    "Om = 0.27\n",
    "# variance network\n",
    "w0 = -1\n",
    "\n",
    "# def RHSquared_a_lcdm(a):\n",
    "# #         return Ezlcdm(a)**2\n",
    "#     return Om*(1/a)**3 + 1 - Om\n",
    "\n",
    "def RHSquared_a_owacdm(a, w0, wa):\n",
    "#         return Ezlcdm(a)**2\n",
    "    rhow = a**(-3*(1.0+w0+wa))*np.exp(-3*wa*(1-a))\n",
    "    return (Om/a**3+(1.0-Om)*rhow)\n",
    "\n",
    "def DistIntegrand_a(a, w0, wa):\n",
    "#         if model == 'lcdm':\n",
    "#             return 1./np.sqrt(RHSquared_a_lcdm(a))/a**2\n",
    "#         elif model == 'owacdm':\n",
    "        return 1./np.sqrt(RHSquared_a_owacdm(a, w0, wa))/a**2\n",
    "    \n",
    "def Da_z(z, w0, wa):\n",
    "        # r=intg.quad(self.Hinv_z,0,z)\n",
    "        # this version seems to be faster\n",
    "        r = intg.quad(DistIntegrand_a, 1./(1+z), 1, args=(w0, wa))\n",
    "\n",
    "        r = r[0]\n",
    "      \n",
    "        return r\n",
    "    \n",
    "def distance_modulus(z, w0=-1, wa=0.0):\n",
    "        # I think this should also work with varyPrefactor as long as BAO is there too\n",
    "        # assert(not self.varyPrefactor)\n",
    "\n",
    "        # note that our Da_z is comoving, so we're only\n",
    "        # multilpyting with a single (1+z) factor\n",
    "#         return 5*np.log10(Da_z(z, model, w0, wa)*(1+z)) \n",
    "    return 5*np.log10(Da_z(z, w0, wa)*(1+z))+43"
   ]
  },
  {
   "cell_type": "code",
   "execution_count": 9,
   "metadata": {},
   "outputs": [],
   "source": [
    "zmodel = np.linspace(0.005, 1.4, 100)\n",
    "flcdm = []\n",
    "fowacdm1 = []\n",
    "# fowacdm2 = []\n",
    "# fowacdm3 = []\n",
    "\n",
    "# flcdm = []\n",
    "for zzz in zmodel:\n",
    "    flcdm.append(distance_modulus(zzz, w0=-1, wa=0))\n",
    "#     fowacdm1.append(distance_modulus(zzz, w0=-1.3, wa=1.2))\n",
    "    fowacdm1.append(distance_modulus(zzz, w0=-10, wa=-100))\n",
    "#     fowacdm2.append(distance_modulus(zz, model='owacdm', w0=-1, wa=-0.5))\n",
    "#     fowacdm3.append(distance_modulus(zz, model='owacdm', w0=-1, wa=0.0))\n",
    "    \n",
    "flcdm = np.array(flcdm)\n",
    "fowacdm1 = np.array(fowacdm1)\n",
    "# fowacdm2 = np.array(fowacdm2)\n",
    "# fowacdm3 = np.array(fowacdm3)"
   ]
  },
  {
   "cell_type": "code",
   "execution_count": 34,
   "metadata": {},
   "outputs": [
    {
     "data": {
      "image/png": "[encoded data removed]",
      "text/plain": [
       "<Figure size 1000x700 with 1 Axes>"
      ]
     },
     "metadata": {
      "needs_background": "light"
     },
     "output_type": "display_data"
    }
   ],
   "source": [
    "plt.figure(figsize=(10, 7), dpi=100)\n",
    "# plt.errorbar(ranz, pred_random, yerr=0, fmt='r.', markersize=10.)\n",
    "# plt.scatter(z, dl)\n",
    "plt.scatter(z, dl,c='g', label='Observations')\n",
    "plt.scatter(ranz, pred_dl, c='r', label='Synthetic data', marker='*')\n",
    "# plt.errorbar(z, dl, yerr=0, fmt='g.', markersize=10, label='Observations')\n",
    "# plt.errorbar(ranz, pred_random, \n",
    "#              yerr=0, fmt='r.', markersize=10., label='Synthetic data')\n",
    "plt.plot(zmodel, flcdm, label='$\\Lambda CDM$', c='b')\n",
    "# plt.plot(zmodel, fowacdm1, label='CPL $w_0 = -1.3, w_a=1.2$', c='m')\n",
    "\n",
    "# plt.plot(z, Hlcdm(z), label='$\\Lambda CDM$ $H_0 = 73.24$', c='k')\n",
    "# plt.plot(z, Hlcdm(z, H0=67.4), label='$\\Lambda CDM$ $H_0 = 67.4$', c='b')\n",
    "plt.xlabel(\"Redshift z\", fontsize=15)\n",
    "plt.ylabel(\"$\\mu(z)$\", fontsize=15)\n",
    "plt.xlim(-0.0, np.max(z)+0.1)\n",
    "plt.xticks(fontsize=15)\n",
    "plt.text(0.6, 45, 'FFNN', fontsize=15)\n",
    "plt.yticks(fontsize=15)\n",
    "plt.tight_layout()\n",
    "plt.legend(fontsize=12)\n",
    "plt.savefig('jla3.png')"
   ]
  },
  {
   "cell_type": "code",
   "execution_count": 11,
   "metadata": {},
   "outputs": [
    {
     "data": {
      "text/plain": [
       "(31, 31)"
      ]
     },
     "execution_count": 11,
     "metadata": {},
     "output_type": "execute_result"
    }
   ],
   "source": [
    "pred_err = np.diag(pred_err.reshape(31,))\n",
    "np.shape(pred_err)"
   ]
  },
  {
   "cell_type": "code",
   "execution_count": 12,
   "metadata": {},
   "outputs": [
    {
     "data": {
      "text/plain": [
       "<AxesSubplot:>"
      ]
     },
     "execution_count": 12,
     "metadata": {},
     "output_type": "execute_result"
    },
    {
     "data": {
      "image/png": "[encoded data removed]",
      "text/plain": [
       "<Figure size 432x288 with 2 Axes>"
      ]
     },
     "metadata": {
      "needs_background": "light"
     },
     "output_type": "display_data"
    }
   ],
   "source": [
    "nsize = len(pred_err)\n",
    "filled_matrix = np.zeros((nsize, nsize))\n",
    "pred_err_sc = scaler_sys.transform(pred_err)\n",
    "\n",
    "# err = np.random.randn()\n",
    "for row in range(nsize):\n",
    "    for col in range(nsize):\n",
    "        if row == col:\n",
    "#             err = np.random.randn()\n",
    "#             filled_matrix[row, col] = syscov[row, col] \n",
    "            filled_matrix[row, col] = pred_err_sc[row, col] \n",
    "#             filled_matrix[row, col] = 10\n",
    "#     + 0.1*err*magnitudes[row, col]\n",
    "        else:\n",
    "            filled_matrix[row, col] = 0.1*np.abs(magnitudes[row, col]) # this work with original syscov\n",
    "#             filled_matrix[row, col] = 0.1*np.random.rand()\n",
    "\n",
    "sns.heatmap(pd.DataFrame(scaler_sys.inverse_transform(filled_matrix)),  \n",
    "            xticklabels=False, yticklabels=False, \n",
    "            cmap = 'inferno', \n",
    "            robust=False)\n",
    "\n"
   ]
  },
  {
   "cell_type": "code",
   "execution_count": 13,
   "metadata": {},
   "outputs": [
    {
     "data": {
      "text/plain": [
       "Text(0.5, 1.0, 'Reconstructed matrix with conv-AE')"
      ]
     },
     "execution_count": 13,
     "metadata": {},
     "output_type": "execute_result"
    },
    {
     "data": {
      "image/png": "[encoded data removed]",
      "text/plain": [
       "<Figure size 432x288 with 2 Axes>"
      ]
     },
     "metadata": {
      "needs_background": "light"
     },
     "output_type": "display_data"
    }
   ],
   "source": [
    "clean_img = autoencoder.predict(filled_matrix.reshape(1,31,31,1))\n",
    "\n",
    "clean_imgr = scaler_sys.inverse_transform(clean_img[0,:,:,0])\n",
    "\n",
    "sns.heatmap(pd.DataFrame(clean_imgr), \n",
    "            fmt='g', xticklabels=False, yticklabels=False, \n",
    "            cmap = 'inferno', \n",
    "            robust=False)\n",
    "\n",
    "\n",
    "\n",
    "\n",
    "plt.title('Reconstructed matrix with conv-AE')"
   ]
  },
  {
   "cell_type": "code",
   "execution_count": 14,
   "metadata": {},
   "outputs": [],
   "source": [
    "np.savetxt(\"fake_binned_JLA_COVdecodedTEST1.dat\", clean_imgr.reshape(31,31), delimiter= \" \", header=\"#fake COV\")"
   ]
  },
  {
   "cell_type": "code",
   "execution_count": 15,
   "metadata": {},
   "outputs": [],
   "source": [
    "# count = 0\n",
    "\n",
    "for i in range(len(syscov)):\n",
    "    for j in range(len(syscov)):\n",
    "#         if np.iscomplex(syscov[i,j]):\n",
    "#             print(\"COMPLEX\")\n",
    "        if clean_imgr[i,j] < clean_imgr[j,i]:\n",
    "#             print(i,j)\n",
    "#             print(syscov[i,j], syscov[j,i]) \n",
    "#             count+=1\n",
    "            clean_imgr[j,i] = clean_imgr[i, j]\n",
    "        else:\n",
    "            clean_imgr[i, j] = clean_imgr[j, i]"
   ]
  },
  {
   "cell_type": "code",
   "execution_count": 16,
   "metadata": {},
   "outputs": [],
   "source": [
    "np.savetxt(\"fake_binned_JLA_COVdecodedTEST1.dat\", clean_imgr.reshape(31,31), delimiter= \" \", header=\"#fake COV\")"
   ]
  },
  {
   "cell_type": "code",
   "execution_count": 27,
   "metadata": {},
   "outputs": [
    {
     "data": {
      "text/plain": [
       "array([[ 0.,  0.,  0., -2., -1., -1., -1., -1., -1., -1., -1., -1., -2.,\n",
       "        -2., -1., -3., -1., -2., -2., -2., -1., -1., -1., -1., -1., -1.,\n",
       "        -1., -1., -1., -1., -1.],\n",
       "       [ 0.,  0.,  0.,  0., -1., -2., -2., -1., -2., -1., -1., -2., -2.,\n",
       "        -1., -1., -1., -1., -1., -1., -1., -1., -1., -1., -1., -1., -1.,\n",
       "        -1., -1., -1., -1., -1.],\n",
       "       [-1., -1.,  0.,  0., -1., -1., -1., -1., -1., -2., -1., -3., -1.,\n",
       "        -1., -2., -1., -1., -1., -1., -1., -1., -2., -2., -2., -1., -1.,\n",
       "        -1., -1., -1., -1., -1.],\n",
       "       [-2., -1.,  0.,  0., -1., -1., -1., -1., -1., -2., -1., -2., -1.,\n",
       "        -2., -2., -1., -1., -1., -1., -1., -1., -2., -1., -2., -1., -1.,\n",
       "        -1., -1., -1., -1., -1.],\n",
       "       [-2., -1., -1.,  0.,  0.,  0., -1., -1., -1., -2., -1., -2., -2.,\n",
       "        -3., -2., -2., -1., -2., -1., -2., -4., -2., -1., -1., -1., -1.,\n",
       "        -1., -1., -1., -1., -1.],\n",
       "       [-2., -2., -2., -1., -1.,  0.,  0., -1., -1., -2., -2., -1., -1.,\n",
       "        -1., -1., -1., -1., -1., -1., -1., -1., -1., -1., -1., -1., -1.,\n",
       "        -1., -1., -1., -1., -1.],\n",
       "       [-2., -2., -1., -1., -1.,  0.,  0., -1., -1., -2., -2., -2., -1.,\n",
       "        -3., -2., -2., -1., -1., -1., -2., -1., -1., -1., -1., -1., -1.,\n",
       "        -1., -1., -1., -1., -1.],\n",
       "       [-3., -2., -2., -1., -3., -1., -1.,  0., -1., -1., -2., -2., -2.,\n",
       "        -1., -1., -1., -1., -1., -1., -1., -1., -1., -1., -1., -1., -1.,\n",
       "        -1., -1., -1., -1., -1.],\n",
       "       [-2., -2., -1., -1., -2., -1., -1., -1.,  0., -1., -1., -1., -1.,\n",
       "        -2., -2., -2., -2., -1., -2., -2., -1., -1., -1., -1., -1., -1.,\n",
       "        -1., -1., -1., -1., -1.],\n",
       "       [-1., -2., -3., -2., -1., -2., -1., -1.,  0.,  0.,  0., -1., -1.,\n",
       "        -2., -2., -1., -2., -2., -1., -1., -2., -2., -2., -2., -1., -1.,\n",
       "        -1., -1., -1., -1., -1.],\n",
       "       [-2., -2., -1., -1., -2., -1., -1., -2., -1.,  0.,  0.,  0., -1.,\n",
       "        -1., -1., -1., -1., -1., -1., -1., -1., -1., -1., -1., -1., -1.,\n",
       "        -1., -1., -1., -1., -1.],\n",
       "       [-1., -2., -1., -1., -1., -1., -1., -1., -1., -1.,  0.,  0.,  0.,\n",
       "        -1., -1., -3., -1., -2., -1., -1., -1., -1., -1., -1., -1., -1.,\n",
       "        -1., -1., -1., -1., -1.],\n",
       "       [-2., -2., -2., -1., -2., -1., -1., -1., -1., -2., -1.,  0.,  0.,\n",
       "         0., -1., -1., -1., -1., -2., -2., -1., -1., -1., -1., -1., -1.,\n",
       "        -1., -1., -1., -1., -1.],\n",
       "       [-2., -2., -2., -2., -1., -1., -1., -1., -1., -2., -1., -1.,  0.,\n",
       "         0.,  0., -1., -2., -1., -1., -1., -1., -2., -1., -2., -1., -1.,\n",
       "        -1., -1., -1., -1., -1.],\n",
       "       [-2., -2., -2., -2., -1., -1., -1., -1., -2., -2., -1., -2., -1.,\n",
       "         0.,  0.,  0.,  0., -1., -1., -1., -1., -2., -1., -2., -1., -1.,\n",
       "        -1., -1., -1., -1., -1.],\n",
       "       [-2., -2., -2., -1., -1., -1., -1., -1., -1., -2., -1., -2., -1.,\n",
       "        -1., -1.,  0.,  0., -1., -1., -1., -1., -2., -2., -2., -1., -1.,\n",
       "        -1., -1., -1., -1., -1.],\n",
       "       [-2., -2., -3., -3., -1., -2., -2., -1., -3., -2., -1., -2., -3.,\n",
       "        -2., -1.,  0.,  0., -1.,  0., -1., -1., -1., -1., -2., -1., -1.,\n",
       "        -1., -1., -1., -1., -1.],\n",
       "       [-2., -2., -2., -1., -1., -1., -1., -1., -1., -2., -1., -2., -1.,\n",
       "        -2., -2., -1., -1.,  0., -1., -1., -1., -1., -1., -2., -1., -1.,\n",
       "        -1., -1., -1., -1., -1.],\n",
       "       [-2., -2., -2., -2., -1., -1., -1., -1., -2., -2., -1., -2., -1.,\n",
       "        -1., -2., -1., -1., -1.,  0., -1., -1., -1., -1., -1., -1., -1.,\n",
       "        -1., -1., -1., -1., -1.],\n",
       "       [-2., -2., -2., -2., -1., -1., -1., -1., -1., -2., -1., -2., -1.,\n",
       "        -2., -2., -1., -1., -1., -1.,  0., -1., -1., -1., -1., -1., -1.,\n",
       "        -1., -1., -1., -1., -1.],\n",
       "       [-1., -2., -1., -1., -1., -1., -1., -1., -1., -1., -1., -2., -1.,\n",
       "        -3., -2., -2., -2., -1., -1., -1.,  0., -1., -1., -2., -1., -1.,\n",
       "        -1., -1., -1., -1., -1.],\n",
       "       [-2., -2., -2., -2., -1., -1., -1., -1., -1., -2., -1., -3., -1.,\n",
       "        -2., -2., -1., -1., -1., -1., -1., -1.,  0., -1., -1., -1., -2.,\n",
       "        -1., -1., -2., -1., -1.],\n",
       "       [-1., -2., -1., -1., -1., -1., -1., -1., -1., -1., -1., -1., -1.,\n",
       "        -2., -1., -1., -1., -2., -1., -2., -1., -1.,  0., -1., -2., -1.,\n",
       "        -1., -1., -1., -1., -1.],\n",
       "       [-1., -2., -1., -1., -1., -1., -1., -1., -1., -1., -1., -2., -1.,\n",
       "        -3., -1., -2., -1., -1., -2., -1., -2., -1., -1.,  0.,  0., -1.,\n",
       "        -1., -1., -2., -1., -1.],\n",
       "       [-1., -1., -1., -1., -1., -1., -1., -1., -1., -1., -1., -1., -1.,\n",
       "        -1., -1., -1., -1., -1., -1., -1., -1., -1., -2.,  0.,  0., -1.,\n",
       "        -1., -1., -1., -2., -1.],\n",
       "       [-1., -1., -1., -1., -1., -1., -1., -1., -1., -1., -1., -1., -1.,\n",
       "        -1., -1., -1., -1., -1., -1., -1., -1., -1., -2., -1., -1.,  0.,\n",
       "        -1., -1., -1., -2., -1.],\n",
       "       [-1., -1., -1., -1., -1., -1., -1., -1., -1., -1., -1., -1., -1.,\n",
       "        -1., -1., -1.,  0.,  0.,  0.,  0.,  0., -1., -1.,  0.,  0., -1.,\n",
       "         0., -1.,  0., -2., -1.],\n",
       "       [-1., -1., -1., -1., -1., -1., -1., -1., -1., -1., -1., -1., -1.,\n",
       "        -1., -1., -1.,  0.,  0.,  0.,  0.,  0., -1., -1., -1., -1.,  0.,\n",
       "        -1.,  0., -1., -2., -1.],\n",
       "       [-1., -1., -1., -1., -1., -1., -1., -1., -1., -1., -1., -1., -1.,\n",
       "        -1., -1., -1., -1., -1.,  0.,  0.,  0., -1., -1., -1.,  0., -1.,\n",
       "         0., -1.,  0., -1., -2.],\n",
       "       [-1., -1., -1., -1., -1., -1., -1., -1., -1., -1., -1., -1., -1.,\n",
       "        -1., -1., -1., -1., -1., -1., -1., -1., -1., -1., -1., -1., -1.,\n",
       "        -1.,  0.,  0.,  0., -1.],\n",
       "       [-1., -1., -1., -1., -1., -2., -1., -1., -1., -2., -1., -2., -1.,\n",
       "        -1., -1., -1., -1., -1., -1., -1., -1., -1., -1., -1., -2., -1.,\n",
       "        -2., -2., -1., -1.,  0.]])"
      ]
     },
     "execution_count": 27,
     "metadata": {},
     "output_type": "execute_result"
    }
   ],
   "source": [
    "magnitudes"
   ]
  },
  {
   "cell_type": "code",
   "execution_count": 21,
   "metadata": {
    "scrolled": true
   },
   "outputs": [
    {
     "data": {
      "text/plain": [
       "<AxesSubplot:>"
      ]
     },
     "execution_count": 21,
     "metadata": {},
     "output_type": "execute_result"
    },
    {
     "data": {
      "image/png": "[encoded data removed]",
      "text/plain": [
       "<Figure size 432x288 with 2 Axes>"
      ]
     },
     "metadata": {
      "needs_background": "light"
     },
     "output_type": "display_data"
    }
   ],
   "source": [
    "sns.heatmap(pd.DataFrame(magnitudes), \n",
    "            fmt='g', xticklabels=False, yticklabels=False, \n",
    "            cmap = 'inferno', \n",
    "            robust=False)"
   ]
  },
  {
   "cell_type": "code",
   "execution_count": 18,
   "metadata": {},
   "outputs": [
    {
     "name": "stdout",
     "output_type": "stream",
     "text": [
      "0.5395778306689847\n"
     ]
    },
    {
     "data": {
      "text/plain": [
       "(None, 0.01831563888873418, 6.14421235332821e-06)"
      ]
     },
     "execution_count": 18,
     "metadata": {},
     "output_type": "execute_result"
    },
    {
     "data": {
      "image/png": "[encoded data removed]",
      "text/plain": [
       "<Figure size 432x288 with 2 Axes>"
      ]
     },
     "metadata": {
      "needs_background": "light"
     },
     "output_type": "display_data"
    }
   ],
   "source": [
    "# nsize = len(pred_err)\n",
    "suma = 0\n",
    "percentage_matrix = np.zeros((nsize, nsize))\n",
    "syscov = scaler_sys.inverse_transform(syscov.reshape(31,31))\n",
    "# pred_err_sc = scaler_sys.transform(pred_err)\n",
    "\n",
    "# err = np.random.randn()\n",
    "for row in range(nsize):\n",
    "    for col in range(nsize):\n",
    "        percentage_matrix[row, col] = np.abs(clean_imgr[row, col]-syscov[row, col])\n",
    "        suma += percentage_matrix[row, col]\n",
    "        \n",
    "sns.heatmap(pd.DataFrame(np.log(percentage_matrix)),  \n",
    "            xticklabels=False, yticklabels=False, \n",
    "            cmap = 'inferno', \n",
    "            robust=False)\n",
    "\n",
    "print(suma), np.exp(-4), np.exp(-12)"
   ]
  },
  {
   "cell_type": "code",
   "execution_count": 19,
   "metadata": {},
   "outputs": [
    {
     "data": {
      "text/plain": [
       "(3.907710570179995e-07, 0.009995552197368779)"
      ]
     },
     "execution_count": 19,
     "metadata": {},
     "output_type": "execute_result"
    }
   ],
   "source": [
    "np.min(percentage_matrix), np.max(percentage_matrix)"
   ]
  },
  {
   "cell_type": "code",
   "execution_count": 26,
   "metadata": {},
   "outputs": [
    {
     "data": {
      "text/plain": [
       "<matplotlib.colorbar.Colorbar at 0x7faafff72370>"
      ]
     },
     "execution_count": 26,
     "metadata": {},
     "output_type": "execute_result"
    },
    {
     "data": {
      "image/png": "[encoded data removed]",
      "text/plain": [
       "<Figure size 432x288 with 2 Axes>"
      ]
     },
     "metadata": {
      "needs_background": "light"
     },
     "output_type": "display_data"
    }
   ],
   "source": [
    "plt.imshow(syscov)\n",
    "plt.colorbar()"
   ]
  },
  {
   "cell_type": "code",
   "execution_count": null,
   "metadata": {},
   "outputs": [],
   "source": []
  }
 ],
 "metadata": {
  "kernelspec": {
   "display_name": "Python 3",
   "language": "python",
   "name": "python3"
  },
  "language_info": {
   "codemirror_mode": {
    "name": "ipython",
    "version": 3
   },
   "file_extension": ".py",
   "mimetype": "text/x-python",
   "name": "python",
   "nbconvert_exporter": "python",
   "pygments_lexer": "ipython3",
   "version": "3.8.5"
  }
 },
 "nbformat": 4,
 "nbformat_minor": 2
}
