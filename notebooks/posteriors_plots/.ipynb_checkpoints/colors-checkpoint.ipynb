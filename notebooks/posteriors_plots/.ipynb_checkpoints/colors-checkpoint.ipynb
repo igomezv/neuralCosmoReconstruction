{
 "cells": [
  {
   "cell_type": "code",
   "execution_count": 5,
   "metadata": {},
   "outputs": [],
   "source": [
    "import numpy as np\n",
    "from PIL import Image\n",
    "import os\n"
   ]
  },
  {
   "cell_type": "code",
   "execution_count": 10,
   "metadata": {},
   "outputs": [],
   "source": [
    "def changeColor(image_file):\n",
    "\n",
    "    im = Image.open(image_file)\n",
    "    data = np.array(im)\n",
    "\n",
    "    r1, g1, b1 = 55, 55, 55 # Original value\n",
    "    r2, g2, b2 = 30, 57, 79 # Value that we want to replace it with\n",
    "\n",
    "    red, green, blue = data[:,:,0], data[:,:,1], data[:,:,2]\n",
    "    mask = (red == r1) & (green == g1) & (blue == b1)\n",
    "    data[:,:,:3][mask] = [r2, g2, b2]\n",
    "    \n",
    "    image_file = image_file.replace(\".png\",\"\")\n",
    "    im = Image.fromarray(data)\n",
    "    im.save(f'changed/{image_file}.png')\n",
    "    \n",
    "    return f\"Done {image_file}\""
   ]
  },
  {
   "cell_type": "code",
   "execution_count": 11,
   "metadata": {},
   "outputs": [],
   "source": [
    "list_png = os.listdir()\n",
    "for item in list_png:\n",
    "    if \".png\" in item:\n",
    "        pass\n",
    "    else:\n",
    "        list_png.remove(item)"
   ]
  },
  {
   "cell_type": "code",
   "execution_count": 12,
   "metadata": {},
   "outputs": [
    {
     "data": {
      "text/plain": [
       "['postHDhwo.png',\n",
       " 'postFS8plancks8wa.png',\n",
       " 'postpolycdm1.png',\n",
       " 'postALLplanckwowa.png',\n",
       " 'postALLwowa.png',\n",
       " 'postHDJLAplanckwowa.png',\n",
       " 'postALLplancksigmah.png',\n",
       " 'postALLwoh.png',\n",
       " 'postJLAplanckhwo.png',\n",
       " 'postJLAplanckwowa.png',\n",
       " 'postJLAhwo.png',\n",
       " 'postHDwowa.png',\n",
       " 'postJLAwowa.png',\n",
       " 'postFS8wowa.png',\n",
       " 'postpolycdm2.png',\n",
       " 'postALLplanckwoh.png',\n",
       " 'postpolycdm3.png',\n",
       " 'postHDplanckhwo.png',\n",
       " 'postHDJLAwowa.png',\n",
       " 'postHDplanckwowa.png',\n",
       " 'postFS8planckwowa.png',\n",
       " 'postFS8s8wa.png']"
      ]
     },
     "execution_count": 12,
     "metadata": {},
     "output_type": "execute_result"
    }
   ],
   "source": [
    "list_png"
   ]
  },
  {
   "cell_type": "code",
   "execution_count": 13,
   "metadata": {},
   "outputs": [],
   "source": [
    "for image in list_png:\n",
    "    changeColor(image)"
   ]
  },
  {
   "cell_type": "code",
   "execution_count": null,
   "metadata": {},
   "outputs": [],
   "source": []
  }
 ],
 "metadata": {
  "kernelspec": {
   "display_name": "Python 3",
   "language": "python",
   "name": "python3"
  },
  "language_info": {
   "codemirror_mode": {
    "name": "ipython",
    "version": 3
   },
   "file_extension": ".py",
   "mimetype": "text/x-python",
   "name": "python",
   "nbconvert_exporter": "python",
   "pygments_lexer": "ipython3",
   "version": "3.8.10"
  }
 },
 "nbformat": 4,
 "nbformat_minor": 4
}
