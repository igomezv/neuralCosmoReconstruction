{
 "cells": [
  {
   "cell_type": "code",
   "execution_count": 20,
   "metadata": {},
   "outputs": [],
   "source": [
    "import tensorflow as tf\n",
    "from tensorflow.keras.models import Model\n",
    "from tensorflow.keras import backend as K\n",
    "from tensorflow.keras import layers\n",
    "from tensorflow.keras import backend as keras\n",
    "from tensorflow.keras.callbacks import ModelCheckpoint, EarlyStopping, ReduceLROnPlateau\n",
    "from tensorflow.keras.models import Sequential, save_model, load_model\n",
    "import numpy as np\n",
    "import matplotlib.pyplot as plt\n",
    "import os"
   ]
  },
  {
   "cell_type": "code",
   "execution_count": null,
   "metadata": {},
   "outputs": [],
   "source": []
  },
  {
   "cell_type": "code",
   "execution_count": 13,
   "metadata": {},
   "outputs": [],
   "source": [
    "def create_encoder(latent_dim, input_dim):\n",
    "    encoder_input = layers.Input(shape=(input_dim,), name='encoder_input')\n",
    "    x = encoder_input\n",
    "    x = layers.Dense(256, activation='relu',\n",
    "                     kernel_initializer='random_uniform', name='Dense_1')(x)\n",
    "    x = layers.Dense(256, activation='relu',\n",
    "                     kernel_initializer='random_uniform', name='Dense_2')(x)\n",
    "    z_mean = layers.Dense(latent_dim, name='z_mean')(x)\n",
    "    z_log_variance = layers.Dense(latent_dim, name='z_log_variance')(x)\n",
    "    encoder = Model(inputs=encoder_input, outputs=[z_mean, z_log_variance])\n",
    "    print('Encoder Network')\n",
    "    encoder.summary()\n",
    "    return encoder\n",
    "\n"
   ]
  },
  {
   "cell_type": "code",
   "execution_count": 14,
   "metadata": {},
   "outputs": [],
   "source": [
    "\n",
    "def create_decoder(latent_dim, input_dim):\n",
    "    decoder_input = layers.Input(latent_dim, name='decoder_input')\n",
    "    x = decoder_input\n",
    "    x = layers.Dense(256, activation='relu',\n",
    "                     kernel_initializer='random_uniform', name='Dense_1')(x)\n",
    "    z_mean_r = layers.Dense(latent_dim, name='z_mean_r')(x)\n",
    "    z_log_variance_r = layers.Dense(latent_dim, name='z_log_variance_r')(x)\n",
    "    decoder = Model(decoder_input, [z_mean_r, z_log_variance_r])\n",
    "    print('Decoder Network')\n",
    "    decoder.summary()\n",
    "    return decoder"
   ]
  },
  {
   "cell_type": "code",
   "execution_count": 15,
   "metadata": {},
   "outputs": [],
   "source": [
    "def calc_VAE_loss(x, z_mean, z_log_var, latent_dim, z_mu_r, z_log_var_r):\n",
    "    lmbd = 0.5\n",
    "    reconstuction_loss = K.mean(\n",
    "        0.5 * z_log_var_r + (K.square(x-z_mu_r)/(2.0 * K.exp(z_log_var_r))), axis=-1)\n",
    "    kl_loss = - lmbd * K.mean(1 + z_log_var -\n",
    "                              K.square(z_mean) - K.exp(z_log_var), axis=-1)\n",
    "    return K.mean(reconstuction_loss + kl_loss)"
   ]
  },
  {
   "cell_type": "code",
   "execution_count": 16,
   "metadata": {},
   "outputs": [],
   "source": [
    "def plot_loss(history, plot_path):\n",
    "    plt.figure(figsize=default_fig_size)\n",
    "    plt.plot(history.history['loss'], label='Train Loss')\n",
    "    plt.plot(history.history['val_loss'], label='Validation Loss')\n",
    "    plt.xlabel('Epochs')\n",
    "    plt.ylabel('Loss')\n",
    "    plt.legend()\n",
    "    plt.savefig(plot_path)"
   ]
  },
  {
   "cell_type": "code",
   "execution_count": null,
   "metadata": {},
   "outputs": [],
   "source": [
    "def create_VAE(latent_dim, input_dim):\n",
    "    input_x = layers.Input(shape=input_dim, name='vae_input')\n",
    "    encoder = create_encoder(latent_dim, input_dim)\n",
    "    z_mu, z_log_var = encoder(input_x)\n",
    "    z = layers.Lambda(sampling)([z_mu, z_log_var, latent_dim])\n",
    "\n",
    "    decoder = create_decoder(latent_dim, input_dim)\n",
    "    z_mu_r, z_log_var_r = decoder(z)\n",
    "    vae = Model(input_x, [z_mu_r, z_log_var_r])\n",
    "    loss_vae = calc_VAE_loss(input_x, z_mu, z_log_var,\n",
    "                             latent_dim, z_mu_r, z_log_var_r)\n",
    "    vae.add_loss(loss_vae)\n",
    "    vae.compile(optimizer='adam')\n",
    "    return vae, decoder, encoder"
   ]
  },
  {
   "cell_type": "code",
   "execution_count": null,
   "metadata": {},
   "outputs": [],
   "source": [
    "def sampling(args):\n",
    "    z_mean, z_log_var, latent_dim = args\n",
    "    epsilon = K.random_normal(\n",
    "        shape=(K.shape(z_mean)[0], latent_dim), mean=0., stddev=1.)\n",
    "    return z_mean + K.exp(z_log_var) * epsilon\n"
   ]
  },
  {
   "cell_type": "code",
   "execution_count": null,
   "metadata": {},
   "outputs": [],
   "source": [
    "\n",
    "def fit_model(vae, decoder, encoder, nb_epochs, current_epoch, batch_size, callbacks, version, data, latent_dim):\n",
    "    x_train, x_test = data\n",
    "\n",
    "    history = vae.fit(x_train, epochs=nb_epochs, batch_size=batch_size,\n",
    "                      callbacks=callbacks, verbose=2, validation_data=(x_test, None))\n",
    "\n",
    "    decoder_base_path = f'./{path_name}/{model_name}/decoders/'\n",
    "    encoder_base_path = f'./{path_name}/{model_name}/encoders/'\n",
    "    plot_base_path = f'./{path_name}/{model_name}/plots/'\n",
    "\n",
    "    if not os.path.exists(decoder_base_path):\n",
    "        os.makedirs(decoder_base_path)\n",
    "    if not os.path.exists(encoder_base_path):\n",
    "        os.makedirs(encoder_base_path)\n",
    "    if not os.path.exists(plot_base_path):\n",
    "        os.makedirs(plot_base_path)\n",
    "\n",
    "    decoder_path = decoder_base_path+'decoder_v'+str(version)+'_' + \\\n",
    "        str(current_epoch)+'_epochs.h5'\n",
    "    encoder_path = encoder_base_path+'encoder_v'+str(version)+'_' + \\\n",
    "        str(current_epoch)+'_epochs.h5'\n",
    "    plot_path = plot_base_path+'plot_v'+str(version) + \\\n",
    "        '_'+str(current_epoch)+'_epochs.png'\n",
    "    decoder.save(decoder_path)\n",
    "    encoder.save(encoder_path)\n",
    "    plot_loss(history, plot_path)\n"
   ]
  },
  {
   "cell_type": "code",
   "execution_count": null,
   "metadata": {},
   "outputs": [],
   "source": [
    "def run_gvae(version, epochs, data, latent_dim = 2, batch_size = 128):\n",
    "    vae, decoder, encoder = create_VAE(data[0].shape[1], data[0].shape[1])\n",
    "    callbacks = [\n",
    "                EarlyStopping(\n",
    "                    monitor=\"val_loss\", mode=\"min\", patience=10, verbose=1),\n",
    "              ReduceLROnPlateau(monitor=\"val_loss\", mode=\"min\",\n",
    "                          patience=5, verbose=1)\n",
    "            ]\n",
    "    fit_model(vae, decoder, encoder, epochs, epochs,\n",
    "              batch_size, callbacks, version, data, latent_dim)"
   ]
  },
  {
   "cell_type": "code",
   "execution_count": 8,
   "metadata": {},
   "outputs": [
    {
     "data": {
      "text/plain": [
       "(31, 3)"
      ]
     },
     "execution_count": 8,
     "metadata": {},
     "output_type": "execute_result"
    }
   ],
   "source": [
    "file = 'data/Hz31.txt'\n",
    "data = np.loadtxt(file)\n",
    "input_len = len(data)\n",
    "data.shape"
   ]
  },
  {
   "cell_type": "code",
   "execution_count": 9,
   "metadata": {},
   "outputs": [
    {
     "name": "stdout",
     "output_type": "stream",
     "text": [
      "(31, 2) (31,)\n"
     ]
    }
   ],
   "source": [
    "x = data[:, 0:2]\n",
    "y = data[:, 1]\n",
    "err = data[:, 2]\n",
    "print(x.shape, err.shape)"
   ]
  },
  {
   "cell_type": "code",
   "execution_count": 10,
   "metadata": {},
   "outputs": [],
   "source": [
    "randomize = np.random.permutation(input_len)\n",
    "x = x[randomize]\n",
    "y = y[randomize]\n",
    "err = err[randomize]\n",
    "data = data[randomize]\n",
    "\n",
    "# maxX = np.max(x)\n",
    "# minX = np.min(x)\n",
    "ntrain = int(0.8 * input_len)\n",
    "indx = [ntrain]\n",
    "x_train, x_test = np.split(x, indx)\n",
    "# data_train, data_test = np.split(data, indx)\n",
    "\n"
   ]
  },
  {
   "cell_type": "code",
   "execution_count": 11,
   "metadata": {},
   "outputs": [
    {
     "name": "stdout",
     "output_type": "stream",
     "text": [
      "Encoder Network\n",
      "Model: \"model_3\"\n",
      "__________________________________________________________________________________________________\n",
      "Layer (type)                    Output Shape         Param #     Connected to                     \n",
      "==================================================================================================\n",
      "encoder_input (InputLayer)      [(None, 2)]          0                                            \n",
      "__________________________________________________________________________________________________\n",
      "Dense_1 (Dense)                 (None, 256)          768         encoder_input[0][0]              \n",
      "__________________________________________________________________________________________________\n",
      "Dense_2 (Dense)                 (None, 256)          65792       Dense_1[0][0]                    \n",
      "__________________________________________________________________________________________________\n",
      "z_mean (Dense)                  (None, 2)            514         Dense_2[0][0]                    \n",
      "__________________________________________________________________________________________________\n",
      "z_log_variance (Dense)          (None, 2)            514         Dense_2[0][0]                    \n",
      "==================================================================================================\n",
      "Total params: 67,588\n",
      "Trainable params: 67,588\n",
      "Non-trainable params: 0\n",
      "__________________________________________________________________________________________________\n",
      "Decoder Network\n",
      "Model: \"model_4\"\n",
      "__________________________________________________________________________________________________\n",
      "Layer (type)                    Output Shape         Param #     Connected to                     \n",
      "==================================================================================================\n",
      "decoder_input (InputLayer)      [(None, 2)]          0                                            \n",
      "__________________________________________________________________________________________________\n",
      "Dense_1 (Dense)                 (None, 256)          768         decoder_input[0][0]              \n",
      "__________________________________________________________________________________________________\n",
      "z_mean_r (Dense)                (None, 2)            514         Dense_1[0][0]                    \n",
      "__________________________________________________________________________________________________\n",
      "z_log_variance_r (Dense)        (None, 2)            514         Dense_1[0][0]                    \n",
      "==================================================================================================\n",
      "Total params: 1,796\n",
      "Trainable params: 1,796\n",
      "Non-trainable params: 0\n",
      "__________________________________________________________________________________________________\n",
      "Epoch 1/500\n",
      "6/6 - 0s - loss: 51195.7539 - val_loss: 1197.9565 - lr: 0.0010\n",
      "Epoch 2/500\n",
      "6/6 - 0s - loss: 163466.4531 - val_loss: 1990.9844 - lr: 0.0010\n",
      "Epoch 3/500\n",
      "6/6 - 0s - loss: 2202.8962 - val_loss: 1636.3502 - lr: 0.0010\n",
      "Epoch 4/500\n",
      "6/6 - 0s - loss: 1683.2900 - val_loss: 1221.6854 - lr: 0.0010\n",
      "Epoch 5/500\n",
      "6/6 - 0s - loss: 1148.6055 - val_loss: 814.7632 - lr: 0.0010\n",
      "Epoch 6/500\n",
      "6/6 - 0s - loss: 730.0998 - val_loss: 487.7777 - lr: 0.0010\n",
      "Epoch 7/500\n",
      "6/6 - 0s - loss: 407.8104 - val_loss: 295.1229 - lr: 0.0010\n",
      "Epoch 8/500\n",
      "6/6 - 0s - loss: 249.8302 - val_loss: 197.5807 - lr: 0.0010\n",
      "Epoch 9/500\n",
      "6/6 - 0s - loss: 180.6537 - val_loss: 152.8250 - lr: 0.0010\n",
      "Epoch 10/500\n",
      "6/6 - 0s - loss: 149.1702 - val_loss: 133.0330 - lr: 0.0010\n",
      "Epoch 11/500\n",
      "6/6 - 0s - loss: 136.8560 - val_loss: 122.8833 - lr: 0.0010\n",
      "Epoch 12/500\n",
      "6/6 - 0s - loss: 130.7553 - val_loss: 116.9078 - lr: 0.0010\n",
      "Epoch 13/500\n",
      "6/6 - 0s - loss: 126.3346 - val_loss: 111.8988 - lr: 0.0010\n",
      "Epoch 14/500\n",
      "6/6 - 0s - loss: 122.3386 - val_loss: 108.1731 - lr: 0.0010\n",
      "Epoch 15/500\n",
      "6/6 - 0s - loss: 118.5235 - val_loss: 104.5607 - lr: 0.0010\n",
      "Epoch 16/500\n",
      "6/6 - 0s - loss: 114.6814 - val_loss: 101.6329 - lr: 0.0010\n",
      "Epoch 17/500\n",
      "6/6 - 0s - loss: 111.4089 - val_loss: 99.7756 - lr: 0.0010\n",
      "Epoch 18/500\n",
      "6/6 - 0s - loss: 108.1674 - val_loss: 96.4858 - lr: 0.0010\n",
      "Epoch 19/500\n",
      "6/6 - 0s - loss: 104.8341 - val_loss: 92.1643 - lr: 0.0010\n",
      "Epoch 20/500\n",
      "6/6 - 0s - loss: 102.9446 - val_loss: 94.6126 - lr: 0.0010\n",
      "Epoch 21/500\n",
      "6/6 - 0s - loss: 99.8682 - val_loss: 90.9228 - lr: 0.0010\n",
      "Epoch 22/500\n",
      "6/6 - 0s - loss: 96.4033 - val_loss: 89.2515 - lr: 0.0010\n",
      "Epoch 23/500\n",
      "6/6 - 0s - loss: 94.5975 - val_loss: 85.3950 - lr: 0.0010\n",
      "Epoch 24/500\n",
      "6/6 - 0s - loss: 92.2367 - val_loss: 81.5894 - lr: 0.0010\n",
      "Epoch 25/500\n",
      "6/6 - 0s - loss: 90.9812 - val_loss: 78.7081 - lr: 0.0010\n",
      "Epoch 26/500\n",
      "6/6 - 0s - loss: 89.7211 - val_loss: 83.3833 - lr: 0.0010\n",
      "Epoch 27/500\n",
      "6/6 - 0s - loss: 86.6173 - val_loss: 77.9416 - lr: 0.0010\n",
      "Epoch 28/500\n",
      "6/6 - 0s - loss: 85.7874 - val_loss: 76.6934 - lr: 0.0010\n",
      "Epoch 29/500\n",
      "6/6 - 0s - loss: 82.1900 - val_loss: 72.3019 - lr: 0.0010\n",
      "Epoch 30/500\n",
      "6/6 - 0s - loss: 80.7756 - val_loss: 72.1194 - lr: 0.0010\n",
      "Epoch 31/500\n",
      "6/6 - 0s - loss: 78.8422 - val_loss: 74.0652 - lr: 0.0010\n",
      "Epoch 32/500\n",
      "6/6 - 0s - loss: 77.4195 - val_loss: 68.7191 - lr: 0.0010\n",
      "Epoch 33/500\n",
      "6/6 - 0s - loss: 75.9763 - val_loss: 69.7938 - lr: 0.0010\n",
      "Epoch 34/500\n",
      "6/6 - 0s - loss: 73.6087 - val_loss: 66.2443 - lr: 0.0010\n",
      "Epoch 35/500\n",
      "6/6 - 0s - loss: 73.0345 - val_loss: 66.1826 - lr: 0.0010\n",
      "Epoch 36/500\n",
      "6/6 - 0s - loss: 70.3739 - val_loss: 64.2196 - lr: 0.0010\n",
      "Epoch 37/500\n",
      "6/6 - 0s - loss: 69.8598 - val_loss: 65.3154 - lr: 0.0010\n",
      "Epoch 38/500\n",
      "6/6 - 0s - loss: 68.0726 - val_loss: 62.9895 - lr: 0.0010\n",
      "Epoch 39/500\n",
      "6/6 - 0s - loss: 65.7563 - val_loss: 59.8475 - lr: 0.0010\n",
      "Epoch 40/500\n",
      "6/6 - 0s - loss: 65.9900 - val_loss: 60.0543 - lr: 0.0010\n",
      "Epoch 41/500\n",
      "6/6 - 0s - loss: 64.6053 - val_loss: 58.3064 - lr: 0.0010\n",
      "Epoch 42/500\n",
      "6/6 - 0s - loss: 64.0429 - val_loss: 54.9367 - lr: 0.0010\n",
      "Epoch 43/500\n",
      "6/6 - 0s - loss: 63.5330 - val_loss: 55.0065 - lr: 0.0010\n",
      "Epoch 44/500\n",
      "6/6 - 0s - loss: 61.1807 - val_loss: 55.6304 - lr: 0.0010\n",
      "Epoch 45/500\n",
      "6/6 - 0s - loss: 60.7761 - val_loss: 54.1705 - lr: 0.0010\n",
      "Epoch 46/500\n",
      "6/6 - 0s - loss: 59.9863 - val_loss: 52.6442 - lr: 0.0010\n",
      "Epoch 47/500\n",
      "6/6 - 0s - loss: 58.6799 - val_loss: 53.0870 - lr: 0.0010\n",
      "Epoch 48/500\n",
      "6/6 - 0s - loss: 57.6517 - val_loss: 51.5914 - lr: 0.0010\n",
      "Epoch 49/500\n",
      "6/6 - 0s - loss: 55.9484 - val_loss: 50.7478 - lr: 0.0010\n",
      "Epoch 50/500\n",
      "6/6 - 0s - loss: 56.2166 - val_loss: 51.9216 - lr: 0.0010\n",
      "Epoch 51/500\n",
      "6/6 - 0s - loss: 54.4734 - val_loss: 50.9847 - lr: 0.0010\n",
      "Epoch 52/500\n",
      "6/6 - 0s - loss: 54.1730 - val_loss: 49.9272 - lr: 0.0010\n",
      "Epoch 53/500\n",
      "6/6 - 0s - loss: 53.0465 - val_loss: 47.6211 - lr: 0.0010\n",
      "Epoch 54/500\n",
      "6/6 - 0s - loss: 52.3505 - val_loss: 47.6776 - lr: 0.0010\n",
      "Epoch 55/500\n",
      "6/6 - 0s - loss: 50.9540 - val_loss: 47.5620 - lr: 0.0010\n",
      "Epoch 56/500\n",
      "6/6 - 0s - loss: 50.3959 - val_loss: 46.3056 - lr: 0.0010\n",
      "Epoch 57/500\n",
      "6/6 - 0s - loss: 50.4008 - val_loss: 45.5862 - lr: 0.0010\n",
      "Epoch 58/500\n",
      "6/6 - 0s - loss: 48.6394 - val_loss: 44.1479 - lr: 0.0010\n",
      "Epoch 59/500\n",
      "6/6 - 0s - loss: 48.3708 - val_loss: 46.3003 - lr: 0.0010\n",
      "Epoch 60/500\n",
      "6/6 - 0s - loss: 46.8532 - val_loss: 45.3296 - lr: 0.0010\n",
      "Epoch 61/500\n",
      "6/6 - 0s - loss: 47.5600 - val_loss: 42.1944 - lr: 0.0010\n",
      "Epoch 62/500\n",
      "6/6 - 0s - loss: 45.8178 - val_loss: 43.4911 - lr: 0.0010\n",
      "Epoch 63/500\n",
      "6/6 - 0s - loss: 45.2463 - val_loss: 40.3382 - lr: 0.0010\n",
      "Epoch 64/500\n",
      "6/6 - 0s - loss: 44.9444 - val_loss: 39.9541 - lr: 0.0010\n",
      "Epoch 65/500\n",
      "6/6 - 0s - loss: 43.5470 - val_loss: 41.2332 - lr: 0.0010\n",
      "Epoch 66/500\n",
      "6/6 - 0s - loss: 44.2113 - val_loss: 38.7233 - lr: 0.0010\n",
      "Epoch 67/500\n",
      "6/6 - 0s - loss: 42.7287 - val_loss: 38.2520 - lr: 0.0010\n",
      "Epoch 68/500\n",
      "6/6 - 0s - loss: 43.0235 - val_loss: 39.8913 - lr: 0.0010\n",
      "Epoch 69/500\n",
      "6/6 - 0s - loss: 41.8768 - val_loss: 37.5790 - lr: 0.0010\n",
      "Epoch 70/500\n",
      "6/6 - 0s - loss: 41.2020 - val_loss: 39.4988 - lr: 0.0010\n",
      "Epoch 71/500\n",
      "6/6 - 0s - loss: 41.3766 - val_loss: 36.2371 - lr: 0.0010\n",
      "Epoch 72/500\n",
      "6/6 - 0s - loss: 40.3062 - val_loss: 36.3363 - lr: 0.0010\n",
      "Epoch 73/500\n",
      "6/6 - 0s - loss: 38.8352 - val_loss: 36.0322 - lr: 0.0010\n",
      "Epoch 74/500\n",
      "6/6 - 0s - loss: 39.9271 - val_loss: 35.5041 - lr: 0.0010\n",
      "Epoch 75/500\n",
      "6/6 - 0s - loss: 38.3130 - val_loss: 36.4358 - lr: 0.0010\n",
      "Epoch 76/500\n",
      "6/6 - 0s - loss: 40.3050 - val_loss: 32.4257 - lr: 0.0010\n"
     ]
    },
    {
     "name": "stdout",
     "output_type": "stream",
     "text": [
      "Epoch 77/500\n",
      "6/6 - 0s - loss: 37.8997 - val_loss: 35.0094 - lr: 0.0010\n",
      "Epoch 78/500\n",
      "6/6 - 0s - loss: 37.8960 - val_loss: 35.0802 - lr: 0.0010\n",
      "Epoch 79/500\n",
      "6/6 - 0s - loss: 36.7987 - val_loss: 33.7370 - lr: 0.0010\n",
      "Epoch 80/500\n",
      "6/6 - 0s - loss: 36.9433 - val_loss: 33.2401 - lr: 0.0010\n",
      "Epoch 81/500\n",
      "\n",
      "Epoch 00081: ReduceLROnPlateau reducing learning rate to 0.00010000000474974513.\n",
      "6/6 - 0s - loss: 36.8924 - val_loss: 33.3508 - lr: 0.0010\n",
      "Epoch 82/500\n",
      "6/6 - 0s - loss: 35.5721 - val_loss: 34.0338 - lr: 1.0000e-04\n",
      "Epoch 83/500\n",
      "6/6 - 0s - loss: 35.6318 - val_loss: 32.8833 - lr: 1.0000e-04\n",
      "Epoch 84/500\n",
      "6/6 - 0s - loss: 36.6629 - val_loss: 32.6243 - lr: 1.0000e-04\n",
      "Epoch 85/500\n",
      "6/6 - 0s - loss: 35.6392 - val_loss: 32.9988 - lr: 1.0000e-04\n",
      "Epoch 86/500\n",
      "\n",
      "Epoch 00086: ReduceLROnPlateau reducing learning rate to 1.0000000474974514e-05.\n",
      "6/6 - 0s - loss: 36.0707 - val_loss: 33.6224 - lr: 1.0000e-04\n",
      "Epoch 00086: early stopping\n"
     ]
    },
    {
     "data": {
      "image/png": "[encoded data removed]",
      "text/plain": [
       "<Figure size 1800x675 with 1 Axes>"
      ]
     },
     "metadata": {
      "needs_background": "light"
     },
     "output_type": "display_data"
    }
   ],
   "source": [
    "plt.rc('font', size=14)\n",
    "\n",
    "\n",
    "def to_inch(pix):\n",
    "    dpi = 96\n",
    "    return pix / dpi\n",
    "\n",
    "\n",
    "w = to_inch(2400)\n",
    "h = to_inch(900)\n",
    "default_fig_size = (w, h)\n",
    "\n",
    "path_name = 'models'\n",
    "model_name = 'GVAE'\n",
    "batch_size = 4\n",
    "version = 1\n",
    "epochs = 500\n",
    "latent_dim = x_train.shape[1]\n",
    "# latent_dim = data_train.shape[1]\n",
    "# run_gvae(version, epochs, (data_train, data_test), latent_dim, batch_size)\n",
    "run_gvae(version, epochs, (x_train, x_test), latent_dim, batch_size)"
   ]
  },
  {
   "cell_type": "code",
   "execution_count": 12,
   "metadata": {},
   "outputs": [],
   "source": [
    "decoder_name = f'decoder_V{version}_{epochs}_epochs'\n",
    "predicted_sample = True"
   ]
  },
  {
   "cell_type": "code",
   "execution_count": 24,
   "metadata": {},
   "outputs": [
    {
     "name": "stdout",
     "output_type": "stream",
     "text": [
      "WARNING:tensorflow:No training configuration found in the save file, so the model was *not* compiled. Compile it manually.\n"
     ]
    }
   ],
   "source": [
    "# Load the model\n",
    "decofile = 'models/GVAE/decoders/decoder_v1_500_epochs.h5'\n",
    "model = load_model(decofile, compile = True)"
   ]
  },
  {
   "cell_type": "code",
   "execution_count": 25,
   "metadata": {},
   "outputs": [],
   "source": [
    "model.compile()"
   ]
  },
  {
   "cell_type": "code",
   "execution_count": 26,
   "metadata": {},
   "outputs": [
    {
     "name": "stdout",
     "output_type": "stream",
     "text": [
      "Model: \"model_4\"\n",
      "__________________________________________________________________________________________________\n",
      "Layer (type)                    Output Shape         Param #     Connected to                     \n",
      "==================================================================================================\n",
      "decoder_input (InputLayer)      [(None, 2)]          0                                            \n",
      "__________________________________________________________________________________________________\n",
      "Dense_1 (Dense)                 (None, 256)          768         decoder_input[0][0]              \n",
      "__________________________________________________________________________________________________\n",
      "z_mean_r (Dense)                (None, 2)            514         Dense_1[0][0]                    \n",
      "__________________________________________________________________________________________________\n",
      "z_log_variance_r (Dense)        (None, 2)            514         Dense_1[0][0]                    \n",
      "==================================================================================================\n",
      "Total params: 1,796\n",
      "Trainable params: 1,796\n",
      "Non-trainable params: 0\n",
      "__________________________________________________________________________________________________\n"
     ]
    }
   ],
   "source": [
    "model.summary()"
   ]
  },
  {
   "cell_type": "code",
   "execution_count": 27,
   "metadata": {},
   "outputs": [
    {
     "data": {
      "text/plain": [
       "2"
      ]
     },
     "execution_count": 27,
     "metadata": {},
     "output_type": "execute_result"
    }
   ],
   "source": [
    "latent_dim"
   ]
  },
  {
   "cell_type": "code",
   "execution_count": 29,
   "metadata": {},
   "outputs": [
    {
     "name": "stdout",
     "output_type": "stream",
     "text": [
      "(2,)\n"
     ]
    }
   ],
   "source": [
    "samples_to_predict = np.random.rand(2)\n",
    "print(samples_to_predict.shape)"
   ]
  },
  {
   "cell_type": "code",
   "execution_count": 30,
   "metadata": {},
   "outputs": [
    {
     "data": {
      "text/plain": [
       "array([0.05509432, 0.82742755])"
      ]
     },
     "execution_count": 30,
     "metadata": {},
     "output_type": "execute_result"
    }
   ],
   "source": [
    "np.random.rand(2)"
   ]
  },
  {
   "cell_type": "code",
   "execution_count": 40,
   "metadata": {},
   "outputs": [
    {
     "name": "stdout",
     "output_type": "stream",
     "text": [
      "WARNING:tensorflow:Model was constructed with shape (None, 2) for input Tensor(\"decoder_input_2:0\", shape=(None, 2), dtype=float32), but it was called on an input with incompatible shape (None, 1).\n"
     ]
    },
    {
     "ename": "ValueError",
     "evalue": "in user code:\n\n    /home/isidro/.local/lib/python3.6/site-packages/tensorflow/python/keras/engine/training.py:1147 predict_function  *\n        outputs = self.distribute_strategy.run(\n    /home/isidro/.local/lib/python3.6/site-packages/tensorflow/python/distribute/distribute_lib.py:951 run  **\n        return self._extended.call_for_each_replica(fn, args=args, kwargs=kwargs)\n    /home/isidro/.local/lib/python3.6/site-packages/tensorflow/python/distribute/distribute_lib.py:2290 call_for_each_replica\n        return self._call_for_each_replica(fn, args, kwargs)\n    /home/isidro/.local/lib/python3.6/site-packages/tensorflow/python/distribute/distribute_lib.py:2649 _call_for_each_replica\n        return fn(*args, **kwargs)\n    /home/isidro/.local/lib/python3.6/site-packages/tensorflow/python/keras/engine/training.py:1122 predict_step  **\n        return self(x, training=False)\n    /home/isidro/.local/lib/python3.6/site-packages/tensorflow/python/keras/engine/base_layer.py:927 __call__\n        outputs = call_fn(cast_inputs, *args, **kwargs)\n    /home/isidro/.local/lib/python3.6/site-packages/tensorflow/python/keras/engine/network.py:719 call\n        convert_kwargs_to_constants=base_layer_utils.call_context().saving)\n    /home/isidro/.local/lib/python3.6/site-packages/tensorflow/python/keras/engine/network.py:888 _run_internal_graph\n        output_tensors = layer(computed_tensors, **kwargs)\n    /home/isidro/.local/lib/python3.6/site-packages/tensorflow/python/keras/engine/base_layer.py:886 __call__\n        self.name)\n    /home/isidro/.local/lib/python3.6/site-packages/tensorflow/python/keras/engine/input_spec.py:216 assert_input_compatibility\n        ' but received input with shape ' + str(shape))\n\n    ValueError: Input 0 of layer Dense_1 is incompatible with the layer: expected axis -1 of input shape to have value 2 but received input with shape [None, 1]\n",
     "output_type": "error",
     "traceback": [
      "\u001b[0;31m---------------------------------------------------------------------------\u001b[0m",
      "\u001b[0;31mValueError\u001b[0m                                Traceback (most recent call last)",
      "\u001b[0;32m<ipython-input-40-89e5da374b4c>\u001b[0m in \u001b[0;36m<module>\u001b[0;34m\u001b[0m\n\u001b[1;32m      1\u001b[0m \u001b[0;31m# Generate predictions for samples\u001b[0m\u001b[0;34m\u001b[0m\u001b[0;34m\u001b[0m\u001b[0;34m\u001b[0m\u001b[0m\n\u001b[0;32m----> 2\u001b[0;31m \u001b[0mpredictions\u001b[0m \u001b[0;34m=\u001b[0m \u001b[0mmodel\u001b[0m\u001b[0;34m.\u001b[0m\u001b[0mpredict\u001b[0m\u001b[0;34m(\u001b[0m\u001b[0mnp\u001b[0m\u001b[0;34m.\u001b[0m\u001b[0marray\u001b[0m\u001b[0;34m(\u001b[0m\u001b[0;34m[\u001b[0m\u001b[0;36m0.05\u001b[0m\u001b[0;34m,\u001b[0m \u001b[0;36m0.004\u001b[0m\u001b[0;34m]\u001b[0m\u001b[0;34m)\u001b[0m\u001b[0;34m)\u001b[0m\u001b[0;34m\u001b[0m\u001b[0;34m\u001b[0m\u001b[0m\n\u001b[0m\u001b[1;32m      3\u001b[0m \u001b[0mprint\u001b[0m\u001b[0;34m(\u001b[0m\u001b[0mpredictions\u001b[0m\u001b[0;34m)\u001b[0m\u001b[0;34m\u001b[0m\u001b[0;34m\u001b[0m\u001b[0m\n",
      "\u001b[0;32m~/.local/lib/python3.6/site-packages/tensorflow/python/keras/engine/training.py\u001b[0m in \u001b[0;36m_method_wrapper\u001b[0;34m(self, *args, **kwargs)\u001b[0m\n\u001b[1;32m     86\u001b[0m       raise ValueError('{} is not supported in multi-worker mode.'.format(\n\u001b[1;32m     87\u001b[0m           method.__name__))\n\u001b[0;32m---> 88\u001b[0;31m     \u001b[0;32mreturn\u001b[0m \u001b[0mmethod\u001b[0m\u001b[0;34m(\u001b[0m\u001b[0mself\u001b[0m\u001b[0;34m,\u001b[0m \u001b[0;34m*\u001b[0m\u001b[0margs\u001b[0m\u001b[0;34m,\u001b[0m \u001b[0;34m**\u001b[0m\u001b[0mkwargs\u001b[0m\u001b[0;34m)\u001b[0m\u001b[0;34m\u001b[0m\u001b[0;34m\u001b[0m\u001b[0m\n\u001b[0m\u001b[1;32m     89\u001b[0m \u001b[0;34m\u001b[0m\u001b[0m\n\u001b[1;32m     90\u001b[0m   return tf_decorator.make_decorator(\n",
      "\u001b[0;32m~/.local/lib/python3.6/site-packages/tensorflow/python/keras/engine/training.py\u001b[0m in \u001b[0;36mpredict\u001b[0;34m(self, x, batch_size, verbose, steps, callbacks, max_queue_size, workers, use_multiprocessing)\u001b[0m\n\u001b[1;32m   1266\u001b[0m           \u001b[0;32mfor\u001b[0m \u001b[0mstep\u001b[0m \u001b[0;32min\u001b[0m \u001b[0mdata_handler\u001b[0m\u001b[0;34m.\u001b[0m\u001b[0msteps\u001b[0m\u001b[0;34m(\u001b[0m\u001b[0;34m)\u001b[0m\u001b[0;34m:\u001b[0m\u001b[0;34m\u001b[0m\u001b[0;34m\u001b[0m\u001b[0m\n\u001b[1;32m   1267\u001b[0m             \u001b[0mcallbacks\u001b[0m\u001b[0;34m.\u001b[0m\u001b[0mon_predict_batch_begin\u001b[0m\u001b[0;34m(\u001b[0m\u001b[0mstep\u001b[0m\u001b[0;34m)\u001b[0m\u001b[0;34m\u001b[0m\u001b[0;34m\u001b[0m\u001b[0m\n\u001b[0;32m-> 1268\u001b[0;31m             \u001b[0mtmp_batch_outputs\u001b[0m \u001b[0;34m=\u001b[0m \u001b[0mpredict_function\u001b[0m\u001b[0;34m(\u001b[0m\u001b[0miterator\u001b[0m\u001b[0;34m)\u001b[0m\u001b[0;34m\u001b[0m\u001b[0;34m\u001b[0m\u001b[0m\n\u001b[0m\u001b[1;32m   1269\u001b[0m             \u001b[0;31m# Catch OutOfRangeError for Datasets of unknown size.\u001b[0m\u001b[0;34m\u001b[0m\u001b[0;34m\u001b[0m\u001b[0;34m\u001b[0m\u001b[0m\n\u001b[1;32m   1270\u001b[0m             \u001b[0;31m# This blocks until the batch has finished executing.\u001b[0m\u001b[0;34m\u001b[0m\u001b[0;34m\u001b[0m\u001b[0;34m\u001b[0m\u001b[0m\n",
      "\u001b[0;32m~/.local/lib/python3.6/site-packages/tensorflow/python/eager/def_function.py\u001b[0m in \u001b[0;36m__call__\u001b[0;34m(self, *args, **kwds)\u001b[0m\n\u001b[1;32m    578\u001b[0m         \u001b[0mxla_context\u001b[0m\u001b[0;34m.\u001b[0m\u001b[0mExit\u001b[0m\u001b[0;34m(\u001b[0m\u001b[0;34m)\u001b[0m\u001b[0;34m\u001b[0m\u001b[0;34m\u001b[0m\u001b[0m\n\u001b[1;32m    579\u001b[0m     \u001b[0;32melse\u001b[0m\u001b[0;34m:\u001b[0m\u001b[0;34m\u001b[0m\u001b[0;34m\u001b[0m\u001b[0m\n\u001b[0;32m--> 580\u001b[0;31m       \u001b[0mresult\u001b[0m \u001b[0;34m=\u001b[0m \u001b[0mself\u001b[0m\u001b[0;34m.\u001b[0m\u001b[0m_call\u001b[0m\u001b[0;34m(\u001b[0m\u001b[0;34m*\u001b[0m\u001b[0margs\u001b[0m\u001b[0;34m,\u001b[0m \u001b[0;34m**\u001b[0m\u001b[0mkwds\u001b[0m\u001b[0;34m)\u001b[0m\u001b[0;34m\u001b[0m\u001b[0;34m\u001b[0m\u001b[0m\n\u001b[0m\u001b[1;32m    581\u001b[0m \u001b[0;34m\u001b[0m\u001b[0m\n\u001b[1;32m    582\u001b[0m     \u001b[0;32mif\u001b[0m \u001b[0mtracing_count\u001b[0m \u001b[0;34m==\u001b[0m \u001b[0mself\u001b[0m\u001b[0;34m.\u001b[0m\u001b[0m_get_tracing_count\u001b[0m\u001b[0;34m(\u001b[0m\u001b[0;34m)\u001b[0m\u001b[0;34m:\u001b[0m\u001b[0;34m\u001b[0m\u001b[0;34m\u001b[0m\u001b[0m\n",
      "\u001b[0;32m~/.local/lib/python3.6/site-packages/tensorflow/python/eager/def_function.py\u001b[0m in \u001b[0;36m_call\u001b[0;34m(self, *args, **kwds)\u001b[0m\n\u001b[1;32m    616\u001b[0m       \u001b[0;31m# In this case we have not created variables on the first call. So we can\u001b[0m\u001b[0;34m\u001b[0m\u001b[0;34m\u001b[0m\u001b[0;34m\u001b[0m\u001b[0m\n\u001b[1;32m    617\u001b[0m       \u001b[0;31m# run the first trace but we should fail if variables are created.\u001b[0m\u001b[0;34m\u001b[0m\u001b[0;34m\u001b[0m\u001b[0;34m\u001b[0m\u001b[0m\n\u001b[0;32m--> 618\u001b[0;31m       \u001b[0mresults\u001b[0m \u001b[0;34m=\u001b[0m \u001b[0mself\u001b[0m\u001b[0;34m.\u001b[0m\u001b[0m_stateful_fn\u001b[0m\u001b[0;34m(\u001b[0m\u001b[0;34m*\u001b[0m\u001b[0margs\u001b[0m\u001b[0;34m,\u001b[0m \u001b[0;34m**\u001b[0m\u001b[0mkwds\u001b[0m\u001b[0;34m)\u001b[0m\u001b[0;34m\u001b[0m\u001b[0;34m\u001b[0m\u001b[0m\n\u001b[0m\u001b[1;32m    619\u001b[0m       \u001b[0;32mif\u001b[0m \u001b[0mself\u001b[0m\u001b[0;34m.\u001b[0m\u001b[0m_created_variables\u001b[0m\u001b[0;34m:\u001b[0m\u001b[0;34m\u001b[0m\u001b[0;34m\u001b[0m\u001b[0m\n\u001b[1;32m    620\u001b[0m         raise ValueError(\"Creating variables on a non-first call to a function\"\n",
      "\u001b[0;32m~/.local/lib/python3.6/site-packages/tensorflow/python/eager/function.py\u001b[0m in \u001b[0;36m__call__\u001b[0;34m(self, *args, **kwargs)\u001b[0m\n\u001b[1;32m   2417\u001b[0m     \u001b[0;34m\"\"\"Calls a graph function specialized to the inputs.\"\"\"\u001b[0m\u001b[0;34m\u001b[0m\u001b[0;34m\u001b[0m\u001b[0m\n\u001b[1;32m   2418\u001b[0m     \u001b[0;32mwith\u001b[0m \u001b[0mself\u001b[0m\u001b[0;34m.\u001b[0m\u001b[0m_lock\u001b[0m\u001b[0;34m:\u001b[0m\u001b[0;34m\u001b[0m\u001b[0;34m\u001b[0m\u001b[0m\n\u001b[0;32m-> 2419\u001b[0;31m       \u001b[0mgraph_function\u001b[0m\u001b[0;34m,\u001b[0m \u001b[0margs\u001b[0m\u001b[0;34m,\u001b[0m \u001b[0mkwargs\u001b[0m \u001b[0;34m=\u001b[0m \u001b[0mself\u001b[0m\u001b[0;34m.\u001b[0m\u001b[0m_maybe_define_function\u001b[0m\u001b[0;34m(\u001b[0m\u001b[0margs\u001b[0m\u001b[0;34m,\u001b[0m \u001b[0mkwargs\u001b[0m\u001b[0;34m)\u001b[0m\u001b[0;34m\u001b[0m\u001b[0;34m\u001b[0m\u001b[0m\n\u001b[0m\u001b[1;32m   2420\u001b[0m     \u001b[0;32mreturn\u001b[0m \u001b[0mgraph_function\u001b[0m\u001b[0;34m.\u001b[0m\u001b[0m_filtered_call\u001b[0m\u001b[0;34m(\u001b[0m\u001b[0margs\u001b[0m\u001b[0;34m,\u001b[0m \u001b[0mkwargs\u001b[0m\u001b[0;34m)\u001b[0m  \u001b[0;31m# pylint: disable=protected-access\u001b[0m\u001b[0;34m\u001b[0m\u001b[0;34m\u001b[0m\u001b[0m\n\u001b[1;32m   2421\u001b[0m \u001b[0;34m\u001b[0m\u001b[0m\n",
      "\u001b[0;32m~/.local/lib/python3.6/site-packages/tensorflow/python/eager/function.py\u001b[0m in \u001b[0;36m_maybe_define_function\u001b[0;34m(self, args, kwargs)\u001b[0m\n\u001b[1;32m   2772\u001b[0m           \u001b[0;32mand\u001b[0m \u001b[0mself\u001b[0m\u001b[0;34m.\u001b[0m\u001b[0minput_signature\u001b[0m \u001b[0;32mis\u001b[0m \u001b[0;32mNone\u001b[0m\u001b[0;34m\u001b[0m\u001b[0;34m\u001b[0m\u001b[0m\n\u001b[1;32m   2773\u001b[0m           and call_context_key in self._function_cache.missed):\n\u001b[0;32m-> 2774\u001b[0;31m         \u001b[0;32mreturn\u001b[0m \u001b[0mself\u001b[0m\u001b[0;34m.\u001b[0m\u001b[0m_define_function_with_shape_relaxation\u001b[0m\u001b[0;34m(\u001b[0m\u001b[0margs\u001b[0m\u001b[0;34m,\u001b[0m \u001b[0mkwargs\u001b[0m\u001b[0;34m)\u001b[0m\u001b[0;34m\u001b[0m\u001b[0;34m\u001b[0m\u001b[0m\n\u001b[0m\u001b[1;32m   2775\u001b[0m \u001b[0;34m\u001b[0m\u001b[0m\n\u001b[1;32m   2776\u001b[0m       \u001b[0mself\u001b[0m\u001b[0;34m.\u001b[0m\u001b[0m_function_cache\u001b[0m\u001b[0;34m.\u001b[0m\u001b[0mmissed\u001b[0m\u001b[0;34m.\u001b[0m\u001b[0madd\u001b[0m\u001b[0;34m(\u001b[0m\u001b[0mcall_context_key\u001b[0m\u001b[0;34m)\u001b[0m\u001b[0;34m\u001b[0m\u001b[0;34m\u001b[0m\u001b[0m\n",
      "\u001b[0;32m~/.local/lib/python3.6/site-packages/tensorflow/python/eager/function.py\u001b[0m in \u001b[0;36m_define_function_with_shape_relaxation\u001b[0;34m(self, args, kwargs)\u001b[0m\n\u001b[1;32m   2704\u001b[0m         relaxed_arg_shapes)\n\u001b[1;32m   2705\u001b[0m     graph_function = self._create_graph_function(\n\u001b[0;32m-> 2706\u001b[0;31m         args, kwargs, override_flat_arg_shapes=relaxed_arg_shapes)\n\u001b[0m\u001b[1;32m   2707\u001b[0m     \u001b[0mself\u001b[0m\u001b[0;34m.\u001b[0m\u001b[0m_function_cache\u001b[0m\u001b[0;34m.\u001b[0m\u001b[0marg_relaxed\u001b[0m\u001b[0;34m[\u001b[0m\u001b[0mrank_only_cache_key\u001b[0m\u001b[0;34m]\u001b[0m \u001b[0;34m=\u001b[0m \u001b[0mgraph_function\u001b[0m\u001b[0;34m\u001b[0m\u001b[0;34m\u001b[0m\u001b[0m\n\u001b[1;32m   2708\u001b[0m \u001b[0;34m\u001b[0m\u001b[0m\n",
      "\u001b[0;32m~/.local/lib/python3.6/site-packages/tensorflow/python/eager/function.py\u001b[0m in \u001b[0;36m_create_graph_function\u001b[0;34m(self, args, kwargs, override_flat_arg_shapes)\u001b[0m\n\u001b[1;32m   2665\u001b[0m             \u001b[0marg_names\u001b[0m\u001b[0;34m=\u001b[0m\u001b[0marg_names\u001b[0m\u001b[0;34m,\u001b[0m\u001b[0;34m\u001b[0m\u001b[0;34m\u001b[0m\u001b[0m\n\u001b[1;32m   2666\u001b[0m             \u001b[0moverride_flat_arg_shapes\u001b[0m\u001b[0;34m=\u001b[0m\u001b[0moverride_flat_arg_shapes\u001b[0m\u001b[0;34m,\u001b[0m\u001b[0;34m\u001b[0m\u001b[0;34m\u001b[0m\u001b[0m\n\u001b[0;32m-> 2667\u001b[0;31m             capture_by_value=self._capture_by_value),\n\u001b[0m\u001b[1;32m   2668\u001b[0m         \u001b[0mself\u001b[0m\u001b[0;34m.\u001b[0m\u001b[0m_function_attributes\u001b[0m\u001b[0;34m,\u001b[0m\u001b[0;34m\u001b[0m\u001b[0;34m\u001b[0m\u001b[0m\n\u001b[1;32m   2669\u001b[0m         \u001b[0;31m# Tell the ConcreteFunction to clean up its graph once it goes out of\u001b[0m\u001b[0;34m\u001b[0m\u001b[0;34m\u001b[0m\u001b[0;34m\u001b[0m\u001b[0m\n",
      "\u001b[0;32m~/.local/lib/python3.6/site-packages/tensorflow/python/framework/func_graph.py\u001b[0m in \u001b[0;36mfunc_graph_from_py_func\u001b[0;34m(name, python_func, args, kwargs, signature, func_graph, autograph, autograph_options, add_control_dependencies, arg_names, op_return_value, collections, capture_by_value, override_flat_arg_shapes)\u001b[0m\n\u001b[1;32m    979\u001b[0m         \u001b[0m_\u001b[0m\u001b[0;34m,\u001b[0m \u001b[0moriginal_func\u001b[0m \u001b[0;34m=\u001b[0m \u001b[0mtf_decorator\u001b[0m\u001b[0;34m.\u001b[0m\u001b[0munwrap\u001b[0m\u001b[0;34m(\u001b[0m\u001b[0mpython_func\u001b[0m\u001b[0;34m)\u001b[0m\u001b[0;34m\u001b[0m\u001b[0;34m\u001b[0m\u001b[0m\n\u001b[1;32m    980\u001b[0m \u001b[0;34m\u001b[0m\u001b[0m\n\u001b[0;32m--> 981\u001b[0;31m       \u001b[0mfunc_outputs\u001b[0m \u001b[0;34m=\u001b[0m \u001b[0mpython_func\u001b[0m\u001b[0;34m(\u001b[0m\u001b[0;34m*\u001b[0m\u001b[0mfunc_args\u001b[0m\u001b[0;34m,\u001b[0m \u001b[0;34m**\u001b[0m\u001b[0mfunc_kwargs\u001b[0m\u001b[0;34m)\u001b[0m\u001b[0;34m\u001b[0m\u001b[0;34m\u001b[0m\u001b[0m\n\u001b[0m\u001b[1;32m    982\u001b[0m \u001b[0;34m\u001b[0m\u001b[0m\n\u001b[1;32m    983\u001b[0m       \u001b[0;31m# invariant: `func_outputs` contains only Tensors, CompositeTensors,\u001b[0m\u001b[0;34m\u001b[0m\u001b[0;34m\u001b[0m\u001b[0;34m\u001b[0m\u001b[0m\n",
      "\u001b[0;32m~/.local/lib/python3.6/site-packages/tensorflow/python/eager/def_function.py\u001b[0m in \u001b[0;36mwrapped_fn\u001b[0;34m(*args, **kwds)\u001b[0m\n\u001b[1;32m    439\u001b[0m         \u001b[0;31m# __wrapped__ allows AutoGraph to swap in a converted function. We give\u001b[0m\u001b[0;34m\u001b[0m\u001b[0;34m\u001b[0m\u001b[0;34m\u001b[0m\u001b[0m\n\u001b[1;32m    440\u001b[0m         \u001b[0;31m# the function a weak reference to itself to avoid a reference cycle.\u001b[0m\u001b[0;34m\u001b[0m\u001b[0;34m\u001b[0m\u001b[0;34m\u001b[0m\u001b[0m\n\u001b[0;32m--> 441\u001b[0;31m         \u001b[0;32mreturn\u001b[0m \u001b[0mweak_wrapped_fn\u001b[0m\u001b[0;34m(\u001b[0m\u001b[0;34m)\u001b[0m\u001b[0;34m.\u001b[0m\u001b[0m__wrapped__\u001b[0m\u001b[0;34m(\u001b[0m\u001b[0;34m*\u001b[0m\u001b[0margs\u001b[0m\u001b[0;34m,\u001b[0m \u001b[0;34m**\u001b[0m\u001b[0mkwds\u001b[0m\u001b[0;34m)\u001b[0m\u001b[0;34m\u001b[0m\u001b[0;34m\u001b[0m\u001b[0m\n\u001b[0m\u001b[1;32m    442\u001b[0m     \u001b[0mweak_wrapped_fn\u001b[0m \u001b[0;34m=\u001b[0m \u001b[0mweakref\u001b[0m\u001b[0;34m.\u001b[0m\u001b[0mref\u001b[0m\u001b[0;34m(\u001b[0m\u001b[0mwrapped_fn\u001b[0m\u001b[0;34m)\u001b[0m\u001b[0;34m\u001b[0m\u001b[0;34m\u001b[0m\u001b[0m\n\u001b[1;32m    443\u001b[0m \u001b[0;34m\u001b[0m\u001b[0m\n",
      "\u001b[0;32m~/.local/lib/python3.6/site-packages/tensorflow/python/framework/func_graph.py\u001b[0m in \u001b[0;36mwrapper\u001b[0;34m(*args, **kwargs)\u001b[0m\n\u001b[1;32m    966\u001b[0m           \u001b[0;32mexcept\u001b[0m \u001b[0mException\u001b[0m \u001b[0;32mas\u001b[0m \u001b[0me\u001b[0m\u001b[0;34m:\u001b[0m  \u001b[0;31m# pylint:disable=broad-except\u001b[0m\u001b[0;34m\u001b[0m\u001b[0;34m\u001b[0m\u001b[0m\n\u001b[1;32m    967\u001b[0m             \u001b[0;32mif\u001b[0m \u001b[0mhasattr\u001b[0m\u001b[0;34m(\u001b[0m\u001b[0me\u001b[0m\u001b[0;34m,\u001b[0m \u001b[0;34m\"ag_error_metadata\"\u001b[0m\u001b[0;34m)\u001b[0m\u001b[0;34m:\u001b[0m\u001b[0;34m\u001b[0m\u001b[0;34m\u001b[0m\u001b[0m\n\u001b[0;32m--> 968\u001b[0;31m               \u001b[0;32mraise\u001b[0m \u001b[0me\u001b[0m\u001b[0;34m.\u001b[0m\u001b[0mag_error_metadata\u001b[0m\u001b[0;34m.\u001b[0m\u001b[0mto_exception\u001b[0m\u001b[0;34m(\u001b[0m\u001b[0me\u001b[0m\u001b[0;34m)\u001b[0m\u001b[0;34m\u001b[0m\u001b[0;34m\u001b[0m\u001b[0m\n\u001b[0m\u001b[1;32m    969\u001b[0m             \u001b[0;32melse\u001b[0m\u001b[0;34m:\u001b[0m\u001b[0;34m\u001b[0m\u001b[0;34m\u001b[0m\u001b[0m\n\u001b[1;32m    970\u001b[0m               \u001b[0;32mraise\u001b[0m\u001b[0;34m\u001b[0m\u001b[0;34m\u001b[0m\u001b[0m\n",
      "\u001b[0;31mValueError\u001b[0m: in user code:\n\n    /home/isidro/.local/lib/python3.6/site-packages/tensorflow/python/keras/engine/training.py:1147 predict_function  *\n        outputs = self.distribute_strategy.run(\n    /home/isidro/.local/lib/python3.6/site-packages/tensorflow/python/distribute/distribute_lib.py:951 run  **\n        return self._extended.call_for_each_replica(fn, args=args, kwargs=kwargs)\n    /home/isidro/.local/lib/python3.6/site-packages/tensorflow/python/distribute/distribute_lib.py:2290 call_for_each_replica\n        return self._call_for_each_replica(fn, args, kwargs)\n    /home/isidro/.local/lib/python3.6/site-packages/tensorflow/python/distribute/distribute_lib.py:2649 _call_for_each_replica\n        return fn(*args, **kwargs)\n    /home/isidro/.local/lib/python3.6/site-packages/tensorflow/python/keras/engine/training.py:1122 predict_step  **\n        return self(x, training=False)\n    /home/isidro/.local/lib/python3.6/site-packages/tensorflow/python/keras/engine/base_layer.py:927 __call__\n        outputs = call_fn(cast_inputs, *args, **kwargs)\n    /home/isidro/.local/lib/python3.6/site-packages/tensorflow/python/keras/engine/network.py:719 call\n        convert_kwargs_to_constants=base_layer_utils.call_context().saving)\n    /home/isidro/.local/lib/python3.6/site-packages/tensorflow/python/keras/engine/network.py:888 _run_internal_graph\n        output_tensors = layer(computed_tensors, **kwargs)\n    /home/isidro/.local/lib/python3.6/site-packages/tensorflow/python/keras/engine/base_layer.py:886 __call__\n        self.name)\n    /home/isidro/.local/lib/python3.6/site-packages/tensorflow/python/keras/engine/input_spec.py:216 assert_input_compatibility\n        ' but received input with shape ' + str(shape))\n\n    ValueError: Input 0 of layer Dense_1 is incompatible with the layer: expected axis -1 of input shape to have value 2 but received input with shape [None, 1]\n"
     ]
    }
   ],
   "source": [
    "# Generate predictions for samples\n",
    "predictions = model.predict(np.array([0.05, 0.004]))\n",
    "print(predictions)"
   ]
  },
  {
   "cell_type": "code",
   "execution_count": null,
   "metadata": {},
   "outputs": [],
   "source": []
  }
 ],
 "metadata": {
  "kernelspec": {
   "display_name": "Python 3",
   "language": "python",
   "name": "python3"
  },
  "language_info": {
   "codemirror_mode": {
    "name": "ipython",
    "version": 3
   },
   "file_extension": ".py",
   "mimetype": "text/x-python",
   "name": "python",
   "nbconvert_exporter": "python",
   "pygments_lexer": "ipython3",
   "version": "3.6.9"
  }
 },
 "nbformat": 4,
 "nbformat_minor": 2
}
