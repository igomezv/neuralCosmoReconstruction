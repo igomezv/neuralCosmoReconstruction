{
 "cells": [
  {
   "cell_type": "code",
   "execution_count": 1,
   "metadata": {},
   "outputs": [],
   "source": [
    "import os\n",
    "os.environ[\"CUDA_DEVICE_ORDER\"]=\"PCI_BUS_ID\"\n",
    "os.environ[\"CUDA_VISIBLE_DEVICES\"]=\"1\" #model will be trained on GPU 1"
   ]
  },
  {
   "cell_type": "code",
   "execution_count": 2,
   "metadata": {},
   "outputs": [],
   "source": [
    "import tensorflow.keras\n",
    "import tensorflow as tf\n",
    "from matplotlib import pyplot as plt\n",
    "import numpy as np\n",
    "import gzip\n",
    "%matplotlib inline\n",
    "from tensorflow.keras.layers import Input,Conv2D,MaxPooling2D,UpSampling2D, Dense\n",
    "from tensorflow.keras.models import Model\n",
    "from tensorflow.keras.optimizers import RMSprop\n",
    "import pandas as pd\n",
    "from sklearn.preprocessing import StandardScaler, MinMaxScaler\n",
    "from tensorflow.keras.optimizers import Adam\n",
    "from tensorflow.keras.initializers import Constant, RandomNormal\n",
    "import seaborn as sns"
   ]
  },
  {
   "cell_type": "code",
   "execution_count": 14,
   "metadata": {},
   "outputs": [
    {
     "data": {
      "text/html": [
       "<div>\n",
       "<style scoped>\n",
       "    .dataframe tbody tr th:only-of-type {\n",
       "        vertical-align: middle;\n",
       "    }\n",
       "\n",
       "    .dataframe tbody tr th {\n",
       "        vertical-align: top;\n",
       "    }\n",
       "\n",
       "    .dataframe thead th {\n",
       "        text-align: right;\n",
       "    }\n",
       "</style>\n",
       "<table border=\"1\" class=\"dataframe\">\n",
       "  <thead>\n",
       "    <tr style=\"text-align: right;\">\n",
       "      <th></th>\n",
       "      <th>z</th>\n",
       "      <th>$f\\sigma_8$</th>\n",
       "      <th>err</th>\n",
       "    </tr>\n",
       "  </thead>\n",
       "  <tbody>\n",
       "    <tr>\n",
       "      <th>0</th>\n",
       "      <td>0.020</td>\n",
       "      <td>0.4280</td>\n",
       "      <td>0.0465</td>\n",
       "    </tr>\n",
       "    <tr>\n",
       "      <th>1</th>\n",
       "      <td>0.020</td>\n",
       "      <td>0.3980</td>\n",
       "      <td>0.0650</td>\n",
       "    </tr>\n",
       "    <tr>\n",
       "      <th>2</th>\n",
       "      <td>0.020</td>\n",
       "      <td>0.3140</td>\n",
       "      <td>0.0480</td>\n",
       "    </tr>\n",
       "    <tr>\n",
       "      <th>3</th>\n",
       "      <td>0.100</td>\n",
       "      <td>0.3700</td>\n",
       "      <td>0.1300</td>\n",
       "    </tr>\n",
       "    <tr>\n",
       "      <th>4</th>\n",
       "      <td>0.150</td>\n",
       "      <td>0.4900</td>\n",
       "      <td>0.1450</td>\n",
       "    </tr>\n",
       "    <tr>\n",
       "      <th>5</th>\n",
       "      <td>0.170</td>\n",
       "      <td>0.5100</td>\n",
       "      <td>0.0600</td>\n",
       "    </tr>\n",
       "    <tr>\n",
       "      <th>6</th>\n",
       "      <td>0.180</td>\n",
       "      <td>0.3600</td>\n",
       "      <td>0.0900</td>\n",
       "    </tr>\n",
       "    <tr>\n",
       "      <th>7</th>\n",
       "      <td>0.380</td>\n",
       "      <td>0.4400</td>\n",
       "      <td>0.0600</td>\n",
       "    </tr>\n",
       "    <tr>\n",
       "      <th>8</th>\n",
       "      <td>0.250</td>\n",
       "      <td>0.3512</td>\n",
       "      <td>0.0583</td>\n",
       "    </tr>\n",
       "    <tr>\n",
       "      <th>9</th>\n",
       "      <td>0.370</td>\n",
       "      <td>0.4602</td>\n",
       "      <td>0.0378</td>\n",
       "    </tr>\n",
       "    <tr>\n",
       "      <th>10</th>\n",
       "      <td>0.320</td>\n",
       "      <td>0.3840</td>\n",
       "      <td>0.0950</td>\n",
       "    </tr>\n",
       "    <tr>\n",
       "      <th>11</th>\n",
       "      <td>0.590</td>\n",
       "      <td>0.4880</td>\n",
       "      <td>0.0600</td>\n",
       "    </tr>\n",
       "    <tr>\n",
       "      <th>12</th>\n",
       "      <td>0.440</td>\n",
       "      <td>0.4130</td>\n",
       "      <td>0.0800</td>\n",
       "    </tr>\n",
       "    <tr>\n",
       "      <th>13</th>\n",
       "      <td>0.600</td>\n",
       "      <td>0.3900</td>\n",
       "      <td>0.0630</td>\n",
       "    </tr>\n",
       "    <tr>\n",
       "      <th>14</th>\n",
       "      <td>0.730</td>\n",
       "      <td>0.4370</td>\n",
       "      <td>0.0720</td>\n",
       "    </tr>\n",
       "    <tr>\n",
       "      <th>15</th>\n",
       "      <td>0.600</td>\n",
       "      <td>0.5500</td>\n",
       "      <td>0.1200</td>\n",
       "    </tr>\n",
       "    <tr>\n",
       "      <th>16</th>\n",
       "      <td>0.860</td>\n",
       "      <td>0.4000</td>\n",
       "      <td>0.1100</td>\n",
       "    </tr>\n",
       "    <tr>\n",
       "      <th>17</th>\n",
       "      <td>1.400</td>\n",
       "      <td>0.4820</td>\n",
       "      <td>0.1160</td>\n",
       "    </tr>\n",
       "    <tr>\n",
       "      <th>18</th>\n",
       "      <td>0.978</td>\n",
       "      <td>0.3790</td>\n",
       "      <td>0.1760</td>\n",
       "    </tr>\n",
       "    <tr>\n",
       "      <th>19</th>\n",
       "      <td>1.230</td>\n",
       "      <td>0.3850</td>\n",
       "      <td>0.0990</td>\n",
       "    </tr>\n",
       "    <tr>\n",
       "      <th>20</th>\n",
       "      <td>1.526</td>\n",
       "      <td>0.3420</td>\n",
       "      <td>0.0700</td>\n",
       "    </tr>\n",
       "    <tr>\n",
       "      <th>21</th>\n",
       "      <td>1.944</td>\n",
       "      <td>0.3640</td>\n",
       "      <td>0.1060</td>\n",
       "    </tr>\n",
       "  </tbody>\n",
       "</table>\n",
       "</div>"
      ],
      "text/plain": [
       "        z  $f\\sigma_8$     err\n",
       "0   0.020       0.4280  0.0465\n",
       "1   0.020       0.3980  0.0650\n",
       "2   0.020       0.3140  0.0480\n",
       "3   0.100       0.3700  0.1300\n",
       "4   0.150       0.4900  0.1450\n",
       "5   0.170       0.5100  0.0600\n",
       "6   0.180       0.3600  0.0900\n",
       "7   0.380       0.4400  0.0600\n",
       "8   0.250       0.3512  0.0583\n",
       "9   0.370       0.4602  0.0378\n",
       "10  0.320       0.3840  0.0950\n",
       "11  0.590       0.4880  0.0600\n",
       "12  0.440       0.4130  0.0800\n",
       "13  0.600       0.3900  0.0630\n",
       "14  0.730       0.4370  0.0720\n",
       "15  0.600       0.5500  0.1200\n",
       "16  0.860       0.4000  0.1100\n",
       "17  1.400       0.4820  0.1160\n",
       "18  0.978       0.3790  0.1760\n",
       "19  1.230       0.3850  0.0990\n",
       "20  1.526       0.3420  0.0700\n",
       "21  1.944       0.3640  0.1060"
      ]
     },
     "execution_count": 14,
     "metadata": {},
     "output_type": "execute_result"
    }
   ],
   "source": [
    "file = 'data/fs8Diagram.txt'\n",
    "data = pd.read_csv(file, names=['z', '$f\\sigma_8$', 'err', '$\\Omega_ref$'], sep = \"\\t\", skiprows=3)\n",
    "data = data[['z', '$f\\sigma_8$', 'err']]\n",
    "# data.describe()\n",
    "data"
   ]
  },
  {
   "cell_type": "code",
   "execution_count": 15,
   "metadata": {},
   "outputs": [
    {
     "data": {
      "image/png": "[encoded data removed]",
      "text/plain": [
       "<Figure size 540x540 with 12 Axes>"
      ]
     },
     "metadata": {
      "needs_background": "light"
     },
     "output_type": "display_data"
    }
   ],
   "source": [
    "sns.pairplot(data, diag_kind=\"kde\")\n",
    "plt.savefig(\"Distfs8.png\")"
   ]
  },
  {
   "cell_type": "code",
   "execution_count": 17,
   "metadata": {},
   "outputs": [
    {
     "ename": "AttributeError",
     "evalue": "'numpy.ndarray' object has no attribute 'values'",
     "output_type": "error",
     "traceback": [
      "\u001b[0;31m---------------------------------------------------------------------------\u001b[0m",
      "\u001b[0;31mAttributeError\u001b[0m                            Traceback (most recent call last)",
      "\u001b[0;32m<ipython-input-17-e525788d51e7>\u001b[0m in \u001b[0;36m<module>\u001b[0;34m\u001b[0m\n\u001b[1;32m      1\u001b[0m a = np.array([25,  3,  9,  7, 19,  2, 17, 16,  6, 28, 12, 20, 21, 26, 27, 11,  1,\n\u001b[1;32m      2\u001b[0m        10, 30, 13, 29,  0,  8, 18, 24,  5, 23,  4, 22, 15, 14])\n\u001b[0;32m----> 3\u001b[0;31m \u001b[0mrandomize\u001b[0m \u001b[0;34m=\u001b[0m \u001b[0mnp\u001b[0m\u001b[0;34m.\u001b[0m\u001b[0mrandom\u001b[0m\u001b[0;34m.\u001b[0m\u001b[0mpermutation\u001b[0m\u001b[0;34m(\u001b[0m\u001b[0mlen\u001b[0m\u001b[0;34m(\u001b[0m\u001b[0mdata\u001b[0m\u001b[0;34m.\u001b[0m\u001b[0mvalues\u001b[0m\u001b[0;34m)\u001b[0m\u001b[0;34m)\u001b[0m\u001b[0;34m\u001b[0m\u001b[0;34m\u001b[0m\u001b[0m\n\u001b[0m\u001b[1;32m      4\u001b[0m \u001b[0mdata\u001b[0m \u001b[0;34m=\u001b[0m \u001b[0mdata\u001b[0m\u001b[0;34m.\u001b[0m\u001b[0mvalues\u001b[0m\u001b[0;34m[\u001b[0m\u001b[0mrandomize\u001b[0m\u001b[0;34m]\u001b[0m\u001b[0;34m\u001b[0m\u001b[0;34m\u001b[0m\u001b[0m\n\u001b[1;32m      5\u001b[0m \u001b[0mrandomize\u001b[0m\u001b[0;34m\u001b[0m\u001b[0;34m\u001b[0m\u001b[0m\n",
      "\u001b[0;31mAttributeError\u001b[0m: 'numpy.ndarray' object has no attribute 'values'"
     ]
    }
   ],
   "source": [
    "a = np.array([25,  3,  9,  7, 19,  2, 17, 16,  6, 28, 12, 20, 21, 26, 27, 11,  1,\n",
    "       10, 30, 13, 29,  0,  8, 18, 24,  5, 23,  4, 22, 15, 14])\n",
    "randomize = np.random.permutation(len(data.values))\n",
    "data = data.values[randomize]\n",
    "randomize"
   ]
  },
  {
   "cell_type": "code",
   "execution_count": 18,
   "metadata": {},
   "outputs": [],
   "source": [
    "# def norm(x):\n",
    "#     return (x - train_stats['mean']) / train_stats['std']\n",
    "# normed_train_data = norm(train_dataset)\n",
    "# normed_test_data = norm(test_dataset)\n"
   ]
  },
  {
   "cell_type": "markdown",
   "metadata": {},
   "source": [
    "Read the data for cosmic chronometers"
   ]
  },
  {
   "cell_type": "code",
   "execution_count": 19,
   "metadata": {},
   "outputs": [],
   "source": [
    "\n",
    "# odds = [x for x in range(len(data)) if x%2 ==0]\n",
    "# even = [x for x in range(len(data)) if x%2 ==1]\n",
    "# new_order = np.array(even+odds)\n",
    "# new_order = np.array([x for x in range(len(data)-1, 0, -1)])\n",
    "# data = data.values[new_order]\n",
    "# data = data.values\n"
   ]
  },
  {
   "cell_type": "code",
   "execution_count": 20,
   "metadata": {},
   "outputs": [],
   "source": [
    "z = data[:,0]\n",
    "y = data[:,1:]\n",
    "# print(randomize)"
   ]
  },
  {
   "cell_type": "code",
   "execution_count": 21,
   "metadata": {},
   "outputs": [],
   "source": [
    "scalerz = StandardScaler()\n",
    "# scalerz = MinMaxScaler(feature_range=(-1,1))\n",
    "# fit scaler on data\n",
    "scalerz.fit(z.reshape(-1,1))\n",
    "# apply transform\n",
    "z = scalerz.transform(z.reshape(-1,1))\n",
    "\n",
    "# scalery = MinMaxScaler(feature_range=(0,1))\n",
    "# scalery = StandardScaler()\n",
    "# scalery.fit(y)\n",
    "# y = scalery.transform(y)"
   ]
  },
  {
   "cell_type": "code",
   "execution_count": 22,
   "metadata": {},
   "outputs": [],
   "source": [
    "split = 0.8\n",
    "ntrain = int(split * len(z))\n",
    "indx = [ntrain]\n",
    "z_train, z_test = np.split(z, indx)\n",
    "y_train, y_test = np.split(y, indx)"
   ]
  },
  {
   "cell_type": "code",
   "execution_count": 23,
   "metadata": {},
   "outputs": [],
   "source": [
    "callbacks = [tf.keras.callbacks.EarlyStopping(monitor='val_loss', mode='min',\n",
    "                                   min_delta=0.001,\n",
    "                                   patience=50,\n",
    "                                   restore_best_weights=True)]\n",
    "#                      tf.keras.callbacks.ReduceLROnPlateau(patience=2)]\n",
    "# initializer = Constant(value=0.01)\n",
    "initializer = RandomNormal()\n"
   ]
  },
  {
   "cell_type": "code",
   "execution_count": 24,
   "metadata": {},
   "outputs": [],
   "source": [
    "# def autoencoder(input_z):\n",
    "#     #encoder\n",
    "#     efirst = Dense(100, kernel_initializer=initializer, activation='relu', input_shape=(1,))(input_z)\n",
    "#     ehidden = Dense(50, kernel_initializer=initializer, activation='relu')(efirst)\n",
    "#     elast = Dense(50, kernel_initializer=initializer, activation='relu')(ehidden)\n",
    "#     #coded\n",
    "#     coded = Dense(10, kernel_initializer=initializer, activation='relu')(elast)\n",
    "#     #decoder \n",
    "#     dfirst = Dense(50, kernel_initializer=initializer, activation='relu')(coded)\n",
    "#     dhidden = Dense(50, kernel_initializer=initializer, activation='relu')(dfirst)\n",
    "#     dlast = Dense(100, kernel_initializer=initializer, activation='relu')(dhidden)\n",
    "#     decoded = Dense(2, kernel_initializer=initializer, activation='relu')(dlast)\n",
    "    \n",
    "#     return decoded"
   ]
  },
  {
   "cell_type": "code",
   "execution_count": 25,
   "metadata": {},
   "outputs": [],
   "source": [
    "# def autoencoder(input_z):\n",
    "#     #encoder\n",
    "#     efirst = Dense(100, activation='relu', input_shape=(1,))(input_z)\n",
    "#     ehidden = Dense(50, activation='relu')(efirst)\n",
    "#     elast = Dense(50, activation='relu')(ehidden)\n",
    "#     coded = Dense(10, activation='relu')(elast)\n",
    "#     #decoder \n",
    "#     dfirst = Dense(50, activation='relu')(coded)\n",
    "#     dhidden = Dense(50, activation='relu')(dfirst)\n",
    "#     dlast = Dense(100, activation='relu')(dhidden)\n",
    "#     decoded = Dense(2, activation='relu')(dlast)\n",
    "    \n",
    "#     return decoded"
   ]
  },
  {
   "cell_type": "code",
   "execution_count": 26,
   "metadata": {},
   "outputs": [
    {
     "name": "stdout",
     "output_type": "stream",
     "text": [
      "Model: \"functional_1\"\n",
      "_________________________________________________________________\n",
      "Layer (type)                 Output Shape              Param #   \n",
      "=================================================================\n",
      "input_1 (InputLayer)         [(None, 1)]               0         \n",
      "_________________________________________________________________\n",
      "dense (Dense)                (None, 100)               200       \n",
      "_________________________________________________________________\n",
      "dense_1 (Dense)              (None, 50)                5050      \n",
      "_________________________________________________________________\n",
      "dense_2 (Dense)              (None, 50)                2550      \n",
      "_________________________________________________________________\n",
      "dense_3 (Dense)              (None, 2)                 102       \n",
      "=================================================================\n",
      "Total params: 7,902\n",
      "Trainable params: 7,902\n",
      "Non-trainable params: 0\n",
      "_________________________________________________________________\n"
     ]
    }
   ],
   "source": [
    "def model(input_z):\n",
    "    efirst = Dense(100, activation='relu', input_shape=(1,))(input_z)\n",
    "    ehidden = Dense(50, activation='relu')(efirst)\n",
    "    ehidden2 = Dense(50, activation='relu')(ehidden)\n",
    "    elast = Dense(2, activation='relu')(ehidden2)\n",
    "    return elast\n",
    "\n",
    "batch_size = 4\n",
    "epochs = 500\n",
    "input_z = Input(shape = (1,))\n",
    "neural_model = Model(input_z, model(input_z))\n",
    "neural_model.compile(loss='mean_squared_error', optimizer = \"adam\")\n",
    "neural_model.summary()"
   ]
  },
  {
   "cell_type": "code",
   "execution_count": 27,
   "metadata": {},
   "outputs": [],
   "source": [
    "# batch_size = 4\n",
    "batch_size = 4\n",
    "epochs = 500\n",
    "input_z = Input(shape = (1,))"
   ]
  },
  {
   "cell_type": "code",
   "execution_count": 28,
   "metadata": {},
   "outputs": [],
   "source": [
    "# autoencoder = Model(input_z, autoencoder(input_z))\n",
    "# autoencoder.compile(loss='mean_squared_error', optimizer = \"adam\")\n",
    "# autoencoder.summary()"
   ]
  },
  {
   "cell_type": "code",
   "execution_count": 29,
   "metadata": {},
   "outputs": [
    {
     "name": "stdout",
     "output_type": "stream",
     "text": [
      "Epoch 1/500\n",
      "5/5 [==============================] - 0s 24ms/step - loss: 0.0838 - val_loss: 0.0673\n",
      "Epoch 2/500\n",
      "5/5 [==============================] - 0s 4ms/step - loss: 0.0557 - val_loss: 0.0455\n",
      "Epoch 3/500\n",
      "5/5 [==============================] - 0s 5ms/step - loss: 0.0369 - val_loss: 0.0391\n",
      "Epoch 4/500\n",
      "5/5 [==============================] - 0s 4ms/step - loss: 0.0246 - val_loss: 0.0342\n",
      "Epoch 5/500\n",
      "5/5 [==============================] - 0s 5ms/step - loss: 0.0174 - val_loss: 0.0304\n",
      "Epoch 6/500\n",
      "5/5 [==============================] - 0s 4ms/step - loss: 0.0148 - val_loss: 0.0222\n",
      "Epoch 7/500\n",
      "5/5 [==============================] - 0s 5ms/step - loss: 0.0122 - val_loss: 0.0132\n",
      "Epoch 8/500\n",
      "5/5 [==============================] - 0s 6ms/step - loss: 0.0099 - val_loss: 0.0068\n",
      "Epoch 9/500\n",
      "5/5 [==============================] - 0s 5ms/step - loss: 0.0082 - val_loss: 0.0047\n",
      "Epoch 10/500\n",
      "5/5 [==============================] - 0s 4ms/step - loss: 0.0065 - val_loss: 0.0042\n",
      "Epoch 11/500\n",
      "5/5 [==============================] - 0s 4ms/step - loss: 0.0054 - val_loss: 0.0031\n",
      "Epoch 12/500\n",
      "5/5 [==============================] - 0s 3ms/step - loss: 0.0044 - val_loss: 0.0031\n",
      "Epoch 13/500\n",
      "5/5 [==============================] - 0s 4ms/step - loss: 0.0034 - val_loss: 0.0037\n",
      "Epoch 14/500\n",
      "5/5 [==============================] - 0s 4ms/step - loss: 0.0032 - val_loss: 0.0042\n",
      "Epoch 15/500\n",
      "5/5 [==============================] - 0s 5ms/step - loss: 0.0027 - val_loss: 0.0030\n",
      "Epoch 16/500\n",
      "5/5 [==============================] - 0s 4ms/step - loss: 0.0024 - val_loss: 0.0023\n",
      "Epoch 17/500\n",
      "5/5 [==============================] - 0s 5ms/step - loss: 0.0024 - val_loss: 0.0019\n",
      "Epoch 18/500\n",
      "5/5 [==============================] - 0s 5ms/step - loss: 0.0022 - val_loss: 0.0022\n",
      "Epoch 19/500\n",
      "5/5 [==============================] - 0s 4ms/step - loss: 0.0022 - val_loss: 0.0024\n",
      "Epoch 20/500\n",
      "5/5 [==============================] - 0s 4ms/step - loss: 0.0022 - val_loss: 0.0027\n",
      "Epoch 21/500\n",
      "5/5 [==============================] - 0s 4ms/step - loss: 0.0022 - val_loss: 0.0034\n",
      "Epoch 22/500\n",
      "5/5 [==============================] - 0s 5ms/step - loss: 0.0022 - val_loss: 0.0029\n",
      "Epoch 23/500\n",
      "5/5 [==============================] - 0s 4ms/step - loss: 0.0022 - val_loss: 0.0039\n",
      "Epoch 24/500\n",
      "5/5 [==============================] - 0s 4ms/step - loss: 0.0026 - val_loss: 0.0040\n",
      "Epoch 25/500\n",
      "5/5 [==============================] - 0s 4ms/step - loss: 0.0025 - val_loss: 0.0037\n",
      "Epoch 26/500\n",
      "5/5 [==============================] - 0s 5ms/step - loss: 0.0033 - val_loss: 0.0028\n",
      "Epoch 27/500\n",
      "5/5 [==============================] - 0s 4ms/step - loss: 0.0025 - val_loss: 0.0015\n",
      "Epoch 28/500\n",
      "5/5 [==============================] - 0s 5ms/step - loss: 0.0022 - val_loss: 0.0030\n",
      "Epoch 29/500\n",
      "5/5 [==============================] - 0s 4ms/step - loss: 0.0020 - val_loss: 0.0031\n",
      "Epoch 30/500\n",
      "5/5 [==============================] - 0s 5ms/step - loss: 0.0022 - val_loss: 0.0022\n",
      "Epoch 31/500\n",
      "5/5 [==============================] - 0s 5ms/step - loss: 0.0022 - val_loss: 0.0019\n",
      "Epoch 32/500\n",
      "5/5 [==============================] - 0s 6ms/step - loss: 0.0021 - val_loss: 0.0027\n",
      "Epoch 33/500\n",
      "5/5 [==============================] - 0s 4ms/step - loss: 0.0020 - val_loss: 0.0028\n",
      "Epoch 34/500\n",
      "5/5 [==============================] - 0s 4ms/step - loss: 0.0021 - val_loss: 0.0024\n",
      "Epoch 35/500\n",
      "5/5 [==============================] - 0s 5ms/step - loss: 0.0021 - val_loss: 0.0026\n",
      "Epoch 36/500\n",
      "5/5 [==============================] - 0s 4ms/step - loss: 0.0020 - val_loss: 0.0024\n",
      "Epoch 37/500\n",
      "5/5 [==============================] - 0s 4ms/step - loss: 0.0020 - val_loss: 0.0026\n",
      "Epoch 38/500\n",
      "5/5 [==============================] - 0s 5ms/step - loss: 0.0020 - val_loss: 0.0030\n",
      "Epoch 39/500\n",
      "5/5 [==============================] - 0s 5ms/step - loss: 0.0020 - val_loss: 0.0027\n",
      "Epoch 40/500\n",
      "5/5 [==============================] - 0s 4ms/step - loss: 0.0021 - val_loss: 0.0021\n",
      "Epoch 41/500\n",
      "5/5 [==============================] - 0s 3ms/step - loss: 0.0021 - val_loss: 0.0020\n",
      "Epoch 42/500\n",
      "5/5 [==============================] - 0s 3ms/step - loss: 0.0020 - val_loss: 0.0021\n",
      "Epoch 43/500\n",
      "5/5 [==============================] - 0s 4ms/step - loss: 0.0021 - val_loss: 0.0023\n",
      "Epoch 44/500\n",
      "5/5 [==============================] - 0s 4ms/step - loss: 0.0020 - val_loss: 0.0026\n",
      "Epoch 45/500\n",
      "5/5 [==============================] - 0s 5ms/step - loss: 0.0021 - val_loss: 0.0025\n",
      "Epoch 46/500\n",
      "5/5 [==============================] - 0s 5ms/step - loss: 0.0020 - val_loss: 0.0022\n",
      "Epoch 47/500\n",
      "5/5 [==============================] - 0s 4ms/step - loss: 0.0018 - val_loss: 0.0017\n",
      "Epoch 48/500\n",
      "5/5 [==============================] - 0s 4ms/step - loss: 0.0022 - val_loss: 0.0017\n",
      "Epoch 49/500\n",
      "5/5 [==============================] - 0s 3ms/step - loss: 0.0019 - val_loss: 0.0024\n",
      "Epoch 50/500\n",
      "5/5 [==============================] - 0s 4ms/step - loss: 0.0021 - val_loss: 0.0027\n",
      "Epoch 51/500\n",
      "5/5 [==============================] - 0s 4ms/step - loss: 0.0022 - val_loss: 0.0024\n",
      "Epoch 52/500\n",
      "5/5 [==============================] - 0s 4ms/step - loss: 0.0021 - val_loss: 0.0021\n",
      "Epoch 53/500\n",
      "5/5 [==============================] - 0s 5ms/step - loss: 0.0020 - val_loss: 0.0026\n",
      "Epoch 54/500\n",
      "5/5 [==============================] - 0s 4ms/step - loss: 0.0021 - val_loss: 0.0037\n",
      "Epoch 55/500\n",
      "5/5 [==============================] - 0s 3ms/step - loss: 0.0021 - val_loss: 0.0028\n",
      "Epoch 56/500\n",
      "5/5 [==============================] - 0s 4ms/step - loss: 0.0021 - val_loss: 0.0021\n",
      "Epoch 57/500\n",
      "5/5 [==============================] - 0s 3ms/step - loss: 0.0019 - val_loss: 0.0019\n",
      "Epoch 58/500\n",
      "5/5 [==============================] - 0s 3ms/step - loss: 0.0022 - val_loss: 0.0022\n",
      "Epoch 59/500\n",
      "5/5 [==============================] - 0s 3ms/step - loss: 0.0023 - val_loss: 0.0045\n",
      "Epoch 60/500\n",
      "5/5 [==============================] - 0s 3ms/step - loss: 0.0025 - val_loss: 0.0033\n",
      "Epoch 61/500\n",
      "5/5 [==============================] - 0s 4ms/step - loss: 0.0022 - val_loss: 0.0029\n",
      "Epoch 62/500\n",
      "5/5 [==============================] - 0s 4ms/step - loss: 0.0019 - val_loss: 0.0016\n",
      "Epoch 63/500\n",
      "5/5 [==============================] - 0s 4ms/step - loss: 0.0020 - val_loss: 0.0015\n",
      "Epoch 64/500\n",
      "5/5 [==============================] - 0s 4ms/step - loss: 0.0021 - val_loss: 0.0031\n",
      "Epoch 65/500\n",
      "5/5 [==============================] - 0s 4ms/step - loss: 0.0020 - val_loss: 0.0035\n",
      "Epoch 66/500\n",
      "5/5 [==============================] - 0s 5ms/step - loss: 0.0021 - val_loss: 0.0035\n",
      "Epoch 67/500\n",
      "5/5 [==============================] - 0s 3ms/step - loss: 0.0021 - val_loss: 0.0024\n"
     ]
    }
   ],
   "source": [
    "model_train = neural_model.fit(z_train, y_train, batch_size=batch_size,\n",
    "                                    epochs=epochs,verbose=1,\n",
    "                                    validation_data=(z_test, y_test),\n",
    "                                    callbacks=callbacks)"
   ]
  },
  {
   "cell_type": "code",
   "execution_count": 31,
   "metadata": {},
   "outputs": [
    {
     "data": {
      "image/png": "[encoded data removed]",
      "text/plain": [
       "<Figure size 432x288 with 1 Axes>"
      ]
     },
     "metadata": {
      "needs_background": "light"
     },
     "output_type": "display_data"
    }
   ],
   "source": [
    "plt.plot(model_train.history['loss'], color='r', )\n",
    "plt.plot(model_train.history['val_loss'], color='g')\n",
    "plt.ylabel('MSE')\n",
    "plt.xlabel('Epoch')\n",
    "plt.legend(['train', 'val'], loc='upper left')\n",
    "plt.savefig(\"loss_fs8.png\", dpi=200)\n"
   ]
  },
  {
   "cell_type": "code",
   "execution_count": 32,
   "metadata": {},
   "outputs": [
    {
     "data": {
      "text/plain": [
       "(0.0015179843176156282, 0.0018383665010333061)"
      ]
     },
     "execution_count": 32,
     "metadata": {},
     "output_type": "execute_result"
    }
   ],
   "source": [
    "#uncer net\n",
    "unet = np.sqrt(np.min(model_train.history['val_loss']))\n",
    "unet**2, np.min(model_train.history['loss'])\n"
   ]
  },
  {
   "cell_type": "code",
   "execution_count": 33,
   "metadata": {},
   "outputs": [
    {
     "data": {
      "text/plain": [
       "array([[0.39920595, 0.07888673],\n",
       "       [0.39366245, 0.07879723],\n",
       "       [0.37920645, 0.13662387],\n",
       "       [0.40562513, 0.08803241],\n",
       "       [0.40443516, 0.07686446]], dtype=float32)"
      ]
     },
     "execution_count": 33,
     "metadata": {},
     "output_type": "execute_result"
    }
   ],
   "source": [
    "pred = neural_model.predict(z_test)\n",
    "pred"
   ]
  },
  {
   "cell_type": "code",
   "execution_count": 34,
   "metadata": {},
   "outputs": [],
   "source": [
    "#zor and yor are the original velues for z and [Hz, err]\n",
    "zor = scalerz.inverse_transform(z.reshape(-1,1))\n",
    "# yor = scalery.inverse_transform(y)"
   ]
  },
  {
   "cell_type": "code",
   "execution_count": 35,
   "metadata": {},
   "outputs": [],
   "source": [
    "ranz = np.random.uniform(0, 2, size=10000)\n",
    "r = scalerz.transform(ranz.reshape(-1, 1))\n",
    "pred_random = neural_model.predict(r)\n",
    "rr = scalerz.inverse_transform(r.reshape(-1,1))\n",
    "# predy = scalery.inverse_transform(pred_random)\n"
   ]
  },
  {
   "cell_type": "code",
   "execution_count": 36,
   "metadata": {},
   "outputs": [
    {
     "data": {
      "text/plain": [
       "(0.0, 2.0)"
      ]
     },
     "execution_count": 36,
     "metadata": {},
     "output_type": "execute_result"
    },
    {
     "data": {
      "image/png": "[encoded data removed]",
      "text/plain": [
       "<Figure size 432x288 with 1 Axes>"
      ]
     },
     "metadata": {
      "needs_background": "light"
     },
     "output_type": "display_data"
    }
   ],
   "source": [
    "# plt.errorbar(zor, yor[:,0], yor[:,1], fmt='g.', markersize=15, label='Observations', alpha=0.5)\n",
    "# plt.errorbar(rr, predy[:,0], predy[:,1], fmt='r.', markersize=5, label='Synthetic', alpha=0.01)\n",
    "plt.errorbar(zor, y[:,0], y[:,1], fmt='g.', markersize=15, label='Observations', alpha=0.5)\n",
    "plt.errorbar(rr, pred_random[:,0], pred_random[:,1], fmt='r.', markersize=5, label='Synthetic', alpha=0.005)\n",
    "plt.xlabel(\"Redshift z\")\n",
    "plt.ylabel(\"$f\\sigma_8(z)$\")\n",
    "plt.xlim(0, 2)\n",
    "# plt.savefig(\"Overfitting_synthetic_fs8.png\")"
   ]
  },
  {
   "cell_type": "code",
   "execution_count": 37,
   "metadata": {},
   "outputs": [],
   "source": [
    "# Cosmological constants\n",
    "Om = 0.27\n",
    "# variance network\n",
    "s8 = 0.8"
   ]
  },
  {
   "cell_type": "code",
   "execution_count": 53,
   "metadata": {},
   "outputs": [],
   "source": [
    "def Ezlcdm(a):\n",
    "    return np.sqrt(Om*(1/a)**3 + 1 - Om)\n",
    "\n",
    "\n",
    "from scipy.misc import derivative\n",
    "import scipy.integrate as intg\n",
    "\n",
    "\n",
    "# returns the growth factor as a function of redshift\n",
    "def GrowthIntegrand_a(a):\n",
    "    return 1./(self.RHSquared_a(a)*a*a)**(1.5)\n",
    "\n",
    "\n",
    "def growth(z):\n",
    "    # Equation 7.77 from Doddie\n",
    "    af = 1/(1.+z)\n",
    "    r = intg.quad(GrowthIntegrand_a, 1e-7, af)\n",
    "    gr = sp.sqrt(Ezlcdm(af))*r[0]  # assume precision is ok\n",
    "    # If we have Omega_m, let's normalize that way\n",
    "#     gr *= 5/2.*Om\n",
    "    return gr\n",
    "\n",
    "\n",
    "def fs8(z):\n",
    "    return -s8*(1+z)*derivative(growth, z, dx=1e-6)/growth(0)"
   ]
  },
  {
   "cell_type": "code",
   "execution_count": 54,
   "metadata": {},
   "outputs": [
    {
     "ename": "ValueError",
     "evalue": "The truth value of an array with more than one element is ambiguous. Use a.any() or a.all()",
     "output_type": "error",
     "traceback": [
      "\u001b[0;31m---------------------------------------------------------------------------\u001b[0m",
      "\u001b[0;31mValueError\u001b[0m                                Traceback (most recent call last)",
      "\u001b[0;32m<ipython-input-54-fb2f08480533>\u001b[0m in \u001b[0;36m<module>\u001b[0;34m\u001b[0m\n\u001b[1;32m      5\u001b[0m \u001b[0mplt\u001b[0m\u001b[0;34m.\u001b[0m\u001b[0merrorbar\u001b[0m\u001b[0;34m(\u001b[0m\u001b[0mrr\u001b[0m\u001b[0;34m,\u001b[0m \u001b[0mpred_random\u001b[0m\u001b[0;34m[\u001b[0m\u001b[0;34m:\u001b[0m\u001b[0;34m,\u001b[0m\u001b[0;36m0\u001b[0m\u001b[0;34m]\u001b[0m\u001b[0;34m,\u001b[0m \u001b[0mpred_random\u001b[0m\u001b[0;34m[\u001b[0m\u001b[0;34m:\u001b[0m\u001b[0;34m,\u001b[0m\u001b[0;36m1\u001b[0m\u001b[0;34m]\u001b[0m\u001b[0;34m,\u001b[0m \u001b[0mfmt\u001b[0m\u001b[0;34m=\u001b[0m\u001b[0;34m'r.'\u001b[0m\u001b[0;34m,\u001b[0m \u001b[0mmarkersize\u001b[0m\u001b[0;34m=\u001b[0m\u001b[0;36m4.\u001b[0m\u001b[0;34m,\u001b[0m \u001b[0mlabel\u001b[0m\u001b[0;34m=\u001b[0m\u001b[0;34m'Synthetic data with errors'\u001b[0m\u001b[0;34m,\u001b[0m \u001b[0malpha\u001b[0m\u001b[0;34m=\u001b[0m\u001b[0;36m0.01\u001b[0m\u001b[0;34m)\u001b[0m\u001b[0;34m\u001b[0m\u001b[0;34m\u001b[0m\u001b[0m\n\u001b[1;32m      6\u001b[0m \u001b[0;34m\u001b[0m\u001b[0m\n\u001b[0;32m----> 7\u001b[0;31m \u001b[0mplt\u001b[0m\u001b[0;34m.\u001b[0m\u001b[0mplot\u001b[0m\u001b[0;34m(\u001b[0m\u001b[0mz\u001b[0m\u001b[0;34m,\u001b[0m \u001b[0mfs8\u001b[0m\u001b[0;34m(\u001b[0m\u001b[0mz\u001b[0m\u001b[0;34m)\u001b[0m\u001b[0;34m,\u001b[0m \u001b[0mlabel\u001b[0m\u001b[0;34m=\u001b[0m\u001b[0;34m'$\\Lambda CDM$'\u001b[0m\u001b[0;34m,\u001b[0m \u001b[0mc\u001b[0m\u001b[0;34m=\u001b[0m\u001b[0;34m'b'\u001b[0m\u001b[0;34m)\u001b[0m\u001b[0;34m\u001b[0m\u001b[0;34m\u001b[0m\u001b[0m\n\u001b[0m\u001b[1;32m      8\u001b[0m \u001b[0mplt\u001b[0m\u001b[0;34m.\u001b[0m\u001b[0mxlabel\u001b[0m\u001b[0;34m(\u001b[0m\u001b[0;34m\"Redshift z\"\u001b[0m\u001b[0;34m)\u001b[0m\u001b[0;34m\u001b[0m\u001b[0;34m\u001b[0m\u001b[0m\n\u001b[1;32m      9\u001b[0m \u001b[0mplt\u001b[0m\u001b[0;34m.\u001b[0m\u001b[0mylabel\u001b[0m\u001b[0;34m(\u001b[0m\u001b[0;34m\"$f\\sigma_8(z)$\"\u001b[0m\u001b[0;34m)\u001b[0m\u001b[0;34m\u001b[0m\u001b[0;34m\u001b[0m\u001b[0m\n",
      "\u001b[0;32m<ipython-input-53-c3775c3d5ba2>\u001b[0m in \u001b[0;36mfs8\u001b[0;34m(z)\u001b[0m\n\u001b[1;32m     24\u001b[0m \u001b[0;34m\u001b[0m\u001b[0m\n\u001b[1;32m     25\u001b[0m \u001b[0;32mdef\u001b[0m \u001b[0mfs8\u001b[0m\u001b[0;34m(\u001b[0m\u001b[0mz\u001b[0m\u001b[0;34m)\u001b[0m\u001b[0;34m:\u001b[0m\u001b[0;34m\u001b[0m\u001b[0;34m\u001b[0m\u001b[0m\n\u001b[0;32m---> 26\u001b[0;31m     \u001b[0;32mreturn\u001b[0m \u001b[0;34m-\u001b[0m\u001b[0ms8\u001b[0m\u001b[0;34m*\u001b[0m\u001b[0;34m(\u001b[0m\u001b[0;36m1\u001b[0m\u001b[0;34m+\u001b[0m\u001b[0mz\u001b[0m\u001b[0;34m)\u001b[0m\u001b[0;34m*\u001b[0m\u001b[0mderivative\u001b[0m\u001b[0;34m(\u001b[0m\u001b[0mgrowth\u001b[0m\u001b[0;34m,\u001b[0m \u001b[0mz\u001b[0m\u001b[0;34m,\u001b[0m \u001b[0mdx\u001b[0m\u001b[0;34m=\u001b[0m\u001b[0;36m1e-6\u001b[0m\u001b[0;34m)\u001b[0m\u001b[0;34m/\u001b[0m\u001b[0mgrowth\u001b[0m\u001b[0;34m(\u001b[0m\u001b[0;36m0\u001b[0m\u001b[0;34m)\u001b[0m\u001b[0;34m\u001b[0m\u001b[0;34m\u001b[0m\u001b[0m\n\u001b[0m",
      "\u001b[0;32m~/.local/lib/python3.6/site-packages/scipy/misc/common.py\u001b[0m in \u001b[0;36mderivative\u001b[0;34m(func, x0, dx, n, args, order)\u001b[0m\n\u001b[1;32m    117\u001b[0m     \u001b[0mho\u001b[0m \u001b[0;34m=\u001b[0m \u001b[0morder\u001b[0m \u001b[0;34m>>\u001b[0m \u001b[0;36m1\u001b[0m\u001b[0;34m\u001b[0m\u001b[0;34m\u001b[0m\u001b[0m\n\u001b[1;32m    118\u001b[0m     \u001b[0;32mfor\u001b[0m \u001b[0mk\u001b[0m \u001b[0;32min\u001b[0m \u001b[0mrange\u001b[0m\u001b[0;34m(\u001b[0m\u001b[0morder\u001b[0m\u001b[0;34m)\u001b[0m\u001b[0;34m:\u001b[0m\u001b[0;34m\u001b[0m\u001b[0;34m\u001b[0m\u001b[0m\n\u001b[0;32m--> 119\u001b[0;31m         \u001b[0mval\u001b[0m \u001b[0;34m+=\u001b[0m \u001b[0mweights\u001b[0m\u001b[0;34m[\u001b[0m\u001b[0mk\u001b[0m\u001b[0;34m]\u001b[0m\u001b[0;34m*\u001b[0m\u001b[0mfunc\u001b[0m\u001b[0;34m(\u001b[0m\u001b[0mx0\u001b[0m\u001b[0;34m+\u001b[0m\u001b[0;34m(\u001b[0m\u001b[0mk\u001b[0m\u001b[0;34m-\u001b[0m\u001b[0mho\u001b[0m\u001b[0;34m)\u001b[0m\u001b[0;34m*\u001b[0m\u001b[0mdx\u001b[0m\u001b[0;34m,\u001b[0m\u001b[0;34m*\u001b[0m\u001b[0margs\u001b[0m\u001b[0;34m)\u001b[0m\u001b[0;34m\u001b[0m\u001b[0;34m\u001b[0m\u001b[0m\n\u001b[0m\u001b[1;32m    120\u001b[0m     \u001b[0;32mreturn\u001b[0m \u001b[0mval\u001b[0m \u001b[0;34m/\u001b[0m \u001b[0mprod\u001b[0m\u001b[0;34m(\u001b[0m\u001b[0;34m(\u001b[0m\u001b[0mdx\u001b[0m\u001b[0;34m,\u001b[0m\u001b[0;34m)\u001b[0m\u001b[0;34m*\u001b[0m\u001b[0mn\u001b[0m\u001b[0;34m,\u001b[0m\u001b[0maxis\u001b[0m\u001b[0;34m=\u001b[0m\u001b[0;36m0\u001b[0m\u001b[0;34m)\u001b[0m\u001b[0;34m\u001b[0m\u001b[0;34m\u001b[0m\u001b[0m\n\u001b[1;32m    121\u001b[0m \u001b[0;34m\u001b[0m\u001b[0m\n",
      "\u001b[0;32m<ipython-input-53-c3775c3d5ba2>\u001b[0m in \u001b[0;36mgrowth\u001b[0;34m(z)\u001b[0m\n\u001b[1;32m     15\u001b[0m     \u001b[0;31m# Equation 7.77 from Doddie\u001b[0m\u001b[0;34m\u001b[0m\u001b[0;34m\u001b[0m\u001b[0;34m\u001b[0m\u001b[0m\n\u001b[1;32m     16\u001b[0m     \u001b[0maf\u001b[0m \u001b[0;34m=\u001b[0m \u001b[0;36m1\u001b[0m\u001b[0;34m/\u001b[0m\u001b[0;34m(\u001b[0m\u001b[0;36m1.\u001b[0m\u001b[0;34m+\u001b[0m\u001b[0mz\u001b[0m\u001b[0;34m)\u001b[0m\u001b[0;34m\u001b[0m\u001b[0;34m\u001b[0m\u001b[0m\n\u001b[0;32m---> 17\u001b[0;31m     \u001b[0mr\u001b[0m \u001b[0;34m=\u001b[0m \u001b[0mintg\u001b[0m\u001b[0;34m.\u001b[0m\u001b[0mquad\u001b[0m\u001b[0;34m(\u001b[0m\u001b[0mGrowthIntegrand_a\u001b[0m\u001b[0;34m,\u001b[0m \u001b[0;36m1e-7\u001b[0m\u001b[0;34m,\u001b[0m \u001b[0maf\u001b[0m\u001b[0;34m)\u001b[0m\u001b[0;34m\u001b[0m\u001b[0;34m\u001b[0m\u001b[0m\n\u001b[0m\u001b[1;32m     18\u001b[0m     \u001b[0mtype\u001b[0m\u001b[0;34m(\u001b[0m\u001b[0mr\u001b[0m\u001b[0;34m)\u001b[0m\u001b[0;34m\u001b[0m\u001b[0;34m\u001b[0m\u001b[0m\n\u001b[1;32m     19\u001b[0m     \u001b[0mgr\u001b[0m \u001b[0;34m=\u001b[0m \u001b[0msp\u001b[0m\u001b[0;34m.\u001b[0m\u001b[0msqrt\u001b[0m\u001b[0;34m(\u001b[0m\u001b[0mEzlcdm\u001b[0m\u001b[0;34m(\u001b[0m\u001b[0maf\u001b[0m\u001b[0;34m)\u001b[0m\u001b[0;34m)\u001b[0m\u001b[0;34m*\u001b[0m\u001b[0mr\u001b[0m\u001b[0;34m[\u001b[0m\u001b[0;36m0\u001b[0m\u001b[0;34m]\u001b[0m  \u001b[0;31m# assume precision is ok\u001b[0m\u001b[0;34m\u001b[0m\u001b[0;34m\u001b[0m\u001b[0m\n",
      "\u001b[0;32m~/.local/lib/python3.6/site-packages/scipy/integrate/quadpack.py\u001b[0m in \u001b[0;36mquad\u001b[0;34m(func, a, b, args, full_output, epsabs, epsrel, limit, points, weight, wvar, wopts, maxp1, limlst)\u001b[0m\n\u001b[1;32m    336\u001b[0m \u001b[0;34m\u001b[0m\u001b[0m\n\u001b[1;32m    337\u001b[0m     \u001b[0;31m# check the limits of integration: \\int_a^b, expect a < b\u001b[0m\u001b[0;34m\u001b[0m\u001b[0;34m\u001b[0m\u001b[0;34m\u001b[0m\u001b[0m\n\u001b[0;32m--> 338\u001b[0;31m     \u001b[0mflip\u001b[0m\u001b[0;34m,\u001b[0m \u001b[0ma\u001b[0m\u001b[0;34m,\u001b[0m \u001b[0mb\u001b[0m \u001b[0;34m=\u001b[0m \u001b[0mb\u001b[0m \u001b[0;34m<\u001b[0m \u001b[0ma\u001b[0m\u001b[0;34m,\u001b[0m \u001b[0mmin\u001b[0m\u001b[0;34m(\u001b[0m\u001b[0ma\u001b[0m\u001b[0;34m,\u001b[0m \u001b[0mb\u001b[0m\u001b[0;34m)\u001b[0m\u001b[0;34m,\u001b[0m \u001b[0mmax\u001b[0m\u001b[0;34m(\u001b[0m\u001b[0ma\u001b[0m\u001b[0;34m,\u001b[0m \u001b[0mb\u001b[0m\u001b[0;34m)\u001b[0m\u001b[0;34m\u001b[0m\u001b[0;34m\u001b[0m\u001b[0m\n\u001b[0m\u001b[1;32m    339\u001b[0m \u001b[0;34m\u001b[0m\u001b[0m\n\u001b[1;32m    340\u001b[0m     \u001b[0;32mif\u001b[0m \u001b[0mweight\u001b[0m \u001b[0;32mis\u001b[0m \u001b[0;32mNone\u001b[0m\u001b[0;34m:\u001b[0m\u001b[0;34m\u001b[0m\u001b[0;34m\u001b[0m\u001b[0m\n",
      "\u001b[0;31mValueError\u001b[0m: The truth value of an array with more than one element is ambiguous. Use a.any() or a.all()"
     ]
    },
    {
     "data": {
      "image/png": "[encoded data removed]",
      "text/plain": [
       "<Figure size 432x288 with 1 Axes>"
      ]
     },
     "metadata": {
      "needs_background": "light"
     },
     "output_type": "display_data"
    }
   ],
   "source": [
    "z = np.linspace(0, 2, 10000)\n",
    "# plt.errorbar(zor, yor[:,0], yor[:,1], fmt='g.', markersize=10, label='Observations')\n",
    "# plt.errorbar(rr, predy[:,0], predy[:,1], fmt='r.', markersize=4., label='Synthetic data with errors', alpha=0.01)\n",
    "plt.errorbar(zor, y[:,0], y[:,1], fmt='g.', markersize=10, label='Observations')\n",
    "plt.errorbar(rr, pred_random[:,0], pred_random[:,1], fmt='r.', markersize=4., label='Synthetic data with errors', alpha=0.01)\n",
    "\n",
    "plt.plot(z, fs8(z), label='$\\Lambda CDM$', c='b')\n",
    "plt.xlabel(\"Redshift z\")\n",
    "plt.ylabel(\"$f\\sigma_8(z)$\")\n",
    "plt.xlim(0, 2)\n",
    "plt.tight_layout()\n",
    "plt.legend()\n",
    "\n",
    "plt.savefig(\"Syntheticfs8.png\",dpi=800)"
   ]
  },
  {
   "cell_type": "code",
   "execution_count": 30,
   "metadata": {},
   "outputs": [
    {
     "data": {
      "text/plain": [
       "((10000, 2), (10000, 1))"
      ]
     },
     "execution_count": 30,
     "metadata": {},
     "output_type": "execute_result"
    }
   ],
   "source": [
    "pred_random.shape, r.shape"
   ]
  },
  {
   "cell_type": "code",
   "execution_count": 90,
   "metadata": {},
   "outputs": [],
   "source": [
    "# randomselection = np.random.randint(0,1000,50)\n",
    "randomselection = np.random.randint(0,1000,100)\n",
    "\n",
    "rr_reduced = rr[randomselection,:]\n",
    "# predy_reduced = predy[randomselection,:]\n",
    "predy_reduced = pred_random[randomselection,:]"
   ]
  },
  {
   "cell_type": "code",
   "execution_count": 91,
   "metadata": {},
   "outputs": [],
   "source": [
    "mookHz = np.concatenate((rr_reduced.reshape(-1,1), predy_reduced), axis=1)\n",
    "\n",
    "\n",
    "# np.savetxt(\"autoEncoderHz100.dat\",mookHz, delimiter=\" \")"
   ]
  },
  {
   "cell_type": "code",
   "execution_count": 92,
   "metadata": {},
   "outputs": [
    {
     "data": {
      "text/plain": [
       "array([31.81555 , 30.217422, 25.34974 , 20.98574 , 23.692795, 27.0069  ,\n",
       "       36.22493 , 25.870298, 26.914572, 21.183756, 17.656403, 35.06243 ,\n",
       "       21.838589, 16.323952, 19.321918, 29.185541, 27.0069  , 15.891767,\n",
       "       20.75717 , 18.957932, 31.94015 , 15.514039, 16.41835 , 19.536755,\n",
       "       36.775276, 23.692795, 16.62564 , 18.859169, 21.348392, 17.349434,\n",
       "       24.515287, 15.244009, 36.507416, 28.45055 , 27.925026, 15.588606,\n",
       "       33.43392 , 36.556087, 21.858053, 20.130772, 15.240908, 27.482182,\n",
       "       29.446445, 16.49067 , 30.169373, 17.656403, 15.240597, 15.436296,\n",
       "       36.729473, 19.53933 , 37.014305, 15.516485, 29.51578 , 30.653032,\n",
       "       16.90022 , 22.965294, 23.252975, 33.79183 , 20.347042, 15.948877,\n",
       "       22.357836, 18.651085, 19.2601  , 35.147163, 30.336239, 18.958767,\n",
       "       15.245388, 17.555046, 26.661972, 27.742908, 30.849636, 15.243494,\n",
       "       27.627258, 21.996738, 16.683708, 16.563324, 24.222122, 18.337826,\n",
       "       16.759655, 18.083115, 25.656902, 23.85299 , 17.63869 , 26.512848,\n",
       "       22.035963, 17.437145, 34.54752 , 22.37196 , 19.777004, 24.259073,\n",
       "       23.425129, 35.47963 , 27.07827 , 24.158945, 30.644432, 25.369669,\n",
       "       17.363136, 32.368164, 18.790665, 32.957058], dtype=float32)"
      ]
     },
     "execution_count": 92,
     "metadata": {},
     "output_type": "execute_result"
    }
   ],
   "source": [
    "predy_reduced[:,1]"
   ]
  },
  {
   "cell_type": "code",
   "execution_count": 93,
   "metadata": {},
   "outputs": [
    {
     "data": {
      "text/plain": [
       "array([1012.2292 ,  913.09265,  642.60925,  440.4013 ,  561.3485 ,\n",
       "        729.3727 , 1312.2455 ,  669.27234,  724.39417,  448.75153,\n",
       "        311.74857, 1229.3741 ,  476.92395,  266.4714 ,  373.33655,\n",
       "        851.79584,  729.3727 ,  252.54825,  430.8601 ,  359.40317,\n",
       "       1020.17316,  240.68541,  269.56223,  381.68478, 1352.4209 ,\n",
       "        561.3485 ,  276.41193,  355.66824,  455.75388,  301.00287,\n",
       "        600.9993 ,  232.3798 , 1332.7914 ,  809.4338 ,  779.80707,\n",
       "        243.00464, 1117.8271 , 1336.3475 ,  477.77448,  405.24796,\n",
       "        232.28526,  755.2703 ,  867.09314,  271.94217,  910.19104,\n",
       "        311.74857,  232.27579,  238.27925, 1349.0542 ,  381.7854 ,\n",
       "       1370.0588 ,  240.7613 ,  871.1812 ,  939.6084 ,  285.61746,\n",
       "        527.4047 ,  540.70087, 1141.8877 ,  414.00214,  254.36668,\n",
       "        499.87283,  347.86298,  370.95142, 1235.3231 ,  920.2874 ,\n",
       "        359.43484,  232.42186,  308.17966,  710.8608 ,  769.66895,\n",
       "        951.7001 ,  232.3641 ,  763.2654 ,  483.8565 ,  278.34613,\n",
       "        274.3437 ,  586.7112 ,  336.27585,  280.88605,  326.99902,\n",
       "        658.2766 ,  568.9651 ,  311.1234 ,  702.9311 ,  485.58368,\n",
       "        304.05405, 1193.5311 ,  500.50458,  391.12988,  588.5026 ,\n",
       "        548.7367 , 1258.8041 ,  733.2327 ,  583.6546 ,  939.08124,\n",
       "        643.6201 ,  301.47852, 1047.698  ,  353.08908, 1086.1677 ],\n",
       "      dtype=float32)"
      ]
     },
     "execution_count": 93,
     "metadata": {},
     "output_type": "execute_result"
    }
   ],
   "source": [
    "error  = predy_reduced[:,1]**2\n",
    "error"
   ]
  },
  {
   "cell_type": "code",
   "execution_count": 94,
   "metadata": {},
   "outputs": [
    {
     "data": {
      "text/plain": [
       "(100, 100)"
      ]
     },
     "execution_count": 94,
     "metadata": {},
     "output_type": "execute_result"
    }
   ],
   "source": [
    "diagcov = np.diag(error) #inverso\n",
    "# np.savetxt(\"autoEncoderHz_cov100.dat\", diagcov, delimiter= \" \", header=\"#100 100\")\n",
    "np.shape(diagcov)"
   ]
  },
  {
   "cell_type": "code",
   "execution_count": 95,
   "metadata": {},
   "outputs": [
    {
     "data": {
      "text/plain": [
       "<seaborn.axisgrid.PairGrid at 0x7f915e7f75f8>"
      ]
     },
     "execution_count": 95,
     "metadata": {},
     "output_type": "execute_result"
    },
    {
     "data": {
      "image/png": "[encoded data removed]",
      "text/plain": [
       "<Figure size 540x540 with 12 Axes>"
      ]
     },
     "metadata": {
      "needs_background": "light"
     },
     "output_type": "display_data"
    }
   ],
   "source": [
    "dfMook = pd.DataFrame(mookHz, columns=['z', 'Hz', 'err'])\n",
    "sns.pairplot(dfMook, diag_kind=\"kde\")\n",
    "# plt.savefig(\"100hdmook.png\")"
   ]
  },
  {
   "cell_type": "code",
   "execution_count": 44,
   "metadata": {},
   "outputs": [
    {
     "data": {
      "text/plain": [
       "256"
      ]
     },
     "execution_count": 44,
     "metadata": {},
     "output_type": "execute_result"
    }
   ],
   "source": [
    "4**4"
   ]
  },
  {
   "cell_type": "code",
   "execution_count": null,
   "metadata": {},
   "outputs": [],
   "source": []
  }
 ],
 "metadata": {
  "kernelspec": {
   "display_name": "Python 3",
   "language": "python",
   "name": "python3"
  },
  "language_info": {
   "codemirror_mode": {
    "name": "ipython",
    "version": 3
   },
   "file_extension": ".py",
   "mimetype": "text/x-python",
   "name": "python",
   "nbconvert_exporter": "python",
   "pygments_lexer": "ipython3",
   "version": "3.6.9"
  }
 },
 "nbformat": 4,
 "nbformat_minor": 2
}
