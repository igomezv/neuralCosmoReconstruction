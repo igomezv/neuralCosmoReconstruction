{
 "cells": [
  {
   "cell_type": "code",
   "execution_count": 1,
   "metadata": {},
   "outputs": [],
   "source": [
    "import os\n",
    "os.environ[\"CUDA_DEVICE_ORDER\"]=\"PCI_BUS_ID\"\n",
    "os.environ[\"CUDA_VISIBLE_DEVICES\"]=\"1\" #model will be trained on GPU 1"
   ]
  },
  {
   "cell_type": "code",
   "execution_count": 2,
   "metadata": {},
   "outputs": [
    {
     "name": "stderr",
     "output_type": "stream",
     "text": [
      "/home/isidro/.local/lib/python3.6/site-packages/tensorflow/python/framework/dtypes.py:526: FutureWarning: Passing (type, 1) or '1type' as a synonym of type is deprecated; in a future version of numpy, it will be understood as (type, (1,)) / '(1,)type'.\n",
      "  _np_qint8 = np.dtype([(\"qint8\", np.int8, 1)])\n",
      "/home/isidro/.local/lib/python3.6/site-packages/tensorflow/python/framework/dtypes.py:527: FutureWarning: Passing (type, 1) or '1type' as a synonym of type is deprecated; in a future version of numpy, it will be understood as (type, (1,)) / '(1,)type'.\n",
      "  _np_quint8 = np.dtype([(\"quint8\", np.uint8, 1)])\n",
      "/home/isidro/.local/lib/python3.6/site-packages/tensorflow/python/framework/dtypes.py:528: FutureWarning: Passing (type, 1) or '1type' as a synonym of type is deprecated; in a future version of numpy, it will be understood as (type, (1,)) / '(1,)type'.\n",
      "  _np_qint16 = np.dtype([(\"qint16\", np.int16, 1)])\n",
      "/home/isidro/.local/lib/python3.6/site-packages/tensorflow/python/framework/dtypes.py:529: FutureWarning: Passing (type, 1) or '1type' as a synonym of type is deprecated; in a future version of numpy, it will be understood as (type, (1,)) / '(1,)type'.\n",
      "  _np_quint16 = np.dtype([(\"quint16\", np.uint16, 1)])\n",
      "/home/isidro/.local/lib/python3.6/site-packages/tensorflow/python/framework/dtypes.py:530: FutureWarning: Passing (type, 1) or '1type' as a synonym of type is deprecated; in a future version of numpy, it will be understood as (type, (1,)) / '(1,)type'.\n",
      "  _np_qint32 = np.dtype([(\"qint32\", np.int32, 1)])\n",
      "/home/isidro/.local/lib/python3.6/site-packages/tensorflow/python/framework/dtypes.py:535: FutureWarning: Passing (type, 1) or '1type' as a synonym of type is deprecated; in a future version of numpy, it will be understood as (type, (1,)) / '(1,)type'.\n",
      "  np_resource = np.dtype([(\"resource\", np.ubyte, 1)])\n"
     ]
    }
   ],
   "source": [
    "import tensorflow.keras\n",
    "from matplotlib import pyplot as plt\n",
    "import numpy as np\n",
    "import gzip\n",
    "%matplotlib inline\n",
    "from tensorflow.keras.layers import Input,Conv2D,MaxPooling2D,UpSampling2D, Dense\n",
    "from tensorflow.keras.models import Model\n",
    "from tensorflow.keras.optimizers import RMSprop\n",
    "import pandas as pd\n",
    "from sklearn.preprocessing import StandardScaler, MinMaxScaler"
   ]
  },
  {
   "cell_type": "code",
   "execution_count": 3,
   "metadata": {},
   "outputs": [
    {
     "data": {
      "text/html": [
       "<div>\n",
       "<style scoped>\n",
       "    .dataframe tbody tr th:only-of-type {\n",
       "        vertical-align: middle;\n",
       "    }\n",
       "\n",
       "    .dataframe tbody tr th {\n",
       "        vertical-align: top;\n",
       "    }\n",
       "\n",
       "    .dataframe thead th {\n",
       "        text-align: right;\n",
       "    }\n",
       "</style>\n",
       "<table border=\"1\" class=\"dataframe\">\n",
       "  <thead>\n",
       "    <tr style=\"text-align: right;\">\n",
       "      <th></th>\n",
       "      <th>z</th>\n",
       "      <th>hz</th>\n",
       "      <th>err</th>\n",
       "    </tr>\n",
       "  </thead>\n",
       "  <tbody>\n",
       "    <tr>\n",
       "      <th>0</th>\n",
       "      <td>0.0700</td>\n",
       "      <td>69.0</td>\n",
       "      <td>19.6</td>\n",
       "    </tr>\n",
       "    <tr>\n",
       "      <th>1</th>\n",
       "      <td>0.0900</td>\n",
       "      <td>69.0</td>\n",
       "      <td>12.0</td>\n",
       "    </tr>\n",
       "    <tr>\n",
       "      <th>2</th>\n",
       "      <td>0.1200</td>\n",
       "      <td>68.6</td>\n",
       "      <td>26.2</td>\n",
       "    </tr>\n",
       "    <tr>\n",
       "      <th>3</th>\n",
       "      <td>0.1700</td>\n",
       "      <td>83.0</td>\n",
       "      <td>8.0</td>\n",
       "    </tr>\n",
       "    <tr>\n",
       "      <th>4</th>\n",
       "      <td>0.1791</td>\n",
       "      <td>75.0</td>\n",
       "      <td>4.0</td>\n",
       "    </tr>\n",
       "  </tbody>\n",
       "</table>\n",
       "</div>"
      ],
      "text/plain": [
       "        z    hz   err\n",
       "0  0.0700  69.0  19.6\n",
       "1  0.0900  69.0  12.0\n",
       "2  0.1200  68.6  26.2\n",
       "3  0.1700  83.0   8.0\n",
       "4  0.1791  75.0   4.0"
      ]
     },
     "execution_count": 3,
     "metadata": {},
     "output_type": "execute_result"
    }
   ],
   "source": [
    "file = 'data/Hz31.txt'\n",
    "data = pd.read_csv(file, names=['z', 'hz', 'err'], sep = \" \" )\n",
    "data.head()"
   ]
  },
  {
   "cell_type": "code",
   "execution_count": 4,
   "metadata": {},
   "outputs": [
    {
     "data": {
      "text/html": [
       "<div>\n",
       "<style scoped>\n",
       "    .dataframe tbody tr th:only-of-type {\n",
       "        vertical-align: middle;\n",
       "    }\n",
       "\n",
       "    .dataframe tbody tr th {\n",
       "        vertical-align: top;\n",
       "    }\n",
       "\n",
       "    .dataframe thead th {\n",
       "        text-align: right;\n",
       "    }\n",
       "</style>\n",
       "<table border=\"1\" class=\"dataframe\">\n",
       "  <thead>\n",
       "    <tr style=\"text-align: right;\">\n",
       "      <th></th>\n",
       "      <th>z</th>\n",
       "      <th>hz</th>\n",
       "      <th>err</th>\n",
       "    </tr>\n",
       "  </thead>\n",
       "  <tbody>\n",
       "    <tr>\n",
       "      <th>0</th>\n",
       "      <td>0.0700</td>\n",
       "      <td>69.0</td>\n",
       "      <td>19.6</td>\n",
       "    </tr>\n",
       "    <tr>\n",
       "      <th>1</th>\n",
       "      <td>0.0900</td>\n",
       "      <td>69.0</td>\n",
       "      <td>12.0</td>\n",
       "    </tr>\n",
       "    <tr>\n",
       "      <th>2</th>\n",
       "      <td>0.1200</td>\n",
       "      <td>68.6</td>\n",
       "      <td>26.2</td>\n",
       "    </tr>\n",
       "    <tr>\n",
       "      <th>3</th>\n",
       "      <td>0.1700</td>\n",
       "      <td>83.0</td>\n",
       "      <td>8.0</td>\n",
       "    </tr>\n",
       "    <tr>\n",
       "      <th>4</th>\n",
       "      <td>0.1791</td>\n",
       "      <td>75.0</td>\n",
       "      <td>4.0</td>\n",
       "    </tr>\n",
       "    <tr>\n",
       "      <th>5</th>\n",
       "      <td>0.1993</td>\n",
       "      <td>75.0</td>\n",
       "      <td>5.0</td>\n",
       "    </tr>\n",
       "    <tr>\n",
       "      <th>6</th>\n",
       "      <td>0.2000</td>\n",
       "      <td>72.9</td>\n",
       "      <td>29.6</td>\n",
       "    </tr>\n",
       "    <tr>\n",
       "      <th>7</th>\n",
       "      <td>0.2700</td>\n",
       "      <td>77.0</td>\n",
       "      <td>14.0</td>\n",
       "    </tr>\n",
       "    <tr>\n",
       "      <th>8</th>\n",
       "      <td>0.2800</td>\n",
       "      <td>88.8</td>\n",
       "      <td>36.6</td>\n",
       "    </tr>\n",
       "    <tr>\n",
       "      <th>9</th>\n",
       "      <td>0.3519</td>\n",
       "      <td>83.0</td>\n",
       "      <td>14.0</td>\n",
       "    </tr>\n",
       "    <tr>\n",
       "      <th>10</th>\n",
       "      <td>0.3802</td>\n",
       "      <td>83.0</td>\n",
       "      <td>13.5</td>\n",
       "    </tr>\n",
       "    <tr>\n",
       "      <th>11</th>\n",
       "      <td>0.4000</td>\n",
       "      <td>95.0</td>\n",
       "      <td>17.0</td>\n",
       "    </tr>\n",
       "    <tr>\n",
       "      <th>12</th>\n",
       "      <td>0.4004</td>\n",
       "      <td>77.0</td>\n",
       "      <td>10.2</td>\n",
       "    </tr>\n",
       "    <tr>\n",
       "      <th>13</th>\n",
       "      <td>0.4247</td>\n",
       "      <td>87.1</td>\n",
       "      <td>11.2</td>\n",
       "    </tr>\n",
       "    <tr>\n",
       "      <th>14</th>\n",
       "      <td>0.4497</td>\n",
       "      <td>92.8</td>\n",
       "      <td>12.9</td>\n",
       "    </tr>\n",
       "    <tr>\n",
       "      <th>15</th>\n",
       "      <td>0.4700</td>\n",
       "      <td>89.0</td>\n",
       "      <td>49.6</td>\n",
       "    </tr>\n",
       "    <tr>\n",
       "      <th>16</th>\n",
       "      <td>0.4783</td>\n",
       "      <td>80.9</td>\n",
       "      <td>9.0</td>\n",
       "    </tr>\n",
       "    <tr>\n",
       "      <th>17</th>\n",
       "      <td>0.4800</td>\n",
       "      <td>97.0</td>\n",
       "      <td>62.0</td>\n",
       "    </tr>\n",
       "    <tr>\n",
       "      <th>18</th>\n",
       "      <td>0.5929</td>\n",
       "      <td>104.0</td>\n",
       "      <td>13.0</td>\n",
       "    </tr>\n",
       "    <tr>\n",
       "      <th>19</th>\n",
       "      <td>0.6797</td>\n",
       "      <td>92.0</td>\n",
       "      <td>8.0</td>\n",
       "    </tr>\n",
       "    <tr>\n",
       "      <th>20</th>\n",
       "      <td>0.7812</td>\n",
       "      <td>105.0</td>\n",
       "      <td>12.0</td>\n",
       "    </tr>\n",
       "    <tr>\n",
       "      <th>21</th>\n",
       "      <td>0.8754</td>\n",
       "      <td>125.0</td>\n",
       "      <td>17.0</td>\n",
       "    </tr>\n",
       "    <tr>\n",
       "      <th>22</th>\n",
       "      <td>0.8800</td>\n",
       "      <td>90.0</td>\n",
       "      <td>40.0</td>\n",
       "    </tr>\n",
       "    <tr>\n",
       "      <th>23</th>\n",
       "      <td>0.9000</td>\n",
       "      <td>117.0</td>\n",
       "      <td>23.0</td>\n",
       "    </tr>\n",
       "    <tr>\n",
       "      <th>24</th>\n",
       "      <td>1.0370</td>\n",
       "      <td>154.0</td>\n",
       "      <td>20.0</td>\n",
       "    </tr>\n",
       "    <tr>\n",
       "      <th>25</th>\n",
       "      <td>1.3000</td>\n",
       "      <td>168.0</td>\n",
       "      <td>17.0</td>\n",
       "    </tr>\n",
       "    <tr>\n",
       "      <th>26</th>\n",
       "      <td>1.3630</td>\n",
       "      <td>160.0</td>\n",
       "      <td>33.6</td>\n",
       "    </tr>\n",
       "    <tr>\n",
       "      <th>27</th>\n",
       "      <td>1.4300</td>\n",
       "      <td>177.0</td>\n",
       "      <td>18.0</td>\n",
       "    </tr>\n",
       "    <tr>\n",
       "      <th>28</th>\n",
       "      <td>1.5300</td>\n",
       "      <td>140.0</td>\n",
       "      <td>14.0</td>\n",
       "    </tr>\n",
       "    <tr>\n",
       "      <th>29</th>\n",
       "      <td>1.7500</td>\n",
       "      <td>202.0</td>\n",
       "      <td>40.0</td>\n",
       "    </tr>\n",
       "    <tr>\n",
       "      <th>30</th>\n",
       "      <td>1.9650</td>\n",
       "      <td>186.5</td>\n",
       "      <td>50.4</td>\n",
       "    </tr>\n",
       "  </tbody>\n",
       "</table>\n",
       "</div>"
      ],
      "text/plain": [
       "         z     hz   err\n",
       "0   0.0700   69.0  19.6\n",
       "1   0.0900   69.0  12.0\n",
       "2   0.1200   68.6  26.2\n",
       "3   0.1700   83.0   8.0\n",
       "4   0.1791   75.0   4.0\n",
       "5   0.1993   75.0   5.0\n",
       "6   0.2000   72.9  29.6\n",
       "7   0.2700   77.0  14.0\n",
       "8   0.2800   88.8  36.6\n",
       "9   0.3519   83.0  14.0\n",
       "10  0.3802   83.0  13.5\n",
       "11  0.4000   95.0  17.0\n",
       "12  0.4004   77.0  10.2\n",
       "13  0.4247   87.1  11.2\n",
       "14  0.4497   92.8  12.9\n",
       "15  0.4700   89.0  49.6\n",
       "16  0.4783   80.9   9.0\n",
       "17  0.4800   97.0  62.0\n",
       "18  0.5929  104.0  13.0\n",
       "19  0.6797   92.0   8.0\n",
       "20  0.7812  105.0  12.0\n",
       "21  0.8754  125.0  17.0\n",
       "22  0.8800   90.0  40.0\n",
       "23  0.9000  117.0  23.0\n",
       "24  1.0370  154.0  20.0\n",
       "25  1.3000  168.0  17.0\n",
       "26  1.3630  160.0  33.6\n",
       "27  1.4300  177.0  18.0\n",
       "28  1.5300  140.0  14.0\n",
       "29  1.7500  202.0  40.0\n",
       "30  1.9650  186.5  50.4"
      ]
     },
     "execution_count": 4,
     "metadata": {},
     "output_type": "execute_result"
    }
   ],
   "source": [
    "data"
   ]
  },
  {
   "cell_type": "markdown",
   "metadata": {},
   "source": [
    "Read the data for cosmic chronometers"
   ]
  },
  {
   "cell_type": "code",
   "execution_count": 5,
   "metadata": {},
   "outputs": [
    {
     "data": {
      "text/plain": [
       "array([24,  0, 28,  1, 27, 29,  2, 10,  3, 16, 19, 30, 25,  5, 15, 14, 23,\n",
       "        7, 18, 21, 11, 22, 26,  9,  6, 17, 20, 13, 12,  4,  8])"
      ]
     },
     "execution_count": 5,
     "metadata": {},
     "output_type": "execute_result"
    }
   ],
   "source": [
    "randomize = np.random.permutation(len(data.values))\n",
    "randomize\n"
   ]
  },
  {
   "cell_type": "markdown",
   "metadata": {},
   "source": [
    "Let's prepare our input data. "
   ]
  },
  {
   "cell_type": "code",
   "execution_count": 6,
   "metadata": {},
   "outputs": [
    {
     "data": {
      "text/plain": [
       "array([[1.037e+00, 1.540e+02, 2.000e+01],\n",
       "       [7.000e-02, 6.900e+01, 1.960e+01],\n",
       "       [1.530e+00, 1.400e+02, 1.400e+01],\n",
       "       [9.000e-02, 6.900e+01, 1.200e+01],\n",
       "       [1.430e+00, 1.770e+02, 1.800e+01],\n",
       "       [1.750e+00, 2.020e+02, 4.000e+01],\n",
       "       [1.200e-01, 6.860e+01, 2.620e+01],\n",
       "       [3.802e-01, 8.300e+01, 1.350e+01],\n",
       "       [1.700e-01, 8.300e+01, 8.000e+00],\n",
       "       [4.783e-01, 8.090e+01, 9.000e+00],\n",
       "       [6.797e-01, 9.200e+01, 8.000e+00],\n",
       "       [1.965e+00, 1.865e+02, 5.040e+01],\n",
       "       [1.300e+00, 1.680e+02, 1.700e+01],\n",
       "       [1.993e-01, 7.500e+01, 5.000e+00],\n",
       "       [4.700e-01, 8.900e+01, 4.960e+01],\n",
       "       [4.497e-01, 9.280e+01, 1.290e+01],\n",
       "       [9.000e-01, 1.170e+02, 2.300e+01],\n",
       "       [2.700e-01, 7.700e+01, 1.400e+01],\n",
       "       [5.929e-01, 1.040e+02, 1.300e+01],\n",
       "       [8.754e-01, 1.250e+02, 1.700e+01],\n",
       "       [4.000e-01, 9.500e+01, 1.700e+01],\n",
       "       [8.800e-01, 9.000e+01, 4.000e+01],\n",
       "       [1.363e+00, 1.600e+02, 3.360e+01],\n",
       "       [3.519e-01, 8.300e+01, 1.400e+01],\n",
       "       [2.000e-01, 7.290e+01, 2.960e+01],\n",
       "       [4.800e-01, 9.700e+01, 6.200e+01],\n",
       "       [7.812e-01, 1.050e+02, 1.200e+01],\n",
       "       [4.247e-01, 8.710e+01, 1.120e+01],\n",
       "       [4.004e-01, 7.700e+01, 1.020e+01],\n",
       "       [1.791e-01, 7.500e+01, 4.000e+00],\n",
       "       [2.800e-01, 8.880e+01, 3.660e+01]])"
      ]
     },
     "execution_count": 6,
     "metadata": {},
     "output_type": "execute_result"
    }
   ],
   "source": [
    "data = data.values[randomize]\n",
    "data"
   ]
  },
  {
   "cell_type": "code",
   "execution_count": 7,
   "metadata": {},
   "outputs": [
    {
     "data": {
      "text/plain": [
       "((31,), (31, 2))"
      ]
     },
     "execution_count": 7,
     "metadata": {},
     "output_type": "execute_result"
    }
   ],
   "source": [
    "X = data[:,0]\n",
    "y = data[:,1:]\n",
    "X.shape, y.shape"
   ]
  },
  {
   "cell_type": "code",
   "execution_count": 8,
   "metadata": {},
   "outputs": [
    {
     "data": {
      "text/plain": [
       "(array([1.037 , 0.07  , 1.53  , 0.09  , 1.43  , 1.75  , 0.12  , 0.3802,\n",
       "        0.17  , 0.4783, 0.6797, 1.965 , 1.3   , 0.1993, 0.47  , 0.4497,\n",
       "        0.9   , 0.27  , 0.5929, 0.8754, 0.4   , 0.88  , 1.363 , 0.3519]),\n",
       " array([[154. ,  20. ],\n",
       "        [ 69. ,  19.6],\n",
       "        [140. ,  14. ],\n",
       "        [ 69. ,  12. ],\n",
       "        [177. ,  18. ],\n",
       "        [202. ,  40. ],\n",
       "        [ 68.6,  26.2],\n",
       "        [ 83. ,  13.5],\n",
       "        [ 83. ,   8. ],\n",
       "        [ 80.9,   9. ],\n",
       "        [ 92. ,   8. ],\n",
       "        [186.5,  50.4],\n",
       "        [168. ,  17. ],\n",
       "        [ 75. ,   5. ],\n",
       "        [ 89. ,  49.6],\n",
       "        [ 92.8,  12.9],\n",
       "        [117. ,  23. ],\n",
       "        [ 77. ,  14. ],\n",
       "        [104. ,  13. ],\n",
       "        [125. ,  17. ],\n",
       "        [ 95. ,  17. ],\n",
       "        [ 90. ,  40. ],\n",
       "        [160. ,  33.6],\n",
       "        [ 83. ,  14. ]]))"
      ]
     },
     "execution_count": 8,
     "metadata": {},
     "output_type": "execute_result"
    }
   ],
   "source": [
    "split = 0.8\n",
    "ntrain = int(split * len(X))\n",
    "indx = [ntrain]\n",
    "X_train, X_test = np.split(X, indx)\n",
    "y_train, y_test = np.split(y, indx)\n",
    "X_train, y_train"
   ]
  },
  {
   "cell_type": "code",
   "execution_count": 9,
   "metadata": {},
   "outputs": [],
   "source": [
    "scaler = StandardScaler()\n",
    "# scaler = MinMaxScaler(feature_range=(-1,1))\n",
    "# # # fit scaler on data\n",
    "scaler.fit(X.reshape(-1,1))\n",
    "# # # apply transform\n",
    "X = scaler.transform(X.reshape(-1,1))\n",
    "# X"
   ]
  },
  {
   "cell_type": "code",
   "execution_count": 231,
   "metadata": {},
   "outputs": [],
   "source": [
    "def autoencoder(input_z):\n",
    "    #encoder\n",
    "    #input = 28 x 28 x 1 (wide and thin)\n",
    "    elast = Dense(10, activation='relu', input_shape=(1,))(input_z)\n",
    "    coded = Dense(5, activation='relu')(elast)\n",
    "    #decoder \n",
    "    dlast = Dense(10, activation='relu')(coded)\n",
    "    decoded = Dense(2, activation='relu')(dlast)\n",
    "    \n",
    "    return decoded"
   ]
  },
  {
   "cell_type": "code",
   "execution_count": 232,
   "metadata": {},
   "outputs": [],
   "source": [
    "batch_size = 2\n",
    "epochs = 100\n",
    "input_z = Input(shape = (1,))"
   ]
  },
  {
   "cell_type": "code",
   "execution_count": 233,
   "metadata": {},
   "outputs": [],
   "source": [
    "autoencoder = Model(input_z, autoencoder(input_z))\n",
    "autoencoder.compile(loss='mean_squared_error', optimizer = 'adam')"
   ]
  },
  {
   "cell_type": "code",
   "execution_count": 234,
   "metadata": {},
   "outputs": [
    {
     "name": "stdout",
     "output_type": "stream",
     "text": [
      "_________________________________________________________________\n",
      "Layer (type)                 Output Shape              Param #   \n",
      "=================================================================\n",
      "input_25 (InputLayer)        (None, 1)                 0         \n",
      "_________________________________________________________________\n",
      "dense_177 (Dense)            (None, 10)                20        \n",
      "_________________________________________________________________\n",
      "dense_178 (Dense)            (None, 2)                 22        \n",
      "_________________________________________________________________\n",
      "dense_179 (Dense)            (None, 10)                30        \n",
      "_________________________________________________________________\n",
      "dense_180 (Dense)            (None, 2)                 22        \n",
      "=================================================================\n",
      "Total params: 94\n",
      "Trainable params: 94\n",
      "Non-trainable params: 0\n",
      "_________________________________________________________________\n"
     ]
    }
   ],
   "source": [
    "autoencoder.summary()"
   ]
  },
  {
   "cell_type": "code",
   "execution_count": 235,
   "metadata": {},
   "outputs": [
    {
     "name": "stdout",
     "output_type": "stream",
     "text": [
      "Train on 24 samples, validate on 7 samples\n",
      "Epoch 1/100\n",
      "24/24 [==============================] - 3s 127ms/sample - loss: 7360.5083 - val_loss: 4230.2471\n",
      "Epoch 2/100\n",
      "24/24 [==============================] - 0s 1ms/sample - loss: 7360.5084 - val_loss: 4230.2471\n",
      "Epoch 3/100\n",
      "24/24 [==============================] - 0s 1ms/sample - loss: 7360.5083 - val_loss: 4230.2471\n",
      "Epoch 4/100\n",
      "24/24 [==============================] - 0s 1ms/sample - loss: 7360.5083 - val_loss: 4230.2471\n",
      "Epoch 5/100\n",
      "24/24 [==============================] - 0s 2ms/sample - loss: 7360.5083 - val_loss: 4230.2471\n",
      "Epoch 6/100\n",
      "24/24 [==============================] - 0s 2ms/sample - loss: 7360.5083 - val_loss: 4230.2471\n",
      "Epoch 7/100\n",
      "24/24 [==============================] - 0s 2ms/sample - loss: 7360.5084 - val_loss: 4230.2471\n",
      "Epoch 8/100\n",
      "24/24 [==============================] - 0s 2ms/sample - loss: 7360.5083 - val_loss: 4230.2471\n",
      "Epoch 9/100\n",
      "24/24 [==============================] - 0s 1ms/sample - loss: 7360.5083 - val_loss: 4230.2471\n",
      "Epoch 10/100\n",
      "24/24 [==============================] - 0s 1ms/sample - loss: 7360.5084 - val_loss: 4230.2471\n",
      "Epoch 11/100\n",
      "24/24 [==============================] - 0s 1ms/sample - loss: 7360.5083 - val_loss: 4230.2471\n",
      "Epoch 12/100\n",
      "24/24 [==============================] - 0s 1ms/sample - loss: 7360.5084 - val_loss: 4230.2471\n",
      "Epoch 13/100\n",
      "24/24 [==============================] - 0s 1ms/sample - loss: 7360.5084 - val_loss: 4230.2471\n",
      "Epoch 14/100\n",
      "24/24 [==============================] - 0s 2ms/sample - loss: 7360.5084 - val_loss: 4230.2471\n",
      "Epoch 15/100\n",
      "24/24 [==============================] - 0s 1ms/sample - loss: 7360.5084 - val_loss: 4230.2471\n",
      "Epoch 16/100\n",
      "24/24 [==============================] - 0s 1ms/sample - loss: 7360.5083 - val_loss: 4230.2471\n",
      "Epoch 17/100\n",
      "24/24 [==============================] - 0s 1ms/sample - loss: 7360.5084 - val_loss: 4230.2471\n",
      "Epoch 18/100\n",
      "24/24 [==============================] - 0s 1ms/sample - loss: 7360.5083 - val_loss: 4230.2471\n",
      "Epoch 19/100\n",
      "24/24 [==============================] - 0s 1ms/sample - loss: 7360.5082 - val_loss: 4230.2471\n",
      "Epoch 20/100\n",
      "24/24 [==============================] - 0s 1ms/sample - loss: 7360.5084 - val_loss: 4230.2471\n",
      "Epoch 21/100\n",
      "24/24 [==============================] - 0s 1ms/sample - loss: 7360.5083 - val_loss: 4230.2471\n",
      "Epoch 22/100\n",
      "24/24 [==============================] - 0s 1ms/sample - loss: 7360.5083 - val_loss: 4230.2471\n",
      "Epoch 23/100\n",
      "24/24 [==============================] - 0s 1ms/sample - loss: 7360.5084 - val_loss: 4230.2471\n",
      "Epoch 24/100\n",
      "24/24 [==============================] - 0s 1ms/sample - loss: 7360.5083 - val_loss: 4230.2471\n",
      "Epoch 25/100\n",
      "24/24 [==============================] - 0s 2ms/sample - loss: 7360.5083 - val_loss: 4230.2471\n",
      "Epoch 26/100\n",
      "24/24 [==============================] - 0s 1ms/sample - loss: 7360.5084 - val_loss: 4230.2471\n",
      "Epoch 27/100\n",
      "24/24 [==============================] - 0s 1ms/sample - loss: 7360.5084 - val_loss: 4230.2471\n",
      "Epoch 28/100\n",
      "24/24 [==============================] - 0s 1ms/sample - loss: 7360.5083 - val_loss: 4230.2471\n",
      "Epoch 29/100\n",
      "24/24 [==============================] - 0s 2ms/sample - loss: 7360.5084 - val_loss: 4230.2471\n",
      "Epoch 30/100\n",
      "24/24 [==============================] - 0s 1ms/sample - loss: 7360.5083 - val_loss: 4230.2471\n",
      "Epoch 31/100\n",
      "24/24 [==============================] - 0s 1ms/sample - loss: 7360.5083 - val_loss: 4230.2471\n",
      "Epoch 32/100\n",
      "24/24 [==============================] - 0s 1ms/sample - loss: 7360.5084 - val_loss: 4230.2471\n",
      "Epoch 33/100\n",
      "24/24 [==============================] - 0s 1ms/sample - loss: 7360.5083 - val_loss: 4230.2471\n",
      "Epoch 34/100\n",
      "24/24 [==============================] - 0s 1ms/sample - loss: 7360.5084 - val_loss: 4230.2471\n",
      "Epoch 35/100\n",
      "24/24 [==============================] - 0s 1ms/sample - loss: 7360.5084 - val_loss: 4230.2471\n",
      "Epoch 36/100\n",
      "24/24 [==============================] - 0s 1ms/sample - loss: 7360.5084 - val_loss: 4230.2471\n",
      "Epoch 37/100\n",
      "24/24 [==============================] - 0s 1ms/sample - loss: 7360.5084 - val_loss: 4230.2471\n",
      "Epoch 38/100\n",
      "24/24 [==============================] - 0s 1ms/sample - loss: 7360.5083 - val_loss: 4230.2471\n",
      "Epoch 39/100\n",
      "24/24 [==============================] - 0s 1ms/sample - loss: 7360.5084 - val_loss: 4230.2471\n",
      "Epoch 40/100\n",
      "24/24 [==============================] - 0s 1ms/sample - loss: 7360.5083 - val_loss: 4230.2471\n",
      "Epoch 41/100\n",
      "24/24 [==============================] - 0s 1ms/sample - loss: 7360.5084 - val_loss: 4230.2471\n",
      "Epoch 42/100\n",
      "24/24 [==============================] - 0s 1ms/sample - loss: 7360.5083 - val_loss: 4230.2471\n",
      "Epoch 43/100\n",
      "24/24 [==============================] - 0s 1ms/sample - loss: 7360.5084 - val_loss: 4230.2471\n",
      "Epoch 44/100\n",
      "24/24 [==============================] - 0s 1ms/sample - loss: 7360.5083 - val_loss: 4230.2471\n",
      "Epoch 45/100\n",
      "24/24 [==============================] - 0s 1ms/sample - loss: 7360.5084 - val_loss: 4230.2471\n",
      "Epoch 46/100\n",
      "24/24 [==============================] - 0s 1ms/sample - loss: 7360.5084 - val_loss: 4230.2471\n",
      "Epoch 47/100\n",
      "24/24 [==============================] - 0s 1ms/sample - loss: 7360.5083 - val_loss: 4230.2471\n",
      "Epoch 48/100\n",
      "24/24 [==============================] - 0s 1ms/sample - loss: 7360.5083 - val_loss: 4230.2471\n",
      "Epoch 49/100\n",
      "24/24 [==============================] - 0s 1ms/sample - loss: 7360.5083 - val_loss: 4230.2471\n",
      "Epoch 50/100\n",
      "24/24 [==============================] - 0s 2ms/sample - loss: 7360.5084 - val_loss: 4230.2471\n",
      "Epoch 51/100\n",
      "24/24 [==============================] - 0s 1ms/sample - loss: 7360.5083 - val_loss: 4230.2471\n",
      "Epoch 52/100\n",
      "24/24 [==============================] - 0s 1ms/sample - loss: 7360.5084 - val_loss: 4230.2471\n",
      "Epoch 53/100\n",
      "24/24 [==============================] - 0s 1ms/sample - loss: 7360.5083 - val_loss: 4230.2471\n",
      "Epoch 54/100\n",
      "24/24 [==============================] - 0s 1ms/sample - loss: 7360.5084 - val_loss: 4230.2471\n",
      "Epoch 55/100\n",
      "24/24 [==============================] - 0s 1ms/sample - loss: 7360.5083 - val_loss: 4230.2471\n",
      "Epoch 56/100\n",
      "24/24 [==============================] - 0s 1ms/sample - loss: 7360.5083 - val_loss: 4230.2471\n",
      "Epoch 57/100\n",
      "24/24 [==============================] - 0s 1ms/sample - loss: 7360.5083 - val_loss: 4230.2471\n",
      "Epoch 58/100\n",
      "24/24 [==============================] - 0s 1ms/sample - loss: 7360.5083 - val_loss: 4230.2471\n",
      "Epoch 59/100\n",
      "24/24 [==============================] - 0s 1ms/sample - loss: 7360.5084 - val_loss: 4230.2471\n",
      "Epoch 60/100\n",
      "24/24 [==============================] - 0s 1ms/sample - loss: 7360.5084 - val_loss: 4230.2471\n",
      "Epoch 61/100\n",
      "24/24 [==============================] - 0s 1ms/sample - loss: 7360.5084 - val_loss: 4230.2471\n",
      "Epoch 62/100\n",
      "24/24 [==============================] - 0s 1ms/sample - loss: 7360.5083 - val_loss: 4230.2471\n",
      "Epoch 63/100\n",
      "24/24 [==============================] - 0s 2ms/sample - loss: 7360.5084 - val_loss: 4230.2471\n",
      "Epoch 64/100\n",
      "24/24 [==============================] - 0s 1ms/sample - loss: 7360.5084 - val_loss: 4230.2471\n",
      "Epoch 65/100\n",
      "24/24 [==============================] - 0s 1ms/sample - loss: 7360.5084 - val_loss: 4230.2471\n",
      "Epoch 66/100\n",
      "24/24 [==============================] - 0s 1ms/sample - loss: 7360.5084 - val_loss: 4230.2471\n",
      "Epoch 67/100\n",
      "24/24 [==============================] - 0s 1ms/sample - loss: 7360.5083 - val_loss: 4230.2471\n",
      "Epoch 68/100\n",
      "24/24 [==============================] - 0s 1ms/sample - loss: 7360.5084 - val_loss: 4230.2471\n",
      "Epoch 69/100\n",
      "24/24 [==============================] - 0s 1ms/sample - loss: 7360.5083 - val_loss: 4230.2471\n",
      "Epoch 70/100\n",
      "24/24 [==============================] - 0s 1ms/sample - loss: 7360.5083 - val_loss: 4230.2471\n",
      "Epoch 71/100\n",
      "24/24 [==============================] - 0s 1ms/sample - loss: 7360.5083 - val_loss: 4230.2471\n",
      "Epoch 72/100\n",
      "24/24 [==============================] - 0s 1ms/sample - loss: 7360.5084 - val_loss: 4230.2471\n",
      "Epoch 73/100\n",
      "24/24 [==============================] - 0s 1ms/sample - loss: 7360.5084 - val_loss: 4230.2471\n",
      "Epoch 74/100\n",
      "24/24 [==============================] - 0s 2ms/sample - loss: 7360.5084 - val_loss: 4230.2471\n",
      "Epoch 75/100\n",
      "24/24 [==============================] - 0s 2ms/sample - loss: 7360.5084 - val_loss: 4230.2471\n",
      "Epoch 76/100\n"
     ]
    },
    {
     "name": "stdout",
     "output_type": "stream",
     "text": [
      "24/24 [==============================] - 0s 2ms/sample - loss: 7360.5084 - val_loss: 4230.2471\n",
      "Epoch 77/100\n",
      "24/24 [==============================] - 0s 2ms/sample - loss: 7360.5083 - val_loss: 4230.2471\n",
      "Epoch 78/100\n",
      "24/24 [==============================] - 0s 1ms/sample - loss: 7360.5083 - val_loss: 4230.2471\n",
      "Epoch 79/100\n",
      "24/24 [==============================] - 0s 1ms/sample - loss: 7360.5083 - val_loss: 4230.2471\n",
      "Epoch 80/100\n",
      "24/24 [==============================] - 0s 1ms/sample - loss: 7360.5084 - val_loss: 4230.2471\n",
      "Epoch 81/100\n",
      "24/24 [==============================] - 0s 1ms/sample - loss: 7360.5083 - val_loss: 4230.2471\n",
      "Epoch 82/100\n",
      "24/24 [==============================] - 0s 1ms/sample - loss: 7360.5083 - val_loss: 4230.2471\n",
      "Epoch 83/100\n",
      "24/24 [==============================] - 0s 1ms/sample - loss: 7360.5084 - val_loss: 4230.2471\n",
      "Epoch 84/100\n",
      "24/24 [==============================] - 0s 1ms/sample - loss: 7360.5083 - val_loss: 4230.2471\n",
      "Epoch 85/100\n",
      "24/24 [==============================] - 0s 1ms/sample - loss: 7360.5083 - val_loss: 4230.2471\n",
      "Epoch 86/100\n",
      "24/24 [==============================] - 0s 1ms/sample - loss: 7360.5083 - val_loss: 4230.2471\n",
      "Epoch 87/100\n",
      "24/24 [==============================] - 0s 1ms/sample - loss: 7360.5083 - val_loss: 4230.2471\n",
      "Epoch 88/100\n",
      "24/24 [==============================] - 0s 1ms/sample - loss: 7360.5084 - val_loss: 4230.2471\n",
      "Epoch 89/100\n",
      "24/24 [==============================] - 0s 1ms/sample - loss: 7360.5083 - val_loss: 4230.2471\n",
      "Epoch 90/100\n",
      "24/24 [==============================] - 0s 1ms/sample - loss: 7360.5084 - val_loss: 4230.2471\n",
      "Epoch 91/100\n",
      "24/24 [==============================] - 0s 1ms/sample - loss: 7360.5084 - val_loss: 4230.2471\n",
      "Epoch 92/100\n",
      "24/24 [==============================] - 0s 1ms/sample - loss: 7360.5083 - val_loss: 4230.2471\n",
      "Epoch 93/100\n",
      "24/24 [==============================] - 0s 1ms/sample - loss: 7360.5083 - val_loss: 4230.2471\n",
      "Epoch 94/100\n",
      "24/24 [==============================] - 0s 1ms/sample - loss: 7360.5083 - val_loss: 4230.2471\n",
      "Epoch 95/100\n",
      "24/24 [==============================] - 0s 1ms/sample - loss: 7360.5083 - val_loss: 4230.2471\n",
      "Epoch 96/100\n",
      "24/24 [==============================] - 0s 1ms/sample - loss: 7360.5084 - val_loss: 4230.2471\n",
      "Epoch 97/100\n",
      "24/24 [==============================] - 0s 1ms/sample - loss: 7360.5083 - val_loss: 4230.2471\n",
      "Epoch 98/100\n",
      "24/24 [==============================] - 0s 1ms/sample - loss: 7360.5084 - val_loss: 4230.2471\n",
      "Epoch 99/100\n",
      "24/24 [==============================] - 0s 1ms/sample - loss: 7360.5082 - val_loss: 4230.2471\n",
      "Epoch 100/100\n",
      "24/24 [==============================] - 0s 1ms/sample - loss: 7360.5084 - val_loss: 4230.2471\n"
     ]
    }
   ],
   "source": [
    "autoencoder_train = autoencoder.fit(X_train, y_train, batch_size=batch_size,epochs=epochs,verbose=1,validation_data=(X_test, y_test))"
   ]
  },
  {
   "cell_type": "code",
   "execution_count": 225,
   "metadata": {},
   "outputs": [
    {
     "data": {
      "text/plain": [
       "<matplotlib.legend.Legend at 0x7fa4bdd9ac50>"
      ]
     },
     "execution_count": 225,
     "metadata": {},
     "output_type": "execute_result"
    },
    {
     "data": {
      "image/png": "[encoded data removed]",
      "text/plain": [
       "<Figure size 432x288 with 1 Axes>"
      ]
     },
     "metadata": {
      "needs_background": "light"
     },
     "output_type": "display_data"
    }
   ],
   "source": [
    "plt.plot(autoencoder_train.history['loss'], color='r', )\n",
    "plt.plot(autoencoder_train.history['val_loss'], color='g')\n",
    "plt.title('model loss function')\n",
    "plt.ylabel('loss function')\n",
    "plt.xlabel('epoch')\n",
    "plt.legend(['train', 'val'], loc='upper left')\n",
    "# plt.savefig(\"loss_ae.png\")"
   ]
  },
  {
   "cell_type": "code",
   "execution_count": 226,
   "metadata": {},
   "outputs": [
    {
     "data": {
      "text/plain": [
       "21.886462712394508"
      ]
     },
     "execution_count": 226,
     "metadata": {},
     "output_type": "execute_result"
    }
   ],
   "source": [
    "#uncer net\n",
    "unet = np.sqrt(np.min(autoencoder_train.history['val_loss']))\n",
    "unet"
   ]
  },
  {
   "cell_type": "code",
   "execution_count": 227,
   "metadata": {},
   "outputs": [
    {
     "data": {
      "text/plain": [
       "array([[ 88.55052,   0.     ],\n",
       "       [102.11047,   0.     ],\n",
       "       [116.69708,   0.     ],\n",
       "       [ 99.43237,   0.     ],\n",
       "       [ 98.25557,   0.     ],\n",
       "       [ 87.53837,   0.     ],\n",
       "       [ 92.4248 ,   0.     ]], dtype=float32)"
      ]
     },
     "execution_count": 227,
     "metadata": {},
     "output_type": "execute_result"
    }
   ],
   "source": [
    "pred = autoencoder.predict(X_test)\n",
    "pred"
   ]
  },
  {
   "cell_type": "code",
   "execution_count": 229,
   "metadata": {},
   "outputs": [],
   "source": [
    "r = np.random.uniform(0, 2, size=100)\n",
    "pred_random = autoencoder.predict(r)"
   ]
  },
  {
   "cell_type": "code",
   "execution_count": 230,
   "metadata": {},
   "outputs": [
    {
     "data": {
      "text/plain": [
       "(0.0, 2.0)"
      ]
     },
     "execution_count": 230,
     "metadata": {},
     "output_type": "execute_result"
    },
    {
     "data": {
      "image/png": "[encoded data removed]",
      "text/plain": [
       "<Figure size 432x288 with 1 Axes>"
      ]
     },
     "metadata": {
      "needs_background": "light"
     },
     "output_type": "display_data"
    }
   ],
   "source": [
    "yupp = pred_random[:,0]+pred_random[:,1]\n",
    "ylow = pred_random[:,0]-pred_random[:,1]\n",
    "plt.errorbar(scaler.inverse_transform(X), y[:,0], y[:,1], fmt='g.', markersize=15, label='Observations')\n",
    "plt.errorbar(r, pred_random[:,0], pred_random[:,1], fmt='r.', markersize=5, label='Synthetic', alpha=0.5)\n",
    "plt.xlabel(\"Redshift z\")\n",
    "plt.ylabel(\"$H(z)$\")\n",
    "plt.xlim(0,2)"
   ]
  },
  {
   "cell_type": "code",
   "execution_count": 20,
   "metadata": {},
   "outputs": [],
   "source": [
    "# Cosmological constants\n",
    "Om = 0.27\n",
    "# variance network\n"
   ]
  },
  {
   "cell_type": "code",
   "execution_count": 21,
   "metadata": {},
   "outputs": [],
   "source": [
    "def Hlcdm(z, H0=73.24):\n",
    "    return H0 * np.sqrt(Om*(1+z)**3 + 1 - Om)"
   ]
  },
  {
   "cell_type": "code",
   "execution_count": 22,
   "metadata": {},
   "outputs": [
    {
     "data": {
      "text/plain": [
       "<matplotlib.legend.Legend at 0x7fa54c319b38>"
      ]
     },
     "execution_count": 22,
     "metadata": {},
     "output_type": "execute_result"
    },
    {
     "data": {
      "image/png": "[encoded data removed]",
      "text/plain": [
       "<Figure size 432x288 with 1 Axes>"
      ]
     },
     "metadata": {
      "needs_background": "light"
     },
     "output_type": "display_data"
    }
   ],
   "source": [
    "z = np.linspace(0, 2, 10000)\n",
    "# plt.scatter(data[:, 0], data[:, 1], c='g')\n",
    "yupp = pred_random[:,0]+pred_random[:,1]\n",
    "ylow = pred_random[:,0]-pred_random[:,1]\n",
    "plt.errorbar(scaler.inverse_transform(X), y[:,0], y[:,1], fmt='g.', markersize=10, label='Observations')\n",
    "plt.errorbar(r, pred_random[:,0], pred_random[:,1], fmt='r.', markersize=2., label='Synthetic data with errors', alpha=0.5 )\n",
    "plt.plot(z, Hlcdm(z), label='$\\Lambda CDM$ $H_0 = 73.24$', c='k')\n",
    "plt.plot(z, Hlcdm(z, H0=64.4), label='$\\Lambda CDM$ $H_0 = 64.4$', c='b')\n",
    "plt.xlabel(\"Redshift z\")\n",
    "plt.ylabel(\"$H(z)$\")\n",
    "plt.xlim(0, 2)\n",
    "plt.tight_layout()\n",
    "plt.legend()\n",
    "\n",
    "# plt.savefig(\"SyntheticHD.png\",dpi=800)"
   ]
  },
  {
   "cell_type": "code",
   "execution_count": 23,
   "metadata": {},
   "outputs": [
    {
     "data": {
      "text/plain": [
       "((1000, 2), (1000,))"
      ]
     },
     "execution_count": 23,
     "metadata": {},
     "output_type": "execute_result"
    }
   ],
   "source": [
    "pred_random.shape, r.shape"
   ]
  },
  {
   "cell_type": "code",
   "execution_count": 24,
   "metadata": {},
   "outputs": [],
   "source": [
    "r_red = np.random.uniform(0, 2.0, size=100)\n",
    "pred_red = autoencoder.predict(r_red)\n",
    "\n",
    "mookHz = np.concatenate((r_red.reshape(-1,1), pred_red), axis=1)\n",
    "np.savetxt(\"autoEncoderHz.dat\",mookHz, delimiter=\" \")"
   ]
  },
  {
   "cell_type": "code",
   "execution_count": 25,
   "metadata": {},
   "outputs": [
    {
     "data": {
      "text/plain": [
       "array([0., 0., 0., 0., 0., 0., 0., 0., 0., 0., 0., 0., 0., 0., 0., 0., 0.,\n",
       "       0., 0., 0., 0., 0., 0., 0., 0., 0., 0., 0., 0., 0., 0., 0., 0., 0.,\n",
       "       0., 0., 0., 0., 0., 0., 0., 0., 0., 0., 0., 0., 0., 0., 0., 0., 0.,\n",
       "       0., 0., 0., 0., 0., 0., 0., 0., 0., 0., 0., 0., 0., 0., 0., 0., 0.,\n",
       "       0., 0., 0., 0., 0., 0., 0., 0., 0., 0., 0., 0., 0., 0., 0., 0., 0.,\n",
       "       0., 0., 0., 0., 0., 0., 0., 0., 0., 0., 0., 0., 0., 0., 0.],\n",
       "      dtype=float32)"
      ]
     },
     "execution_count": 25,
     "metadata": {},
     "output_type": "execute_result"
    }
   ],
   "source": [
    "pred_red[:,1]"
   ]
  },
  {
   "cell_type": "code",
   "execution_count": 26,
   "metadata": {},
   "outputs": [
    {
     "data": {
      "text/plain": [
       "array([0., 0., 0., 0., 0., 0., 0., 0., 0., 0., 0., 0., 0., 0., 0., 0., 0.,\n",
       "       0., 0., 0., 0., 0., 0., 0., 0., 0., 0., 0., 0., 0., 0., 0., 0., 0.,\n",
       "       0., 0., 0., 0., 0., 0., 0., 0., 0., 0., 0., 0., 0., 0., 0., 0., 0.,\n",
       "       0., 0., 0., 0., 0., 0., 0., 0., 0., 0., 0., 0., 0., 0., 0., 0., 0.,\n",
       "       0., 0., 0., 0., 0., 0., 0., 0., 0., 0., 0., 0., 0., 0., 0., 0., 0.,\n",
       "       0., 0., 0., 0., 0., 0., 0., 0., 0., 0., 0., 0., 0., 0., 0.],\n",
       "      dtype=float32)"
      ]
     },
     "execution_count": 26,
     "metadata": {},
     "output_type": "execute_result"
    }
   ],
   "source": [
    "error  = pred_red[:,1]**2\n",
    "error"
   ]
  },
  {
   "cell_type": "code",
   "execution_count": 27,
   "metadata": {},
   "outputs": [
    {
     "data": {
      "text/plain": [
       "(100, 100)"
      ]
     },
     "execution_count": 27,
     "metadata": {},
     "output_type": "execute_result"
    }
   ],
   "source": [
    "diagcov = np.diag(error) #inverso\n",
    "np.savetxt(\"autoEncoderHz_cov.dat\", diagcov, delimiter= \" \", header=\"#100 100\")\n",
    "np.shape(diagcov)"
   ]
  },
  {
   "cell_type": "code",
   "execution_count": 28,
   "metadata": {},
   "outputs": [],
   "source": [
    "dir_name = '/home/isidro/SimpleMC/chains/'\n",
    "#/home/isidro/SimpleMC/SimpleMC/chains/mcmc_SN+HD+BBAO+Planck.txt\n",
    "root1 = dir_name+'LCDM_phy_HD_nested_dynesty_multi'\n",
    "root2 = dir_name+'LCDM_phy_HD_nested_dynesty_multi_new'"
   ]
  },
  {
   "cell_type": "code",
   "execution_count": 29,
   "metadata": {},
   "outputs": [],
   "source": [
    "def Hzfunc(z, theta1):\n",
    "    Omega_m, h = theta1\n",
    "    Hz = 100*h*(Omega_m*(1+z)**3 +(1-Omega_m))**0.5\n",
    "    return Hz"
   ]
  },
  {
   "cell_type": "code",
   "execution_count": 30,
   "metadata": {},
   "outputs": [],
   "source": [
    "import numpy\n",
    "import matplotlib.pyplot as plt\n",
    "from fgivenx import plot_contours, samples_from_getdist_chains"
   ]
  },
  {
   "cell_type": "code",
   "execution_count": 31,
   "metadata": {},
   "outputs": [
    {
     "name": "stderr",
     "output_type": "stream",
     "text": [
      "/usr/local/lib/python3.6/dist-packages/getdist/chains.py:1149: FutureWarning: arrays to stack must be passed as a \"sequence\" type such as list or tuple. Support for non-sequence iterables such as generators is deprecated as of NumPy 1.16 and will raise an error in the future.\n",
      "  weights = None if self.chains[0].weights is None else np.hstack((chain.weights for chain in self.chains))\n",
      "/usr/local/lib/python3.6/dist-packages/getdist/chains.py:1150: FutureWarning: arrays to stack must be passed as a \"sequence\" type such as list or tuple. Support for non-sequence iterables such as generators is deprecated as of NumPy 1.16 and will raise an error in the future.\n",
      "  loglikes = None if self.chains[0].loglikes is None else np.hstack((chain.loglikes for chain in self.chains))\n",
      "/usr/local/lib/python3.6/dist-packages/getdist/chains.py:1151: FutureWarning: arrays to stack must be passed as a \"sequence\" type such as list or tuple. Support for non-sequence iterables such as generators is deprecated as of NumPy 1.16 and will raise an error in the future.\n",
      "  self.setSamples(np.vstack((chain.samples for chain in self.chains)), weights, loglikes, min_weight_ratio=-1)\n",
      "WARNING:root:outlier fraction 0.09210526315789473 \n",
      "WARNING:root:outlier fraction 0.18455598455598454 \n"
     ]
    },
    {
     "name": "stdout",
     "output_type": "stream",
     "text": [
      "/home/isidro/SimpleMC/chains/LCDM_phy_HD_nested_dynesty_multi_1.txt\n",
      "Removed no burn in\n",
      "/home/isidro/SimpleMC/chains/LCDM_phy_HD_nested_dynesty_multi_new_1.txt\n",
      "Removed no burn in\n"
     ]
    }
   ],
   "source": [
    "samples, weights = samples_from_getdist_chains(['Om', 'h'], root1)\n",
    "samples2, weights2 = samples_from_getdist_chains(['Om', 'h'], root2)"
   ]
  },
  {
   "cell_type": "code",
   "execution_count": 32,
   "metadata": {},
   "outputs": [
    {
     "data": {
      "application/vnd.jupyter.widget-view+json": {
       "model_id": "78c059526e894d8bb1684a8d0e2e06fc",
       "version_major": 2,
       "version_minor": 0
      },
      "text/plain": [
       "HBox(children=(FloatProgress(value=0.0, max=9.0), HTML(value='')))"
      ]
     },
     "metadata": {},
     "output_type": "display_data"
    },
    {
     "name": "stdout",
     "output_type": "stream",
     "text": [
      "\n"
     ]
    },
    {
     "data": {
      "application/vnd.jupyter.widget-view+json": {
       "model_id": "378848a4bb4746b0a04d611a57c7347d",
       "version_major": 2,
       "version_minor": 0
      },
      "text/plain": [
       "HBox(children=(FloatProgress(value=0.0), HTML(value='')))"
      ]
     },
     "metadata": {},
     "output_type": "display_data"
    },
    {
     "name": "stdout",
     "output_type": "stream",
     "text": [
      "\n"
     ]
    },
    {
     "data": {
      "text/plain": [
       "Text(0.5, 15.0, 'z')"
      ]
     },
     "execution_count": 32,
     "metadata": {},
     "output_type": "execute_result"
    },
    {
     "data": {
      "image/png": "[encoded data removed]",
      "text/plain": [
       "<Figure size 432x288 with 2 Axes>"
      ]
     },
     "metadata": {
      "needs_background": "light"
     },
     "output_type": "display_data"
    }
   ],
   "source": [
    "z = np.linspace(0, 2.2, 100)\n",
    "cbar = plot_contours(Hzfunc, z, samples, weights=weights,\n",
    "                             contour_line_levels=[1,2], linewidths=1,\n",
    "                             colors=plt.get_cmap('summer'))\n",
    "\n",
    "\n",
    "cbar = plt.colorbar(cbar, ticks=[0, 1, 2, 3])\n",
    "        #cbar.set_ticklabels(['', r'$1\\sigma$', r'$2\\sigma$', r'$3\\sigma$'])\n",
    "cbar.set_ticklabels(['', '$1\\sigma$', '$2\\sigma$'])\n",
    "        # plt.xscale('log')\n",
    "    \n",
    "plt.errorbar(scaler.inverse_transform(X), y[:,0], y[:,1], fmt='r.', \n",
    "             markersize=10, label='Observations')\n",
    "# plt.errorbar(r, pred_random[:,0], pred_random[:,1], fmt='r.', markersize=1, label='Synthetic data with errors', alpha=0.005, )\n",
    "\n",
    "plt.tight_layout()\n",
    "# plt.grid()\n",
    "plt.legend(loc=\"upper left\")\n",
    "plt.ylabel('H(z)')\n",
    "plt.xlabel('z')\n"
   ]
  },
  {
   "cell_type": "code",
   "execution_count": 33,
   "metadata": {},
   "outputs": [
    {
     "data": {
      "application/vnd.jupyter.widget-view+json": {
       "model_id": "5a949f84937e4234a8804ec7745e79f5",
       "version_major": 2,
       "version_minor": 0
      },
      "text/plain": [
       "HBox(children=(FloatProgress(value=0.0, max=405.0), HTML(value='')))"
      ]
     },
     "metadata": {},
     "output_type": "display_data"
    },
    {
     "name": "stdout",
     "output_type": "stream",
     "text": [
      "\n"
     ]
    },
    {
     "data": {
      "application/vnd.jupyter.widget-view+json": {
       "model_id": "27e7866b14fd41fe87c489f88adc8c86",
       "version_major": 2,
       "version_minor": 0
      },
      "text/plain": [
       "HBox(children=(FloatProgress(value=0.0), HTML(value='')))"
      ]
     },
     "metadata": {},
     "output_type": "display_data"
    },
    {
     "name": "stdout",
     "output_type": "stream",
     "text": [
      "\n"
     ]
    },
    {
     "data": {
      "text/plain": [
       "Text(0.5, 15.0, 'z')"
      ]
     },
     "execution_count": 33,
     "metadata": {},
     "output_type": "execute_result"
    },
    {
     "data": {
      "image/png": "[encoded data removed]",
      "text/plain": [
       "<Figure size 432x288 with 2 Axes>"
      ]
     },
     "metadata": {
      "needs_background": "light"
     },
     "output_type": "display_data"
    }
   ],
   "source": [
    "cbar2 = plot_contours(Hzfunc, z, samples2, weights=weights2,\n",
    "                             contour_line_levels=[1,2], linewidths=1,\n",
    "                             colors=plt.get_cmap('viridis'), \n",
    "                        rasterize_contours=True, smooth=0.1) \n",
    "\n",
    "cbar2 = plt.colorbar(cbar2, ticks=[0, 1, 2, 3])\n",
    "        #cbar.set_ticklabels(['', r'$1\\sigma$', r'$2\\sigma$', r'$3\\sigma$'])\n",
    "cbar2.set_ticklabels(['', '$1\\sigma$', '$2\\sigma$'])\n",
    "        # plt.xscale('log')\n",
    "    \n",
    "plt.errorbar(r_red[:30], pred_red[:30,0], pred_red[:30,1], fmt='k.', \n",
    "             markersize=10, label='Synthetic observations')\n",
    "# plt.errorbar(r, pred_random[:,0], pred_random[:,1], fmt='r.', markersize=1, label='Synthetic data with errors', alpha=0.005, )\n",
    "\n",
    "plt.tight_layout()\n",
    "# plt.grid()\n",
    "plt.legend(loc=\"upper left\")\n",
    "plt.ylabel('H(z)')\n",
    "plt.xlabel('z')\n"
   ]
  },
  {
   "cell_type": "code",
   "execution_count": 34,
   "metadata": {},
   "outputs": [
    {
     "data": {
      "text/plain": [
       "array([0.97040753, 0.53500337, 1.24137744, 1.08451089, 1.53973521,\n",
       "       0.36514595, 0.19066964, 1.53882172, 0.5345707 , 1.51039813,\n",
       "       0.64672659, 1.31448002, 1.32760789, 1.51761377, 0.39961432,\n",
       "       0.9288907 , 0.20752158, 0.92394692, 0.80482857, 1.94155524])"
      ]
     },
     "execution_count": 34,
     "metadata": {},
     "output_type": "execute_result"
    }
   ],
   "source": [
    "r_red[:20]"
   ]
  },
  {
   "cell_type": "code",
   "execution_count": null,
   "metadata": {},
   "outputs": [],
   "source": []
  }
 ],
 "metadata": {
  "kernelspec": {
   "display_name": "Python 3",
   "language": "python",
   "name": "python3"
  },
  "language_info": {
   "codemirror_mode": {
    "name": "ipython",
    "version": 3
   },
   "file_extension": ".py",
   "mimetype": "text/x-python",
   "name": "python",
   "nbconvert_exporter": "python",
   "pygments_lexer": "ipython3",
   "version": "3.6.9"
  }
 },
 "nbformat": 4,
 "nbformat_minor": 2
}
