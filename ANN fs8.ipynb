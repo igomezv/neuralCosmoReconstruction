{
 "cells": [
  {
   "cell_type": "code",
   "execution_count": 1,
   "metadata": {},
   "outputs": [],
   "source": [
    "import os\n",
    "os.environ[\"CUDA_DEVICE_ORDER\"]=\"PCI_BUS_ID\"\n",
    "os.environ[\"CUDA_VISIBLE_DEVICES\"]=\"1\" #model will be trained on GPU 1"
   ]
  },
  {
   "cell_type": "code",
   "execution_count": 2,
   "metadata": {},
   "outputs": [],
   "source": [
    "import tensorflow.keras\n",
    "import tensorflow as tf\n",
    "from matplotlib import pyplot as plt\n",
    "import numpy as np\n",
    "import gzip\n",
    "%matplotlib inline\n",
    "from tensorflow.keras.layers import Input,Conv2D,MaxPooling2D,UpSampling2D, Dense\n",
    "from tensorflow.keras.models import Model\n",
    "from tensorflow.keras.optimizers import RMSprop\n",
    "import pandas as pd\n",
    "from sklearn.preprocessing import StandardScaler, MinMaxScaler\n",
    "from tensorflow.keras.optimizers import Adam\n",
    "from tensorflow.keras.initializers import Constant, RandomNormal\n",
    "import seaborn as sns\n",
    "from scipy.misc import derivative\n",
    "import scipy.integrate as intg\n"
   ]
  },
  {
   "cell_type": "code",
   "execution_count": 3,
   "metadata": {},
   "outputs": [
    {
     "data": {
      "text/html": [
       "<div>\n",
       "<style scoped>\n",
       "    .dataframe tbody tr th:only-of-type {\n",
       "        vertical-align: middle;\n",
       "    }\n",
       "\n",
       "    .dataframe tbody tr th {\n",
       "        vertical-align: top;\n",
       "    }\n",
       "\n",
       "    .dataframe thead th {\n",
       "        text-align: right;\n",
       "    }\n",
       "</style>\n",
       "<table border=\"1\" class=\"dataframe\">\n",
       "  <thead>\n",
       "    <tr style=\"text-align: right;\">\n",
       "      <th></th>\n",
       "      <th>z</th>\n",
       "      <th>$f\\sigma_8$</th>\n",
       "      <th>err</th>\n",
       "    </tr>\n",
       "  </thead>\n",
       "  <tbody>\n",
       "    <tr>\n",
       "      <th>0</th>\n",
       "      <td>0.020</td>\n",
       "      <td>0.4280</td>\n",
       "      <td>0.0465</td>\n",
       "    </tr>\n",
       "    <tr>\n",
       "      <th>1</th>\n",
       "      <td>0.020</td>\n",
       "      <td>0.3980</td>\n",
       "      <td>0.0650</td>\n",
       "    </tr>\n",
       "    <tr>\n",
       "      <th>2</th>\n",
       "      <td>0.020</td>\n",
       "      <td>0.3140</td>\n",
       "      <td>0.0480</td>\n",
       "    </tr>\n",
       "    <tr>\n",
       "      <th>3</th>\n",
       "      <td>0.100</td>\n",
       "      <td>0.3700</td>\n",
       "      <td>0.1300</td>\n",
       "    </tr>\n",
       "    <tr>\n",
       "      <th>4</th>\n",
       "      <td>0.150</td>\n",
       "      <td>0.4900</td>\n",
       "      <td>0.1450</td>\n",
       "    </tr>\n",
       "    <tr>\n",
       "      <th>5</th>\n",
       "      <td>0.170</td>\n",
       "      <td>0.5100</td>\n",
       "      <td>0.0600</td>\n",
       "    </tr>\n",
       "    <tr>\n",
       "      <th>6</th>\n",
       "      <td>0.180</td>\n",
       "      <td>0.3600</td>\n",
       "      <td>0.0900</td>\n",
       "    </tr>\n",
       "    <tr>\n",
       "      <th>7</th>\n",
       "      <td>0.380</td>\n",
       "      <td>0.4400</td>\n",
       "      <td>0.0600</td>\n",
       "    </tr>\n",
       "    <tr>\n",
       "      <th>8</th>\n",
       "      <td>0.250</td>\n",
       "      <td>0.3512</td>\n",
       "      <td>0.0583</td>\n",
       "    </tr>\n",
       "    <tr>\n",
       "      <th>9</th>\n",
       "      <td>0.370</td>\n",
       "      <td>0.4602</td>\n",
       "      <td>0.0378</td>\n",
       "    </tr>\n",
       "    <tr>\n",
       "      <th>10</th>\n",
       "      <td>0.320</td>\n",
       "      <td>0.3840</td>\n",
       "      <td>0.0950</td>\n",
       "    </tr>\n",
       "    <tr>\n",
       "      <th>11</th>\n",
       "      <td>0.590</td>\n",
       "      <td>0.4880</td>\n",
       "      <td>0.0600</td>\n",
       "    </tr>\n",
       "    <tr>\n",
       "      <th>12</th>\n",
       "      <td>0.440</td>\n",
       "      <td>0.4130</td>\n",
       "      <td>0.0800</td>\n",
       "    </tr>\n",
       "    <tr>\n",
       "      <th>13</th>\n",
       "      <td>0.600</td>\n",
       "      <td>0.3900</td>\n",
       "      <td>0.0630</td>\n",
       "    </tr>\n",
       "    <tr>\n",
       "      <th>14</th>\n",
       "      <td>0.730</td>\n",
       "      <td>0.4370</td>\n",
       "      <td>0.0720</td>\n",
       "    </tr>\n",
       "    <tr>\n",
       "      <th>15</th>\n",
       "      <td>0.600</td>\n",
       "      <td>0.5500</td>\n",
       "      <td>0.1200</td>\n",
       "    </tr>\n",
       "    <tr>\n",
       "      <th>16</th>\n",
       "      <td>0.860</td>\n",
       "      <td>0.4000</td>\n",
       "      <td>0.1100</td>\n",
       "    </tr>\n",
       "    <tr>\n",
       "      <th>17</th>\n",
       "      <td>1.400</td>\n",
       "      <td>0.4820</td>\n",
       "      <td>0.1160</td>\n",
       "    </tr>\n",
       "    <tr>\n",
       "      <th>18</th>\n",
       "      <td>0.978</td>\n",
       "      <td>0.3790</td>\n",
       "      <td>0.1760</td>\n",
       "    </tr>\n",
       "    <tr>\n",
       "      <th>19</th>\n",
       "      <td>1.230</td>\n",
       "      <td>0.3850</td>\n",
       "      <td>0.0990</td>\n",
       "    </tr>\n",
       "    <tr>\n",
       "      <th>20</th>\n",
       "      <td>1.526</td>\n",
       "      <td>0.3420</td>\n",
       "      <td>0.0700</td>\n",
       "    </tr>\n",
       "    <tr>\n",
       "      <th>21</th>\n",
       "      <td>1.944</td>\n",
       "      <td>0.3640</td>\n",
       "      <td>0.1060</td>\n",
       "    </tr>\n",
       "  </tbody>\n",
       "</table>\n",
       "</div>"
      ],
      "text/plain": [
       "        z  $f\\sigma_8$     err\n",
       "0   0.020       0.4280  0.0465\n",
       "1   0.020       0.3980  0.0650\n",
       "2   0.020       0.3140  0.0480\n",
       "3   0.100       0.3700  0.1300\n",
       "4   0.150       0.4900  0.1450\n",
       "5   0.170       0.5100  0.0600\n",
       "6   0.180       0.3600  0.0900\n",
       "7   0.380       0.4400  0.0600\n",
       "8   0.250       0.3512  0.0583\n",
       "9   0.370       0.4602  0.0378\n",
       "10  0.320       0.3840  0.0950\n",
       "11  0.590       0.4880  0.0600\n",
       "12  0.440       0.4130  0.0800\n",
       "13  0.600       0.3900  0.0630\n",
       "14  0.730       0.4370  0.0720\n",
       "15  0.600       0.5500  0.1200\n",
       "16  0.860       0.4000  0.1100\n",
       "17  1.400       0.4820  0.1160\n",
       "18  0.978       0.3790  0.1760\n",
       "19  1.230       0.3850  0.0990\n",
       "20  1.526       0.3420  0.0700\n",
       "21  1.944       0.3640  0.1060"
      ]
     },
     "execution_count": 3,
     "metadata": {},
     "output_type": "execute_result"
    }
   ],
   "source": [
    "file = 'data/fs8Diagram.txt'\n",
    "data = pd.read_csv(file, names=['z', '$f\\sigma_8$', 'err', '$\\Omega_ref$'], sep = \"\\t\", skiprows=3)\n",
    "data = data[['z', '$f\\sigma_8$', 'err']]\n",
    "# data.describe()\n",
    "data"
   ]
  },
  {
   "cell_type": "code",
   "execution_count": 4,
   "metadata": {},
   "outputs": [
    {
     "data": {
      "image/png": "[encoded data removed]",
      "text/plain": [
       "<Figure size 540x540 with 12 Axes>"
      ]
     },
     "metadata": {
      "needs_background": "light"
     },
     "output_type": "display_data"
    }
   ],
   "source": [
    "sns.pairplot(data, diag_kind=\"kde\")\n",
    "plt.savefig(\"Distfs8.png\")"
   ]
  },
  {
   "cell_type": "code",
   "execution_count": 5,
   "metadata": {},
   "outputs": [
    {
     "data": {
      "text/plain": [
       "array([ 0,  2,  4,  6,  8, 10, 12, 14, 16, 18, 20,  1,  3,  5,  7,  9, 11,\n",
       "       13, 15, 17, 19, 21])"
      ]
     },
     "execution_count": 5,
     "metadata": {},
     "output_type": "execute_result"
    }
   ],
   "source": [
    "# a= np.array([12,4,2,7,14,11,20,16,9,19,5,17,1,15,10,8,18,21,0,13,3,6])\n",
    "a = np.array([21,1,3,10,12,17,8,4,7,16, 2,11,19,13,18,5,9,20,15,14,6,0])\n",
    "even = [x for x in range(len(data.values)) if x%2 ==0]\n",
    "odd = [x for x in range(len(data.values)) if x%2 ==1]\n",
    "even.extend(odd)\n",
    "order = np.array(even)\n",
    "# randomize = np.random.permutation(len(data.values))\n",
    "data = data.values[order]\n",
    "# array([17, 10,  1, 19, 12,  8, 14, 18,  4,  3,  6,  9, 21, 16,  2, 15,  0,\n",
    "#        20,  7,  5, 11, 13])\n",
    "# array([ 1, 15, 12, 20, 21,  3, 18, 13,  7, 19,  9,  8, 14,  6, 11,  4,  0,\n",
    "#         5,  2, 10, 16, 17])\n",
    "order"
   ]
  },
  {
   "cell_type": "markdown",
   "metadata": {},
   "source": [
    "Read the data for cosmic chronometers"
   ]
  },
  {
   "cell_type": "code",
   "execution_count": 6,
   "metadata": {},
   "outputs": [],
   "source": [
    "z = data[:,0]\n",
    "y = data[:,1:]\n",
    "# print(randomize)"
   ]
  },
  {
   "cell_type": "code",
   "execution_count": 7,
   "metadata": {},
   "outputs": [],
   "source": [
    "scalerz = StandardScaler()\n",
    "# scalerz = MinMaxScaler(feature_range=(-1,1))\n",
    "# fit scaler on data\n",
    "scalerz.fit(z.reshape(-1,1))\n",
    "# apply transform\n",
    "z = scalerz.transform(z.reshape(-1,1))\n",
    "\n",
    "# scalery = MinMaxScaler(feature_range=(0,1))\n",
    "# scalery = StandardScaler()\n",
    "# scalery.fit(y)\n",
    "# y = scalery.transform(y)"
   ]
  },
  {
   "cell_type": "code",
   "execution_count": 8,
   "metadata": {},
   "outputs": [],
   "source": [
    "split = 0.8\n",
    "ntrain = int(split * len(z))\n",
    "indx = [ntrain]\n",
    "z_train, z_test = np.split(z, indx)\n",
    "y_train, y_test = np.split(y, indx)"
   ]
  },
  {
   "cell_type": "code",
   "execution_count": 9,
   "metadata": {},
   "outputs": [],
   "source": [
    "callbacks = [tf.keras.callbacks.EarlyStopping(monitor='val_loss', mode='min',\n",
    "                                   min_delta=0.001,\n",
    "                                   patience=50,\n",
    "                                   restore_best_weights=True)]\n",
    "#                      tf.keras.callbacks.ReduceLROnPlateau(patience=10)]\n",
    "# initializer = Constant(value=0.01)\n",
    "# initializer = RandomNormal()\n",
    "initializer =tf.keras.initializers.RandomNormal"
   ]
  },
  {
   "cell_type": "code",
   "execution_count": 10,
   "metadata": {},
   "outputs": [
    {
     "name": "stdout",
     "output_type": "stream",
     "text": [
      "Model: \"functional_1\"\n",
      "_________________________________________________________________\n",
      "Layer (type)                 Output Shape              Param #   \n",
      "=================================================================\n",
      "input_1 (InputLayer)         [(None, 1)]               0         \n",
      "_________________________________________________________________\n",
      "dense (Dense)                (None, 100)               200       \n",
      "_________________________________________________________________\n",
      "dense_1 (Dense)              (None, 50)                5050      \n",
      "_________________________________________________________________\n",
      "dense_2 (Dense)              (None, 50)                2550      \n",
      "_________________________________________________________________\n",
      "dense_3 (Dense)              (None, 2)                 102       \n",
      "=================================================================\n",
      "Total params: 7,902\n",
      "Trainable params: 7,902\n",
      "Non-trainable params: 0\n",
      "_________________________________________________________________\n"
     ]
    }
   ],
   "source": [
    "def model(input_z):\n",
    "    efirst = Dense(100, activation='relu', input_shape=(1,))(input_z)\n",
    "    ehidden = Dense(50, activation='relu')(efirst)\n",
    "    ehidden2 = Dense(50, activation='relu')(ehidden)\n",
    "    elast = Dense(2, activation='relu')(ehidden2)\n",
    "    return elast\n",
    "\n",
    "batch_size = 4\n",
    "epochs = 500\n",
    "input_z = Input(shape = (1,))\n",
    "neural_model = Model(input_z, model(input_z))\n",
    "neural_model.compile(loss='mean_squared_error', optimizer = \"adam\")\n",
    "neural_model.summary()"
   ]
  },
  {
   "cell_type": "code",
   "execution_count": 11,
   "metadata": {},
   "outputs": [],
   "source": [
    "# batch_size = 4\n",
    "batch_size = 4\n",
    "epochs = 100\n",
    "input_z = Input(shape = (1,))"
   ]
  },
  {
   "cell_type": "code",
   "execution_count": 12,
   "metadata": {},
   "outputs": [],
   "source": [
    "# autoencoder = Model(input_z, autoencoder(input_z))\n",
    "# autoencoder.compile(loss='mean_squared_error', optimizer = \"adam\")\n",
    "# autoencoder.summary()"
   ]
  },
  {
   "cell_type": "code",
   "execution_count": 13,
   "metadata": {},
   "outputs": [
    {
     "name": "stdout",
     "output_type": "stream",
     "text": [
      "Epoch 1/100\n",
      "5/5 [==============================] - 0s 21ms/step - loss: 0.0808 - val_loss: 0.0533\n",
      "Epoch 2/100\n",
      "5/5 [==============================] - 0s 3ms/step - loss: 0.0561 - val_loss: 0.0693\n",
      "Epoch 3/100\n",
      "5/5 [==============================] - 0s 3ms/step - loss: 0.0346 - val_loss: 0.0624\n",
      "Epoch 4/100\n",
      "5/5 [==============================] - 0s 3ms/step - loss: 0.0206 - val_loss: 0.0494\n",
      "Epoch 5/100\n",
      "5/5 [==============================] - 0s 3ms/step - loss: 0.0124 - val_loss: 0.0363\n",
      "Epoch 6/100\n",
      "5/5 [==============================] - 0s 4ms/step - loss: 0.0122 - val_loss: 0.0213\n",
      "Epoch 7/100\n",
      "5/5 [==============================] - 0s 3ms/step - loss: 0.0097 - val_loss: 0.0145\n",
      "Epoch 8/100\n",
      "5/5 [==============================] - 0s 3ms/step - loss: 0.0088 - val_loss: 0.0179\n",
      "Epoch 9/100\n",
      "5/5 [==============================] - 0s 3ms/step - loss: 0.0082 - val_loss: 0.0162\n",
      "Epoch 10/100\n",
      "5/5 [==============================] - 0s 3ms/step - loss: 0.0066 - val_loss: 0.0113\n",
      "Epoch 11/100\n",
      "5/5 [==============================] - 0s 3ms/step - loss: 0.0053 - val_loss: 0.0084\n",
      "Epoch 12/100\n",
      "5/5 [==============================] - 0s 4ms/step - loss: 0.0046 - val_loss: 0.0059\n",
      "Epoch 13/100\n",
      "5/5 [==============================] - 0s 3ms/step - loss: 0.0038 - val_loss: 0.0044\n",
      "Epoch 14/100\n",
      "5/5 [==============================] - 0s 4ms/step - loss: 0.0031 - val_loss: 0.0042\n",
      "Epoch 15/100\n",
      "5/5 [==============================] - 0s 3ms/step - loss: 0.0028 - val_loss: 0.0057\n",
      "Epoch 16/100\n",
      "5/5 [==============================] - 0s 4ms/step - loss: 0.0025 - val_loss: 0.0057\n",
      "Epoch 17/100\n",
      "5/5 [==============================] - 0s 3ms/step - loss: 0.0024 - val_loss: 0.0046\n",
      "Epoch 18/100\n",
      "5/5 [==============================] - 0s 3ms/step - loss: 0.0023 - val_loss: 0.0036\n",
      "Epoch 19/100\n",
      "5/5 [==============================] - 0s 3ms/step - loss: 0.0021 - val_loss: 0.0043\n",
      "Epoch 20/100\n",
      "5/5 [==============================] - 0s 3ms/step - loss: 0.0020 - val_loss: 0.0045\n",
      "Epoch 21/100\n",
      "5/5 [==============================] - 0s 4ms/step - loss: 0.0021 - val_loss: 0.0041\n",
      "Epoch 22/100\n",
      "5/5 [==============================] - 0s 4ms/step - loss: 0.0021 - val_loss: 0.0041\n",
      "Epoch 23/100\n",
      "5/5 [==============================] - 0s 3ms/step - loss: 0.0019 - val_loss: 0.0040\n",
      "Epoch 24/100\n",
      "5/5 [==============================] - 0s 4ms/step - loss: 0.0019 - val_loss: 0.0037\n",
      "Epoch 25/100\n",
      "5/5 [==============================] - 0s 4ms/step - loss: 0.0018 - val_loss: 0.0036\n",
      "Epoch 26/100\n",
      "5/5 [==============================] - 0s 4ms/step - loss: 0.0023 - val_loss: 0.0041\n",
      "Epoch 27/100\n",
      "5/5 [==============================] - 0s 3ms/step - loss: 0.0024 - val_loss: 0.0053\n",
      "Epoch 28/100\n",
      "5/5 [==============================] - 0s 4ms/step - loss: 0.0024 - val_loss: 0.0035\n",
      "Epoch 29/100\n",
      "5/5 [==============================] - 0s 4ms/step - loss: 0.0020 - val_loss: 0.0030\n",
      "Epoch 30/100\n",
      "5/5 [==============================] - 0s 3ms/step - loss: 0.0019 - val_loss: 0.0039\n",
      "Epoch 31/100\n",
      "5/5 [==============================] - 0s 3ms/step - loss: 0.0018 - val_loss: 0.0051\n",
      "Epoch 32/100\n",
      "5/5 [==============================] - 0s 3ms/step - loss: 0.0019 - val_loss: 0.0044\n",
      "Epoch 33/100\n",
      "5/5 [==============================] - 0s 3ms/step - loss: 0.0018 - val_loss: 0.0036\n",
      "Epoch 34/100\n",
      "5/5 [==============================] - 0s 4ms/step - loss: 0.0018 - val_loss: 0.0040\n",
      "Epoch 35/100\n",
      "5/5 [==============================] - 0s 4ms/step - loss: 0.0017 - val_loss: 0.0041\n",
      "Epoch 36/100\n",
      "5/5 [==============================] - 0s 3ms/step - loss: 0.0018 - val_loss: 0.0037\n",
      "Epoch 37/100\n",
      "5/5 [==============================] - 0s 3ms/step - loss: 0.0017 - val_loss: 0.0033\n",
      "Epoch 38/100\n",
      "5/5 [==============================] - 0s 3ms/step - loss: 0.0017 - val_loss: 0.0037\n",
      "Epoch 39/100\n",
      "5/5 [==============================] - 0s 3ms/step - loss: 0.0017 - val_loss: 0.0040\n",
      "Epoch 40/100\n",
      "5/5 [==============================] - 0s 3ms/step - loss: 0.0016 - val_loss: 0.0037\n",
      "Epoch 41/100\n",
      "5/5 [==============================] - 0s 4ms/step - loss: 0.0017 - val_loss: 0.0037\n",
      "Epoch 42/100\n",
      "5/5 [==============================] - 0s 3ms/step - loss: 0.0018 - val_loss: 0.0039\n",
      "Epoch 43/100\n",
      "5/5 [==============================] - 0s 3ms/step - loss: 0.0017 - val_loss: 0.0033\n",
      "Epoch 44/100\n",
      "5/5 [==============================] - 0s 3ms/step - loss: 0.0020 - val_loss: 0.0033\n",
      "Epoch 45/100\n",
      "5/5 [==============================] - 0s 4ms/step - loss: 0.0016 - val_loss: 0.0042\n",
      "Epoch 46/100\n",
      "5/5 [==============================] - 0s 4ms/step - loss: 0.0017 - val_loss: 0.0043\n",
      "Epoch 47/100\n",
      "5/5 [==============================] - 0s 3ms/step - loss: 0.0019 - val_loss: 0.0036\n",
      "Epoch 48/100\n",
      "5/5 [==============================] - 0s 4ms/step - loss: 0.0017 - val_loss: 0.0054\n",
      "Epoch 49/100\n",
      "5/5 [==============================] - 0s 3ms/step - loss: 0.0018 - val_loss: 0.0063\n",
      "Epoch 50/100\n",
      "5/5 [==============================] - 0s 3ms/step - loss: 0.0017 - val_loss: 0.0041\n",
      "Epoch 51/100\n",
      "5/5 [==============================] - 0s 3ms/step - loss: 0.0020 - val_loss: 0.0031\n",
      "Epoch 52/100\n",
      "5/5 [==============================] - 0s 3ms/step - loss: 0.0020 - val_loss: 0.0030\n",
      "Epoch 53/100\n",
      "5/5 [==============================] - 0s 3ms/step - loss: 0.0016 - val_loss: 0.0038\n",
      "Epoch 54/100\n",
      "5/5 [==============================] - 0s 4ms/step - loss: 0.0016 - val_loss: 0.0048\n",
      "Epoch 55/100\n",
      "5/5 [==============================] - 0s 4ms/step - loss: 0.0020 - val_loss: 0.0045\n",
      "Epoch 56/100\n",
      "5/5 [==============================] - 0s 3ms/step - loss: 0.0016 - val_loss: 0.0046\n",
      "Epoch 57/100\n",
      "5/5 [==============================] - 0s 3ms/step - loss: 0.0020 - val_loss: 0.0032\n",
      "Epoch 58/100\n",
      "5/5 [==============================] - 0s 3ms/step - loss: 0.0017 - val_loss: 0.0031\n",
      "Epoch 59/100\n",
      "5/5 [==============================] - 0s 3ms/step - loss: 0.0017 - val_loss: 0.0042\n",
      "Epoch 60/100\n",
      "5/5 [==============================] - 0s 3ms/step - loss: 0.0017 - val_loss: 0.0052\n",
      "Epoch 61/100\n",
      "5/5 [==============================] - 0s 3ms/step - loss: 0.0016 - val_loss: 0.0042\n",
      "Epoch 62/100\n",
      "5/5 [==============================] - 0s 3ms/step - loss: 0.0016 - val_loss: 0.0029\n",
      "Epoch 63/100\n",
      "5/5 [==============================] - 0s 3ms/step - loss: 0.0017 - val_loss: 0.0031\n",
      "Epoch 64/100\n",
      "5/5 [==============================] - 0s 3ms/step - loss: 0.0016 - val_loss: 0.0036\n",
      "Epoch 65/100\n",
      "5/5 [==============================] - 0s 3ms/step - loss: 0.0015 - val_loss: 0.0043\n",
      "Epoch 66/100\n",
      "5/5 [==============================] - 0s 3ms/step - loss: 0.0016 - val_loss: 0.0044\n",
      "Epoch 67/100\n",
      "5/5 [==============================] - 0s 3ms/step - loss: 0.0017 - val_loss: 0.0046\n",
      "Epoch 68/100\n",
      "5/5 [==============================] - 0s 3ms/step - loss: 0.0016 - val_loss: 0.0040\n",
      "Epoch 69/100\n",
      "5/5 [==============================] - 0s 3ms/step - loss: 0.0020 - val_loss: 0.0028\n",
      "Epoch 70/100\n",
      "5/5 [==============================] - 0s 3ms/step - loss: 0.0023 - val_loss: 0.0030\n",
      "Epoch 71/100\n",
      "5/5 [==============================] - 0s 3ms/step - loss: 0.0018 - val_loss: 0.0066\n",
      "Epoch 72/100\n",
      "5/5 [==============================] - 0s 3ms/step - loss: 0.0016 - val_loss: 0.0057\n",
      "Epoch 73/100\n",
      "5/5 [==============================] - 0s 3ms/step - loss: 0.0017 - val_loss: 0.0037\n",
      "Epoch 74/100\n",
      "5/5 [==============================] - 0s 3ms/step - loss: 0.0016 - val_loss: 0.0025\n",
      "Epoch 75/100\n",
      "5/5 [==============================] - 0s 3ms/step - loss: 0.0018 - val_loss: 0.0037\n",
      "Epoch 76/100\n",
      "5/5 [==============================] - 0s 3ms/step - loss: 0.0015 - val_loss: 0.0052\n",
      "Epoch 77/100\n",
      "5/5 [==============================] - 0s 3ms/step - loss: 0.0016 - val_loss: 0.0041\n",
      "Epoch 78/100\n",
      "5/5 [==============================] - 0s 3ms/step - loss: 0.0015 - val_loss: 0.0032\n",
      "Epoch 79/100\n",
      "5/5 [==============================] - 0s 3ms/step - loss: 0.0015 - val_loss: 0.0037\n"
     ]
    }
   ],
   "source": [
    "model_train = neural_model.fit(z_train, y_train, batch_size=batch_size,\n",
    "                                    epochs=epochs,verbose=1,\n",
    "                                    validation_data=(z_test, y_test),\n",
    "                                    callbacks=callbacks)"
   ]
  },
  {
   "cell_type": "code",
   "execution_count": 14,
   "metadata": {},
   "outputs": [
    {
     "data": {
      "image/png": "[encoded data removed]",
      "text/plain": [
       "<Figure size 432x288 with 1 Axes>"
      ]
     },
     "metadata": {
      "needs_background": "light"
     },
     "output_type": "display_data"
    }
   ],
   "source": [
    "plt.plot(model_train.history['loss'], color='r', )\n",
    "plt.plot(model_train.history['val_loss'], color='g')\n",
    "plt.ylabel('MSE')\n",
    "plt.xlabel('Epoch')\n",
    "plt.legend(['train', 'val'], loc='upper left')\n",
    "plt.savefig(\"loss_fs83.png\", dpi=200)\n"
   ]
  },
  {
   "cell_type": "code",
   "execution_count": 15,
   "metadata": {},
   "outputs": [
    {
     "data": {
      "text/plain": [
       "(0.0025415148120373483, 0.0015127755468711257)"
      ]
     },
     "execution_count": 15,
     "metadata": {},
     "output_type": "execute_result"
    }
   ],
   "source": [
    "#uncer net\n",
    "unet = np.sqrt(np.min(model_train.history['val_loss']))\n",
    "unet**2, np.min(model_train.history['loss'])\n"
   ]
  },
  {
   "cell_type": "code",
   "execution_count": 16,
   "metadata": {},
   "outputs": [
    {
     "data": {
      "text/plain": [
       "array([[0.47531217, 0.10343094],\n",
       "       [0.47531217, 0.10343094],\n",
       "       [0.36712834, 0.11292843],\n",
       "       [0.38229588, 0.1138216 ],\n",
       "       [0.32484293, 0.11262733]], dtype=float32)"
      ]
     },
     "execution_count": 16,
     "metadata": {},
     "output_type": "execute_result"
    }
   ],
   "source": [
    "pred = neural_model.predict(z_test)\n",
    "pred"
   ]
  },
  {
   "cell_type": "code",
   "execution_count": 17,
   "metadata": {},
   "outputs": [],
   "source": [
    "#zor and yor are the original velues for z and [Hz, err]\n",
    "zor = scalerz.inverse_transform(z.reshape(-1,1))\n",
    "# yor = scalery.inverse_transform(y)"
   ]
  },
  {
   "cell_type": "code",
   "execution_count": 18,
   "metadata": {},
   "outputs": [],
   "source": [
    "ranz = np.random.uniform(0, 2, size=10000)\n",
    "r = scalerz.transform(ranz.reshape(-1, 1))\n",
    "pred_random = neural_model.predict(r)\n",
    "rr = scalerz.inverse_transform(r.reshape(-1,1))\n",
    "# predy = scalery.inverse_transform(pred_random)\n"
   ]
  },
  {
   "cell_type": "code",
   "execution_count": 19,
   "metadata": {},
   "outputs": [
    {
     "data": {
      "image/png": "[encoded data removed]",
      "text/plain": [
       "<Figure size 432x288 with 1 Axes>"
      ]
     },
     "metadata": {
      "needs_background": "light"
     },
     "output_type": "display_data"
    }
   ],
   "source": [
    "# plt.errorbar(zor, yor[:,0], yor[:,1], fmt='g.', markersize=15, label='Observations', alpha=0.5)\n",
    "# plt.errorbar(rr, predy[:,0], predy[:,1], fmt='r.', markersize=5, label='Synthetic', alpha=0.01)\n",
    "plt.errorbar(zor, y[:,0], y[:,1], fmt='g.', markersize=15, label='Observations', alpha=0.5)\n",
    "plt.errorbar(rr, pred_random[:,0], pred_random[:,1], fmt='r.', markersize=5, label='Synthetic', alpha=0.01)\n",
    "plt.xlabel(\"Redshift z\")\n",
    "plt.ylabel(\"$f\\sigma_8(z)$\")\n",
    "plt.xlim(0, 2)\n",
    "plt.tight_layout()\n",
    "plt.legend()\n",
    "plt.savefig(\"synthetic_fs83.png\")"
   ]
  },
  {
   "cell_type": "code",
   "execution_count": 20,
   "metadata": {},
   "outputs": [],
   "source": [
    "# Cosmological constants\n",
    "Om = 0.27\n",
    "# variance network\n",
    "s8 = 0.8"
   ]
  },
  {
   "cell_type": "code",
   "execution_count": 21,
   "metadata": {},
   "outputs": [],
   "source": [
    "def Ezlcdm(a):\n",
    "    return np.sqrt(Om*(1/a)**3 + 1 - Om)\n",
    "\n",
    "\n",
    "# returns the growth factor as a function of redshift\n",
    "def GrowthIntegrand_a(a):\n",
    "    return 1./(self.RHSquared_a(a)*a*a)**(1.5)\n",
    "\n",
    "\n",
    "def growth(z):\n",
    "    # Equation 7.77 from Doddie\n",
    "    af = 1/(1.+z)\n",
    "    r = intg.quad(GrowthIntegrand_a, 1e-7, af)\n",
    "    gr = sp.sqrt(Ezlcdm(af))*r[0]  # assume precision is ok\n",
    "    # If we have Omega_m, let's normalize that way\n",
    "    gr *= 5/2.*Om\n",
    "    return gr\n",
    "\n",
    "\n",
    "def fs8(z):\n",
    "    return -s8*(1+z)*derivative(growth, z, dx=1e-6)/growth(0)"
   ]
  },
  {
   "cell_type": "code",
   "execution_count": 22,
   "metadata": {},
   "outputs": [],
   "source": [
    "# z = np.linspace(0, 2, 10000)\n",
    "# plt.errorbar(zor, y[:,0], y[:,1], fmt='g.', markersize=10, label='Observations')\n",
    "# plt.errorbar(rr, pred_random[:,0], pred_random[:,1], fmt='r.', markersize=4., label='Synthetic data with errors', alpha=0.01)\n",
    "\n",
    "# plt.plot(z, fs8(z), label='$\\Lambda CDM$', c='b')\n",
    "# plt.xlabel(\"Redshift z\")\n",
    "# plt.ylabel(\"$f\\sigma_8(z)$\")\n",
    "# plt.xlim(0, 2)\n",
    "# plt.tight_layout()\n",
    "# plt.legend()\n",
    "\n",
    "# plt.savefig(\"Syntheticfs8.png\",dpi=800)"
   ]
  },
  {
   "cell_type": "code",
   "execution_count": 23,
   "metadata": {},
   "outputs": [
    {
     "data": {
      "text/plain": [
       "((10000, 2), (10000, 1))"
      ]
     },
     "execution_count": 23,
     "metadata": {},
     "output_type": "execute_result"
    }
   ],
   "source": [
    "pred_random.shape, r.shape"
   ]
  },
  {
   "cell_type": "code",
   "execution_count": 73,
   "metadata": {},
   "outputs": [],
   "source": [
    "# randomselection = np.random.randint(0,1000,50)\n",
    "randomselection = np.random.randint(0,1000,100)\n",
    "\n",
    "rr_reduced = rr[randomselection,:]\n",
    "# predy_reduced = predy[randomselection,:]\n",
    "predy_reduced = pred_random[randomselection,:]"
   ]
  },
  {
   "cell_type": "code",
   "execution_count": 74,
   "metadata": {},
   "outputs": [],
   "source": [
    "mookHz = np.concatenate((rr_reduced.reshape(-1,1), predy_reduced), axis=1)\n",
    "\n",
    "\n",
    "np.savetxt(\"annfs8100.dat\",mookHz, delimiter=\" \")"
   ]
  },
  {
   "cell_type": "code",
   "execution_count": 75,
   "metadata": {},
   "outputs": [
    {
     "data": {
      "text/plain": [
       "array([[1.38488144, 0.36838001, 0.11307061],\n",
       "       [1.72022068, 0.34055227, 0.10996475],\n",
       "       [1.12821283, 0.39201686, 0.11394373],\n",
       "       [1.44859996, 0.36310464, 0.11247142],\n",
       "       [1.39836903, 0.36726332, 0.11294376],\n",
       "       [0.42150136, 0.43535608, 0.08757395],\n",
       "       [1.58634207, 0.35170081, 0.11117633],\n",
       "       [0.19001195, 0.41889459, 0.09019058],\n",
       "       [0.69605951, 0.45837867, 0.10756081],\n",
       "       [0.98998878, 0.41024503, 0.11566858],\n",
       "       [1.49688594, 0.35910699, 0.11201743],\n",
       "       [1.16659174, 0.3883515 , 0.11389767],\n",
       "       [1.69257367, 0.34285843, 0.11021186],\n",
       "       [0.60340268, 0.47590858, 0.10418004],\n",
       "       [0.05886465, 0.41336504, 0.09246241],\n",
       "       [0.17213482, 0.41774756, 0.09039354],\n",
       "       [1.37674088, 0.36905399, 0.1131471 ],\n",
       "       [1.63216076, 0.34789827, 0.1107521 ],\n",
       "       [0.38826769, 0.43266124, 0.08827713],\n",
       "       [0.91172795, 0.41949105, 0.11539584],\n",
       "       [0.92845635, 0.41798303, 0.11579952],\n",
       "       [0.22218054, 0.42095864, 0.08982528],\n",
       "       [1.47662149, 0.36078471, 0.112208  ],\n",
       "       [0.34265867, 0.42958775, 0.08891798],\n",
       "       [1.25122989, 0.38026842, 0.11379609],\n",
       "       [1.51315547, 0.35775995, 0.11186446],\n",
       "       [0.18662617, 0.41867736, 0.09022904],\n",
       "       [1.32901292, 0.37300545, 0.11359588],\n",
       "       [1.17767829, 0.3872928 , 0.11388441],\n",
       "       [0.58137455, 0.46934986, 0.09993295],\n",
       "       [0.56796121, 0.4636547 , 0.09753818],\n",
       "       [0.7353009 , 0.45100382, 0.10667097],\n",
       "       [1.80952966, 0.333628  , 0.1099953 ],\n",
       "       [1.80919852, 0.33364961, 0.1099888 ],\n",
       "       [0.70832314, 0.45502791, 0.10701596],\n",
       "       [1.52591605, 0.35670352, 0.11174447],\n",
       "       [1.88733872, 0.32854453, 0.1115183 ],\n",
       "       [1.1508643 , 0.3898536 , 0.11391657],\n",
       "       [0.22936046, 0.42141929, 0.08974371],\n",
       "       [1.13357241, 0.39150509, 0.11393731],\n",
       "       [0.25017002, 0.42275453, 0.08950743],\n",
       "       [0.16118814, 0.41709864, 0.09049036],\n",
       "       [0.19001195, 0.41889459, 0.09019058],\n",
       "       [1.33764661, 0.3722907 , 0.11351468],\n",
       "       [0.59528553, 0.47431132, 0.10244789],\n",
       "       [0.65696255, 0.46931529, 0.10963497],\n",
       "       [1.20285077, 0.38488877, 0.11385413],\n",
       "       [1.40434359, 0.36676866, 0.1128876 ],\n",
       "       [1.22427196, 0.38284299, 0.11382841],\n",
       "       [0.91366094, 0.41926217, 0.11547068],\n",
       "       [0.46038649, 0.43956295, 0.0868291 ],\n",
       "       [1.96405364, 0.32353267, 0.11301988],\n",
       "       [0.42150136, 0.43535608, 0.08757395],\n",
       "       [1.69767503, 0.34243289, 0.11016623],\n",
       "       [1.36328207, 0.37016827, 0.11327361],\n",
       "       [1.69776615, 0.34242532, 0.11016542],\n",
       "       [1.9350679 , 0.32542637, 0.1124525 ],\n",
       "       [1.87749268, 0.32918784, 0.11132549],\n",
       "       [1.98592811, 0.32210365, 0.11344796],\n",
       "       [0.22190047, 0.42094067, 0.08982848],\n",
       "       [0.13904618, 0.41592905, 0.09061246],\n",
       "       [0.3969943 , 0.43314803, 0.08807087],\n",
       "       [1.58634207, 0.35170081, 0.11117633],\n",
       "       [1.64120771, 0.34714371, 0.11067118],\n",
       "       [1.14847284, 0.39008197, 0.1139194 ],\n",
       "       [1.6349685 , 0.34766412, 0.11072697],\n",
       "       [1.99680371, 0.3213931 , 0.11366083],\n",
       "       [1.70184603, 0.34208509, 0.11012898],\n",
       "       [1.95927989, 0.32384455, 0.11292637],\n",
       "       [0.05136456, 0.41334754, 0.09282265],\n",
       "       [1.17535431, 0.3875148 , 0.11388712],\n",
       "       [0.92750714, 0.41805235, 0.11578494],\n",
       "       [0.23632615, 0.42186624, 0.08966465],\n",
       "       [0.84596761, 0.42909771, 0.11283775],\n",
       "       [1.88165948, 0.32891557, 0.11140705],\n",
       "       [0.54033776, 0.44961968, 0.09042934],\n",
       "       [1.2582547 , 0.37959751, 0.11378761],\n",
       "       [1.37046892, 0.36957327, 0.11320608],\n",
       "       [1.35543672, 0.37081784, 0.11334748],\n",
       "       [0.11575096, 0.41469857, 0.09074088],\n",
       "       [0.7343308 , 0.45121175, 0.10661256],\n",
       "       [0.31820082, 0.42776182, 0.08906417],\n",
       "       [0.55513458, 0.4569717 , 0.09406426],\n",
       "       [0.70118057, 0.45690519, 0.10741487],\n",
       "       [0.13717778, 0.41583031, 0.09062273],\n",
       "       [0.20971652, 0.42015889, 0.0899668 ],\n",
       "       [0.75237981, 0.44733712, 0.10769761],\n",
       "       [1.61112434, 0.34964904, 0.11094335],\n",
       "       [1.70313524, 0.34197751, 0.11011738],\n",
       "       [0.90633447, 0.42012969, 0.11518713],\n",
       "       [0.50199162, 0.44013423, 0.08524014],\n",
       "       [1.85800058, 0.33046129, 0.11094408],\n",
       "       [1.08519909, 0.39612478, 0.1139954 ],\n",
       "       [0.59291331, 0.47355694, 0.10194457],\n",
       "       [0.30705924, 0.42693007, 0.08913077],\n",
       "       [0.71640135, 0.45375425, 0.10649993],\n",
       "       [1.05072576, 0.40109956, 0.11458535],\n",
       "       [1.08519909, 0.39612478, 0.1139954 ],\n",
       "       [1.2582547 , 0.37959751, 0.11378761],\n",
       "       [1.07776382, 0.39706248, 0.11408028]])"
      ]
     },
     "execution_count": 75,
     "metadata": {},
     "output_type": "execute_result"
    }
   ],
   "source": [
    "mookHz"
   ]
  },
  {
   "cell_type": "code",
   "execution_count": 76,
   "metadata": {},
   "outputs": [
    {
     "data": {
      "text/plain": [
       "array([0.11307061, 0.10996475, 0.11394373, 0.11247142, 0.11294376,\n",
       "       0.08757395, 0.11117633, 0.09019058, 0.10756081, 0.11566858,\n",
       "       0.11201743, 0.11389767, 0.11021186, 0.10418004, 0.09246241,\n",
       "       0.09039354, 0.1131471 , 0.1107521 , 0.08827713, 0.11539584,\n",
       "       0.11579952, 0.08982528, 0.112208  , 0.08891798, 0.11379609,\n",
       "       0.11186446, 0.09022904, 0.11359588, 0.11388441, 0.09993295,\n",
       "       0.09753818, 0.10667097, 0.1099953 , 0.1099888 , 0.10701596,\n",
       "       0.11174447, 0.1115183 , 0.11391657, 0.08974371, 0.11393731,\n",
       "       0.08950743, 0.09049036, 0.09019058, 0.11351468, 0.10244789,\n",
       "       0.10963497, 0.11385413, 0.1128876 , 0.11382841, 0.11547068,\n",
       "       0.0868291 , 0.11301988, 0.08757395, 0.11016623, 0.11327361,\n",
       "       0.11016542, 0.1124525 , 0.11132549, 0.11344796, 0.08982848,\n",
       "       0.09061246, 0.08807087, 0.11117633, 0.11067118, 0.1139194 ,\n",
       "       0.11072697, 0.11366083, 0.11012898, 0.11292637, 0.09282265,\n",
       "       0.11388712, 0.11578494, 0.08966465, 0.11283775, 0.11140705,\n",
       "       0.09042934, 0.11378761, 0.11320608, 0.11334748, 0.09074088,\n",
       "       0.10661256, 0.08906417, 0.09406426, 0.10741487, 0.09062273,\n",
       "       0.0899668 , 0.10769761, 0.11094335, 0.11011738, 0.11518713,\n",
       "       0.08524014, 0.11094408, 0.1139954 , 0.10194457, 0.08913077,\n",
       "       0.10649993, 0.11458535, 0.1139954 , 0.11378761, 0.11408028],\n",
       "      dtype=float32)"
      ]
     },
     "execution_count": 76,
     "metadata": {},
     "output_type": "execute_result"
    }
   ],
   "source": [
    "predy_reduced[:,1]"
   ]
  },
  {
   "cell_type": "code",
   "execution_count": 77,
   "metadata": {},
   "outputs": [
    {
     "data": {
      "text/plain": [
       "array([0.01278496, 0.01209225, 0.01298317, 0.01264982, 0.01275629,\n",
       "       0.0076692 , 0.01236018, 0.00813434, 0.01156933, 0.01337922,\n",
       "       0.0125479 , 0.01297268, 0.01214665, 0.01085348, 0.0085493 ,\n",
       "       0.00817099, 0.01280227, 0.01226603, 0.00779285, 0.0133162 ,\n",
       "       0.01340953, 0.00806858, 0.01259064, 0.00790641, 0.01294955,\n",
       "       0.01251366, 0.00814128, 0.01290402, 0.01296966, 0.0099866 ,\n",
       "       0.0095137 , 0.0113787 , 0.01209897, 0.01209754, 0.01145242,\n",
       "       0.01248683, 0.01243633, 0.01297698, 0.00805393, 0.01298171,\n",
       "       0.00801158, 0.00818851, 0.00813434, 0.01288558, 0.01049557,\n",
       "       0.01201983, 0.01296276, 0.01274361, 0.01295691, 0.01333348,\n",
       "       0.00753929, 0.01277349, 0.0076692 , 0.0121366 , 0.01283091,\n",
       "       0.01213642, 0.01264556, 0.01239337, 0.01287044, 0.00806916,\n",
       "       0.00821062, 0.00775648, 0.01236018, 0.01224811, 0.01297763,\n",
       "       0.01226046, 0.01291879, 0.01212839, 0.01275237, 0.00861604,\n",
       "       0.01297028, 0.01340615, 0.00803975, 0.01273236, 0.01241153,\n",
       "       0.00817746, 0.01294762, 0.01281562, 0.01284765, 0.00823391,\n",
       "       0.01136624, 0.00793243, 0.00884809, 0.01153795, 0.00821248,\n",
       "       0.00809402, 0.01159878, 0.01230843, 0.01212584, 0.01326807,\n",
       "       0.00726588, 0.01230859, 0.01299495, 0.01039269, 0.00794429,\n",
       "       0.01134223, 0.0131298 , 0.01299495, 0.01294762, 0.01301431],\n",
       "      dtype=float32)"
      ]
     },
     "execution_count": 77,
     "metadata": {},
     "output_type": "execute_result"
    }
   ],
   "source": [
    "error  = predy_reduced[:,1]**2\n",
    "error"
   ]
  },
  {
   "cell_type": "code",
   "execution_count": 78,
   "metadata": {},
   "outputs": [
    {
     "data": {
      "text/plain": [
       "(100, 100)"
      ]
     },
     "execution_count": 78,
     "metadata": {},
     "output_type": "execute_result"
    }
   ],
   "source": [
    "diagcov = np.diag(error) #inverso\n",
    "np.savetxt(\"annfs8_cov100.dat\", diagcov, delimiter= \" \", header=\"#100 100\")\n",
    "np.shape(diagcov)"
   ]
  },
  {
   "cell_type": "code",
   "execution_count": 79,
   "metadata": {},
   "outputs": [
    {
     "data": {
      "text/plain": [
       "<seaborn.axisgrid.PairGrid at 0x7fce46422c88>"
      ]
     },
     "execution_count": 79,
     "metadata": {},
     "output_type": "execute_result"
    },
    {
     "data": {
      "image/png": "[encoded data removed]",
      "text/plain": [
       "<Figure size 540x540 with 12 Axes>"
      ]
     },
     "metadata": {
      "needs_background": "light"
     },
     "output_type": "display_data"
    }
   ],
   "source": [
    "dfMook = pd.DataFrame(mookHz, columns=['z', '$f\\sigma_8', 'err'])\n",
    "sns.pairplot(dfMook, diag_kind=\"kde\")\n",
    "# plt.savefig(\"100fs8mook.png\")"
   ]
  },
  {
   "cell_type": "code",
   "execution_count": 30,
   "metadata": {},
   "outputs": [
    {
     "data": {
      "text/plain": [
       "256"
      ]
     },
     "execution_count": 30,
     "metadata": {},
     "output_type": "execute_result"
    }
   ],
   "source": [
    "4**4"
   ]
  },
  {
   "cell_type": "code",
   "execution_count": null,
   "metadata": {},
   "outputs": [],
   "source": []
  },
  {
   "cell_type": "code",
   "execution_count": null,
   "metadata": {},
   "outputs": [],
   "source": []
  }
 ],
 "metadata": {
  "kernelspec": {
   "display_name": "Python 3",
   "language": "python",
   "name": "python3"
  },
  "language_info": {
   "codemirror_mode": {
    "name": "ipython",
    "version": 3
   },
   "file_extension": ".py",
   "mimetype": "text/x-python",
   "name": "python",
   "nbconvert_exporter": "python",
   "pygments_lexer": "ipython3",
   "version": "3.6.9"
  }
 },
 "nbformat": 4,
 "nbformat_minor": 2
}
