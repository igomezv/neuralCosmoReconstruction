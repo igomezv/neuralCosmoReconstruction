{
 "cells": [
  {
   "cell_type": "code",
   "execution_count": 1,
   "metadata": {},
   "outputs": [],
   "source": [
    "import os\n",
    "os.environ[\"CUDA_DEVICE_ORDER\"]=\"PCI_BUS_ID\"\n",
    "os.environ[\"CUDA_VISIBLE_DEVICES\"]=\"1\" #model will be trained on GPU 1"
   ]
  },
  {
   "cell_type": "code",
   "execution_count": 2,
   "metadata": {},
   "outputs": [
    {
     "name": "stderr",
     "output_type": "stream",
     "text": [
      "/home/isidro/anaconda3/lib/python3.7/site-packages/tensorflow/python/framework/dtypes.py:516: FutureWarning: Passing (type, 1) or '1type' as a synonym of type is deprecated; in a future version of numpy, it will be understood as (type, (1,)) / '(1,)type'.\n",
      "  _np_qint8 = np.dtype([(\"qint8\", np.int8, 1)])\n",
      "/home/isidro/anaconda3/lib/python3.7/site-packages/tensorflow/python/framework/dtypes.py:517: FutureWarning: Passing (type, 1) or '1type' as a synonym of type is deprecated; in a future version of numpy, it will be understood as (type, (1,)) / '(1,)type'.\n",
      "  _np_quint8 = np.dtype([(\"quint8\", np.uint8, 1)])\n",
      "/home/isidro/anaconda3/lib/python3.7/site-packages/tensorflow/python/framework/dtypes.py:518: FutureWarning: Passing (type, 1) or '1type' as a synonym of type is deprecated; in a future version of numpy, it will be understood as (type, (1,)) / '(1,)type'.\n",
      "  _np_qint16 = np.dtype([(\"qint16\", np.int16, 1)])\n",
      "/home/isidro/anaconda3/lib/python3.7/site-packages/tensorflow/python/framework/dtypes.py:519: FutureWarning: Passing (type, 1) or '1type' as a synonym of type is deprecated; in a future version of numpy, it will be understood as (type, (1,)) / '(1,)type'.\n",
      "  _np_quint16 = np.dtype([(\"quint16\", np.uint16, 1)])\n",
      "/home/isidro/anaconda3/lib/python3.7/site-packages/tensorflow/python/framework/dtypes.py:520: FutureWarning: Passing (type, 1) or '1type' as a synonym of type is deprecated; in a future version of numpy, it will be understood as (type, (1,)) / '(1,)type'.\n",
      "  _np_qint32 = np.dtype([(\"qint32\", np.int32, 1)])\n",
      "/home/isidro/anaconda3/lib/python3.7/site-packages/tensorflow/python/framework/dtypes.py:525: FutureWarning: Passing (type, 1) or '1type' as a synonym of type is deprecated; in a future version of numpy, it will be understood as (type, (1,)) / '(1,)type'.\n",
      "  np_resource = np.dtype([(\"resource\", np.ubyte, 1)])\n",
      "/home/isidro/anaconda3/lib/python3.7/site-packages/tensorboard/compat/tensorflow_stub/dtypes.py:541: FutureWarning: Passing (type, 1) or '1type' as a synonym of type is deprecated; in a future version of numpy, it will be understood as (type, (1,)) / '(1,)type'.\n",
      "  _np_qint8 = np.dtype([(\"qint8\", np.int8, 1)])\n",
      "/home/isidro/anaconda3/lib/python3.7/site-packages/tensorboard/compat/tensorflow_stub/dtypes.py:542: FutureWarning: Passing (type, 1) or '1type' as a synonym of type is deprecated; in a future version of numpy, it will be understood as (type, (1,)) / '(1,)type'.\n",
      "  _np_quint8 = np.dtype([(\"quint8\", np.uint8, 1)])\n",
      "/home/isidro/anaconda3/lib/python3.7/site-packages/tensorboard/compat/tensorflow_stub/dtypes.py:543: FutureWarning: Passing (type, 1) or '1type' as a synonym of type is deprecated; in a future version of numpy, it will be understood as (type, (1,)) / '(1,)type'.\n",
      "  _np_qint16 = np.dtype([(\"qint16\", np.int16, 1)])\n",
      "/home/isidro/anaconda3/lib/python3.7/site-packages/tensorboard/compat/tensorflow_stub/dtypes.py:544: FutureWarning: Passing (type, 1) or '1type' as a synonym of type is deprecated; in a future version of numpy, it will be understood as (type, (1,)) / '(1,)type'.\n",
      "  _np_quint16 = np.dtype([(\"quint16\", np.uint16, 1)])\n",
      "/home/isidro/anaconda3/lib/python3.7/site-packages/tensorboard/compat/tensorflow_stub/dtypes.py:545: FutureWarning: Passing (type, 1) or '1type' as a synonym of type is deprecated; in a future version of numpy, it will be understood as (type, (1,)) / '(1,)type'.\n",
      "  _np_qint32 = np.dtype([(\"qint32\", np.int32, 1)])\n",
      "/home/isidro/anaconda3/lib/python3.7/site-packages/tensorboard/compat/tensorflow_stub/dtypes.py:550: FutureWarning: Passing (type, 1) or '1type' as a synonym of type is deprecated; in a future version of numpy, it will be understood as (type, (1,)) / '(1,)type'.\n",
      "  np_resource = np.dtype([(\"resource\", np.ubyte, 1)])\n"
     ]
    }
   ],
   "source": [
    "import tensorflow.keras\n",
    "from matplotlib import pyplot as plt\n",
    "import numpy as np\n",
    "import gzip\n",
    "%matplotlib inline\n",
    "from tensorflow.keras.layers import Input,Conv2D,MaxPooling2D,UpSampling2D, Dense\n",
    "from tensorflow.keras.models import Model\n",
    "from tensorflow.keras.optimizers import RMSprop\n",
    "import pandas as pd\n",
    "from sklearn.preprocessing import StandardScaler, MinMaxScaler"
   ]
  },
  {
   "cell_type": "code",
   "execution_count": 3,
   "metadata": {},
   "outputs": [
    {
     "data": {
      "text/html": [
       "<div>\n",
       "<style scoped>\n",
       "    .dataframe tbody tr th:only-of-type {\n",
       "        vertical-align: middle;\n",
       "    }\n",
       "\n",
       "    .dataframe tbody tr th {\n",
       "        vertical-align: top;\n",
       "    }\n",
       "\n",
       "    .dataframe thead th {\n",
       "        text-align: right;\n",
       "    }\n",
       "</style>\n",
       "<table border=\"1\" class=\"dataframe\">\n",
       "  <thead>\n",
       "    <tr style=\"text-align: right;\">\n",
       "      <th></th>\n",
       "      <th>z</th>\n",
       "      <th>hz</th>\n",
       "      <th>err</th>\n",
       "    </tr>\n",
       "  </thead>\n",
       "  <tbody>\n",
       "    <tr>\n",
       "      <th>0</th>\n",
       "      <td>0.0700</td>\n",
       "      <td>69.0</td>\n",
       "      <td>19.6</td>\n",
       "    </tr>\n",
       "    <tr>\n",
       "      <th>1</th>\n",
       "      <td>0.0900</td>\n",
       "      <td>69.0</td>\n",
       "      <td>12.0</td>\n",
       "    </tr>\n",
       "    <tr>\n",
       "      <th>2</th>\n",
       "      <td>0.1200</td>\n",
       "      <td>68.6</td>\n",
       "      <td>26.2</td>\n",
       "    </tr>\n",
       "    <tr>\n",
       "      <th>3</th>\n",
       "      <td>0.1700</td>\n",
       "      <td>83.0</td>\n",
       "      <td>8.0</td>\n",
       "    </tr>\n",
       "    <tr>\n",
       "      <th>4</th>\n",
       "      <td>0.1791</td>\n",
       "      <td>75.0</td>\n",
       "      <td>4.0</td>\n",
       "    </tr>\n",
       "  </tbody>\n",
       "</table>\n",
       "</div>"
      ],
      "text/plain": [
       "        z    hz   err\n",
       "0  0.0700  69.0  19.6\n",
       "1  0.0900  69.0  12.0\n",
       "2  0.1200  68.6  26.2\n",
       "3  0.1700  83.0   8.0\n",
       "4  0.1791  75.0   4.0"
      ]
     },
     "execution_count": 3,
     "metadata": {},
     "output_type": "execute_result"
    }
   ],
   "source": [
    "file = 'data/Hz31.txt'\n",
    "data = pd.read_csv(file, names=['z', 'hz', 'err'], sep = \" \" )\n",
    "data.head()"
   ]
  },
  {
   "cell_type": "code",
   "execution_count": 4,
   "metadata": {},
   "outputs": [
    {
     "data": {
      "text/html": [
       "<div>\n",
       "<style scoped>\n",
       "    .dataframe tbody tr th:only-of-type {\n",
       "        vertical-align: middle;\n",
       "    }\n",
       "\n",
       "    .dataframe tbody tr th {\n",
       "        vertical-align: top;\n",
       "    }\n",
       "\n",
       "    .dataframe thead th {\n",
       "        text-align: right;\n",
       "    }\n",
       "</style>\n",
       "<table border=\"1\" class=\"dataframe\">\n",
       "  <thead>\n",
       "    <tr style=\"text-align: right;\">\n",
       "      <th></th>\n",
       "      <th>z</th>\n",
       "      <th>hz</th>\n",
       "      <th>err</th>\n",
       "    </tr>\n",
       "  </thead>\n",
       "  <tbody>\n",
       "    <tr>\n",
       "      <th>0</th>\n",
       "      <td>0.0700</td>\n",
       "      <td>69.0</td>\n",
       "      <td>19.6</td>\n",
       "    </tr>\n",
       "    <tr>\n",
       "      <th>1</th>\n",
       "      <td>0.0900</td>\n",
       "      <td>69.0</td>\n",
       "      <td>12.0</td>\n",
       "    </tr>\n",
       "    <tr>\n",
       "      <th>2</th>\n",
       "      <td>0.1200</td>\n",
       "      <td>68.6</td>\n",
       "      <td>26.2</td>\n",
       "    </tr>\n",
       "    <tr>\n",
       "      <th>3</th>\n",
       "      <td>0.1700</td>\n",
       "      <td>83.0</td>\n",
       "      <td>8.0</td>\n",
       "    </tr>\n",
       "    <tr>\n",
       "      <th>4</th>\n",
       "      <td>0.1791</td>\n",
       "      <td>75.0</td>\n",
       "      <td>4.0</td>\n",
       "    </tr>\n",
       "    <tr>\n",
       "      <th>5</th>\n",
       "      <td>0.1993</td>\n",
       "      <td>75.0</td>\n",
       "      <td>5.0</td>\n",
       "    </tr>\n",
       "    <tr>\n",
       "      <th>6</th>\n",
       "      <td>0.2000</td>\n",
       "      <td>72.9</td>\n",
       "      <td>29.6</td>\n",
       "    </tr>\n",
       "    <tr>\n",
       "      <th>7</th>\n",
       "      <td>0.2700</td>\n",
       "      <td>77.0</td>\n",
       "      <td>14.0</td>\n",
       "    </tr>\n",
       "    <tr>\n",
       "      <th>8</th>\n",
       "      <td>0.2800</td>\n",
       "      <td>88.8</td>\n",
       "      <td>36.6</td>\n",
       "    </tr>\n",
       "    <tr>\n",
       "      <th>9</th>\n",
       "      <td>0.3519</td>\n",
       "      <td>83.0</td>\n",
       "      <td>14.0</td>\n",
       "    </tr>\n",
       "    <tr>\n",
       "      <th>10</th>\n",
       "      <td>0.3802</td>\n",
       "      <td>83.0</td>\n",
       "      <td>13.5</td>\n",
       "    </tr>\n",
       "    <tr>\n",
       "      <th>11</th>\n",
       "      <td>0.4000</td>\n",
       "      <td>95.0</td>\n",
       "      <td>17.0</td>\n",
       "    </tr>\n",
       "    <tr>\n",
       "      <th>12</th>\n",
       "      <td>0.4004</td>\n",
       "      <td>77.0</td>\n",
       "      <td>10.2</td>\n",
       "    </tr>\n",
       "    <tr>\n",
       "      <th>13</th>\n",
       "      <td>0.4247</td>\n",
       "      <td>87.1</td>\n",
       "      <td>11.2</td>\n",
       "    </tr>\n",
       "    <tr>\n",
       "      <th>14</th>\n",
       "      <td>0.4497</td>\n",
       "      <td>92.8</td>\n",
       "      <td>12.9</td>\n",
       "    </tr>\n",
       "    <tr>\n",
       "      <th>15</th>\n",
       "      <td>0.4700</td>\n",
       "      <td>89.0</td>\n",
       "      <td>49.6</td>\n",
       "    </tr>\n",
       "    <tr>\n",
       "      <th>16</th>\n",
       "      <td>0.4783</td>\n",
       "      <td>80.9</td>\n",
       "      <td>9.0</td>\n",
       "    </tr>\n",
       "    <tr>\n",
       "      <th>17</th>\n",
       "      <td>0.4800</td>\n",
       "      <td>97.0</td>\n",
       "      <td>62.0</td>\n",
       "    </tr>\n",
       "    <tr>\n",
       "      <th>18</th>\n",
       "      <td>0.5929</td>\n",
       "      <td>104.0</td>\n",
       "      <td>13.0</td>\n",
       "    </tr>\n",
       "    <tr>\n",
       "      <th>19</th>\n",
       "      <td>0.6797</td>\n",
       "      <td>92.0</td>\n",
       "      <td>8.0</td>\n",
       "    </tr>\n",
       "    <tr>\n",
       "      <th>20</th>\n",
       "      <td>0.7812</td>\n",
       "      <td>105.0</td>\n",
       "      <td>12.0</td>\n",
       "    </tr>\n",
       "    <tr>\n",
       "      <th>21</th>\n",
       "      <td>0.8754</td>\n",
       "      <td>125.0</td>\n",
       "      <td>17.0</td>\n",
       "    </tr>\n",
       "    <tr>\n",
       "      <th>22</th>\n",
       "      <td>0.8800</td>\n",
       "      <td>90.0</td>\n",
       "      <td>40.0</td>\n",
       "    </tr>\n",
       "    <tr>\n",
       "      <th>23</th>\n",
       "      <td>0.9000</td>\n",
       "      <td>117.0</td>\n",
       "      <td>23.0</td>\n",
       "    </tr>\n",
       "    <tr>\n",
       "      <th>24</th>\n",
       "      <td>1.0370</td>\n",
       "      <td>154.0</td>\n",
       "      <td>20.0</td>\n",
       "    </tr>\n",
       "    <tr>\n",
       "      <th>25</th>\n",
       "      <td>1.3000</td>\n",
       "      <td>168.0</td>\n",
       "      <td>17.0</td>\n",
       "    </tr>\n",
       "    <tr>\n",
       "      <th>26</th>\n",
       "      <td>1.3630</td>\n",
       "      <td>160.0</td>\n",
       "      <td>33.6</td>\n",
       "    </tr>\n",
       "    <tr>\n",
       "      <th>27</th>\n",
       "      <td>1.4300</td>\n",
       "      <td>177.0</td>\n",
       "      <td>18.0</td>\n",
       "    </tr>\n",
       "    <tr>\n",
       "      <th>28</th>\n",
       "      <td>1.5300</td>\n",
       "      <td>140.0</td>\n",
       "      <td>14.0</td>\n",
       "    </tr>\n",
       "    <tr>\n",
       "      <th>29</th>\n",
       "      <td>1.7500</td>\n",
       "      <td>202.0</td>\n",
       "      <td>40.0</td>\n",
       "    </tr>\n",
       "    <tr>\n",
       "      <th>30</th>\n",
       "      <td>1.9650</td>\n",
       "      <td>186.5</td>\n",
       "      <td>50.4</td>\n",
       "    </tr>\n",
       "  </tbody>\n",
       "</table>\n",
       "</div>"
      ],
      "text/plain": [
       "         z     hz   err\n",
       "0   0.0700   69.0  19.6\n",
       "1   0.0900   69.0  12.0\n",
       "2   0.1200   68.6  26.2\n",
       "3   0.1700   83.0   8.0\n",
       "4   0.1791   75.0   4.0\n",
       "5   0.1993   75.0   5.0\n",
       "6   0.2000   72.9  29.6\n",
       "7   0.2700   77.0  14.0\n",
       "8   0.2800   88.8  36.6\n",
       "9   0.3519   83.0  14.0\n",
       "10  0.3802   83.0  13.5\n",
       "11  0.4000   95.0  17.0\n",
       "12  0.4004   77.0  10.2\n",
       "13  0.4247   87.1  11.2\n",
       "14  0.4497   92.8  12.9\n",
       "15  0.4700   89.0  49.6\n",
       "16  0.4783   80.9   9.0\n",
       "17  0.4800   97.0  62.0\n",
       "18  0.5929  104.0  13.0\n",
       "19  0.6797   92.0   8.0\n",
       "20  0.7812  105.0  12.0\n",
       "21  0.8754  125.0  17.0\n",
       "22  0.8800   90.0  40.0\n",
       "23  0.9000  117.0  23.0\n",
       "24  1.0370  154.0  20.0\n",
       "25  1.3000  168.0  17.0\n",
       "26  1.3630  160.0  33.6\n",
       "27  1.4300  177.0  18.0\n",
       "28  1.5300  140.0  14.0\n",
       "29  1.7500  202.0  40.0\n",
       "30  1.9650  186.5  50.4"
      ]
     },
     "execution_count": 4,
     "metadata": {},
     "output_type": "execute_result"
    }
   ],
   "source": [
    "data"
   ]
  },
  {
   "cell_type": "markdown",
   "metadata": {},
   "source": [
    "Read the data for cosmic chronometers"
   ]
  },
  {
   "cell_type": "code",
   "execution_count": 5,
   "metadata": {},
   "outputs": [
    {
     "data": {
      "text/plain": [
       "array([ 8, 18, 24, 23,  1, 29,  9, 21,  6,  2, 13, 20, 30, 11, 19, 14,  0,\n",
       "       15,  5, 17, 16, 12, 28, 27,  7, 25,  3, 26, 22,  4, 10])"
      ]
     },
     "execution_count": 5,
     "metadata": {},
     "output_type": "execute_result"
    }
   ],
   "source": [
    "randomize = np.random.permutation(len(data.values))\n",
    "randomize\n"
   ]
  },
  {
   "cell_type": "markdown",
   "metadata": {},
   "source": [
    "Let's prepare our input data. "
   ]
  },
  {
   "cell_type": "code",
   "execution_count": 6,
   "metadata": {},
   "outputs": [
    {
     "data": {
      "text/plain": [
       "array([[2.800e-01, 8.880e+01, 3.660e+01],\n",
       "       [5.929e-01, 1.040e+02, 1.300e+01],\n",
       "       [1.037e+00, 1.540e+02, 2.000e+01],\n",
       "       [9.000e-01, 1.170e+02, 2.300e+01],\n",
       "       [9.000e-02, 6.900e+01, 1.200e+01],\n",
       "       [1.750e+00, 2.020e+02, 4.000e+01],\n",
       "       [3.519e-01, 8.300e+01, 1.400e+01],\n",
       "       [8.754e-01, 1.250e+02, 1.700e+01],\n",
       "       [2.000e-01, 7.290e+01, 2.960e+01],\n",
       "       [1.200e-01, 6.860e+01, 2.620e+01],\n",
       "       [4.247e-01, 8.710e+01, 1.120e+01],\n",
       "       [7.812e-01, 1.050e+02, 1.200e+01],\n",
       "       [1.965e+00, 1.865e+02, 5.040e+01],\n",
       "       [4.000e-01, 9.500e+01, 1.700e+01],\n",
       "       [6.797e-01, 9.200e+01, 8.000e+00],\n",
       "       [4.497e-01, 9.280e+01, 1.290e+01],\n",
       "       [7.000e-02, 6.900e+01, 1.960e+01],\n",
       "       [4.700e-01, 8.900e+01, 4.960e+01],\n",
       "       [1.993e-01, 7.500e+01, 5.000e+00],\n",
       "       [4.800e-01, 9.700e+01, 6.200e+01],\n",
       "       [4.783e-01, 8.090e+01, 9.000e+00],\n",
       "       [4.004e-01, 7.700e+01, 1.020e+01],\n",
       "       [1.530e+00, 1.400e+02, 1.400e+01],\n",
       "       [1.430e+00, 1.770e+02, 1.800e+01],\n",
       "       [2.700e-01, 7.700e+01, 1.400e+01],\n",
       "       [1.300e+00, 1.680e+02, 1.700e+01],\n",
       "       [1.700e-01, 8.300e+01, 8.000e+00],\n",
       "       [1.363e+00, 1.600e+02, 3.360e+01],\n",
       "       [8.800e-01, 9.000e+01, 4.000e+01],\n",
       "       [1.791e-01, 7.500e+01, 4.000e+00],\n",
       "       [3.802e-01, 8.300e+01, 1.350e+01]])"
      ]
     },
     "execution_count": 6,
     "metadata": {},
     "output_type": "execute_result"
    }
   ],
   "source": [
    "data = data.values[randomize]\n",
    "data"
   ]
  },
  {
   "cell_type": "code",
   "execution_count": 7,
   "metadata": {},
   "outputs": [
    {
     "data": {
      "text/plain": [
       "((31,), (31, 2))"
      ]
     },
     "execution_count": 7,
     "metadata": {},
     "output_type": "execute_result"
    }
   ],
   "source": [
    "X = data[:,0]\n",
    "y = data[:,1:]\n",
    "X.shape, y.shape"
   ]
  },
  {
   "cell_type": "code",
   "execution_count": 8,
   "metadata": {},
   "outputs": [
    {
     "data": {
      "text/plain": [
       "(array([0.28  , 0.5929, 1.037 , 0.9   , 0.09  , 1.75  , 0.3519, 0.8754,\n",
       "        0.2   , 0.12  , 0.4247, 0.7812, 1.965 , 0.4   , 0.6797, 0.4497,\n",
       "        0.07  , 0.47  , 0.1993, 0.48  , 0.4783, 0.4004, 1.53  , 1.43  ]),\n",
       " array([[ 88.8,  36.6],\n",
       "        [104. ,  13. ],\n",
       "        [154. ,  20. ],\n",
       "        [117. ,  23. ],\n",
       "        [ 69. ,  12. ],\n",
       "        [202. ,  40. ],\n",
       "        [ 83. ,  14. ],\n",
       "        [125. ,  17. ],\n",
       "        [ 72.9,  29.6],\n",
       "        [ 68.6,  26.2],\n",
       "        [ 87.1,  11.2],\n",
       "        [105. ,  12. ],\n",
       "        [186.5,  50.4],\n",
       "        [ 95. ,  17. ],\n",
       "        [ 92. ,   8. ],\n",
       "        [ 92.8,  12.9],\n",
       "        [ 69. ,  19.6],\n",
       "        [ 89. ,  49.6],\n",
       "        [ 75. ,   5. ],\n",
       "        [ 97. ,  62. ],\n",
       "        [ 80.9,   9. ],\n",
       "        [ 77. ,  10.2],\n",
       "        [140. ,  14. ],\n",
       "        [177. ,  18. ]]))"
      ]
     },
     "execution_count": 8,
     "metadata": {},
     "output_type": "execute_result"
    }
   ],
   "source": [
    "split = 0.8\n",
    "ntrain = int(split * len(X))\n",
    "indx = [ntrain]\n",
    "X_train, X_test = np.split(X, indx)\n",
    "y_train, y_test = np.split(y, indx)\n",
    "X_train, y_train"
   ]
  },
  {
   "cell_type": "code",
   "execution_count": 9,
   "metadata": {},
   "outputs": [],
   "source": [
    "scaler = StandardScaler()\n",
    "# scaler = MinMaxScaler(feature_range=(-1,1))\n",
    "# # # fit scaler on data\n",
    "scaler.fit(X.reshape(-1,1))\n",
    "# # # apply transform\n",
    "X = scaler.transform(X.reshape(-1,1))\n",
    "# X"
   ]
  },
  {
   "cell_type": "code",
   "execution_count": 10,
   "metadata": {},
   "outputs": [],
   "source": [
    "def autoencoder(input_z):\n",
    "    #encoder\n",
    "    #input = 28 x 28 x 1 (wide and thin)\n",
    "    efirst = Dense(100, activation='relu', input_shape=(1,))(input_z)\n",
    "    ehidden = Dense(200, activation='relu')(efirst)\n",
    "    elast = Dense(200, activation='sigmoid')(ehidden)\n",
    "    coded = Dense(10, activation='linear')(elast)\n",
    "    #decoder \n",
    "    dfirst = Dense(200, activation='sigmoid')(coded)\n",
    "    dhidden = Dense(200, activation='relu')(dfirst)\n",
    "    dlast = Dense(100, activation='relu')(dhidden)\n",
    "    decoded = Dense(2, activation='relu')(dlast)\n",
    "    \n",
    "    return decoded"
   ]
  },
  {
   "cell_type": "code",
   "execution_count": 11,
   "metadata": {},
   "outputs": [],
   "source": [
    "batch_size = 2\n",
    "epochs = 200\n",
    "input_z = Input(shape = (1,))"
   ]
  },
  {
   "cell_type": "code",
   "execution_count": 12,
   "metadata": {},
   "outputs": [
    {
     "name": "stdout",
     "output_type": "stream",
     "text": [
      "WARNING:tensorflow:From /home/isidro/anaconda3/lib/python3.7/site-packages/tensorflow/python/ops/init_ops.py:1251: calling VarianceScaling.__init__ (from tensorflow.python.ops.init_ops) with dtype is deprecated and will be removed in a future version.\n",
      "Instructions for updating:\n",
      "Call initializer instance with the dtype argument instead of passing it to the constructor\n"
     ]
    }
   ],
   "source": [
    "autoencoder = Model(input_z, autoencoder(input_z))\n",
    "autoencoder.compile(loss='mean_squared_error', optimizer = 'adam')"
   ]
  },
  {
   "cell_type": "code",
   "execution_count": 13,
   "metadata": {},
   "outputs": [
    {
     "name": "stdout",
     "output_type": "stream",
     "text": [
      "Model: \"model\"\n",
      "_________________________________________________________________\n",
      "Layer (type)                 Output Shape              Param #   \n",
      "=================================================================\n",
      "input_1 (InputLayer)         [(None, 1)]               0         \n",
      "_________________________________________________________________\n",
      "dense (Dense)                (None, 100)               200       \n",
      "_________________________________________________________________\n",
      "dense_1 (Dense)              (None, 200)               20200     \n",
      "_________________________________________________________________\n",
      "dense_2 (Dense)              (None, 200)               40200     \n",
      "_________________________________________________________________\n",
      "dense_3 (Dense)              (None, 10)                2010      \n",
      "_________________________________________________________________\n",
      "dense_4 (Dense)              (None, 200)               2200      \n",
      "_________________________________________________________________\n",
      "dense_5 (Dense)              (None, 200)               40200     \n",
      "_________________________________________________________________\n",
      "dense_6 (Dense)              (None, 100)               20100     \n",
      "_________________________________________________________________\n",
      "dense_7 (Dense)              (None, 2)                 202       \n",
      "=================================================================\n",
      "Total params: 125,312\n",
      "Trainable params: 125,312\n",
      "Non-trainable params: 0\n",
      "_________________________________________________________________\n"
     ]
    }
   ],
   "source": [
    "autoencoder.summary()"
   ]
  },
  {
   "cell_type": "code",
   "execution_count": 14,
   "metadata": {},
   "outputs": [
    {
     "name": "stdout",
     "output_type": "stream",
     "text": [
      "Train on 24 samples, validate on 7 samples\n",
      "Epoch 1/200\n",
      "24/24 [==============================] - 1s 24ms/sample - loss: 6162.1682 - val_loss: 5134.5648\n",
      "Epoch 2/200\n",
      "24/24 [==============================] - 0s 2ms/sample - loss: 4280.4761 - val_loss: 2469.7818\n",
      "Epoch 3/200\n",
      "24/24 [==============================] - 0s 2ms/sample - loss: 1450.8485 - val_loss: 876.3719\n",
      "Epoch 4/200\n",
      "24/24 [==============================] - 0s 2ms/sample - loss: 1133.5215 - val_loss: 746.6454\n",
      "Epoch 5/200\n",
      "24/24 [==============================] - 0s 2ms/sample - loss: 872.6038 - val_loss: 763.9587\n",
      "Epoch 6/200\n",
      "24/24 [==============================] - 0s 2ms/sample - loss: 785.9380 - val_loss: 703.4006\n",
      "Epoch 7/200\n",
      "24/24 [==============================] - 0s 2ms/sample - loss: 800.8358 - val_loss: 720.0403\n",
      "Epoch 8/200\n",
      "24/24 [==============================] - 0s 2ms/sample - loss: 743.6841 - val_loss: 644.0572\n",
      "Epoch 9/200\n",
      "24/24 [==============================] - 0s 2ms/sample - loss: 719.9650 - val_loss: 599.2730\n",
      "Epoch 10/200\n",
      "24/24 [==============================] - 0s 2ms/sample - loss: 691.9465 - val_loss: 541.3558\n",
      "Epoch 11/200\n",
      "24/24 [==============================] - 0s 2ms/sample - loss: 584.2476 - val_loss: 470.8091\n",
      "Epoch 12/200\n",
      "24/24 [==============================] - 0s 2ms/sample - loss: 515.3849 - val_loss: 395.2711\n",
      "Epoch 13/200\n",
      "24/24 [==============================] - 0s 2ms/sample - loss: 446.3361 - val_loss: 317.7796\n",
      "Epoch 14/200\n",
      "24/24 [==============================] - 0s 2ms/sample - loss: 356.5853 - val_loss: 245.0363\n",
      "Epoch 15/200\n",
      "24/24 [==============================] - 0s 2ms/sample - loss: 297.8934 - val_loss: 205.2171\n",
      "Epoch 16/200\n",
      "24/24 [==============================] - 0s 2ms/sample - loss: 250.4790 - val_loss: 162.8926\n",
      "Epoch 17/200\n",
      "24/24 [==============================] - 0s 2ms/sample - loss: 208.1726 - val_loss: 163.9798\n",
      "Epoch 18/200\n",
      "24/24 [==============================] - 0s 2ms/sample - loss: 211.2011 - val_loss: 127.9365\n",
      "Epoch 19/200\n",
      "24/24 [==============================] - 0s 2ms/sample - loss: 205.9885 - val_loss: 184.7299\n",
      "Epoch 20/200\n",
      "24/24 [==============================] - 0s 2ms/sample - loss: 196.7571 - val_loss: 109.8154\n",
      "Epoch 21/200\n",
      "24/24 [==============================] - 0s 2ms/sample - loss: 196.9245 - val_loss: 158.4997\n",
      "Epoch 22/200\n",
      "24/24 [==============================] - 0s 2ms/sample - loss: 196.0714 - val_loss: 120.5448\n",
      "Epoch 23/200\n",
      "24/24 [==============================] - 0s 2ms/sample - loss: 189.6803 - val_loss: 142.4429\n",
      "Epoch 24/200\n",
      "24/24 [==============================] - 0s 2ms/sample - loss: 204.3611 - val_loss: 107.2334\n",
      "Epoch 25/200\n",
      "24/24 [==============================] - 0s 1ms/sample - loss: 189.2384 - val_loss: 179.3487\n",
      "Epoch 26/200\n",
      "24/24 [==============================] - 0s 2ms/sample - loss: 221.7346 - val_loss: 113.4383\n",
      "Epoch 27/200\n",
      "24/24 [==============================] - 0s 1ms/sample - loss: 240.5162 - val_loss: 123.5989\n",
      "Epoch 28/200\n",
      "24/24 [==============================] - 0s 2ms/sample - loss: 199.6192 - val_loss: 144.4951\n",
      "Epoch 29/200\n",
      "24/24 [==============================] - 0s 2ms/sample - loss: 176.8575 - val_loss: 141.1671\n",
      "Epoch 30/200\n",
      "24/24 [==============================] - 0s 2ms/sample - loss: 178.6736 - val_loss: 138.8888\n",
      "Epoch 31/200\n",
      "24/24 [==============================] - 0s 2ms/sample - loss: 181.8149 - val_loss: 166.2057\n",
      "Epoch 32/200\n",
      "24/24 [==============================] - 0s 2ms/sample - loss: 193.9814 - val_loss: 119.6146\n",
      "Epoch 33/200\n",
      "24/24 [==============================] - 0s 2ms/sample - loss: 202.5283 - val_loss: 180.4736\n",
      "Epoch 34/200\n",
      "24/24 [==============================] - 0s 2ms/sample - loss: 180.3464 - val_loss: 122.4935\n",
      "Epoch 35/200\n",
      "24/24 [==============================] - 0s 2ms/sample - loss: 172.3675 - val_loss: 126.4481\n",
      "Epoch 36/200\n",
      "24/24 [==============================] - 0s 2ms/sample - loss: 168.4974 - val_loss: 157.3135\n",
      "Epoch 37/200\n",
      "24/24 [==============================] - 0s 2ms/sample - loss: 180.5480 - val_loss: 119.4687\n",
      "Epoch 38/200\n",
      "24/24 [==============================] - 0s 1ms/sample - loss: 179.8242 - val_loss: 161.0889\n",
      "Epoch 39/200\n",
      "24/24 [==============================] - 0s 1ms/sample - loss: 165.0853 - val_loss: 112.5952\n",
      "Epoch 40/200\n",
      "24/24 [==============================] - 0s 1ms/sample - loss: 182.2432 - val_loss: 141.6772\n",
      "Epoch 41/200\n",
      "24/24 [==============================] - 0s 1ms/sample - loss: 175.1141 - val_loss: 114.0405\n",
      "Epoch 42/200\n",
      "24/24 [==============================] - 0s 2ms/sample - loss: 178.1554 - val_loss: 130.6975\n",
      "Epoch 43/200\n",
      "24/24 [==============================] - 0s 1ms/sample - loss: 180.2659 - val_loss: 167.0797\n",
      "Epoch 44/200\n",
      "24/24 [==============================] - 0s 1ms/sample - loss: 179.3995 - val_loss: 115.1964\n",
      "Epoch 45/200\n",
      "24/24 [==============================] - 0s 1ms/sample - loss: 190.6792 - val_loss: 192.3318\n",
      "Epoch 46/200\n",
      "24/24 [==============================] - 0s 2ms/sample - loss: 180.3125 - val_loss: 122.5999\n",
      "Epoch 47/200\n",
      "24/24 [==============================] - 0s 2ms/sample - loss: 176.7886 - val_loss: 138.8411\n",
      "Epoch 48/200\n",
      "24/24 [==============================] - 0s 1ms/sample - loss: 172.3189 - val_loss: 153.9423\n",
      "Epoch 49/200\n",
      "24/24 [==============================] - 0s 1ms/sample - loss: 168.5000 - val_loss: 133.9593\n",
      "Epoch 50/200\n",
      "24/24 [==============================] - 0s 1ms/sample - loss: 183.4524 - val_loss: 151.7948\n",
      "Epoch 51/200\n",
      "24/24 [==============================] - 0s 2ms/sample - loss: 171.2450 - val_loss: 116.9047\n",
      "Epoch 52/200\n",
      "24/24 [==============================] - 0s 3ms/sample - loss: 169.5606 - val_loss: 178.6461\n",
      "Epoch 53/200\n",
      "24/24 [==============================] - 0s 2ms/sample - loss: 185.8180 - val_loss: 114.1291\n",
      "Epoch 54/200\n",
      "24/24 [==============================] - 0s 2ms/sample - loss: 152.9874 - val_loss: 179.0820\n",
      "Epoch 55/200\n",
      "24/24 [==============================] - 0s 2ms/sample - loss: 182.8666 - val_loss: 116.5425\n",
      "Epoch 56/200\n",
      "24/24 [==============================] - 0s 2ms/sample - loss: 167.5185 - val_loss: 150.4340\n",
      "Epoch 57/200\n",
      "24/24 [==============================] - 0s 2ms/sample - loss: 177.0232 - val_loss: 115.5959\n",
      "Epoch 58/200\n",
      "24/24 [==============================] - 0s 2ms/sample - loss: 179.0979 - val_loss: 144.6608\n",
      "Epoch 59/200\n",
      "24/24 [==============================] - 0s 2ms/sample - loss: 175.8689 - val_loss: 167.9204\n",
      "Epoch 60/200\n",
      "24/24 [==============================] - 0s 2ms/sample - loss: 182.6674 - val_loss: 164.0428\n",
      "Epoch 61/200\n",
      "24/24 [==============================] - 0s 2ms/sample - loss: 171.4011 - val_loss: 120.3111\n",
      "Epoch 62/200\n",
      "24/24 [==============================] - 0s 2ms/sample - loss: 196.3624 - val_loss: 134.7405\n",
      "Epoch 63/200\n",
      "24/24 [==============================] - 0s 2ms/sample - loss: 169.6041 - val_loss: 162.4890\n",
      "Epoch 64/200\n",
      "24/24 [==============================] - 0s 2ms/sample - loss: 183.2908 - val_loss: 133.0065\n",
      "Epoch 65/200\n",
      "24/24 [==============================] - 0s 2ms/sample - loss: 175.2836 - val_loss: 138.9334\n",
      "Epoch 66/200\n",
      "24/24 [==============================] - 0s 2ms/sample - loss: 164.6293 - val_loss: 132.0619\n",
      "Epoch 67/200\n",
      "24/24 [==============================] - 0s 2ms/sample - loss: 161.4812 - val_loss: 155.2019\n",
      "Epoch 68/200\n",
      "24/24 [==============================] - 0s 2ms/sample - loss: 165.5285 - val_loss: 155.3842\n",
      "Epoch 69/200\n",
      "24/24 [==============================] - 0s 2ms/sample - loss: 162.4277 - val_loss: 129.0613\n",
      "Epoch 70/200\n",
      "24/24 [==============================] - 0s 2ms/sample - loss: 165.0960 - val_loss: 166.1559\n",
      "Epoch 71/200\n",
      "24/24 [==============================] - 0s 2ms/sample - loss: 174.4351 - val_loss: 159.4572\n",
      "Epoch 72/200\n",
      "24/24 [==============================] - 0s 2ms/sample - loss: 172.9542 - val_loss: 132.3462\n",
      "Epoch 73/200\n",
      "24/24 [==============================] - 0s 2ms/sample - loss: 166.1931 - val_loss: 138.1135\n",
      "Epoch 74/200\n",
      "24/24 [==============================] - 0s 2ms/sample - loss: 162.1284 - val_loss: 132.7149\n",
      "Epoch 75/200\n",
      "24/24 [==============================] - 0s 1ms/sample - loss: 173.4253 - val_loss: 128.5811\n",
      "Epoch 76/200\n",
      "24/24 [==============================] - 0s 2ms/sample - loss: 159.3669 - val_loss: 147.7890\n",
      "Epoch 77/200\n",
      "24/24 [==============================] - 0s 2ms/sample - loss: 162.6129 - val_loss: 136.5257\n"
     ]
    },
    {
     "name": "stdout",
     "output_type": "stream",
     "text": [
      "Epoch 78/200\n",
      "24/24 [==============================] - 0s 2ms/sample - loss: 185.6299 - val_loss: 133.9262\n",
      "Epoch 79/200\n",
      "24/24 [==============================] - 0s 1ms/sample - loss: 208.6643 - val_loss: 202.2307\n",
      "Epoch 80/200\n",
      "24/24 [==============================] - 0s 2ms/sample - loss: 192.0956 - val_loss: 136.1784\n",
      "Epoch 81/200\n",
      "24/24 [==============================] - 0s 2ms/sample - loss: 179.5914 - val_loss: 169.3993\n",
      "Epoch 82/200\n",
      "24/24 [==============================] - 0s 2ms/sample - loss: 168.8703 - val_loss: 130.5747\n",
      "Epoch 83/200\n",
      "24/24 [==============================] - 0s 2ms/sample - loss: 160.7971 - val_loss: 168.6238\n",
      "Epoch 84/200\n",
      "24/24 [==============================] - 0s 1ms/sample - loss: 165.5853 - val_loss: 142.8381\n",
      "Epoch 85/200\n",
      "24/24 [==============================] - 0s 1ms/sample - loss: 169.4624 - val_loss: 152.0083\n",
      "Epoch 86/200\n",
      "24/24 [==============================] - 0s 1ms/sample - loss: 172.2627 - val_loss: 129.2392\n",
      "Epoch 87/200\n",
      "24/24 [==============================] - 0s 1ms/sample - loss: 167.0158 - val_loss: 173.2591\n",
      "Epoch 88/200\n",
      "24/24 [==============================] - 0s 1ms/sample - loss: 183.5411 - val_loss: 178.1821\n",
      "Epoch 89/200\n",
      "24/24 [==============================] - 0s 1ms/sample - loss: 168.0848 - val_loss: 143.9623\n",
      "Epoch 90/200\n",
      "24/24 [==============================] - 0s 1ms/sample - loss: 171.6100 - val_loss: 148.9372\n",
      "Epoch 91/200\n",
      "24/24 [==============================] - 0s 1ms/sample - loss: 184.1957 - val_loss: 131.0852\n",
      "Epoch 92/200\n",
      "24/24 [==============================] - 0s 2ms/sample - loss: 164.3618 - val_loss: 181.2143\n",
      "Epoch 93/200\n",
      "24/24 [==============================] - 0s 2ms/sample - loss: 172.4706 - val_loss: 129.6745\n",
      "Epoch 94/200\n",
      "24/24 [==============================] - 0s 2ms/sample - loss: 182.6875 - val_loss: 214.9506\n",
      "Epoch 95/200\n",
      "24/24 [==============================] - 0s 1ms/sample - loss: 174.5807 - val_loss: 138.2631\n",
      "Epoch 96/200\n",
      "24/24 [==============================] - 0s 2ms/sample - loss: 168.5606 - val_loss: 141.7793\n",
      "Epoch 97/200\n",
      "24/24 [==============================] - 0s 2ms/sample - loss: 161.4516 - val_loss: 146.2797\n",
      "Epoch 98/200\n",
      "24/24 [==============================] - 0s 1ms/sample - loss: 174.0278 - val_loss: 135.2128\n",
      "Epoch 99/200\n",
      "24/24 [==============================] - 0s 2ms/sample - loss: 169.9038 - val_loss: 194.0694\n",
      "Epoch 100/200\n",
      "24/24 [==============================] - 0s 2ms/sample - loss: 192.0593 - val_loss: 134.6698\n",
      "Epoch 101/200\n",
      "24/24 [==============================] - 0s 2ms/sample - loss: 152.3241 - val_loss: 189.0092\n",
      "Epoch 102/200\n",
      "24/24 [==============================] - 0s 2ms/sample - loss: 181.6416 - val_loss: 143.5312\n",
      "Epoch 103/200\n",
      "24/24 [==============================] - 0s 2ms/sample - loss: 172.7756 - val_loss: 171.0044\n",
      "Epoch 104/200\n",
      "24/24 [==============================] - 0s 1ms/sample - loss: 188.1561 - val_loss: 146.4264\n",
      "Epoch 105/200\n",
      "24/24 [==============================] - 0s 1ms/sample - loss: 166.6528 - val_loss: 160.6916\n",
      "Epoch 106/200\n",
      "24/24 [==============================] - 0s 1ms/sample - loss: 173.1703 - val_loss: 175.6321\n",
      "Epoch 107/200\n",
      "24/24 [==============================] - 0s 1ms/sample - loss: 175.8878 - val_loss: 132.4136\n",
      "Epoch 108/200\n",
      "24/24 [==============================] - 0s 2ms/sample - loss: 160.8344 - val_loss: 187.9852\n",
      "Epoch 109/200\n",
      "24/24 [==============================] - 0s 2ms/sample - loss: 174.4118 - val_loss: 128.3655\n",
      "Epoch 110/200\n",
      "24/24 [==============================] - 0s 2ms/sample - loss: 175.6451 - val_loss: 141.2728\n",
      "Epoch 111/200\n",
      "24/24 [==============================] - 0s 2ms/sample - loss: 158.0347 - val_loss: 146.7264\n",
      "Epoch 112/200\n",
      "24/24 [==============================] - 0s 2ms/sample - loss: 171.3399 - val_loss: 138.0250\n",
      "Epoch 113/200\n",
      "24/24 [==============================] - 0s 2ms/sample - loss: 160.7502 - val_loss: 166.6930\n",
      "Epoch 114/200\n",
      "24/24 [==============================] - 0s 1ms/sample - loss: 176.5339 - val_loss: 137.3363\n",
      "Epoch 115/200\n",
      "24/24 [==============================] - 0s 1ms/sample - loss: 188.0557 - val_loss: 232.4348\n",
      "Epoch 116/200\n",
      "24/24 [==============================] - 0s 1ms/sample - loss: 181.8949 - val_loss: 145.5598\n",
      "Epoch 117/200\n",
      "24/24 [==============================] - 0s 2ms/sample - loss: 165.4683 - val_loss: 242.6284\n",
      "Epoch 118/200\n",
      "24/24 [==============================] - 0s 2ms/sample - loss: 172.0013 - val_loss: 145.1422\n",
      "Epoch 119/200\n",
      "24/24 [==============================] - 0s 2ms/sample - loss: 160.2902 - val_loss: 172.5451\n",
      "Epoch 120/200\n",
      "24/24 [==============================] - 0s 2ms/sample - loss: 161.5748 - val_loss: 149.2368\n",
      "Epoch 121/200\n",
      "24/24 [==============================] - 0s 2ms/sample - loss: 172.6239 - val_loss: 142.3350\n",
      "Epoch 122/200\n",
      "24/24 [==============================] - 0s 2ms/sample - loss: 159.1465 - val_loss: 169.2913\n",
      "Epoch 123/200\n",
      "24/24 [==============================] - 0s 2ms/sample - loss: 162.3443 - val_loss: 145.4190\n",
      "Epoch 124/200\n",
      "24/24 [==============================] - 0s 2ms/sample - loss: 157.3111 - val_loss: 173.1599\n",
      "Epoch 125/200\n",
      "24/24 [==============================] - 0s 2ms/sample - loss: 172.1556 - val_loss: 147.6016\n",
      "Epoch 126/200\n",
      "24/24 [==============================] - 0s 2ms/sample - loss: 187.0625 - val_loss: 178.5504\n",
      "Epoch 127/200\n",
      "24/24 [==============================] - 0s 2ms/sample - loss: 173.5565 - val_loss: 135.9353\n",
      "Epoch 128/200\n",
      "24/24 [==============================] - 0s 2ms/sample - loss: 166.9228 - val_loss: 166.3368\n",
      "Epoch 129/200\n",
      "24/24 [==============================] - 0s 2ms/sample - loss: 168.3532 - val_loss: 161.4944\n",
      "Epoch 130/200\n",
      "24/24 [==============================] - 0s 2ms/sample - loss: 162.6838 - val_loss: 154.0369\n",
      "Epoch 131/200\n",
      "24/24 [==============================] - 0s 2ms/sample - loss: 162.9176 - val_loss: 163.3817\n",
      "Epoch 132/200\n",
      "24/24 [==============================] - 0s 2ms/sample - loss: 176.8152 - val_loss: 140.7276\n",
      "Epoch 133/200\n",
      "24/24 [==============================] - 0s 3ms/sample - loss: 182.1949 - val_loss: 154.1410\n",
      "Epoch 134/200\n",
      "24/24 [==============================] - 0s 2ms/sample - loss: 165.2555 - val_loss: 163.3661\n",
      "Epoch 135/200\n",
      "24/24 [==============================] - 0s 2ms/sample - loss: 157.4855 - val_loss: 141.1119\n",
      "Epoch 136/200\n",
      "24/24 [==============================] - 0s 2ms/sample - loss: 168.4758 - val_loss: 203.9269\n",
      "Epoch 137/200\n",
      "24/24 [==============================] - 0s 2ms/sample - loss: 170.2103 - val_loss: 145.0497\n",
      "Epoch 138/200\n",
      "24/24 [==============================] - 0s 2ms/sample - loss: 188.1814 - val_loss: 206.9213\n",
      "Epoch 139/200\n",
      "24/24 [==============================] - 0s 2ms/sample - loss: 174.1494 - val_loss: 147.7003\n",
      "Epoch 140/200\n",
      "24/24 [==============================] - 0s 2ms/sample - loss: 159.9135 - val_loss: 194.5075\n",
      "Epoch 141/200\n",
      "24/24 [==============================] - 0s 3ms/sample - loss: 166.6416 - val_loss: 140.4639\n",
      "Epoch 142/200\n",
      "24/24 [==============================] - 0s 2ms/sample - loss: 201.3984 - val_loss: 177.9527\n",
      "Epoch 143/200\n",
      "24/24 [==============================] - 0s 2ms/sample - loss: 194.4351 - val_loss: 178.1718\n",
      "Epoch 144/200\n",
      "24/24 [==============================] - 0s 2ms/sample - loss: 195.0274 - val_loss: 140.1534\n",
      "Epoch 145/200\n",
      "24/24 [==============================] - 0s 2ms/sample - loss: 184.0205 - val_loss: 202.4932\n",
      "Epoch 146/200\n",
      "24/24 [==============================] - 0s 2ms/sample - loss: 163.6063 - val_loss: 154.3519\n",
      "Epoch 147/200\n",
      "24/24 [==============================] - 0s 2ms/sample - loss: 172.5353 - val_loss: 179.1841\n",
      "Epoch 148/200\n",
      "24/24 [==============================] - 0s 2ms/sample - loss: 164.1856 - val_loss: 157.7153\n",
      "Epoch 149/200\n",
      "24/24 [==============================] - 0s 2ms/sample - loss: 186.6667 - val_loss: 202.2195\n",
      "Epoch 150/200\n",
      "24/24 [==============================] - 0s 2ms/sample - loss: 171.3413 - val_loss: 140.4016\n",
      "Epoch 151/200\n",
      "24/24 [==============================] - 0s 3ms/sample - loss: 164.3390 - val_loss: 163.8210\n",
      "Epoch 152/200\n",
      "24/24 [==============================] - 0s 2ms/sample - loss: 162.9143 - val_loss: 148.0645\n",
      "Epoch 153/200\n",
      "24/24 [==============================] - 0s 2ms/sample - loss: 169.3356 - val_loss: 147.9496\n",
      "Epoch 154/200\n",
      "24/24 [==============================] - 0s 2ms/sample - loss: 162.5554 - val_loss: 174.3853\n"
     ]
    },
    {
     "name": "stdout",
     "output_type": "stream",
     "text": [
      "Epoch 155/200\n",
      "24/24 [==============================] - 0s 2ms/sample - loss: 161.3510 - val_loss: 154.8542\n",
      "Epoch 156/200\n",
      "24/24 [==============================] - 0s 1ms/sample - loss: 168.8462 - val_loss: 175.7146\n",
      "Epoch 157/200\n",
      "24/24 [==============================] - 0s 1ms/sample - loss: 163.9084 - val_loss: 144.5475\n",
      "Epoch 158/200\n",
      "24/24 [==============================] - 0s 2ms/sample - loss: 164.0072 - val_loss: 179.3427\n",
      "Epoch 159/200\n",
      "24/24 [==============================] - 0s 2ms/sample - loss: 189.0138 - val_loss: 181.7300\n",
      "Epoch 160/200\n",
      "24/24 [==============================] - 0s 2ms/sample - loss: 173.1565 - val_loss: 140.3821\n",
      "Epoch 161/200\n",
      "24/24 [==============================] - 0s 1ms/sample - loss: 174.2024 - val_loss: 181.1660\n",
      "Epoch 162/200\n",
      "24/24 [==============================] - 0s 2ms/sample - loss: 180.9506 - val_loss: 140.4528\n",
      "Epoch 163/200\n",
      "24/24 [==============================] - 0s 2ms/sample - loss: 172.4485 - val_loss: 154.8622\n",
      "Epoch 164/200\n",
      "24/24 [==============================] - 0s 1ms/sample - loss: 159.6673 - val_loss: 156.7198\n",
      "Epoch 165/200\n",
      "24/24 [==============================] - 0s 2ms/sample - loss: 164.9624 - val_loss: 146.1038\n",
      "Epoch 166/200\n",
      "24/24 [==============================] - 0s 2ms/sample - loss: 194.9591 - val_loss: 135.8961\n",
      "Epoch 167/200\n",
      "24/24 [==============================] - 0s 2ms/sample - loss: 182.6291 - val_loss: 171.1646\n",
      "Epoch 168/200\n",
      "24/24 [==============================] - 0s 2ms/sample - loss: 165.4925 - val_loss: 152.4967\n",
      "Epoch 169/200\n",
      "24/24 [==============================] - 0s 2ms/sample - loss: 165.0894 - val_loss: 201.3979\n",
      "Epoch 170/200\n",
      "24/24 [==============================] - 0s 2ms/sample - loss: 159.4052 - val_loss: 153.9606\n",
      "Epoch 171/200\n",
      "24/24 [==============================] - 0s 2ms/sample - loss: 195.4850 - val_loss: 202.3259\n",
      "Epoch 172/200\n",
      "24/24 [==============================] - 0s 1ms/sample - loss: 180.0538 - val_loss: 135.1962\n",
      "Epoch 173/200\n",
      "24/24 [==============================] - 0s 2ms/sample - loss: 165.7842 - val_loss: 167.1987\n",
      "Epoch 174/200\n",
      "24/24 [==============================] - 0s 2ms/sample - loss: 170.0702 - val_loss: 144.5127\n",
      "Epoch 175/200\n",
      "24/24 [==============================] - 0s 2ms/sample - loss: 161.3624 - val_loss: 168.6723\n",
      "Epoch 176/200\n",
      "24/24 [==============================] - 0s 2ms/sample - loss: 174.6577 - val_loss: 164.2577\n",
      "Epoch 177/200\n",
      "24/24 [==============================] - 0s 2ms/sample - loss: 160.7840 - val_loss: 173.5873\n",
      "Epoch 178/200\n",
      "24/24 [==============================] - 0s 2ms/sample - loss: 171.1732 - val_loss: 189.5166\n",
      "Epoch 179/200\n",
      "24/24 [==============================] - 0s 2ms/sample - loss: 167.5346 - val_loss: 139.4354\n",
      "Epoch 180/200\n",
      "24/24 [==============================] - 0s 2ms/sample - loss: 166.0022 - val_loss: 160.8508\n",
      "Epoch 181/200\n",
      "24/24 [==============================] - 0s 2ms/sample - loss: 164.3344 - val_loss: 136.6148\n",
      "Epoch 182/200\n",
      "24/24 [==============================] - 0s 2ms/sample - loss: 173.7125 - val_loss: 159.0309\n",
      "Epoch 183/200\n",
      "24/24 [==============================] - 0s 2ms/sample - loss: 172.0875 - val_loss: 162.4043\n",
      "Epoch 184/200\n",
      "24/24 [==============================] - 0s 2ms/sample - loss: 185.2965 - val_loss: 170.7619\n",
      "Epoch 185/200\n",
      "24/24 [==============================] - 0s 3ms/sample - loss: 194.1064 - val_loss: 158.0726\n",
      "Epoch 186/200\n",
      "24/24 [==============================] - 0s 2ms/sample - loss: 178.6532 - val_loss: 146.4994\n",
      "Epoch 187/200\n",
      "24/24 [==============================] - 0s 2ms/sample - loss: 167.0111 - val_loss: 167.3172\n",
      "Epoch 188/200\n",
      "24/24 [==============================] - 0s 2ms/sample - loss: 162.1006 - val_loss: 152.7441\n",
      "Epoch 189/200\n",
      "24/24 [==============================] - 0s 2ms/sample - loss: 158.7163 - val_loss: 168.7696\n",
      "Epoch 190/200\n",
      "24/24 [==============================] - 0s 3ms/sample - loss: 178.5541 - val_loss: 140.6077\n",
      "Epoch 191/200\n",
      "24/24 [==============================] - 0s 2ms/sample - loss: 158.2322 - val_loss: 197.6631\n",
      "Epoch 192/200\n",
      "24/24 [==============================] - 0s 2ms/sample - loss: 161.2686 - val_loss: 152.1942\n",
      "Epoch 193/200\n",
      "24/24 [==============================] - 0s 2ms/sample - loss: 162.7341 - val_loss: 167.7008\n",
      "Epoch 194/200\n",
      "24/24 [==============================] - 0s 2ms/sample - loss: 158.4729 - val_loss: 148.7220\n",
      "Epoch 195/200\n",
      "24/24 [==============================] - 0s 2ms/sample - loss: 159.8417 - val_loss: 186.8121\n",
      "Epoch 196/200\n",
      "24/24 [==============================] - 0s 2ms/sample - loss: 160.8602 - val_loss: 149.0054\n",
      "Epoch 197/200\n",
      "24/24 [==============================] - 0s 2ms/sample - loss: 175.1174 - val_loss: 191.8049\n",
      "Epoch 198/200\n",
      "24/24 [==============================] - 0s 2ms/sample - loss: 178.4733 - val_loss: 139.6737\n",
      "Epoch 199/200\n",
      "24/24 [==============================] - 0s 2ms/sample - loss: 177.9550 - val_loss: 161.3814\n",
      "Epoch 200/200\n",
      "24/24 [==============================] - 0s 2ms/sample - loss: 166.1150 - val_loss: 149.1151\n"
     ]
    }
   ],
   "source": [
    "autoencoder_train = autoencoder.fit(X_train, y_train, batch_size=batch_size,epochs=epochs,verbose=1,validation_data=(X_test, y_test))"
   ]
  },
  {
   "cell_type": "code",
   "execution_count": 15,
   "metadata": {},
   "outputs": [
    {
     "data": {
      "image/png": "[encoded data removed]",
      "text/plain": [
       "<Figure size 432x288 with 1 Axes>"
      ]
     },
     "metadata": {
      "needs_background": "light"
     },
     "output_type": "display_data"
    }
   ],
   "source": [
    "plt.plot(autoencoder_train.history['loss'], color='r', )\n",
    "plt.plot(autoencoder_train.history['val_loss'], color='g')\n",
    "plt.title('model loss function')\n",
    "plt.ylabel('loss function')\n",
    "plt.xlabel('epoch')\n",
    "plt.legend(['train', 'val'], loc='upper left')\n",
    "plt.savefig(\"loss_ae.png\")"
   ]
  },
  {
   "cell_type": "code",
   "execution_count": 16,
   "metadata": {},
   "outputs": [
    {
     "data": {
      "text/plain": [
       "10.355354842517283"
      ]
     },
     "execution_count": 16,
     "metadata": {},
     "output_type": "execute_result"
    }
   ],
   "source": [
    "#uncer net\n",
    "unet = np.sqrt(np.min(autoencoder_train.history['val_loss']))\n",
    "unet"
   ]
  },
  {
   "cell_type": "code",
   "execution_count": 17,
   "metadata": {},
   "outputs": [
    {
     "data": {
      "text/plain": [
       "array([[ 83.51628 ,  20.808697],\n",
       "       [159.96823 ,  26.45575 ],\n",
       "       [ 73.46815 ,  19.924082],\n",
       "       [163.8814  ,  27.067122],\n",
       "       [119.34985 ,  21.041718],\n",
       "       [ 74.26854 ,  20.00795 ],\n",
       "       [ 87.44852 ,  21.028439]], dtype=float32)"
      ]
     },
     "execution_count": 17,
     "metadata": {},
     "output_type": "execute_result"
    }
   ],
   "source": [
    "pred = autoencoder.predict(X_test)\n",
    "pred"
   ]
  },
  {
   "cell_type": "code",
   "execution_count": 47,
   "metadata": {},
   "outputs": [],
   "source": [
    "r = np.random.uniform(0, 2.2, size=10000)\n",
    "pred_random = autoencoder.predict(r)"
   ]
  },
  {
   "cell_type": "code",
   "execution_count": 48,
   "metadata": {},
   "outputs": [
    {
     "data": {
      "text/plain": [
       "(0.0, 2.2)"
      ]
     },
     "execution_count": 48,
     "metadata": {},
     "output_type": "execute_result"
    },
    {
     "data": {
      "image/png": "[encoded data removed]",
      "text/plain": [
       "<Figure size 432x288 with 1 Axes>"
      ]
     },
     "metadata": {
      "needs_background": "light"
     },
     "output_type": "display_data"
    }
   ],
   "source": [
    "yupp = pred_random[:,0]+pred_random[:,1]\n",
    "ylow = pred_random[:,0]-pred_random[:,1]\n",
    "plt.errorbar(scaler.inverse_transform(X), y[:,0], y[:,1], fmt='g.', markersize=15, label='Observations')\n",
    "plt.errorbar(r, pred_random[:,0], pred_random[:,1], fmt='r.', markersize=5, label='Synthetic', alpha=0.05)\n",
    "plt.xlabel(\"Redshift z\")\n",
    "plt.ylabel(\"$H(z)$\")\n",
    "plt.xlim(0,2.2)"
   ]
  },
  {
   "cell_type": "code",
   "execution_count": 49,
   "metadata": {},
   "outputs": [],
   "source": [
    "# Cosmological constants\n",
    "Om = 0.27\n",
    "# variance network\n"
   ]
  },
  {
   "cell_type": "code",
   "execution_count": 50,
   "metadata": {},
   "outputs": [],
   "source": [
    "def Hlcdm(z, H0=73.24):\n",
    "    return H0 * np.sqrt(Om*(1+z)**3 + 1 - Om)"
   ]
  },
  {
   "cell_type": "code",
   "execution_count": 53,
   "metadata": {},
   "outputs": [
    {
     "data": {
      "image/png": "[encoded data removed]",
      "text/plain": [
       "<Figure size 432x288 with 1 Axes>"
      ]
     },
     "metadata": {
      "needs_background": "light"
     },
     "output_type": "display_data"
    }
   ],
   "source": [
    "z = np.linspace(0, 2.0, 10000)\n",
    "# plt.scatter(data[:, 0], data[:, 1], c='g')\n",
    "yupp = pred_random[:,0]+pred_random[:,1]\n",
    "ylow = pred_random[:,0]-pred_random[:,1]\n",
    "plt.errorbar(scaler.inverse_transform(X), y[:,0], y[:,1], fmt='g.', markersize=10, label='Observations')\n",
    "plt.errorbar(r, pred_random[:,0], pred_random[:,1], fmt='r.', markersize=2., label='Synthetic data with errors', alpha=0.01 )\n",
    "plt.plot(z, Hlcdm(z), label='$\\Lambda CDM$ $H_0 = 73.24$', c='k')\n",
    "plt.plot(z, Hlcdm(z, H0=64.4), label='$\\Lambda CDM$ $H_0 = 64.4$', c='b')\n",
    "plt.xlabel(\"Redshift z\")\n",
    "plt.ylabel(\"$H(z)$\")\n",
    "plt.xlim(0,2.0)\n",
    "plt.tight_layout()\n",
    "plt.legend()\n",
    "\n",
    "plt.savefig(\"SyntheticHD.png\",dpi=800)"
   ]
  },
  {
   "cell_type": "code",
   "execution_count": 54,
   "metadata": {},
   "outputs": [
    {
     "data": {
      "text/plain": [
       "((10000, 2), (10000,))"
      ]
     },
     "execution_count": 54,
     "metadata": {},
     "output_type": "execute_result"
    }
   ],
   "source": [
    "pred_random.shape, r.shape"
   ]
  },
  {
   "cell_type": "code",
   "execution_count": 55,
   "metadata": {},
   "outputs": [],
   "source": [
    "r_red = np.random.uniform(0, 2.2, size=100)\n",
    "pred_red = autoencoder.predict(r_red)\n",
    "\n",
    "mookHz = np.concatenate((r_red.reshape(-1,1), pred_red), axis=1)\n",
    "np.savetxt(\"autoEncoderHz.dat\",mookHz, delimiter=\" \")"
   ]
  },
  {
   "cell_type": "code",
   "execution_count": 56,
   "metadata": {},
   "outputs": [
    {
     "data": {
      "text/plain": [
       "array([23.058758, 21.12719 , 21.148579, 30.585436, 26.966827, 29.554781,\n",
       "       29.170177, 21.023064, 21.110271, 29.130022, 22.47209 , 20.957224,\n",
       "       30.273556, 25.189379, 19.944485, 21.09986 , 22.289032, 23.184505,\n",
       "       29.589191, 20.99125 , 30.64521 , 30.688158, 25.435625, 20.31892 ,\n",
       "       20.894794, 19.614147, 21.116184, 25.563747, 22.419092, 29.321892,\n",
       "       30.056288, 28.955517, 26.896576, 27.061142, 30.780832, 19.612553,\n",
       "       21.165943, 20.920916, 21.180332, 30.514252, 30.781109, 20.92327 ,\n",
       "       24.503105, 30.3479  , 28.6057  , 30.483847, 30.667133, 20.96448 ,\n",
       "       22.377764, 23.023682, 21.029379, 29.985645, 20.521208, 29.751114,\n",
       "       21.188646, 25.766626, 20.228231, 29.93409 , 27.360222, 26.837494,\n",
       "       20.306084, 30.715546, 21.161201, 30.627737, 21.084309, 20.715574,\n",
       "       20.322767, 24.347208, 20.953302, 25.75013 , 30.720558, 30.648996,\n",
       "       26.582119, 20.491222, 21.067245, 29.04126 , 29.137161, 30.308304,\n",
       "       25.839233, 19.612553, 21.16337 , 26.411308, 21.745026, 29.453985,\n",
       "       29.066944, 24.655598, 30.77728 , 29.13508 , 22.695904, 20.280802,\n",
       "       21.100021, 23.172277, 20.81545 , 26.749655, 29.331026, 20.706469,\n",
       "       20.895416, 19.978905, 26.401966, 21.027538], dtype=float32)"
      ]
     },
     "execution_count": 56,
     "metadata": {},
     "output_type": "execute_result"
    }
   ],
   "source": [
    "pred_red[:,1]"
   ]
  },
  {
   "cell_type": "code",
   "execution_count": 57,
   "metadata": {},
   "outputs": [
    {
     "data": {
      "text/plain": [
       "array([531.7063 , 446.35815, 447.2624 , 935.4689 , 727.2098 , 873.4851 ,\n",
       "       850.89923, 441.9692 , 445.64355, 848.55817, 504.9948 , 439.20523,\n",
       "       916.48816, 634.5048 , 397.78247, 445.20407, 496.80093, 537.5213 ,\n",
       "       875.52026, 440.63254, 939.1289 , 941.76306, 646.971  , 412.85852,\n",
       "       436.59244, 384.71478, 445.89325, 653.5052 , 502.6157 , 859.7733 ,\n",
       "       903.38043, 838.42194, 723.4258 , 732.3054 , 947.45966, 384.65222,\n",
       "       447.99716, 437.68472, 448.60648, 931.11957, 947.4767 , 437.7832 ,\n",
       "       600.40216, 920.99506, 818.2861 , 929.2649 , 940.4731 , 439.5094 ,\n",
       "       500.7643 , 530.0899 , 442.23477, 899.1389 , 421.11996, 885.1288 ,\n",
       "       448.95874, 663.919  , 409.18134, 896.04974, 748.5817 , 720.2511 ,\n",
       "       412.33704, 943.44476, 447.79645, 938.0583 , 444.54807, 429.135  ,\n",
       "       413.01486, 592.78656, 439.0409 , 663.06915, 943.7527 , 939.36096,\n",
       "       706.6091 , 419.8902 , 443.82883, 843.3948 , 848.9742 , 918.59326,\n",
       "       667.66595, 384.65222, 447.88824, 697.5572 , 472.84613, 867.53723,\n",
       "       844.88727, 607.8985 , 947.241  , 848.8529 , 515.10406, 411.3109 ,\n",
       "       445.2109 , 536.95447, 433.283  , 715.544  , 860.3091 , 428.75784,\n",
       "       436.6184 , 399.15665, 697.06384, 442.15738], dtype=float32)"
      ]
     },
     "execution_count": 57,
     "metadata": {},
     "output_type": "execute_result"
    }
   ],
   "source": [
    "error  = pred_red[:,1]**2\n",
    "error"
   ]
  },
  {
   "cell_type": "code",
   "execution_count": 58,
   "metadata": {},
   "outputs": [
    {
     "data": {
      "text/plain": [
       "(100, 100)"
      ]
     },
     "execution_count": 58,
     "metadata": {},
     "output_type": "execute_result"
    }
   ],
   "source": [
    "diagcov = np.diag(error) #inverso\n",
    "np.savetxt(\"autoEncoderHz_cov.dat\", diagcov, delimiter= \" \", header=\"#100 100\")\n",
    "np.shape(diagcov)"
   ]
  },
  {
   "cell_type": "code",
   "execution_count": 59,
   "metadata": {},
   "outputs": [],
   "source": [
    "dir_name = '/home/isidro/SimpleMC/chains/'\n",
    "#/home/isidro/SimpleMC/SimpleMC/chains/mcmc_SN+HD+BBAO+Planck.txt\n",
    "root1 = dir_name+'LCDM_phy_HD_nested_dynesty_multi'\n",
    "root2 = dir_name+'LCDM_phy_HD_nested_dynesty_multi_new'"
   ]
  },
  {
   "cell_type": "code",
   "execution_count": 29,
   "metadata": {},
   "outputs": [],
   "source": [
    "def Hzfunc(z, theta1):\n",
    "    Omega_m, h = theta1\n",
    "    Hz = 100*h*(Omega_m*(1+z)**3 +(1-Omega_m))**0.5\n",
    "    return Hz"
   ]
  },
  {
   "cell_type": "code",
   "execution_count": 30,
   "metadata": {},
   "outputs": [],
   "source": [
    "import numpy\n",
    "import matplotlib.pyplot as plt\n",
    "from fgivenx import plot_contours, samples_from_getdist_chains"
   ]
  },
  {
   "cell_type": "code",
   "execution_count": 31,
   "metadata": {},
   "outputs": [],
   "source": [
    "samples, weights = samples_from_getdist_chains(['Om', 'h'], root1)\n",
    "samples2, weights2 = samples_from_getdist_chains(['Om', 'h'], root2)"
   ]
  },
  {
   "cell_type": "code",
   "execution_count": 32,
   "metadata": {},
   "outputs": [
    {
     "data": {
      "application/vnd.jupyter.widget-view+json": {
       "model_id": "69bc3762604246cbac89e59cb6d11714",
       "version_major": 2,
       "version_minor": 0
      },
      "text/plain": [
       "HBox(children=(IntProgress(value=0, max=303), HTML(value='')))"
      ]
     },
     "metadata": {},
     "output_type": "display_data"
    },
    {
     "name": "stdout",
     "output_type": "stream",
     "text": [
      "\n"
     ]
    },
    {
     "data": {
      "application/vnd.jupyter.widget-view+json": {
       "model_id": "bb4f63b579d04cc7b7f2f25e6a7b0c3a",
       "version_major": 2,
       "version_minor": 0
      },
      "text/plain": [
       "HBox(children=(IntProgress(value=0), HTML(value='')))"
      ]
     },
     "metadata": {},
     "output_type": "display_data"
    },
    {
     "name": "stdout",
     "output_type": "stream",
     "text": [
      "\n"
     ]
    },
    {
     "data": {
      "text/plain": [
       "Text(0.5, 15.0, 'z')"
      ]
     },
     "execution_count": 32,
     "metadata": {},
     "output_type": "execute_result"
    },
    {
     "data": {
      "image/png": "[encoded data removed]",
      "text/plain": [
       "<Figure size 432x288 with 2 Axes>"
      ]
     },
     "metadata": {
      "needs_background": "light"
     },
     "output_type": "display_data"
    }
   ],
   "source": [
    "z = np.linspace(0, 2.2, 100)\n",
    "cbar = plot_contours(Hzfunc, z, samples, weights=weights,\n",
    "                             contour_line_levels=[1,2], linewidths=1,\n",
    "                             colors=plt.get_cmap('summer'))\n",
    "\n",
    "\n",
    "cbar = plt.colorbar(cbar, ticks=[0, 1, 2, 3])\n",
    "        #cbar.set_ticklabels(['', r'$1\\sigma$', r'$2\\sigma$', r'$3\\sigma$'])\n",
    "cbar.set_ticklabels(['', '$1\\sigma$', '$2\\sigma$'])\n",
    "        # plt.xscale('log')\n",
    "    \n",
    "plt.errorbar(scaler.inverse_transform(X), y[:,0], y[:,1], fmt='r.', \n",
    "             markersize=10, label='Observations')\n",
    "# plt.errorbar(r, pred_random[:,0], pred_random[:,1], fmt='r.', markersize=1, label='Synthetic data with errors', alpha=0.005, )\n",
    "\n",
    "plt.tight_layout()\n",
    "# plt.grid()\n",
    "plt.legend(loc=\"upper left\")\n",
    "plt.ylabel('H(z)')\n",
    "plt.xlabel('z')\n"
   ]
  },
  {
   "cell_type": "code",
   "execution_count": 33,
   "metadata": {},
   "outputs": [
    {
     "data": {
      "application/vnd.jupyter.widget-view+json": {
       "model_id": "5e051e6c05ca4a11819f38f7fa27c15d",
       "version_major": 2,
       "version_minor": 0
      },
      "text/plain": [
       "HBox(children=(IntProgress(value=0, max=316), HTML(value='')))"
      ]
     },
     "metadata": {},
     "output_type": "display_data"
    },
    {
     "name": "stdout",
     "output_type": "stream",
     "text": [
      "\n"
     ]
    },
    {
     "data": {
      "application/vnd.jupyter.widget-view+json": {
       "model_id": "bc34ac9f2a954b8e8b862897be6f2d07",
       "version_major": 2,
       "version_minor": 0
      },
      "text/plain": [
       "HBox(children=(IntProgress(value=0), HTML(value='')))"
      ]
     },
     "metadata": {},
     "output_type": "display_data"
    },
    {
     "name": "stdout",
     "output_type": "stream",
     "text": [
      "\n"
     ]
    },
    {
     "data": {
      "text/plain": [
       "Text(0.5, 15.0, 'z')"
      ]
     },
     "execution_count": 33,
     "metadata": {},
     "output_type": "execute_result"
    },
    {
     "data": {
      "image/png": "[encoded data removed]",
      "text/plain": [
       "<Figure size 432x288 with 2 Axes>"
      ]
     },
     "metadata": {
      "needs_background": "light"
     },
     "output_type": "display_data"
    }
   ],
   "source": [
    "cbar2 = plot_contours(Hzfunc, z, samples2, weights=weights2,\n",
    "                             contour_line_levels=[1,2], linewidths=1,\n",
    "                             colors=plt.get_cmap('viridis'), \n",
    "                        rasterize_contours=True, smooth=0.1) \n",
    "\n",
    "cbar2 = plt.colorbar(cbar2, ticks=[0, 1, 2, 3])\n",
    "        #cbar.set_ticklabels(['', r'$1\\sigma$', r'$2\\sigma$', r'$3\\sigma$'])\n",
    "cbar2.set_ticklabels(['', '$1\\sigma$', '$2\\sigma$'])\n",
    "        # plt.xscale('log')\n",
    "    \n",
    "plt.errorbar(r_red[:30], pred_red[:30,0], pred_red[:30,1], fmt='k.', \n",
    "             markersize=10, label='Fake observations')\n",
    "# plt.errorbar(r, pred_random[:,0], pred_random[:,1], fmt='r.', markersize=1, label='Synthetic data with errors', alpha=0.005, )\n",
    "\n",
    "plt.tight_layout()\n",
    "# plt.grid()\n",
    "plt.legend(loc=\"upper left\")\n",
    "plt.ylabel('H(z)')\n",
    "plt.xlabel('z')\n"
   ]
  },
  {
   "cell_type": "code",
   "execution_count": 34,
   "metadata": {},
   "outputs": [
    {
     "data": {
      "text/plain": [
       "array([0.26571078, 0.37556587, 1.88954657, 0.66880925, 0.19687461,\n",
       "       1.53746013, 1.86551847, 1.27093122, 1.73543733, 0.03640236,\n",
       "       1.44874684, 2.02636481, 0.07883014, 0.53012124, 1.26201151,\n",
       "       0.04283716, 1.08081033, 1.61068069, 1.46361785, 0.87508427])"
      ]
     },
     "execution_count": 34,
     "metadata": {},
     "output_type": "execute_result"
    }
   ],
   "source": [
    "r_red[:20]"
   ]
  },
  {
   "cell_type": "code",
   "execution_count": null,
   "metadata": {},
   "outputs": [],
   "source": []
  }
 ],
 "metadata": {
  "kernelspec": {
   "display_name": "Python 3",
   "language": "python",
   "name": "python3"
  },
  "language_info": {
   "codemirror_mode": {
    "name": "ipython",
    "version": 3
   },
   "file_extension": ".py",
   "mimetype": "text/x-python",
   "name": "python",
   "nbconvert_exporter": "python",
   "pygments_lexer": "ipython3",
   "version": "3.7.3"
  }
 },
 "nbformat": 4,
 "nbformat_minor": 2
}
