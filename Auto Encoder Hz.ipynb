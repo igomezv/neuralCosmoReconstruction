{
 "cells": [
  {
   "cell_type": "code",
   "execution_count": 1,
   "metadata": {},
   "outputs": [],
   "source": [
    "import os\n",
    "os.environ[\"CUDA_DEVICE_ORDER\"]=\"PCI_BUS_ID\"\n",
    "os.environ[\"CUDA_VISIBLE_DEVICES\"]=\"1\" #model will be trained on GPU 1"
   ]
  },
  {
   "cell_type": "code",
   "execution_count": 2,
   "metadata": {},
   "outputs": [
    {
     "name": "stderr",
     "output_type": "stream",
     "text": [
      "/home/isidro/.local/lib/python3.6/site-packages/tensorflow/python/framework/dtypes.py:526: FutureWarning: Passing (type, 1) or '1type' as a synonym of type is deprecated; in a future version of numpy, it will be understood as (type, (1,)) / '(1,)type'.\n",
      "  _np_qint8 = np.dtype([(\"qint8\", np.int8, 1)])\n",
      "/home/isidro/.local/lib/python3.6/site-packages/tensorflow/python/framework/dtypes.py:527: FutureWarning: Passing (type, 1) or '1type' as a synonym of type is deprecated; in a future version of numpy, it will be understood as (type, (1,)) / '(1,)type'.\n",
      "  _np_quint8 = np.dtype([(\"quint8\", np.uint8, 1)])\n",
      "/home/isidro/.local/lib/python3.6/site-packages/tensorflow/python/framework/dtypes.py:528: FutureWarning: Passing (type, 1) or '1type' as a synonym of type is deprecated; in a future version of numpy, it will be understood as (type, (1,)) / '(1,)type'.\n",
      "  _np_qint16 = np.dtype([(\"qint16\", np.int16, 1)])\n",
      "/home/isidro/.local/lib/python3.6/site-packages/tensorflow/python/framework/dtypes.py:529: FutureWarning: Passing (type, 1) or '1type' as a synonym of type is deprecated; in a future version of numpy, it will be understood as (type, (1,)) / '(1,)type'.\n",
      "  _np_quint16 = np.dtype([(\"quint16\", np.uint16, 1)])\n",
      "/home/isidro/.local/lib/python3.6/site-packages/tensorflow/python/framework/dtypes.py:530: FutureWarning: Passing (type, 1) or '1type' as a synonym of type is deprecated; in a future version of numpy, it will be understood as (type, (1,)) / '(1,)type'.\n",
      "  _np_qint32 = np.dtype([(\"qint32\", np.int32, 1)])\n",
      "/home/isidro/.local/lib/python3.6/site-packages/tensorflow/python/framework/dtypes.py:535: FutureWarning: Passing (type, 1) or '1type' as a synonym of type is deprecated; in a future version of numpy, it will be understood as (type, (1,)) / '(1,)type'.\n",
      "  np_resource = np.dtype([(\"resource\", np.ubyte, 1)])\n"
     ]
    }
   ],
   "source": [
    "import tensorflow.keras\n",
    "from matplotlib import pyplot as plt\n",
    "import numpy as np\n",
    "import gzip\n",
    "%matplotlib inline\n",
    "from tensorflow.keras.layers import Input,Conv2D,MaxPooling2D,UpSampling2D, Dense\n",
    "from tensorflow.keras.models import Model\n",
    "from tensorflow.keras.optimizers import RMSprop\n",
    "import pandas as pd\n",
    "from sklearn.preprocessing import StandardScaler, MinMaxScaler"
   ]
  },
  {
   "cell_type": "code",
   "execution_count": 3,
   "metadata": {},
   "outputs": [
    {
     "data": {
      "text/html": [
       "<div>\n",
       "<style scoped>\n",
       "    .dataframe tbody tr th:only-of-type {\n",
       "        vertical-align: middle;\n",
       "    }\n",
       "\n",
       "    .dataframe tbody tr th {\n",
       "        vertical-align: top;\n",
       "    }\n",
       "\n",
       "    .dataframe thead th {\n",
       "        text-align: right;\n",
       "    }\n",
       "</style>\n",
       "<table border=\"1\" class=\"dataframe\">\n",
       "  <thead>\n",
       "    <tr style=\"text-align: right;\">\n",
       "      <th></th>\n",
       "      <th>z</th>\n",
       "      <th>hz</th>\n",
       "      <th>err</th>\n",
       "    </tr>\n",
       "  </thead>\n",
       "  <tbody>\n",
       "    <tr>\n",
       "      <th>0</th>\n",
       "      <td>0.0700</td>\n",
       "      <td>69.0</td>\n",
       "      <td>19.6</td>\n",
       "    </tr>\n",
       "    <tr>\n",
       "      <th>1</th>\n",
       "      <td>0.0900</td>\n",
       "      <td>69.0</td>\n",
       "      <td>12.0</td>\n",
       "    </tr>\n",
       "    <tr>\n",
       "      <th>2</th>\n",
       "      <td>0.1200</td>\n",
       "      <td>68.6</td>\n",
       "      <td>26.2</td>\n",
       "    </tr>\n",
       "    <tr>\n",
       "      <th>3</th>\n",
       "      <td>0.1700</td>\n",
       "      <td>83.0</td>\n",
       "      <td>8.0</td>\n",
       "    </tr>\n",
       "    <tr>\n",
       "      <th>4</th>\n",
       "      <td>0.1791</td>\n",
       "      <td>75.0</td>\n",
       "      <td>4.0</td>\n",
       "    </tr>\n",
       "  </tbody>\n",
       "</table>\n",
       "</div>"
      ],
      "text/plain": [
       "        z    hz   err\n",
       "0  0.0700  69.0  19.6\n",
       "1  0.0900  69.0  12.0\n",
       "2  0.1200  68.6  26.2\n",
       "3  0.1700  83.0   8.0\n",
       "4  0.1791  75.0   4.0"
      ]
     },
     "execution_count": 3,
     "metadata": {},
     "output_type": "execute_result"
    }
   ],
   "source": [
    "file = 'data/Hz31.txt'\n",
    "data = pd.read_csv(file, names=['z', 'hz', 'err'], sep = \" \" )\n",
    "data.head()"
   ]
  },
  {
   "cell_type": "code",
   "execution_count": 4,
   "metadata": {},
   "outputs": [
    {
     "data": {
      "text/html": [
       "<div>\n",
       "<style scoped>\n",
       "    .dataframe tbody tr th:only-of-type {\n",
       "        vertical-align: middle;\n",
       "    }\n",
       "\n",
       "    .dataframe tbody tr th {\n",
       "        vertical-align: top;\n",
       "    }\n",
       "\n",
       "    .dataframe thead th {\n",
       "        text-align: right;\n",
       "    }\n",
       "</style>\n",
       "<table border=\"1\" class=\"dataframe\">\n",
       "  <thead>\n",
       "    <tr style=\"text-align: right;\">\n",
       "      <th></th>\n",
       "      <th>z</th>\n",
       "      <th>hz</th>\n",
       "      <th>err</th>\n",
       "    </tr>\n",
       "  </thead>\n",
       "  <tbody>\n",
       "    <tr>\n",
       "      <th>0</th>\n",
       "      <td>0.0700</td>\n",
       "      <td>69.0</td>\n",
       "      <td>19.6</td>\n",
       "    </tr>\n",
       "    <tr>\n",
       "      <th>1</th>\n",
       "      <td>0.0900</td>\n",
       "      <td>69.0</td>\n",
       "      <td>12.0</td>\n",
       "    </tr>\n",
       "    <tr>\n",
       "      <th>2</th>\n",
       "      <td>0.1200</td>\n",
       "      <td>68.6</td>\n",
       "      <td>26.2</td>\n",
       "    </tr>\n",
       "    <tr>\n",
       "      <th>3</th>\n",
       "      <td>0.1700</td>\n",
       "      <td>83.0</td>\n",
       "      <td>8.0</td>\n",
       "    </tr>\n",
       "    <tr>\n",
       "      <th>4</th>\n",
       "      <td>0.1791</td>\n",
       "      <td>75.0</td>\n",
       "      <td>4.0</td>\n",
       "    </tr>\n",
       "    <tr>\n",
       "      <th>5</th>\n",
       "      <td>0.1993</td>\n",
       "      <td>75.0</td>\n",
       "      <td>5.0</td>\n",
       "    </tr>\n",
       "    <tr>\n",
       "      <th>6</th>\n",
       "      <td>0.2000</td>\n",
       "      <td>72.9</td>\n",
       "      <td>29.6</td>\n",
       "    </tr>\n",
       "    <tr>\n",
       "      <th>7</th>\n",
       "      <td>0.2700</td>\n",
       "      <td>77.0</td>\n",
       "      <td>14.0</td>\n",
       "    </tr>\n",
       "    <tr>\n",
       "      <th>8</th>\n",
       "      <td>0.2800</td>\n",
       "      <td>88.8</td>\n",
       "      <td>36.6</td>\n",
       "    </tr>\n",
       "    <tr>\n",
       "      <th>9</th>\n",
       "      <td>0.3519</td>\n",
       "      <td>83.0</td>\n",
       "      <td>14.0</td>\n",
       "    </tr>\n",
       "    <tr>\n",
       "      <th>10</th>\n",
       "      <td>0.3802</td>\n",
       "      <td>83.0</td>\n",
       "      <td>13.5</td>\n",
       "    </tr>\n",
       "    <tr>\n",
       "      <th>11</th>\n",
       "      <td>0.4000</td>\n",
       "      <td>95.0</td>\n",
       "      <td>17.0</td>\n",
       "    </tr>\n",
       "    <tr>\n",
       "      <th>12</th>\n",
       "      <td>0.4004</td>\n",
       "      <td>77.0</td>\n",
       "      <td>10.2</td>\n",
       "    </tr>\n",
       "    <tr>\n",
       "      <th>13</th>\n",
       "      <td>0.4247</td>\n",
       "      <td>87.1</td>\n",
       "      <td>11.2</td>\n",
       "    </tr>\n",
       "    <tr>\n",
       "      <th>14</th>\n",
       "      <td>0.4497</td>\n",
       "      <td>92.8</td>\n",
       "      <td>12.9</td>\n",
       "    </tr>\n",
       "    <tr>\n",
       "      <th>15</th>\n",
       "      <td>0.4700</td>\n",
       "      <td>89.0</td>\n",
       "      <td>49.6</td>\n",
       "    </tr>\n",
       "    <tr>\n",
       "      <th>16</th>\n",
       "      <td>0.4783</td>\n",
       "      <td>80.9</td>\n",
       "      <td>9.0</td>\n",
       "    </tr>\n",
       "    <tr>\n",
       "      <th>17</th>\n",
       "      <td>0.4800</td>\n",
       "      <td>97.0</td>\n",
       "      <td>62.0</td>\n",
       "    </tr>\n",
       "    <tr>\n",
       "      <th>18</th>\n",
       "      <td>0.5929</td>\n",
       "      <td>104.0</td>\n",
       "      <td>13.0</td>\n",
       "    </tr>\n",
       "    <tr>\n",
       "      <th>19</th>\n",
       "      <td>0.6797</td>\n",
       "      <td>92.0</td>\n",
       "      <td>8.0</td>\n",
       "    </tr>\n",
       "    <tr>\n",
       "      <th>20</th>\n",
       "      <td>0.7812</td>\n",
       "      <td>105.0</td>\n",
       "      <td>12.0</td>\n",
       "    </tr>\n",
       "    <tr>\n",
       "      <th>21</th>\n",
       "      <td>0.8754</td>\n",
       "      <td>125.0</td>\n",
       "      <td>17.0</td>\n",
       "    </tr>\n",
       "    <tr>\n",
       "      <th>22</th>\n",
       "      <td>0.8800</td>\n",
       "      <td>90.0</td>\n",
       "      <td>40.0</td>\n",
       "    </tr>\n",
       "    <tr>\n",
       "      <th>23</th>\n",
       "      <td>0.9000</td>\n",
       "      <td>117.0</td>\n",
       "      <td>23.0</td>\n",
       "    </tr>\n",
       "    <tr>\n",
       "      <th>24</th>\n",
       "      <td>1.0370</td>\n",
       "      <td>154.0</td>\n",
       "      <td>20.0</td>\n",
       "    </tr>\n",
       "    <tr>\n",
       "      <th>25</th>\n",
       "      <td>1.3000</td>\n",
       "      <td>168.0</td>\n",
       "      <td>17.0</td>\n",
       "    </tr>\n",
       "    <tr>\n",
       "      <th>26</th>\n",
       "      <td>1.3630</td>\n",
       "      <td>160.0</td>\n",
       "      <td>33.6</td>\n",
       "    </tr>\n",
       "    <tr>\n",
       "      <th>27</th>\n",
       "      <td>1.4300</td>\n",
       "      <td>177.0</td>\n",
       "      <td>18.0</td>\n",
       "    </tr>\n",
       "    <tr>\n",
       "      <th>28</th>\n",
       "      <td>1.5300</td>\n",
       "      <td>140.0</td>\n",
       "      <td>14.0</td>\n",
       "    </tr>\n",
       "    <tr>\n",
       "      <th>29</th>\n",
       "      <td>1.7500</td>\n",
       "      <td>202.0</td>\n",
       "      <td>40.0</td>\n",
       "    </tr>\n",
       "    <tr>\n",
       "      <th>30</th>\n",
       "      <td>1.9650</td>\n",
       "      <td>186.5</td>\n",
       "      <td>50.4</td>\n",
       "    </tr>\n",
       "  </tbody>\n",
       "</table>\n",
       "</div>"
      ],
      "text/plain": [
       "         z     hz   err\n",
       "0   0.0700   69.0  19.6\n",
       "1   0.0900   69.0  12.0\n",
       "2   0.1200   68.6  26.2\n",
       "3   0.1700   83.0   8.0\n",
       "4   0.1791   75.0   4.0\n",
       "5   0.1993   75.0   5.0\n",
       "6   0.2000   72.9  29.6\n",
       "7   0.2700   77.0  14.0\n",
       "8   0.2800   88.8  36.6\n",
       "9   0.3519   83.0  14.0\n",
       "10  0.3802   83.0  13.5\n",
       "11  0.4000   95.0  17.0\n",
       "12  0.4004   77.0  10.2\n",
       "13  0.4247   87.1  11.2\n",
       "14  0.4497   92.8  12.9\n",
       "15  0.4700   89.0  49.6\n",
       "16  0.4783   80.9   9.0\n",
       "17  0.4800   97.0  62.0\n",
       "18  0.5929  104.0  13.0\n",
       "19  0.6797   92.0   8.0\n",
       "20  0.7812  105.0  12.0\n",
       "21  0.8754  125.0  17.0\n",
       "22  0.8800   90.0  40.0\n",
       "23  0.9000  117.0  23.0\n",
       "24  1.0370  154.0  20.0\n",
       "25  1.3000  168.0  17.0\n",
       "26  1.3630  160.0  33.6\n",
       "27  1.4300  177.0  18.0\n",
       "28  1.5300  140.0  14.0\n",
       "29  1.7500  202.0  40.0\n",
       "30  1.9650  186.5  50.4"
      ]
     },
     "execution_count": 4,
     "metadata": {},
     "output_type": "execute_result"
    }
   ],
   "source": [
    "data"
   ]
  },
  {
   "cell_type": "markdown",
   "metadata": {},
   "source": [
    "Read the data for cosmic chronometers"
   ]
  },
  {
   "cell_type": "code",
   "execution_count": 5,
   "metadata": {},
   "outputs": [
    {
     "data": {
      "text/plain": [
       "array([11,  3, 22, 13, 25, 12, 21, 20,  4,  2, 26, 19,  6, 27, 29,  0, 24,\n",
       "       14, 17, 10, 28,  5,  7,  8,  1, 16,  9, 23, 15, 18, 30])"
      ]
     },
     "execution_count": 5,
     "metadata": {},
     "output_type": "execute_result"
    }
   ],
   "source": [
    "randomize = np.random.permutation(len(data.values))\n",
    "randomize\n"
   ]
  },
  {
   "cell_type": "markdown",
   "metadata": {},
   "source": [
    "Let's prepare our input data. "
   ]
  },
  {
   "cell_type": "code",
   "execution_count": 6,
   "metadata": {},
   "outputs": [
    {
     "data": {
      "text/plain": [
       "array([[4.000e-01, 9.500e+01, 1.700e+01],\n",
       "       [1.700e-01, 8.300e+01, 8.000e+00],\n",
       "       [8.800e-01, 9.000e+01, 4.000e+01],\n",
       "       [4.247e-01, 8.710e+01, 1.120e+01],\n",
       "       [1.300e+00, 1.680e+02, 1.700e+01],\n",
       "       [4.004e-01, 7.700e+01, 1.020e+01],\n",
       "       [8.754e-01, 1.250e+02, 1.700e+01],\n",
       "       [7.812e-01, 1.050e+02, 1.200e+01],\n",
       "       [1.791e-01, 7.500e+01, 4.000e+00],\n",
       "       [1.200e-01, 6.860e+01, 2.620e+01],\n",
       "       [1.363e+00, 1.600e+02, 3.360e+01],\n",
       "       [6.797e-01, 9.200e+01, 8.000e+00],\n",
       "       [2.000e-01, 7.290e+01, 2.960e+01],\n",
       "       [1.430e+00, 1.770e+02, 1.800e+01],\n",
       "       [1.750e+00, 2.020e+02, 4.000e+01],\n",
       "       [7.000e-02, 6.900e+01, 1.960e+01],\n",
       "       [1.037e+00, 1.540e+02, 2.000e+01],\n",
       "       [4.497e-01, 9.280e+01, 1.290e+01],\n",
       "       [4.800e-01, 9.700e+01, 6.200e+01],\n",
       "       [3.802e-01, 8.300e+01, 1.350e+01],\n",
       "       [1.530e+00, 1.400e+02, 1.400e+01],\n",
       "       [1.993e-01, 7.500e+01, 5.000e+00],\n",
       "       [2.700e-01, 7.700e+01, 1.400e+01],\n",
       "       [2.800e-01, 8.880e+01, 3.660e+01],\n",
       "       [9.000e-02, 6.900e+01, 1.200e+01],\n",
       "       [4.783e-01, 8.090e+01, 9.000e+00],\n",
       "       [3.519e-01, 8.300e+01, 1.400e+01],\n",
       "       [9.000e-01, 1.170e+02, 2.300e+01],\n",
       "       [4.700e-01, 8.900e+01, 4.960e+01],\n",
       "       [5.929e-01, 1.040e+02, 1.300e+01],\n",
       "       [1.965e+00, 1.865e+02, 5.040e+01]])"
      ]
     },
     "execution_count": 6,
     "metadata": {},
     "output_type": "execute_result"
    }
   ],
   "source": [
    "data = data.values[randomize]\n",
    "data"
   ]
  },
  {
   "cell_type": "code",
   "execution_count": 7,
   "metadata": {},
   "outputs": [
    {
     "data": {
      "text/plain": [
       "((31,), (31, 2))"
      ]
     },
     "execution_count": 7,
     "metadata": {},
     "output_type": "execute_result"
    }
   ],
   "source": [
    "X = data[:,0]\n",
    "y = data[:,1:]\n",
    "X.shape, y.shape"
   ]
  },
  {
   "cell_type": "code",
   "execution_count": 8,
   "metadata": {},
   "outputs": [
    {
     "data": {
      "text/plain": [
       "(array([0.4   , 0.17  , 0.88  , 0.4247, 1.3   , 0.4004, 0.8754, 0.7812,\n",
       "        0.1791, 0.12  , 1.363 , 0.6797, 0.2   , 1.43  , 1.75  , 0.07  ,\n",
       "        1.037 , 0.4497, 0.48  , 0.3802, 1.53  , 0.1993, 0.27  , 0.28  ]),\n",
       " array([[ 95. ,  17. ],\n",
       "        [ 83. ,   8. ],\n",
       "        [ 90. ,  40. ],\n",
       "        [ 87.1,  11.2],\n",
       "        [168. ,  17. ],\n",
       "        [ 77. ,  10.2],\n",
       "        [125. ,  17. ],\n",
       "        [105. ,  12. ],\n",
       "        [ 75. ,   4. ],\n",
       "        [ 68.6,  26.2],\n",
       "        [160. ,  33.6],\n",
       "        [ 92. ,   8. ],\n",
       "        [ 72.9,  29.6],\n",
       "        [177. ,  18. ],\n",
       "        [202. ,  40. ],\n",
       "        [ 69. ,  19.6],\n",
       "        [154. ,  20. ],\n",
       "        [ 92.8,  12.9],\n",
       "        [ 97. ,  62. ],\n",
       "        [ 83. ,  13.5],\n",
       "        [140. ,  14. ],\n",
       "        [ 75. ,   5. ],\n",
       "        [ 77. ,  14. ],\n",
       "        [ 88.8,  36.6]]))"
      ]
     },
     "execution_count": 8,
     "metadata": {},
     "output_type": "execute_result"
    }
   ],
   "source": [
    "split = 0.8\n",
    "ntrain = int(split * len(X))\n",
    "indx = [ntrain]\n",
    "X_train, X_test = np.split(X, indx)\n",
    "y_train, y_test = np.split(y, indx)\n",
    "X_train, y_train"
   ]
  },
  {
   "cell_type": "code",
   "execution_count": 9,
   "metadata": {},
   "outputs": [],
   "source": [
    "# scaler = StandardScaler()\n",
    "# # scaler = MinMaxScaler(feature_range=(-1,1))\n",
    "# # fit scaler on data\n",
    "# scaler.fit(X.reshape(-1,1))\n",
    "# # apply transform\n",
    "# X = scaler.transform(X.reshape(-1,1))\n",
    "# X"
   ]
  },
  {
   "cell_type": "code",
   "execution_count": 10,
   "metadata": {},
   "outputs": [],
   "source": [
    "def autoencoder(input_z):\n",
    "    #encoder\n",
    "    #input = 28 x 28 x 1 (wide and thin)\n",
    "    efirst = Dense(100, activation='relu', input_shape=(1,))(input_z)\n",
    "    ehidden = Dense(500, activation='relu')(efirst)\n",
    "    elast = Dense(50, activation='linear')(ehidden)\n",
    "    \n",
    "    #decoder \n",
    "    dfirst = Dense(50, activation='linear')(elast)\n",
    "    dhidden = Dense(500, activation='relu')(dfirst)\n",
    "    dlast = Dense(100, activation='relu')(dhidden)\n",
    "    decoded = Dense(2, activation='relu')(dlast)\n",
    "    \n",
    "    return decoded"
   ]
  },
  {
   "cell_type": "code",
   "execution_count": 11,
   "metadata": {},
   "outputs": [],
   "source": [
    "batch_size = 2\n",
    "epochs = 100\n",
    "input_z = Input(shape = (1,))"
   ]
  },
  {
   "cell_type": "code",
   "execution_count": 12,
   "metadata": {},
   "outputs": [
    {
     "name": "stdout",
     "output_type": "stream",
     "text": [
      "WARNING:tensorflow:From /home/isidro/.local/lib/python3.6/site-packages/tensorflow/python/ops/resource_variable_ops.py:435: colocate_with (from tensorflow.python.framework.ops) is deprecated and will be removed in a future version.\n",
      "Instructions for updating:\n",
      "Colocations handled automatically by placer.\n",
      "WARNING:tensorflow:From /home/isidro/.local/lib/python3.6/site-packages/tensorflow/python/keras/utils/losses_utils.py:170: to_float (from tensorflow.python.ops.math_ops) is deprecated and will be removed in a future version.\n",
      "Instructions for updating:\n",
      "Use tf.cast instead.\n"
     ]
    }
   ],
   "source": [
    "autoencoder = Model(input_z, autoencoder(input_z))\n",
    "autoencoder.compile(loss='mean_squared_error', optimizer = 'adam')"
   ]
  },
  {
   "cell_type": "code",
   "execution_count": 13,
   "metadata": {},
   "outputs": [
    {
     "name": "stdout",
     "output_type": "stream",
     "text": [
      "_________________________________________________________________\n",
      "Layer (type)                 Output Shape              Param #   \n",
      "=================================================================\n",
      "input_1 (InputLayer)         (None, 1)                 0         \n",
      "_________________________________________________________________\n",
      "dense (Dense)                (None, 100)               200       \n",
      "_________________________________________________________________\n",
      "dense_1 (Dense)              (None, 500)               50500     \n",
      "_________________________________________________________________\n",
      "dense_2 (Dense)              (None, 50)                25050     \n",
      "_________________________________________________________________\n",
      "dense_3 (Dense)              (None, 50)                2550      \n",
      "_________________________________________________________________\n",
      "dense_4 (Dense)              (None, 500)               25500     \n",
      "_________________________________________________________________\n",
      "dense_5 (Dense)              (None, 100)               50100     \n",
      "_________________________________________________________________\n",
      "dense_6 (Dense)              (None, 2)                 202       \n",
      "=================================================================\n",
      "Total params: 154,102\n",
      "Trainable params: 154,102\n",
      "Non-trainable params: 0\n",
      "_________________________________________________________________\n"
     ]
    }
   ],
   "source": [
    "autoencoder.summary()"
   ]
  },
  {
   "cell_type": "code",
   "execution_count": 14,
   "metadata": {},
   "outputs": [
    {
     "name": "stdout",
     "output_type": "stream",
     "text": [
      "Train on 24 samples, validate on 7 samples\n",
      "WARNING:tensorflow:From /home/isidro/.local/lib/python3.6/site-packages/tensorflow/python/ops/math_ops.py:3066: to_int32 (from tensorflow.python.ops.math_ops) is deprecated and will be removed in a future version.\n",
      "Instructions for updating:\n",
      "Use tf.cast instead.\n",
      "Epoch 1/100\n",
      "24/24 [==============================] - 0s 15ms/sample - loss: 6564.0943 - val_loss: 6015.5366\n",
      "Epoch 2/100\n",
      "24/24 [==============================] - 0s 1ms/sample - loss: 4807.6978 - val_loss: 1434.8132\n",
      "Epoch 3/100\n",
      "24/24 [==============================] - 0s 1ms/sample - loss: 961.4705 - val_loss: 368.4317\n",
      "Epoch 4/100\n",
      "24/24 [==============================] - 0s 1ms/sample - loss: 319.3550 - val_loss: 294.1834\n",
      "Epoch 5/100\n",
      "24/24 [==============================] - 0s 1ms/sample - loss: 299.0398 - val_loss: 360.9535\n",
      "Epoch 6/100\n",
      "24/24 [==============================] - 0s 1ms/sample - loss: 289.2180 - val_loss: 199.5542\n",
      "Epoch 7/100\n",
      "24/24 [==============================] - 0s 1ms/sample - loss: 259.2926 - val_loss: 215.2954\n",
      "Epoch 8/100\n",
      "24/24 [==============================] - 0s 1ms/sample - loss: 236.8154 - val_loss: 182.1806\n",
      "Epoch 9/100\n",
      "24/24 [==============================] - 0s 1ms/sample - loss: 224.2041 - val_loss: 162.7180\n",
      "Epoch 10/100\n",
      "24/24 [==============================] - 0s 1ms/sample - loss: 217.7277 - val_loss: 145.3293\n",
      "Epoch 11/100\n",
      "24/24 [==============================] - 0s 1ms/sample - loss: 213.5093 - val_loss: 164.6384\n",
      "Epoch 12/100\n",
      "24/24 [==============================] - 0s 1ms/sample - loss: 216.4526 - val_loss: 158.0600\n",
      "Epoch 13/100\n",
      "24/24 [==============================] - 0s 1ms/sample - loss: 210.9284 - val_loss: 142.4917\n",
      "Epoch 14/100\n",
      "24/24 [==============================] - 0s 1ms/sample - loss: 222.3100 - val_loss: 130.1684\n",
      "Epoch 15/100\n",
      "24/24 [==============================] - 0s 1ms/sample - loss: 260.9176 - val_loss: 168.0258\n",
      "Epoch 16/100\n",
      "24/24 [==============================] - 0s 1ms/sample - loss: 214.9602 - val_loss: 144.3809\n",
      "Epoch 17/100\n",
      "24/24 [==============================] - 0s 1ms/sample - loss: 192.2680 - val_loss: 133.6553\n",
      "Epoch 18/100\n",
      "24/24 [==============================] - 0s 1ms/sample - loss: 184.1027 - val_loss: 111.3852\n",
      "Epoch 19/100\n",
      "24/24 [==============================] - 0s 1ms/sample - loss: 211.2899 - val_loss: 115.3859\n",
      "Epoch 20/100\n",
      "24/24 [==============================] - 0s 1ms/sample - loss: 223.3006 - val_loss: 140.9839\n",
      "Epoch 21/100\n",
      "24/24 [==============================] - 0s 1ms/sample - loss: 242.0138 - val_loss: 156.7500\n",
      "Epoch 22/100\n",
      "24/24 [==============================] - 0s 1ms/sample - loss: 240.3705 - val_loss: 134.6204\n",
      "Epoch 23/100\n",
      "24/24 [==============================] - 0s 1ms/sample - loss: 214.1917 - val_loss: 116.9547\n",
      "Epoch 24/100\n",
      "24/24 [==============================] - 0s 1ms/sample - loss: 197.0161 - val_loss: 136.6494\n",
      "Epoch 25/100\n",
      "24/24 [==============================] - 0s 1ms/sample - loss: 183.1407 - val_loss: 205.5143\n",
      "Epoch 26/100\n",
      "24/24 [==============================] - 0s 2ms/sample - loss: 244.4132 - val_loss: 113.8833\n",
      "Epoch 27/100\n",
      "24/24 [==============================] - 0s 1ms/sample - loss: 233.5064 - val_loss: 150.4016\n",
      "Epoch 28/100\n",
      "24/24 [==============================] - 0s 1ms/sample - loss: 266.3675 - val_loss: 223.9024\n",
      "Epoch 29/100\n",
      "24/24 [==============================] - 0s 1ms/sample - loss: 261.9953 - val_loss: 126.3176\n",
      "Epoch 30/100\n",
      "24/24 [==============================] - 0s 1ms/sample - loss: 179.0108 - val_loss: 179.1768\n",
      "Epoch 31/100\n",
      "24/24 [==============================] - 0s 1ms/sample - loss: 180.7784 - val_loss: 122.5388\n",
      "Epoch 32/100\n",
      "24/24 [==============================] - 0s 1ms/sample - loss: 256.5696 - val_loss: 171.0105\n",
      "Epoch 33/100\n",
      "24/24 [==============================] - 0s 1ms/sample - loss: 281.4072 - val_loss: 219.9558\n",
      "Epoch 34/100\n",
      "24/24 [==============================] - 0s 1ms/sample - loss: 204.5049 - val_loss: 133.2167\n",
      "Epoch 35/100\n",
      "24/24 [==============================] - 0s 1ms/sample - loss: 199.0280 - val_loss: 156.6492\n",
      "Epoch 36/100\n",
      "24/24 [==============================] - 0s 1ms/sample - loss: 184.7149 - val_loss: 107.6872\n",
      "Epoch 37/100\n",
      "24/24 [==============================] - 0s 1ms/sample - loss: 181.8488 - val_loss: 196.5409\n",
      "Epoch 38/100\n",
      "24/24 [==============================] - 0s 1ms/sample - loss: 200.0479 - val_loss: 119.9949\n",
      "Epoch 39/100\n",
      "24/24 [==============================] - 0s 1ms/sample - loss: 237.3908 - val_loss: 117.3656\n",
      "Epoch 40/100\n",
      "24/24 [==============================] - 0s 1ms/sample - loss: 278.7085 - val_loss: 159.0245\n",
      "Epoch 41/100\n",
      "24/24 [==============================] - 0s 1ms/sample - loss: 193.0116 - val_loss: 130.0084\n",
      "Epoch 42/100\n",
      "24/24 [==============================] - 0s 1ms/sample - loss: 200.4276 - val_loss: 210.1494\n",
      "Epoch 43/100\n",
      "24/24 [==============================] - 0s 1ms/sample - loss: 285.0706 - val_loss: 135.9996\n",
      "Epoch 44/100\n",
      "24/24 [==============================] - 0s 1ms/sample - loss: 216.7062 - val_loss: 168.2296\n",
      "Epoch 45/100\n",
      "24/24 [==============================] - 0s 1ms/sample - loss: 178.5758 - val_loss: 119.4329\n",
      "Epoch 46/100\n",
      "24/24 [==============================] - 0s 1ms/sample - loss: 213.2693 - val_loss: 122.0955\n",
      "Epoch 47/100\n",
      "24/24 [==============================] - 0s 2ms/sample - loss: 182.0394 - val_loss: 145.5185\n",
      "Epoch 48/100\n",
      "24/24 [==============================] - 0s 1ms/sample - loss: 180.5186 - val_loss: 140.9372\n",
      "Epoch 49/100\n",
      "24/24 [==============================] - 0s 1ms/sample - loss: 250.4549 - val_loss: 142.3191\n",
      "Epoch 50/100\n",
      "24/24 [==============================] - 0s 1ms/sample - loss: 213.7256 - val_loss: 210.1345\n",
      "Epoch 51/100\n",
      "24/24 [==============================] - 0s 1ms/sample - loss: 206.3225 - val_loss: 108.6733\n",
      "Epoch 52/100\n",
      "24/24 [==============================] - 0s 1ms/sample - loss: 177.3958 - val_loss: 207.7698\n",
      "Epoch 53/100\n",
      "24/24 [==============================] - 0s 1ms/sample - loss: 214.3833 - val_loss: 162.1761\n",
      "Epoch 54/100\n",
      "24/24 [==============================] - 0s 1ms/sample - loss: 202.3861 - val_loss: 122.3751\n",
      "Epoch 55/100\n",
      "24/24 [==============================] - 0s 1ms/sample - loss: 256.9904 - val_loss: 194.1638\n",
      "Epoch 56/100\n",
      "24/24 [==============================] - 0s 1ms/sample - loss: 199.7006 - val_loss: 166.3817\n",
      "Epoch 57/100\n",
      "24/24 [==============================] - 0s 1ms/sample - loss: 241.6106 - val_loss: 107.7900\n",
      "Epoch 58/100\n",
      "24/24 [==============================] - 0s 1ms/sample - loss: 234.0247 - val_loss: 129.9321\n",
      "Epoch 59/100\n",
      "24/24 [==============================] - 0s 1ms/sample - loss: 198.5316 - val_loss: 135.4533\n",
      "Epoch 60/100\n",
      "24/24 [==============================] - 0s 1ms/sample - loss: 187.3333 - val_loss: 145.7646\n",
      "Epoch 61/100\n",
      "24/24 [==============================] - 0s 1ms/sample - loss: 182.4534 - val_loss: 119.9949\n",
      "Epoch 62/100\n",
      "24/24 [==============================] - 0s 1ms/sample - loss: 191.5243 - val_loss: 147.4722\n",
      "Epoch 63/100\n",
      "24/24 [==============================] - 0s 1ms/sample - loss: 192.7887 - val_loss: 110.3079\n",
      "Epoch 64/100\n",
      "24/24 [==============================] - 0s 1ms/sample - loss: 190.8222 - val_loss: 233.6630\n",
      "Epoch 65/100\n",
      "24/24 [==============================] - 0s 1ms/sample - loss: 207.3599 - val_loss: 114.8470\n",
      "Epoch 66/100\n",
      "24/24 [==============================] - 0s 1ms/sample - loss: 193.8640 - val_loss: 247.8545\n",
      "Epoch 67/100\n",
      "24/24 [==============================] - 0s 1ms/sample - loss: 194.3058 - val_loss: 110.2183\n",
      "Epoch 68/100\n",
      "24/24 [==============================] - 0s 1ms/sample - loss: 203.4847 - val_loss: 162.3365\n",
      "Epoch 69/100\n",
      "24/24 [==============================] - 0s 1ms/sample - loss: 182.1507 - val_loss: 132.1796\n",
      "Epoch 70/100\n",
      "24/24 [==============================] - 0s 1ms/sample - loss: 266.8213 - val_loss: 239.2164\n",
      "Epoch 71/100\n",
      "24/24 [==============================] - 0s 1ms/sample - loss: 246.0117 - val_loss: 152.1457\n",
      "Epoch 72/100\n",
      "24/24 [==============================] - 0s 1ms/sample - loss: 187.4844 - val_loss: 128.3622\n",
      "Epoch 73/100\n",
      "24/24 [==============================] - 0s 1ms/sample - loss: 204.9279 - val_loss: 121.7426\n",
      "Epoch 74/100\n",
      "24/24 [==============================] - 0s 1ms/sample - loss: 235.4138 - val_loss: 123.1856\n",
      "Epoch 75/100\n"
     ]
    },
    {
     "name": "stdout",
     "output_type": "stream",
     "text": [
      "24/24 [==============================] - 0s 1ms/sample - loss: 191.7925 - val_loss: 165.9607\n",
      "Epoch 76/100\n",
      "24/24 [==============================] - 0s 1ms/sample - loss: 191.3134 - val_loss: 135.2192\n",
      "Epoch 77/100\n",
      "24/24 [==============================] - 0s 1ms/sample - loss: 177.4406 - val_loss: 137.1807\n",
      "Epoch 78/100\n",
      "24/24 [==============================] - 0s 1ms/sample - loss: 207.3327 - val_loss: 122.8099\n",
      "Epoch 79/100\n",
      "24/24 [==============================] - 0s 1ms/sample - loss: 278.7245 - val_loss: 423.7538\n",
      "Epoch 80/100\n",
      "24/24 [==============================] - ETA: 0s - loss: 150.646 - 0s 1ms/sample - loss: 187.5628 - val_loss: 122.3464\n",
      "Epoch 81/100\n",
      "24/24 [==============================] - 0s 1ms/sample - loss: 242.5202 - val_loss: 110.6406\n",
      "Epoch 82/100\n",
      "24/24 [==============================] - 0s 1ms/sample - loss: 192.7254 - val_loss: 132.4238\n",
      "Epoch 83/100\n",
      "24/24 [==============================] - 0s 1ms/sample - loss: 198.2645 - val_loss: 113.8064\n",
      "Epoch 84/100\n",
      "24/24 [==============================] - 0s 1ms/sample - loss: 219.1609 - val_loss: 175.4828\n",
      "Epoch 85/100\n",
      "24/24 [==============================] - 0s 1ms/sample - loss: 168.8076 - val_loss: 164.4426\n",
      "Epoch 86/100\n",
      "24/24 [==============================] - 0s 1ms/sample - loss: 246.0053 - val_loss: 281.9990\n",
      "Epoch 87/100\n",
      "24/24 [==============================] - 0s 1ms/sample - loss: 211.9642 - val_loss: 131.9691\n",
      "Epoch 88/100\n",
      "24/24 [==============================] - 0s 1ms/sample - loss: 189.4242 - val_loss: 130.2844\n",
      "Epoch 89/100\n",
      "24/24 [==============================] - 0s 1ms/sample - loss: 188.8942 - val_loss: 187.4039\n",
      "Epoch 90/100\n",
      "24/24 [==============================] - 0s 1ms/sample - loss: 196.1313 - val_loss: 107.8534\n",
      "Epoch 91/100\n",
      "24/24 [==============================] - 0s 1ms/sample - loss: 193.4673 - val_loss: 196.5598\n",
      "Epoch 92/100\n",
      "24/24 [==============================] - 0s 1ms/sample - loss: 173.1229 - val_loss: 146.9428\n",
      "Epoch 93/100\n",
      "24/24 [==============================] - 0s 1ms/sample - loss: 187.2920 - val_loss: 260.4911\n",
      "Epoch 94/100\n",
      "24/24 [==============================] - 0s 1ms/sample - loss: 231.4322 - val_loss: 115.0145\n",
      "Epoch 95/100\n",
      "24/24 [==============================] - 0s 1ms/sample - loss: 188.3319 - val_loss: 141.8678\n",
      "Epoch 96/100\n",
      "24/24 [==============================] - 0s 1ms/sample - loss: 212.0295 - val_loss: 221.9294\n",
      "Epoch 97/100\n",
      "24/24 [==============================] - 0s 1ms/sample - loss: 218.2303 - val_loss: 147.6221\n",
      "Epoch 98/100\n",
      "24/24 [==============================] - 0s 1ms/sample - loss: 285.9100 - val_loss: 210.8490\n",
      "Epoch 99/100\n",
      "24/24 [==============================] - 0s 1ms/sample - loss: 283.3649 - val_loss: 214.5127\n",
      "Epoch 100/100\n",
      "24/24 [==============================] - 0s 1ms/sample - loss: 210.6257 - val_loss: 111.4905\n"
     ]
    }
   ],
   "source": [
    "autoencoder_train = autoencoder.fit(X_train, y_train, batch_size=batch_size,epochs=epochs,verbose=1,validation_data=(X_test, y_test))"
   ]
  },
  {
   "cell_type": "code",
   "execution_count": 53,
   "metadata": {},
   "outputs": [
    {
     "data": {
      "image/png": "[encoded data removed]",
      "text/plain": [
       "<Figure size 432x288 with 1 Axes>"
      ]
     },
     "metadata": {
      "needs_background": "light"
     },
     "output_type": "display_data"
    }
   ],
   "source": [
    "plt.plot(autoencoder_train.history['loss'], color='r', )\n",
    "plt.plot(autoencoder_train.history['val_loss'], color='g')\n",
    "plt.title('model loss function')\n",
    "plt.ylabel('loss function')\n",
    "plt.xlabel('epoch')\n",
    "plt.legend(['train', 'val'], loc='upper left')\n",
    "plt.savefig(\"loss_ae.png\")"
   ]
  },
  {
   "cell_type": "code",
   "execution_count": 16,
   "metadata": {},
   "outputs": [
    {
     "data": {
      "text/plain": [
       "(7, 2)"
      ]
     },
     "execution_count": 16,
     "metadata": {},
     "output_type": "execute_result"
    }
   ],
   "source": [
    "pred = autoencoder.predict(X_test)\n",
    "pred.shape"
   ]
  },
  {
   "cell_type": "code",
   "execution_count": 17,
   "metadata": {},
   "outputs": [
    {
     "data": {
      "text/plain": [
       "array([[ 65.9212  ,  12.758515],\n",
       "       [ 88.74312 ,  16.865698],\n",
       "       [ 81.31409 ,  15.528726],\n",
       "       [115.596565,  21.717867],\n",
       "       [ 88.255295,  16.777914],\n",
       "       [ 95.47863 ,  18.077871],\n",
       "       [189.55676 ,  35.134045]], dtype=float32)"
      ]
     },
     "execution_count": 17,
     "metadata": {},
     "output_type": "execute_result"
    }
   ],
   "source": [
    "pred"
   ]
  },
  {
   "cell_type": "code",
   "execution_count": 65,
   "metadata": {},
   "outputs": [],
   "source": [
    "r = np.random.uniform(0, 2.2, size=10000)\n",
    "# r_inv = scaler.inverse_transform(r)\n",
    "# X = scaler.inverse_transform(X)\n",
    "# X"
   ]
  },
  {
   "cell_type": "code",
   "execution_count": 66,
   "metadata": {},
   "outputs": [
    {
     "data": {
      "text/plain": [
       "array([[ 79.151924,  15.139606],\n",
       "       [152.78621 ,  28.46412 ],\n",
       "       [112.529724,  21.161535],\n",
       "       ...,\n",
       "       [177.68538 ,  32.980656],\n",
       "       [ 89.57214 ,  17.014902],\n",
       "       [159.25194 ,  29.636957]], dtype=float32)"
      ]
     },
     "execution_count": 66,
     "metadata": {},
     "output_type": "execute_result"
    }
   ],
   "source": [
    "pred_random = autoencoder.predict(r)\n",
    "pred_random"
   ]
  },
  {
   "cell_type": "code",
   "execution_count": 67,
   "metadata": {},
   "outputs": [
    {
     "data": {
      "text/plain": [
       "(0.0, 2.2)"
      ]
     },
     "execution_count": 67,
     "metadata": {},
     "output_type": "execute_result"
    },
    {
     "data": {
      "image/png": "[encoded data removed]",
      "text/plain": [
       "<Figure size 432x288 with 1 Axes>"
      ]
     },
     "metadata": {
      "needs_background": "light"
     },
     "output_type": "display_data"
    }
   ],
   "source": [
    "# plt.scatter(data[:, 0], data[:, 1], c='g')\n",
    "yupp = pred_random[:,0]+pred_random[:,1]\n",
    "ylow = pred_random[:,0]-pred_random[:,1]\n",
    "plt.errorbar(X, y[:,0], y[:,1], fmt='g.', markersize=10, label='Observations')\n",
    "plt.errorbar(r, pred_random[:,0], pred_random[:,1], fmt='r.', markersize=1, label='Synthetic', alpha=0.006)\n",
    "# y1 = plt.plot(r, yupp, c='b')\n",
    "# y2 = plt.plot(r, ylow, c='k')\n",
    "# plt.fill_between(r, yupp, ylow, where=yupp>ylow, facecolor='y')\n",
    "plt.xlabel(\"Redshift z\")\n",
    "plt.ylabel(\"$H(z)$\")\n",
    "plt.xlim(0,2.2)"
   ]
  },
  {
   "cell_type": "code",
   "execution_count": 21,
   "metadata": {},
   "outputs": [
    {
     "data": {
      "text/plain": [
       "0.07"
      ]
     },
     "execution_count": 21,
     "metadata": {},
     "output_type": "execute_result"
    }
   ],
   "source": []
  },
  {
   "cell_type": "code",
   "execution_count": null,
   "metadata": {},
   "outputs": [],
   "source": []
  }
 ],
 "metadata": {
  "kernelspec": {
   "display_name": "Python 3",
   "language": "python",
   "name": "python3"
  },
  "language_info": {
   "codemirror_mode": {
    "name": "ipython",
    "version": 3
   },
   "file_extension": ".py",
   "mimetype": "text/x-python",
   "name": "python",
   "nbconvert_exporter": "python",
   "pygments_lexer": "ipython3",
   "version": "3.6.9"
  }
 },
 "nbformat": 4,
 "nbformat_minor": 2
}
