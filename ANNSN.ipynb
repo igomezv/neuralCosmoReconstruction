{
 "cells": [
  {
   "cell_type": "code",
   "execution_count": 1,
   "metadata": {},
   "outputs": [],
   "source": [
    "import os\n",
    "os.environ[\"CUDA_DEVICE_ORDER\"]=\"PCI_BUS_ID\"\n",
    "os.environ[\"CUDA_VISIBLE_DEVICES\"]=\"1\" #model will be trained on GPU 1"
   ]
  },
  {
   "cell_type": "code",
   "execution_count": null,
   "metadata": {},
   "outputs": [],
   "source": [
    "import tensorflow.keras\n",
    "import tensorflow as tf\n",
    "from matplotlib import pyplot as plt\n",
    "import numpy as np\n",
    "import gzip\n",
    "%matplotlib inline\n",
    "from tensorflow.keras.layers import Input,Conv2D,MaxPooling2D,UpSampling2D, Dense\n",
    "from tensorflow.keras.models import Model\n",
    "from tensorflow.keras.optimizers import RMSprop\n",
    "import pandas as pd\n",
    "from sklearn.preprocessing import StandardScaler, MinMaxScaler\n",
    "from tensorflow.keras.optimizers import Adam\n",
    "from tensorflow.keras.initializers import Constant, RandomNormal\n",
    "import seaborn as sns\n",
    "\n"
   ]
  },
  {
   "cell_type": "code",
   "execution_count": null,
   "metadata": {},
   "outputs": [],
   "source": [
    "file = 'data/pantheon.txt'\n",
    "data = pd.read_csv(file, sep = \" \" ,usecols=['zcmb', 'mb', 'dmb'])\n",
    "sns.pairplot(data, diag_kind=\"kde\")\n",
    "plt.savefig(\"distSNPantheon.png\")\n",
    "data = np.sort(data.values, axis=0)\n",
    "data[1047, :]"
   ]
  },
  {
   "cell_type": "code",
   "execution_count": null,
   "metadata": {},
   "outputs": [],
   "source": [
    "# randomize = np.random.permutation(len(data.values))\n",
    "# randomize\n",
    "shuffle = [x for x in range(len(data)) if x%2==1]\n",
    "even = [x for x in range(len(data)) if x%2==0]\n",
    "shuffle.extend(even)\n",
    "np.max(shuffle)"
   ]
  },
  {
   "cell_type": "markdown",
   "metadata": {},
   "source": [
    "Let's prepare our input data. "
   ]
  },
  {
   "cell_type": "code",
   "execution_count": null,
   "metadata": {},
   "outputs": [],
   "source": [
    "print(data[1047, 0])\n",
    "data = data[shuffle]"
   ]
  },
  {
   "cell_type": "code",
   "execution_count": null,
   "metadata": {},
   "outputs": [],
   "source": [
    "X = data[:, 0]\n",
    "y = data[:, 1:]\n",
    "X.shape, y.shape"
   ]
  },
  {
   "cell_type": "code",
   "execution_count": null,
   "metadata": {},
   "outputs": [],
   "source": [
    "split = 0.8\n",
    "ntrain = int(split * len(X))\n",
    "indx = [ntrain]\n",
    "X_train, X_test = np.split(X, indx)\n",
    "y_train, y_test = np.split(y, indx)"
   ]
  },
  {
   "cell_type": "code",
   "execution_count": null,
   "metadata": {},
   "outputs": [],
   "source": [
    "# scaler = StandardScaler()\n",
    "# # scaler = MinMaxScaler(feature_range=(-1,1))\n",
    "# # fit scaler on data\n",
    "# scaler.fit(X.reshape(-1,1))\n",
    "# # apply transform\n",
    "# X = scaler.transform(X.reshape(-1,1))\n",
    "# # X"
   ]
  },
  {
   "cell_type": "code",
   "execution_count": null,
   "metadata": {},
   "outputs": [],
   "source": [
    "def model(input_z):\n",
    "    efirst = Dense(100, activation='relu', input_shape=(1,))(input_z)\n",
    "    ehidden2 = Dense(100, activation='relu')(efirst)\n",
    "    ehidden3 = Dense(100, activation='relu')(ehidden2)\n",
    "    elast = Dense(2, activation='linear')(ehidden3)\n",
    "       \n",
    "    return elast"
   ]
  },
  {
   "cell_type": "code",
   "execution_count": null,
   "metadata": {},
   "outputs": [],
   "source": []
  },
  {
   "cell_type": "code",
   "execution_count": null,
   "metadata": {},
   "outputs": [],
   "source": [
    "batch_size = 32\n",
    "epochs = 100\n",
    "input_z = Input(shape = (1,))"
   ]
  },
  {
   "cell_type": "code",
   "execution_count": null,
   "metadata": {},
   "outputs": [],
   "source": [
    "snmodel = Model(input_z, model(input_z))\n",
    "snmodel.compile(loss='mean_squared_error', optimizer = 'adam')"
   ]
  },
  {
   "cell_type": "code",
   "execution_count": null,
   "metadata": {},
   "outputs": [],
   "source": [
    "snmodel.summary()"
   ]
  },
  {
   "cell_type": "code",
   "execution_count": null,
   "metadata": {},
   "outputs": [],
   "source": [
    "callbacks = [tf.keras.callbacks.EarlyStopping(monitor='val_loss', mode='min',\n",
    "                                   min_delta=0.001,\n",
    "                                   patience=10,\n",
    "                                   restore_best_weights=True)]"
   ]
  },
  {
   "cell_type": "code",
   "execution_count": null,
   "metadata": {},
   "outputs": [],
   "source": [
    "snmodel_train = snmodel.fit(X_train, y_train, batch_size=batch_size,epochs=epochs,verbose=1, \n",
    "                            validation_data=(X_test, y_test))"
   ]
  },
  {
   "cell_type": "code",
   "execution_count": null,
   "metadata": {},
   "outputs": [],
   "source": [
    "plt.plot(snmodel_train.history['loss'], color='r', )\n",
    "plt.plot(snmodel_train.history['val_loss'], color='g')\n",
    "# plt.title('model loss function')\n",
    "plt.ylabel('MSE')\n",
    "plt.xlabel('Epochs')\n",
    "plt.legend(['train', 'val'], loc='upper left')\n",
    "# plt.savefig(\"loss_sn.png\", dpi=200)"
   ]
  },
  {
   "cell_type": "code",
   "execution_count": null,
   "metadata": {},
   "outputs": [],
   "source": [
    "pred = snmodel.predict(X_test)\n",
    "pred.shape"
   ]
  },
  {
   "cell_type": "code",
   "execution_count": null,
   "metadata": {},
   "outputs": [],
   "source": [
    "pred"
   ]
  },
  {
   "cell_type": "code",
   "execution_count": null,
   "metadata": {},
   "outputs": [],
   "source": [
    "r = np.random.uniform(0, 2.3, size=1000)\n",
    "# rr = scaler.transform(r.reshape(-1,1))\n",
    "# X = scaler.inverse_transform(X)\n",
    "# X\n",
    "print(np.max(X), len(X), X[1047])"
   ]
  },
  {
   "cell_type": "code",
   "execution_count": null,
   "metadata": {},
   "outputs": [],
   "source": [
    "pred_random = snmodel.predict(r)\n",
    "# pred_random"
   ]
  },
  {
   "cell_type": "code",
   "execution_count": null,
   "metadata": {},
   "outputs": [],
   "source": [
    "plt.errorbar(X, y[:,0], y[:,1], fmt='g+', markersize=10, label='Observations', alpha=0.6)\n",
    "plt.errorbar(r, pred_random[:,0], pred_random[:,1], fmt='r*', markersize=3, label='Synthetic', alpha=0.05)\n",
    "plt.xlabel(\"Redshift z\")\n",
    "plt.ylabel(\"$D_L(z)$\")\n",
    "\n",
    "plt.xlim(0,2.3)\n",
    "plt.legend()\n",
    "# plt.savefig(\"syntheticSN.png\", dpi=300)"
   ]
  },
  {
   "cell_type": "code",
   "execution_count": null,
   "metadata": {},
   "outputs": [],
   "source": [
    "# Cosmological constants\n",
    "Om = 0.27"
   ]
  },
  {
   "cell_type": "code",
   "execution_count": null,
   "metadata": {},
   "outputs": [],
   "source": [
    "def Hlcdm(z, H0=73.24):\n",
    "    return H0 * np.sqrt(Om*(1+z)**3 + 1 - Om)"
   ]
  },
  {
   "cell_type": "code",
   "execution_count": null,
   "metadata": {},
   "outputs": [],
   "source": [
    "# z = np.linspace(0, 2.2, 1000)\n",
    "# # plt.scatter(data[:, 0], data[:, 1], c='g')\n",
    "# yupp = pred_random[:,0]+pred_random[:,1]\n",
    "# ylow = pred_random[:,0]-pred_random[:,1]\n",
    "# plt.errorbar(X, y[:,0], y[:,1], fmt='g.', markersize=10, label='Observations')\n",
    "# plt.errorbar(r, pred_random[:,0], pred_random[:,1], fmt='r.', markersize=1, label='Synthetic data with errors', alpha=0.01, )\n",
    "# plt.plot(z, Hlcdm(z), label='$\\Lambda CDM$ $H_0 = 73.24$', c='k')\n",
    "# plt.plot(z, Hlcdm(z, H0=64.4), label='$\\Lambda CDM$ $H_0 = 64.4$', c='b')\n",
    "# plt.xlabel(\"Redshift z\")\n",
    "# plt.ylabel(\"$H(z)$\")\n",
    "# plt.xlim(0,2.2)\n",
    "# plt.legend()\n",
    "\n",
    "# plt.savefig(\"SyntheticHD.png\",dpi=800)"
   ]
  },
  {
   "cell_type": "code",
   "execution_count": null,
   "metadata": {},
   "outputs": [],
   "source": [
    "# pred_random.shape, r.shape"
   ]
  },
  {
   "cell_type": "code",
   "execution_count": null,
   "metadata": {},
   "outputs": [],
   "source": [
    "# mookHz = np.concatenate((r.reshape(-1,1), pred_random), axis=1)\n",
    "# np.savetxt(\"autoEncoderHz.dat\",mookHz, delimiter=\" \")"
   ]
  },
  {
   "cell_type": "markdown",
   "metadata": {},
   "source": []
  }
 ],
 "metadata": {
  "kernelspec": {
   "display_name": "Python 3",
   "language": "python",
   "name": "python3"
  },
  "language_info": {
   "codemirror_mode": {
    "name": "ipython",
    "version": 3
   },
   "file_extension": ".py",
   "mimetype": "text/x-python",
   "name": "python",
   "nbconvert_exporter": "python",
   "pygments_lexer": "ipython3",
   "version": "3.6.9"
  }
 },
 "nbformat": 4,
 "nbformat_minor": 2
}
